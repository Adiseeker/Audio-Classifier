{
 "cells": [
  {
   "cell_type": "code",
   "execution_count": 1,
   "id": "3063bdf6-0b9c-4e6c-8c92-da17797d71b7",
   "metadata": {},
   "outputs": [],
   "source": [
    "import ollama\n",
    "import os\n",
    "import time\n",
    "from tqdm import tqdm\n",
    "from transformers import AutoTokenizer, AutoModel\n",
    "import torch\n",
    "import re\n",
    "from datetime import datetime\n",
    "import csv\n",
    "import os\n",
    "\n",
    "\n",
    "# Utility Functions\n",
    "def get_timestamp():\n",
    "    \"\"\"Get the current timestamp.\"\"\"\n",
    "    return datetime.now().strftime('%Y%m%d_%H%M%S')\n",
    "\n",
    "\n",
    "def create_output_folder(model_name):\n",
    "    \"\"\"\n",
    "    Creates a timestamped output folder for a given model name.\n",
    "    Replaces forbidden characters in the folder name.\n",
    "    \"\"\"\n",
    "    base_output_path = os.path.join(\"voiceapp\", \"output\")\n",
    "    summary_folder_path = os.path.join(base_output_path, \"summaries_folder\")\n",
    "    \n",
    "    os.makedirs(base_output_path, exist_ok=True)\n",
    "    os.makedirs(summary_folder_path, exist_ok=True)\n",
    "\n",
    "    # Sanitize the model name by replacing forbidden characters\n",
    "    safe_model_name = re.sub(r'[<>:\"/\\\\|?*]', '_', model_name)\n",
    "\n",
    "    timestamp = get_timestamp()\n",
    "    folder_name = f\"{safe_model_name}_{timestamp}\"\n",
    "\n",
    "    model_folder_path = os.path.join(summary_folder_path, folder_name)\n",
    "    os.makedirs(model_folder_path, exist_ok=True)\n",
    "\n",
    "    return summary_folder_path, model_folder_path\n",
    "\n",
    "\n",
    "def compute_similarity(text1, text2, tokenizer, model):\n",
    "    \"\"\"Compute cosine similarity between two text embeddings.\"\"\"\n",
    "    inputs1 = tokenizer(text1, return_tensors='pt', padding=True, truncation=True, max_length=512)\n",
    "    inputs2 = tokenizer(text2, return_tensors='pt', padding=True, truncation=True, max_length=512)\n",
    "\n",
    "    with torch.no_grad():\n",
    "        emb1 = model(**inputs1).last_hidden_state.mean(dim=1)\n",
    "        emb2 = model(**inputs2).last_hidden_state.mean(dim=1)\n",
    "\n",
    "    cosine_sim = torch.nn.functional.cosine_similarity(emb1, emb2)\n",
    "    return cosine_sim.item()\n",
    "\n",
    "\n",
    "def load_file_paths(file_path):\n",
    "    \"\"\"Load and clean file paths from a given list.\"\"\"\n",
    "    with open(file_path, 'r') as f:\n",
    "        return [line.strip() for line in f.readlines()]\n",
    "\n",
    "\n",
    "def chunk_text(text, chunk_size=1000):\n",
    "    \"\"\"Split text into smaller chunks to fit within LLM token limits.\"\"\"\n",
    "    words = text.split()\n",
    "    chunks = []\n",
    "    for i in range(0, len(words), chunk_size):\n",
    "        chunk = ' '.join(words[i:i + chunk_size])\n",
    "        chunks.append(chunk)\n",
    "    return chunks\n",
    "\n",
    "def generate_summaries_for_chunk(chunk, model_name, tokenizer, embed_model, output_folder):\n",
    "    \"\"\"Generate summary for a single chunk of text.\"\"\"\n",
    "    response = ollama.chat(\n",
    "        model=model_name,\n",
    "        messages=[{\n",
    "            \"role\": \"user\",\n",
    "            \"content\": f\"\"\"\n",
    "                ---\n",
    "                **\"You are a copywriter. Your task is to summarize the provided text according to the following framework:**\n",
    "                1. **Key Themes**: Identify and explain the main themes or topics discussed in the text.\n",
    "                2. **Impacts**: Assess the broader impacts, highlighting economic, technological, political, and social dimensions.\n",
    "                3. **Examples and Evidence**: Draw connections to real-world examples or supporting evidence that underline the key points.\n",
    "                4. **Opportunities and Risks**: Explore potential opportunities and risks suggested by the text.\n",
    "                5. **Conclusion**: Summarize the implications and suggest future considerations or actions that align with the insights presented in the text.\n",
    "                ---\n",
    "            \"{chunk}\" \"\"\"\n",
    "        }]\n",
    "    )\n",
    "    return extract_summary(response)\n",
    "\n",
    "def create_csv_file(csv_path):\n",
    "    \"\"\"Creates a CSV file if it does not exist and writes headers.\"\"\"\n",
    "    if not os.path.exists(csv_path):\n",
    "        with open(csv_path, 'w', newline='', encoding='utf-8') as csvfile:\n",
    "            fieldnames = ['summary_path', 'reference_path']\n",
    "            writer = csv.DictWriter(csvfile, fieldnames=fieldnames)\n",
    "            writer.writeheader()\n",
    "\n",
    "\n",
    "def is_record_in_csv(csv_path, summary_path, reference_path):\n",
    "    \"\"\"Checks if the record (summary_path, reference_path) already exists in the CSV.\"\"\"\n",
    "    if not os.path.exists(csv_path):\n",
    "        return False\n",
    "    \n",
    "    with open(csv_path, 'r', newline='', encoding='utf-8') as csvfile:\n",
    "        reader = csv.DictReader(csvfile)\n",
    "        for row in reader:\n",
    "            if row['summary_path'] == summary_path and row['reference_path'] == reference_path:\n",
    "                return True\n",
    "    return False\n",
    "\n",
    "\n",
    "def save_to_csv(csv_path, summary_path, reference_path):\n",
    "    \"\"\"Appends a record to the CSV file if it does not exist.\"\"\"\n",
    "    if not is_record_in_csv(csv_path, summary_path, reference_path):\n",
    "        with open(csv_path, 'a', newline='', encoding='utf-8') as csvfile:\n",
    "            fieldnames = ['summary_path', 'reference_path']\n",
    "            writer = csv.DictWriter(csvfile, fieldnames=fieldnames)\n",
    "            writer.writerow({'summary_path': summary_path, 'reference_path': reference_path})\n",
    "    else:\n",
    "        print(f\"Record already exists: {summary_path} -> {reference_path}\")\n",
    "\n",
    "def extract_summary(response):\n",
    "    \"\"\"Extract summary content from the model response.\"\"\"\n",
    "    if isinstance(response, list):\n",
    "        for message in response:\n",
    "            if 'content' in message:\n",
    "                return message['content']\n",
    "    elif isinstance(response, dict):\n",
    "        return response.get('message', {}).get('content', \"No content available\")\n",
    "    else:\n",
    "        return \"Error summarizing file\"\n",
    "\n",
    "def generate_summaries(file_path, model_name, tokenizer, embed_model, summary_folder, iterations=5, csv_path=None):\n",
    "    \"\"\"Generates summaries for a single file, saves each iteration and appends paths to CSV if not exist.\"\"\"\n",
    "    summaries = []\n",
    "    similarity_scores = []\n",
    "\n",
    "    with open(file_path, 'r', encoding='utf-8-sig') as f:\n",
    "        text = f.read()\n",
    "\n",
    "    # Chunk the text\n",
    "    chunks = chunk_text(text)\n",
    "\n",
    "    base_filename = os.path.basename(file_path).split('.txt')[0]\n",
    "\n",
    "    for chunk in chunks:\n",
    "        for i in range(1, iterations + 1):\n",
    "            summary = generate_summaries_for_chunk(chunk, model_name, tokenizer, embed_model, summary_folder)\n",
    "            summaries.append(summary)\n",
    "\n",
    "            # Compute similarity\n",
    "            similarity = compute_similarity(text, summary, tokenizer, embed_model)\n",
    "            similarity_scores.append(similarity)\n",
    "\n",
    "            summary_file_path = os.path.join(summary_folder, f\"{base_filename}-summary_{i}.txt\")\n",
    "            try:\n",
    "                with open(summary_file_path, 'w', encoding='utf-8') as f:\n",
    "                    f.write(summary)\n",
    "\n",
    "                # Save to CSV\n",
    "                if csv_path:\n",
    "                    save_to_csv(csv_path, summary_file_path, file_path)\n",
    "\n",
    "            except UnicodeEncodeError as e:\n",
    "                print(f\"Encoding error when writing summary {i} for file {file_path}: {e}\")\n",
    "\n",
    "    return summaries\n",
    "\n",
    "\n",
    "def process_files_for_model(model_name, file_paths, tokenizer, embed_model):\n",
    "    \"\"\"Processes all files for a given model and saves results to CSV.\"\"\"\n",
    "    # Create both the summaries folder and model folder with timestamp\n",
    "    summary_folder, model_folder = create_output_folder(model_name)\n",
    "\n",
    "    # Define the CSV path in the summaries folder (one level back)\n",
    "    csv_path = os.path.join(summary_folder, 'summaries_list.csv')\n",
    "\n",
    "    create_csv_file(csv_path)\n",
    "\n",
    "    pbar = tqdm(total=len(file_paths), desc=f\"Summarizing files for {model_name}\")\n",
    "\n",
    "    for file_path in file_paths:\n",
    "        file_path = file_path.replace('.mp3', '.txt').lstrip()\n",
    "\n",
    "        if os.path.exists(file_path):\n",
    "            start_time = time.time()\n",
    "            summaries = generate_summaries(file_path, model_name, tokenizer, embed_model, model_folder, csv_path=csv_path)\n",
    "\n",
    "            pbar.update(1)\n",
    "            pbar.set_postfix({\n",
    "                'file': os.path.basename(file_path),\n",
    "                'summaries_count': len(summaries),\n",
    "                'time': f\"{time.time() - start_time:.2f} seconds\"\n",
    "            })\n",
    "\n",
    "    pbar.close()\n",
    "\n"
   ]
  },
  {
   "cell_type": "code",
   "execution_count": 3,
   "id": "7e04ccb4-67d4-43d9-9d77-2e79d38b84f5",
   "metadata": {},
   "outputs": [
    {
     "name": "stderr",
     "output_type": "stream",
     "text": [
      "\n",
      "Summarizing files for mistral-small:   0%|                                | 0/97 [00:00<?, ?it/s]\u001b[A"
     ]
    },
    {
     "name": "stdout",
     "output_type": "stream",
     "text": [
      "Record already exists: voiceapp\\output\\summaries_folder\\mistral-small_20241221_024011\\CJG_01_2023_01_14-summary_1.txt -> C:/Users/G/Documents/GitHub/audycje.com.pl/content/audio\\CJG_01_2023_01_14.txt\n",
      "Record already exists: voiceapp\\output\\summaries_folder\\mistral-small_20241221_024011\\CJG_01_2023_01_14-summary_2.txt -> C:/Users/G/Documents/GitHub/audycje.com.pl/content/audio\\CJG_01_2023_01_14.txt\n",
      "Record already exists: voiceapp\\output\\summaries_folder\\mistral-small_20241221_024011\\CJG_01_2023_01_14-summary_3.txt -> C:/Users/G/Documents/GitHub/audycje.com.pl/content/audio\\CJG_01_2023_01_14.txt\n",
      "Record already exists: voiceapp\\output\\summaries_folder\\mistral-small_20241221_024011\\CJG_01_2023_01_14-summary_4.txt -> C:/Users/G/Documents/GitHub/audycje.com.pl/content/audio\\CJG_01_2023_01_14.txt\n",
      "Record already exists: voiceapp\\output\\summaries_folder\\mistral-small_20241221_024011\\CJG_01_2023_01_14-summary_5.txt -> C:/Users/G/Documents/GitHub/audycje.com.pl/content/audio\\CJG_01_2023_01_14.txt\n",
      "Record already exists: voiceapp\\output\\summaries_folder\\mistral-small_20241221_024011\\CJG_01_2023_01_14-summary_1.txt -> C:/Users/G/Documents/GitHub/audycje.com.pl/content/audio\\CJG_01_2023_01_14.txt\n",
      "Record already exists: voiceapp\\output\\summaries_folder\\mistral-small_20241221_024011\\CJG_01_2023_01_14-summary_2.txt -> C:/Users/G/Documents/GitHub/audycje.com.pl/content/audio\\CJG_01_2023_01_14.txt\n",
      "Record already exists: voiceapp\\output\\summaries_folder\\mistral-small_20241221_024011\\CJG_01_2023_01_14-summary_3.txt -> C:/Users/G/Documents/GitHub/audycje.com.pl/content/audio\\CJG_01_2023_01_14.txt\n",
      "Record already exists: voiceapp\\output\\summaries_folder\\mistral-small_20241221_024011\\CJG_01_2023_01_14-summary_4.txt -> C:/Users/G/Documents/GitHub/audycje.com.pl/content/audio\\CJG_01_2023_01_14.txt\n"
     ]
    },
    {
     "name": "stderr",
     "output_type": "stream",
     "text": [
      "\n",
      "Summarizing files for mistral-small:   1%|▏                    | 1/97 [03:53<6:12:51, 233.04s/it]\u001b[A\n",
      "Summarizing files for mistral-small:   1%| | 1/97 [03:53<6:12:51, 233.04s/it, file=CJG_01_2023_01\u001b[A"
     ]
    },
    {
     "name": "stdout",
     "output_type": "stream",
     "text": [
      "Record already exists: voiceapp\\output\\summaries_folder\\mistral-small_20241221_024011\\CJG_01_2023_01_14-summary_5.txt -> C:/Users/G/Documents/GitHub/audycje.com.pl/content/audio\\CJG_01_2023_01_14.txt\n",
      "Record already exists: voiceapp\\output\\summaries_folder\\mistral-small_20241221_024011\\CJG_02_2023_01_21-summary_1.txt -> C:/Users/G/Documents/GitHub/audycje.com.pl/content/audio\\CJG_02_2023_01_21.txt\n",
      "Record already exists: voiceapp\\output\\summaries_folder\\mistral-small_20241221_024011\\CJG_02_2023_01_21-summary_2.txt -> C:/Users/G/Documents/GitHub/audycje.com.pl/content/audio\\CJG_02_2023_01_21.txt\n",
      "Record already exists: voiceapp\\output\\summaries_folder\\mistral-small_20241221_024011\\CJG_02_2023_01_21-summary_3.txt -> C:/Users/G/Documents/GitHub/audycje.com.pl/content/audio\\CJG_02_2023_01_21.txt\n",
      "Record already exists: voiceapp\\output\\summaries_folder\\mistral-small_20241221_024011\\CJG_02_2023_01_21-summary_4.txt -> C:/Users/G/Documents/GitHub/audycje.com.pl/content/audio\\CJG_02_2023_01_21.txt\n"
     ]
    },
    {
     "name": "stderr",
     "output_type": "stream",
     "text": [
      "\n",
      "Summarizing files for mistral-small:   2%| | 2/97 [06:23<4:51:52, 184.34s/it, file=CJG_01_2023_01\u001b[A\n",
      "Summarizing files for mistral-small:   2%| | 2/97 [06:23<4:51:52, 184.34s/it, file=CJG_02_2023_01\u001b[A"
     ]
    },
    {
     "name": "stdout",
     "output_type": "stream",
     "text": [
      "Record already exists: voiceapp\\output\\summaries_folder\\mistral-small_20241221_024011\\CJG_02_2023_01_21-summary_5.txt -> C:/Users/G/Documents/GitHub/audycje.com.pl/content/audio\\CJG_02_2023_01_21.txt\n",
      "Record already exists: voiceapp\\output\\summaries_folder\\mistral-small_20241221_024011\\CJG_03_2023_01_28-summary_1.txt -> C:/Users/G/Documents/GitHub/audycje.com.pl/content/audio\\CJG_03_2023_01_28.txt\n",
      "Record already exists: voiceapp\\output\\summaries_folder\\mistral-small_20241221_024011\\CJG_03_2023_01_28-summary_2.txt -> C:/Users/G/Documents/GitHub/audycje.com.pl/content/audio\\CJG_03_2023_01_28.txt\n",
      "Record already exists: voiceapp\\output\\summaries_folder\\mistral-small_20241221_024011\\CJG_03_2023_01_28-summary_3.txt -> C:/Users/G/Documents/GitHub/audycje.com.pl/content/audio\\CJG_03_2023_01_28.txt\n",
      "Record already exists: voiceapp\\output\\summaries_folder\\mistral-small_20241221_024011\\CJG_03_2023_01_28-summary_4.txt -> C:/Users/G/Documents/GitHub/audycje.com.pl/content/audio\\CJG_03_2023_01_28.txt\n",
      "Record already exists: voiceapp\\output\\summaries_folder\\mistral-small_20241221_024011\\CJG_03_2023_01_28-summary_5.txt -> C:/Users/G/Documents/GitHub/audycje.com.pl/content/audio\\CJG_03_2023_01_28.txt\n",
      "Record already exists: voiceapp\\output\\summaries_folder\\mistral-small_20241221_024011\\CJG_03_2023_01_28-summary_1.txt -> C:/Users/G/Documents/GitHub/audycje.com.pl/content/audio\\CJG_03_2023_01_28.txt\n",
      "Record already exists: voiceapp\\output\\summaries_folder\\mistral-small_20241221_024011\\CJG_03_2023_01_28-summary_2.txt -> C:/Users/G/Documents/GitHub/audycje.com.pl/content/audio\\CJG_03_2023_01_28.txt\n",
      "Record already exists: voiceapp\\output\\summaries_folder\\mistral-small_20241221_024011\\CJG_03_2023_01_28-summary_3.txt -> C:/Users/G/Documents/GitHub/audycje.com.pl/content/audio\\CJG_03_2023_01_28.txt\n",
      "Record already exists: voiceapp\\output\\summaries_folder\\mistral-small_20241221_024011\\CJG_03_2023_01_28-summary_4.txt -> C:/Users/G/Documents/GitHub/audycje.com.pl/content/audio\\CJG_03_2023_01_28.txt\n"
     ]
    },
    {
     "name": "stderr",
     "output_type": "stream",
     "text": [
      "\n",
      "Summarizing files for mistral-small:   3%| | 3/97 [09:54<5:07:45, 196.44s/it, file=CJG_02_2023_01\u001b[A\n",
      "Summarizing files for mistral-small:   3%| | 3/97 [09:54<5:07:45, 196.44s/it, file=CJG_03_2023_01\u001b[A"
     ]
    },
    {
     "name": "stdout",
     "output_type": "stream",
     "text": [
      "Record already exists: voiceapp\\output\\summaries_folder\\mistral-small_20241221_024011\\CJG_03_2023_01_28-summary_5.txt -> C:/Users/G/Documents/GitHub/audycje.com.pl/content/audio\\CJG_03_2023_01_28.txt\n",
      "Record already exists: voiceapp\\output\\summaries_folder\\mistral-small_20241221_024011\\CJG_04_2023_02_04-summary_1.txt -> C:/Users/G/Documents/GitHub/audycje.com.pl/content/audio\\CJG_04_2023_02_04.txt\n",
      "Record already exists: voiceapp\\output\\summaries_folder\\mistral-small_20241221_024011\\CJG_04_2023_02_04-summary_2.txt -> C:/Users/G/Documents/GitHub/audycje.com.pl/content/audio\\CJG_04_2023_02_04.txt\n",
      "Record already exists: voiceapp\\output\\summaries_folder\\mistral-small_20241221_024011\\CJG_04_2023_02_04-summary_3.txt -> C:/Users/G/Documents/GitHub/audycje.com.pl/content/audio\\CJG_04_2023_02_04.txt\n",
      "Record already exists: voiceapp\\output\\summaries_folder\\mistral-small_20241221_024011\\CJG_04_2023_02_04-summary_4.txt -> C:/Users/G/Documents/GitHub/audycje.com.pl/content/audio\\CJG_04_2023_02_04.txt\n",
      "Record already exists: voiceapp\\output\\summaries_folder\\mistral-small_20241221_024011\\CJG_04_2023_02_04-summary_5.txt -> C:/Users/G/Documents/GitHub/audycje.com.pl/content/audio\\CJG_04_2023_02_04.txt\n",
      "Record already exists: voiceapp\\output\\summaries_folder\\mistral-small_20241221_024011\\CJG_04_2023_02_04-summary_1.txt -> C:/Users/G/Documents/GitHub/audycje.com.pl/content/audio\\CJG_04_2023_02_04.txt\n",
      "Record already exists: voiceapp\\output\\summaries_folder\\mistral-small_20241221_024011\\CJG_04_2023_02_04-summary_2.txt -> C:/Users/G/Documents/GitHub/audycje.com.pl/content/audio\\CJG_04_2023_02_04.txt\n",
      "Record already exists: voiceapp\\output\\summaries_folder\\mistral-small_20241221_024011\\CJG_04_2023_02_04-summary_3.txt -> C:/Users/G/Documents/GitHub/audycje.com.pl/content/audio\\CJG_04_2023_02_04.txt\n",
      "Record already exists: voiceapp\\output\\summaries_folder\\mistral-small_20241221_024011\\CJG_04_2023_02_04-summary_4.txt -> C:/Users/G/Documents/GitHub/audycje.com.pl/content/audio\\CJG_04_2023_02_04.txt\n"
     ]
    },
    {
     "name": "stderr",
     "output_type": "stream",
     "text": [
      "\n",
      "Summarizing files for mistral-small:   4%| | 4/97 [13:43<5:24:32, 209.38s/it, file=CJG_03_2023_01\u001b[A\n",
      "Summarizing files for mistral-small:   4%| | 4/97 [13:43<5:24:32, 209.38s/it, file=CJG_04_2023_02\u001b[A"
     ]
    },
    {
     "name": "stdout",
     "output_type": "stream",
     "text": [
      "Record already exists: voiceapp\\output\\summaries_folder\\mistral-small_20241221_024011\\CJG_04_2023_02_04-summary_5.txt -> C:/Users/G/Documents/GitHub/audycje.com.pl/content/audio\\CJG_04_2023_02_04.txt\n",
      "Record already exists: voiceapp\\output\\summaries_folder\\mistral-small_20241221_024011\\CJG_05_2023_02_11-summary_1.txt -> C:/Users/G/Documents/GitHub/audycje.com.pl/content/audio\\CJG_05_2023_02_11.txt\n",
      "Record already exists: voiceapp\\output\\summaries_folder\\mistral-small_20241221_024011\\CJG_05_2023_02_11-summary_2.txt -> C:/Users/G/Documents/GitHub/audycje.com.pl/content/audio\\CJG_05_2023_02_11.txt\n",
      "Record already exists: voiceapp\\output\\summaries_folder\\mistral-small_20241221_024011\\CJG_05_2023_02_11-summary_3.txt -> C:/Users/G/Documents/GitHub/audycje.com.pl/content/audio\\CJG_05_2023_02_11.txt\n",
      "Record already exists: voiceapp\\output\\summaries_folder\\mistral-small_20241221_024011\\CJG_05_2023_02_11-summary_4.txt -> C:/Users/G/Documents/GitHub/audycje.com.pl/content/audio\\CJG_05_2023_02_11.txt\n",
      "Record already exists: voiceapp\\output\\summaries_folder\\mistral-small_20241221_024011\\CJG_05_2023_02_11-summary_5.txt -> C:/Users/G/Documents/GitHub/audycje.com.pl/content/audio\\CJG_05_2023_02_11.txt\n",
      "Record already exists: voiceapp\\output\\summaries_folder\\mistral-small_20241221_024011\\CJG_05_2023_02_11-summary_1.txt -> C:/Users/G/Documents/GitHub/audycje.com.pl/content/audio\\CJG_05_2023_02_11.txt\n",
      "Record already exists: voiceapp\\output\\summaries_folder\\mistral-small_20241221_024011\\CJG_05_2023_02_11-summary_2.txt -> C:/Users/G/Documents/GitHub/audycje.com.pl/content/audio\\CJG_05_2023_02_11.txt\n",
      "Record already exists: voiceapp\\output\\summaries_folder\\mistral-small_20241221_024011\\CJG_05_2023_02_11-summary_3.txt -> C:/Users/G/Documents/GitHub/audycje.com.pl/content/audio\\CJG_05_2023_02_11.txt\n",
      "Record already exists: voiceapp\\output\\summaries_folder\\mistral-small_20241221_024011\\CJG_05_2023_02_11-summary_4.txt -> C:/Users/G/Documents/GitHub/audycje.com.pl/content/audio\\CJG_05_2023_02_11.txt\n"
     ]
    },
    {
     "name": "stderr",
     "output_type": "stream",
     "text": [
      "\n",
      "Summarizing files for mistral-small:   5%| | 5/97 [17:29<5:30:22, 215.47s/it, file=CJG_04_2023_02\u001b[A\n",
      "Summarizing files for mistral-small:   5%| | 5/97 [17:29<5:30:22, 215.47s/it, file=CJG_05_2023_02\u001b[A"
     ]
    },
    {
     "name": "stdout",
     "output_type": "stream",
     "text": [
      "Record already exists: voiceapp\\output\\summaries_folder\\mistral-small_20241221_024011\\CJG_05_2023_02_11-summary_5.txt -> C:/Users/G/Documents/GitHub/audycje.com.pl/content/audio\\CJG_05_2023_02_11.txt\n",
      "Record already exists: voiceapp\\output\\summaries_folder\\mistral-small_20241221_024011\\CJG_06_2023_02_18-summary_1.txt -> C:/Users/G/Documents/GitHub/audycje.com.pl/content/audio\\CJG_06_2023_02_18.txt\n",
      "Record already exists: voiceapp\\output\\summaries_folder\\mistral-small_20241221_024011\\CJG_06_2023_02_18-summary_2.txt -> C:/Users/G/Documents/GitHub/audycje.com.pl/content/audio\\CJG_06_2023_02_18.txt\n",
      "Record already exists: voiceapp\\output\\summaries_folder\\mistral-small_20241221_024011\\CJG_06_2023_02_18-summary_3.txt -> C:/Users/G/Documents/GitHub/audycje.com.pl/content/audio\\CJG_06_2023_02_18.txt\n",
      "Record already exists: voiceapp\\output\\summaries_folder\\mistral-small_20241221_024011\\CJG_06_2023_02_18-summary_4.txt -> C:/Users/G/Documents/GitHub/audycje.com.pl/content/audio\\CJG_06_2023_02_18.txt\n",
      "Record already exists: voiceapp\\output\\summaries_folder\\mistral-small_20241221_024011\\CJG_06_2023_02_18-summary_5.txt -> C:/Users/G/Documents/GitHub/audycje.com.pl/content/audio\\CJG_06_2023_02_18.txt\n",
      "Record already exists: voiceapp\\output\\summaries_folder\\mistral-small_20241221_024011\\CJG_06_2023_02_18-summary_1.txt -> C:/Users/G/Documents/GitHub/audycje.com.pl/content/audio\\CJG_06_2023_02_18.txt\n",
      "Record already exists: voiceapp\\output\\summaries_folder\\mistral-small_20241221_024011\\CJG_06_2023_02_18-summary_2.txt -> C:/Users/G/Documents/GitHub/audycje.com.pl/content/audio\\CJG_06_2023_02_18.txt\n",
      "Record already exists: voiceapp\\output\\summaries_folder\\mistral-small_20241221_024011\\CJG_06_2023_02_18-summary_3.txt -> C:/Users/G/Documents/GitHub/audycje.com.pl/content/audio\\CJG_06_2023_02_18.txt\n",
      "Record already exists: voiceapp\\output\\summaries_folder\\mistral-small_20241221_024011\\CJG_06_2023_02_18-summary_4.txt -> C:/Users/G/Documents/GitHub/audycje.com.pl/content/audio\\CJG_06_2023_02_18.txt\n"
     ]
    },
    {
     "name": "stderr",
     "output_type": "stream",
     "text": [
      "\n",
      "Summarizing files for mistral-small:   6%| | 6/97 [21:17<5:32:59, 219.56s/it, file=CJG_05_2023_02\u001b[A\n",
      "Summarizing files for mistral-small:   6%| | 6/97 [21:17<5:32:59, 219.56s/it, file=CJG_06_2023_02\u001b[A"
     ]
    },
    {
     "name": "stdout",
     "output_type": "stream",
     "text": [
      "Record already exists: voiceapp\\output\\summaries_folder\\mistral-small_20241221_024011\\CJG_06_2023_02_18-summary_5.txt -> C:/Users/G/Documents/GitHub/audycje.com.pl/content/audio\\CJG_06_2023_02_18.txt\n",
      "Record already exists: voiceapp\\output\\summaries_folder\\mistral-small_20241221_024011\\CJG_07_2023_02_25-summary_1.txt -> C:/Users/G/Documents/GitHub/audycje.com.pl/content/audio\\CJG_07_2023_02_25.txt\n",
      "Record already exists: voiceapp\\output\\summaries_folder\\mistral-small_20241221_024011\\CJG_07_2023_02_25-summary_2.txt -> C:/Users/G/Documents/GitHub/audycje.com.pl/content/audio\\CJG_07_2023_02_25.txt\n",
      "Record already exists: voiceapp\\output\\summaries_folder\\mistral-small_20241221_024011\\CJG_07_2023_02_25-summary_3.txt -> C:/Users/G/Documents/GitHub/audycje.com.pl/content/audio\\CJG_07_2023_02_25.txt\n",
      "Record already exists: voiceapp\\output\\summaries_folder\\mistral-small_20241221_024011\\CJG_07_2023_02_25-summary_4.txt -> C:/Users/G/Documents/GitHub/audycje.com.pl/content/audio\\CJG_07_2023_02_25.txt\n",
      "Record already exists: voiceapp\\output\\summaries_folder\\mistral-small_20241221_024011\\CJG_07_2023_02_25-summary_5.txt -> C:/Users/G/Documents/GitHub/audycje.com.pl/content/audio\\CJG_07_2023_02_25.txt\n",
      "Record already exists: voiceapp\\output\\summaries_folder\\mistral-small_20241221_024011\\CJG_07_2023_02_25-summary_1.txt -> C:/Users/G/Documents/GitHub/audycje.com.pl/content/audio\\CJG_07_2023_02_25.txt\n",
      "Record already exists: voiceapp\\output\\summaries_folder\\mistral-small_20241221_024011\\CJG_07_2023_02_25-summary_2.txt -> C:/Users/G/Documents/GitHub/audycje.com.pl/content/audio\\CJG_07_2023_02_25.txt\n",
      "Record already exists: voiceapp\\output\\summaries_folder\\mistral-small_20241221_024011\\CJG_07_2023_02_25-summary_3.txt -> C:/Users/G/Documents/GitHub/audycje.com.pl/content/audio\\CJG_07_2023_02_25.txt\n",
      "Record already exists: voiceapp\\output\\summaries_folder\\mistral-small_20241221_024011\\CJG_07_2023_02_25-summary_4.txt -> C:/Users/G/Documents/GitHub/audycje.com.pl/content/audio\\CJG_07_2023_02_25.txt\n",
      "Record already exists: voiceapp\\output\\summaries_folder\\mistral-small_20241221_024011\\CJG_07_2023_02_25-summary_5.txt -> C:/Users/G/Documents/GitHub/audycje.com.pl/content/audio\\CJG_07_2023_02_25.txt\n",
      "Record already exists: voiceapp\\output\\summaries_folder\\mistral-small_20241221_024011\\CJG_07_2023_02_25-summary_1.txt -> C:/Users/G/Documents/GitHub/audycje.com.pl/content/audio\\CJG_07_2023_02_25.txt\n",
      "Record already exists: voiceapp\\output\\summaries_folder\\mistral-small_20241221_024011\\CJG_07_2023_02_25-summary_2.txt -> C:/Users/G/Documents/GitHub/audycje.com.pl/content/audio\\CJG_07_2023_02_25.txt\n",
      "Record already exists: voiceapp\\output\\summaries_folder\\mistral-small_20241221_024011\\CJG_07_2023_02_25-summary_3.txt -> C:/Users/G/Documents/GitHub/audycje.com.pl/content/audio\\CJG_07_2023_02_25.txt\n",
      "Record already exists: voiceapp\\output\\summaries_folder\\mistral-small_20241221_024011\\CJG_07_2023_02_25-summary_4.txt -> C:/Users/G/Documents/GitHub/audycje.com.pl/content/audio\\CJG_07_2023_02_25.txt\n"
     ]
    },
    {
     "name": "stderr",
     "output_type": "stream",
     "text": [
      "\n",
      "Summarizing files for mistral-small:   7%| | 7/97 [26:13<6:06:51, 244.57s/it, file=CJG_06_2023_02\u001b[A\n",
      "Summarizing files for mistral-small:   7%| | 7/97 [26:13<6:06:51, 244.57s/it, file=CJG_07_2023_02\u001b[A"
     ]
    },
    {
     "name": "stdout",
     "output_type": "stream",
     "text": [
      "Record already exists: voiceapp\\output\\summaries_folder\\mistral-small_20241221_024011\\CJG_07_2023_02_25-summary_5.txt -> C:/Users/G/Documents/GitHub/audycje.com.pl/content/audio\\CJG_07_2023_02_25.txt\n",
      "Record already exists: voiceapp\\output\\summaries_folder\\mistral-small_20241221_024011\\CJG_08_2023_03_04-summary_1.txt -> C:/Users/G/Documents/GitHub/audycje.com.pl/content/audio\\CJG_08_2023_03_04.txt\n",
      "Record already exists: voiceapp\\output\\summaries_folder\\mistral-small_20241221_024011\\CJG_08_2023_03_04-summary_2.txt -> C:/Users/G/Documents/GitHub/audycje.com.pl/content/audio\\CJG_08_2023_03_04.txt\n",
      "Record already exists: voiceapp\\output\\summaries_folder\\mistral-small_20241221_024011\\CJG_08_2023_03_04-summary_3.txt -> C:/Users/G/Documents/GitHub/audycje.com.pl/content/audio\\CJG_08_2023_03_04.txt\n",
      "Record already exists: voiceapp\\output\\summaries_folder\\mistral-small_20241221_024011\\CJG_08_2023_03_04-summary_4.txt -> C:/Users/G/Documents/GitHub/audycje.com.pl/content/audio\\CJG_08_2023_03_04.txt\n",
      "Record already exists: voiceapp\\output\\summaries_folder\\mistral-small_20241221_024011\\CJG_08_2023_03_04-summary_5.txt -> C:/Users/G/Documents/GitHub/audycje.com.pl/content/audio\\CJG_08_2023_03_04.txt\n",
      "Record already exists: voiceapp\\output\\summaries_folder\\mistral-small_20241221_024011\\CJG_08_2023_03_04-summary_1.txt -> C:/Users/G/Documents/GitHub/audycje.com.pl/content/audio\\CJG_08_2023_03_04.txt\n",
      "Record already exists: voiceapp\\output\\summaries_folder\\mistral-small_20241221_024011\\CJG_08_2023_03_04-summary_2.txt -> C:/Users/G/Documents/GitHub/audycje.com.pl/content/audio\\CJG_08_2023_03_04.txt\n",
      "Record already exists: voiceapp\\output\\summaries_folder\\mistral-small_20241221_024011\\CJG_08_2023_03_04-summary_3.txt -> C:/Users/G/Documents/GitHub/audycje.com.pl/content/audio\\CJG_08_2023_03_04.txt\n",
      "Record already exists: voiceapp\\output\\summaries_folder\\mistral-small_20241221_024011\\CJG_08_2023_03_04-summary_4.txt -> C:/Users/G/Documents/GitHub/audycje.com.pl/content/audio\\CJG_08_2023_03_04.txt\n"
     ]
    },
    {
     "name": "stderr",
     "output_type": "stream",
     "text": [
      "\n",
      "Summarizing files for mistral-small:   8%| | 8/97 [29:59<5:54:03, 238.69s/it, file=CJG_07_2023_02\u001b[A\n",
      "Summarizing files for mistral-small:   8%| | 8/97 [29:59<5:54:03, 238.69s/it, file=CJG_08_2023_03\u001b[A"
     ]
    },
    {
     "name": "stdout",
     "output_type": "stream",
     "text": [
      "Record already exists: voiceapp\\output\\summaries_folder\\mistral-small_20241221_024011\\CJG_08_2023_03_04-summary_5.txt -> C:/Users/G/Documents/GitHub/audycje.com.pl/content/audio\\CJG_08_2023_03_04.txt\n",
      "Record already exists: voiceapp\\output\\summaries_folder\\mistral-small_20241221_024011\\CJG_09_2023_03_11-summary_1.txt -> C:/Users/G/Documents/GitHub/audycje.com.pl/content/audio\\CJG_09_2023_03_11.txt\n",
      "Record already exists: voiceapp\\output\\summaries_folder\\mistral-small_20241221_024011\\CJG_09_2023_03_11-summary_2.txt -> C:/Users/G/Documents/GitHub/audycje.com.pl/content/audio\\CJG_09_2023_03_11.txt\n",
      "Record already exists: voiceapp\\output\\summaries_folder\\mistral-small_20241221_024011\\CJG_09_2023_03_11-summary_3.txt -> C:/Users/G/Documents/GitHub/audycje.com.pl/content/audio\\CJG_09_2023_03_11.txt\n",
      "Record already exists: voiceapp\\output\\summaries_folder\\mistral-small_20241221_024011\\CJG_09_2023_03_11-summary_4.txt -> C:/Users/G/Documents/GitHub/audycje.com.pl/content/audio\\CJG_09_2023_03_11.txt\n",
      "Record already exists: voiceapp\\output\\summaries_folder\\mistral-small_20241221_024011\\CJG_09_2023_03_11-summary_5.txt -> C:/Users/G/Documents/GitHub/audycje.com.pl/content/audio\\CJG_09_2023_03_11.txt\n",
      "Record already exists: voiceapp\\output\\summaries_folder\\mistral-small_20241221_024011\\CJG_09_2023_03_11-summary_1.txt -> C:/Users/G/Documents/GitHub/audycje.com.pl/content/audio\\CJG_09_2023_03_11.txt\n",
      "Record already exists: voiceapp\\output\\summaries_folder\\mistral-small_20241221_024011\\CJG_09_2023_03_11-summary_2.txt -> C:/Users/G/Documents/GitHub/audycje.com.pl/content/audio\\CJG_09_2023_03_11.txt\n",
      "Record already exists: voiceapp\\output\\summaries_folder\\mistral-small_20241221_024011\\CJG_09_2023_03_11-summary_3.txt -> C:/Users/G/Documents/GitHub/audycje.com.pl/content/audio\\CJG_09_2023_03_11.txt\n",
      "Record already exists: voiceapp\\output\\summaries_folder\\mistral-small_20241221_024011\\CJG_09_2023_03_11-summary_4.txt -> C:/Users/G/Documents/GitHub/audycje.com.pl/content/audio\\CJG_09_2023_03_11.txt\n"
     ]
    },
    {
     "name": "stderr",
     "output_type": "stream",
     "text": [
      "\n",
      "Summarizing files for mistral-small:   9%| | 9/97 [33:47<5:45:08, 235.32s/it, file=CJG_08_2023_03\u001b[A\n",
      "Summarizing files for mistral-small:   9%| | 9/97 [33:47<5:45:08, 235.32s/it, file=CJG_09_2023_03\u001b[A"
     ]
    },
    {
     "name": "stdout",
     "output_type": "stream",
     "text": [
      "Record already exists: voiceapp\\output\\summaries_folder\\mistral-small_20241221_024011\\CJG_09_2023_03_11-summary_5.txt -> C:/Users/G/Documents/GitHub/audycje.com.pl/content/audio\\CJG_09_2023_03_11.txt\n",
      "Record already exists: voiceapp\\output\\summaries_folder\\mistral-small_20241221_024011\\CJG_10_2023_03_18-summary_1.txt -> C:/Users/G/Documents/GitHub/audycje.com.pl/content/audio\\CJG_10_2023_03_18.txt\n",
      "Record already exists: voiceapp\\output\\summaries_folder\\mistral-small_20241221_024011\\CJG_10_2023_03_18-summary_2.txt -> C:/Users/G/Documents/GitHub/audycje.com.pl/content/audio\\CJG_10_2023_03_18.txt\n",
      "Record already exists: voiceapp\\output\\summaries_folder\\mistral-small_20241221_024011\\CJG_10_2023_03_18-summary_3.txt -> C:/Users/G/Documents/GitHub/audycje.com.pl/content/audio\\CJG_10_2023_03_18.txt\n",
      "Record already exists: voiceapp\\output\\summaries_folder\\mistral-small_20241221_024011\\CJG_10_2023_03_18-summary_4.txt -> C:/Users/G/Documents/GitHub/audycje.com.pl/content/audio\\CJG_10_2023_03_18.txt\n",
      "Record already exists: voiceapp\\output\\summaries_folder\\mistral-small_20241221_024011\\CJG_10_2023_03_18-summary_5.txt -> C:/Users/G/Documents/GitHub/audycje.com.pl/content/audio\\CJG_10_2023_03_18.txt\n",
      "Record already exists: voiceapp\\output\\summaries_folder\\mistral-small_20241221_024011\\CJG_10_2023_03_18-summary_1.txt -> C:/Users/G/Documents/GitHub/audycje.com.pl/content/audio\\CJG_10_2023_03_18.txt\n",
      "Record already exists: voiceapp\\output\\summaries_folder\\mistral-small_20241221_024011\\CJG_10_2023_03_18-summary_2.txt -> C:/Users/G/Documents/GitHub/audycje.com.pl/content/audio\\CJG_10_2023_03_18.txt\n",
      "Record already exists: voiceapp\\output\\summaries_folder\\mistral-small_20241221_024011\\CJG_10_2023_03_18-summary_3.txt -> C:/Users/G/Documents/GitHub/audycje.com.pl/content/audio\\CJG_10_2023_03_18.txt\n",
      "Record already exists: voiceapp\\output\\summaries_folder\\mistral-small_20241221_024011\\CJG_10_2023_03_18-summary_4.txt -> C:/Users/G/Documents/GitHub/audycje.com.pl/content/audio\\CJG_10_2023_03_18.txt\n",
      "Record already exists: voiceapp\\output\\summaries_folder\\mistral-small_20241221_024011\\CJG_10_2023_03_18-summary_5.txt -> C:/Users/G/Documents/GitHub/audycje.com.pl/content/audio\\CJG_10_2023_03_18.txt\n",
      "Record already exists: voiceapp\\output\\summaries_folder\\mistral-small_20241221_024011\\CJG_10_2023_03_18-summary_1.txt -> C:/Users/G/Documents/GitHub/audycje.com.pl/content/audio\\CJG_10_2023_03_18.txt\n",
      "Record already exists: voiceapp\\output\\summaries_folder\\mistral-small_20241221_024011\\CJG_10_2023_03_18-summary_2.txt -> C:/Users/G/Documents/GitHub/audycje.com.pl/content/audio\\CJG_10_2023_03_18.txt\n",
      "Record already exists: voiceapp\\output\\summaries_folder\\mistral-small_20241221_024011\\CJG_10_2023_03_18-summary_3.txt -> C:/Users/G/Documents/GitHub/audycje.com.pl/content/audio\\CJG_10_2023_03_18.txt\n",
      "Record already exists: voiceapp\\output\\summaries_folder\\mistral-small_20241221_024011\\CJG_10_2023_03_18-summary_4.txt -> C:/Users/G/Documents/GitHub/audycje.com.pl/content/audio\\CJG_10_2023_03_18.txt\n"
     ]
    },
    {
     "name": "stderr",
     "output_type": "stream",
     "text": [
      "\n",
      "Summarizing files for mistral-small:  10%| | 10/97 [38:38<6:06:12, 252.56s/it, file=CJG_09_2023_0\u001b[A\n",
      "Summarizing files for mistral-small:  10%| | 10/97 [38:38<6:06:12, 252.56s/it, file=CJG_10_2023_0\u001b[A"
     ]
    },
    {
     "name": "stdout",
     "output_type": "stream",
     "text": [
      "Record already exists: voiceapp\\output\\summaries_folder\\mistral-small_20241221_024011\\CJG_10_2023_03_18-summary_5.txt -> C:/Users/G/Documents/GitHub/audycje.com.pl/content/audio\\CJG_10_2023_03_18.txt\n",
      "Record already exists: voiceapp\\output\\summaries_folder\\mistral-small_20241221_024011\\CJG_11_2023_03_25-summary_1.txt -> C:/Users/G/Documents/GitHub/audycje.com.pl/content/audio\\CJG_11_2023_03_25.txt\n",
      "Record already exists: voiceapp\\output\\summaries_folder\\mistral-small_20241221_024011\\CJG_11_2023_03_25-summary_2.txt -> C:/Users/G/Documents/GitHub/audycje.com.pl/content/audio\\CJG_11_2023_03_25.txt\n",
      "Record already exists: voiceapp\\output\\summaries_folder\\mistral-small_20241221_024011\\CJG_11_2023_03_25-summary_3.txt -> C:/Users/G/Documents/GitHub/audycje.com.pl/content/audio\\CJG_11_2023_03_25.txt\n",
      "Record already exists: voiceapp\\output\\summaries_folder\\mistral-small_20241221_024011\\CJG_11_2023_03_25-summary_4.txt -> C:/Users/G/Documents/GitHub/audycje.com.pl/content/audio\\CJG_11_2023_03_25.txt\n",
      "Record already exists: voiceapp\\output\\summaries_folder\\mistral-small_20241221_024011\\CJG_11_2023_03_25-summary_5.txt -> C:/Users/G/Documents/GitHub/audycje.com.pl/content/audio\\CJG_11_2023_03_25.txt\n",
      "Record already exists: voiceapp\\output\\summaries_folder\\mistral-small_20241221_024011\\CJG_11_2023_03_25-summary_1.txt -> C:/Users/G/Documents/GitHub/audycje.com.pl/content/audio\\CJG_11_2023_03_25.txt\n",
      "Record already exists: voiceapp\\output\\summaries_folder\\mistral-small_20241221_024011\\CJG_11_2023_03_25-summary_2.txt -> C:/Users/G/Documents/GitHub/audycje.com.pl/content/audio\\CJG_11_2023_03_25.txt\n",
      "Record already exists: voiceapp\\output\\summaries_folder\\mistral-small_20241221_024011\\CJG_11_2023_03_25-summary_3.txt -> C:/Users/G/Documents/GitHub/audycje.com.pl/content/audio\\CJG_11_2023_03_25.txt\n",
      "Record already exists: voiceapp\\output\\summaries_folder\\mistral-small_20241221_024011\\CJG_11_2023_03_25-summary_4.txt -> C:/Users/G/Documents/GitHub/audycje.com.pl/content/audio\\CJG_11_2023_03_25.txt\n",
      "Record already exists: voiceapp\\output\\summaries_folder\\mistral-small_20241221_024011\\CJG_11_2023_03_25-summary_5.txt -> C:/Users/G/Documents/GitHub/audycje.com.pl/content/audio\\CJG_11_2023_03_25.txt\n",
      "Record already exists: voiceapp\\output\\summaries_folder\\mistral-small_20241221_024011\\CJG_11_2023_03_25-summary_1.txt -> C:/Users/G/Documents/GitHub/audycje.com.pl/content/audio\\CJG_11_2023_03_25.txt\n",
      "Record already exists: voiceapp\\output\\summaries_folder\\mistral-small_20241221_024011\\CJG_11_2023_03_25-summary_2.txt -> C:/Users/G/Documents/GitHub/audycje.com.pl/content/audio\\CJG_11_2023_03_25.txt\n",
      "Record already exists: voiceapp\\output\\summaries_folder\\mistral-small_20241221_024011\\CJG_11_2023_03_25-summary_3.txt -> C:/Users/G/Documents/GitHub/audycje.com.pl/content/audio\\CJG_11_2023_03_25.txt\n",
      "Record already exists: voiceapp\\output\\summaries_folder\\mistral-small_20241221_024011\\CJG_11_2023_03_25-summary_4.txt -> C:/Users/G/Documents/GitHub/audycje.com.pl/content/audio\\CJG_11_2023_03_25.txt\n"
     ]
    },
    {
     "name": "stderr",
     "output_type": "stream",
     "text": [
      "\n",
      "Summarizing files for mistral-small:  11%| | 11/97 [43:40<6:23:48, 267.77s/it, file=CJG_10_2023_0\u001b[A\n",
      "Summarizing files for mistral-small:  11%| | 11/97 [43:40<6:23:48, 267.77s/it, file=CJG_11_2023_0\u001b[A"
     ]
    },
    {
     "name": "stdout",
     "output_type": "stream",
     "text": [
      "Record already exists: voiceapp\\output\\summaries_folder\\mistral-small_20241221_024011\\CJG_11_2023_03_25-summary_5.txt -> C:/Users/G/Documents/GitHub/audycje.com.pl/content/audio\\CJG_11_2023_03_25.txt\n",
      "Record already exists: voiceapp\\output\\summaries_folder\\mistral-small_20241221_024011\\CJG_12_2023_04_01-summary_1.txt -> C:/Users/G/Documents/GitHub/audycje.com.pl/content/audio\\CJG_12_2023_04_01.txt\n",
      "Record already exists: voiceapp\\output\\summaries_folder\\mistral-small_20241221_024011\\CJG_12_2023_04_01-summary_2.txt -> C:/Users/G/Documents/GitHub/audycje.com.pl/content/audio\\CJG_12_2023_04_01.txt\n",
      "Record already exists: voiceapp\\output\\summaries_folder\\mistral-small_20241221_024011\\CJG_12_2023_04_01-summary_3.txt -> C:/Users/G/Documents/GitHub/audycje.com.pl/content/audio\\CJG_12_2023_04_01.txt\n",
      "Record already exists: voiceapp\\output\\summaries_folder\\mistral-small_20241221_024011\\CJG_12_2023_04_01-summary_4.txt -> C:/Users/G/Documents/GitHub/audycje.com.pl/content/audio\\CJG_12_2023_04_01.txt\n",
      "Record already exists: voiceapp\\output\\summaries_folder\\mistral-small_20241221_024011\\CJG_12_2023_04_01-summary_5.txt -> C:/Users/G/Documents/GitHub/audycje.com.pl/content/audio\\CJG_12_2023_04_01.txt\n",
      "Record already exists: voiceapp\\output\\summaries_folder\\mistral-small_20241221_024011\\CJG_12_2023_04_01-summary_1.txt -> C:/Users/G/Documents/GitHub/audycje.com.pl/content/audio\\CJG_12_2023_04_01.txt\n",
      "Record already exists: voiceapp\\output\\summaries_folder\\mistral-small_20241221_024011\\CJG_12_2023_04_01-summary_2.txt -> C:/Users/G/Documents/GitHub/audycje.com.pl/content/audio\\CJG_12_2023_04_01.txt\n",
      "Record already exists: voiceapp\\output\\summaries_folder\\mistral-small_20241221_024011\\CJG_12_2023_04_01-summary_3.txt -> C:/Users/G/Documents/GitHub/audycje.com.pl/content/audio\\CJG_12_2023_04_01.txt\n",
      "Record already exists: voiceapp\\output\\summaries_folder\\mistral-small_20241221_024011\\CJG_12_2023_04_01-summary_4.txt -> C:/Users/G/Documents/GitHub/audycje.com.pl/content/audio\\CJG_12_2023_04_01.txt\n",
      "Record already exists: voiceapp\\output\\summaries_folder\\mistral-small_20241221_024011\\CJG_12_2023_04_01-summary_5.txt -> C:/Users/G/Documents/GitHub/audycje.com.pl/content/audio\\CJG_12_2023_04_01.txt\n",
      "Record already exists: voiceapp\\output\\summaries_folder\\mistral-small_20241221_024011\\CJG_12_2023_04_01-summary_1.txt -> C:/Users/G/Documents/GitHub/audycje.com.pl/content/audio\\CJG_12_2023_04_01.txt\n",
      "Record already exists: voiceapp\\output\\summaries_folder\\mistral-small_20241221_024011\\CJG_12_2023_04_01-summary_2.txt -> C:/Users/G/Documents/GitHub/audycje.com.pl/content/audio\\CJG_12_2023_04_01.txt\n",
      "Record already exists: voiceapp\\output\\summaries_folder\\mistral-small_20241221_024011\\CJG_12_2023_04_01-summary_3.txt -> C:/Users/G/Documents/GitHub/audycje.com.pl/content/audio\\CJG_12_2023_04_01.txt\n",
      "Record already exists: voiceapp\\output\\summaries_folder\\mistral-small_20241221_024011\\CJG_12_2023_04_01-summary_4.txt -> C:/Users/G/Documents/GitHub/audycje.com.pl/content/audio\\CJG_12_2023_04_01.txt\n"
     ]
    },
    {
     "name": "stderr",
     "output_type": "stream",
     "text": [
      "\n",
      "Summarizing files for mistral-small:  12%| | 12/97 [48:38<6:32:18, 276.92s/it, file=CJG_11_2023_0\u001b[A\n",
      "Summarizing files for mistral-small:  12%| | 12/97 [48:38<6:32:18, 276.92s/it, file=CJG_12_2023_0\u001b[A"
     ]
    },
    {
     "name": "stdout",
     "output_type": "stream",
     "text": [
      "Record already exists: voiceapp\\output\\summaries_folder\\mistral-small_20241221_024011\\CJG_12_2023_04_01-summary_5.txt -> C:/Users/G/Documents/GitHub/audycje.com.pl/content/audio\\CJG_12_2023_04_01.txt\n",
      "Record already exists: voiceapp\\output\\summaries_folder\\mistral-small_20241221_024011\\CJG_13_2023_04_08-summary_1.txt -> C:/Users/G/Documents/GitHub/audycje.com.pl/content/audio\\CJG_13_2023_04_08.txt\n",
      "Record already exists: voiceapp\\output\\summaries_folder\\mistral-small_20241221_024011\\CJG_13_2023_04_08-summary_2.txt -> C:/Users/G/Documents/GitHub/audycje.com.pl/content/audio\\CJG_13_2023_04_08.txt\n",
      "Record already exists: voiceapp\\output\\summaries_folder\\mistral-small_20241221_024011\\CJG_13_2023_04_08-summary_3.txt -> C:/Users/G/Documents/GitHub/audycje.com.pl/content/audio\\CJG_13_2023_04_08.txt\n",
      "Record already exists: voiceapp\\output\\summaries_folder\\mistral-small_20241221_024011\\CJG_13_2023_04_08-summary_4.txt -> C:/Users/G/Documents/GitHub/audycje.com.pl/content/audio\\CJG_13_2023_04_08.txt\n",
      "Record already exists: voiceapp\\output\\summaries_folder\\mistral-small_20241221_024011\\CJG_13_2023_04_08-summary_5.txt -> C:/Users/G/Documents/GitHub/audycje.com.pl/content/audio\\CJG_13_2023_04_08.txt\n",
      "Record already exists: voiceapp\\output\\summaries_folder\\mistral-small_20241221_024011\\CJG_13_2023_04_08-summary_1.txt -> C:/Users/G/Documents/GitHub/audycje.com.pl/content/audio\\CJG_13_2023_04_08.txt\n",
      "Record already exists: voiceapp\\output\\summaries_folder\\mistral-small_20241221_024011\\CJG_13_2023_04_08-summary_2.txt -> C:/Users/G/Documents/GitHub/audycje.com.pl/content/audio\\CJG_13_2023_04_08.txt\n",
      "Record already exists: voiceapp\\output\\summaries_folder\\mistral-small_20241221_024011\\CJG_13_2023_04_08-summary_3.txt -> C:/Users/G/Documents/GitHub/audycje.com.pl/content/audio\\CJG_13_2023_04_08.txt\n",
      "Record already exists: voiceapp\\output\\summaries_folder\\mistral-small_20241221_024011\\CJG_13_2023_04_08-summary_4.txt -> C:/Users/G/Documents/GitHub/audycje.com.pl/content/audio\\CJG_13_2023_04_08.txt\n",
      "Record already exists: voiceapp\\output\\summaries_folder\\mistral-small_20241221_024011\\CJG_13_2023_04_08-summary_5.txt -> C:/Users/G/Documents/GitHub/audycje.com.pl/content/audio\\CJG_13_2023_04_08.txt\n",
      "Record already exists: voiceapp\\output\\summaries_folder\\mistral-small_20241221_024011\\CJG_13_2023_04_08-summary_1.txt -> C:/Users/G/Documents/GitHub/audycje.com.pl/content/audio\\CJG_13_2023_04_08.txt\n",
      "Record already exists: voiceapp\\output\\summaries_folder\\mistral-small_20241221_024011\\CJG_13_2023_04_08-summary_2.txt -> C:/Users/G/Documents/GitHub/audycje.com.pl/content/audio\\CJG_13_2023_04_08.txt\n",
      "Record already exists: voiceapp\\output\\summaries_folder\\mistral-small_20241221_024011\\CJG_13_2023_04_08-summary_3.txt -> C:/Users/G/Documents/GitHub/audycje.com.pl/content/audio\\CJG_13_2023_04_08.txt\n",
      "Record already exists: voiceapp\\output\\summaries_folder\\mistral-small_20241221_024011\\CJG_13_2023_04_08-summary_4.txt -> C:/Users/G/Documents/GitHub/audycje.com.pl/content/audio\\CJG_13_2023_04_08.txt\n"
     ]
    },
    {
     "name": "stderr",
     "output_type": "stream",
     "text": [
      "\n",
      "Summarizing files for mistral-small:  13%|▏| 13/97 [53:50<6:42:26, 287.46s/it, file=CJG_12_2023_0\u001b[A\n",
      "Summarizing files for mistral-small:  13%|▏| 13/97 [53:50<6:42:26, 287.46s/it, file=CJG_13_2023_0\u001b[A"
     ]
    },
    {
     "name": "stdout",
     "output_type": "stream",
     "text": [
      "Record already exists: voiceapp\\output\\summaries_folder\\mistral-small_20241221_024011\\CJG_13_2023_04_08-summary_5.txt -> C:/Users/G/Documents/GitHub/audycje.com.pl/content/audio\\CJG_13_2023_04_08.txt\n",
      "Record already exists: voiceapp\\output\\summaries_folder\\mistral-small_20241221_024011\\CJG_14_2023_04_15-summary_1.txt -> C:/Users/G/Documents/GitHub/audycje.com.pl/content/audio\\CJG_14_2023_04_15.txt\n",
      "Record already exists: voiceapp\\output\\summaries_folder\\mistral-small_20241221_024011\\CJG_14_2023_04_15-summary_2.txt -> C:/Users/G/Documents/GitHub/audycje.com.pl/content/audio\\CJG_14_2023_04_15.txt\n",
      "Record already exists: voiceapp\\output\\summaries_folder\\mistral-small_20241221_024011\\CJG_14_2023_04_15-summary_3.txt -> C:/Users/G/Documents/GitHub/audycje.com.pl/content/audio\\CJG_14_2023_04_15.txt\n",
      "Record already exists: voiceapp\\output\\summaries_folder\\mistral-small_20241221_024011\\CJG_14_2023_04_15-summary_4.txt -> C:/Users/G/Documents/GitHub/audycje.com.pl/content/audio\\CJG_14_2023_04_15.txt\n",
      "Record already exists: voiceapp\\output\\summaries_folder\\mistral-small_20241221_024011\\CJG_14_2023_04_15-summary_5.txt -> C:/Users/G/Documents/GitHub/audycje.com.pl/content/audio\\CJG_14_2023_04_15.txt\n",
      "Record already exists: voiceapp\\output\\summaries_folder\\mistral-small_20241221_024011\\CJG_14_2023_04_15-summary_1.txt -> C:/Users/G/Documents/GitHub/audycje.com.pl/content/audio\\CJG_14_2023_04_15.txt\n",
      "Record already exists: voiceapp\\output\\summaries_folder\\mistral-small_20241221_024011\\CJG_14_2023_04_15-summary_2.txt -> C:/Users/G/Documents/GitHub/audycje.com.pl/content/audio\\CJG_14_2023_04_15.txt\n",
      "Record already exists: voiceapp\\output\\summaries_folder\\mistral-small_20241221_024011\\CJG_14_2023_04_15-summary_3.txt -> C:/Users/G/Documents/GitHub/audycje.com.pl/content/audio\\CJG_14_2023_04_15.txt\n",
      "Record already exists: voiceapp\\output\\summaries_folder\\mistral-small_20241221_024011\\CJG_14_2023_04_15-summary_4.txt -> C:/Users/G/Documents/GitHub/audycje.com.pl/content/audio\\CJG_14_2023_04_15.txt\n",
      "Record already exists: voiceapp\\output\\summaries_folder\\mistral-small_20241221_024011\\CJG_14_2023_04_15-summary_5.txt -> C:/Users/G/Documents/GitHub/audycje.com.pl/content/audio\\CJG_14_2023_04_15.txt\n",
      "Record already exists: voiceapp\\output\\summaries_folder\\mistral-small_20241221_024011\\CJG_14_2023_04_15-summary_1.txt -> C:/Users/G/Documents/GitHub/audycje.com.pl/content/audio\\CJG_14_2023_04_15.txt\n",
      "Record already exists: voiceapp\\output\\summaries_folder\\mistral-small_20241221_024011\\CJG_14_2023_04_15-summary_2.txt -> C:/Users/G/Documents/GitHub/audycje.com.pl/content/audio\\CJG_14_2023_04_15.txt\n",
      "Record already exists: voiceapp\\output\\summaries_folder\\mistral-small_20241221_024011\\CJG_14_2023_04_15-summary_3.txt -> C:/Users/G/Documents/GitHub/audycje.com.pl/content/audio\\CJG_14_2023_04_15.txt\n",
      "Record already exists: voiceapp\\output\\summaries_folder\\mistral-small_20241221_024011\\CJG_14_2023_04_15-summary_4.txt -> C:/Users/G/Documents/GitHub/audycje.com.pl/content/audio\\CJG_14_2023_04_15.txt\n"
     ]
    },
    {
     "name": "stderr",
     "output_type": "stream",
     "text": [
      "\n",
      "Summarizing files for mistral-small:  14%|▏| 14/97 [58:32<6:35:36, 285.99s/it, file=CJG_13_2023_0\u001b[A\n",
      "Summarizing files for mistral-small:  14%|▏| 14/97 [58:32<6:35:36, 285.99s/it, file=CJG_14_2023_0\u001b[A"
     ]
    },
    {
     "name": "stdout",
     "output_type": "stream",
     "text": [
      "Record already exists: voiceapp\\output\\summaries_folder\\mistral-small_20241221_024011\\CJG_14_2023_04_15-summary_5.txt -> C:/Users/G/Documents/GitHub/audycje.com.pl/content/audio\\CJG_14_2023_04_15.txt\n",
      "Record already exists: voiceapp\\output\\summaries_folder\\mistral-small_20241221_024011\\CJG_15_2023_04_22-summary_1.txt -> C:/Users/G/Documents/GitHub/audycje.com.pl/content/audio\\CJG_15_2023_04_22.txt\n",
      "Record already exists: voiceapp\\output\\summaries_folder\\mistral-small_20241221_024011\\CJG_15_2023_04_22-summary_2.txt -> C:/Users/G/Documents/GitHub/audycje.com.pl/content/audio\\CJG_15_2023_04_22.txt\n",
      "Record already exists: voiceapp\\output\\summaries_folder\\mistral-small_20241221_024011\\CJG_15_2023_04_22-summary_3.txt -> C:/Users/G/Documents/GitHub/audycje.com.pl/content/audio\\CJG_15_2023_04_22.txt\n",
      "Record already exists: voiceapp\\output\\summaries_folder\\mistral-small_20241221_024011\\CJG_15_2023_04_22-summary_4.txt -> C:/Users/G/Documents/GitHub/audycje.com.pl/content/audio\\CJG_15_2023_04_22.txt\n",
      "Record already exists: voiceapp\\output\\summaries_folder\\mistral-small_20241221_024011\\CJG_15_2023_04_22-summary_5.txt -> C:/Users/G/Documents/GitHub/audycje.com.pl/content/audio\\CJG_15_2023_04_22.txt\n",
      "Record already exists: voiceapp\\output\\summaries_folder\\mistral-small_20241221_024011\\CJG_15_2023_04_22-summary_1.txt -> C:/Users/G/Documents/GitHub/audycje.com.pl/content/audio\\CJG_15_2023_04_22.txt\n",
      "Record already exists: voiceapp\\output\\summaries_folder\\mistral-small_20241221_024011\\CJG_15_2023_04_22-summary_2.txt -> C:/Users/G/Documents/GitHub/audycje.com.pl/content/audio\\CJG_15_2023_04_22.txt\n",
      "Record already exists: voiceapp\\output\\summaries_folder\\mistral-small_20241221_024011\\CJG_15_2023_04_22-summary_3.txt -> C:/Users/G/Documents/GitHub/audycje.com.pl/content/audio\\CJG_15_2023_04_22.txt\n",
      "Record already exists: voiceapp\\output\\summaries_folder\\mistral-small_20241221_024011\\CJG_15_2023_04_22-summary_4.txt -> C:/Users/G/Documents/GitHub/audycje.com.pl/content/audio\\CJG_15_2023_04_22.txt\n",
      "Record already exists: voiceapp\\output\\summaries_folder\\mistral-small_20241221_024011\\CJG_15_2023_04_22-summary_5.txt -> C:/Users/G/Documents/GitHub/audycje.com.pl/content/audio\\CJG_15_2023_04_22.txt\n",
      "Record already exists: voiceapp\\output\\summaries_folder\\mistral-small_20241221_024011\\CJG_15_2023_04_22-summary_1.txt -> C:/Users/G/Documents/GitHub/audycje.com.pl/content/audio\\CJG_15_2023_04_22.txt\n",
      "Record already exists: voiceapp\\output\\summaries_folder\\mistral-small_20241221_024011\\CJG_15_2023_04_22-summary_2.txt -> C:/Users/G/Documents/GitHub/audycje.com.pl/content/audio\\CJG_15_2023_04_22.txt\n",
      "Record already exists: voiceapp\\output\\summaries_folder\\mistral-small_20241221_024011\\CJG_15_2023_04_22-summary_3.txt -> C:/Users/G/Documents/GitHub/audycje.com.pl/content/audio\\CJG_15_2023_04_22.txt\n",
      "Record already exists: voiceapp\\output\\summaries_folder\\mistral-small_20241221_024011\\CJG_15_2023_04_22-summary_4.txt -> C:/Users/G/Documents/GitHub/audycje.com.pl/content/audio\\CJG_15_2023_04_22.txt\n",
      "Record already exists: voiceapp\\output\\summaries_folder\\mistral-small_20241221_024011\\CJG_15_2023_04_22-summary_5.txt -> C:/Users/G/Documents/GitHub/audycje.com.pl/content/audio\\CJG_15_2023_04_22.txt\n",
      "Record already exists: voiceapp\\output\\summaries_folder\\mistral-small_20241221_024011\\CJG_15_2023_04_22-summary_1.txt -> C:/Users/G/Documents/GitHub/audycje.com.pl/content/audio\\CJG_15_2023_04_22.txt\n",
      "Record already exists: voiceapp\\output\\summaries_folder\\mistral-small_20241221_024011\\CJG_15_2023_04_22-summary_2.txt -> C:/Users/G/Documents/GitHub/audycje.com.pl/content/audio\\CJG_15_2023_04_22.txt\n",
      "Record already exists: voiceapp\\output\\summaries_folder\\mistral-small_20241221_024011\\CJG_15_2023_04_22-summary_3.txt -> C:/Users/G/Documents/GitHub/audycje.com.pl/content/audio\\CJG_15_2023_04_22.txt\n",
      "Record already exists: voiceapp\\output\\summaries_folder\\mistral-small_20241221_024011\\CJG_15_2023_04_22-summary_4.txt -> C:/Users/G/Documents/GitHub/audycje.com.pl/content/audio\\CJG_15_2023_04_22.txt\n"
     ]
    },
    {
     "name": "stderr",
     "output_type": "stream",
     "text": [
      "\n",
      "Summarizing files for mistral-small:  15%|▏| 15/97 [1:03:16<6:29:44, 285.18s/it, file=CJG_14_2023\u001b[A\n",
      "Summarizing files for mistral-small:  15%|▏| 15/97 [1:03:16<6:29:44, 285.18s/it, file=CJG_15_2023\u001b[A"
     ]
    },
    {
     "name": "stdout",
     "output_type": "stream",
     "text": [
      "Record already exists: voiceapp\\output\\summaries_folder\\mistral-small_20241221_024011\\CJG_15_2023_04_22-summary_5.txt -> C:/Users/G/Documents/GitHub/audycje.com.pl/content/audio\\CJG_15_2023_04_22.txt\n",
      "Record already exists: voiceapp\\output\\summaries_folder\\mistral-small_20241221_024011\\CJG_16_2023_04_29-summary_1.txt -> C:/Users/G/Documents/GitHub/audycje.com.pl/content/audio\\CJG_16_2023_04_29.txt\n",
      "Record already exists: voiceapp\\output\\summaries_folder\\mistral-small_20241221_024011\\CJG_16_2023_04_29-summary_2.txt -> C:/Users/G/Documents/GitHub/audycje.com.pl/content/audio\\CJG_16_2023_04_29.txt\n",
      "Record already exists: voiceapp\\output\\summaries_folder\\mistral-small_20241221_024011\\CJG_16_2023_04_29-summary_3.txt -> C:/Users/G/Documents/GitHub/audycje.com.pl/content/audio\\CJG_16_2023_04_29.txt\n",
      "Record already exists: voiceapp\\output\\summaries_folder\\mistral-small_20241221_024011\\CJG_16_2023_04_29-summary_4.txt -> C:/Users/G/Documents/GitHub/audycje.com.pl/content/audio\\CJG_16_2023_04_29.txt\n",
      "Record already exists: voiceapp\\output\\summaries_folder\\mistral-small_20241221_024011\\CJG_16_2023_04_29-summary_5.txt -> C:/Users/G/Documents/GitHub/audycje.com.pl/content/audio\\CJG_16_2023_04_29.txt\n",
      "Record already exists: voiceapp\\output\\summaries_folder\\mistral-small_20241221_024011\\CJG_16_2023_04_29-summary_1.txt -> C:/Users/G/Documents/GitHub/audycje.com.pl/content/audio\\CJG_16_2023_04_29.txt\n",
      "Record already exists: voiceapp\\output\\summaries_folder\\mistral-small_20241221_024011\\CJG_16_2023_04_29-summary_2.txt -> C:/Users/G/Documents/GitHub/audycje.com.pl/content/audio\\CJG_16_2023_04_29.txt\n",
      "Record already exists: voiceapp\\output\\summaries_folder\\mistral-small_20241221_024011\\CJG_16_2023_04_29-summary_3.txt -> C:/Users/G/Documents/GitHub/audycje.com.pl/content/audio\\CJG_16_2023_04_29.txt\n",
      "Record already exists: voiceapp\\output\\summaries_folder\\mistral-small_20241221_024011\\CJG_16_2023_04_29-summary_4.txt -> C:/Users/G/Documents/GitHub/audycje.com.pl/content/audio\\CJG_16_2023_04_29.txt\n"
     ]
    },
    {
     "name": "stderr",
     "output_type": "stream",
     "text": [
      "\n",
      "Summarizing files for mistral-small:  16%|▏| 16/97 [1:07:03<6:01:40, 267.90s/it, file=CJG_15_2023\u001b[A\n",
      "Summarizing files for mistral-small:  16%|▏| 16/97 [1:07:03<6:01:40, 267.90s/it, file=CJG_16_2023\u001b[A"
     ]
    },
    {
     "name": "stdout",
     "output_type": "stream",
     "text": [
      "Record already exists: voiceapp\\output\\summaries_folder\\mistral-small_20241221_024011\\CJG_16_2023_04_29-summary_5.txt -> C:/Users/G/Documents/GitHub/audycje.com.pl/content/audio\\CJG_16_2023_04_29.txt\n",
      "Record already exists: voiceapp\\output\\summaries_folder\\mistral-small_20241221_024011\\CJG_17_2023_05_06-summary_1.txt -> C:/Users/G/Documents/GitHub/audycje.com.pl/content/audio\\CJG_17_2023_05_06.txt\n",
      "Record already exists: voiceapp\\output\\summaries_folder\\mistral-small_20241221_024011\\CJG_17_2023_05_06-summary_2.txt -> C:/Users/G/Documents/GitHub/audycje.com.pl/content/audio\\CJG_17_2023_05_06.txt\n",
      "Record already exists: voiceapp\\output\\summaries_folder\\mistral-small_20241221_024011\\CJG_17_2023_05_06-summary_3.txt -> C:/Users/G/Documents/GitHub/audycje.com.pl/content/audio\\CJG_17_2023_05_06.txt\n",
      "Record already exists: voiceapp\\output\\summaries_folder\\mistral-small_20241221_024011\\CJG_17_2023_05_06-summary_4.txt -> C:/Users/G/Documents/GitHub/audycje.com.pl/content/audio\\CJG_17_2023_05_06.txt\n",
      "Record already exists: voiceapp\\output\\summaries_folder\\mistral-small_20241221_024011\\CJG_17_2023_05_06-summary_5.txt -> C:/Users/G/Documents/GitHub/audycje.com.pl/content/audio\\CJG_17_2023_05_06.txt\n",
      "Record already exists: voiceapp\\output\\summaries_folder\\mistral-small_20241221_024011\\CJG_17_2023_05_06-summary_1.txt -> C:/Users/G/Documents/GitHub/audycje.com.pl/content/audio\\CJG_17_2023_05_06.txt\n",
      "Record already exists: voiceapp\\output\\summaries_folder\\mistral-small_20241221_024011\\CJG_17_2023_05_06-summary_2.txt -> C:/Users/G/Documents/GitHub/audycje.com.pl/content/audio\\CJG_17_2023_05_06.txt\n",
      "Record already exists: voiceapp\\output\\summaries_folder\\mistral-small_20241221_024011\\CJG_17_2023_05_06-summary_3.txt -> C:/Users/G/Documents/GitHub/audycje.com.pl/content/audio\\CJG_17_2023_05_06.txt\n",
      "Record already exists: voiceapp\\output\\summaries_folder\\mistral-small_20241221_024011\\CJG_17_2023_05_06-summary_4.txt -> C:/Users/G/Documents/GitHub/audycje.com.pl/content/audio\\CJG_17_2023_05_06.txt\n"
     ]
    },
    {
     "name": "stderr",
     "output_type": "stream",
     "text": [
      "\n",
      "Summarizing files for mistral-small:  18%|▏| 17/97 [1:10:56<5:43:06, 257.33s/it, file=CJG_16_2023\u001b[A\n",
      "Summarizing files for mistral-small:  18%|▏| 17/97 [1:10:56<5:43:06, 257.33s/it, file=CJG_17_2023\u001b[A"
     ]
    },
    {
     "name": "stdout",
     "output_type": "stream",
     "text": [
      "Record already exists: voiceapp\\output\\summaries_folder\\mistral-small_20241221_024011\\CJG_17_2023_05_06-summary_5.txt -> C:/Users/G/Documents/GitHub/audycje.com.pl/content/audio\\CJG_17_2023_05_06.txt\n",
      "Record already exists: voiceapp\\output\\summaries_folder\\mistral-small_20241221_024011\\CJG_18_2023_05_13-summary_1.txt -> C:/Users/G/Documents/GitHub/audycje.com.pl/content/audio\\CJG_18_2023_05_13.txt\n",
      "Record already exists: voiceapp\\output\\summaries_folder\\mistral-small_20241221_024011\\CJG_18_2023_05_13-summary_2.txt -> C:/Users/G/Documents/GitHub/audycje.com.pl/content/audio\\CJG_18_2023_05_13.txt\n",
      "Record already exists: voiceapp\\output\\summaries_folder\\mistral-small_20241221_024011\\CJG_18_2023_05_13-summary_3.txt -> C:/Users/G/Documents/GitHub/audycje.com.pl/content/audio\\CJG_18_2023_05_13.txt\n",
      "Record already exists: voiceapp\\output\\summaries_folder\\mistral-small_20241221_024011\\CJG_18_2023_05_13-summary_4.txt -> C:/Users/G/Documents/GitHub/audycje.com.pl/content/audio\\CJG_18_2023_05_13.txt\n",
      "Record already exists: voiceapp\\output\\summaries_folder\\mistral-small_20241221_024011\\CJG_18_2023_05_13-summary_5.txt -> C:/Users/G/Documents/GitHub/audycje.com.pl/content/audio\\CJG_18_2023_05_13.txt\n",
      "Record already exists: voiceapp\\output\\summaries_folder\\mistral-small_20241221_024011\\CJG_18_2023_05_13-summary_1.txt -> C:/Users/G/Documents/GitHub/audycje.com.pl/content/audio\\CJG_18_2023_05_13.txt\n",
      "Record already exists: voiceapp\\output\\summaries_folder\\mistral-small_20241221_024011\\CJG_18_2023_05_13-summary_2.txt -> C:/Users/G/Documents/GitHub/audycje.com.pl/content/audio\\CJG_18_2023_05_13.txt\n",
      "Record already exists: voiceapp\\output\\summaries_folder\\mistral-small_20241221_024011\\CJG_18_2023_05_13-summary_3.txt -> C:/Users/G/Documents/GitHub/audycje.com.pl/content/audio\\CJG_18_2023_05_13.txt\n",
      "Record already exists: voiceapp\\output\\summaries_folder\\mistral-small_20241221_024011\\CJG_18_2023_05_13-summary_4.txt -> C:/Users/G/Documents/GitHub/audycje.com.pl/content/audio\\CJG_18_2023_05_13.txt\n"
     ]
    },
    {
     "name": "stderr",
     "output_type": "stream",
     "text": [
      "\n",
      "Summarizing files for mistral-small:  19%|▏| 18/97 [1:15:01<5:33:50, 253.56s/it, file=CJG_17_2023\u001b[A\n",
      "Summarizing files for mistral-small:  19%|▏| 18/97 [1:15:01<5:33:50, 253.56s/it, file=CJG_18_2023\u001b[A"
     ]
    },
    {
     "name": "stdout",
     "output_type": "stream",
     "text": [
      "Record already exists: voiceapp\\output\\summaries_folder\\mistral-small_20241221_024011\\CJG_18_2023_05_13-summary_5.txt -> C:/Users/G/Documents/GitHub/audycje.com.pl/content/audio\\CJG_18_2023_05_13.txt\n",
      "Record already exists: voiceapp\\output\\summaries_folder\\mistral-small_20241221_024011\\CJG_19_2023_05_20-summary_1.txt -> C:/Users/G/Documents/GitHub/audycje.com.pl/content/audio\\CJG_19_2023_05_20.txt\n",
      "Record already exists: voiceapp\\output\\summaries_folder\\mistral-small_20241221_024011\\CJG_19_2023_05_20-summary_2.txt -> C:/Users/G/Documents/GitHub/audycje.com.pl/content/audio\\CJG_19_2023_05_20.txt\n",
      "Record already exists: voiceapp\\output\\summaries_folder\\mistral-small_20241221_024011\\CJG_19_2023_05_20-summary_3.txt -> C:/Users/G/Documents/GitHub/audycje.com.pl/content/audio\\CJG_19_2023_05_20.txt\n",
      "Record already exists: voiceapp\\output\\summaries_folder\\mistral-small_20241221_024011\\CJG_19_2023_05_20-summary_4.txt -> C:/Users/G/Documents/GitHub/audycje.com.pl/content/audio\\CJG_19_2023_05_20.txt\n",
      "Record already exists: voiceapp\\output\\summaries_folder\\mistral-small_20241221_024011\\CJG_19_2023_05_20-summary_5.txt -> C:/Users/G/Documents/GitHub/audycje.com.pl/content/audio\\CJG_19_2023_05_20.txt\n",
      "Record already exists: voiceapp\\output\\summaries_folder\\mistral-small_20241221_024011\\CJG_19_2023_05_20-summary_1.txt -> C:/Users/G/Documents/GitHub/audycje.com.pl/content/audio\\CJG_19_2023_05_20.txt\n",
      "Record already exists: voiceapp\\output\\summaries_folder\\mistral-small_20241221_024011\\CJG_19_2023_05_20-summary_2.txt -> C:/Users/G/Documents/GitHub/audycje.com.pl/content/audio\\CJG_19_2023_05_20.txt\n",
      "Record already exists: voiceapp\\output\\summaries_folder\\mistral-small_20241221_024011\\CJG_19_2023_05_20-summary_3.txt -> C:/Users/G/Documents/GitHub/audycje.com.pl/content/audio\\CJG_19_2023_05_20.txt\n",
      "Record already exists: voiceapp\\output\\summaries_folder\\mistral-small_20241221_024011\\CJG_19_2023_05_20-summary_4.txt -> C:/Users/G/Documents/GitHub/audycje.com.pl/content/audio\\CJG_19_2023_05_20.txt\n"
     ]
    },
    {
     "name": "stderr",
     "output_type": "stream",
     "text": [
      "\n",
      "Summarizing files for mistral-small:  20%|▏| 19/97 [1:18:51<5:20:34, 246.59s/it, file=CJG_18_2023\u001b[A\n",
      "Summarizing files for mistral-small:  20%|▏| 19/97 [1:18:51<5:20:34, 246.59s/it, file=CJG_19_2023\u001b[A"
     ]
    },
    {
     "name": "stdout",
     "output_type": "stream",
     "text": [
      "Record already exists: voiceapp\\output\\summaries_folder\\mistral-small_20241221_024011\\CJG_19_2023_05_20-summary_5.txt -> C:/Users/G/Documents/GitHub/audycje.com.pl/content/audio\\CJG_19_2023_05_20.txt\n",
      "Record already exists: voiceapp\\output\\summaries_folder\\mistral-small_20241221_024011\\CJG_20_2023_05_27-summary_1.txt -> C:/Users/G/Documents/GitHub/audycje.com.pl/content/audio\\CJG_20_2023_05_27.txt\n",
      "Record already exists: voiceapp\\output\\summaries_folder\\mistral-small_20241221_024011\\CJG_20_2023_05_27-summary_2.txt -> C:/Users/G/Documents/GitHub/audycje.com.pl/content/audio\\CJG_20_2023_05_27.txt\n",
      "Record already exists: voiceapp\\output\\summaries_folder\\mistral-small_20241221_024011\\CJG_20_2023_05_27-summary_3.txt -> C:/Users/G/Documents/GitHub/audycje.com.pl/content/audio\\CJG_20_2023_05_27.txt\n",
      "Record already exists: voiceapp\\output\\summaries_folder\\mistral-small_20241221_024011\\CJG_20_2023_05_27-summary_4.txt -> C:/Users/G/Documents/GitHub/audycje.com.pl/content/audio\\CJG_20_2023_05_27.txt\n",
      "Record already exists: voiceapp\\output\\summaries_folder\\mistral-small_20241221_024011\\CJG_20_2023_05_27-summary_5.txt -> C:/Users/G/Documents/GitHub/audycje.com.pl/content/audio\\CJG_20_2023_05_27.txt\n",
      "Record already exists: voiceapp\\output\\summaries_folder\\mistral-small_20241221_024011\\CJG_20_2023_05_27-summary_1.txt -> C:/Users/G/Documents/GitHub/audycje.com.pl/content/audio\\CJG_20_2023_05_27.txt\n",
      "Record already exists: voiceapp\\output\\summaries_folder\\mistral-small_20241221_024011\\CJG_20_2023_05_27-summary_2.txt -> C:/Users/G/Documents/GitHub/audycje.com.pl/content/audio\\CJG_20_2023_05_27.txt\n",
      "Record already exists: voiceapp\\output\\summaries_folder\\mistral-small_20241221_024011\\CJG_20_2023_05_27-summary_3.txt -> C:/Users/G/Documents/GitHub/audycje.com.pl/content/audio\\CJG_20_2023_05_27.txt\n",
      "Record already exists: voiceapp\\output\\summaries_folder\\mistral-small_20241221_024011\\CJG_20_2023_05_27-summary_4.txt -> C:/Users/G/Documents/GitHub/audycje.com.pl/content/audio\\CJG_20_2023_05_27.txt\n",
      "Record already exists: voiceapp\\output\\summaries_folder\\mistral-small_20241221_024011\\CJG_20_2023_05_27-summary_5.txt -> C:/Users/G/Documents/GitHub/audycje.com.pl/content/audio\\CJG_20_2023_05_27.txt\n",
      "Record already exists: voiceapp\\output\\summaries_folder\\mistral-small_20241221_024011\\CJG_20_2023_05_27-summary_1.txt -> C:/Users/G/Documents/GitHub/audycje.com.pl/content/audio\\CJG_20_2023_05_27.txt\n",
      "Record already exists: voiceapp\\output\\summaries_folder\\mistral-small_20241221_024011\\CJG_20_2023_05_27-summary_2.txt -> C:/Users/G/Documents/GitHub/audycje.com.pl/content/audio\\CJG_20_2023_05_27.txt\n",
      "Record already exists: voiceapp\\output\\summaries_folder\\mistral-small_20241221_024011\\CJG_20_2023_05_27-summary_3.txt -> C:/Users/G/Documents/GitHub/audycje.com.pl/content/audio\\CJG_20_2023_05_27.txt\n",
      "Record already exists: voiceapp\\output\\summaries_folder\\mistral-small_20241221_024011\\CJG_20_2023_05_27-summary_4.txt -> C:/Users/G/Documents/GitHub/audycje.com.pl/content/audio\\CJG_20_2023_05_27.txt\n"
     ]
    },
    {
     "name": "stderr",
     "output_type": "stream",
     "text": [
      "\n",
      "Summarizing files for mistral-small:  21%|▏| 20/97 [1:23:52<5:37:21, 262.87s/it, file=CJG_19_2023\u001b[A\n",
      "Summarizing files for mistral-small:  21%|▏| 20/97 [1:23:52<5:37:21, 262.87s/it, file=CJG_20_2023\u001b[A"
     ]
    },
    {
     "name": "stdout",
     "output_type": "stream",
     "text": [
      "Record already exists: voiceapp\\output\\summaries_folder\\mistral-small_20241221_024011\\CJG_20_2023_05_27-summary_5.txt -> C:/Users/G/Documents/GitHub/audycje.com.pl/content/audio\\CJG_20_2023_05_27.txt\n",
      "Record already exists: voiceapp\\output\\summaries_folder\\mistral-small_20241221_024011\\CJG_21_2023_06_03-summary_1.txt -> C:/Users/G/Documents/GitHub/audycje.com.pl/content/audio\\CJG_21_2023_06_03.txt\n",
      "Record already exists: voiceapp\\output\\summaries_folder\\mistral-small_20241221_024011\\CJG_21_2023_06_03-summary_2.txt -> C:/Users/G/Documents/GitHub/audycje.com.pl/content/audio\\CJG_21_2023_06_03.txt\n",
      "Record already exists: voiceapp\\output\\summaries_folder\\mistral-small_20241221_024011\\CJG_21_2023_06_03-summary_3.txt -> C:/Users/G/Documents/GitHub/audycje.com.pl/content/audio\\CJG_21_2023_06_03.txt\n",
      "Record already exists: voiceapp\\output\\summaries_folder\\mistral-small_20241221_024011\\CJG_21_2023_06_03-summary_4.txt -> C:/Users/G/Documents/GitHub/audycje.com.pl/content/audio\\CJG_21_2023_06_03.txt\n",
      "Record already exists: voiceapp\\output\\summaries_folder\\mistral-small_20241221_024011\\CJG_21_2023_06_03-summary_5.txt -> C:/Users/G/Documents/GitHub/audycje.com.pl/content/audio\\CJG_21_2023_06_03.txt\n",
      "Record already exists: voiceapp\\output\\summaries_folder\\mistral-small_20241221_024011\\CJG_21_2023_06_03-summary_1.txt -> C:/Users/G/Documents/GitHub/audycje.com.pl/content/audio\\CJG_21_2023_06_03.txt\n",
      "Record already exists: voiceapp\\output\\summaries_folder\\mistral-small_20241221_024011\\CJG_21_2023_06_03-summary_2.txt -> C:/Users/G/Documents/GitHub/audycje.com.pl/content/audio\\CJG_21_2023_06_03.txt\n",
      "Record already exists: voiceapp\\output\\summaries_folder\\mistral-small_20241221_024011\\CJG_21_2023_06_03-summary_3.txt -> C:/Users/G/Documents/GitHub/audycje.com.pl/content/audio\\CJG_21_2023_06_03.txt\n",
      "Record already exists: voiceapp\\output\\summaries_folder\\mistral-small_20241221_024011\\CJG_21_2023_06_03-summary_4.txt -> C:/Users/G/Documents/GitHub/audycje.com.pl/content/audio\\CJG_21_2023_06_03.txt\n",
      "Record already exists: voiceapp\\output\\summaries_folder\\mistral-small_20241221_024011\\CJG_21_2023_06_03-summary_5.txt -> C:/Users/G/Documents/GitHub/audycje.com.pl/content/audio\\CJG_21_2023_06_03.txt\n",
      "Record already exists: voiceapp\\output\\summaries_folder\\mistral-small_20241221_024011\\CJG_21_2023_06_03-summary_1.txt -> C:/Users/G/Documents/GitHub/audycje.com.pl/content/audio\\CJG_21_2023_06_03.txt\n",
      "Record already exists: voiceapp\\output\\summaries_folder\\mistral-small_20241221_024011\\CJG_21_2023_06_03-summary_2.txt -> C:/Users/G/Documents/GitHub/audycje.com.pl/content/audio\\CJG_21_2023_06_03.txt\n",
      "Record already exists: voiceapp\\output\\summaries_folder\\mistral-small_20241221_024011\\CJG_21_2023_06_03-summary_3.txt -> C:/Users/G/Documents/GitHub/audycje.com.pl/content/audio\\CJG_21_2023_06_03.txt\n",
      "Record already exists: voiceapp\\output\\summaries_folder\\mistral-small_20241221_024011\\CJG_21_2023_06_03-summary_4.txt -> C:/Users/G/Documents/GitHub/audycje.com.pl/content/audio\\CJG_21_2023_06_03.txt\n"
     ]
    },
    {
     "name": "stderr",
     "output_type": "stream",
     "text": [
      "\n",
      "Summarizing files for mistral-small:  22%|▏| 21/97 [1:28:57<5:48:53, 275.44s/it, file=CJG_20_2023\u001b[A\n",
      "Summarizing files for mistral-small:  22%|▏| 21/97 [1:28:57<5:48:53, 275.44s/it, file=CJG_21_2023\u001b[A"
     ]
    },
    {
     "name": "stdout",
     "output_type": "stream",
     "text": [
      "Record already exists: voiceapp\\output\\summaries_folder\\mistral-small_20241221_024011\\CJG_21_2023_06_03-summary_5.txt -> C:/Users/G/Documents/GitHub/audycje.com.pl/content/audio\\CJG_21_2023_06_03.txt\n",
      "Record already exists: voiceapp\\output\\summaries_folder\\mistral-small_20241221_024011\\CJG_22_2023_06_10-summary_1.txt -> C:/Users/G/Documents/GitHub/audycje.com.pl/content/audio\\CJG_22_2023_06_10.txt\n",
      "Record already exists: voiceapp\\output\\summaries_folder\\mistral-small_20241221_024011\\CJG_22_2023_06_10-summary_2.txt -> C:/Users/G/Documents/GitHub/audycje.com.pl/content/audio\\CJG_22_2023_06_10.txt\n",
      "Record already exists: voiceapp\\output\\summaries_folder\\mistral-small_20241221_024011\\CJG_22_2023_06_10-summary_3.txt -> C:/Users/G/Documents/GitHub/audycje.com.pl/content/audio\\CJG_22_2023_06_10.txt\n",
      "Record already exists: voiceapp\\output\\summaries_folder\\mistral-small_20241221_024011\\CJG_22_2023_06_10-summary_4.txt -> C:/Users/G/Documents/GitHub/audycje.com.pl/content/audio\\CJG_22_2023_06_10.txt\n",
      "Record already exists: voiceapp\\output\\summaries_folder\\mistral-small_20241221_024011\\CJG_22_2023_06_10-summary_5.txt -> C:/Users/G/Documents/GitHub/audycje.com.pl/content/audio\\CJG_22_2023_06_10.txt\n",
      "Record already exists: voiceapp\\output\\summaries_folder\\mistral-small_20241221_024011\\CJG_22_2023_06_10-summary_1.txt -> C:/Users/G/Documents/GitHub/audycje.com.pl/content/audio\\CJG_22_2023_06_10.txt\n",
      "Record already exists: voiceapp\\output\\summaries_folder\\mistral-small_20241221_024011\\CJG_22_2023_06_10-summary_2.txt -> C:/Users/G/Documents/GitHub/audycje.com.pl/content/audio\\CJG_22_2023_06_10.txt\n",
      "Record already exists: voiceapp\\output\\summaries_folder\\mistral-small_20241221_024011\\CJG_22_2023_06_10-summary_3.txt -> C:/Users/G/Documents/GitHub/audycje.com.pl/content/audio\\CJG_22_2023_06_10.txt\n",
      "Record already exists: voiceapp\\output\\summaries_folder\\mistral-small_20241221_024011\\CJG_22_2023_06_10-summary_4.txt -> C:/Users/G/Documents/GitHub/audycje.com.pl/content/audio\\CJG_22_2023_06_10.txt\n"
     ]
    },
    {
     "name": "stderr",
     "output_type": "stream",
     "text": [
      "\n",
      "Summarizing files for mistral-small:  23%|▏| 22/97 [1:32:45<5:26:42, 261.36s/it, file=CJG_21_2023\u001b[A\n",
      "Summarizing files for mistral-small:  23%|▏| 22/97 [1:32:45<5:26:42, 261.36s/it, file=CJG_22_2023\u001b[A"
     ]
    },
    {
     "name": "stdout",
     "output_type": "stream",
     "text": [
      "Record already exists: voiceapp\\output\\summaries_folder\\mistral-small_20241221_024011\\CJG_22_2023_06_10-summary_5.txt -> C:/Users/G/Documents/GitHub/audycje.com.pl/content/audio\\CJG_22_2023_06_10.txt\n",
      "Record already exists: voiceapp\\output\\summaries_folder\\mistral-small_20241221_024011\\CJG_23_2023_06_17-summary_1.txt -> C:/Users/G/Documents/GitHub/audycje.com.pl/content/audio\\CJG_23_2023_06_17.txt\n",
      "Record already exists: voiceapp\\output\\summaries_folder\\mistral-small_20241221_024011\\CJG_23_2023_06_17-summary_2.txt -> C:/Users/G/Documents/GitHub/audycje.com.pl/content/audio\\CJG_23_2023_06_17.txt\n",
      "Record already exists: voiceapp\\output\\summaries_folder\\mistral-small_20241221_024011\\CJG_23_2023_06_17-summary_3.txt -> C:/Users/G/Documents/GitHub/audycje.com.pl/content/audio\\CJG_23_2023_06_17.txt\n",
      "Record already exists: voiceapp\\output\\summaries_folder\\mistral-small_20241221_024011\\CJG_23_2023_06_17-summary_4.txt -> C:/Users/G/Documents/GitHub/audycje.com.pl/content/audio\\CJG_23_2023_06_17.txt\n",
      "Record already exists: voiceapp\\output\\summaries_folder\\mistral-small_20241221_024011\\CJG_23_2023_06_17-summary_5.txt -> C:/Users/G/Documents/GitHub/audycje.com.pl/content/audio\\CJG_23_2023_06_17.txt\n",
      "Record already exists: voiceapp\\output\\summaries_folder\\mistral-small_20241221_024011\\CJG_23_2023_06_17-summary_1.txt -> C:/Users/G/Documents/GitHub/audycje.com.pl/content/audio\\CJG_23_2023_06_17.txt\n",
      "Record already exists: voiceapp\\output\\summaries_folder\\mistral-small_20241221_024011\\CJG_23_2023_06_17-summary_2.txt -> C:/Users/G/Documents/GitHub/audycje.com.pl/content/audio\\CJG_23_2023_06_17.txt\n",
      "Record already exists: voiceapp\\output\\summaries_folder\\mistral-small_20241221_024011\\CJG_23_2023_06_17-summary_3.txt -> C:/Users/G/Documents/GitHub/audycje.com.pl/content/audio\\CJG_23_2023_06_17.txt\n",
      "Record already exists: voiceapp\\output\\summaries_folder\\mistral-small_20241221_024011\\CJG_23_2023_06_17-summary_4.txt -> C:/Users/G/Documents/GitHub/audycje.com.pl/content/audio\\CJG_23_2023_06_17.txt\n"
     ]
    },
    {
     "name": "stderr",
     "output_type": "stream",
     "text": [
      "\n",
      "Summarizing files for mistral-small:  24%|▏| 23/97 [1:36:53<5:17:22, 257.33s/it, file=CJG_22_2023\u001b[A\n",
      "Summarizing files for mistral-small:  24%|▏| 23/97 [1:36:53<5:17:22, 257.33s/it, file=CJG_23_2023\u001b[A"
     ]
    },
    {
     "name": "stdout",
     "output_type": "stream",
     "text": [
      "Record already exists: voiceapp\\output\\summaries_folder\\mistral-small_20241221_024011\\CJG_23_2023_06_17-summary_5.txt -> C:/Users/G/Documents/GitHub/audycje.com.pl/content/audio\\CJG_23_2023_06_17.txt\n",
      "Record already exists: voiceapp\\output\\summaries_folder\\mistral-small_20241221_024011\\CJG_24_2023_06_24-summary_1.txt -> C:/Users/G/Documents/GitHub/audycje.com.pl/content/audio\\CJG_24_2023_06_24.txt\n",
      "Record already exists: voiceapp\\output\\summaries_folder\\mistral-small_20241221_024011\\CJG_24_2023_06_24-summary_2.txt -> C:/Users/G/Documents/GitHub/audycje.com.pl/content/audio\\CJG_24_2023_06_24.txt\n",
      "Record already exists: voiceapp\\output\\summaries_folder\\mistral-small_20241221_024011\\CJG_24_2023_06_24-summary_3.txt -> C:/Users/G/Documents/GitHub/audycje.com.pl/content/audio\\CJG_24_2023_06_24.txt\n",
      "Record already exists: voiceapp\\output\\summaries_folder\\mistral-small_20241221_024011\\CJG_24_2023_06_24-summary_4.txt -> C:/Users/G/Documents/GitHub/audycje.com.pl/content/audio\\CJG_24_2023_06_24.txt\n",
      "Record already exists: voiceapp\\output\\summaries_folder\\mistral-small_20241221_024011\\CJG_24_2023_06_24-summary_5.txt -> C:/Users/G/Documents/GitHub/audycje.com.pl/content/audio\\CJG_24_2023_06_24.txt\n",
      "Record already exists: voiceapp\\output\\summaries_folder\\mistral-small_20241221_024011\\CJG_24_2023_06_24-summary_1.txt -> C:/Users/G/Documents/GitHub/audycje.com.pl/content/audio\\CJG_24_2023_06_24.txt\n",
      "Record already exists: voiceapp\\output\\summaries_folder\\mistral-small_20241221_024011\\CJG_24_2023_06_24-summary_2.txt -> C:/Users/G/Documents/GitHub/audycje.com.pl/content/audio\\CJG_24_2023_06_24.txt\n",
      "Record already exists: voiceapp\\output\\summaries_folder\\mistral-small_20241221_024011\\CJG_24_2023_06_24-summary_3.txt -> C:/Users/G/Documents/GitHub/audycje.com.pl/content/audio\\CJG_24_2023_06_24.txt\n",
      "Record already exists: voiceapp\\output\\summaries_folder\\mistral-small_20241221_024011\\CJG_24_2023_06_24-summary_4.txt -> C:/Users/G/Documents/GitHub/audycje.com.pl/content/audio\\CJG_24_2023_06_24.txt\n"
     ]
    },
    {
     "name": "stderr",
     "output_type": "stream",
     "text": [
      "\n",
      "Summarizing files for mistral-small:  25%|▏| 24/97 [1:40:48<5:04:53, 250.60s/it, file=CJG_23_2023\u001b[A\n",
      "Summarizing files for mistral-small:  25%|▏| 24/97 [1:40:48<5:04:53, 250.60s/it, file=CJG_24_2023\u001b[A"
     ]
    },
    {
     "name": "stdout",
     "output_type": "stream",
     "text": [
      "Record already exists: voiceapp\\output\\summaries_folder\\mistral-small_20241221_024011\\CJG_24_2023_06_24-summary_5.txt -> C:/Users/G/Documents/GitHub/audycje.com.pl/content/audio\\CJG_24_2023_06_24.txt\n",
      "Record already exists: voiceapp\\output\\summaries_folder\\mistral-small_20241221_024011\\CJG_25_2023_07_01-summary_1.txt -> C:/Users/G/Documents/GitHub/audycje.com.pl/content/audio\\CJG_25_2023_07_01.txt\n",
      "Record already exists: voiceapp\\output\\summaries_folder\\mistral-small_20241221_024011\\CJG_25_2023_07_01-summary_2.txt -> C:/Users/G/Documents/GitHub/audycje.com.pl/content/audio\\CJG_25_2023_07_01.txt\n",
      "Record already exists: voiceapp\\output\\summaries_folder\\mistral-small_20241221_024011\\CJG_25_2023_07_01-summary_3.txt -> C:/Users/G/Documents/GitHub/audycje.com.pl/content/audio\\CJG_25_2023_07_01.txt\n",
      "Record already exists: voiceapp\\output\\summaries_folder\\mistral-small_20241221_024011\\CJG_25_2023_07_01-summary_4.txt -> C:/Users/G/Documents/GitHub/audycje.com.pl/content/audio\\CJG_25_2023_07_01.txt\n",
      "Record already exists: voiceapp\\output\\summaries_folder\\mistral-small_20241221_024011\\CJG_25_2023_07_01-summary_5.txt -> C:/Users/G/Documents/GitHub/audycje.com.pl/content/audio\\CJG_25_2023_07_01.txt\n",
      "Record already exists: voiceapp\\output\\summaries_folder\\mistral-small_20241221_024011\\CJG_25_2023_07_01-summary_1.txt -> C:/Users/G/Documents/GitHub/audycje.com.pl/content/audio\\CJG_25_2023_07_01.txt\n",
      "Record already exists: voiceapp\\output\\summaries_folder\\mistral-small_20241221_024011\\CJG_25_2023_07_01-summary_2.txt -> C:/Users/G/Documents/GitHub/audycje.com.pl/content/audio\\CJG_25_2023_07_01.txt\n",
      "Record already exists: voiceapp\\output\\summaries_folder\\mistral-small_20241221_024011\\CJG_25_2023_07_01-summary_3.txt -> C:/Users/G/Documents/GitHub/audycje.com.pl/content/audio\\CJG_25_2023_07_01.txt\n",
      "Record already exists: voiceapp\\output\\summaries_folder\\mistral-small_20241221_024011\\CJG_25_2023_07_01-summary_4.txt -> C:/Users/G/Documents/GitHub/audycje.com.pl/content/audio\\CJG_25_2023_07_01.txt\n",
      "Record already exists: voiceapp\\output\\summaries_folder\\mistral-small_20241221_024011\\CJG_25_2023_07_01-summary_5.txt -> C:/Users/G/Documents/GitHub/audycje.com.pl/content/audio\\CJG_25_2023_07_01.txt\n",
      "Record already exists: voiceapp\\output\\summaries_folder\\mistral-small_20241221_024011\\CJG_25_2023_07_01-summary_1.txt -> C:/Users/G/Documents/GitHub/audycje.com.pl/content/audio\\CJG_25_2023_07_01.txt\n",
      "Record already exists: voiceapp\\output\\summaries_folder\\mistral-small_20241221_024011\\CJG_25_2023_07_01-summary_2.txt -> C:/Users/G/Documents/GitHub/audycje.com.pl/content/audio\\CJG_25_2023_07_01.txt\n",
      "Record already exists: voiceapp\\output\\summaries_folder\\mistral-small_20241221_024011\\CJG_25_2023_07_01-summary_3.txt -> C:/Users/G/Documents/GitHub/audycje.com.pl/content/audio\\CJG_25_2023_07_01.txt\n",
      "Record already exists: voiceapp\\output\\summaries_folder\\mistral-small_20241221_024011\\CJG_25_2023_07_01-summary_4.txt -> C:/Users/G/Documents/GitHub/audycje.com.pl/content/audio\\CJG_25_2023_07_01.txt\n"
     ]
    },
    {
     "name": "stderr",
     "output_type": "stream",
     "text": [
      "\n",
      "Summarizing files for mistral-small:  26%|▎| 25/97 [1:45:32<5:12:41, 260.57s/it, file=CJG_24_2023\u001b[A\n",
      "Summarizing files for mistral-small:  26%|▎| 25/97 [1:45:32<5:12:41, 260.57s/it, file=CJG_25_2023\u001b[A"
     ]
    },
    {
     "name": "stdout",
     "output_type": "stream",
     "text": [
      "Record already exists: voiceapp\\output\\summaries_folder\\mistral-small_20241221_024011\\CJG_25_2023_07_01-summary_5.txt -> C:/Users/G/Documents/GitHub/audycje.com.pl/content/audio\\CJG_25_2023_07_01.txt\n",
      "Record already exists: voiceapp\\output\\summaries_folder\\mistral-small_20241221_024011\\CJG_26_2023_07_08-summary_1.txt -> C:/Users/G/Documents/GitHub/audycje.com.pl/content/audio\\CJG_26_2023_07_08.txt\n",
      "Record already exists: voiceapp\\output\\summaries_folder\\mistral-small_20241221_024011\\CJG_26_2023_07_08-summary_2.txt -> C:/Users/G/Documents/GitHub/audycje.com.pl/content/audio\\CJG_26_2023_07_08.txt\n",
      "Record already exists: voiceapp\\output\\summaries_folder\\mistral-small_20241221_024011\\CJG_26_2023_07_08-summary_3.txt -> C:/Users/G/Documents/GitHub/audycje.com.pl/content/audio\\CJG_26_2023_07_08.txt\n",
      "Record already exists: voiceapp\\output\\summaries_folder\\mistral-small_20241221_024011\\CJG_26_2023_07_08-summary_4.txt -> C:/Users/G/Documents/GitHub/audycje.com.pl/content/audio\\CJG_26_2023_07_08.txt\n",
      "Record already exists: voiceapp\\output\\summaries_folder\\mistral-small_20241221_024011\\CJG_26_2023_07_08-summary_5.txt -> C:/Users/G/Documents/GitHub/audycje.com.pl/content/audio\\CJG_26_2023_07_08.txt\n",
      "Record already exists: voiceapp\\output\\summaries_folder\\mistral-small_20241221_024011\\CJG_26_2023_07_08-summary_1.txt -> C:/Users/G/Documents/GitHub/audycje.com.pl/content/audio\\CJG_26_2023_07_08.txt\n",
      "Record already exists: voiceapp\\output\\summaries_folder\\mistral-small_20241221_024011\\CJG_26_2023_07_08-summary_2.txt -> C:/Users/G/Documents/GitHub/audycje.com.pl/content/audio\\CJG_26_2023_07_08.txt\n",
      "Record already exists: voiceapp\\output\\summaries_folder\\mistral-small_20241221_024011\\CJG_26_2023_07_08-summary_3.txt -> C:/Users/G/Documents/GitHub/audycje.com.pl/content/audio\\CJG_26_2023_07_08.txt\n",
      "Record already exists: voiceapp\\output\\summaries_folder\\mistral-small_20241221_024011\\CJG_26_2023_07_08-summary_4.txt -> C:/Users/G/Documents/GitHub/audycje.com.pl/content/audio\\CJG_26_2023_07_08.txt\n",
      "Record already exists: voiceapp\\output\\summaries_folder\\mistral-small_20241221_024011\\CJG_26_2023_07_08-summary_5.txt -> C:/Users/G/Documents/GitHub/audycje.com.pl/content/audio\\CJG_26_2023_07_08.txt\n",
      "Record already exists: voiceapp\\output\\summaries_folder\\mistral-small_20241221_024011\\CJG_26_2023_07_08-summary_1.txt -> C:/Users/G/Documents/GitHub/audycje.com.pl/content/audio\\CJG_26_2023_07_08.txt\n",
      "Record already exists: voiceapp\\output\\summaries_folder\\mistral-small_20241221_024011\\CJG_26_2023_07_08-summary_2.txt -> C:/Users/G/Documents/GitHub/audycje.com.pl/content/audio\\CJG_26_2023_07_08.txt\n",
      "Record already exists: voiceapp\\output\\summaries_folder\\mistral-small_20241221_024011\\CJG_26_2023_07_08-summary_3.txt -> C:/Users/G/Documents/GitHub/audycje.com.pl/content/audio\\CJG_26_2023_07_08.txt\n",
      "Record already exists: voiceapp\\output\\summaries_folder\\mistral-small_20241221_024011\\CJG_26_2023_07_08-summary_4.txt -> C:/Users/G/Documents/GitHub/audycje.com.pl/content/audio\\CJG_26_2023_07_08.txt\n"
     ]
    },
    {
     "name": "stderr",
     "output_type": "stream",
     "text": [
      "\n",
      "Summarizing files for mistral-small:  27%|▎| 26/97 [1:50:32<5:22:11, 272.27s/it, file=CJG_25_2023\u001b[A\n",
      "Summarizing files for mistral-small:  27%|▎| 26/97 [1:50:32<5:22:11, 272.27s/it, file=CJG_26_2023\u001b[A"
     ]
    },
    {
     "name": "stdout",
     "output_type": "stream",
     "text": [
      "Record already exists: voiceapp\\output\\summaries_folder\\mistral-small_20241221_024011\\CJG_26_2023_07_08-summary_5.txt -> C:/Users/G/Documents/GitHub/audycje.com.pl/content/audio\\CJG_26_2023_07_08.txt\n",
      "Record already exists: voiceapp\\output\\summaries_folder\\mistral-small_20241221_024011\\CJG_27_2023_07_15-summary_1.txt -> C:/Users/G/Documents/GitHub/audycje.com.pl/content/audio\\CJG_27_2023_07_15.txt\n",
      "Record already exists: voiceapp\\output\\summaries_folder\\mistral-small_20241221_024011\\CJG_27_2023_07_15-summary_2.txt -> C:/Users/G/Documents/GitHub/audycje.com.pl/content/audio\\CJG_27_2023_07_15.txt\n",
      "Record already exists: voiceapp\\output\\summaries_folder\\mistral-small_20241221_024011\\CJG_27_2023_07_15-summary_3.txt -> C:/Users/G/Documents/GitHub/audycje.com.pl/content/audio\\CJG_27_2023_07_15.txt\n",
      "Record already exists: voiceapp\\output\\summaries_folder\\mistral-small_20241221_024011\\CJG_27_2023_07_15-summary_4.txt -> C:/Users/G/Documents/GitHub/audycje.com.pl/content/audio\\CJG_27_2023_07_15.txt\n",
      "Record already exists: voiceapp\\output\\summaries_folder\\mistral-small_20241221_024011\\CJG_27_2023_07_15-summary_5.txt -> C:/Users/G/Documents/GitHub/audycje.com.pl/content/audio\\CJG_27_2023_07_15.txt\n",
      "Record already exists: voiceapp\\output\\summaries_folder\\mistral-small_20241221_024011\\CJG_27_2023_07_15-summary_1.txt -> C:/Users/G/Documents/GitHub/audycje.com.pl/content/audio\\CJG_27_2023_07_15.txt\n",
      "Record already exists: voiceapp\\output\\summaries_folder\\mistral-small_20241221_024011\\CJG_27_2023_07_15-summary_2.txt -> C:/Users/G/Documents/GitHub/audycje.com.pl/content/audio\\CJG_27_2023_07_15.txt\n",
      "Record already exists: voiceapp\\output\\summaries_folder\\mistral-small_20241221_024011\\CJG_27_2023_07_15-summary_3.txt -> C:/Users/G/Documents/GitHub/audycje.com.pl/content/audio\\CJG_27_2023_07_15.txt\n",
      "Record already exists: voiceapp\\output\\summaries_folder\\mistral-small_20241221_024011\\CJG_27_2023_07_15-summary_4.txt -> C:/Users/G/Documents/GitHub/audycje.com.pl/content/audio\\CJG_27_2023_07_15.txt\n",
      "Record already exists: voiceapp\\output\\summaries_folder\\mistral-small_20241221_024011\\CJG_27_2023_07_15-summary_5.txt -> C:/Users/G/Documents/GitHub/audycje.com.pl/content/audio\\CJG_27_2023_07_15.txt\n",
      "Record already exists: voiceapp\\output\\summaries_folder\\mistral-small_20241221_024011\\CJG_27_2023_07_15-summary_1.txt -> C:/Users/G/Documents/GitHub/audycje.com.pl/content/audio\\CJG_27_2023_07_15.txt\n",
      "Record already exists: voiceapp\\output\\summaries_folder\\mistral-small_20241221_024011\\CJG_27_2023_07_15-summary_2.txt -> C:/Users/G/Documents/GitHub/audycje.com.pl/content/audio\\CJG_27_2023_07_15.txt\n",
      "Record already exists: voiceapp\\output\\summaries_folder\\mistral-small_20241221_024011\\CJG_27_2023_07_15-summary_3.txt -> C:/Users/G/Documents/GitHub/audycje.com.pl/content/audio\\CJG_27_2023_07_15.txt\n",
      "Record already exists: voiceapp\\output\\summaries_folder\\mistral-small_20241221_024011\\CJG_27_2023_07_15-summary_4.txt -> C:/Users/G/Documents/GitHub/audycje.com.pl/content/audio\\CJG_27_2023_07_15.txt\n"
     ]
    },
    {
     "name": "stderr",
     "output_type": "stream",
     "text": [
      "\n",
      "Summarizing files for mistral-small:  28%|▎| 27/97 [1:55:18<5:22:27, 276.39s/it, file=CJG_26_2023\u001b[A\n",
      "Summarizing files for mistral-small:  28%|▎| 27/97 [1:55:18<5:22:27, 276.39s/it, file=CJG_27_2023\u001b[A"
     ]
    },
    {
     "name": "stdout",
     "output_type": "stream",
     "text": [
      "Record already exists: voiceapp\\output\\summaries_folder\\mistral-small_20241221_024011\\CJG_27_2023_07_15-summary_5.txt -> C:/Users/G/Documents/GitHub/audycje.com.pl/content/audio\\CJG_27_2023_07_15.txt\n",
      "Record already exists: voiceapp\\output\\summaries_folder\\mistral-small_20241221_024011\\CJG_28_2023_07_22-summary_1.txt -> C:/Users/G/Documents/GitHub/audycje.com.pl/content/audio\\CJG_28_2023_07_22.txt\n",
      "Record already exists: voiceapp\\output\\summaries_folder\\mistral-small_20241221_024011\\CJG_28_2023_07_22-summary_2.txt -> C:/Users/G/Documents/GitHub/audycje.com.pl/content/audio\\CJG_28_2023_07_22.txt\n",
      "Record already exists: voiceapp\\output\\summaries_folder\\mistral-small_20241221_024011\\CJG_28_2023_07_22-summary_3.txt -> C:/Users/G/Documents/GitHub/audycje.com.pl/content/audio\\CJG_28_2023_07_22.txt\n",
      "Record already exists: voiceapp\\output\\summaries_folder\\mistral-small_20241221_024011\\CJG_28_2023_07_22-summary_4.txt -> C:/Users/G/Documents/GitHub/audycje.com.pl/content/audio\\CJG_28_2023_07_22.txt\n",
      "Record already exists: voiceapp\\output\\summaries_folder\\mistral-small_20241221_024011\\CJG_28_2023_07_22-summary_5.txt -> C:/Users/G/Documents/GitHub/audycje.com.pl/content/audio\\CJG_28_2023_07_22.txt\n",
      "Record already exists: voiceapp\\output\\summaries_folder\\mistral-small_20241221_024011\\CJG_28_2023_07_22-summary_1.txt -> C:/Users/G/Documents/GitHub/audycje.com.pl/content/audio\\CJG_28_2023_07_22.txt\n",
      "Record already exists: voiceapp\\output\\summaries_folder\\mistral-small_20241221_024011\\CJG_28_2023_07_22-summary_2.txt -> C:/Users/G/Documents/GitHub/audycje.com.pl/content/audio\\CJG_28_2023_07_22.txt\n",
      "Record already exists: voiceapp\\output\\summaries_folder\\mistral-small_20241221_024011\\CJG_28_2023_07_22-summary_3.txt -> C:/Users/G/Documents/GitHub/audycje.com.pl/content/audio\\CJG_28_2023_07_22.txt\n",
      "Record already exists: voiceapp\\output\\summaries_folder\\mistral-small_20241221_024011\\CJG_28_2023_07_22-summary_4.txt -> C:/Users/G/Documents/GitHub/audycje.com.pl/content/audio\\CJG_28_2023_07_22.txt\n"
     ]
    },
    {
     "name": "stderr",
     "output_type": "stream",
     "text": [
      "\n",
      "Summarizing files for mistral-small:  29%|▎| 28/97 [1:59:01<4:59:37, 260.54s/it, file=CJG_27_2023\u001b[A\n",
      "Summarizing files for mistral-small:  29%|▎| 28/97 [1:59:01<4:59:37, 260.54s/it, file=CJG_28_2023\u001b[A"
     ]
    },
    {
     "name": "stdout",
     "output_type": "stream",
     "text": [
      "Record already exists: voiceapp\\output\\summaries_folder\\mistral-small_20241221_024011\\CJG_28_2023_07_22-summary_5.txt -> C:/Users/G/Documents/GitHub/audycje.com.pl/content/audio\\CJG_28_2023_07_22.txt\n",
      "Record already exists: voiceapp\\output\\summaries_folder\\mistral-small_20241221_024011\\CJG_29_2023_07_29-summary_1.txt -> C:/Users/G/Documents/GitHub/audycje.com.pl/content/audio\\CJG_29_2023_07_29.txt\n",
      "Record already exists: voiceapp\\output\\summaries_folder\\mistral-small_20241221_024011\\CJG_29_2023_07_29-summary_2.txt -> C:/Users/G/Documents/GitHub/audycje.com.pl/content/audio\\CJG_29_2023_07_29.txt\n",
      "Record already exists: voiceapp\\output\\summaries_folder\\mistral-small_20241221_024011\\CJG_29_2023_07_29-summary_3.txt -> C:/Users/G/Documents/GitHub/audycje.com.pl/content/audio\\CJG_29_2023_07_29.txt\n",
      "Record already exists: voiceapp\\output\\summaries_folder\\mistral-small_20241221_024011\\CJG_29_2023_07_29-summary_4.txt -> C:/Users/G/Documents/GitHub/audycje.com.pl/content/audio\\CJG_29_2023_07_29.txt\n",
      "Record already exists: voiceapp\\output\\summaries_folder\\mistral-small_20241221_024011\\CJG_29_2023_07_29-summary_5.txt -> C:/Users/G/Documents/GitHub/audycje.com.pl/content/audio\\CJG_29_2023_07_29.txt\n",
      "Record already exists: voiceapp\\output\\summaries_folder\\mistral-small_20241221_024011\\CJG_29_2023_07_29-summary_1.txt -> C:/Users/G/Documents/GitHub/audycje.com.pl/content/audio\\CJG_29_2023_07_29.txt\n",
      "Record already exists: voiceapp\\output\\summaries_folder\\mistral-small_20241221_024011\\CJG_29_2023_07_29-summary_2.txt -> C:/Users/G/Documents/GitHub/audycje.com.pl/content/audio\\CJG_29_2023_07_29.txt\n",
      "Record already exists: voiceapp\\output\\summaries_folder\\mistral-small_20241221_024011\\CJG_29_2023_07_29-summary_3.txt -> C:/Users/G/Documents/GitHub/audycje.com.pl/content/audio\\CJG_29_2023_07_29.txt\n",
      "Record already exists: voiceapp\\output\\summaries_folder\\mistral-small_20241221_024011\\CJG_29_2023_07_29-summary_4.txt -> C:/Users/G/Documents/GitHub/audycje.com.pl/content/audio\\CJG_29_2023_07_29.txt\n",
      "Record already exists: voiceapp\\output\\summaries_folder\\mistral-small_20241221_024011\\CJG_29_2023_07_29-summary_5.txt -> C:/Users/G/Documents/GitHub/audycje.com.pl/content/audio\\CJG_29_2023_07_29.txt\n",
      "Record already exists: voiceapp\\output\\summaries_folder\\mistral-small_20241221_024011\\CJG_29_2023_07_29-summary_1.txt -> C:/Users/G/Documents/GitHub/audycje.com.pl/content/audio\\CJG_29_2023_07_29.txt\n",
      "Record already exists: voiceapp\\output\\summaries_folder\\mistral-small_20241221_024011\\CJG_29_2023_07_29-summary_2.txt -> C:/Users/G/Documents/GitHub/audycje.com.pl/content/audio\\CJG_29_2023_07_29.txt\n",
      "Record already exists: voiceapp\\output\\summaries_folder\\mistral-small_20241221_024011\\CJG_29_2023_07_29-summary_3.txt -> C:/Users/G/Documents/GitHub/audycje.com.pl/content/audio\\CJG_29_2023_07_29.txt\n",
      "Record already exists: voiceapp\\output\\summaries_folder\\mistral-small_20241221_024011\\CJG_29_2023_07_29-summary_4.txt -> C:/Users/G/Documents/GitHub/audycje.com.pl/content/audio\\CJG_29_2023_07_29.txt\n"
     ]
    },
    {
     "name": "stderr",
     "output_type": "stream",
     "text": [
      "\n",
      "Summarizing files for mistral-small:  30%|▎| 29/97 [2:03:57<5:07:27, 271.29s/it, file=CJG_28_2023\u001b[A\n",
      "Summarizing files for mistral-small:  30%|▎| 29/97 [2:03:57<5:07:27, 271.29s/it, file=CJG_29_2023\u001b[A"
     ]
    },
    {
     "name": "stdout",
     "output_type": "stream",
     "text": [
      "Record already exists: voiceapp\\output\\summaries_folder\\mistral-small_20241221_024011\\CJG_29_2023_07_29-summary_5.txt -> C:/Users/G/Documents/GitHub/audycje.com.pl/content/audio\\CJG_29_2023_07_29.txt\n",
      "Record already exists: voiceapp\\output\\summaries_folder\\mistral-small_20241221_024011\\CJG_30_2023_08_05-summary_1.txt -> C:/Users/G/Documents/GitHub/audycje.com.pl/content/audio\\CJG_30_2023_08_05.txt\n",
      "Record already exists: voiceapp\\output\\summaries_folder\\mistral-small_20241221_024011\\CJG_30_2023_08_05-summary_2.txt -> C:/Users/G/Documents/GitHub/audycje.com.pl/content/audio\\CJG_30_2023_08_05.txt\n",
      "Record already exists: voiceapp\\output\\summaries_folder\\mistral-small_20241221_024011\\CJG_30_2023_08_05-summary_3.txt -> C:/Users/G/Documents/GitHub/audycje.com.pl/content/audio\\CJG_30_2023_08_05.txt\n",
      "Record already exists: voiceapp\\output\\summaries_folder\\mistral-small_20241221_024011\\CJG_30_2023_08_05-summary_4.txt -> C:/Users/G/Documents/GitHub/audycje.com.pl/content/audio\\CJG_30_2023_08_05.txt\n",
      "Record already exists: voiceapp\\output\\summaries_folder\\mistral-small_20241221_024011\\CJG_30_2023_08_05-summary_5.txt -> C:/Users/G/Documents/GitHub/audycje.com.pl/content/audio\\CJG_30_2023_08_05.txt\n",
      "Record already exists: voiceapp\\output\\summaries_folder\\mistral-small_20241221_024011\\CJG_30_2023_08_05-summary_1.txt -> C:/Users/G/Documents/GitHub/audycje.com.pl/content/audio\\CJG_30_2023_08_05.txt\n",
      "Record already exists: voiceapp\\output\\summaries_folder\\mistral-small_20241221_024011\\CJG_30_2023_08_05-summary_2.txt -> C:/Users/G/Documents/GitHub/audycje.com.pl/content/audio\\CJG_30_2023_08_05.txt\n",
      "Record already exists: voiceapp\\output\\summaries_folder\\mistral-small_20241221_024011\\CJG_30_2023_08_05-summary_3.txt -> C:/Users/G/Documents/GitHub/audycje.com.pl/content/audio\\CJG_30_2023_08_05.txt\n",
      "Record already exists: voiceapp\\output\\summaries_folder\\mistral-small_20241221_024011\\CJG_30_2023_08_05-summary_4.txt -> C:/Users/G/Documents/GitHub/audycje.com.pl/content/audio\\CJG_30_2023_08_05.txt\n",
      "Record already exists: voiceapp\\output\\summaries_folder\\mistral-small_20241221_024011\\CJG_30_2023_08_05-summary_5.txt -> C:/Users/G/Documents/GitHub/audycje.com.pl/content/audio\\CJG_30_2023_08_05.txt\n",
      "Record already exists: voiceapp\\output\\summaries_folder\\mistral-small_20241221_024011\\CJG_30_2023_08_05-summary_1.txt -> C:/Users/G/Documents/GitHub/audycje.com.pl/content/audio\\CJG_30_2023_08_05.txt\n",
      "Record already exists: voiceapp\\output\\summaries_folder\\mistral-small_20241221_024011\\CJG_30_2023_08_05-summary_2.txt -> C:/Users/G/Documents/GitHub/audycje.com.pl/content/audio\\CJG_30_2023_08_05.txt\n",
      "Record already exists: voiceapp\\output\\summaries_folder\\mistral-small_20241221_024011\\CJG_30_2023_08_05-summary_3.txt -> C:/Users/G/Documents/GitHub/audycje.com.pl/content/audio\\CJG_30_2023_08_05.txt\n",
      "Record already exists: voiceapp\\output\\summaries_folder\\mistral-small_20241221_024011\\CJG_30_2023_08_05-summary_4.txt -> C:/Users/G/Documents/GitHub/audycje.com.pl/content/audio\\CJG_30_2023_08_05.txt\n"
     ]
    },
    {
     "name": "stderr",
     "output_type": "stream",
     "text": [
      "\n",
      "Summarizing files for mistral-small:  31%|▎| 30/97 [2:09:15<5:18:32, 285.26s/it, file=CJG_29_2023\u001b[A\n",
      "Summarizing files for mistral-small:  31%|▎| 30/97 [2:09:15<5:18:32, 285.26s/it, file=CJG_30_2023\u001b[A"
     ]
    },
    {
     "name": "stdout",
     "output_type": "stream",
     "text": [
      "Record already exists: voiceapp\\output\\summaries_folder\\mistral-small_20241221_024011\\CJG_30_2023_08_05-summary_5.txt -> C:/Users/G/Documents/GitHub/audycje.com.pl/content/audio\\CJG_30_2023_08_05.txt\n",
      "Record already exists: voiceapp\\output\\summaries_folder\\mistral-small_20241221_024011\\CJG_31_2023_09_09-summary_1.txt -> C:/Users/G/Documents/GitHub/audycje.com.pl/content/audio\\CJG_31_2023_09_09.txt\n",
      "Record already exists: voiceapp\\output\\summaries_folder\\mistral-small_20241221_024011\\CJG_31_2023_09_09-summary_2.txt -> C:/Users/G/Documents/GitHub/audycje.com.pl/content/audio\\CJG_31_2023_09_09.txt\n",
      "Record already exists: voiceapp\\output\\summaries_folder\\mistral-small_20241221_024011\\CJG_31_2023_09_09-summary_3.txt -> C:/Users/G/Documents/GitHub/audycje.com.pl/content/audio\\CJG_31_2023_09_09.txt\n",
      "Record already exists: voiceapp\\output\\summaries_folder\\mistral-small_20241221_024011\\CJG_31_2023_09_09-summary_4.txt -> C:/Users/G/Documents/GitHub/audycje.com.pl/content/audio\\CJG_31_2023_09_09.txt\n",
      "Record already exists: voiceapp\\output\\summaries_folder\\mistral-small_20241221_024011\\CJG_31_2023_09_09-summary_5.txt -> C:/Users/G/Documents/GitHub/audycje.com.pl/content/audio\\CJG_31_2023_09_09.txt\n",
      "Record already exists: voiceapp\\output\\summaries_folder\\mistral-small_20241221_024011\\CJG_31_2023_09_09-summary_1.txt -> C:/Users/G/Documents/GitHub/audycje.com.pl/content/audio\\CJG_31_2023_09_09.txt\n",
      "Record already exists: voiceapp\\output\\summaries_folder\\mistral-small_20241221_024011\\CJG_31_2023_09_09-summary_2.txt -> C:/Users/G/Documents/GitHub/audycje.com.pl/content/audio\\CJG_31_2023_09_09.txt\n",
      "Record already exists: voiceapp\\output\\summaries_folder\\mistral-small_20241221_024011\\CJG_31_2023_09_09-summary_3.txt -> C:/Users/G/Documents/GitHub/audycje.com.pl/content/audio\\CJG_31_2023_09_09.txt\n",
      "Record already exists: voiceapp\\output\\summaries_folder\\mistral-small_20241221_024011\\CJG_31_2023_09_09-summary_4.txt -> C:/Users/G/Documents/GitHub/audycje.com.pl/content/audio\\CJG_31_2023_09_09.txt\n",
      "Record already exists: voiceapp\\output\\summaries_folder\\mistral-small_20241221_024011\\CJG_31_2023_09_09-summary_5.txt -> C:/Users/G/Documents/GitHub/audycje.com.pl/content/audio\\CJG_31_2023_09_09.txt\n",
      "Record already exists: voiceapp\\output\\summaries_folder\\mistral-small_20241221_024011\\CJG_31_2023_09_09-summary_1.txt -> C:/Users/G/Documents/GitHub/audycje.com.pl/content/audio\\CJG_31_2023_09_09.txt\n",
      "Record already exists: voiceapp\\output\\summaries_folder\\mistral-small_20241221_024011\\CJG_31_2023_09_09-summary_2.txt -> C:/Users/G/Documents/GitHub/audycje.com.pl/content/audio\\CJG_31_2023_09_09.txt\n",
      "Record already exists: voiceapp\\output\\summaries_folder\\mistral-small_20241221_024011\\CJG_31_2023_09_09-summary_3.txt -> C:/Users/G/Documents/GitHub/audycje.com.pl/content/audio\\CJG_31_2023_09_09.txt\n",
      "Record already exists: voiceapp\\output\\summaries_folder\\mistral-small_20241221_024011\\CJG_31_2023_09_09-summary_4.txt -> C:/Users/G/Documents/GitHub/audycje.com.pl/content/audio\\CJG_31_2023_09_09.txt\n"
     ]
    },
    {
     "name": "stderr",
     "output_type": "stream",
     "text": [
      "\n",
      "Summarizing files for mistral-small:  32%|▎| 31/97 [2:14:06<5:15:25, 286.74s/it, file=CJG_30_2023\u001b[A\n",
      "Summarizing files for mistral-small:  32%|▎| 31/97 [2:14:06<5:15:25, 286.74s/it, file=CJG_31_2023\u001b[A"
     ]
    },
    {
     "name": "stdout",
     "output_type": "stream",
     "text": [
      "Record already exists: voiceapp\\output\\summaries_folder\\mistral-small_20241221_024011\\CJG_31_2023_09_09-summary_5.txt -> C:/Users/G/Documents/GitHub/audycje.com.pl/content/audio\\CJG_31_2023_09_09.txt\n",
      "Record already exists: voiceapp\\output\\summaries_folder\\mistral-small_20241221_024011\\CJG_32_2023_09_16-summary_1.txt -> C:/Users/G/Documents/GitHub/audycje.com.pl/content/audio\\CJG_32_2023_09_16.txt\n",
      "Record already exists: voiceapp\\output\\summaries_folder\\mistral-small_20241221_024011\\CJG_32_2023_09_16-summary_2.txt -> C:/Users/G/Documents/GitHub/audycje.com.pl/content/audio\\CJG_32_2023_09_16.txt\n",
      "Record already exists: voiceapp\\output\\summaries_folder\\mistral-small_20241221_024011\\CJG_32_2023_09_16-summary_3.txt -> C:/Users/G/Documents/GitHub/audycje.com.pl/content/audio\\CJG_32_2023_09_16.txt\n",
      "Record already exists: voiceapp\\output\\summaries_folder\\mistral-small_20241221_024011\\CJG_32_2023_09_16-summary_4.txt -> C:/Users/G/Documents/GitHub/audycje.com.pl/content/audio\\CJG_32_2023_09_16.txt\n",
      "Record already exists: voiceapp\\output\\summaries_folder\\mistral-small_20241221_024011\\CJG_32_2023_09_16-summary_5.txt -> C:/Users/G/Documents/GitHub/audycje.com.pl/content/audio\\CJG_32_2023_09_16.txt\n",
      "Record already exists: voiceapp\\output\\summaries_folder\\mistral-small_20241221_024011\\CJG_32_2023_09_16-summary_1.txt -> C:/Users/G/Documents/GitHub/audycje.com.pl/content/audio\\CJG_32_2023_09_16.txt\n",
      "Record already exists: voiceapp\\output\\summaries_folder\\mistral-small_20241221_024011\\CJG_32_2023_09_16-summary_2.txt -> C:/Users/G/Documents/GitHub/audycje.com.pl/content/audio\\CJG_32_2023_09_16.txt\n",
      "Record already exists: voiceapp\\output\\summaries_folder\\mistral-small_20241221_024011\\CJG_32_2023_09_16-summary_3.txt -> C:/Users/G/Documents/GitHub/audycje.com.pl/content/audio\\CJG_32_2023_09_16.txt\n",
      "Record already exists: voiceapp\\output\\summaries_folder\\mistral-small_20241221_024011\\CJG_32_2023_09_16-summary_4.txt -> C:/Users/G/Documents/GitHub/audycje.com.pl/content/audio\\CJG_32_2023_09_16.txt\n",
      "Record already exists: voiceapp\\output\\summaries_folder\\mistral-small_20241221_024011\\CJG_32_2023_09_16-summary_5.txt -> C:/Users/G/Documents/GitHub/audycje.com.pl/content/audio\\CJG_32_2023_09_16.txt\n",
      "Record already exists: voiceapp\\output\\summaries_folder\\mistral-small_20241221_024011\\CJG_32_2023_09_16-summary_1.txt -> C:/Users/G/Documents/GitHub/audycje.com.pl/content/audio\\CJG_32_2023_09_16.txt\n",
      "Record already exists: voiceapp\\output\\summaries_folder\\mistral-small_20241221_024011\\CJG_32_2023_09_16-summary_2.txt -> C:/Users/G/Documents/GitHub/audycje.com.pl/content/audio\\CJG_32_2023_09_16.txt\n",
      "Record already exists: voiceapp\\output\\summaries_folder\\mistral-small_20241221_024011\\CJG_32_2023_09_16-summary_3.txt -> C:/Users/G/Documents/GitHub/audycje.com.pl/content/audio\\CJG_32_2023_09_16.txt\n",
      "Record already exists: voiceapp\\output\\summaries_folder\\mistral-small_20241221_024011\\CJG_32_2023_09_16-summary_4.txt -> C:/Users/G/Documents/GitHub/audycje.com.pl/content/audio\\CJG_32_2023_09_16.txt\n"
     ]
    },
    {
     "name": "stderr",
     "output_type": "stream",
     "text": [
      "\n",
      "Summarizing files for mistral-small:  33%|▎| 32/97 [2:19:09<5:16:01, 291.72s/it, file=CJG_31_2023\u001b[A\n",
      "Summarizing files for mistral-small:  33%|▎| 32/97 [2:19:09<5:16:01, 291.72s/it, file=CJG_32_2023\u001b[A"
     ]
    },
    {
     "name": "stdout",
     "output_type": "stream",
     "text": [
      "Record already exists: voiceapp\\output\\summaries_folder\\mistral-small_20241221_024011\\CJG_32_2023_09_16-summary_5.txt -> C:/Users/G/Documents/GitHub/audycje.com.pl/content/audio\\CJG_32_2023_09_16.txt\n",
      "Record already exists: voiceapp\\output\\summaries_folder\\mistral-small_20241221_024011\\CJG_33_2023_09_23-summary_1.txt -> C:/Users/G/Documents/GitHub/audycje.com.pl/content/audio\\CJG_33_2023_09_23.txt\n",
      "Record already exists: voiceapp\\output\\summaries_folder\\mistral-small_20241221_024011\\CJG_33_2023_09_23-summary_2.txt -> C:/Users/G/Documents/GitHub/audycje.com.pl/content/audio\\CJG_33_2023_09_23.txt\n",
      "Record already exists: voiceapp\\output\\summaries_folder\\mistral-small_20241221_024011\\CJG_33_2023_09_23-summary_3.txt -> C:/Users/G/Documents/GitHub/audycje.com.pl/content/audio\\CJG_33_2023_09_23.txt\n",
      "Record already exists: voiceapp\\output\\summaries_folder\\mistral-small_20241221_024011\\CJG_33_2023_09_23-summary_4.txt -> C:/Users/G/Documents/GitHub/audycje.com.pl/content/audio\\CJG_33_2023_09_23.txt\n",
      "Record already exists: voiceapp\\output\\summaries_folder\\mistral-small_20241221_024011\\CJG_33_2023_09_23-summary_5.txt -> C:/Users/G/Documents/GitHub/audycje.com.pl/content/audio\\CJG_33_2023_09_23.txt\n",
      "Record already exists: voiceapp\\output\\summaries_folder\\mistral-small_20241221_024011\\CJG_33_2023_09_23-summary_1.txt -> C:/Users/G/Documents/GitHub/audycje.com.pl/content/audio\\CJG_33_2023_09_23.txt\n",
      "Record already exists: voiceapp\\output\\summaries_folder\\mistral-small_20241221_024011\\CJG_33_2023_09_23-summary_2.txt -> C:/Users/G/Documents/GitHub/audycje.com.pl/content/audio\\CJG_33_2023_09_23.txt\n",
      "Record already exists: voiceapp\\output\\summaries_folder\\mistral-small_20241221_024011\\CJG_33_2023_09_23-summary_3.txt -> C:/Users/G/Documents/GitHub/audycje.com.pl/content/audio\\CJG_33_2023_09_23.txt\n",
      "Record already exists: voiceapp\\output\\summaries_folder\\mistral-small_20241221_024011\\CJG_33_2023_09_23-summary_4.txt -> C:/Users/G/Documents/GitHub/audycje.com.pl/content/audio\\CJG_33_2023_09_23.txt\n",
      "Record already exists: voiceapp\\output\\summaries_folder\\mistral-small_20241221_024011\\CJG_33_2023_09_23-summary_5.txt -> C:/Users/G/Documents/GitHub/audycje.com.pl/content/audio\\CJG_33_2023_09_23.txt\n",
      "Record already exists: voiceapp\\output\\summaries_folder\\mistral-small_20241221_024011\\CJG_33_2023_09_23-summary_1.txt -> C:/Users/G/Documents/GitHub/audycje.com.pl/content/audio\\CJG_33_2023_09_23.txt\n",
      "Record already exists: voiceapp\\output\\summaries_folder\\mistral-small_20241221_024011\\CJG_33_2023_09_23-summary_2.txt -> C:/Users/G/Documents/GitHub/audycje.com.pl/content/audio\\CJG_33_2023_09_23.txt\n",
      "Record already exists: voiceapp\\output\\summaries_folder\\mistral-small_20241221_024011\\CJG_33_2023_09_23-summary_3.txt -> C:/Users/G/Documents/GitHub/audycje.com.pl/content/audio\\CJG_33_2023_09_23.txt\n",
      "Record already exists: voiceapp\\output\\summaries_folder\\mistral-small_20241221_024011\\CJG_33_2023_09_23-summary_4.txt -> C:/Users/G/Documents/GitHub/audycje.com.pl/content/audio\\CJG_33_2023_09_23.txt\n"
     ]
    },
    {
     "name": "stderr",
     "output_type": "stream",
     "text": [
      "\n",
      "Summarizing files for mistral-small:  34%|▎| 33/97 [2:24:11<5:14:21, 294.71s/it, file=CJG_32_2023\u001b[A\n",
      "Summarizing files for mistral-small:  34%|▎| 33/97 [2:24:11<5:14:21, 294.71s/it, file=CJG_33_2023\u001b[A"
     ]
    },
    {
     "name": "stdout",
     "output_type": "stream",
     "text": [
      "Record already exists: voiceapp\\output\\summaries_folder\\mistral-small_20241221_024011\\CJG_33_2023_09_23-summary_5.txt -> C:/Users/G/Documents/GitHub/audycje.com.pl/content/audio\\CJG_33_2023_09_23.txt\n",
      "Record already exists: voiceapp\\output\\summaries_folder\\mistral-small_20241221_024011\\CJG_34_2023_09_30-summary_1.txt -> C:/Users/G/Documents/GitHub/audycje.com.pl/content/audio\\CJG_34_2023_09_30.txt\n",
      "Record already exists: voiceapp\\output\\summaries_folder\\mistral-small_20241221_024011\\CJG_34_2023_09_30-summary_2.txt -> C:/Users/G/Documents/GitHub/audycje.com.pl/content/audio\\CJG_34_2023_09_30.txt\n",
      "Record already exists: voiceapp\\output\\summaries_folder\\mistral-small_20241221_024011\\CJG_34_2023_09_30-summary_3.txt -> C:/Users/G/Documents/GitHub/audycje.com.pl/content/audio\\CJG_34_2023_09_30.txt\n",
      "Record already exists: voiceapp\\output\\summaries_folder\\mistral-small_20241221_024011\\CJG_34_2023_09_30-summary_4.txt -> C:/Users/G/Documents/GitHub/audycje.com.pl/content/audio\\CJG_34_2023_09_30.txt\n",
      "Record already exists: voiceapp\\output\\summaries_folder\\mistral-small_20241221_024011\\CJG_34_2023_09_30-summary_5.txt -> C:/Users/G/Documents/GitHub/audycje.com.pl/content/audio\\CJG_34_2023_09_30.txt\n",
      "Record already exists: voiceapp\\output\\summaries_folder\\mistral-small_20241221_024011\\CJG_34_2023_09_30-summary_1.txt -> C:/Users/G/Documents/GitHub/audycje.com.pl/content/audio\\CJG_34_2023_09_30.txt\n",
      "Record already exists: voiceapp\\output\\summaries_folder\\mistral-small_20241221_024011\\CJG_34_2023_09_30-summary_2.txt -> C:/Users/G/Documents/GitHub/audycje.com.pl/content/audio\\CJG_34_2023_09_30.txt\n",
      "Record already exists: voiceapp\\output\\summaries_folder\\mistral-small_20241221_024011\\CJG_34_2023_09_30-summary_3.txt -> C:/Users/G/Documents/GitHub/audycje.com.pl/content/audio\\CJG_34_2023_09_30.txt\n",
      "Record already exists: voiceapp\\output\\summaries_folder\\mistral-small_20241221_024011\\CJG_34_2023_09_30-summary_4.txt -> C:/Users/G/Documents/GitHub/audycje.com.pl/content/audio\\CJG_34_2023_09_30.txt\n",
      "Record already exists: voiceapp\\output\\summaries_folder\\mistral-small_20241221_024011\\CJG_34_2023_09_30-summary_5.txt -> C:/Users/G/Documents/GitHub/audycje.com.pl/content/audio\\CJG_34_2023_09_30.txt\n",
      "Record already exists: voiceapp\\output\\summaries_folder\\mistral-small_20241221_024011\\CJG_34_2023_09_30-summary_1.txt -> C:/Users/G/Documents/GitHub/audycje.com.pl/content/audio\\CJG_34_2023_09_30.txt\n",
      "Record already exists: voiceapp\\output\\summaries_folder\\mistral-small_20241221_024011\\CJG_34_2023_09_30-summary_2.txt -> C:/Users/G/Documents/GitHub/audycje.com.pl/content/audio\\CJG_34_2023_09_30.txt\n",
      "Record already exists: voiceapp\\output\\summaries_folder\\mistral-small_20241221_024011\\CJG_34_2023_09_30-summary_3.txt -> C:/Users/G/Documents/GitHub/audycje.com.pl/content/audio\\CJG_34_2023_09_30.txt\n",
      "Record already exists: voiceapp\\output\\summaries_folder\\mistral-small_20241221_024011\\CJG_34_2023_09_30-summary_4.txt -> C:/Users/G/Documents/GitHub/audycje.com.pl/content/audio\\CJG_34_2023_09_30.txt\n"
     ]
    },
    {
     "name": "stderr",
     "output_type": "stream",
     "text": [
      "\n",
      "Summarizing files for mistral-small:  35%|▎| 34/97 [2:29:15<5:12:23, 297.52s/it, file=CJG_33_2023\u001b[A\n",
      "Summarizing files for mistral-small:  35%|▎| 34/97 [2:29:15<5:12:23, 297.52s/it, file=CJG_34_2023\u001b[A"
     ]
    },
    {
     "name": "stdout",
     "output_type": "stream",
     "text": [
      "Record already exists: voiceapp\\output\\summaries_folder\\mistral-small_20241221_024011\\CJG_34_2023_09_30-summary_5.txt -> C:/Users/G/Documents/GitHub/audycje.com.pl/content/audio\\CJG_34_2023_09_30.txt\n",
      "Record already exists: voiceapp\\output\\summaries_folder\\mistral-small_20241221_024011\\CJG_35_2023_10_07-summary_1.txt -> C:/Users/G/Documents/GitHub/audycje.com.pl/content/audio\\CJG_35_2023_10_07.txt\n",
      "Record already exists: voiceapp\\output\\summaries_folder\\mistral-small_20241221_024011\\CJG_35_2023_10_07-summary_2.txt -> C:/Users/G/Documents/GitHub/audycje.com.pl/content/audio\\CJG_35_2023_10_07.txt\n",
      "Record already exists: voiceapp\\output\\summaries_folder\\mistral-small_20241221_024011\\CJG_35_2023_10_07-summary_3.txt -> C:/Users/G/Documents/GitHub/audycje.com.pl/content/audio\\CJG_35_2023_10_07.txt\n",
      "Record already exists: voiceapp\\output\\summaries_folder\\mistral-small_20241221_024011\\CJG_35_2023_10_07-summary_4.txt -> C:/Users/G/Documents/GitHub/audycje.com.pl/content/audio\\CJG_35_2023_10_07.txt\n",
      "Record already exists: voiceapp\\output\\summaries_folder\\mistral-small_20241221_024011\\CJG_35_2023_10_07-summary_5.txt -> C:/Users/G/Documents/GitHub/audycje.com.pl/content/audio\\CJG_35_2023_10_07.txt\n",
      "Record already exists: voiceapp\\output\\summaries_folder\\mistral-small_20241221_024011\\CJG_35_2023_10_07-summary_1.txt -> C:/Users/G/Documents/GitHub/audycje.com.pl/content/audio\\CJG_35_2023_10_07.txt\n",
      "Record already exists: voiceapp\\output\\summaries_folder\\mistral-small_20241221_024011\\CJG_35_2023_10_07-summary_2.txt -> C:/Users/G/Documents/GitHub/audycje.com.pl/content/audio\\CJG_35_2023_10_07.txt\n",
      "Record already exists: voiceapp\\output\\summaries_folder\\mistral-small_20241221_024011\\CJG_35_2023_10_07-summary_3.txt -> C:/Users/G/Documents/GitHub/audycje.com.pl/content/audio\\CJG_35_2023_10_07.txt\n",
      "Record already exists: voiceapp\\output\\summaries_folder\\mistral-small_20241221_024011\\CJG_35_2023_10_07-summary_4.txt -> C:/Users/G/Documents/GitHub/audycje.com.pl/content/audio\\CJG_35_2023_10_07.txt\n",
      "Record already exists: voiceapp\\output\\summaries_folder\\mistral-small_20241221_024011\\CJG_35_2023_10_07-summary_5.txt -> C:/Users/G/Documents/GitHub/audycje.com.pl/content/audio\\CJG_35_2023_10_07.txt\n",
      "Record already exists: voiceapp\\output\\summaries_folder\\mistral-small_20241221_024011\\CJG_35_2023_10_07-summary_1.txt -> C:/Users/G/Documents/GitHub/audycje.com.pl/content/audio\\CJG_35_2023_10_07.txt\n",
      "Record already exists: voiceapp\\output\\summaries_folder\\mistral-small_20241221_024011\\CJG_35_2023_10_07-summary_2.txt -> C:/Users/G/Documents/GitHub/audycje.com.pl/content/audio\\CJG_35_2023_10_07.txt\n",
      "Record already exists: voiceapp\\output\\summaries_folder\\mistral-small_20241221_024011\\CJG_35_2023_10_07-summary_3.txt -> C:/Users/G/Documents/GitHub/audycje.com.pl/content/audio\\CJG_35_2023_10_07.txt\n",
      "Record already exists: voiceapp\\output\\summaries_folder\\mistral-small_20241221_024011\\CJG_35_2023_10_07-summary_4.txt -> C:/Users/G/Documents/GitHub/audycje.com.pl/content/audio\\CJG_35_2023_10_07.txt\n"
     ]
    },
    {
     "name": "stderr",
     "output_type": "stream",
     "text": [
      "\n",
      "Summarizing files for mistral-small:  36%|▎| 35/97 [2:34:34<5:14:15, 304.12s/it, file=CJG_34_2023\u001b[A\n",
      "Summarizing files for mistral-small:  36%|▎| 35/97 [2:34:34<5:14:15, 304.12s/it, file=CJG_35_2023\u001b[A"
     ]
    },
    {
     "name": "stdout",
     "output_type": "stream",
     "text": [
      "Record already exists: voiceapp\\output\\summaries_folder\\mistral-small_20241221_024011\\CJG_35_2023_10_07-summary_5.txt -> C:/Users/G/Documents/GitHub/audycje.com.pl/content/audio\\CJG_35_2023_10_07.txt\n",
      "Record already exists: voiceapp\\output\\summaries_folder\\mistral-small_20241221_024011\\CJG_36_2023_10_14-summary_1.txt -> C:/Users/G/Documents/GitHub/audycje.com.pl/content/audio\\CJG_36_2023_10_14.txt\n",
      "Record already exists: voiceapp\\output\\summaries_folder\\mistral-small_20241221_024011\\CJG_36_2023_10_14-summary_2.txt -> C:/Users/G/Documents/GitHub/audycje.com.pl/content/audio\\CJG_36_2023_10_14.txt\n",
      "Record already exists: voiceapp\\output\\summaries_folder\\mistral-small_20241221_024011\\CJG_36_2023_10_14-summary_3.txt -> C:/Users/G/Documents/GitHub/audycje.com.pl/content/audio\\CJG_36_2023_10_14.txt\n",
      "Record already exists: voiceapp\\output\\summaries_folder\\mistral-small_20241221_024011\\CJG_36_2023_10_14-summary_4.txt -> C:/Users/G/Documents/GitHub/audycje.com.pl/content/audio\\CJG_36_2023_10_14.txt\n",
      "Record already exists: voiceapp\\output\\summaries_folder\\mistral-small_20241221_024011\\CJG_36_2023_10_14-summary_5.txt -> C:/Users/G/Documents/GitHub/audycje.com.pl/content/audio\\CJG_36_2023_10_14.txt\n",
      "Record already exists: voiceapp\\output\\summaries_folder\\mistral-small_20241221_024011\\CJG_36_2023_10_14-summary_1.txt -> C:/Users/G/Documents/GitHub/audycje.com.pl/content/audio\\CJG_36_2023_10_14.txt\n",
      "Record already exists: voiceapp\\output\\summaries_folder\\mistral-small_20241221_024011\\CJG_36_2023_10_14-summary_2.txt -> C:/Users/G/Documents/GitHub/audycje.com.pl/content/audio\\CJG_36_2023_10_14.txt\n",
      "Record already exists: voiceapp\\output\\summaries_folder\\mistral-small_20241221_024011\\CJG_36_2023_10_14-summary_3.txt -> C:/Users/G/Documents/GitHub/audycje.com.pl/content/audio\\CJG_36_2023_10_14.txt\n",
      "Record already exists: voiceapp\\output\\summaries_folder\\mistral-small_20241221_024011\\CJG_36_2023_10_14-summary_4.txt -> C:/Users/G/Documents/GitHub/audycje.com.pl/content/audio\\CJG_36_2023_10_14.txt\n",
      "Record already exists: voiceapp\\output\\summaries_folder\\mistral-small_20241221_024011\\CJG_36_2023_10_14-summary_5.txt -> C:/Users/G/Documents/GitHub/audycje.com.pl/content/audio\\CJG_36_2023_10_14.txt\n",
      "Record already exists: voiceapp\\output\\summaries_folder\\mistral-small_20241221_024011\\CJG_36_2023_10_14-summary_1.txt -> C:/Users/G/Documents/GitHub/audycje.com.pl/content/audio\\CJG_36_2023_10_14.txt\n",
      "Record already exists: voiceapp\\output\\summaries_folder\\mistral-small_20241221_024011\\CJG_36_2023_10_14-summary_2.txt -> C:/Users/G/Documents/GitHub/audycje.com.pl/content/audio\\CJG_36_2023_10_14.txt\n",
      "Record already exists: voiceapp\\output\\summaries_folder\\mistral-small_20241221_024011\\CJG_36_2023_10_14-summary_3.txt -> C:/Users/G/Documents/GitHub/audycje.com.pl/content/audio\\CJG_36_2023_10_14.txt\n",
      "Record already exists: voiceapp\\output\\summaries_folder\\mistral-small_20241221_024011\\CJG_36_2023_10_14-summary_4.txt -> C:/Users/G/Documents/GitHub/audycje.com.pl/content/audio\\CJG_36_2023_10_14.txt\n"
     ]
    },
    {
     "name": "stderr",
     "output_type": "stream",
     "text": [
      "\n",
      "Summarizing files for mistral-small:  37%|▎| 36/97 [2:38:35<4:50:01, 285.28s/it, file=CJG_35_2023\u001b[A\n",
      "Summarizing files for mistral-small:  37%|▎| 36/97 [2:38:35<4:50:01, 285.28s/it, file=CJG_36_2023\u001b[A"
     ]
    },
    {
     "name": "stdout",
     "output_type": "stream",
     "text": [
      "Record already exists: voiceapp\\output\\summaries_folder\\mistral-small_20241221_024011\\CJG_36_2023_10_14-summary_5.txt -> C:/Users/G/Documents/GitHub/audycje.com.pl/content/audio\\CJG_36_2023_10_14.txt\n",
      "Record already exists: voiceapp\\output\\summaries_folder\\mistral-small_20241221_024011\\CJG_37_2023_10_21-summary_1.txt -> C:/Users/G/Documents/GitHub/audycje.com.pl/content/audio\\CJG_37_2023_10_21.txt\n",
      "Record already exists: voiceapp\\output\\summaries_folder\\mistral-small_20241221_024011\\CJG_37_2023_10_21-summary_2.txt -> C:/Users/G/Documents/GitHub/audycje.com.pl/content/audio\\CJG_37_2023_10_21.txt\n",
      "Record already exists: voiceapp\\output\\summaries_folder\\mistral-small_20241221_024011\\CJG_37_2023_10_21-summary_3.txt -> C:/Users/G/Documents/GitHub/audycje.com.pl/content/audio\\CJG_37_2023_10_21.txt\n",
      "Record already exists: voiceapp\\output\\summaries_folder\\mistral-small_20241221_024011\\CJG_37_2023_10_21-summary_4.txt -> C:/Users/G/Documents/GitHub/audycje.com.pl/content/audio\\CJG_37_2023_10_21.txt\n",
      "Record already exists: voiceapp\\output\\summaries_folder\\mistral-small_20241221_024011\\CJG_37_2023_10_21-summary_5.txt -> C:/Users/G/Documents/GitHub/audycje.com.pl/content/audio\\CJG_37_2023_10_21.txt\n",
      "Record already exists: voiceapp\\output\\summaries_folder\\mistral-small_20241221_024011\\CJG_37_2023_10_21-summary_1.txt -> C:/Users/G/Documents/GitHub/audycje.com.pl/content/audio\\CJG_37_2023_10_21.txt\n",
      "Record already exists: voiceapp\\output\\summaries_folder\\mistral-small_20241221_024011\\CJG_37_2023_10_21-summary_2.txt -> C:/Users/G/Documents/GitHub/audycje.com.pl/content/audio\\CJG_37_2023_10_21.txt\n",
      "Record already exists: voiceapp\\output\\summaries_folder\\mistral-small_20241221_024011\\CJG_37_2023_10_21-summary_3.txt -> C:/Users/G/Documents/GitHub/audycje.com.pl/content/audio\\CJG_37_2023_10_21.txt\n",
      "Record already exists: voiceapp\\output\\summaries_folder\\mistral-small_20241221_024011\\CJG_37_2023_10_21-summary_4.txt -> C:/Users/G/Documents/GitHub/audycje.com.pl/content/audio\\CJG_37_2023_10_21.txt\n"
     ]
    },
    {
     "name": "stderr",
     "output_type": "stream",
     "text": [
      "\n",
      "Summarizing files for mistral-small:  38%|▍| 37/97 [2:42:44<4:34:10, 274.18s/it, file=CJG_36_2023\u001b[A\n",
      "Summarizing files for mistral-small:  38%|▍| 37/97 [2:42:44<4:34:10, 274.18s/it, file=CJG_37_2023\u001b[A"
     ]
    },
    {
     "name": "stdout",
     "output_type": "stream",
     "text": [
      "Record already exists: voiceapp\\output\\summaries_folder\\mistral-small_20241221_024011\\CJG_37_2023_10_21-summary_5.txt -> C:/Users/G/Documents/GitHub/audycje.com.pl/content/audio\\CJG_37_2023_10_21.txt\n",
      "Record already exists: voiceapp\\output\\summaries_folder\\mistral-small_20241221_024011\\CJG_38_2023_10_28-summary_1.txt -> C:/Users/G/Documents/GitHub/audycje.com.pl/content/audio\\CJG_38_2023_10_28.txt\n",
      "Record already exists: voiceapp\\output\\summaries_folder\\mistral-small_20241221_024011\\CJG_38_2023_10_28-summary_2.txt -> C:/Users/G/Documents/GitHub/audycje.com.pl/content/audio\\CJG_38_2023_10_28.txt\n",
      "Record already exists: voiceapp\\output\\summaries_folder\\mistral-small_20241221_024011\\CJG_38_2023_10_28-summary_3.txt -> C:/Users/G/Documents/GitHub/audycje.com.pl/content/audio\\CJG_38_2023_10_28.txt\n",
      "Record already exists: voiceapp\\output\\summaries_folder\\mistral-small_20241221_024011\\CJG_38_2023_10_28-summary_4.txt -> C:/Users/G/Documents/GitHub/audycje.com.pl/content/audio\\CJG_38_2023_10_28.txt\n",
      "Record already exists: voiceapp\\output\\summaries_folder\\mistral-small_20241221_024011\\CJG_38_2023_10_28-summary_5.txt -> C:/Users/G/Documents/GitHub/audycje.com.pl/content/audio\\CJG_38_2023_10_28.txt\n",
      "Record already exists: voiceapp\\output\\summaries_folder\\mistral-small_20241221_024011\\CJG_38_2023_10_28-summary_1.txt -> C:/Users/G/Documents/GitHub/audycje.com.pl/content/audio\\CJG_38_2023_10_28.txt\n",
      "Record already exists: voiceapp\\output\\summaries_folder\\mistral-small_20241221_024011\\CJG_38_2023_10_28-summary_2.txt -> C:/Users/G/Documents/GitHub/audycje.com.pl/content/audio\\CJG_38_2023_10_28.txt\n",
      "Record already exists: voiceapp\\output\\summaries_folder\\mistral-small_20241221_024011\\CJG_38_2023_10_28-summary_3.txt -> C:/Users/G/Documents/GitHub/audycje.com.pl/content/audio\\CJG_38_2023_10_28.txt\n",
      "Record already exists: voiceapp\\output\\summaries_folder\\mistral-small_20241221_024011\\CJG_38_2023_10_28-summary_4.txt -> C:/Users/G/Documents/GitHub/audycje.com.pl/content/audio\\CJG_38_2023_10_28.txt\n"
     ]
    },
    {
     "name": "stderr",
     "output_type": "stream",
     "text": [
      "\n",
      "Summarizing files for mistral-small:  39%|▍| 38/97 [2:45:51<4:03:50, 247.98s/it, file=CJG_37_2023\u001b[A\n",
      "Summarizing files for mistral-small:  39%|▍| 38/97 [2:45:51<4:03:50, 247.98s/it, file=CJG_38_2023\u001b[A"
     ]
    },
    {
     "name": "stdout",
     "output_type": "stream",
     "text": [
      "Record already exists: voiceapp\\output\\summaries_folder\\mistral-small_20241221_024011\\CJG_38_2023_10_28-summary_5.txt -> C:/Users/G/Documents/GitHub/audycje.com.pl/content/audio\\CJG_38_2023_10_28.txt\n",
      "Record already exists: voiceapp\\output\\summaries_folder\\mistral-small_20241221_024011\\CJG_39_2023_11_04-summary_1.txt -> C:/Users/G/Documents/GitHub/audycje.com.pl/content/audio\\CJG_39_2023_11_04.txt\n",
      "Record already exists: voiceapp\\output\\summaries_folder\\mistral-small_20241221_024011\\CJG_39_2023_11_04-summary_2.txt -> C:/Users/G/Documents/GitHub/audycje.com.pl/content/audio\\CJG_39_2023_11_04.txt\n",
      "Record already exists: voiceapp\\output\\summaries_folder\\mistral-small_20241221_024011\\CJG_39_2023_11_04-summary_3.txt -> C:/Users/G/Documents/GitHub/audycje.com.pl/content/audio\\CJG_39_2023_11_04.txt\n",
      "Record already exists: voiceapp\\output\\summaries_folder\\mistral-small_20241221_024011\\CJG_39_2023_11_04-summary_4.txt -> C:/Users/G/Documents/GitHub/audycje.com.pl/content/audio\\CJG_39_2023_11_04.txt\n",
      "Record already exists: voiceapp\\output\\summaries_folder\\mistral-small_20241221_024011\\CJG_39_2023_11_04-summary_5.txt -> C:/Users/G/Documents/GitHub/audycje.com.pl/content/audio\\CJG_39_2023_11_04.txt\n",
      "Record already exists: voiceapp\\output\\summaries_folder\\mistral-small_20241221_024011\\CJG_39_2023_11_04-summary_1.txt -> C:/Users/G/Documents/GitHub/audycje.com.pl/content/audio\\CJG_39_2023_11_04.txt\n",
      "Record already exists: voiceapp\\output\\summaries_folder\\mistral-small_20241221_024011\\CJG_39_2023_11_04-summary_2.txt -> C:/Users/G/Documents/GitHub/audycje.com.pl/content/audio\\CJG_39_2023_11_04.txt\n",
      "Record already exists: voiceapp\\output\\summaries_folder\\mistral-small_20241221_024011\\CJG_39_2023_11_04-summary_3.txt -> C:/Users/G/Documents/GitHub/audycje.com.pl/content/audio\\CJG_39_2023_11_04.txt\n",
      "Record already exists: voiceapp\\output\\summaries_folder\\mistral-small_20241221_024011\\CJG_39_2023_11_04-summary_4.txt -> C:/Users/G/Documents/GitHub/audycje.com.pl/content/audio\\CJG_39_2023_11_04.txt\n",
      "Record already exists: voiceapp\\output\\summaries_folder\\mistral-small_20241221_024011\\CJG_39_2023_11_04-summary_5.txt -> C:/Users/G/Documents/GitHub/audycje.com.pl/content/audio\\CJG_39_2023_11_04.txt\n",
      "Record already exists: voiceapp\\output\\summaries_folder\\mistral-small_20241221_024011\\CJG_39_2023_11_04-summary_1.txt -> C:/Users/G/Documents/GitHub/audycje.com.pl/content/audio\\CJG_39_2023_11_04.txt\n",
      "Record already exists: voiceapp\\output\\summaries_folder\\mistral-small_20241221_024011\\CJG_39_2023_11_04-summary_2.txt -> C:/Users/G/Documents/GitHub/audycje.com.pl/content/audio\\CJG_39_2023_11_04.txt\n",
      "Record already exists: voiceapp\\output\\summaries_folder\\mistral-small_20241221_024011\\CJG_39_2023_11_04-summary_3.txt -> C:/Users/G/Documents/GitHub/audycje.com.pl/content/audio\\CJG_39_2023_11_04.txt\n",
      "Record already exists: voiceapp\\output\\summaries_folder\\mistral-small_20241221_024011\\CJG_39_2023_11_04-summary_4.txt -> C:/Users/G/Documents/GitHub/audycje.com.pl/content/audio\\CJG_39_2023_11_04.txt\n"
     ]
    },
    {
     "name": "stderr",
     "output_type": "stream",
     "text": [
      "\n",
      "Summarizing files for mistral-small:  40%|▍| 39/97 [2:50:41<4:11:57, 260.65s/it, file=CJG_38_2023\u001b[A\n",
      "Summarizing files for mistral-small:  40%|▍| 39/97 [2:50:41<4:11:57, 260.65s/it, file=CJG_39_2023\u001b[A"
     ]
    },
    {
     "name": "stdout",
     "output_type": "stream",
     "text": [
      "Record already exists: voiceapp\\output\\summaries_folder\\mistral-small_20241221_024011\\CJG_39_2023_11_04-summary_5.txt -> C:/Users/G/Documents/GitHub/audycje.com.pl/content/audio\\CJG_39_2023_11_04.txt\n",
      "Record already exists: voiceapp\\output\\summaries_folder\\mistral-small_20241221_024011\\CJG_40_2023_11_11-summary_1.txt -> C:/Users/G/Documents/GitHub/audycje.com.pl/content/audio\\CJG_40_2023_11_11.txt\n",
      "Record already exists: voiceapp\\output\\summaries_folder\\mistral-small_20241221_024011\\CJG_40_2023_11_11-summary_2.txt -> C:/Users/G/Documents/GitHub/audycje.com.pl/content/audio\\CJG_40_2023_11_11.txt\n",
      "Record already exists: voiceapp\\output\\summaries_folder\\mistral-small_20241221_024011\\CJG_40_2023_11_11-summary_3.txt -> C:/Users/G/Documents/GitHub/audycje.com.pl/content/audio\\CJG_40_2023_11_11.txt\n",
      "Record already exists: voiceapp\\output\\summaries_folder\\mistral-small_20241221_024011\\CJG_40_2023_11_11-summary_4.txt -> C:/Users/G/Documents/GitHub/audycje.com.pl/content/audio\\CJG_40_2023_11_11.txt\n",
      "Record already exists: voiceapp\\output\\summaries_folder\\mistral-small_20241221_024011\\CJG_40_2023_11_11-summary_5.txt -> C:/Users/G/Documents/GitHub/audycje.com.pl/content/audio\\CJG_40_2023_11_11.txt\n",
      "Record already exists: voiceapp\\output\\summaries_folder\\mistral-small_20241221_024011\\CJG_40_2023_11_11-summary_1.txt -> C:/Users/G/Documents/GitHub/audycje.com.pl/content/audio\\CJG_40_2023_11_11.txt\n",
      "Record already exists: voiceapp\\output\\summaries_folder\\mistral-small_20241221_024011\\CJG_40_2023_11_11-summary_2.txt -> C:/Users/G/Documents/GitHub/audycje.com.pl/content/audio\\CJG_40_2023_11_11.txt\n",
      "Record already exists: voiceapp\\output\\summaries_folder\\mistral-small_20241221_024011\\CJG_40_2023_11_11-summary_3.txt -> C:/Users/G/Documents/GitHub/audycje.com.pl/content/audio\\CJG_40_2023_11_11.txt\n",
      "Record already exists: voiceapp\\output\\summaries_folder\\mistral-small_20241221_024011\\CJG_40_2023_11_11-summary_4.txt -> C:/Users/G/Documents/GitHub/audycje.com.pl/content/audio\\CJG_40_2023_11_11.txt\n",
      "Record already exists: voiceapp\\output\\summaries_folder\\mistral-small_20241221_024011\\CJG_40_2023_11_11-summary_5.txt -> C:/Users/G/Documents/GitHub/audycje.com.pl/content/audio\\CJG_40_2023_11_11.txt\n",
      "Record already exists: voiceapp\\output\\summaries_folder\\mistral-small_20241221_024011\\CJG_40_2023_11_11-summary_1.txt -> C:/Users/G/Documents/GitHub/audycje.com.pl/content/audio\\CJG_40_2023_11_11.txt\n",
      "Record already exists: voiceapp\\output\\summaries_folder\\mistral-small_20241221_024011\\CJG_40_2023_11_11-summary_2.txt -> C:/Users/G/Documents/GitHub/audycje.com.pl/content/audio\\CJG_40_2023_11_11.txt\n",
      "Record already exists: voiceapp\\output\\summaries_folder\\mistral-small_20241221_024011\\CJG_40_2023_11_11-summary_3.txt -> C:/Users/G/Documents/GitHub/audycje.com.pl/content/audio\\CJG_40_2023_11_11.txt\n",
      "Record already exists: voiceapp\\output\\summaries_folder\\mistral-small_20241221_024011\\CJG_40_2023_11_11-summary_4.txt -> C:/Users/G/Documents/GitHub/audycje.com.pl/content/audio\\CJG_40_2023_11_11.txt\n"
     ]
    },
    {
     "name": "stderr",
     "output_type": "stream",
     "text": [
      "\n",
      "Summarizing files for mistral-small:  41%|▍| 40/97 [2:55:53<4:22:19, 276.14s/it, file=CJG_39_2023\u001b[A\n",
      "Summarizing files for mistral-small:  41%|▍| 40/97 [2:55:53<4:22:19, 276.14s/it, file=CJG_40_2023\u001b[A"
     ]
    },
    {
     "name": "stdout",
     "output_type": "stream",
     "text": [
      "Record already exists: voiceapp\\output\\summaries_folder\\mistral-small_20241221_024011\\CJG_40_2023_11_11-summary_5.txt -> C:/Users/G/Documents/GitHub/audycje.com.pl/content/audio\\CJG_40_2023_11_11.txt\n",
      "Record already exists: voiceapp\\output\\summaries_folder\\mistral-small_20241221_024011\\CJG_41_2023_11_18-summary_1.txt -> C:/Users/G/Documents/GitHub/audycje.com.pl/content/audio\\CJG_41_2023_11_18.txt\n",
      "Record already exists: voiceapp\\output\\summaries_folder\\mistral-small_20241221_024011\\CJG_41_2023_11_18-summary_2.txt -> C:/Users/G/Documents/GitHub/audycje.com.pl/content/audio\\CJG_41_2023_11_18.txt\n",
      "Record already exists: voiceapp\\output\\summaries_folder\\mistral-small_20241221_024011\\CJG_41_2023_11_18-summary_3.txt -> C:/Users/G/Documents/GitHub/audycje.com.pl/content/audio\\CJG_41_2023_11_18.txt\n",
      "Record already exists: voiceapp\\output\\summaries_folder\\mistral-small_20241221_024011\\CJG_41_2023_11_18-summary_4.txt -> C:/Users/G/Documents/GitHub/audycje.com.pl/content/audio\\CJG_41_2023_11_18.txt\n",
      "Record already exists: voiceapp\\output\\summaries_folder\\mistral-small_20241221_024011\\CJG_41_2023_11_18-summary_5.txt -> C:/Users/G/Documents/GitHub/audycje.com.pl/content/audio\\CJG_41_2023_11_18.txt\n",
      "Record already exists: voiceapp\\output\\summaries_folder\\mistral-small_20241221_024011\\CJG_41_2023_11_18-summary_1.txt -> C:/Users/G/Documents/GitHub/audycje.com.pl/content/audio\\CJG_41_2023_11_18.txt\n",
      "Record already exists: voiceapp\\output\\summaries_folder\\mistral-small_20241221_024011\\CJG_41_2023_11_18-summary_2.txt -> C:/Users/G/Documents/GitHub/audycje.com.pl/content/audio\\CJG_41_2023_11_18.txt\n",
      "Record already exists: voiceapp\\output\\summaries_folder\\mistral-small_20241221_024011\\CJG_41_2023_11_18-summary_3.txt -> C:/Users/G/Documents/GitHub/audycje.com.pl/content/audio\\CJG_41_2023_11_18.txt\n",
      "Record already exists: voiceapp\\output\\summaries_folder\\mistral-small_20241221_024011\\CJG_41_2023_11_18-summary_4.txt -> C:/Users/G/Documents/GitHub/audycje.com.pl/content/audio\\CJG_41_2023_11_18.txt\n",
      "Record already exists: voiceapp\\output\\summaries_folder\\mistral-small_20241221_024011\\CJG_41_2023_11_18-summary_5.txt -> C:/Users/G/Documents/GitHub/audycje.com.pl/content/audio\\CJG_41_2023_11_18.txt\n",
      "Record already exists: voiceapp\\output\\summaries_folder\\mistral-small_20241221_024011\\CJG_41_2023_11_18-summary_1.txt -> C:/Users/G/Documents/GitHub/audycje.com.pl/content/audio\\CJG_41_2023_11_18.txt\n",
      "Record already exists: voiceapp\\output\\summaries_folder\\mistral-small_20241221_024011\\CJG_41_2023_11_18-summary_2.txt -> C:/Users/G/Documents/GitHub/audycje.com.pl/content/audio\\CJG_41_2023_11_18.txt\n",
      "Record already exists: voiceapp\\output\\summaries_folder\\mistral-small_20241221_024011\\CJG_41_2023_11_18-summary_3.txt -> C:/Users/G/Documents/GitHub/audycje.com.pl/content/audio\\CJG_41_2023_11_18.txt\n",
      "Record already exists: voiceapp\\output\\summaries_folder\\mistral-small_20241221_024011\\CJG_41_2023_11_18-summary_4.txt -> C:/Users/G/Documents/GitHub/audycje.com.pl/content/audio\\CJG_41_2023_11_18.txt\n"
     ]
    },
    {
     "name": "stderr",
     "output_type": "stream",
     "text": [
      "\n",
      "Summarizing files for mistral-small:  42%|▍| 41/97 [3:00:47<4:22:39, 281.42s/it, file=CJG_40_2023\u001b[A\n",
      "Summarizing files for mistral-small:  42%|▍| 41/97 [3:00:47<4:22:39, 281.42s/it, file=CJG_41_2023\u001b[A"
     ]
    },
    {
     "name": "stdout",
     "output_type": "stream",
     "text": [
      "Record already exists: voiceapp\\output\\summaries_folder\\mistral-small_20241221_024011\\CJG_41_2023_11_18-summary_5.txt -> C:/Users/G/Documents/GitHub/audycje.com.pl/content/audio\\CJG_41_2023_11_18.txt\n",
      "Record already exists: voiceapp\\output\\summaries_folder\\mistral-small_20241221_024011\\CJG_42_2023_11_25-summary_1.txt -> C:/Users/G/Documents/GitHub/audycje.com.pl/content/audio\\CJG_42_2023_11_25.txt\n",
      "Record already exists: voiceapp\\output\\summaries_folder\\mistral-small_20241221_024011\\CJG_42_2023_11_25-summary_2.txt -> C:/Users/G/Documents/GitHub/audycje.com.pl/content/audio\\CJG_42_2023_11_25.txt\n",
      "Record already exists: voiceapp\\output\\summaries_folder\\mistral-small_20241221_024011\\CJG_42_2023_11_25-summary_3.txt -> C:/Users/G/Documents/GitHub/audycje.com.pl/content/audio\\CJG_42_2023_11_25.txt\n",
      "Record already exists: voiceapp\\output\\summaries_folder\\mistral-small_20241221_024011\\CJG_42_2023_11_25-summary_4.txt -> C:/Users/G/Documents/GitHub/audycje.com.pl/content/audio\\CJG_42_2023_11_25.txt\n",
      "Record already exists: voiceapp\\output\\summaries_folder\\mistral-small_20241221_024011\\CJG_42_2023_11_25-summary_5.txt -> C:/Users/G/Documents/GitHub/audycje.com.pl/content/audio\\CJG_42_2023_11_25.txt\n",
      "Record already exists: voiceapp\\output\\summaries_folder\\mistral-small_20241221_024011\\CJG_42_2023_11_25-summary_1.txt -> C:/Users/G/Documents/GitHub/audycje.com.pl/content/audio\\CJG_42_2023_11_25.txt\n",
      "Record already exists: voiceapp\\output\\summaries_folder\\mistral-small_20241221_024011\\CJG_42_2023_11_25-summary_2.txt -> C:/Users/G/Documents/GitHub/audycje.com.pl/content/audio\\CJG_42_2023_11_25.txt\n",
      "Record already exists: voiceapp\\output\\summaries_folder\\mistral-small_20241221_024011\\CJG_42_2023_11_25-summary_3.txt -> C:/Users/G/Documents/GitHub/audycje.com.pl/content/audio\\CJG_42_2023_11_25.txt\n",
      "Record already exists: voiceapp\\output\\summaries_folder\\mistral-small_20241221_024011\\CJG_42_2023_11_25-summary_4.txt -> C:/Users/G/Documents/GitHub/audycje.com.pl/content/audio\\CJG_42_2023_11_25.txt\n",
      "Record already exists: voiceapp\\output\\summaries_folder\\mistral-small_20241221_024011\\CJG_42_2023_11_25-summary_5.txt -> C:/Users/G/Documents/GitHub/audycje.com.pl/content/audio\\CJG_42_2023_11_25.txt\n",
      "Record already exists: voiceapp\\output\\summaries_folder\\mistral-small_20241221_024011\\CJG_42_2023_11_25-summary_1.txt -> C:/Users/G/Documents/GitHub/audycje.com.pl/content/audio\\CJG_42_2023_11_25.txt\n",
      "Record already exists: voiceapp\\output\\summaries_folder\\mistral-small_20241221_024011\\CJG_42_2023_11_25-summary_2.txt -> C:/Users/G/Documents/GitHub/audycje.com.pl/content/audio\\CJG_42_2023_11_25.txt\n",
      "Record already exists: voiceapp\\output\\summaries_folder\\mistral-small_20241221_024011\\CJG_42_2023_11_25-summary_3.txt -> C:/Users/G/Documents/GitHub/audycje.com.pl/content/audio\\CJG_42_2023_11_25.txt\n",
      "Record already exists: voiceapp\\output\\summaries_folder\\mistral-small_20241221_024011\\CJG_42_2023_11_25-summary_4.txt -> C:/Users/G/Documents/GitHub/audycje.com.pl/content/audio\\CJG_42_2023_11_25.txt\n"
     ]
    },
    {
     "name": "stderr",
     "output_type": "stream",
     "text": [
      "\n",
      "Summarizing files for mistral-small:  43%|▍| 42/97 [3:05:59<4:26:19, 290.54s/it, file=CJG_41_2023\u001b[A\n",
      "Summarizing files for mistral-small:  43%|▍| 42/97 [3:05:59<4:26:19, 290.54s/it, file=CJG_42_2023\u001b[A"
     ]
    },
    {
     "name": "stdout",
     "output_type": "stream",
     "text": [
      "Record already exists: voiceapp\\output\\summaries_folder\\mistral-small_20241221_024011\\CJG_42_2023_11_25-summary_5.txt -> C:/Users/G/Documents/GitHub/audycje.com.pl/content/audio\\CJG_42_2023_11_25.txt\n",
      "Record already exists: voiceapp\\output\\summaries_folder\\mistral-small_20241221_024011\\CJG_43_2023_12_02-summary_1.txt -> C:/Users/G/Documents/GitHub/audycje.com.pl/content/audio\\CJG_43_2023_12_02.txt\n",
      "Record already exists: voiceapp\\output\\summaries_folder\\mistral-small_20241221_024011\\CJG_43_2023_12_02-summary_2.txt -> C:/Users/G/Documents/GitHub/audycje.com.pl/content/audio\\CJG_43_2023_12_02.txt\n",
      "Record already exists: voiceapp\\output\\summaries_folder\\mistral-small_20241221_024011\\CJG_43_2023_12_02-summary_3.txt -> C:/Users/G/Documents/GitHub/audycje.com.pl/content/audio\\CJG_43_2023_12_02.txt\n",
      "Record already exists: voiceapp\\output\\summaries_folder\\mistral-small_20241221_024011\\CJG_43_2023_12_02-summary_4.txt -> C:/Users/G/Documents/GitHub/audycje.com.pl/content/audio\\CJG_43_2023_12_02.txt\n",
      "Record already exists: voiceapp\\output\\summaries_folder\\mistral-small_20241221_024011\\CJG_43_2023_12_02-summary_5.txt -> C:/Users/G/Documents/GitHub/audycje.com.pl/content/audio\\CJG_43_2023_12_02.txt\n",
      "Record already exists: voiceapp\\output\\summaries_folder\\mistral-small_20241221_024011\\CJG_43_2023_12_02-summary_1.txt -> C:/Users/G/Documents/GitHub/audycje.com.pl/content/audio\\CJG_43_2023_12_02.txt\n",
      "Record already exists: voiceapp\\output\\summaries_folder\\mistral-small_20241221_024011\\CJG_43_2023_12_02-summary_2.txt -> C:/Users/G/Documents/GitHub/audycje.com.pl/content/audio\\CJG_43_2023_12_02.txt\n",
      "Record already exists: voiceapp\\output\\summaries_folder\\mistral-small_20241221_024011\\CJG_43_2023_12_02-summary_3.txt -> C:/Users/G/Documents/GitHub/audycje.com.pl/content/audio\\CJG_43_2023_12_02.txt\n",
      "Record already exists: voiceapp\\output\\summaries_folder\\mistral-small_20241221_024011\\CJG_43_2023_12_02-summary_4.txt -> C:/Users/G/Documents/GitHub/audycje.com.pl/content/audio\\CJG_43_2023_12_02.txt\n",
      "Record already exists: voiceapp\\output\\summaries_folder\\mistral-small_20241221_024011\\CJG_43_2023_12_02-summary_5.txt -> C:/Users/G/Documents/GitHub/audycje.com.pl/content/audio\\CJG_43_2023_12_02.txt\n",
      "Record already exists: voiceapp\\output\\summaries_folder\\mistral-small_20241221_024011\\CJG_43_2023_12_02-summary_1.txt -> C:/Users/G/Documents/GitHub/audycje.com.pl/content/audio\\CJG_43_2023_12_02.txt\n",
      "Record already exists: voiceapp\\output\\summaries_folder\\mistral-small_20241221_024011\\CJG_43_2023_12_02-summary_2.txt -> C:/Users/G/Documents/GitHub/audycje.com.pl/content/audio\\CJG_43_2023_12_02.txt\n",
      "Record already exists: voiceapp\\output\\summaries_folder\\mistral-small_20241221_024011\\CJG_43_2023_12_02-summary_3.txt -> C:/Users/G/Documents/GitHub/audycje.com.pl/content/audio\\CJG_43_2023_12_02.txt\n",
      "Record already exists: voiceapp\\output\\summaries_folder\\mistral-small_20241221_024011\\CJG_43_2023_12_02-summary_4.txt -> C:/Users/G/Documents/GitHub/audycje.com.pl/content/audio\\CJG_43_2023_12_02.txt\n",
      "Record already exists: voiceapp\\output\\summaries_folder\\mistral-small_20241221_024011\\CJG_43_2023_12_02-summary_5.txt -> C:/Users/G/Documents/GitHub/audycje.com.pl/content/audio\\CJG_43_2023_12_02.txt\n",
      "Record already exists: voiceapp\\output\\summaries_folder\\mistral-small_20241221_024011\\CJG_43_2023_12_02-summary_1.txt -> C:/Users/G/Documents/GitHub/audycje.com.pl/content/audio\\CJG_43_2023_12_02.txt\n",
      "Record already exists: voiceapp\\output\\summaries_folder\\mistral-small_20241221_024011\\CJG_43_2023_12_02-summary_2.txt -> C:/Users/G/Documents/GitHub/audycje.com.pl/content/audio\\CJG_43_2023_12_02.txt\n",
      "Record already exists: voiceapp\\output\\summaries_folder\\mistral-small_20241221_024011\\CJG_43_2023_12_02-summary_3.txt -> C:/Users/G/Documents/GitHub/audycje.com.pl/content/audio\\CJG_43_2023_12_02.txt\n",
      "Record already exists: voiceapp\\output\\summaries_folder\\mistral-small_20241221_024011\\CJG_43_2023_12_02-summary_4.txt -> C:/Users/G/Documents/GitHub/audycje.com.pl/content/audio\\CJG_43_2023_12_02.txt\n"
     ]
    },
    {
     "name": "stderr",
     "output_type": "stream",
     "text": [
      "\n",
      "Summarizing files for mistral-small:  44%|▍| 43/97 [3:12:14<4:44:29, 316.09s/it, file=CJG_42_2023\u001b[A\n",
      "Summarizing files for mistral-small:  44%|▍| 43/97 [3:12:14<4:44:29, 316.09s/it, file=CJG_43_2023\u001b[A"
     ]
    },
    {
     "name": "stdout",
     "output_type": "stream",
     "text": [
      "Record already exists: voiceapp\\output\\summaries_folder\\mistral-small_20241221_024011\\CJG_43_2023_12_02-summary_5.txt -> C:/Users/G/Documents/GitHub/audycje.com.pl/content/audio\\CJG_43_2023_12_02.txt\n",
      "Record already exists: voiceapp\\output\\summaries_folder\\mistral-small_20241221_024011\\CJG_44_2023_12_09-summary_1.txt -> C:/Users/G/Documents/GitHub/audycje.com.pl/content/audio\\CJG_44_2023_12_09.txt\n",
      "Record already exists: voiceapp\\output\\summaries_folder\\mistral-small_20241221_024011\\CJG_44_2023_12_09-summary_2.txt -> C:/Users/G/Documents/GitHub/audycje.com.pl/content/audio\\CJG_44_2023_12_09.txt\n",
      "Record already exists: voiceapp\\output\\summaries_folder\\mistral-small_20241221_024011\\CJG_44_2023_12_09-summary_3.txt -> C:/Users/G/Documents/GitHub/audycje.com.pl/content/audio\\CJG_44_2023_12_09.txt\n",
      "Record already exists: voiceapp\\output\\summaries_folder\\mistral-small_20241221_024011\\CJG_44_2023_12_09-summary_4.txt -> C:/Users/G/Documents/GitHub/audycje.com.pl/content/audio\\CJG_44_2023_12_09.txt\n",
      "Record already exists: voiceapp\\output\\summaries_folder\\mistral-small_20241221_024011\\CJG_44_2023_12_09-summary_5.txt -> C:/Users/G/Documents/GitHub/audycje.com.pl/content/audio\\CJG_44_2023_12_09.txt\n",
      "Record already exists: voiceapp\\output\\summaries_folder\\mistral-small_20241221_024011\\CJG_44_2023_12_09-summary_1.txt -> C:/Users/G/Documents/GitHub/audycje.com.pl/content/audio\\CJG_44_2023_12_09.txt\n",
      "Record already exists: voiceapp\\output\\summaries_folder\\mistral-small_20241221_024011\\CJG_44_2023_12_09-summary_2.txt -> C:/Users/G/Documents/GitHub/audycje.com.pl/content/audio\\CJG_44_2023_12_09.txt\n",
      "Record already exists: voiceapp\\output\\summaries_folder\\mistral-small_20241221_024011\\CJG_44_2023_12_09-summary_3.txt -> C:/Users/G/Documents/GitHub/audycje.com.pl/content/audio\\CJG_44_2023_12_09.txt\n",
      "Record already exists: voiceapp\\output\\summaries_folder\\mistral-small_20241221_024011\\CJG_44_2023_12_09-summary_4.txt -> C:/Users/G/Documents/GitHub/audycje.com.pl/content/audio\\CJG_44_2023_12_09.txt\n",
      "Record already exists: voiceapp\\output\\summaries_folder\\mistral-small_20241221_024011\\CJG_44_2023_12_09-summary_5.txt -> C:/Users/G/Documents/GitHub/audycje.com.pl/content/audio\\CJG_44_2023_12_09.txt\n",
      "Record already exists: voiceapp\\output\\summaries_folder\\mistral-small_20241221_024011\\CJG_44_2023_12_09-summary_1.txt -> C:/Users/G/Documents/GitHub/audycje.com.pl/content/audio\\CJG_44_2023_12_09.txt\n",
      "Record already exists: voiceapp\\output\\summaries_folder\\mistral-small_20241221_024011\\CJG_44_2023_12_09-summary_2.txt -> C:/Users/G/Documents/GitHub/audycje.com.pl/content/audio\\CJG_44_2023_12_09.txt\n",
      "Record already exists: voiceapp\\output\\summaries_folder\\mistral-small_20241221_024011\\CJG_44_2023_12_09-summary_3.txt -> C:/Users/G/Documents/GitHub/audycje.com.pl/content/audio\\CJG_44_2023_12_09.txt\n",
      "Record already exists: voiceapp\\output\\summaries_folder\\mistral-small_20241221_024011\\CJG_44_2023_12_09-summary_4.txt -> C:/Users/G/Documents/GitHub/audycje.com.pl/content/audio\\CJG_44_2023_12_09.txt\n"
     ]
    },
    {
     "name": "stderr",
     "output_type": "stream",
     "text": [
      "\n",
      "Summarizing files for mistral-small:  45%|▍| 44/97 [3:17:14<4:34:58, 311.29s/it, file=CJG_43_2023\u001b[A\n",
      "Summarizing files for mistral-small:  45%|▍| 44/97 [3:17:14<4:34:58, 311.29s/it, file=CJG_44_2023\u001b[A"
     ]
    },
    {
     "name": "stdout",
     "output_type": "stream",
     "text": [
      "Record already exists: voiceapp\\output\\summaries_folder\\mistral-small_20241221_024011\\CJG_44_2023_12_09-summary_5.txt -> C:/Users/G/Documents/GitHub/audycje.com.pl/content/audio\\CJG_44_2023_12_09.txt\n",
      "Record already exists: voiceapp\\output\\summaries_folder\\mistral-small_20241221_024011\\CJG_45_2023_12_16-summary_1.txt -> C:/Users/G/Documents/GitHub/audycje.com.pl/content/audio\\CJG_45_2023_12_16.txt\n",
      "Record already exists: voiceapp\\output\\summaries_folder\\mistral-small_20241221_024011\\CJG_45_2023_12_16-summary_2.txt -> C:/Users/G/Documents/GitHub/audycje.com.pl/content/audio\\CJG_45_2023_12_16.txt\n",
      "Record already exists: voiceapp\\output\\summaries_folder\\mistral-small_20241221_024011\\CJG_45_2023_12_16-summary_3.txt -> C:/Users/G/Documents/GitHub/audycje.com.pl/content/audio\\CJG_45_2023_12_16.txt\n",
      "Record already exists: voiceapp\\output\\summaries_folder\\mistral-small_20241221_024011\\CJG_45_2023_12_16-summary_4.txt -> C:/Users/G/Documents/GitHub/audycje.com.pl/content/audio\\CJG_45_2023_12_16.txt\n",
      "Record already exists: voiceapp\\output\\summaries_folder\\mistral-small_20241221_024011\\CJG_45_2023_12_16-summary_5.txt -> C:/Users/G/Documents/GitHub/audycje.com.pl/content/audio\\CJG_45_2023_12_16.txt\n",
      "Record already exists: voiceapp\\output\\summaries_folder\\mistral-small_20241221_024011\\CJG_45_2023_12_16-summary_1.txt -> C:/Users/G/Documents/GitHub/audycje.com.pl/content/audio\\CJG_45_2023_12_16.txt\n",
      "Record already exists: voiceapp\\output\\summaries_folder\\mistral-small_20241221_024011\\CJG_45_2023_12_16-summary_2.txt -> C:/Users/G/Documents/GitHub/audycje.com.pl/content/audio\\CJG_45_2023_12_16.txt\n",
      "Record already exists: voiceapp\\output\\summaries_folder\\mistral-small_20241221_024011\\CJG_45_2023_12_16-summary_3.txt -> C:/Users/G/Documents/GitHub/audycje.com.pl/content/audio\\CJG_45_2023_12_16.txt\n",
      "Record already exists: voiceapp\\output\\summaries_folder\\mistral-small_20241221_024011\\CJG_45_2023_12_16-summary_4.txt -> C:/Users/G/Documents/GitHub/audycje.com.pl/content/audio\\CJG_45_2023_12_16.txt\n",
      "Record already exists: voiceapp\\output\\summaries_folder\\mistral-small_20241221_024011\\CJG_45_2023_12_16-summary_5.txt -> C:/Users/G/Documents/GitHub/audycje.com.pl/content/audio\\CJG_45_2023_12_16.txt\n",
      "Record already exists: voiceapp\\output\\summaries_folder\\mistral-small_20241221_024011\\CJG_45_2023_12_16-summary_1.txt -> C:/Users/G/Documents/GitHub/audycje.com.pl/content/audio\\CJG_45_2023_12_16.txt\n",
      "Record already exists: voiceapp\\output\\summaries_folder\\mistral-small_20241221_024011\\CJG_45_2023_12_16-summary_2.txt -> C:/Users/G/Documents/GitHub/audycje.com.pl/content/audio\\CJG_45_2023_12_16.txt\n",
      "Record already exists: voiceapp\\output\\summaries_folder\\mistral-small_20241221_024011\\CJG_45_2023_12_16-summary_3.txt -> C:/Users/G/Documents/GitHub/audycje.com.pl/content/audio\\CJG_45_2023_12_16.txt\n",
      "Record already exists: voiceapp\\output\\summaries_folder\\mistral-small_20241221_024011\\CJG_45_2023_12_16-summary_4.txt -> C:/Users/G/Documents/GitHub/audycje.com.pl/content/audio\\CJG_45_2023_12_16.txt\n"
     ]
    },
    {
     "name": "stderr",
     "output_type": "stream",
     "text": [
      "\n",
      "Summarizing files for mistral-small:  46%|▍| 45/97 [3:22:09<4:25:26, 306.27s/it, file=CJG_44_2023\u001b[A\n",
      "Summarizing files for mistral-small:  46%|▍| 45/97 [3:22:09<4:25:26, 306.27s/it, file=CJG_45_2023\u001b[A"
     ]
    },
    {
     "name": "stdout",
     "output_type": "stream",
     "text": [
      "Record already exists: voiceapp\\output\\summaries_folder\\mistral-small_20241221_024011\\CJG_45_2023_12_16-summary_5.txt -> C:/Users/G/Documents/GitHub/audycje.com.pl/content/audio\\CJG_45_2023_12_16.txt\n",
      "Record already exists: voiceapp\\output\\summaries_folder\\mistral-small_20241221_024011\\CJG_46_2023_12_23-summary_1.txt -> C:/Users/G/Documents/GitHub/audycje.com.pl/content/audio\\CJG_46_2023_12_23.txt\n",
      "Record already exists: voiceapp\\output\\summaries_folder\\mistral-small_20241221_024011\\CJG_46_2023_12_23-summary_2.txt -> C:/Users/G/Documents/GitHub/audycje.com.pl/content/audio\\CJG_46_2023_12_23.txt\n",
      "Record already exists: voiceapp\\output\\summaries_folder\\mistral-small_20241221_024011\\CJG_46_2023_12_23-summary_3.txt -> C:/Users/G/Documents/GitHub/audycje.com.pl/content/audio\\CJG_46_2023_12_23.txt\n",
      "Record already exists: voiceapp\\output\\summaries_folder\\mistral-small_20241221_024011\\CJG_46_2023_12_23-summary_4.txt -> C:/Users/G/Documents/GitHub/audycje.com.pl/content/audio\\CJG_46_2023_12_23.txt\n",
      "Record already exists: voiceapp\\output\\summaries_folder\\mistral-small_20241221_024011\\CJG_46_2023_12_23-summary_5.txt -> C:/Users/G/Documents/GitHub/audycje.com.pl/content/audio\\CJG_46_2023_12_23.txt\n",
      "Record already exists: voiceapp\\output\\summaries_folder\\mistral-small_20241221_024011\\CJG_46_2023_12_23-summary_1.txt -> C:/Users/G/Documents/GitHub/audycje.com.pl/content/audio\\CJG_46_2023_12_23.txt\n",
      "Record already exists: voiceapp\\output\\summaries_folder\\mistral-small_20241221_024011\\CJG_46_2023_12_23-summary_2.txt -> C:/Users/G/Documents/GitHub/audycje.com.pl/content/audio\\CJG_46_2023_12_23.txt\n",
      "Record already exists: voiceapp\\output\\summaries_folder\\mistral-small_20241221_024011\\CJG_46_2023_12_23-summary_3.txt -> C:/Users/G/Documents/GitHub/audycje.com.pl/content/audio\\CJG_46_2023_12_23.txt\n",
      "Record already exists: voiceapp\\output\\summaries_folder\\mistral-small_20241221_024011\\CJG_46_2023_12_23-summary_4.txt -> C:/Users/G/Documents/GitHub/audycje.com.pl/content/audio\\CJG_46_2023_12_23.txt\n",
      "Record already exists: voiceapp\\output\\summaries_folder\\mistral-small_20241221_024011\\CJG_46_2023_12_23-summary_5.txt -> C:/Users/G/Documents/GitHub/audycje.com.pl/content/audio\\CJG_46_2023_12_23.txt\n",
      "Record already exists: voiceapp\\output\\summaries_folder\\mistral-small_20241221_024011\\CJG_46_2023_12_23-summary_1.txt -> C:/Users/G/Documents/GitHub/audycje.com.pl/content/audio\\CJG_46_2023_12_23.txt\n",
      "Record already exists: voiceapp\\output\\summaries_folder\\mistral-small_20241221_024011\\CJG_46_2023_12_23-summary_2.txt -> C:/Users/G/Documents/GitHub/audycje.com.pl/content/audio\\CJG_46_2023_12_23.txt\n",
      "Record already exists: voiceapp\\output\\summaries_folder\\mistral-small_20241221_024011\\CJG_46_2023_12_23-summary_3.txt -> C:/Users/G/Documents/GitHub/audycje.com.pl/content/audio\\CJG_46_2023_12_23.txt\n",
      "Record already exists: voiceapp\\output\\summaries_folder\\mistral-small_20241221_024011\\CJG_46_2023_12_23-summary_4.txt -> C:/Users/G/Documents/GitHub/audycje.com.pl/content/audio\\CJG_46_2023_12_23.txt\n"
     ]
    },
    {
     "name": "stderr",
     "output_type": "stream",
     "text": [
      "\n",
      "Summarizing files for mistral-small:  47%|▍| 46/97 [3:27:12<4:19:28, 305.27s/it, file=CJG_45_2023\u001b[A\n",
      "Summarizing files for mistral-small:  47%|▍| 46/97 [3:27:12<4:19:28, 305.27s/it, file=CJG_46_2023\u001b[A"
     ]
    },
    {
     "name": "stdout",
     "output_type": "stream",
     "text": [
      "Record already exists: voiceapp\\output\\summaries_folder\\mistral-small_20241221_024011\\CJG_46_2023_12_23-summary_5.txt -> C:/Users/G/Documents/GitHub/audycje.com.pl/content/audio\\CJG_46_2023_12_23.txt\n",
      "Record already exists: voiceapp\\output\\summaries_folder\\mistral-small_20241221_024011\\CJG_47_2023_12_30-summary_1.txt -> C:/Users/G/Documents/GitHub/audycje.com.pl/content/audio\\CJG_47_2023_12_30.txt\n",
      "Record already exists: voiceapp\\output\\summaries_folder\\mistral-small_20241221_024011\\CJG_47_2023_12_30-summary_2.txt -> C:/Users/G/Documents/GitHub/audycje.com.pl/content/audio\\CJG_47_2023_12_30.txt\n",
      "Record already exists: voiceapp\\output\\summaries_folder\\mistral-small_20241221_024011\\CJG_47_2023_12_30-summary_3.txt -> C:/Users/G/Documents/GitHub/audycje.com.pl/content/audio\\CJG_47_2023_12_30.txt\n",
      "Record already exists: voiceapp\\output\\summaries_folder\\mistral-small_20241221_024011\\CJG_47_2023_12_30-summary_4.txt -> C:/Users/G/Documents/GitHub/audycje.com.pl/content/audio\\CJG_47_2023_12_30.txt\n",
      "Record already exists: voiceapp\\output\\summaries_folder\\mistral-small_20241221_024011\\CJG_47_2023_12_30-summary_5.txt -> C:/Users/G/Documents/GitHub/audycje.com.pl/content/audio\\CJG_47_2023_12_30.txt\n",
      "Record already exists: voiceapp\\output\\summaries_folder\\mistral-small_20241221_024011\\CJG_47_2023_12_30-summary_1.txt -> C:/Users/G/Documents/GitHub/audycje.com.pl/content/audio\\CJG_47_2023_12_30.txt\n",
      "Record already exists: voiceapp\\output\\summaries_folder\\mistral-small_20241221_024011\\CJG_47_2023_12_30-summary_2.txt -> C:/Users/G/Documents/GitHub/audycje.com.pl/content/audio\\CJG_47_2023_12_30.txt\n",
      "Record already exists: voiceapp\\output\\summaries_folder\\mistral-small_20241221_024011\\CJG_47_2023_12_30-summary_3.txt -> C:/Users/G/Documents/GitHub/audycje.com.pl/content/audio\\CJG_47_2023_12_30.txt\n",
      "Record already exists: voiceapp\\output\\summaries_folder\\mistral-small_20241221_024011\\CJG_47_2023_12_30-summary_4.txt -> C:/Users/G/Documents/GitHub/audycje.com.pl/content/audio\\CJG_47_2023_12_30.txt\n",
      "Record already exists: voiceapp\\output\\summaries_folder\\mistral-small_20241221_024011\\CJG_47_2023_12_30-summary_5.txt -> C:/Users/G/Documents/GitHub/audycje.com.pl/content/audio\\CJG_47_2023_12_30.txt\n",
      "Record already exists: voiceapp\\output\\summaries_folder\\mistral-small_20241221_024011\\CJG_47_2023_12_30-summary_1.txt -> C:/Users/G/Documents/GitHub/audycje.com.pl/content/audio\\CJG_47_2023_12_30.txt\n",
      "Record already exists: voiceapp\\output\\summaries_folder\\mistral-small_20241221_024011\\CJG_47_2023_12_30-summary_2.txt -> C:/Users/G/Documents/GitHub/audycje.com.pl/content/audio\\CJG_47_2023_12_30.txt\n",
      "Record already exists: voiceapp\\output\\summaries_folder\\mistral-small_20241221_024011\\CJG_47_2023_12_30-summary_3.txt -> C:/Users/G/Documents/GitHub/audycje.com.pl/content/audio\\CJG_47_2023_12_30.txt\n",
      "Record already exists: voiceapp\\output\\summaries_folder\\mistral-small_20241221_024011\\CJG_47_2023_12_30-summary_4.txt -> C:/Users/G/Documents/GitHub/audycje.com.pl/content/audio\\CJG_47_2023_12_30.txt\n"
     ]
    },
    {
     "name": "stderr",
     "output_type": "stream",
     "text": [
      "\n",
      "Summarizing files for mistral-small:  48%|▍| 47/97 [3:32:27<4:16:50, 308.21s/it, file=CJG_46_2023\u001b[A\n",
      "Summarizing files for mistral-small:  48%|▍| 47/97 [3:32:27<4:16:50, 308.21s/it, file=CJG_47_2023\u001b[A"
     ]
    },
    {
     "name": "stdout",
     "output_type": "stream",
     "text": [
      "Record already exists: voiceapp\\output\\summaries_folder\\mistral-small_20241221_024011\\CJG_47_2023_12_30-summary_5.txt -> C:/Users/G/Documents/GitHub/audycje.com.pl/content/audio\\CJG_47_2023_12_30.txt\n",
      "Record already exists: voiceapp\\output\\summaries_folder\\mistral-small_20241221_024011\\CJG_48_2024_01_06-summary_1.txt -> C:/Users/G/Documents/GitHub/audycje.com.pl/content/audio\\CJG_48_2024_01_06.txt\n",
      "Record already exists: voiceapp\\output\\summaries_folder\\mistral-small_20241221_024011\\CJG_48_2024_01_06-summary_2.txt -> C:/Users/G/Documents/GitHub/audycje.com.pl/content/audio\\CJG_48_2024_01_06.txt\n",
      "Record already exists: voiceapp\\output\\summaries_folder\\mistral-small_20241221_024011\\CJG_48_2024_01_06-summary_3.txt -> C:/Users/G/Documents/GitHub/audycje.com.pl/content/audio\\CJG_48_2024_01_06.txt\n",
      "Record already exists: voiceapp\\output\\summaries_folder\\mistral-small_20241221_024011\\CJG_48_2024_01_06-summary_4.txt -> C:/Users/G/Documents/GitHub/audycje.com.pl/content/audio\\CJG_48_2024_01_06.txt\n",
      "Record already exists: voiceapp\\output\\summaries_folder\\mistral-small_20241221_024011\\CJG_48_2024_01_06-summary_5.txt -> C:/Users/G/Documents/GitHub/audycje.com.pl/content/audio\\CJG_48_2024_01_06.txt\n",
      "Record already exists: voiceapp\\output\\summaries_folder\\mistral-small_20241221_024011\\CJG_48_2024_01_06-summary_1.txt -> C:/Users/G/Documents/GitHub/audycje.com.pl/content/audio\\CJG_48_2024_01_06.txt\n",
      "Record already exists: voiceapp\\output\\summaries_folder\\mistral-small_20241221_024011\\CJG_48_2024_01_06-summary_2.txt -> C:/Users/G/Documents/GitHub/audycje.com.pl/content/audio\\CJG_48_2024_01_06.txt\n",
      "Record already exists: voiceapp\\output\\summaries_folder\\mistral-small_20241221_024011\\CJG_48_2024_01_06-summary_3.txt -> C:/Users/G/Documents/GitHub/audycje.com.pl/content/audio\\CJG_48_2024_01_06.txt\n",
      "Record already exists: voiceapp\\output\\summaries_folder\\mistral-small_20241221_024011\\CJG_48_2024_01_06-summary_4.txt -> C:/Users/G/Documents/GitHub/audycje.com.pl/content/audio\\CJG_48_2024_01_06.txt\n",
      "Record already exists: voiceapp\\output\\summaries_folder\\mistral-small_20241221_024011\\CJG_48_2024_01_06-summary_5.txt -> C:/Users/G/Documents/GitHub/audycje.com.pl/content/audio\\CJG_48_2024_01_06.txt\n",
      "Record already exists: voiceapp\\output\\summaries_folder\\mistral-small_20241221_024011\\CJG_48_2024_01_06-summary_1.txt -> C:/Users/G/Documents/GitHub/audycje.com.pl/content/audio\\CJG_48_2024_01_06.txt\n",
      "Record already exists: voiceapp\\output\\summaries_folder\\mistral-small_20241221_024011\\CJG_48_2024_01_06-summary_2.txt -> C:/Users/G/Documents/GitHub/audycje.com.pl/content/audio\\CJG_48_2024_01_06.txt\n",
      "Record already exists: voiceapp\\output\\summaries_folder\\mistral-small_20241221_024011\\CJG_48_2024_01_06-summary_3.txt -> C:/Users/G/Documents/GitHub/audycje.com.pl/content/audio\\CJG_48_2024_01_06.txt\n",
      "Record already exists: voiceapp\\output\\summaries_folder\\mistral-small_20241221_024011\\CJG_48_2024_01_06-summary_4.txt -> C:/Users/G/Documents/GitHub/audycje.com.pl/content/audio\\CJG_48_2024_01_06.txt\n"
     ]
    },
    {
     "name": "stderr",
     "output_type": "stream",
     "text": [
      "\n",
      "Summarizing files for mistral-small:  49%|▍| 48/97 [3:37:23<4:08:35, 304.40s/it, file=CJG_47_2023\u001b[A\n",
      "Summarizing files for mistral-small:  49%|▍| 48/97 [3:37:23<4:08:35, 304.40s/it, file=CJG_48_2024\u001b[A"
     ]
    },
    {
     "name": "stdout",
     "output_type": "stream",
     "text": [
      "Record already exists: voiceapp\\output\\summaries_folder\\mistral-small_20241221_024011\\CJG_48_2024_01_06-summary_5.txt -> C:/Users/G/Documents/GitHub/audycje.com.pl/content/audio\\CJG_48_2024_01_06.txt\n",
      "Record already exists: voiceapp\\output\\summaries_folder\\mistral-small_20241221_024011\\CJG_49_2024_01_13-summary_1.txt -> C:/Users/G/Documents/GitHub/audycje.com.pl/content/audio\\CJG_49_2024_01_13.txt\n",
      "Record already exists: voiceapp\\output\\summaries_folder\\mistral-small_20241221_024011\\CJG_49_2024_01_13-summary_2.txt -> C:/Users/G/Documents/GitHub/audycje.com.pl/content/audio\\CJG_49_2024_01_13.txt\n",
      "Record already exists: voiceapp\\output\\summaries_folder\\mistral-small_20241221_024011\\CJG_49_2024_01_13-summary_3.txt -> C:/Users/G/Documents/GitHub/audycje.com.pl/content/audio\\CJG_49_2024_01_13.txt\n",
      "Record already exists: voiceapp\\output\\summaries_folder\\mistral-small_20241221_024011\\CJG_49_2024_01_13-summary_4.txt -> C:/Users/G/Documents/GitHub/audycje.com.pl/content/audio\\CJG_49_2024_01_13.txt\n",
      "Record already exists: voiceapp\\output\\summaries_folder\\mistral-small_20241221_024011\\CJG_49_2024_01_13-summary_5.txt -> C:/Users/G/Documents/GitHub/audycje.com.pl/content/audio\\CJG_49_2024_01_13.txt\n",
      "Record already exists: voiceapp\\output\\summaries_folder\\mistral-small_20241221_024011\\CJG_49_2024_01_13-summary_1.txt -> C:/Users/G/Documents/GitHub/audycje.com.pl/content/audio\\CJG_49_2024_01_13.txt\n",
      "Record already exists: voiceapp\\output\\summaries_folder\\mistral-small_20241221_024011\\CJG_49_2024_01_13-summary_2.txt -> C:/Users/G/Documents/GitHub/audycje.com.pl/content/audio\\CJG_49_2024_01_13.txt\n",
      "Record already exists: voiceapp\\output\\summaries_folder\\mistral-small_20241221_024011\\CJG_49_2024_01_13-summary_3.txt -> C:/Users/G/Documents/GitHub/audycje.com.pl/content/audio\\CJG_49_2024_01_13.txt\n",
      "Record already exists: voiceapp\\output\\summaries_folder\\mistral-small_20241221_024011\\CJG_49_2024_01_13-summary_4.txt -> C:/Users/G/Documents/GitHub/audycje.com.pl/content/audio\\CJG_49_2024_01_13.txt\n"
     ]
    },
    {
     "name": "stderr",
     "output_type": "stream",
     "text": [
      "\n",
      "Summarizing files for mistral-small:  51%|▌| 49/97 [3:41:16<3:46:29, 283.11s/it, file=CJG_48_2024\u001b[A\n",
      "Summarizing files for mistral-small:  51%|▌| 49/97 [3:41:16<3:46:29, 283.11s/it, file=CJG_49_2024\u001b[A"
     ]
    },
    {
     "name": "stdout",
     "output_type": "stream",
     "text": [
      "Record already exists: voiceapp\\output\\summaries_folder\\mistral-small_20241221_024011\\CJG_49_2024_01_13-summary_5.txt -> C:/Users/G/Documents/GitHub/audycje.com.pl/content/audio\\CJG_49_2024_01_13.txt\n",
      "Record already exists: voiceapp\\output\\summaries_folder\\mistral-small_20241221_024011\\CJG_50_2024_01_20-summary_1.txt -> C:/Users/G/Documents/GitHub/audycje.com.pl/content/audio\\CJG_50_2024_01_20.txt\n",
      "Record already exists: voiceapp\\output\\summaries_folder\\mistral-small_20241221_024011\\CJG_50_2024_01_20-summary_2.txt -> C:/Users/G/Documents/GitHub/audycje.com.pl/content/audio\\CJG_50_2024_01_20.txt\n",
      "Record already exists: voiceapp\\output\\summaries_folder\\mistral-small_20241221_024011\\CJG_50_2024_01_20-summary_3.txt -> C:/Users/G/Documents/GitHub/audycje.com.pl/content/audio\\CJG_50_2024_01_20.txt\n",
      "Record already exists: voiceapp\\output\\summaries_folder\\mistral-small_20241221_024011\\CJG_50_2024_01_20-summary_4.txt -> C:/Users/G/Documents/GitHub/audycje.com.pl/content/audio\\CJG_50_2024_01_20.txt\n",
      "Record already exists: voiceapp\\output\\summaries_folder\\mistral-small_20241221_024011\\CJG_50_2024_01_20-summary_5.txt -> C:/Users/G/Documents/GitHub/audycje.com.pl/content/audio\\CJG_50_2024_01_20.txt\n",
      "Record already exists: voiceapp\\output\\summaries_folder\\mistral-small_20241221_024011\\CJG_50_2024_01_20-summary_1.txt -> C:/Users/G/Documents/GitHub/audycje.com.pl/content/audio\\CJG_50_2024_01_20.txt\n",
      "Record already exists: voiceapp\\output\\summaries_folder\\mistral-small_20241221_024011\\CJG_50_2024_01_20-summary_2.txt -> C:/Users/G/Documents/GitHub/audycje.com.pl/content/audio\\CJG_50_2024_01_20.txt\n",
      "Record already exists: voiceapp\\output\\summaries_folder\\mistral-small_20241221_024011\\CJG_50_2024_01_20-summary_3.txt -> C:/Users/G/Documents/GitHub/audycje.com.pl/content/audio\\CJG_50_2024_01_20.txt\n",
      "Record already exists: voiceapp\\output\\summaries_folder\\mistral-small_20241221_024011\\CJG_50_2024_01_20-summary_4.txt -> C:/Users/G/Documents/GitHub/audycje.com.pl/content/audio\\CJG_50_2024_01_20.txt\n",
      "Record already exists: voiceapp\\output\\summaries_folder\\mistral-small_20241221_024011\\CJG_50_2024_01_20-summary_5.txt -> C:/Users/G/Documents/GitHub/audycje.com.pl/content/audio\\CJG_50_2024_01_20.txt\n",
      "Record already exists: voiceapp\\output\\summaries_folder\\mistral-small_20241221_024011\\CJG_50_2024_01_20-summary_1.txt -> C:/Users/G/Documents/GitHub/audycje.com.pl/content/audio\\CJG_50_2024_01_20.txt\n",
      "Record already exists: voiceapp\\output\\summaries_folder\\mistral-small_20241221_024011\\CJG_50_2024_01_20-summary_2.txt -> C:/Users/G/Documents/GitHub/audycje.com.pl/content/audio\\CJG_50_2024_01_20.txt\n",
      "Record already exists: voiceapp\\output\\summaries_folder\\mistral-small_20241221_024011\\CJG_50_2024_01_20-summary_3.txt -> C:/Users/G/Documents/GitHub/audycje.com.pl/content/audio\\CJG_50_2024_01_20.txt\n",
      "Record already exists: voiceapp\\output\\summaries_folder\\mistral-small_20241221_024011\\CJG_50_2024_01_20-summary_4.txt -> C:/Users/G/Documents/GitHub/audycje.com.pl/content/audio\\CJG_50_2024_01_20.txt\n"
     ]
    },
    {
     "name": "stderr",
     "output_type": "stream",
     "text": [
      "\n",
      "Summarizing files for mistral-small:  52%|▌| 50/97 [3:46:26<3:48:10, 291.29s/it, file=CJG_49_2024\u001b[A\n",
      "Summarizing files for mistral-small:  52%|▌| 50/97 [3:46:26<3:48:10, 291.29s/it, file=CJG_50_2024\u001b[A"
     ]
    },
    {
     "name": "stdout",
     "output_type": "stream",
     "text": [
      "Record already exists: voiceapp\\output\\summaries_folder\\mistral-small_20241221_024011\\CJG_50_2024_01_20-summary_5.txt -> C:/Users/G/Documents/GitHub/audycje.com.pl/content/audio\\CJG_50_2024_01_20.txt\n",
      "Record already exists: voiceapp\\output\\summaries_folder\\mistral-small_20241221_024011\\CJG_51_2024_01_27-summary_1.txt -> C:/Users/G/Documents/GitHub/audycje.com.pl/content/audio\\CJG_51_2024_01_27.txt\n",
      "Record already exists: voiceapp\\output\\summaries_folder\\mistral-small_20241221_024011\\CJG_51_2024_01_27-summary_2.txt -> C:/Users/G/Documents/GitHub/audycje.com.pl/content/audio\\CJG_51_2024_01_27.txt\n",
      "Record already exists: voiceapp\\output\\summaries_folder\\mistral-small_20241221_024011\\CJG_51_2024_01_27-summary_3.txt -> C:/Users/G/Documents/GitHub/audycje.com.pl/content/audio\\CJG_51_2024_01_27.txt\n",
      "Record already exists: voiceapp\\output\\summaries_folder\\mistral-small_20241221_024011\\CJG_51_2024_01_27-summary_4.txt -> C:/Users/G/Documents/GitHub/audycje.com.pl/content/audio\\CJG_51_2024_01_27.txt\n",
      "Record already exists: voiceapp\\output\\summaries_folder\\mistral-small_20241221_024011\\CJG_51_2024_01_27-summary_5.txt -> C:/Users/G/Documents/GitHub/audycje.com.pl/content/audio\\CJG_51_2024_01_27.txt\n",
      "Record already exists: voiceapp\\output\\summaries_folder\\mistral-small_20241221_024011\\CJG_51_2024_01_27-summary_1.txt -> C:/Users/G/Documents/GitHub/audycje.com.pl/content/audio\\CJG_51_2024_01_27.txt\n",
      "Record already exists: voiceapp\\output\\summaries_folder\\mistral-small_20241221_024011\\CJG_51_2024_01_27-summary_2.txt -> C:/Users/G/Documents/GitHub/audycje.com.pl/content/audio\\CJG_51_2024_01_27.txt\n",
      "Record already exists: voiceapp\\output\\summaries_folder\\mistral-small_20241221_024011\\CJG_51_2024_01_27-summary_3.txt -> C:/Users/G/Documents/GitHub/audycje.com.pl/content/audio\\CJG_51_2024_01_27.txt\n",
      "Record already exists: voiceapp\\output\\summaries_folder\\mistral-small_20241221_024011\\CJG_51_2024_01_27-summary_4.txt -> C:/Users/G/Documents/GitHub/audycje.com.pl/content/audio\\CJG_51_2024_01_27.txt\n",
      "Record already exists: voiceapp\\output\\summaries_folder\\mistral-small_20241221_024011\\CJG_51_2024_01_27-summary_5.txt -> C:/Users/G/Documents/GitHub/audycje.com.pl/content/audio\\CJG_51_2024_01_27.txt\n",
      "Record already exists: voiceapp\\output\\summaries_folder\\mistral-small_20241221_024011\\CJG_51_2024_01_27-summary_1.txt -> C:/Users/G/Documents/GitHub/audycje.com.pl/content/audio\\CJG_51_2024_01_27.txt\n",
      "Record already exists: voiceapp\\output\\summaries_folder\\mistral-small_20241221_024011\\CJG_51_2024_01_27-summary_2.txt -> C:/Users/G/Documents/GitHub/audycje.com.pl/content/audio\\CJG_51_2024_01_27.txt\n",
      "Record already exists: voiceapp\\output\\summaries_folder\\mistral-small_20241221_024011\\CJG_51_2024_01_27-summary_3.txt -> C:/Users/G/Documents/GitHub/audycje.com.pl/content/audio\\CJG_51_2024_01_27.txt\n",
      "Record already exists: voiceapp\\output\\summaries_folder\\mistral-small_20241221_024011\\CJG_51_2024_01_27-summary_4.txt -> C:/Users/G/Documents/GitHub/audycje.com.pl/content/audio\\CJG_51_2024_01_27.txt\n"
     ]
    },
    {
     "name": "stderr",
     "output_type": "stream",
     "text": [
      "\n",
      "Summarizing files for mistral-small:  53%|▌| 51/97 [3:51:55<3:51:49, 302.39s/it, file=CJG_50_2024\u001b[A\n",
      "Summarizing files for mistral-small:  53%|▌| 51/97 [3:51:55<3:51:49, 302.39s/it, file=CJG_51_2024\u001b[A"
     ]
    },
    {
     "name": "stdout",
     "output_type": "stream",
     "text": [
      "Record already exists: voiceapp\\output\\summaries_folder\\mistral-small_20241221_024011\\CJG_51_2024_01_27-summary_5.txt -> C:/Users/G/Documents/GitHub/audycje.com.pl/content/audio\\CJG_51_2024_01_27.txt\n"
     ]
    },
    {
     "name": "stderr",
     "output_type": "stream",
     "text": [
      "\n",
      "Summarizing files for mistral-small:  54%|▌| 52/97 [3:53:16<2:57:01, 236.04s/it, file=CJG_51_2024\u001b[A\n",
      "Summarizing files for mistral-small:  54%|▌| 52/97 [3:53:16<2:57:01, 236.04s/it, file=CJG - AI 1.\u001b[A"
     ]
    },
    {
     "name": "stdout",
     "output_type": "stream",
     "text": [
      "Record already exists: voiceapp\\output\\summaries_folder\\mistral-small_20241221_024011\\CJG - ambergold 1-summary_1.txt -> C:/Users/G/Documents/GitHub/audycje.com.pl/content/audio\\shorts\\CJG - ambergold 1.txt\n",
      "Record already exists: voiceapp\\output\\summaries_folder\\mistral-small_20241221_024011\\CJG - ambergold 1-summary_2.txt -> C:/Users/G/Documents/GitHub/audycje.com.pl/content/audio\\shorts\\CJG - ambergold 1.txt\n",
      "Record already exists: voiceapp\\output\\summaries_folder\\mistral-small_20241221_024011\\CJG - ambergold 1-summary_3.txt -> C:/Users/G/Documents/GitHub/audycje.com.pl/content/audio\\shorts\\CJG - ambergold 1.txt\n",
      "Record already exists: voiceapp\\output\\summaries_folder\\mistral-small_20241221_024011\\CJG - ambergold 1-summary_4.txt -> C:/Users/G/Documents/GitHub/audycje.com.pl/content/audio\\shorts\\CJG - ambergold 1.txt\n"
     ]
    },
    {
     "name": "stderr",
     "output_type": "stream",
     "text": [
      "\n",
      "Summarizing files for mistral-small:  55%|▌| 53/97 [3:55:39<2:32:33, 208.04s/it, file=CJG - AI 1.\u001b[A\n",
      "Summarizing files for mistral-small:  55%|▌| 53/97 [3:55:39<2:32:33, 208.04s/it, file=CJG - amber\u001b[A"
     ]
    },
    {
     "name": "stdout",
     "output_type": "stream",
     "text": [
      "Record already exists: voiceapp\\output\\summaries_folder\\mistral-small_20241221_024011\\CJG - ambergold 1-summary_5.txt -> C:/Users/G/Documents/GitHub/audycje.com.pl/content/audio\\shorts\\CJG - ambergold 1.txt\n"
     ]
    },
    {
     "name": "stderr",
     "output_type": "stream",
     "text": [
      "\n",
      "Summarizing files for mistral-small:  56%|▌| 54/97 [3:56:49<1:59:27, 166.69s/it, file=CJG - amber\u001b[A\n",
      "Summarizing files for mistral-small:  56%|▌| 54/97 [3:56:49<1:59:27, 166.69s/it, file=CJG - anheu\u001b[A"
     ]
    },
    {
     "name": "stdout",
     "output_type": "stream",
     "text": [
      "Record already exists: voiceapp\\output\\summaries_folder\\mistral-small_20241221_024011\\CJG - C40 1-summary_1.txt -> C:/Users/G/Documents/GitHub/audycje.com.pl/content/audio\\shorts\\CJG - C40 1.txt\n",
      "Record already exists: voiceapp\\output\\summaries_folder\\mistral-small_20241221_024011\\CJG - C40 1-summary_2.txt -> C:/Users/G/Documents/GitHub/audycje.com.pl/content/audio\\shorts\\CJG - C40 1.txt\n",
      "Record already exists: voiceapp\\output\\summaries_folder\\mistral-small_20241221_024011\\CJG - C40 1-summary_3.txt -> C:/Users/G/Documents/GitHub/audycje.com.pl/content/audio\\shorts\\CJG - C40 1.txt\n",
      "Record already exists: voiceapp\\output\\summaries_folder\\mistral-small_20241221_024011\\CJG - C40 1-summary_4.txt -> C:/Users/G/Documents/GitHub/audycje.com.pl/content/audio\\shorts\\CJG - C40 1.txt\n"
     ]
    },
    {
     "name": "stderr",
     "output_type": "stream",
     "text": [
      "\n",
      "Summarizing files for mistral-small:  57%|▌| 55/97 [3:58:09<1:38:36, 140.87s/it, file=CJG - anheu\u001b[A\n",
      "Summarizing files for mistral-small:  57%|▌| 55/97 [3:58:09<1:38:36, 140.87s/it, file=CJG - C40 1\u001b[A"
     ]
    },
    {
     "name": "stdout",
     "output_type": "stream",
     "text": [
      "Record already exists: voiceapp\\output\\summaries_folder\\mistral-small_20241221_024011\\CJG - C40 1-summary_5.txt -> C:/Users/G/Documents/GitHub/audycje.com.pl/content/audio\\shorts\\CJG - C40 1.txt\n",
      "Record already exists: voiceapp\\output\\summaries_folder\\mistral-small_20241221_024011\\CJG - dawne zapowiedzi 1-summary_1.txt -> C:/Users/G/Documents/GitHub/audycje.com.pl/content/audio\\shorts\\CJG - dawne zapowiedzi 1.txt\n",
      "Record already exists: voiceapp\\output\\summaries_folder\\mistral-small_20241221_024011\\CJG - dawne zapowiedzi 1-summary_2.txt -> C:/Users/G/Documents/GitHub/audycje.com.pl/content/audio\\shorts\\CJG - dawne zapowiedzi 1.txt\n",
      "Record already exists: voiceapp\\output\\summaries_folder\\mistral-small_20241221_024011\\CJG - dawne zapowiedzi 1-summary_3.txt -> C:/Users/G/Documents/GitHub/audycje.com.pl/content/audio\\shorts\\CJG - dawne zapowiedzi 1.txt\n",
      "Record already exists: voiceapp\\output\\summaries_folder\\mistral-small_20241221_024011\\CJG - dawne zapowiedzi 1-summary_4.txt -> C:/Users/G/Documents/GitHub/audycje.com.pl/content/audio\\shorts\\CJG - dawne zapowiedzi 1.txt\n"
     ]
    },
    {
     "name": "stderr",
     "output_type": "stream",
     "text": [
      "\n",
      "Summarizing files for mistral-small:  58%|▌| 56/97 [4:00:18<1:33:51, 137.34s/it, file=CJG - C40 1\u001b[A\n",
      "Summarizing files for mistral-small:  58%|▌| 56/97 [4:00:18<1:33:51, 137.34s/it, file=CJG - dawne\u001b[A"
     ]
    },
    {
     "name": "stdout",
     "output_type": "stream",
     "text": [
      "Record already exists: voiceapp\\output\\summaries_folder\\mistral-small_20241221_024011\\CJG - dawne zapowiedzi 1-summary_5.txt -> C:/Users/G/Documents/GitHub/audycje.com.pl/content/audio\\shorts\\CJG - dawne zapowiedzi 1.txt\n",
      "Record already exists: voiceapp\\output\\summaries_folder\\mistral-small_20241221_024011\\CJG - emigracja 1-summary_1.txt -> C:/Users/G/Documents/GitHub/audycje.com.pl/content/audio\\shorts\\CJG - emigracja 1.txt\n",
      "Record already exists: voiceapp\\output\\summaries_folder\\mistral-small_20241221_024011\\CJG - emigracja 1-summary_2.txt -> C:/Users/G/Documents/GitHub/audycje.com.pl/content/audio\\shorts\\CJG - emigracja 1.txt\n",
      "Record already exists: voiceapp\\output\\summaries_folder\\mistral-small_20241221_024011\\CJG - emigracja 1-summary_3.txt -> C:/Users/G/Documents/GitHub/audycje.com.pl/content/audio\\shorts\\CJG - emigracja 1.txt\n",
      "Record already exists: voiceapp\\output\\summaries_folder\\mistral-small_20241221_024011\\CJG - emigracja 1-summary_4.txt -> C:/Users/G/Documents/GitHub/audycje.com.pl/content/audio\\shorts\\CJG - emigracja 1.txt\n"
     ]
    },
    {
     "name": "stderr",
     "output_type": "stream",
     "text": [
      "\n",
      "Summarizing files for mistral-small:  59%|▌| 57/97 [4:02:41<1:32:41, 139.04s/it, file=CJG - dawne\u001b[A\n",
      "Summarizing files for mistral-small:  59%|▌| 57/97 [4:02:41<1:32:41, 139.04s/it, file=CJG - emigr\u001b[A"
     ]
    },
    {
     "name": "stdout",
     "output_type": "stream",
     "text": [
      "Record already exists: voiceapp\\output\\summaries_folder\\mistral-small_20241221_024011\\CJG - emigracja 1-summary_5.txt -> C:/Users/G/Documents/GitHub/audycje.com.pl/content/audio\\shorts\\CJG - emigracja 1.txt\n",
      "Record already exists: voiceapp\\output\\summaries_folder\\mistral-small_20241221_024011\\CJG - evergrande 1-summary_1.txt -> C:/Users/G/Documents/GitHub/audycje.com.pl/content/audio\\shorts\\CJG - evergrande 1.txt\n",
      "Record already exists: voiceapp\\output\\summaries_folder\\mistral-small_20241221_024011\\CJG - evergrande 1-summary_2.txt -> C:/Users/G/Documents/GitHub/audycje.com.pl/content/audio\\shorts\\CJG - evergrande 1.txt\n",
      "Record already exists: voiceapp\\output\\summaries_folder\\mistral-small_20241221_024011\\CJG - evergrande 1-summary_3.txt -> C:/Users/G/Documents/GitHub/audycje.com.pl/content/audio\\shorts\\CJG - evergrande 1.txt\n",
      "Record already exists: voiceapp\\output\\summaries_folder\\mistral-small_20241221_024011\\CJG - evergrande 1-summary_4.txt -> C:/Users/G/Documents/GitHub/audycje.com.pl/content/audio\\shorts\\CJG - evergrande 1.txt\n"
     ]
    },
    {
     "name": "stderr",
     "output_type": "stream",
     "text": [
      "\n",
      "Summarizing files for mistral-small:  60%|▌| 58/97 [4:04:55<1:29:19, 137.43s/it, file=CJG - emigr\u001b[A\n",
      "Summarizing files for mistral-small:  60%|▌| 58/97 [4:04:55<1:29:19, 137.43s/it, file=CJG - everg\u001b[A"
     ]
    },
    {
     "name": "stdout",
     "output_type": "stream",
     "text": [
      "Record already exists: voiceapp\\output\\summaries_folder\\mistral-small_20241221_024011\\CJG - evergrande 1-summary_5.txt -> C:/Users/G/Documents/GitHub/audycje.com.pl/content/audio\\shorts\\CJG - evergrande 1.txt\n"
     ]
    },
    {
     "name": "stderr",
     "output_type": "stream",
     "text": [
      "\n",
      "Summarizing files for mistral-small:  61%|▌| 59/97 [4:06:10<1:15:14, 118.79s/it, file=CJG - everg\u001b[A\n",
      "Summarizing files for mistral-small:  61%|▌| 59/97 [4:06:10<1:15:14, 118.79s/it, file=CJG - firmy\u001b[A\n",
      "Summarizing files for mistral-small:  62%|▌| 60/97 [4:07:23<1:04:38, 104.81s/it, file=CJG - firmy\u001b[A\n",
      "Summarizing files for mistral-small:  62%|▌| 60/97 [4:07:23<1:04:38, 104.81s/it, file=CJG - fotow\u001b[A\n",
      "Summarizing files for mistral-small:  63%|▋| 61/97 [4:08:46<59:06, 98.50s/it, file=CJG - fotowolt\u001b[A\n",
      "Summarizing files for mistral-small:  63%|▋| 61/97 [4:08:46<59:06, 98.50s/it, file=CJG - hamas 1.\u001b[A\n",
      "Summarizing files for mistral-small:  64%|▋| 62/97 [4:10:03<53:39, 92.00s/it, file=CJG - hamas 1.\u001b[A\n",
      "Summarizing files for mistral-small:  64%|▋| 62/97 [4:10:03<53:39, 92.00s/it, file=CJG - inflacja\u001b[A"
     ]
    },
    {
     "name": "stdout",
     "output_type": "stream",
     "text": [
      "Record already exists: voiceapp\\output\\summaries_folder\\mistral-small_20241221_024011\\CJG - influencerzy 1-summary_1.txt -> C:/Users/G/Documents/GitHub/audycje.com.pl/content/audio\\shorts\\CJG - influencerzy 1.txt\n",
      "Record already exists: voiceapp\\output\\summaries_folder\\mistral-small_20241221_024011\\CJG - influencerzy 1-summary_2.txt -> C:/Users/G/Documents/GitHub/audycje.com.pl/content/audio\\shorts\\CJG - influencerzy 1.txt\n",
      "Record already exists: voiceapp\\output\\summaries_folder\\mistral-small_20241221_024011\\CJG - influencerzy 1-summary_3.txt -> C:/Users/G/Documents/GitHub/audycje.com.pl/content/audio\\shorts\\CJG - influencerzy 1.txt\n",
      "Record already exists: voiceapp\\output\\summaries_folder\\mistral-small_20241221_024011\\CJG - influencerzy 1-summary_4.txt -> C:/Users/G/Documents/GitHub/audycje.com.pl/content/audio\\shorts\\CJG - influencerzy 1.txt\n"
     ]
    },
    {
     "name": "stderr",
     "output_type": "stream",
     "text": [
      "\n",
      "Summarizing files for mistral-small:  65%|▋| 63/97 [4:12:31<1:01:34, 108.66s/it, file=CJG - infla\u001b[A\n",
      "Summarizing files for mistral-small:  65%|▋| 63/97 [4:12:31<1:01:34, 108.66s/it, file=CJG - influ\u001b[A"
     ]
    },
    {
     "name": "stdout",
     "output_type": "stream",
     "text": [
      "Record already exists: voiceapp\\output\\summaries_folder\\mistral-small_20241221_024011\\CJG - influencerzy 1-summary_5.txt -> C:/Users/G/Documents/GitHub/audycje.com.pl/content/audio\\shorts\\CJG - influencerzy 1.txt\n"
     ]
    },
    {
     "name": "stderr",
     "output_type": "stream",
     "text": [
      "\n",
      "Summarizing files for mistral-small:  66%|▋| 64/97 [4:13:42<53:36, 97.48s/it, file=CJG - influenc\u001b[A\n",
      "Summarizing files for mistral-small:  66%|▋| 64/97 [4:13:42<53:36, 97.48s/it, file=CJG - japonia \u001b[A\n",
      "Summarizing files for mistral-small:  67%|▋| 65/97 [4:14:57<48:25, 90.79s/it, file=CJG - japonia \u001b[A\n",
      "Summarizing files for mistral-small:  67%|▋| 65/97 [4:14:57<48:25, 90.79s/it, file=CJG - jastrzab\u001b[A\n",
      "Summarizing files for mistral-small:  68%|▋| 66/97 [4:16:14<44:41, 86.51s/it, file=CJG - jastrzab\u001b[A\n",
      "Summarizing files for mistral-small:  68%|▋| 66/97 [4:16:14<44:41, 86.51s/it, file=CJG - jubileus\u001b[A\n",
      "Summarizing files for mistral-small:  69%|▋| 67/97 [4:17:31<41:54, 83.81s/it, file=CJG - jubileus\u001b[A\n",
      "Summarizing files for mistral-small:  69%|▋| 67/97 [4:17:31<41:54, 83.81s/it, file=CJG - kataster\u001b[A"
     ]
    },
    {
     "name": "stdout",
     "output_type": "stream",
     "text": [
      "Record already exists: voiceapp\\output\\summaries_folder\\mistral-small_20241221_024011\\CJG - kierowcy 1-summary_1.txt -> C:/Users/G/Documents/GitHub/audycje.com.pl/content/audio\\shorts\\CJG - kierowcy 1.txt\n",
      "Record already exists: voiceapp\\output\\summaries_folder\\mistral-small_20241221_024011\\CJG - kierowcy 1-summary_2.txt -> C:/Users/G/Documents/GitHub/audycje.com.pl/content/audio\\shorts\\CJG - kierowcy 1.txt\n",
      "Record already exists: voiceapp\\output\\summaries_folder\\mistral-small_20241221_024011\\CJG - kierowcy 1-summary_3.txt -> C:/Users/G/Documents/GitHub/audycje.com.pl/content/audio\\shorts\\CJG - kierowcy 1.txt\n",
      "Record already exists: voiceapp\\output\\summaries_folder\\mistral-small_20241221_024011\\CJG - kierowcy 1-summary_4.txt -> C:/Users/G/Documents/GitHub/audycje.com.pl/content/audio\\shorts\\CJG - kierowcy 1.txt\n"
     ]
    },
    {
     "name": "stderr",
     "output_type": "stream",
     "text": [
      "\n",
      "Summarizing files for mistral-small:  70%|▋| 68/97 [4:20:03<50:23, 104.27s/it, file=CJG - kataste\u001b[A\n",
      "Summarizing files for mistral-small:  70%|▋| 68/97 [4:20:03<50:23, 104.27s/it, file=CJG - kierowc\u001b[A"
     ]
    },
    {
     "name": "stdout",
     "output_type": "stream",
     "text": [
      "Record already exists: voiceapp\\output\\summaries_folder\\mistral-small_20241221_024011\\CJG - kierowcy 1-summary_5.txt -> C:/Users/G/Documents/GitHub/audycje.com.pl/content/audio\\shorts\\CJG - kierowcy 1.txt\n",
      "Record already exists: voiceapp\\output\\summaries_folder\\mistral-small_20241221_024011\\CJG - koniec roku 1-summary_1.txt -> C:/Users/G/Documents/GitHub/audycje.com.pl/content/audio\\shorts\\CJG - koniec roku 1.txt\n",
      "Record already exists: voiceapp\\output\\summaries_folder\\mistral-small_20241221_024011\\CJG - koniec roku 1-summary_2.txt -> C:/Users/G/Documents/GitHub/audycje.com.pl/content/audio\\shorts\\CJG - koniec roku 1.txt\n",
      "Record already exists: voiceapp\\output\\summaries_folder\\mistral-small_20241221_024011\\CJG - koniec roku 1-summary_3.txt -> C:/Users/G/Documents/GitHub/audycje.com.pl/content/audio\\shorts\\CJG - koniec roku 1.txt\n",
      "Record already exists: voiceapp\\output\\summaries_folder\\mistral-small_20241221_024011\\CJG - koniec roku 1-summary_4.txt -> C:/Users/G/Documents/GitHub/audycje.com.pl/content/audio\\shorts\\CJG - koniec roku 1.txt\n"
     ]
    },
    {
     "name": "stderr",
     "output_type": "stream",
     "text": [
      "\n",
      "Summarizing files for mistral-small:  71%|▋| 69/97 [4:22:19<53:06, 113.80s/it, file=CJG - kierowc\u001b[A\n",
      "Summarizing files for mistral-small:  71%|▋| 69/97 [4:22:19<53:06, 113.80s/it, file=CJG - koniec \u001b[A"
     ]
    },
    {
     "name": "stdout",
     "output_type": "stream",
     "text": [
      "Record already exists: voiceapp\\output\\summaries_folder\\mistral-small_20241221_024011\\CJG - koniec roku 1-summary_5.txt -> C:/Users/G/Documents/GitHub/audycje.com.pl/content/audio\\shorts\\CJG - koniec roku 1.txt\n"
     ]
    },
    {
     "name": "stderr",
     "output_type": "stream",
     "text": [
      "\n",
      "Summarizing files for mistral-small:  72%|▋| 70/97 [4:23:39<46:33, 103.45s/it, file=CJG - koniec \u001b[A\n",
      "Summarizing files for mistral-small:  72%|▋| 70/97 [4:23:39<46:33, 103.45s/it, file=CJG - kurczak\u001b[A\n",
      "Summarizing files for mistral-small:  73%|▋| 71/97 [4:24:49<40:30, 93.48s/it, file=CJG - kurczaki\u001b[A\n",
      "Summarizing files for mistral-small:  73%|▋| 71/97 [4:24:49<40:30, 93.48s/it, file=CJG - mieszkan\u001b[A"
     ]
    },
    {
     "name": "stdout",
     "output_type": "stream",
     "text": [
      "Record already exists: voiceapp\\output\\summaries_folder\\mistral-small_20241221_024011\\CJG - miliarderzy 1-summary_1.txt -> C:/Users/G/Documents/GitHub/audycje.com.pl/content/audio\\shorts\\CJG - miliarderzy 1.txt\n",
      "Record already exists: voiceapp\\output\\summaries_folder\\mistral-small_20241221_024011\\CJG - miliarderzy 1-summary_2.txt -> C:/Users/G/Documents/GitHub/audycje.com.pl/content/audio\\shorts\\CJG - miliarderzy 1.txt\n",
      "Record already exists: voiceapp\\output\\summaries_folder\\mistral-small_20241221_024011\\CJG - miliarderzy 1-summary_3.txt -> C:/Users/G/Documents/GitHub/audycje.com.pl/content/audio\\shorts\\CJG - miliarderzy 1.txt\n",
      "Record already exists: voiceapp\\output\\summaries_folder\\mistral-small_20241221_024011\\CJG - miliarderzy 1-summary_4.txt -> C:/Users/G/Documents/GitHub/audycje.com.pl/content/audio\\shorts\\CJG - miliarderzy 1.txt\n"
     ]
    },
    {
     "name": "stderr",
     "output_type": "stream",
     "text": [
      "\n",
      "Summarizing files for mistral-small:  74%|▋| 72/97 [4:26:56<43:07, 103.52s/it, file=CJG - mieszka\u001b[A\n",
      "Summarizing files for mistral-small:  74%|▋| 72/97 [4:26:56<43:07, 103.52s/it, file=CJG - miliard\u001b[A"
     ]
    },
    {
     "name": "stdout",
     "output_type": "stream",
     "text": [
      "Record already exists: voiceapp\\output\\summaries_folder\\mistral-small_20241221_024011\\CJG - miliarderzy 1-summary_5.txt -> C:/Users/G/Documents/GitHub/audycje.com.pl/content/audio\\shorts\\CJG - miliarderzy 1.txt\n"
     ]
    },
    {
     "name": "stderr",
     "output_type": "stream",
     "text": [
      "\n",
      "Summarizing files for mistral-small:  75%|▊| 73/97 [4:28:21<39:12, 98.02s/it, file=CJG - miliarde\u001b[A\n",
      "Summarizing files for mistral-small:  75%|▊| 73/97 [4:28:21<39:12, 98.02s/it, file=CJG - monopol \u001b[A\n",
      "Summarizing files for mistral-small:  76%|▊| 74/97 [4:29:39<35:16, 92.02s/it, file=CJG - monopol \u001b[A\n",
      "Summarizing files for mistral-small:  76%|▊| 74/97 [4:29:39<35:16, 92.02s/it, file=CJG - niemcy 1\u001b[A\n",
      "Summarizing files for mistral-small:  77%|▊| 75/97 [4:30:57<32:08, 87.64s/it, file=CJG - niemcy 1\u001b[A\n",
      "Summarizing files for mistral-small:  77%|▊| 75/97 [4:30:57<32:08, 87.64s/it, file=CJG - orlen 1.\u001b[A"
     ]
    },
    {
     "name": "stdout",
     "output_type": "stream",
     "text": [
      "Record already exists: voiceapp\\output\\summaries_folder\\mistral-small_20241221_024011\\CJG - paliwo wyborcze 1-summary_1.txt -> C:/Users/G/Documents/GitHub/audycje.com.pl/content/audio\\shorts\\CJG - paliwo wyborcze 1.txt\n",
      "Record already exists: voiceapp\\output\\summaries_folder\\mistral-small_20241221_024011\\CJG - paliwo wyborcze 1-summary_2.txt -> C:/Users/G/Documents/GitHub/audycje.com.pl/content/audio\\shorts\\CJG - paliwo wyborcze 1.txt\n",
      "Record already exists: voiceapp\\output\\summaries_folder\\mistral-small_20241221_024011\\CJG - paliwo wyborcze 1-summary_3.txt -> C:/Users/G/Documents/GitHub/audycje.com.pl/content/audio\\shorts\\CJG - paliwo wyborcze 1.txt\n",
      "Record already exists: voiceapp\\output\\summaries_folder\\mistral-small_20241221_024011\\CJG - paliwo wyborcze 1-summary_4.txt -> C:/Users/G/Documents/GitHub/audycje.com.pl/content/audio\\shorts\\CJG - paliwo wyborcze 1.txt\n"
     ]
    },
    {
     "name": "stderr",
     "output_type": "stream",
     "text": [
      "\n",
      "Summarizing files for mistral-small:  78%|▊| 76/97 [4:32:37<32:00, 91.44s/it, file=CJG - orlen 1.\u001b[A\n",
      "Summarizing files for mistral-small:  78%|▊| 76/97 [4:32:37<32:00, 91.44s/it, file=CJG - paliwo w\u001b[A"
     ]
    },
    {
     "name": "stdout",
     "output_type": "stream",
     "text": [
      "Record already exists: voiceapp\\output\\summaries_folder\\mistral-small_20241221_024011\\CJG - paliwo wyborcze 1-summary_5.txt -> C:/Users/G/Documents/GitHub/audycje.com.pl/content/audio\\shorts\\CJG - paliwo wyborcze 1.txt\n"
     ]
    },
    {
     "name": "stderr",
     "output_type": "stream",
     "text": [
      "\n",
      "Summarizing files for mistral-small:  79%|▊| 77/97 [4:33:53<28:56, 86.82s/it, file=CJG - paliwo w\u001b[A\n",
      "Summarizing files for mistral-small:  79%|▊| 77/97 [4:33:53<28:56, 86.82s/it, file=CJG - pompy ci\u001b[A"
     ]
    },
    {
     "name": "stdout",
     "output_type": "stream",
     "text": [
      "Record already exists: voiceapp\\output\\summaries_folder\\mistral-small_20241221_024011\\CJG - punkt zwrotny usa 1-summary_1.txt -> C:/Users/G/Documents/GitHub/audycje.com.pl/content/audio\\shorts\\CJG - punkt zwrotny usa 1.txt\n",
      "Record already exists: voiceapp\\output\\summaries_folder\\mistral-small_20241221_024011\\CJG - punkt zwrotny usa 1-summary_2.txt -> C:/Users/G/Documents/GitHub/audycje.com.pl/content/audio\\shorts\\CJG - punkt zwrotny usa 1.txt\n",
      "Record already exists: voiceapp\\output\\summaries_folder\\mistral-small_20241221_024011\\CJG - punkt zwrotny usa 1-summary_3.txt -> C:/Users/G/Documents/GitHub/audycje.com.pl/content/audio\\shorts\\CJG - punkt zwrotny usa 1.txt\n",
      "Record already exists: voiceapp\\output\\summaries_folder\\mistral-small_20241221_024011\\CJG - punkt zwrotny usa 1-summary_4.txt -> C:/Users/G/Documents/GitHub/audycje.com.pl/content/audio\\shorts\\CJG - punkt zwrotny usa 1.txt\n"
     ]
    },
    {
     "name": "stderr",
     "output_type": "stream",
     "text": [
      "\n",
      "Summarizing files for mistral-small:  80%|▊| 78/97 [4:35:36<28:59, 91.57s/it, file=CJG - pompy ci\u001b[A\n",
      "Summarizing files for mistral-small:  80%|▊| 78/97 [4:35:36<28:59, 91.57s/it, file=CJG - punkt zw\u001b[A"
     ]
    },
    {
     "name": "stdout",
     "output_type": "stream",
     "text": [
      "Record already exists: voiceapp\\output\\summaries_folder\\mistral-small_20241221_024011\\CJG - punkt zwrotny usa 1-summary_5.txt -> C:/Users/G/Documents/GitHub/audycje.com.pl/content/audio\\shorts\\CJG - punkt zwrotny usa 1.txt\n"
     ]
    },
    {
     "name": "stderr",
     "output_type": "stream",
     "text": [
      "\n",
      "Summarizing files for mistral-small:  81%|▊| 79/97 [4:36:49<25:48, 86.00s/it, file=CJG - punkt zw\u001b[A\n",
      "Summarizing files for mistral-small:  81%|▊| 79/97 [4:36:49<25:48, 86.00s/it, file=CJG - robaki 1\u001b[A\n",
      "Summarizing files for mistral-small:  82%|▊| 80/97 [4:38:05<23:31, 83.01s/it, file=CJG - robaki 1\u001b[A\n",
      "Summarizing files for mistral-small:  82%|▊| 80/97 [4:38:05<23:31, 83.01s/it, file=CJG - rok 2022\u001b[A"
     ]
    },
    {
     "name": "stdout",
     "output_type": "stream",
     "text": [
      "Record already exists: voiceapp\\output\\summaries_folder\\mistral-small_20241221_024011\\CJG - rosja 1-summary_1.txt -> C:/Users/G/Documents/GitHub/audycje.com.pl/content/audio\\shorts\\CJG - rosja 1.txt\n",
      "Record already exists: voiceapp\\output\\summaries_folder\\mistral-small_20241221_024011\\CJG - rosja 1-summary_2.txt -> C:/Users/G/Documents/GitHub/audycje.com.pl/content/audio\\shorts\\CJG - rosja 1.txt\n",
      "Record already exists: voiceapp\\output\\summaries_folder\\mistral-small_20241221_024011\\CJG - rosja 1-summary_3.txt -> C:/Users/G/Documents/GitHub/audycje.com.pl/content/audio\\shorts\\CJG - rosja 1.txt\n",
      "Record already exists: voiceapp\\output\\summaries_folder\\mistral-small_20241221_024011\\CJG - rosja 1-summary_4.txt -> C:/Users/G/Documents/GitHub/audycje.com.pl/content/audio\\shorts\\CJG - rosja 1.txt\n"
     ]
    },
    {
     "name": "stderr",
     "output_type": "stream",
     "text": [
      "\n",
      "Summarizing files for mistral-small:  84%|▊| 81/97 [4:40:32<27:18, 102.44s/it, file=CJG - rok 202\u001b[A\n",
      "Summarizing files for mistral-small:  84%|▊| 81/97 [4:40:32<27:18, 102.44s/it, file=CJG - rosja 1\u001b[A"
     ]
    },
    {
     "name": "stdout",
     "output_type": "stream",
     "text": [
      "Record already exists: voiceapp\\output\\summaries_folder\\mistral-small_20241221_024011\\CJG - rosja 1-summary_5.txt -> C:/Users/G/Documents/GitHub/audycje.com.pl/content/audio\\shorts\\CJG - rosja 1.txt\n"
     ]
    },
    {
     "name": "stderr",
     "output_type": "stream",
     "text": [
      "\n",
      "Summarizing files for mistral-small:  85%|▊| 82/97 [4:41:47<23:30, 94.04s/it, file=CJG - rosja 1.\u001b[A\n",
      "Summarizing files for mistral-small:  85%|▊| 82/97 [4:41:47<23:30, 94.04s/it, file=CJG - samochod\u001b[A\n",
      "Summarizing files for mistral-small:  86%|▊| 83/97 [4:43:08<21:02, 90.20s/it, file=CJG - samochod\u001b[A\n",
      "Summarizing files for mistral-small:  86%|▊| 83/97 [4:43:08<21:02, 90.20s/it, file=CJG - si 1.txt\u001b[A\n",
      "Summarizing files for mistral-small:  87%|▊| 84/97 [4:44:28<18:51, 87.02s/it, file=CJG - si 1.txt\u001b[A\n",
      "Summarizing files for mistral-small:  87%|▊| 84/97 [4:44:28<18:51, 87.02s/it, file=CJG - wagner 1\u001b[A\n",
      "Summarizing files for mistral-small:  88%|▉| 85/97 [4:45:49<17:03, 85.28s/it, file=CJG - wagner 1\u001b[A\n",
      "Summarizing files for mistral-small:  88%|▉| 85/97 [4:45:49<17:03, 85.28s/it, file=CJG - wojna 1.\u001b[A\n",
      "Summarizing files for mistral-small:  89%|▉| 86/97 [4:47:00<14:52, 81.16s/it, file=CJG - wojna 1.\u001b[A\n",
      "Summarizing files for mistral-small:  89%|▉| 86/97 [4:47:00<14:52, 81.16s/it, file=CJG - woke cz1\u001b[A\n",
      "Summarizing files for mistral-small:  90%|▉| 87/97 [4:48:24<13:39, 81.93s/it, file=CJG - woke cz1\u001b[A\n",
      "Summarizing files for mistral-small:  90%|▉| 87/97 [4:48:24<13:39, 81.93s/it, file=CJG - wyrownan\u001b[A"
     ]
    },
    {
     "name": "stdout",
     "output_type": "stream",
     "text": [
      "Record already exists: voiceapp\\output\\summaries_folder\\mistral-small_20241221_024011\\CJG - zarobki 1-summary_1.txt -> C:/Users/G/Documents/GitHub/audycje.com.pl/content/audio\\shorts\\CJG - zarobki 1.txt\n",
      "Record already exists: voiceapp\\output\\summaries_folder\\mistral-small_20241221_024011\\CJG - zarobki 1-summary_2.txt -> C:/Users/G/Documents/GitHub/audycje.com.pl/content/audio\\shorts\\CJG - zarobki 1.txt\n",
      "Record already exists: voiceapp\\output\\summaries_folder\\mistral-small_20241221_024011\\CJG - zarobki 1-summary_3.txt -> C:/Users/G/Documents/GitHub/audycje.com.pl/content/audio\\shorts\\CJG - zarobki 1.txt\n",
      "Record already exists: voiceapp\\output\\summaries_folder\\mistral-small_20241221_024011\\CJG - zarobki 1-summary_4.txt -> C:/Users/G/Documents/GitHub/audycje.com.pl/content/audio\\shorts\\CJG - zarobki 1.txt\n"
     ]
    },
    {
     "name": "stderr",
     "output_type": "stream",
     "text": [
      "\n",
      "Summarizing files for mistral-small:  91%|▉| 88/97 [4:50:52<15:15, 101.75s/it, file=CJG - wyrowna\u001b[A\n",
      "Summarizing files for mistral-small:  91%|▉| 88/97 [4:50:52<15:15, 101.75s/it, file=CJG - zarobki\u001b[A"
     ]
    },
    {
     "name": "stdout",
     "output_type": "stream",
     "text": [
      "Record already exists: voiceapp\\output\\summaries_folder\\mistral-small_20241221_024011\\CJG - zarobki 1-summary_5.txt -> C:/Users/G/Documents/GitHub/audycje.com.pl/content/audio\\shorts\\CJG - zarobki 1.txt\n"
     ]
    },
    {
     "name": "stderr",
     "output_type": "stream",
     "text": [
      "\n",
      "Summarizing files for mistral-small:  92%|▉| 89/97 [4:52:00<12:12, 91.61s/it, file=CJG - zarobki \u001b[A\n",
      "Summarizing files for mistral-small:  92%|▉| 89/97 [4:52:00<12:12, 91.61s/it, file=CJG - zasoby s\u001b[A"
     ]
    },
    {
     "name": "stdout",
     "output_type": "stream",
     "text": [
      "Record already exists: voiceapp\\output\\summaries_folder\\mistral-small_20241221_024011\\CJG - zus 1-summary_1.txt -> C:/Users/G/Documents/GitHub/audycje.com.pl/content/audio\\shorts\\CJG - zus 1.txt\n",
      "Record already exists: voiceapp\\output\\summaries_folder\\mistral-small_20241221_024011\\CJG - zus 1-summary_2.txt -> C:/Users/G/Documents/GitHub/audycje.com.pl/content/audio\\shorts\\CJG - zus 1.txt\n",
      "Record already exists: voiceapp\\output\\summaries_folder\\mistral-small_20241221_024011\\CJG - zus 1-summary_3.txt -> C:/Users/G/Documents/GitHub/audycje.com.pl/content/audio\\shorts\\CJG - zus 1.txt\n",
      "Record already exists: voiceapp\\output\\summaries_folder\\mistral-small_20241221_024011\\CJG - zus 1-summary_4.txt -> C:/Users/G/Documents/GitHub/audycje.com.pl/content/audio\\shorts\\CJG - zus 1.txt\n"
     ]
    },
    {
     "name": "stderr",
     "output_type": "stream",
     "text": [
      "\n",
      "Summarizing files for mistral-small:  93%|▉| 90/97 [4:54:32<12:47, 109.70s/it, file=CJG - zasoby \u001b[A\n",
      "Summarizing files for mistral-small:  93%|▉| 90/97 [4:54:32<22:54, 196.36s/it, file=CJG - zus 1.t\u001b[A"
     ]
    },
    {
     "name": "stdout",
     "output_type": "stream",
     "text": [
      "Record already exists: voiceapp\\output\\summaries_folder\\mistral-small_20241221_024011\\CJG - zus 1-summary_5.txt -> C:/Users/G/Documents/GitHub/audycje.com.pl/content/audio\\shorts\\CJG - zus 1.txt\n"
     ]
    },
    {
     "name": "stderr",
     "output_type": "stream",
     "text": [
      "\n"
     ]
    }
   ],
   "source": [
    "\n",
    "def main():\n",
    "    \"\"\"Main function to run the program.\"\"\"\n",
    "    models = [        \n",
    "        # 'mistral:7b',         \n",
    "        #'llama3.2:3b',\n",
    "        #'qwen2:7b',\n",
    "        'mistral-small',\n",
    "        # 'yi:6b',\n",
    "        # 'glm4:9b',\n",
    "        # 'qwen2.5:7b',\n",
    "    ]\n",
    "    tokenizer = AutoTokenizer.from_pretrained(\"sentence-transformers/all-distilroberta-v1\")\n",
    "    embed_model = AutoModel.from_pretrained(\"sentence-transformers/all-distilroberta-v1\")\n",
    "    file_paths = load_file_paths('voiceapp\\\\lista-1.txt')\n",
    "\n",
    "    for model_name in models:\n",
    "        process_files_for_model(model_name, file_paths, tokenizer, embed_model)\n",
    "\n",
    "\n",
    "if __name__ == \"__main__\":\n",
    "    main()"
   ]
  },
  {
   "cell_type": "code",
   "execution_count": null,
   "id": "5a11d33d-bf4e-432d-a5a4-986fc62e3e97",
   "metadata": {},
   "outputs": [],
   "source": [
    "#1 Prompt version\n",
    "def generate_summaries_for_chunk(chunk, model_name, tokenizer, embed_model, output_folder):\n",
    "    \"\"\"Generate summary for a single chunk of text.\"\"\"\n",
    "    response = ollama.chat(\n",
    "        model=model_name,\n",
    "        messages=[{\n",
    "            \"role\": \"assistant\",\n",
    "            \"content\": f\"\"\"\n",
    "                ---\n",
    "                **\"You are a copywriter. Your task is to summarize the provided text according to the following framework:**\n",
    "                1. **Key Themes**: Identify and explain the main themes or topics discussed in the text.\n",
    "                2. **Impacts**: Assess the broader impacts, highlighting economic, technological, political, and social dimensions.\n",
    "                3. **Examples and Evidence**: Draw connections to real-world examples or supporting evidence that underline the key points.\n",
    "                4. **Opportunities and Risks**: Explore potential opportunities and risks suggested by the text.\n",
    "                5. **Conclusion**: Summarize the implications and suggest future considerations or actions that align with the insights presented in the text.\n",
    "                ---\n",
    "            \"\"\",\n",
    "            \"role\": \"user\",\n",
    "            \"content\": chunk,\n",
    "        }]\n",
    "    )\n",
    "    return extract_summary(response)"
   ]
  },
  {
   "cell_type": "code",
   "execution_count": null,
   "id": "0b8de6ae-dec2-4ddb-a9e7-8b8b1090ddc6",
   "metadata": {},
   "outputs": [],
   "source": [
    "def generate_summaries_for_chunk(chunk, model_name, tokenizer, embed_model, output_folder):\n",
    "    \"\"\"Generate summary for a single chunk of text.\"\"\"\n",
    "    response = ollama.chat(\n",
    "        model=model_name,\n",
    "        messages=[{\n",
    "            \"role\": \"user\",\n",
    "            \"content\": f\"\"\"\n",
    "                ---\n",
    "                **\"You are a copywriter. Your task is to summarize the provided text according to the following framework:**\n",
    "                1. **Key Themes**: Identify and explain the main themes or topics discussed in the text.\n",
    "                2. **Impacts**: Assess the broader impacts, highlighting economic, technological, political, and social dimensions.\n",
    "                3. **Examples and Evidence**: Draw connections to real-world examples or supporting evidence that underline the key points.\n",
    "                4. **Opportunities and Risks**: Explore potential opportunities and risks suggested by the text.\n",
    "                5. **Conclusion**: Summarize the implications and suggest future considerations or actions that align with the insights presented in the text.\n",
    "                ---\n",
    "            \"{chunk}\" \"\"\"\n",
    "        }]\n",
    "    )\n",
    "    return extract_summary(response)"
   ]
  },
  {
   "cell_type": "code",
   "execution_count": null,
   "id": "f6e83f01-874f-44c8-a689-c36cc844ad82",
   "metadata": {},
   "outputs": [],
   "source": [
    "def generate_summaries_for_chunk(chunk, model_name, tokenizer, embed_model, output_folder):\n",
    "    \"\"\"Generate summary for a single chunk of text.\"\"\"\n",
    "    response = ollama.chat(\n",
    "        model=model_name,\n",
    "        messages=[{\n",
    "            \"role\": \"user\",\n",
    "            \"content\": f\"\"\"\n",
    "                Imagine you are a university professor specializing in social sciences, particularly in the field of technology and its societal impacts. You are tasked with summarizing an academic article about the influence of emerging technologies, such as artificial intelligence (AI) and automation, on global economies and workforces. The article includes case studies, statistical data, and theoretical frameworks.\n",
    "\n",
    "                Please provide a detailed and well-structured summary of the article, focusing on the following elements:\n",
    "                \n",
    "                1. **Introduction**: Explain the topic of the article, including the emerging technologies being discussed and their broader societal and economic implications. Provide context on why this topic is significant.\n",
    "                2. **Main arguments**: Describe the key discussions or theories presented in the article. Include insights into the challenges and opportunities these technologies create, supported by relevant examples or case studies discussed in the text.\n",
    "                3. **Findings and conclusions**: Outline the main conclusions of the article, including any recommendations, policy suggestions, or future considerations highlighted by the authors.\n",
    "                \n",
    "                Avoid including specific data points, figures, or direct quotes, but ensure that the summary captures the depth and breadth of the article's content. Maintain a formal and academic tone, ensuring the summary is clear, coherent, and suitable for professional use.\n",
    "                \n",
    "                ---\n",
    "                \n",
    "                **Example of the expected summary:**\n",
    "                \n",
    "                1. **Introduction**: This article examines the societal and economic impacts of emerging technologies, particularly artificial intelligence (AI) and automation, focusing on their transformative effects on industries and labor markets worldwide. It highlights the growing significance of these technologies in reshaping global economies and emphasizes the urgency of understanding their implications for workforce adaptation.  \n",
    "                2. **Main arguments**: The article explores how automation and AI have the potential to displace traditional jobs while simultaneously creating new roles in tech-related fields. It provides case studies from countries like the United States, China, and Germany, showcasing varying strategies for adaptation. Challenges such as skill gaps and economic inequality are discussed alongside opportunities for innovation and efficiency.  \n",
    "                3. **Findings and conclusions**: The authors conclude that governments and industries must collaborate to address the challenges posed by technological advancements. Policy recommendations include investing in workforce retraining programs, emphasizing STEM education, and creating safety nets for displaced workers. The article underscores the need for proactive measures to ensure that technological progress leads to inclusive economic growth.  \n",
    "\n",
    "            \"{chunk}\" \"\"\"\n",
    "        }]\n",
    "    )\n",
    "    return extract_summary(response)"
   ]
  }
 ],
 "metadata": {
  "kernelspec": {
   "display_name": "my-conda-env-kernel",
   "language": "python",
   "name": "my-conda-env-kernel"
  },
  "language_info": {
   "codemirror_mode": {
    "name": "ipython",
    "version": 3
   },
   "file_extension": ".py",
   "mimetype": "text/x-python",
   "name": "python",
   "nbconvert_exporter": "python",
   "pygments_lexer": "ipython3",
   "version": "3.12.7"
  }
 },
 "nbformat": 4,
 "nbformat_minor": 5
}
