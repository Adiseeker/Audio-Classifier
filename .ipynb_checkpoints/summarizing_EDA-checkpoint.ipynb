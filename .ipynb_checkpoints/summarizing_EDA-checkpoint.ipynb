{
 "cells": [
  {
   "cell_type": "code",
   "execution_count": 1,
   "id": "3063bdf6-0b9c-4e6c-8c92-da17797d71b7",
   "metadata": {},
   "outputs": [
    {
     "name": "stderr",
     "output_type": "stream",
     "text": [
      "D:\\anaconda3\\envs\\od_zera_do_ai\\Lib\\site-packages\\tqdm\\auto.py:21: TqdmWarning: IProgress not found. Please update jupyter and ipywidgets. See https://ipywidgets.readthedocs.io/en/stable/user_install.html\n",
      "  from .autonotebook import tqdm as notebook_tqdm\n"
     ]
    }
   ],
   "source": [
    "import ollama\n",
    "import os\n",
    "import time\n",
    "from tqdm import tqdm\n",
    "from transformers import AutoTokenizer, AutoModel\n",
    "import torch\n",
    "import re\n",
    "from datetime import datetime\n",
    "import csv\n",
    "import os\n",
    "\n",
    "\n",
    "# Utility Functions\n",
    "def get_timestamp():\n",
    "    \"\"\"Get the current timestamp.\"\"\"\n",
    "    return datetime.now().strftime('%Y%m%d_%H%M%S')\n",
    "\n",
    "\n",
    "def create_output_folder(model_name):\n",
    "    \"\"\"\n",
    "    Creates a timestamped output folder for a given model name.\n",
    "    Replaces forbidden characters in the folder name.\n",
    "    \"\"\"\n",
    "    base_output_path = os.path.join(\"voiceapp\", \"output\")\n",
    "    summary_folder_path = os.path.join(base_output_path, \"summaries_folder\")\n",
    "    \n",
    "    os.makedirs(base_output_path, exist_ok=True)\n",
    "    os.makedirs(summary_folder_path, exist_ok=True)\n",
    "\n",
    "    # Sanitize the model name by replacing forbidden characters\n",
    "    safe_model_name = re.sub(r'[<>:\"/\\\\|?*]', '_', model_name)\n",
    "\n",
    "    timestamp = get_timestamp()\n",
    "    folder_name = f\"{safe_model_name}_{timestamp}\"\n",
    "\n",
    "    model_folder_path = os.path.join(summary_folder_path, folder_name)\n",
    "    os.makedirs(model_folder_path, exist_ok=True)\n",
    "\n",
    "    return summary_folder_path, model_folder_path\n",
    "\n",
    "\n",
    "def compute_similarity(text1, text2, tokenizer, model):\n",
    "    \"\"\"Compute cosine similarity between two text embeddings.\"\"\"\n",
    "    inputs1 = tokenizer(text1, return_tensors='pt', padding=True, truncation=True, max_length=512)\n",
    "    inputs2 = tokenizer(text2, return_tensors='pt', padding=True, truncation=True, max_length=512)\n",
    "\n",
    "    with torch.no_grad():\n",
    "        emb1 = model(**inputs1).last_hidden_state.mean(dim=1)\n",
    "        emb2 = model(**inputs2).last_hidden_state.mean(dim=1)\n",
    "\n",
    "    cosine_sim = torch.nn.functional.cosine_similarity(emb1, emb2)\n",
    "    return cosine_sim.item()\n",
    "\n",
    "\n",
    "def load_file_paths(file_path):\n",
    "    \"\"\"Load and clean file paths from a given list.\"\"\"\n",
    "    with open(file_path, 'r') as f:\n",
    "        return [line.strip() for line in f.readlines()]\n",
    "\n",
    "\n",
    "def chunk_text(text, chunk_size=1000):\n",
    "    \"\"\"Split text into smaller chunks to fit within LLM token limits.\"\"\"\n",
    "    words = text.split()\n",
    "    chunks = []\n",
    "    for i in range(0, len(words), chunk_size):\n",
    "        chunk = ' '.join(words[i:i + chunk_size])\n",
    "        chunks.append(chunk)\n",
    "    return chunks\n",
    "\n",
    "def generate_summaries_for_chunk(chunk, model_name, tokenizer, embed_model, output_folder):\n",
    "    \"\"\"Generate summary for a single chunk of text.\"\"\"\n",
    "    response = ollama.chat(\n",
    "        model=model_name,\n",
    "        messages=[{\n",
    "            \"role\": \"user\",\n",
    "            \"content\": f\"\"\"\n",
    "                ---\n",
    "                **\"You are a copywriter. Your task is to summarize the provided text according to the following framework:**\n",
    "                1. **Key Themes**: Identify and explain the main themes or topics discussed in the text.\n",
    "                2. **Impacts**: Assess the broader impacts, highlighting economic, technological, political, and social dimensions.\n",
    "                3. **Examples and Evidence**: Draw connections to real-world examples or supporting evidence that underline the key points.\n",
    "                4. **Opportunities and Risks**: Explore potential opportunities and risks suggested by the text.\n",
    "                5. **Conclusion**: Summarize the implications and suggest future considerations or actions that align with the insights presented in the text.\n",
    "                ---\n",
    "            \"{chunk}\" \"\"\"\n",
    "        }]\n",
    "    )\n",
    "    return extract_summary(response)\n",
    "\n",
    "def create_csv_file(csv_path):\n",
    "    \"\"\"Creates a CSV file if it does not exist and writes headers.\"\"\"\n",
    "    if not os.path.exists(csv_path):\n",
    "        with open(csv_path, 'w', newline='', encoding='utf-8') as csvfile:\n",
    "            fieldnames = ['summary_path', 'reference_path']\n",
    "            writer = csv.DictWriter(csvfile, fieldnames=fieldnames)\n",
    "            writer.writeheader()\n",
    "\n",
    "\n",
    "def is_record_in_csv(csv_path, summary_path, reference_path):\n",
    "    \"\"\"Checks if the record (summary_path, reference_path) already exists in the CSV.\"\"\"\n",
    "    if not os.path.exists(csv_path):\n",
    "        return False\n",
    "    \n",
    "    with open(csv_path, 'r', newline='', encoding='utf-8') as csvfile:\n",
    "        reader = csv.DictReader(csvfile)\n",
    "        for row in reader:\n",
    "            if row['summary_path'] == summary_path and row['reference_path'] == reference_path:\n",
    "                return True\n",
    "    return False\n",
    "\n",
    "\n",
    "def save_to_csv(csv_path, summary_path, reference_path):\n",
    "    \"\"\"Appends a record to the CSV file if it does not exist.\"\"\"\n",
    "    if not is_record_in_csv(csv_path, summary_path, reference_path):\n",
    "        with open(csv_path, 'a', newline='', encoding='utf-8') as csvfile:\n",
    "            fieldnames = ['summary_path', 'reference_path']\n",
    "            writer = csv.DictWriter(csvfile, fieldnames=fieldnames)\n",
    "            writer.writerow({'summary_path': summary_path, 'reference_path': reference_path})\n",
    "    else:\n",
    "        print(f\"Record already exists: {summary_path} -> {reference_path}\")\n",
    "\n",
    "def extract_summary(response):\n",
    "    \"\"\"Extract summary content from the model response.\"\"\"\n",
    "    if isinstance(response, list):\n",
    "        for message in response:\n",
    "            if 'content' in message:\n",
    "                return message['content']\n",
    "    elif isinstance(response, dict):\n",
    "        return response.get('message', {}).get('content', \"No content available\")\n",
    "    else:\n",
    "        return \"Error summarizing file\"\n",
    "\n",
    "def generate_summaries(file_path, model_name, tokenizer, embed_model, summary_folder, iterations=5, csv_path=None):\n",
    "    \"\"\"Generates summaries for a single file, saves each iteration and appends paths to CSV if not exist.\"\"\"\n",
    "    summaries = []\n",
    "    similarity_scores = []\n",
    "\n",
    "    with open(file_path, 'r', encoding='utf-8-sig') as f:\n",
    "        text = f.read()\n",
    "\n",
    "    # Chunk the text\n",
    "    chunks = chunk_text(text)\n",
    "\n",
    "    base_filename = os.path.basename(file_path).split('.txt')[0]\n",
    "\n",
    "    for chunk in chunks:\n",
    "        for i in range(1, iterations + 1):\n",
    "            summary = generate_summaries_for_chunk(chunk, model_name, tokenizer, embed_model, summary_folder)\n",
    "            summaries.append(summary)\n",
    "\n",
    "            # Compute similarity\n",
    "            similarity = compute_similarity(text, summary, tokenizer, embed_model)\n",
    "            similarity_scores.append(similarity)\n",
    "\n",
    "            summary_file_path = os.path.join(summary_folder, f\"{base_filename}-summary_{i}.txt\")\n",
    "            try:\n",
    "                with open(summary_file_path, 'w', encoding='utf-8') as f:\n",
    "                    f.write(summary)\n",
    "\n",
    "                # Save to CSV\n",
    "                if csv_path:\n",
    "                    save_to_csv(csv_path, summary_file_path, file_path)\n",
    "\n",
    "            except UnicodeEncodeError as e:\n",
    "                print(f\"Encoding error when writing summary {i} for file {file_path}: {e}\")\n",
    "\n",
    "    return summaries\n",
    "\n",
    "\n",
    "def process_files_for_model(model_name, file_paths, tokenizer, embed_model):\n",
    "    \"\"\"Processes all files for a given model and saves results to CSV.\"\"\"\n",
    "    # Create both the summaries folder and model folder with timestamp\n",
    "    summary_folder, model_folder = create_output_folder(model_name)\n",
    "\n",
    "    # Define the CSV path in the summaries folder (one level back)\n",
    "    csv_path = os.path.join(summary_folder, 'summaries_list.csv')\n",
    "\n",
    "    create_csv_file(csv_path)\n",
    "\n",
    "    pbar = tqdm(total=len(file_paths), desc=f\"Summarizing files for {model_name}\")\n",
    "\n",
    "    for file_path in file_paths:\n",
    "        file_path = file_path.replace('.mp3', '.txt').lstrip()\n",
    "\n",
    "        if os.path.exists(file_path):\n",
    "            start_time = time.time()\n",
    "            summaries = generate_summaries(file_path, model_name, tokenizer, embed_model, model_folder, csv_path=csv_path)\n",
    "\n",
    "            pbar.update(1)\n",
    "            pbar.set_postfix({\n",
    "                'file': os.path.basename(file_path),\n",
    "                'summaries_count': len(summaries),\n",
    "                'time': f\"{time.time() - start_time:.2f} seconds\"\n",
    "            })\n",
    "\n",
    "    pbar.close()\n",
    "\n"
   ]
  },
  {
   "cell_type": "code",
   "execution_count": 5,
   "id": "7e04ccb4-67d4-43d9-9d77-2e79d38b84f5",
   "metadata": {},
   "outputs": [
    {
     "name": "stderr",
     "output_type": "stream",
     "text": [
      "\n",
      "\n",
      "Summarizing files for mistral-small:   0%|                                                                                                                                                                | 0/97 [00:00<?, ?it/s]\u001b[A\u001b[A"
     ]
    },
    {
     "name": "stdout",
     "output_type": "stream",
     "text": [
      "Record already exists: voiceapp\\output\\summaries_folder\\mistral-small_20241213_125952\\CJG_01_2023_01_14-summary_1.txt -> C:/Users/G/Documents/GitHub/audycje.com.pl/content/audio\\CJG_01_2023_01_14.txt\n",
      "Record already exists: voiceapp\\output\\summaries_folder\\mistral-small_20241213_125952\\CJG_01_2023_01_14-summary_2.txt -> C:/Users/G/Documents/GitHub/audycje.com.pl/content/audio\\CJG_01_2023_01_14.txt\n",
      "Record already exists: voiceapp\\output\\summaries_folder\\mistral-small_20241213_125952\\CJG_01_2023_01_14-summary_3.txt -> C:/Users/G/Documents/GitHub/audycje.com.pl/content/audio\\CJG_01_2023_01_14.txt\n",
      "Record already exists: voiceapp\\output\\summaries_folder\\mistral-small_20241213_125952\\CJG_01_2023_01_14-summary_4.txt -> C:/Users/G/Documents/GitHub/audycje.com.pl/content/audio\\CJG_01_2023_01_14.txt\n",
      "Record already exists: voiceapp\\output\\summaries_folder\\mistral-small_20241213_125952\\CJG_01_2023_01_14-summary_5.txt -> C:/Users/G/Documents/GitHub/audycje.com.pl/content/audio\\CJG_01_2023_01_14.txt\n",
      "Record already exists: voiceapp\\output\\summaries_folder\\mistral-small_20241213_125952\\CJG_01_2023_01_14-summary_1.txt -> C:/Users/G/Documents/GitHub/audycje.com.pl/content/audio\\CJG_01_2023_01_14.txt\n",
      "Record already exists: voiceapp\\output\\summaries_folder\\mistral-small_20241213_125952\\CJG_01_2023_01_14-summary_2.txt -> C:/Users/G/Documents/GitHub/audycje.com.pl/content/audio\\CJG_01_2023_01_14.txt\n",
      "Record already exists: voiceapp\\output\\summaries_folder\\mistral-small_20241213_125952\\CJG_01_2023_01_14-summary_3.txt -> C:/Users/G/Documents/GitHub/audycje.com.pl/content/audio\\CJG_01_2023_01_14.txt\n",
      "Record already exists: voiceapp\\output\\summaries_folder\\mistral-small_20241213_125952\\CJG_01_2023_01_14-summary_4.txt -> C:/Users/G/Documents/GitHub/audycje.com.pl/content/audio\\CJG_01_2023_01_14.txt\n"
     ]
    },
    {
     "name": "stderr",
     "output_type": "stream",
     "text": [
      "\n",
      "\n",
      "Summarizing files for mistral-small:   1%|█▌                                                                                                                                                   | 1/97 [03:50<6:08:46, 230.48s/it]\u001b[A\u001b[A\n",
      "\n",
      "Summarizing files for mistral-small:   1%|▊                                                                               | 1/97 [03:50<6:08:46, 230.48s/it, file=CJG_01_2023_01_14.txt, summaries_count=15, time=230.48 seconds]\u001b[A\u001b[A"
     ]
    },
    {
     "name": "stdout",
     "output_type": "stream",
     "text": [
      "Record already exists: voiceapp\\output\\summaries_folder\\mistral-small_20241213_125952\\CJG_01_2023_01_14-summary_5.txt -> C:/Users/G/Documents/GitHub/audycje.com.pl/content/audio\\CJG_01_2023_01_14.txt\n",
      "Record already exists: voiceapp\\output\\summaries_folder\\mistral-small_20241213_125952\\CJG_02_2023_01_21-summary_1.txt -> C:/Users/G/Documents/GitHub/audycje.com.pl/content/audio\\CJG_02_2023_01_21.txt\n",
      "Record already exists: voiceapp\\output\\summaries_folder\\mistral-small_20241213_125952\\CJG_02_2023_01_21-summary_2.txt -> C:/Users/G/Documents/GitHub/audycje.com.pl/content/audio\\CJG_02_2023_01_21.txt\n",
      "Record already exists: voiceapp\\output\\summaries_folder\\mistral-small_20241213_125952\\CJG_02_2023_01_21-summary_3.txt -> C:/Users/G/Documents/GitHub/audycje.com.pl/content/audio\\CJG_02_2023_01_21.txt\n",
      "Record already exists: voiceapp\\output\\summaries_folder\\mistral-small_20241213_125952\\CJG_02_2023_01_21-summary_4.txt -> C:/Users/G/Documents/GitHub/audycje.com.pl/content/audio\\CJG_02_2023_01_21.txt\n"
     ]
    },
    {
     "name": "stderr",
     "output_type": "stream",
     "text": [
      "\n",
      "\n",
      "Summarizing files for mistral-small:   2%|█▋                                                                              | 2/97 [06:17<4:47:24, 181.52s/it, file=CJG_01_2023_01_14.txt, summaries_count=15, time=230.48 seconds]\u001b[A\u001b[A\n",
      "\n",
      "Summarizing files for mistral-small:   2%|█▋                                                                              | 2/97 [06:17<4:47:24, 181.52s/it, file=CJG_02_2023_01_21.txt, summaries_count=10, time=147.23 seconds]\u001b[A\u001b[A"
     ]
    },
    {
     "name": "stdout",
     "output_type": "stream",
     "text": [
      "Record already exists: voiceapp\\output\\summaries_folder\\mistral-small_20241213_125952\\CJG_02_2023_01_21-summary_5.txt -> C:/Users/G/Documents/GitHub/audycje.com.pl/content/audio\\CJG_02_2023_01_21.txt\n",
      "Record already exists: voiceapp\\output\\summaries_folder\\mistral-small_20241213_125952\\CJG_03_2023_01_28-summary_1.txt -> C:/Users/G/Documents/GitHub/audycje.com.pl/content/audio\\CJG_03_2023_01_28.txt\n",
      "Record already exists: voiceapp\\output\\summaries_folder\\mistral-small_20241213_125952\\CJG_03_2023_01_28-summary_2.txt -> C:/Users/G/Documents/GitHub/audycje.com.pl/content/audio\\CJG_03_2023_01_28.txt\n",
      "Record already exists: voiceapp\\output\\summaries_folder\\mistral-small_20241213_125952\\CJG_03_2023_01_28-summary_3.txt -> C:/Users/G/Documents/GitHub/audycje.com.pl/content/audio\\CJG_03_2023_01_28.txt\n",
      "Record already exists: voiceapp\\output\\summaries_folder\\mistral-small_20241213_125952\\CJG_03_2023_01_28-summary_4.txt -> C:/Users/G/Documents/GitHub/audycje.com.pl/content/audio\\CJG_03_2023_01_28.txt\n",
      "Record already exists: voiceapp\\output\\summaries_folder\\mistral-small_20241213_125952\\CJG_03_2023_01_28-summary_5.txt -> C:/Users/G/Documents/GitHub/audycje.com.pl/content/audio\\CJG_03_2023_01_28.txt\n",
      "Record already exists: voiceapp\\output\\summaries_folder\\mistral-small_20241213_125952\\CJG_03_2023_01_28-summary_1.txt -> C:/Users/G/Documents/GitHub/audycje.com.pl/content/audio\\CJG_03_2023_01_28.txt\n",
      "Record already exists: voiceapp\\output\\summaries_folder\\mistral-small_20241213_125952\\CJG_03_2023_01_28-summary_2.txt -> C:/Users/G/Documents/GitHub/audycje.com.pl/content/audio\\CJG_03_2023_01_28.txt\n",
      "Record already exists: voiceapp\\output\\summaries_folder\\mistral-small_20241213_125952\\CJG_03_2023_01_28-summary_3.txt -> C:/Users/G/Documents/GitHub/audycje.com.pl/content/audio\\CJG_03_2023_01_28.txt\n",
      "Record already exists: voiceapp\\output\\summaries_folder\\mistral-small_20241213_125952\\CJG_03_2023_01_28-summary_4.txt -> C:/Users/G/Documents/GitHub/audycje.com.pl/content/audio\\CJG_03_2023_01_28.txt\n"
     ]
    },
    {
     "name": "stderr",
     "output_type": "stream",
     "text": [
      "\n",
      "\n",
      "Summarizing files for mistral-small:   3%|██▍                                                                             | 3/97 [09:56<5:11:10, 198.62s/it, file=CJG_02_2023_01_21.txt, summaries_count=10, time=147.23 seconds]\u001b[A\u001b[A\n",
      "\n",
      "Summarizing files for mistral-small:   3%|██▍                                                                             | 3/97 [09:56<5:11:10, 198.62s/it, file=CJG_03_2023_01_28.txt, summaries_count=15, time=218.97 seconds]\u001b[A\u001b[A"
     ]
    },
    {
     "name": "stdout",
     "output_type": "stream",
     "text": [
      "Record already exists: voiceapp\\output\\summaries_folder\\mistral-small_20241213_125952\\CJG_03_2023_01_28-summary_5.txt -> C:/Users/G/Documents/GitHub/audycje.com.pl/content/audio\\CJG_03_2023_01_28.txt\n",
      "Record already exists: voiceapp\\output\\summaries_folder\\mistral-small_20241213_125952\\CJG_04_2023_02_04-summary_1.txt -> C:/Users/G/Documents/GitHub/audycje.com.pl/content/audio\\CJG_04_2023_02_04.txt\n",
      "Record already exists: voiceapp\\output\\summaries_folder\\mistral-small_20241213_125952\\CJG_04_2023_02_04-summary_2.txt -> C:/Users/G/Documents/GitHub/audycje.com.pl/content/audio\\CJG_04_2023_02_04.txt\n",
      "Record already exists: voiceapp\\output\\summaries_folder\\mistral-small_20241213_125952\\CJG_04_2023_02_04-summary_3.txt -> C:/Users/G/Documents/GitHub/audycje.com.pl/content/audio\\CJG_04_2023_02_04.txt\n",
      "Record already exists: voiceapp\\output\\summaries_folder\\mistral-small_20241213_125952\\CJG_04_2023_02_04-summary_4.txt -> C:/Users/G/Documents/GitHub/audycje.com.pl/content/audio\\CJG_04_2023_02_04.txt\n",
      "Record already exists: voiceapp\\output\\summaries_folder\\mistral-small_20241213_125952\\CJG_04_2023_02_04-summary_5.txt -> C:/Users/G/Documents/GitHub/audycje.com.pl/content/audio\\CJG_04_2023_02_04.txt\n",
      "Record already exists: voiceapp\\output\\summaries_folder\\mistral-small_20241213_125952\\CJG_04_2023_02_04-summary_1.txt -> C:/Users/G/Documents/GitHub/audycje.com.pl/content/audio\\CJG_04_2023_02_04.txt\n",
      "Record already exists: voiceapp\\output\\summaries_folder\\mistral-small_20241213_125952\\CJG_04_2023_02_04-summary_2.txt -> C:/Users/G/Documents/GitHub/audycje.com.pl/content/audio\\CJG_04_2023_02_04.txt\n",
      "Record already exists: voiceapp\\output\\summaries_folder\\mistral-small_20241213_125952\\CJG_04_2023_02_04-summary_3.txt -> C:/Users/G/Documents/GitHub/audycje.com.pl/content/audio\\CJG_04_2023_02_04.txt\n",
      "Record already exists: voiceapp\\output\\summaries_folder\\mistral-small_20241213_125952\\CJG_04_2023_02_04-summary_4.txt -> C:/Users/G/Documents/GitHub/audycje.com.pl/content/audio\\CJG_04_2023_02_04.txt\n"
     ]
    },
    {
     "name": "stderr",
     "output_type": "stream",
     "text": [
      "\n",
      "\n",
      "Summarizing files for mistral-small:   4%|███▎                                                                            | 4/97 [13:37<5:21:32, 207.44s/it, file=CJG_03_2023_01_28.txt, summaries_count=15, time=218.97 seconds]\u001b[A\u001b[A\n",
      "\n",
      "Summarizing files for mistral-small:   4%|███▎                                                                            | 4/97 [13:37<5:21:32, 207.44s/it, file=CJG_04_2023_02_04.txt, summaries_count=15, time=220.96 seconds]\u001b[A\u001b[A"
     ]
    },
    {
     "name": "stdout",
     "output_type": "stream",
     "text": [
      "Record already exists: voiceapp\\output\\summaries_folder\\mistral-small_20241213_125952\\CJG_04_2023_02_04-summary_5.txt -> C:/Users/G/Documents/GitHub/audycje.com.pl/content/audio\\CJG_04_2023_02_04.txt\n",
      "Record already exists: voiceapp\\output\\summaries_folder\\mistral-small_20241213_125952\\CJG_05_2023_02_11-summary_1.txt -> C:/Users/G/Documents/GitHub/audycje.com.pl/content/audio\\CJG_05_2023_02_11.txt\n",
      "Record already exists: voiceapp\\output\\summaries_folder\\mistral-small_20241213_125952\\CJG_05_2023_02_11-summary_2.txt -> C:/Users/G/Documents/GitHub/audycje.com.pl/content/audio\\CJG_05_2023_02_11.txt\n",
      "Record already exists: voiceapp\\output\\summaries_folder\\mistral-small_20241213_125952\\CJG_05_2023_02_11-summary_3.txt -> C:/Users/G/Documents/GitHub/audycje.com.pl/content/audio\\CJG_05_2023_02_11.txt\n",
      "Record already exists: voiceapp\\output\\summaries_folder\\mistral-small_20241213_125952\\CJG_05_2023_02_11-summary_4.txt -> C:/Users/G/Documents/GitHub/audycje.com.pl/content/audio\\CJG_05_2023_02_11.txt\n",
      "Record already exists: voiceapp\\output\\summaries_folder\\mistral-small_20241213_125952\\CJG_05_2023_02_11-summary_5.txt -> C:/Users/G/Documents/GitHub/audycje.com.pl/content/audio\\CJG_05_2023_02_11.txt\n",
      "Record already exists: voiceapp\\output\\summaries_folder\\mistral-small_20241213_125952\\CJG_05_2023_02_11-summary_1.txt -> C:/Users/G/Documents/GitHub/audycje.com.pl/content/audio\\CJG_05_2023_02_11.txt\n",
      "Record already exists: voiceapp\\output\\summaries_folder\\mistral-small_20241213_125952\\CJG_05_2023_02_11-summary_2.txt -> C:/Users/G/Documents/GitHub/audycje.com.pl/content/audio\\CJG_05_2023_02_11.txt\n",
      "Record already exists: voiceapp\\output\\summaries_folder\\mistral-small_20241213_125952\\CJG_05_2023_02_11-summary_3.txt -> C:/Users/G/Documents/GitHub/audycje.com.pl/content/audio\\CJG_05_2023_02_11.txt\n",
      "Record already exists: voiceapp\\output\\summaries_folder\\mistral-small_20241213_125952\\CJG_05_2023_02_11-summary_4.txt -> C:/Users/G/Documents/GitHub/audycje.com.pl/content/audio\\CJG_05_2023_02_11.txt\n"
     ]
    },
    {
     "name": "stderr",
     "output_type": "stream",
     "text": [
      "\n",
      "\n",
      "Summarizing files for mistral-small:   5%|████                                                                            | 5/97 [17:21<5:27:21, 213.49s/it, file=CJG_04_2023_02_04.txt, summaries_count=15, time=220.96 seconds]\u001b[A\u001b[A\n",
      "\n",
      "Summarizing files for mistral-small:   5%|████                                                                            | 5/97 [17:21<5:27:21, 213.49s/it, file=CJG_05_2023_02_11.txt, summaries_count=15, time=224.21 seconds]\u001b[A\u001b[A"
     ]
    },
    {
     "name": "stdout",
     "output_type": "stream",
     "text": [
      "Record already exists: voiceapp\\output\\summaries_folder\\mistral-small_20241213_125952\\CJG_05_2023_02_11-summary_5.txt -> C:/Users/G/Documents/GitHub/audycje.com.pl/content/audio\\CJG_05_2023_02_11.txt\n",
      "Record already exists: voiceapp\\output\\summaries_folder\\mistral-small_20241213_125952\\CJG_06_2023_02_18-summary_1.txt -> C:/Users/G/Documents/GitHub/audycje.com.pl/content/audio\\CJG_06_2023_02_18.txt\n",
      "Record already exists: voiceapp\\output\\summaries_folder\\mistral-small_20241213_125952\\CJG_06_2023_02_18-summary_2.txt -> C:/Users/G/Documents/GitHub/audycje.com.pl/content/audio\\CJG_06_2023_02_18.txt\n",
      "Record already exists: voiceapp\\output\\summaries_folder\\mistral-small_20241213_125952\\CJG_06_2023_02_18-summary_3.txt -> C:/Users/G/Documents/GitHub/audycje.com.pl/content/audio\\CJG_06_2023_02_18.txt\n",
      "Record already exists: voiceapp\\output\\summaries_folder\\mistral-small_20241213_125952\\CJG_06_2023_02_18-summary_4.txt -> C:/Users/G/Documents/GitHub/audycje.com.pl/content/audio\\CJG_06_2023_02_18.txt\n",
      "Record already exists: voiceapp\\output\\summaries_folder\\mistral-small_20241213_125952\\CJG_06_2023_02_18-summary_5.txt -> C:/Users/G/Documents/GitHub/audycje.com.pl/content/audio\\CJG_06_2023_02_18.txt\n",
      "Record already exists: voiceapp\\output\\summaries_folder\\mistral-small_20241213_125952\\CJG_06_2023_02_18-summary_1.txt -> C:/Users/G/Documents/GitHub/audycje.com.pl/content/audio\\CJG_06_2023_02_18.txt\n",
      "Record already exists: voiceapp\\output\\summaries_folder\\mistral-small_20241213_125952\\CJG_06_2023_02_18-summary_2.txt -> C:/Users/G/Documents/GitHub/audycje.com.pl/content/audio\\CJG_06_2023_02_18.txt\n",
      "Record already exists: voiceapp\\output\\summaries_folder\\mistral-small_20241213_125952\\CJG_06_2023_02_18-summary_3.txt -> C:/Users/G/Documents/GitHub/audycje.com.pl/content/audio\\CJG_06_2023_02_18.txt\n",
      "Record already exists: voiceapp\\output\\summaries_folder\\mistral-small_20241213_125952\\CJG_06_2023_02_18-summary_4.txt -> C:/Users/G/Documents/GitHub/audycje.com.pl/content/audio\\CJG_06_2023_02_18.txt\n"
     ]
    },
    {
     "name": "stderr",
     "output_type": "stream",
     "text": [
      "\n",
      "\n",
      "Summarizing files for mistral-small:   6%|████▉                                                                           | 6/97 [21:18<5:35:29, 221.20s/it, file=CJG_05_2023_02_11.txt, summaries_count=15, time=224.21 seconds]\u001b[A\u001b[A\n",
      "\n",
      "Summarizing files for mistral-small:   6%|████▉                                                                           | 6/97 [21:18<5:35:29, 221.20s/it, file=CJG_06_2023_02_18.txt, summaries_count=15, time=236.16 seconds]\u001b[A\u001b[A"
     ]
    },
    {
     "name": "stdout",
     "output_type": "stream",
     "text": [
      "Record already exists: voiceapp\\output\\summaries_folder\\mistral-small_20241213_125952\\CJG_06_2023_02_18-summary_5.txt -> C:/Users/G/Documents/GitHub/audycje.com.pl/content/audio\\CJG_06_2023_02_18.txt\n",
      "Record already exists: voiceapp\\output\\summaries_folder\\mistral-small_20241213_125952\\CJG_07_2023_02_25-summary_1.txt -> C:/Users/G/Documents/GitHub/audycje.com.pl/content/audio\\CJG_07_2023_02_25.txt\n",
      "Record already exists: voiceapp\\output\\summaries_folder\\mistral-small_20241213_125952\\CJG_07_2023_02_25-summary_2.txt -> C:/Users/G/Documents/GitHub/audycje.com.pl/content/audio\\CJG_07_2023_02_25.txt\n",
      "Record already exists: voiceapp\\output\\summaries_folder\\mistral-small_20241213_125952\\CJG_07_2023_02_25-summary_3.txt -> C:/Users/G/Documents/GitHub/audycje.com.pl/content/audio\\CJG_07_2023_02_25.txt\n",
      "Record already exists: voiceapp\\output\\summaries_folder\\mistral-small_20241213_125952\\CJG_07_2023_02_25-summary_4.txt -> C:/Users/G/Documents/GitHub/audycje.com.pl/content/audio\\CJG_07_2023_02_25.txt\n",
      "Record already exists: voiceapp\\output\\summaries_folder\\mistral-small_20241213_125952\\CJG_07_2023_02_25-summary_5.txt -> C:/Users/G/Documents/GitHub/audycje.com.pl/content/audio\\CJG_07_2023_02_25.txt\n",
      "Record already exists: voiceapp\\output\\summaries_folder\\mistral-small_20241213_125952\\CJG_07_2023_02_25-summary_1.txt -> C:/Users/G/Documents/GitHub/audycje.com.pl/content/audio\\CJG_07_2023_02_25.txt\n",
      "Record already exists: voiceapp\\output\\summaries_folder\\mistral-small_20241213_125952\\CJG_07_2023_02_25-summary_2.txt -> C:/Users/G/Documents/GitHub/audycje.com.pl/content/audio\\CJG_07_2023_02_25.txt\n",
      "Record already exists: voiceapp\\output\\summaries_folder\\mistral-small_20241213_125952\\CJG_07_2023_02_25-summary_3.txt -> C:/Users/G/Documents/GitHub/audycje.com.pl/content/audio\\CJG_07_2023_02_25.txt\n",
      "Record already exists: voiceapp\\output\\summaries_folder\\mistral-small_20241213_125952\\CJG_07_2023_02_25-summary_4.txt -> C:/Users/G/Documents/GitHub/audycje.com.pl/content/audio\\CJG_07_2023_02_25.txt\n",
      "Record already exists: voiceapp\\output\\summaries_folder\\mistral-small_20241213_125952\\CJG_07_2023_02_25-summary_5.txt -> C:/Users/G/Documents/GitHub/audycje.com.pl/content/audio\\CJG_07_2023_02_25.txt\n",
      "Record already exists: voiceapp\\output\\summaries_folder\\mistral-small_20241213_125952\\CJG_07_2023_02_25-summary_1.txt -> C:/Users/G/Documents/GitHub/audycje.com.pl/content/audio\\CJG_07_2023_02_25.txt\n",
      "Record already exists: voiceapp\\output\\summaries_folder\\mistral-small_20241213_125952\\CJG_07_2023_02_25-summary_2.txt -> C:/Users/G/Documents/GitHub/audycje.com.pl/content/audio\\CJG_07_2023_02_25.txt\n",
      "Record already exists: voiceapp\\output\\summaries_folder\\mistral-small_20241213_125952\\CJG_07_2023_02_25-summary_3.txt -> C:/Users/G/Documents/GitHub/audycje.com.pl/content/audio\\CJG_07_2023_02_25.txt\n",
      "Record already exists: voiceapp\\output\\summaries_folder\\mistral-small_20241213_125952\\CJG_07_2023_02_25-summary_4.txt -> C:/Users/G/Documents/GitHub/audycje.com.pl/content/audio\\CJG_07_2023_02_25.txt\n"
     ]
    },
    {
     "name": "stderr",
     "output_type": "stream",
     "text": [
      "\n",
      "\n",
      "Summarizing files for mistral-small:   7%|█████▊                                                                          | 7/97 [26:11<6:07:25, 244.95s/it, file=CJG_06_2023_02_18.txt, summaries_count=15, time=236.16 seconds]\u001b[A\u001b[A\n",
      "\n",
      "Summarizing files for mistral-small:   7%|█████▊                                                                          | 7/97 [26:11<6:07:25, 244.95s/it, file=CJG_07_2023_02_25.txt, summaries_count=20, time=293.85 seconds]\u001b[A\u001b[A"
     ]
    },
    {
     "name": "stdout",
     "output_type": "stream",
     "text": [
      "Record already exists: voiceapp\\output\\summaries_folder\\mistral-small_20241213_125952\\CJG_07_2023_02_25-summary_5.txt -> C:/Users/G/Documents/GitHub/audycje.com.pl/content/audio\\CJG_07_2023_02_25.txt\n",
      "Record already exists: voiceapp\\output\\summaries_folder\\mistral-small_20241213_125952\\CJG_08_2023_03_04-summary_1.txt -> C:/Users/G/Documents/GitHub/audycje.com.pl/content/audio\\CJG_08_2023_03_04.txt\n",
      "Record already exists: voiceapp\\output\\summaries_folder\\mistral-small_20241213_125952\\CJG_08_2023_03_04-summary_2.txt -> C:/Users/G/Documents/GitHub/audycje.com.pl/content/audio\\CJG_08_2023_03_04.txt\n",
      "Record already exists: voiceapp\\output\\summaries_folder\\mistral-small_20241213_125952\\CJG_08_2023_03_04-summary_3.txt -> C:/Users/G/Documents/GitHub/audycje.com.pl/content/audio\\CJG_08_2023_03_04.txt\n",
      "Record already exists: voiceapp\\output\\summaries_folder\\mistral-small_20241213_125952\\CJG_08_2023_03_04-summary_4.txt -> C:/Users/G/Documents/GitHub/audycje.com.pl/content/audio\\CJG_08_2023_03_04.txt\n",
      "Record already exists: voiceapp\\output\\summaries_folder\\mistral-small_20241213_125952\\CJG_08_2023_03_04-summary_5.txt -> C:/Users/G/Documents/GitHub/audycje.com.pl/content/audio\\CJG_08_2023_03_04.txt\n",
      "Record already exists: voiceapp\\output\\summaries_folder\\mistral-small_20241213_125952\\CJG_08_2023_03_04-summary_1.txt -> C:/Users/G/Documents/GitHub/audycje.com.pl/content/audio\\CJG_08_2023_03_04.txt\n",
      "Record already exists: voiceapp\\output\\summaries_folder\\mistral-small_20241213_125952\\CJG_08_2023_03_04-summary_2.txt -> C:/Users/G/Documents/GitHub/audycje.com.pl/content/audio\\CJG_08_2023_03_04.txt\n",
      "Record already exists: voiceapp\\output\\summaries_folder\\mistral-small_20241213_125952\\CJG_08_2023_03_04-summary_3.txt -> C:/Users/G/Documents/GitHub/audycje.com.pl/content/audio\\CJG_08_2023_03_04.txt\n",
      "Record already exists: voiceapp\\output\\summaries_folder\\mistral-small_20241213_125952\\CJG_08_2023_03_04-summary_4.txt -> C:/Users/G/Documents/GitHub/audycje.com.pl/content/audio\\CJG_08_2023_03_04.txt\n"
     ]
    },
    {
     "name": "stderr",
     "output_type": "stream",
     "text": [
      "\n",
      "\n",
      "Summarizing files for mistral-small:   8%|██████▌                                                                         | 8/97 [30:02<5:56:35, 240.40s/it, file=CJG_07_2023_02_25.txt, summaries_count=20, time=293.85 seconds]\u001b[A\u001b[A\n",
      "\n",
      "Summarizing files for mistral-small:   8%|██████▌                                                                         | 8/97 [30:02<5:56:35, 240.40s/it, file=CJG_08_2023_03_04.txt, summaries_count=15, time=230.65 seconds]\u001b[A\u001b[A"
     ]
    },
    {
     "name": "stdout",
     "output_type": "stream",
     "text": [
      "Record already exists: voiceapp\\output\\summaries_folder\\mistral-small_20241213_125952\\CJG_08_2023_03_04-summary_5.txt -> C:/Users/G/Documents/GitHub/audycje.com.pl/content/audio\\CJG_08_2023_03_04.txt\n",
      "Record already exists: voiceapp\\output\\summaries_folder\\mistral-small_20241213_125952\\CJG_09_2023_03_11-summary_1.txt -> C:/Users/G/Documents/GitHub/audycje.com.pl/content/audio\\CJG_09_2023_03_11.txt\n",
      "Record already exists: voiceapp\\output\\summaries_folder\\mistral-small_20241213_125952\\CJG_09_2023_03_11-summary_2.txt -> C:/Users/G/Documents/GitHub/audycje.com.pl/content/audio\\CJG_09_2023_03_11.txt\n",
      "Record already exists: voiceapp\\output\\summaries_folder\\mistral-small_20241213_125952\\CJG_09_2023_03_11-summary_3.txt -> C:/Users/G/Documents/GitHub/audycje.com.pl/content/audio\\CJG_09_2023_03_11.txt\n",
      "Record already exists: voiceapp\\output\\summaries_folder\\mistral-small_20241213_125952\\CJG_09_2023_03_11-summary_4.txt -> C:/Users/G/Documents/GitHub/audycje.com.pl/content/audio\\CJG_09_2023_03_11.txt\n",
      "Record already exists: voiceapp\\output\\summaries_folder\\mistral-small_20241213_125952\\CJG_09_2023_03_11-summary_5.txt -> C:/Users/G/Documents/GitHub/audycje.com.pl/content/audio\\CJG_09_2023_03_11.txt\n",
      "Record already exists: voiceapp\\output\\summaries_folder\\mistral-small_20241213_125952\\CJG_09_2023_03_11-summary_1.txt -> C:/Users/G/Documents/GitHub/audycje.com.pl/content/audio\\CJG_09_2023_03_11.txt\n",
      "Record already exists: voiceapp\\output\\summaries_folder\\mistral-small_20241213_125952\\CJG_09_2023_03_11-summary_2.txt -> C:/Users/G/Documents/GitHub/audycje.com.pl/content/audio\\CJG_09_2023_03_11.txt\n",
      "Record already exists: voiceapp\\output\\summaries_folder\\mistral-small_20241213_125952\\CJG_09_2023_03_11-summary_3.txt -> C:/Users/G/Documents/GitHub/audycje.com.pl/content/audio\\CJG_09_2023_03_11.txt\n",
      "Record already exists: voiceapp\\output\\summaries_folder\\mistral-small_20241213_125952\\CJG_09_2023_03_11-summary_4.txt -> C:/Users/G/Documents/GitHub/audycje.com.pl/content/audio\\CJG_09_2023_03_11.txt\n"
     ]
    },
    {
     "name": "stderr",
     "output_type": "stream",
     "text": [
      "\n",
      "\n",
      "Summarizing files for mistral-small:   9%|███████▍                                                                        | 9/97 [33:52<5:47:55, 237.22s/it, file=CJG_08_2023_03_04.txt, summaries_count=15, time=230.65 seconds]\u001b[A\u001b[A\n",
      "\n",
      "Summarizing files for mistral-small:   9%|███████▍                                                                        | 9/97 [33:52<5:47:55, 237.22s/it, file=CJG_09_2023_03_11.txt, summaries_count=15, time=230.23 seconds]\u001b[A\u001b[A"
     ]
    },
    {
     "name": "stdout",
     "output_type": "stream",
     "text": [
      "Record already exists: voiceapp\\output\\summaries_folder\\mistral-small_20241213_125952\\CJG_09_2023_03_11-summary_5.txt -> C:/Users/G/Documents/GitHub/audycje.com.pl/content/audio\\CJG_09_2023_03_11.txt\n",
      "Record already exists: voiceapp\\output\\summaries_folder\\mistral-small_20241213_125952\\CJG_10_2023_03_18-summary_1.txt -> C:/Users/G/Documents/GitHub/audycje.com.pl/content/audio\\CJG_10_2023_03_18.txt\n",
      "Record already exists: voiceapp\\output\\summaries_folder\\mistral-small_20241213_125952\\CJG_10_2023_03_18-summary_2.txt -> C:/Users/G/Documents/GitHub/audycje.com.pl/content/audio\\CJG_10_2023_03_18.txt\n",
      "Record already exists: voiceapp\\output\\summaries_folder\\mistral-small_20241213_125952\\CJG_10_2023_03_18-summary_3.txt -> C:/Users/G/Documents/GitHub/audycje.com.pl/content/audio\\CJG_10_2023_03_18.txt\n",
      "Record already exists: voiceapp\\output\\summaries_folder\\mistral-small_20241213_125952\\CJG_10_2023_03_18-summary_4.txt -> C:/Users/G/Documents/GitHub/audycje.com.pl/content/audio\\CJG_10_2023_03_18.txt\n",
      "Record already exists: voiceapp\\output\\summaries_folder\\mistral-small_20241213_125952\\CJG_10_2023_03_18-summary_5.txt -> C:/Users/G/Documents/GitHub/audycje.com.pl/content/audio\\CJG_10_2023_03_18.txt\n",
      "Record already exists: voiceapp\\output\\summaries_folder\\mistral-small_20241213_125952\\CJG_10_2023_03_18-summary_1.txt -> C:/Users/G/Documents/GitHub/audycje.com.pl/content/audio\\CJG_10_2023_03_18.txt\n",
      "Record already exists: voiceapp\\output\\summaries_folder\\mistral-small_20241213_125952\\CJG_10_2023_03_18-summary_2.txt -> C:/Users/G/Documents/GitHub/audycje.com.pl/content/audio\\CJG_10_2023_03_18.txt\n",
      "Record already exists: voiceapp\\output\\summaries_folder\\mistral-small_20241213_125952\\CJG_10_2023_03_18-summary_3.txt -> C:/Users/G/Documents/GitHub/audycje.com.pl/content/audio\\CJG_10_2023_03_18.txt\n",
      "Record already exists: voiceapp\\output\\summaries_folder\\mistral-small_20241213_125952\\CJG_10_2023_03_18-summary_4.txt -> C:/Users/G/Documents/GitHub/audycje.com.pl/content/audio\\CJG_10_2023_03_18.txt\n",
      "Record already exists: voiceapp\\output\\summaries_folder\\mistral-small_20241213_125952\\CJG_10_2023_03_18-summary_5.txt -> C:/Users/G/Documents/GitHub/audycje.com.pl/content/audio\\CJG_10_2023_03_18.txt\n",
      "Record already exists: voiceapp\\output\\summaries_folder\\mistral-small_20241213_125952\\CJG_10_2023_03_18-summary_1.txt -> C:/Users/G/Documents/GitHub/audycje.com.pl/content/audio\\CJG_10_2023_03_18.txt\n",
      "Record already exists: voiceapp\\output\\summaries_folder\\mistral-small_20241213_125952\\CJG_10_2023_03_18-summary_2.txt -> C:/Users/G/Documents/GitHub/audycje.com.pl/content/audio\\CJG_10_2023_03_18.txt\n",
      "Record already exists: voiceapp\\output\\summaries_folder\\mistral-small_20241213_125952\\CJG_10_2023_03_18-summary_3.txt -> C:/Users/G/Documents/GitHub/audycje.com.pl/content/audio\\CJG_10_2023_03_18.txt\n",
      "Record already exists: voiceapp\\output\\summaries_folder\\mistral-small_20241213_125952\\CJG_10_2023_03_18-summary_4.txt -> C:/Users/G/Documents/GitHub/audycje.com.pl/content/audio\\CJG_10_2023_03_18.txt\n"
     ]
    },
    {
     "name": "stderr",
     "output_type": "stream",
     "text": [
      "\n",
      "\n",
      "Summarizing files for mistral-small:  10%|████████▏                                                                      | 10/97 [38:30<6:01:56, 249.61s/it, file=CJG_09_2023_03_11.txt, summaries_count=15, time=230.23 seconds]\u001b[A\u001b[A\n",
      "\n",
      "Summarizing files for mistral-small:  10%|████████▏                                                                      | 10/97 [38:30<6:01:56, 249.61s/it, file=CJG_10_2023_03_18.txt, summaries_count=20, time=277.35 seconds]\u001b[A\u001b[A"
     ]
    },
    {
     "name": "stdout",
     "output_type": "stream",
     "text": [
      "Record already exists: voiceapp\\output\\summaries_folder\\mistral-small_20241213_125952\\CJG_10_2023_03_18-summary_5.txt -> C:/Users/G/Documents/GitHub/audycje.com.pl/content/audio\\CJG_10_2023_03_18.txt\n",
      "Record already exists: voiceapp\\output\\summaries_folder\\mistral-small_20241213_125952\\CJG_11_2023_03_25-summary_1.txt -> C:/Users/G/Documents/GitHub/audycje.com.pl/content/audio\\CJG_11_2023_03_25.txt\n",
      "Record already exists: voiceapp\\output\\summaries_folder\\mistral-small_20241213_125952\\CJG_11_2023_03_25-summary_2.txt -> C:/Users/G/Documents/GitHub/audycje.com.pl/content/audio\\CJG_11_2023_03_25.txt\n",
      "Record already exists: voiceapp\\output\\summaries_folder\\mistral-small_20241213_125952\\CJG_11_2023_03_25-summary_3.txt -> C:/Users/G/Documents/GitHub/audycje.com.pl/content/audio\\CJG_11_2023_03_25.txt\n",
      "Record already exists: voiceapp\\output\\summaries_folder\\mistral-small_20241213_125952\\CJG_11_2023_03_25-summary_4.txt -> C:/Users/G/Documents/GitHub/audycje.com.pl/content/audio\\CJG_11_2023_03_25.txt\n",
      "Record already exists: voiceapp\\output\\summaries_folder\\mistral-small_20241213_125952\\CJG_11_2023_03_25-summary_5.txt -> C:/Users/G/Documents/GitHub/audycje.com.pl/content/audio\\CJG_11_2023_03_25.txt\n",
      "Record already exists: voiceapp\\output\\summaries_folder\\mistral-small_20241213_125952\\CJG_11_2023_03_25-summary_1.txt -> C:/Users/G/Documents/GitHub/audycje.com.pl/content/audio\\CJG_11_2023_03_25.txt\n",
      "Record already exists: voiceapp\\output\\summaries_folder\\mistral-small_20241213_125952\\CJG_11_2023_03_25-summary_2.txt -> C:/Users/G/Documents/GitHub/audycje.com.pl/content/audio\\CJG_11_2023_03_25.txt\n",
      "Record already exists: voiceapp\\output\\summaries_folder\\mistral-small_20241213_125952\\CJG_11_2023_03_25-summary_3.txt -> C:/Users/G/Documents/GitHub/audycje.com.pl/content/audio\\CJG_11_2023_03_25.txt\n",
      "Record already exists: voiceapp\\output\\summaries_folder\\mistral-small_20241213_125952\\CJG_11_2023_03_25-summary_4.txt -> C:/Users/G/Documents/GitHub/audycje.com.pl/content/audio\\CJG_11_2023_03_25.txt\n",
      "Record already exists: voiceapp\\output\\summaries_folder\\mistral-small_20241213_125952\\CJG_11_2023_03_25-summary_5.txt -> C:/Users/G/Documents/GitHub/audycje.com.pl/content/audio\\CJG_11_2023_03_25.txt\n",
      "Record already exists: voiceapp\\output\\summaries_folder\\mistral-small_20241213_125952\\CJG_11_2023_03_25-summary_1.txt -> C:/Users/G/Documents/GitHub/audycje.com.pl/content/audio\\CJG_11_2023_03_25.txt\n",
      "Record already exists: voiceapp\\output\\summaries_folder\\mistral-small_20241213_125952\\CJG_11_2023_03_25-summary_2.txt -> C:/Users/G/Documents/GitHub/audycje.com.pl/content/audio\\CJG_11_2023_03_25.txt\n",
      "Record already exists: voiceapp\\output\\summaries_folder\\mistral-small_20241213_125952\\CJG_11_2023_03_25-summary_3.txt -> C:/Users/G/Documents/GitHub/audycje.com.pl/content/audio\\CJG_11_2023_03_25.txt\n",
      "Record already exists: voiceapp\\output\\summaries_folder\\mistral-small_20241213_125952\\CJG_11_2023_03_25-summary_4.txt -> C:/Users/G/Documents/GitHub/audycje.com.pl/content/audio\\CJG_11_2023_03_25.txt\n"
     ]
    },
    {
     "name": "stderr",
     "output_type": "stream",
     "text": [
      "\n",
      "\n",
      "Summarizing files for mistral-small:  11%|████████▉                                                                      | 11/97 [43:20<6:15:33, 262.02s/it, file=CJG_10_2023_03_18.txt, summaries_count=20, time=277.35 seconds]\u001b[A\u001b[A\n",
      "\n",
      "Summarizing files for mistral-small:  11%|████████▉                                                                      | 11/97 [43:20<6:15:33, 262.02s/it, file=CJG_11_2023_03_25.txt, summaries_count=20, time=290.15 seconds]\u001b[A\u001b[A"
     ]
    },
    {
     "name": "stdout",
     "output_type": "stream",
     "text": [
      "Record already exists: voiceapp\\output\\summaries_folder\\mistral-small_20241213_125952\\CJG_11_2023_03_25-summary_5.txt -> C:/Users/G/Documents/GitHub/audycje.com.pl/content/audio\\CJG_11_2023_03_25.txt\n",
      "Record already exists: voiceapp\\output\\summaries_folder\\mistral-small_20241213_125952\\CJG_12_2023_04_01-summary_1.txt -> C:/Users/G/Documents/GitHub/audycje.com.pl/content/audio\\CJG_12_2023_04_01.txt\n",
      "Record already exists: voiceapp\\output\\summaries_folder\\mistral-small_20241213_125952\\CJG_12_2023_04_01-summary_2.txt -> C:/Users/G/Documents/GitHub/audycje.com.pl/content/audio\\CJG_12_2023_04_01.txt\n",
      "Record already exists: voiceapp\\output\\summaries_folder\\mistral-small_20241213_125952\\CJG_12_2023_04_01-summary_3.txt -> C:/Users/G/Documents/GitHub/audycje.com.pl/content/audio\\CJG_12_2023_04_01.txt\n",
      "Record already exists: voiceapp\\output\\summaries_folder\\mistral-small_20241213_125952\\CJG_12_2023_04_01-summary_4.txt -> C:/Users/G/Documents/GitHub/audycje.com.pl/content/audio\\CJG_12_2023_04_01.txt\n",
      "Record already exists: voiceapp\\output\\summaries_folder\\mistral-small_20241213_125952\\CJG_12_2023_04_01-summary_5.txt -> C:/Users/G/Documents/GitHub/audycje.com.pl/content/audio\\CJG_12_2023_04_01.txt\n",
      "Record already exists: voiceapp\\output\\summaries_folder\\mistral-small_20241213_125952\\CJG_12_2023_04_01-summary_1.txt -> C:/Users/G/Documents/GitHub/audycje.com.pl/content/audio\\CJG_12_2023_04_01.txt\n",
      "Record already exists: voiceapp\\output\\summaries_folder\\mistral-small_20241213_125952\\CJG_12_2023_04_01-summary_2.txt -> C:/Users/G/Documents/GitHub/audycje.com.pl/content/audio\\CJG_12_2023_04_01.txt\n",
      "Record already exists: voiceapp\\output\\summaries_folder\\mistral-small_20241213_125952\\CJG_12_2023_04_01-summary_3.txt -> C:/Users/G/Documents/GitHub/audycje.com.pl/content/audio\\CJG_12_2023_04_01.txt\n",
      "Record already exists: voiceapp\\output\\summaries_folder\\mistral-small_20241213_125952\\CJG_12_2023_04_01-summary_4.txt -> C:/Users/G/Documents/GitHub/audycje.com.pl/content/audio\\CJG_12_2023_04_01.txt\n",
      "Record already exists: voiceapp\\output\\summaries_folder\\mistral-small_20241213_125952\\CJG_12_2023_04_01-summary_5.txt -> C:/Users/G/Documents/GitHub/audycje.com.pl/content/audio\\CJG_12_2023_04_01.txt\n",
      "Record already exists: voiceapp\\output\\summaries_folder\\mistral-small_20241213_125952\\CJG_12_2023_04_01-summary_1.txt -> C:/Users/G/Documents/GitHub/audycje.com.pl/content/audio\\CJG_12_2023_04_01.txt\n",
      "Record already exists: voiceapp\\output\\summaries_folder\\mistral-small_20241213_125952\\CJG_12_2023_04_01-summary_2.txt -> C:/Users/G/Documents/GitHub/audycje.com.pl/content/audio\\CJG_12_2023_04_01.txt\n",
      "Record already exists: voiceapp\\output\\summaries_folder\\mistral-small_20241213_125952\\CJG_12_2023_04_01-summary_3.txt -> C:/Users/G/Documents/GitHub/audycje.com.pl/content/audio\\CJG_12_2023_04_01.txt\n",
      "Record already exists: voiceapp\\output\\summaries_folder\\mistral-small_20241213_125952\\CJG_12_2023_04_01-summary_4.txt -> C:/Users/G/Documents/GitHub/audycje.com.pl/content/audio\\CJG_12_2023_04_01.txt\n"
     ]
    },
    {
     "name": "stderr",
     "output_type": "stream",
     "text": [
      "\n",
      "\n",
      "Summarizing files for mistral-small:  12%|█████████▊                                                                     | 12/97 [48:27<6:30:42, 275.80s/it, file=CJG_11_2023_03_25.txt, summaries_count=20, time=290.15 seconds]\u001b[A\u001b[A\n",
      "\n",
      "Summarizing files for mistral-small:  12%|█████████▊                                                                     | 12/97 [48:27<6:30:42, 275.80s/it, file=CJG_12_2023_04_01.txt, summaries_count=20, time=307.30 seconds]\u001b[A\u001b[A"
     ]
    },
    {
     "name": "stdout",
     "output_type": "stream",
     "text": [
      "Record already exists: voiceapp\\output\\summaries_folder\\mistral-small_20241213_125952\\CJG_12_2023_04_01-summary_5.txt -> C:/Users/G/Documents/GitHub/audycje.com.pl/content/audio\\CJG_12_2023_04_01.txt\n",
      "Record already exists: voiceapp\\output\\summaries_folder\\mistral-small_20241213_125952\\CJG_13_2023_04_08-summary_1.txt -> C:/Users/G/Documents/GitHub/audycje.com.pl/content/audio\\CJG_13_2023_04_08.txt\n",
      "Record already exists: voiceapp\\output\\summaries_folder\\mistral-small_20241213_125952\\CJG_13_2023_04_08-summary_2.txt -> C:/Users/G/Documents/GitHub/audycje.com.pl/content/audio\\CJG_13_2023_04_08.txt\n",
      "Record already exists: voiceapp\\output\\summaries_folder\\mistral-small_20241213_125952\\CJG_13_2023_04_08-summary_3.txt -> C:/Users/G/Documents/GitHub/audycje.com.pl/content/audio\\CJG_13_2023_04_08.txt\n",
      "Record already exists: voiceapp\\output\\summaries_folder\\mistral-small_20241213_125952\\CJG_13_2023_04_08-summary_4.txt -> C:/Users/G/Documents/GitHub/audycje.com.pl/content/audio\\CJG_13_2023_04_08.txt\n",
      "Record already exists: voiceapp\\output\\summaries_folder\\mistral-small_20241213_125952\\CJG_13_2023_04_08-summary_5.txt -> C:/Users/G/Documents/GitHub/audycje.com.pl/content/audio\\CJG_13_2023_04_08.txt\n",
      "Record already exists: voiceapp\\output\\summaries_folder\\mistral-small_20241213_125952\\CJG_13_2023_04_08-summary_1.txt -> C:/Users/G/Documents/GitHub/audycje.com.pl/content/audio\\CJG_13_2023_04_08.txt\n",
      "Record already exists: voiceapp\\output\\summaries_folder\\mistral-small_20241213_125952\\CJG_13_2023_04_08-summary_2.txt -> C:/Users/G/Documents/GitHub/audycje.com.pl/content/audio\\CJG_13_2023_04_08.txt\n",
      "Record already exists: voiceapp\\output\\summaries_folder\\mistral-small_20241213_125952\\CJG_13_2023_04_08-summary_3.txt -> C:/Users/G/Documents/GitHub/audycje.com.pl/content/audio\\CJG_13_2023_04_08.txt\n",
      "Record already exists: voiceapp\\output\\summaries_folder\\mistral-small_20241213_125952\\CJG_13_2023_04_08-summary_4.txt -> C:/Users/G/Documents/GitHub/audycje.com.pl/content/audio\\CJG_13_2023_04_08.txt\n",
      "Record already exists: voiceapp\\output\\summaries_folder\\mistral-small_20241213_125952\\CJG_13_2023_04_08-summary_5.txt -> C:/Users/G/Documents/GitHub/audycje.com.pl/content/audio\\CJG_13_2023_04_08.txt\n",
      "Record already exists: voiceapp\\output\\summaries_folder\\mistral-small_20241213_125952\\CJG_13_2023_04_08-summary_1.txt -> C:/Users/G/Documents/GitHub/audycje.com.pl/content/audio\\CJG_13_2023_04_08.txt\n",
      "Record already exists: voiceapp\\output\\summaries_folder\\mistral-small_20241213_125952\\CJG_13_2023_04_08-summary_2.txt -> C:/Users/G/Documents/GitHub/audycje.com.pl/content/audio\\CJG_13_2023_04_08.txt\n",
      "Record already exists: voiceapp\\output\\summaries_folder\\mistral-small_20241213_125952\\CJG_13_2023_04_08-summary_3.txt -> C:/Users/G/Documents/GitHub/audycje.com.pl/content/audio\\CJG_13_2023_04_08.txt\n",
      "Record already exists: voiceapp\\output\\summaries_folder\\mistral-small_20241213_125952\\CJG_13_2023_04_08-summary_4.txt -> C:/Users/G/Documents/GitHub/audycje.com.pl/content/audio\\CJG_13_2023_04_08.txt\n"
     ]
    },
    {
     "name": "stderr",
     "output_type": "stream",
     "text": [
      "\n",
      "\n",
      "Summarizing files for mistral-small:  13%|██████████▌                                                                    | 13/97 [53:12<6:29:49, 278.45s/it, file=CJG_12_2023_04_01.txt, summaries_count=20, time=307.30 seconds]\u001b[A\u001b[A\n",
      "\n",
      "Summarizing files for mistral-small:  13%|██████████▌                                                                    | 13/97 [53:12<6:29:49, 278.45s/it, file=CJG_13_2023_04_08.txt, summaries_count=20, time=284.56 seconds]\u001b[A\u001b[A"
     ]
    },
    {
     "name": "stdout",
     "output_type": "stream",
     "text": [
      "Record already exists: voiceapp\\output\\summaries_folder\\mistral-small_20241213_125952\\CJG_13_2023_04_08-summary_5.txt -> C:/Users/G/Documents/GitHub/audycje.com.pl/content/audio\\CJG_13_2023_04_08.txt\n",
      "Record already exists: voiceapp\\output\\summaries_folder\\mistral-small_20241213_125952\\CJG_14_2023_04_15-summary_1.txt -> C:/Users/G/Documents/GitHub/audycje.com.pl/content/audio\\CJG_14_2023_04_15.txt\n",
      "Record already exists: voiceapp\\output\\summaries_folder\\mistral-small_20241213_125952\\CJG_14_2023_04_15-summary_2.txt -> C:/Users/G/Documents/GitHub/audycje.com.pl/content/audio\\CJG_14_2023_04_15.txt\n",
      "Record already exists: voiceapp\\output\\summaries_folder\\mistral-small_20241213_125952\\CJG_14_2023_04_15-summary_3.txt -> C:/Users/G/Documents/GitHub/audycje.com.pl/content/audio\\CJG_14_2023_04_15.txt\n",
      "Record already exists: voiceapp\\output\\summaries_folder\\mistral-small_20241213_125952\\CJG_14_2023_04_15-summary_4.txt -> C:/Users/G/Documents/GitHub/audycje.com.pl/content/audio\\CJG_14_2023_04_15.txt\n",
      "Record already exists: voiceapp\\output\\summaries_folder\\mistral-small_20241213_125952\\CJG_14_2023_04_15-summary_5.txt -> C:/Users/G/Documents/GitHub/audycje.com.pl/content/audio\\CJG_14_2023_04_15.txt\n",
      "Record already exists: voiceapp\\output\\summaries_folder\\mistral-small_20241213_125952\\CJG_14_2023_04_15-summary_1.txt -> C:/Users/G/Documents/GitHub/audycje.com.pl/content/audio\\CJG_14_2023_04_15.txt\n",
      "Record already exists: voiceapp\\output\\summaries_folder\\mistral-small_20241213_125952\\CJG_14_2023_04_15-summary_2.txt -> C:/Users/G/Documents/GitHub/audycje.com.pl/content/audio\\CJG_14_2023_04_15.txt\n",
      "Record already exists: voiceapp\\output\\summaries_folder\\mistral-small_20241213_125952\\CJG_14_2023_04_15-summary_3.txt -> C:/Users/G/Documents/GitHub/audycje.com.pl/content/audio\\CJG_14_2023_04_15.txt\n",
      "Record already exists: voiceapp\\output\\summaries_folder\\mistral-small_20241213_125952\\CJG_14_2023_04_15-summary_4.txt -> C:/Users/G/Documents/GitHub/audycje.com.pl/content/audio\\CJG_14_2023_04_15.txt\n",
      "Record already exists: voiceapp\\output\\summaries_folder\\mistral-small_20241213_125952\\CJG_14_2023_04_15-summary_5.txt -> C:/Users/G/Documents/GitHub/audycje.com.pl/content/audio\\CJG_14_2023_04_15.txt\n",
      "Record already exists: voiceapp\\output\\summaries_folder\\mistral-small_20241213_125952\\CJG_14_2023_04_15-summary_1.txt -> C:/Users/G/Documents/GitHub/audycje.com.pl/content/audio\\CJG_14_2023_04_15.txt\n",
      "Record already exists: voiceapp\\output\\summaries_folder\\mistral-small_20241213_125952\\CJG_14_2023_04_15-summary_2.txt -> C:/Users/G/Documents/GitHub/audycje.com.pl/content/audio\\CJG_14_2023_04_15.txt\n",
      "Record already exists: voiceapp\\output\\summaries_folder\\mistral-small_20241213_125952\\CJG_14_2023_04_15-summary_3.txt -> C:/Users/G/Documents/GitHub/audycje.com.pl/content/audio\\CJG_14_2023_04_15.txt\n",
      "Record already exists: voiceapp\\output\\summaries_folder\\mistral-small_20241213_125952\\CJG_14_2023_04_15-summary_4.txt -> C:/Users/G/Documents/GitHub/audycje.com.pl/content/audio\\CJG_14_2023_04_15.txt\n"
     ]
    },
    {
     "name": "stderr",
     "output_type": "stream",
     "text": [
      "\n",
      "\n",
      "Summarizing files for mistral-small:  14%|███████████▍                                                                   | 14/97 [57:28<6:15:48, 271.67s/it, file=CJG_13_2023_04_08.txt, summaries_count=20, time=284.56 seconds]\u001b[A\u001b[A\n",
      "\n",
      "Summarizing files for mistral-small:  14%|███████████▍                                                                   | 14/97 [57:28<6:15:48, 271.67s/it, file=CJG_14_2023_04_15.txt, summaries_count=20, time=256.01 seconds]\u001b[A\u001b[A"
     ]
    },
    {
     "name": "stdout",
     "output_type": "stream",
     "text": [
      "Record already exists: voiceapp\\output\\summaries_folder\\mistral-small_20241213_125952\\CJG_14_2023_04_15-summary_5.txt -> C:/Users/G/Documents/GitHub/audycje.com.pl/content/audio\\CJG_14_2023_04_15.txt\n",
      "Record already exists: voiceapp\\output\\summaries_folder\\mistral-small_20241213_125952\\CJG_15_2023_04_22-summary_1.txt -> C:/Users/G/Documents/GitHub/audycje.com.pl/content/audio\\CJG_15_2023_04_22.txt\n",
      "Record already exists: voiceapp\\output\\summaries_folder\\mistral-small_20241213_125952\\CJG_15_2023_04_22-summary_2.txt -> C:/Users/G/Documents/GitHub/audycje.com.pl/content/audio\\CJG_15_2023_04_22.txt\n",
      "Record already exists: voiceapp\\output\\summaries_folder\\mistral-small_20241213_125952\\CJG_15_2023_04_22-summary_3.txt -> C:/Users/G/Documents/GitHub/audycje.com.pl/content/audio\\CJG_15_2023_04_22.txt\n",
      "Record already exists: voiceapp\\output\\summaries_folder\\mistral-small_20241213_125952\\CJG_15_2023_04_22-summary_4.txt -> C:/Users/G/Documents/GitHub/audycje.com.pl/content/audio\\CJG_15_2023_04_22.txt\n",
      "Record already exists: voiceapp\\output\\summaries_folder\\mistral-small_20241213_125952\\CJG_15_2023_04_22-summary_5.txt -> C:/Users/G/Documents/GitHub/audycje.com.pl/content/audio\\CJG_15_2023_04_22.txt\n",
      "Record already exists: voiceapp\\output\\summaries_folder\\mistral-small_20241213_125952\\CJG_15_2023_04_22-summary_1.txt -> C:/Users/G/Documents/GitHub/audycje.com.pl/content/audio\\CJG_15_2023_04_22.txt\n",
      "Record already exists: voiceapp\\output\\summaries_folder\\mistral-small_20241213_125952\\CJG_15_2023_04_22-summary_2.txt -> C:/Users/G/Documents/GitHub/audycje.com.pl/content/audio\\CJG_15_2023_04_22.txt\n",
      "Record already exists: voiceapp\\output\\summaries_folder\\mistral-small_20241213_125952\\CJG_15_2023_04_22-summary_3.txt -> C:/Users/G/Documents/GitHub/audycje.com.pl/content/audio\\CJG_15_2023_04_22.txt\n",
      "Record already exists: voiceapp\\output\\summaries_folder\\mistral-small_20241213_125952\\CJG_15_2023_04_22-summary_4.txt -> C:/Users/G/Documents/GitHub/audycje.com.pl/content/audio\\CJG_15_2023_04_22.txt\n",
      "Record already exists: voiceapp\\output\\summaries_folder\\mistral-small_20241213_125952\\CJG_15_2023_04_22-summary_5.txt -> C:/Users/G/Documents/GitHub/audycje.com.pl/content/audio\\CJG_15_2023_04_22.txt\n",
      "Record already exists: voiceapp\\output\\summaries_folder\\mistral-small_20241213_125952\\CJG_15_2023_04_22-summary_1.txt -> C:/Users/G/Documents/GitHub/audycje.com.pl/content/audio\\CJG_15_2023_04_22.txt\n",
      "Record already exists: voiceapp\\output\\summaries_folder\\mistral-small_20241213_125952\\CJG_15_2023_04_22-summary_2.txt -> C:/Users/G/Documents/GitHub/audycje.com.pl/content/audio\\CJG_15_2023_04_22.txt\n",
      "Record already exists: voiceapp\\output\\summaries_folder\\mistral-small_20241213_125952\\CJG_15_2023_04_22-summary_3.txt -> C:/Users/G/Documents/GitHub/audycje.com.pl/content/audio\\CJG_15_2023_04_22.txt\n",
      "Record already exists: voiceapp\\output\\summaries_folder\\mistral-small_20241213_125952\\CJG_15_2023_04_22-summary_4.txt -> C:/Users/G/Documents/GitHub/audycje.com.pl/content/audio\\CJG_15_2023_04_22.txt\n",
      "Record already exists: voiceapp\\output\\summaries_folder\\mistral-small_20241213_125952\\CJG_15_2023_04_22-summary_5.txt -> C:/Users/G/Documents/GitHub/audycje.com.pl/content/audio\\CJG_15_2023_04_22.txt\n",
      "Record already exists: voiceapp\\output\\summaries_folder\\mistral-small_20241213_125952\\CJG_15_2023_04_22-summary_1.txt -> C:/Users/G/Documents/GitHub/audycje.com.pl/content/audio\\CJG_15_2023_04_22.txt\n",
      "Record already exists: voiceapp\\output\\summaries_folder\\mistral-small_20241213_125952\\CJG_15_2023_04_22-summary_2.txt -> C:/Users/G/Documents/GitHub/audycje.com.pl/content/audio\\CJG_15_2023_04_22.txt\n",
      "Record already exists: voiceapp\\output\\summaries_folder\\mistral-small_20241213_125952\\CJG_15_2023_04_22-summary_3.txt -> C:/Users/G/Documents/GitHub/audycje.com.pl/content/audio\\CJG_15_2023_04_22.txt\n",
      "Record already exists: voiceapp\\output\\summaries_folder\\mistral-small_20241213_125952\\CJG_15_2023_04_22-summary_4.txt -> C:/Users/G/Documents/GitHub/audycje.com.pl/content/audio\\CJG_15_2023_04_22.txt\n"
     ]
    },
    {
     "name": "stderr",
     "output_type": "stream",
     "text": [
      "\n",
      "\n",
      "Summarizing files for mistral-small:  15%|███████████▉                                                                 | 15/97 [1:02:50<6:32:00, 286.83s/it, file=CJG_14_2023_04_15.txt, summaries_count=20, time=256.01 seconds]\u001b[A\u001b[A\n",
      "\n",
      "Summarizing files for mistral-small:  15%|███████████▉                                                                 | 15/97 [1:02:50<6:32:00, 286.83s/it, file=CJG_15_2023_04_22.txt, summaries_count=25, time=321.98 seconds]\u001b[A\u001b[A"
     ]
    },
    {
     "name": "stdout",
     "output_type": "stream",
     "text": [
      "Record already exists: voiceapp\\output\\summaries_folder\\mistral-small_20241213_125952\\CJG_15_2023_04_22-summary_5.txt -> C:/Users/G/Documents/GitHub/audycje.com.pl/content/audio\\CJG_15_2023_04_22.txt\n",
      "Record already exists: voiceapp\\output\\summaries_folder\\mistral-small_20241213_125952\\CJG_16_2023_04_29-summary_1.txt -> C:/Users/G/Documents/GitHub/audycje.com.pl/content/audio\\CJG_16_2023_04_29.txt\n",
      "Record already exists: voiceapp\\output\\summaries_folder\\mistral-small_20241213_125952\\CJG_16_2023_04_29-summary_2.txt -> C:/Users/G/Documents/GitHub/audycje.com.pl/content/audio\\CJG_16_2023_04_29.txt\n",
      "Record already exists: voiceapp\\output\\summaries_folder\\mistral-small_20241213_125952\\CJG_16_2023_04_29-summary_3.txt -> C:/Users/G/Documents/GitHub/audycje.com.pl/content/audio\\CJG_16_2023_04_29.txt\n",
      "Record already exists: voiceapp\\output\\summaries_folder\\mistral-small_20241213_125952\\CJG_16_2023_04_29-summary_4.txt -> C:/Users/G/Documents/GitHub/audycje.com.pl/content/audio\\CJG_16_2023_04_29.txt\n",
      "Record already exists: voiceapp\\output\\summaries_folder\\mistral-small_20241213_125952\\CJG_16_2023_04_29-summary_5.txt -> C:/Users/G/Documents/GitHub/audycje.com.pl/content/audio\\CJG_16_2023_04_29.txt\n",
      "Record already exists: voiceapp\\output\\summaries_folder\\mistral-small_20241213_125952\\CJG_16_2023_04_29-summary_1.txt -> C:/Users/G/Documents/GitHub/audycje.com.pl/content/audio\\CJG_16_2023_04_29.txt\n",
      "Record already exists: voiceapp\\output\\summaries_folder\\mistral-small_20241213_125952\\CJG_16_2023_04_29-summary_2.txt -> C:/Users/G/Documents/GitHub/audycje.com.pl/content/audio\\CJG_16_2023_04_29.txt\n",
      "Record already exists: voiceapp\\output\\summaries_folder\\mistral-small_20241213_125952\\CJG_16_2023_04_29-summary_3.txt -> C:/Users/G/Documents/GitHub/audycje.com.pl/content/audio\\CJG_16_2023_04_29.txt\n",
      "Record already exists: voiceapp\\output\\summaries_folder\\mistral-small_20241213_125952\\CJG_16_2023_04_29-summary_4.txt -> C:/Users/G/Documents/GitHub/audycje.com.pl/content/audio\\CJG_16_2023_04_29.txt\n"
     ]
    },
    {
     "name": "stderr",
     "output_type": "stream",
     "text": [
      "\n",
      "\n",
      "Summarizing files for mistral-small:  16%|████████████▋                                                                | 16/97 [1:06:44<6:05:47, 270.95s/it, file=CJG_15_2023_04_22.txt, summaries_count=25, time=321.98 seconds]\u001b[A\u001b[A\n",
      "\n",
      "Summarizing files for mistral-small:  16%|████████████▋                                                                | 16/97 [1:06:44<6:05:47, 270.95s/it, file=CJG_16_2023_04_29.txt, summaries_count=15, time=234.07 seconds]\u001b[A\u001b[A"
     ]
    },
    {
     "name": "stdout",
     "output_type": "stream",
     "text": [
      "Record already exists: voiceapp\\output\\summaries_folder\\mistral-small_20241213_125952\\CJG_16_2023_04_29-summary_5.txt -> C:/Users/G/Documents/GitHub/audycje.com.pl/content/audio\\CJG_16_2023_04_29.txt\n",
      "Record already exists: voiceapp\\output\\summaries_folder\\mistral-small_20241213_125952\\CJG_17_2023_05_06-summary_1.txt -> C:/Users/G/Documents/GitHub/audycje.com.pl/content/audio\\CJG_17_2023_05_06.txt\n",
      "Record already exists: voiceapp\\output\\summaries_folder\\mistral-small_20241213_125952\\CJG_17_2023_05_06-summary_2.txt -> C:/Users/G/Documents/GitHub/audycje.com.pl/content/audio\\CJG_17_2023_05_06.txt\n",
      "Record already exists: voiceapp\\output\\summaries_folder\\mistral-small_20241213_125952\\CJG_17_2023_05_06-summary_3.txt -> C:/Users/G/Documents/GitHub/audycje.com.pl/content/audio\\CJG_17_2023_05_06.txt\n",
      "Record already exists: voiceapp\\output\\summaries_folder\\mistral-small_20241213_125952\\CJG_17_2023_05_06-summary_4.txt -> C:/Users/G/Documents/GitHub/audycje.com.pl/content/audio\\CJG_17_2023_05_06.txt\n",
      "Record already exists: voiceapp\\output\\summaries_folder\\mistral-small_20241213_125952\\CJG_17_2023_05_06-summary_5.txt -> C:/Users/G/Documents/GitHub/audycje.com.pl/content/audio\\CJG_17_2023_05_06.txt\n",
      "Record already exists: voiceapp\\output\\summaries_folder\\mistral-small_20241213_125952\\CJG_17_2023_05_06-summary_1.txt -> C:/Users/G/Documents/GitHub/audycje.com.pl/content/audio\\CJG_17_2023_05_06.txt\n",
      "Record already exists: voiceapp\\output\\summaries_folder\\mistral-small_20241213_125952\\CJG_17_2023_05_06-summary_2.txt -> C:/Users/G/Documents/GitHub/audycje.com.pl/content/audio\\CJG_17_2023_05_06.txt\n",
      "Record already exists: voiceapp\\output\\summaries_folder\\mistral-small_20241213_125952\\CJG_17_2023_05_06-summary_3.txt -> C:/Users/G/Documents/GitHub/audycje.com.pl/content/audio\\CJG_17_2023_05_06.txt\n",
      "Record already exists: voiceapp\\output\\summaries_folder\\mistral-small_20241213_125952\\CJG_17_2023_05_06-summary_4.txt -> C:/Users/G/Documents/GitHub/audycje.com.pl/content/audio\\CJG_17_2023_05_06.txt\n"
     ]
    },
    {
     "name": "stderr",
     "output_type": "stream",
     "text": [
      "\n",
      "\n",
      "Summarizing files for mistral-small:  18%|█████████████▍                                                               | 17/97 [1:10:23<5:40:23, 255.30s/it, file=CJG_16_2023_04_29.txt, summaries_count=15, time=234.07 seconds]\u001b[A\u001b[A\n",
      "\n",
      "Summarizing files for mistral-small:  18%|█████████████▍                                                               | 17/97 [1:10:23<5:40:23, 255.30s/it, file=CJG_17_2023_05_06.txt, summaries_count=15, time=218.89 seconds]\u001b[A\u001b[A"
     ]
    },
    {
     "name": "stdout",
     "output_type": "stream",
     "text": [
      "Record already exists: voiceapp\\output\\summaries_folder\\mistral-small_20241213_125952\\CJG_17_2023_05_06-summary_5.txt -> C:/Users/G/Documents/GitHub/audycje.com.pl/content/audio\\CJG_17_2023_05_06.txt\n",
      "Record already exists: voiceapp\\output\\summaries_folder\\mistral-small_20241213_125952\\CJG_18_2023_05_13-summary_1.txt -> C:/Users/G/Documents/GitHub/audycje.com.pl/content/audio\\CJG_18_2023_05_13.txt\n",
      "Record already exists: voiceapp\\output\\summaries_folder\\mistral-small_20241213_125952\\CJG_18_2023_05_13-summary_2.txt -> C:/Users/G/Documents/GitHub/audycje.com.pl/content/audio\\CJG_18_2023_05_13.txt\n",
      "Record already exists: voiceapp\\output\\summaries_folder\\mistral-small_20241213_125952\\CJG_18_2023_05_13-summary_3.txt -> C:/Users/G/Documents/GitHub/audycje.com.pl/content/audio\\CJG_18_2023_05_13.txt\n",
      "Record already exists: voiceapp\\output\\summaries_folder\\mistral-small_20241213_125952\\CJG_18_2023_05_13-summary_4.txt -> C:/Users/G/Documents/GitHub/audycje.com.pl/content/audio\\CJG_18_2023_05_13.txt\n",
      "Record already exists: voiceapp\\output\\summaries_folder\\mistral-small_20241213_125952\\CJG_18_2023_05_13-summary_5.txt -> C:/Users/G/Documents/GitHub/audycje.com.pl/content/audio\\CJG_18_2023_05_13.txt\n",
      "Record already exists: voiceapp\\output\\summaries_folder\\mistral-small_20241213_125952\\CJG_18_2023_05_13-summary_1.txt -> C:/Users/G/Documents/GitHub/audycje.com.pl/content/audio\\CJG_18_2023_05_13.txt\n",
      "Record already exists: voiceapp\\output\\summaries_folder\\mistral-small_20241213_125952\\CJG_18_2023_05_13-summary_2.txt -> C:/Users/G/Documents/GitHub/audycje.com.pl/content/audio\\CJG_18_2023_05_13.txt\n",
      "Record already exists: voiceapp\\output\\summaries_folder\\mistral-small_20241213_125952\\CJG_18_2023_05_13-summary_3.txt -> C:/Users/G/Documents/GitHub/audycje.com.pl/content/audio\\CJG_18_2023_05_13.txt\n",
      "Record already exists: voiceapp\\output\\summaries_folder\\mistral-small_20241213_125952\\CJG_18_2023_05_13-summary_4.txt -> C:/Users/G/Documents/GitHub/audycje.com.pl/content/audio\\CJG_18_2023_05_13.txt\n"
     ]
    },
    {
     "name": "stderr",
     "output_type": "stream",
     "text": [
      "\n",
      "\n",
      "Summarizing files for mistral-small:  19%|██████████████▎                                                              | 18/97 [1:14:08<5:24:09, 246.20s/it, file=CJG_17_2023_05_06.txt, summaries_count=15, time=218.89 seconds]\u001b[A\u001b[A\n",
      "\n",
      "Summarizing files for mistral-small:  19%|██████████████▎                                                              | 18/97 [1:14:08<5:24:09, 246.20s/it, file=CJG_18_2023_05_13.txt, summaries_count=15, time=225.03 seconds]\u001b[A\u001b[A"
     ]
    },
    {
     "name": "stdout",
     "output_type": "stream",
     "text": [
      "Record already exists: voiceapp\\output\\summaries_folder\\mistral-small_20241213_125952\\CJG_18_2023_05_13-summary_5.txt -> C:/Users/G/Documents/GitHub/audycje.com.pl/content/audio\\CJG_18_2023_05_13.txt\n",
      "Record already exists: voiceapp\\output\\summaries_folder\\mistral-small_20241213_125952\\CJG_19_2023_05_20-summary_1.txt -> C:/Users/G/Documents/GitHub/audycje.com.pl/content/audio\\CJG_19_2023_05_20.txt\n",
      "Record already exists: voiceapp\\output\\summaries_folder\\mistral-small_20241213_125952\\CJG_19_2023_05_20-summary_2.txt -> C:/Users/G/Documents/GitHub/audycje.com.pl/content/audio\\CJG_19_2023_05_20.txt\n",
      "Record already exists: voiceapp\\output\\summaries_folder\\mistral-small_20241213_125952\\CJG_19_2023_05_20-summary_3.txt -> C:/Users/G/Documents/GitHub/audycje.com.pl/content/audio\\CJG_19_2023_05_20.txt\n",
      "Record already exists: voiceapp\\output\\summaries_folder\\mistral-small_20241213_125952\\CJG_19_2023_05_20-summary_4.txt -> C:/Users/G/Documents/GitHub/audycje.com.pl/content/audio\\CJG_19_2023_05_20.txt\n",
      "Record already exists: voiceapp\\output\\summaries_folder\\mistral-small_20241213_125952\\CJG_19_2023_05_20-summary_5.txt -> C:/Users/G/Documents/GitHub/audycje.com.pl/content/audio\\CJG_19_2023_05_20.txt\n",
      "Record already exists: voiceapp\\output\\summaries_folder\\mistral-small_20241213_125952\\CJG_19_2023_05_20-summary_1.txt -> C:/Users/G/Documents/GitHub/audycje.com.pl/content/audio\\CJG_19_2023_05_20.txt\n",
      "Record already exists: voiceapp\\output\\summaries_folder\\mistral-small_20241213_125952\\CJG_19_2023_05_20-summary_2.txt -> C:/Users/G/Documents/GitHub/audycje.com.pl/content/audio\\CJG_19_2023_05_20.txt\n",
      "Record already exists: voiceapp\\output\\summaries_folder\\mistral-small_20241213_125952\\CJG_19_2023_05_20-summary_3.txt -> C:/Users/G/Documents/GitHub/audycje.com.pl/content/audio\\CJG_19_2023_05_20.txt\n",
      "Record already exists: voiceapp\\output\\summaries_folder\\mistral-small_20241213_125952\\CJG_19_2023_05_20-summary_4.txt -> C:/Users/G/Documents/GitHub/audycje.com.pl/content/audio\\CJG_19_2023_05_20.txt\n"
     ]
    },
    {
     "name": "stderr",
     "output_type": "stream",
     "text": [
      "\n",
      "\n",
      "Summarizing files for mistral-small:  20%|███████████████                                                              | 19/97 [1:17:49<5:10:15, 238.67s/it, file=CJG_18_2023_05_13.txt, summaries_count=15, time=225.03 seconds]\u001b[A\u001b[A\n",
      "\n",
      "Summarizing files for mistral-small:  20%|███████████████                                                              | 19/97 [1:17:49<5:10:15, 238.67s/it, file=CJG_19_2023_05_20.txt, summaries_count=15, time=221.11 seconds]\u001b[A\u001b[A"
     ]
    },
    {
     "name": "stdout",
     "output_type": "stream",
     "text": [
      "Record already exists: voiceapp\\output\\summaries_folder\\mistral-small_20241213_125952\\CJG_19_2023_05_20-summary_5.txt -> C:/Users/G/Documents/GitHub/audycje.com.pl/content/audio\\CJG_19_2023_05_20.txt\n",
      "Record already exists: voiceapp\\output\\summaries_folder\\mistral-small_20241213_125952\\CJG_20_2023_05_27-summary_1.txt -> C:/Users/G/Documents/GitHub/audycje.com.pl/content/audio\\CJG_20_2023_05_27.txt\n",
      "Record already exists: voiceapp\\output\\summaries_folder\\mistral-small_20241213_125952\\CJG_20_2023_05_27-summary_2.txt -> C:/Users/G/Documents/GitHub/audycje.com.pl/content/audio\\CJG_20_2023_05_27.txt\n",
      "Record already exists: voiceapp\\output\\summaries_folder\\mistral-small_20241213_125952\\CJG_20_2023_05_27-summary_3.txt -> C:/Users/G/Documents/GitHub/audycje.com.pl/content/audio\\CJG_20_2023_05_27.txt\n",
      "Record already exists: voiceapp\\output\\summaries_folder\\mistral-small_20241213_125952\\CJG_20_2023_05_27-summary_4.txt -> C:/Users/G/Documents/GitHub/audycje.com.pl/content/audio\\CJG_20_2023_05_27.txt\n",
      "Record already exists: voiceapp\\output\\summaries_folder\\mistral-small_20241213_125952\\CJG_20_2023_05_27-summary_5.txt -> C:/Users/G/Documents/GitHub/audycje.com.pl/content/audio\\CJG_20_2023_05_27.txt\n",
      "Record already exists: voiceapp\\output\\summaries_folder\\mistral-small_20241213_125952\\CJG_20_2023_05_27-summary_1.txt -> C:/Users/G/Documents/GitHub/audycje.com.pl/content/audio\\CJG_20_2023_05_27.txt\n",
      "Record already exists: voiceapp\\output\\summaries_folder\\mistral-small_20241213_125952\\CJG_20_2023_05_27-summary_2.txt -> C:/Users/G/Documents/GitHub/audycje.com.pl/content/audio\\CJG_20_2023_05_27.txt\n",
      "Record already exists: voiceapp\\output\\summaries_folder\\mistral-small_20241213_125952\\CJG_20_2023_05_27-summary_3.txt -> C:/Users/G/Documents/GitHub/audycje.com.pl/content/audio\\CJG_20_2023_05_27.txt\n",
      "Record already exists: voiceapp\\output\\summaries_folder\\mistral-small_20241213_125952\\CJG_20_2023_05_27-summary_4.txt -> C:/Users/G/Documents/GitHub/audycje.com.pl/content/audio\\CJG_20_2023_05_27.txt\n",
      "Record already exists: voiceapp\\output\\summaries_folder\\mistral-small_20241213_125952\\CJG_20_2023_05_27-summary_5.txt -> C:/Users/G/Documents/GitHub/audycje.com.pl/content/audio\\CJG_20_2023_05_27.txt\n",
      "Record already exists: voiceapp\\output\\summaries_folder\\mistral-small_20241213_125952\\CJG_20_2023_05_27-summary_1.txt -> C:/Users/G/Documents/GitHub/audycje.com.pl/content/audio\\CJG_20_2023_05_27.txt\n",
      "Record already exists: voiceapp\\output\\summaries_folder\\mistral-small_20241213_125952\\CJG_20_2023_05_27-summary_2.txt -> C:/Users/G/Documents/GitHub/audycje.com.pl/content/audio\\CJG_20_2023_05_27.txt\n",
      "Record already exists: voiceapp\\output\\summaries_folder\\mistral-small_20241213_125952\\CJG_20_2023_05_27-summary_3.txt -> C:/Users/G/Documents/GitHub/audycje.com.pl/content/audio\\CJG_20_2023_05_27.txt\n",
      "Record already exists: voiceapp\\output\\summaries_folder\\mistral-small_20241213_125952\\CJG_20_2023_05_27-summary_4.txt -> C:/Users/G/Documents/GitHub/audycje.com.pl/content/audio\\CJG_20_2023_05_27.txt\n"
     ]
    },
    {
     "name": "stderr",
     "output_type": "stream",
     "text": [
      "\n",
      "\n",
      "Summarizing files for mistral-small:  21%|███████████████▉                                                             | 20/97 [1:22:37<5:25:17, 253.47s/it, file=CJG_19_2023_05_20.txt, summaries_count=15, time=221.11 seconds]\u001b[A\u001b[A\n",
      "\n",
      "Summarizing files for mistral-small:  21%|███████████████▉                                                             | 20/97 [1:22:37<5:25:17, 253.47s/it, file=CJG_20_2023_05_27.txt, summaries_count=20, time=287.98 seconds]\u001b[A\u001b[A"
     ]
    },
    {
     "name": "stdout",
     "output_type": "stream",
     "text": [
      "Record already exists: voiceapp\\output\\summaries_folder\\mistral-small_20241213_125952\\CJG_20_2023_05_27-summary_5.txt -> C:/Users/G/Documents/GitHub/audycje.com.pl/content/audio\\CJG_20_2023_05_27.txt\n",
      "Record already exists: voiceapp\\output\\summaries_folder\\mistral-small_20241213_125952\\CJG_21_2023_06_03-summary_1.txt -> C:/Users/G/Documents/GitHub/audycje.com.pl/content/audio\\CJG_21_2023_06_03.txt\n",
      "Record already exists: voiceapp\\output\\summaries_folder\\mistral-small_20241213_125952\\CJG_21_2023_06_03-summary_2.txt -> C:/Users/G/Documents/GitHub/audycje.com.pl/content/audio\\CJG_21_2023_06_03.txt\n",
      "Record already exists: voiceapp\\output\\summaries_folder\\mistral-small_20241213_125952\\CJG_21_2023_06_03-summary_3.txt -> C:/Users/G/Documents/GitHub/audycje.com.pl/content/audio\\CJG_21_2023_06_03.txt\n",
      "Record already exists: voiceapp\\output\\summaries_folder\\mistral-small_20241213_125952\\CJG_21_2023_06_03-summary_4.txt -> C:/Users/G/Documents/GitHub/audycje.com.pl/content/audio\\CJG_21_2023_06_03.txt\n",
      "Record already exists: voiceapp\\output\\summaries_folder\\mistral-small_20241213_125952\\CJG_21_2023_06_03-summary_5.txt -> C:/Users/G/Documents/GitHub/audycje.com.pl/content/audio\\CJG_21_2023_06_03.txt\n",
      "Record already exists: voiceapp\\output\\summaries_folder\\mistral-small_20241213_125952\\CJG_21_2023_06_03-summary_1.txt -> C:/Users/G/Documents/GitHub/audycje.com.pl/content/audio\\CJG_21_2023_06_03.txt\n",
      "Record already exists: voiceapp\\output\\summaries_folder\\mistral-small_20241213_125952\\CJG_21_2023_06_03-summary_2.txt -> C:/Users/G/Documents/GitHub/audycje.com.pl/content/audio\\CJG_21_2023_06_03.txt\n",
      "Record already exists: voiceapp\\output\\summaries_folder\\mistral-small_20241213_125952\\CJG_21_2023_06_03-summary_3.txt -> C:/Users/G/Documents/GitHub/audycje.com.pl/content/audio\\CJG_21_2023_06_03.txt\n",
      "Record already exists: voiceapp\\output\\summaries_folder\\mistral-small_20241213_125952\\CJG_21_2023_06_03-summary_4.txt -> C:/Users/G/Documents/GitHub/audycje.com.pl/content/audio\\CJG_21_2023_06_03.txt\n",
      "Record already exists: voiceapp\\output\\summaries_folder\\mistral-small_20241213_125952\\CJG_21_2023_06_03-summary_5.txt -> C:/Users/G/Documents/GitHub/audycje.com.pl/content/audio\\CJG_21_2023_06_03.txt\n",
      "Record already exists: voiceapp\\output\\summaries_folder\\mistral-small_20241213_125952\\CJG_21_2023_06_03-summary_1.txt -> C:/Users/G/Documents/GitHub/audycje.com.pl/content/audio\\CJG_21_2023_06_03.txt\n",
      "Record already exists: voiceapp\\output\\summaries_folder\\mistral-small_20241213_125952\\CJG_21_2023_06_03-summary_2.txt -> C:/Users/G/Documents/GitHub/audycje.com.pl/content/audio\\CJG_21_2023_06_03.txt\n",
      "Record already exists: voiceapp\\output\\summaries_folder\\mistral-small_20241213_125952\\CJG_21_2023_06_03-summary_3.txt -> C:/Users/G/Documents/GitHub/audycje.com.pl/content/audio\\CJG_21_2023_06_03.txt\n",
      "Record already exists: voiceapp\\output\\summaries_folder\\mistral-small_20241213_125952\\CJG_21_2023_06_03-summary_4.txt -> C:/Users/G/Documents/GitHub/audycje.com.pl/content/audio\\CJG_21_2023_06_03.txt\n"
     ]
    },
    {
     "name": "stderr",
     "output_type": "stream",
     "text": [
      "\n",
      "\n",
      "Summarizing files for mistral-small:  22%|████████████████▋                                                            | 21/97 [1:27:38<5:39:10, 267.77s/it, file=CJG_20_2023_05_27.txt, summaries_count=20, time=287.98 seconds]\u001b[A\u001b[A\n",
      "\n",
      "Summarizing files for mistral-small:  22%|████████████████▋                                                            | 21/97 [1:27:38<5:39:10, 267.77s/it, file=CJG_21_2023_06_03.txt, summaries_count=20, time=301.09 seconds]\u001b[A\u001b[A"
     ]
    },
    {
     "name": "stdout",
     "output_type": "stream",
     "text": [
      "Record already exists: voiceapp\\output\\summaries_folder\\mistral-small_20241213_125952\\CJG_21_2023_06_03-summary_5.txt -> C:/Users/G/Documents/GitHub/audycje.com.pl/content/audio\\CJG_21_2023_06_03.txt\n",
      "Record already exists: voiceapp\\output\\summaries_folder\\mistral-small_20241213_125952\\CJG_22_2023_06_10-summary_1.txt -> C:/Users/G/Documents/GitHub/audycje.com.pl/content/audio\\CJG_22_2023_06_10.txt\n",
      "Record already exists: voiceapp\\output\\summaries_folder\\mistral-small_20241213_125952\\CJG_22_2023_06_10-summary_2.txt -> C:/Users/G/Documents/GitHub/audycje.com.pl/content/audio\\CJG_22_2023_06_10.txt\n",
      "Record already exists: voiceapp\\output\\summaries_folder\\mistral-small_20241213_125952\\CJG_22_2023_06_10-summary_3.txt -> C:/Users/G/Documents/GitHub/audycje.com.pl/content/audio\\CJG_22_2023_06_10.txt\n",
      "Record already exists: voiceapp\\output\\summaries_folder\\mistral-small_20241213_125952\\CJG_22_2023_06_10-summary_4.txt -> C:/Users/G/Documents/GitHub/audycje.com.pl/content/audio\\CJG_22_2023_06_10.txt\n",
      "Record already exists: voiceapp\\output\\summaries_folder\\mistral-small_20241213_125952\\CJG_22_2023_06_10-summary_5.txt -> C:/Users/G/Documents/GitHub/audycje.com.pl/content/audio\\CJG_22_2023_06_10.txt\n",
      "Record already exists: voiceapp\\output\\summaries_folder\\mistral-small_20241213_125952\\CJG_22_2023_06_10-summary_1.txt -> C:/Users/G/Documents/GitHub/audycje.com.pl/content/audio\\CJG_22_2023_06_10.txt\n",
      "Record already exists: voiceapp\\output\\summaries_folder\\mistral-small_20241213_125952\\CJG_22_2023_06_10-summary_2.txt -> C:/Users/G/Documents/GitHub/audycje.com.pl/content/audio\\CJG_22_2023_06_10.txt\n",
      "Record already exists: voiceapp\\output\\summaries_folder\\mistral-small_20241213_125952\\CJG_22_2023_06_10-summary_3.txt -> C:/Users/G/Documents/GitHub/audycje.com.pl/content/audio\\CJG_22_2023_06_10.txt\n",
      "Record already exists: voiceapp\\output\\summaries_folder\\mistral-small_20241213_125952\\CJG_22_2023_06_10-summary_4.txt -> C:/Users/G/Documents/GitHub/audycje.com.pl/content/audio\\CJG_22_2023_06_10.txt\n"
     ]
    },
    {
     "name": "stderr",
     "output_type": "stream",
     "text": [
      "\n",
      "\n",
      "Summarizing files for mistral-small:  23%|█████████████████▍                                                           | 22/97 [1:31:38<5:24:27, 259.57s/it, file=CJG_21_2023_06_03.txt, summaries_count=20, time=301.09 seconds]\u001b[A\u001b[A\n",
      "\n",
      "Summarizing files for mistral-small:  23%|█████████████████▍                                                           | 22/97 [1:31:38<5:24:27, 259.57s/it, file=CJG_22_2023_06_10.txt, summaries_count=15, time=240.45 seconds]\u001b[A\u001b[A"
     ]
    },
    {
     "name": "stdout",
     "output_type": "stream",
     "text": [
      "Record already exists: voiceapp\\output\\summaries_folder\\mistral-small_20241213_125952\\CJG_22_2023_06_10-summary_5.txt -> C:/Users/G/Documents/GitHub/audycje.com.pl/content/audio\\CJG_22_2023_06_10.txt\n",
      "Record already exists: voiceapp\\output\\summaries_folder\\mistral-small_20241213_125952\\CJG_23_2023_06_17-summary_1.txt -> C:/Users/G/Documents/GitHub/audycje.com.pl/content/audio\\CJG_23_2023_06_17.txt\n",
      "Record already exists: voiceapp\\output\\summaries_folder\\mistral-small_20241213_125952\\CJG_23_2023_06_17-summary_2.txt -> C:/Users/G/Documents/GitHub/audycje.com.pl/content/audio\\CJG_23_2023_06_17.txt\n",
      "Record already exists: voiceapp\\output\\summaries_folder\\mistral-small_20241213_125952\\CJG_23_2023_06_17-summary_3.txt -> C:/Users/G/Documents/GitHub/audycje.com.pl/content/audio\\CJG_23_2023_06_17.txt\n",
      "Record already exists: voiceapp\\output\\summaries_folder\\mistral-small_20241213_125952\\CJG_23_2023_06_17-summary_4.txt -> C:/Users/G/Documents/GitHub/audycje.com.pl/content/audio\\CJG_23_2023_06_17.txt\n",
      "Record already exists: voiceapp\\output\\summaries_folder\\mistral-small_20241213_125952\\CJG_23_2023_06_17-summary_5.txt -> C:/Users/G/Documents/GitHub/audycje.com.pl/content/audio\\CJG_23_2023_06_17.txt\n",
      "Record already exists: voiceapp\\output\\summaries_folder\\mistral-small_20241213_125952\\CJG_23_2023_06_17-summary_1.txt -> C:/Users/G/Documents/GitHub/audycje.com.pl/content/audio\\CJG_23_2023_06_17.txt\n",
      "Record already exists: voiceapp\\output\\summaries_folder\\mistral-small_20241213_125952\\CJG_23_2023_06_17-summary_2.txt -> C:/Users/G/Documents/GitHub/audycje.com.pl/content/audio\\CJG_23_2023_06_17.txt\n",
      "Record already exists: voiceapp\\output\\summaries_folder\\mistral-small_20241213_125952\\CJG_23_2023_06_17-summary_3.txt -> C:/Users/G/Documents/GitHub/audycje.com.pl/content/audio\\CJG_23_2023_06_17.txt\n",
      "Record already exists: voiceapp\\output\\summaries_folder\\mistral-small_20241213_125952\\CJG_23_2023_06_17-summary_4.txt -> C:/Users/G/Documents/GitHub/audycje.com.pl/content/audio\\CJG_23_2023_06_17.txt\n"
     ]
    },
    {
     "name": "stderr",
     "output_type": "stream",
     "text": [
      "\n",
      "\n",
      "Summarizing files for mistral-small:  24%|██████████████████▎                                                          | 23/97 [1:35:43<5:14:44, 255.20s/it, file=CJG_22_2023_06_10.txt, summaries_count=15, time=240.45 seconds]\u001b[A\u001b[A\n",
      "\n",
      "Summarizing files for mistral-small:  24%|██████████████████▎                                                          | 23/97 [1:35:43<5:14:44, 255.20s/it, file=CJG_23_2023_06_17.txt, summaries_count=15, time=245.00 seconds]\u001b[A\u001b[A"
     ]
    },
    {
     "name": "stdout",
     "output_type": "stream",
     "text": [
      "Record already exists: voiceapp\\output\\summaries_folder\\mistral-small_20241213_125952\\CJG_23_2023_06_17-summary_5.txt -> C:/Users/G/Documents/GitHub/audycje.com.pl/content/audio\\CJG_23_2023_06_17.txt\n",
      "Record already exists: voiceapp\\output\\summaries_folder\\mistral-small_20241213_125952\\CJG_24_2023_06_24-summary_1.txt -> C:/Users/G/Documents/GitHub/audycje.com.pl/content/audio\\CJG_24_2023_06_24.txt\n",
      "Record already exists: voiceapp\\output\\summaries_folder\\mistral-small_20241213_125952\\CJG_24_2023_06_24-summary_2.txt -> C:/Users/G/Documents/GitHub/audycje.com.pl/content/audio\\CJG_24_2023_06_24.txt\n",
      "Record already exists: voiceapp\\output\\summaries_folder\\mistral-small_20241213_125952\\CJG_24_2023_06_24-summary_3.txt -> C:/Users/G/Documents/GitHub/audycje.com.pl/content/audio\\CJG_24_2023_06_24.txt\n",
      "Record already exists: voiceapp\\output\\summaries_folder\\mistral-small_20241213_125952\\CJG_24_2023_06_24-summary_4.txt -> C:/Users/G/Documents/GitHub/audycje.com.pl/content/audio\\CJG_24_2023_06_24.txt\n",
      "Record already exists: voiceapp\\output\\summaries_folder\\mistral-small_20241213_125952\\CJG_24_2023_06_24-summary_5.txt -> C:/Users/G/Documents/GitHub/audycje.com.pl/content/audio\\CJG_24_2023_06_24.txt\n",
      "Record already exists: voiceapp\\output\\summaries_folder\\mistral-small_20241213_125952\\CJG_24_2023_06_24-summary_1.txt -> C:/Users/G/Documents/GitHub/audycje.com.pl/content/audio\\CJG_24_2023_06_24.txt\n",
      "Record already exists: voiceapp\\output\\summaries_folder\\mistral-small_20241213_125952\\CJG_24_2023_06_24-summary_2.txt -> C:/Users/G/Documents/GitHub/audycje.com.pl/content/audio\\CJG_24_2023_06_24.txt\n",
      "Record already exists: voiceapp\\output\\summaries_folder\\mistral-small_20241213_125952\\CJG_24_2023_06_24-summary_3.txt -> C:/Users/G/Documents/GitHub/audycje.com.pl/content/audio\\CJG_24_2023_06_24.txt\n",
      "Record already exists: voiceapp\\output\\summaries_folder\\mistral-small_20241213_125952\\CJG_24_2023_06_24-summary_4.txt -> C:/Users/G/Documents/GitHub/audycje.com.pl/content/audio\\CJG_24_2023_06_24.txt\n"
     ]
    },
    {
     "name": "stderr",
     "output_type": "stream",
     "text": [
      "\n",
      "\n",
      "Summarizing files for mistral-small:  25%|███████████████████                                                          | 24/97 [1:39:32<5:00:51, 247.29s/it, file=CJG_23_2023_06_17.txt, summaries_count=15, time=245.00 seconds]\u001b[A\u001b[A\n",
      "\n",
      "Summarizing files for mistral-small:  25%|███████████████████                                                          | 24/97 [1:39:32<5:00:51, 247.29s/it, file=CJG_24_2023_06_24.txt, summaries_count=15, time=228.83 seconds]\u001b[A\u001b[A"
     ]
    },
    {
     "name": "stdout",
     "output_type": "stream",
     "text": [
      "Record already exists: voiceapp\\output\\summaries_folder\\mistral-small_20241213_125952\\CJG_24_2023_06_24-summary_5.txt -> C:/Users/G/Documents/GitHub/audycje.com.pl/content/audio\\CJG_24_2023_06_24.txt\n",
      "Record already exists: voiceapp\\output\\summaries_folder\\mistral-small_20241213_125952\\CJG_25_2023_07_01-summary_1.txt -> C:/Users/G/Documents/GitHub/audycje.com.pl/content/audio\\CJG_25_2023_07_01.txt\n",
      "Record already exists: voiceapp\\output\\summaries_folder\\mistral-small_20241213_125952\\CJG_25_2023_07_01-summary_2.txt -> C:/Users/G/Documents/GitHub/audycje.com.pl/content/audio\\CJG_25_2023_07_01.txt\n",
      "Record already exists: voiceapp\\output\\summaries_folder\\mistral-small_20241213_125952\\CJG_25_2023_07_01-summary_3.txt -> C:/Users/G/Documents/GitHub/audycje.com.pl/content/audio\\CJG_25_2023_07_01.txt\n",
      "Record already exists: voiceapp\\output\\summaries_folder\\mistral-small_20241213_125952\\CJG_25_2023_07_01-summary_4.txt -> C:/Users/G/Documents/GitHub/audycje.com.pl/content/audio\\CJG_25_2023_07_01.txt\n",
      "Record already exists: voiceapp\\output\\summaries_folder\\mistral-small_20241213_125952\\CJG_25_2023_07_01-summary_5.txt -> C:/Users/G/Documents/GitHub/audycje.com.pl/content/audio\\CJG_25_2023_07_01.txt\n",
      "Record already exists: voiceapp\\output\\summaries_folder\\mistral-small_20241213_125952\\CJG_25_2023_07_01-summary_1.txt -> C:/Users/G/Documents/GitHub/audycje.com.pl/content/audio\\CJG_25_2023_07_01.txt\n",
      "Record already exists: voiceapp\\output\\summaries_folder\\mistral-small_20241213_125952\\CJG_25_2023_07_01-summary_2.txt -> C:/Users/G/Documents/GitHub/audycje.com.pl/content/audio\\CJG_25_2023_07_01.txt\n",
      "Record already exists: voiceapp\\output\\summaries_folder\\mistral-small_20241213_125952\\CJG_25_2023_07_01-summary_3.txt -> C:/Users/G/Documents/GitHub/audycje.com.pl/content/audio\\CJG_25_2023_07_01.txt\n",
      "Record already exists: voiceapp\\output\\summaries_folder\\mistral-small_20241213_125952\\CJG_25_2023_07_01-summary_4.txt -> C:/Users/G/Documents/GitHub/audycje.com.pl/content/audio\\CJG_25_2023_07_01.txt\n",
      "Record already exists: voiceapp\\output\\summaries_folder\\mistral-small_20241213_125952\\CJG_25_2023_07_01-summary_5.txt -> C:/Users/G/Documents/GitHub/audycje.com.pl/content/audio\\CJG_25_2023_07_01.txt\n",
      "Record already exists: voiceapp\\output\\summaries_folder\\mistral-small_20241213_125952\\CJG_25_2023_07_01-summary_1.txt -> C:/Users/G/Documents/GitHub/audycje.com.pl/content/audio\\CJG_25_2023_07_01.txt\n",
      "Record already exists: voiceapp\\output\\summaries_folder\\mistral-small_20241213_125952\\CJG_25_2023_07_01-summary_2.txt -> C:/Users/G/Documents/GitHub/audycje.com.pl/content/audio\\CJG_25_2023_07_01.txt\n",
      "Record already exists: voiceapp\\output\\summaries_folder\\mistral-small_20241213_125952\\CJG_25_2023_07_01-summary_3.txt -> C:/Users/G/Documents/GitHub/audycje.com.pl/content/audio\\CJG_25_2023_07_01.txt\n",
      "Record already exists: voiceapp\\output\\summaries_folder\\mistral-small_20241213_125952\\CJG_25_2023_07_01-summary_4.txt -> C:/Users/G/Documents/GitHub/audycje.com.pl/content/audio\\CJG_25_2023_07_01.txt\n"
     ]
    },
    {
     "name": "stderr",
     "output_type": "stream",
     "text": [
      "\n",
      "\n",
      "Summarizing files for mistral-small:  26%|███████████████████▊                                                         | 25/97 [1:44:05<5:05:54, 254.92s/it, file=CJG_24_2023_06_24.txt, summaries_count=15, time=228.83 seconds]\u001b[A\u001b[A\n",
      "\n",
      "Summarizing files for mistral-small:  26%|███████████████████▊                                                         | 25/97 [1:44:05<5:05:54, 254.92s/it, file=CJG_25_2023_07_01.txt, summaries_count=20, time=272.74 seconds]\u001b[A\u001b[A"
     ]
    },
    {
     "name": "stdout",
     "output_type": "stream",
     "text": [
      "Record already exists: voiceapp\\output\\summaries_folder\\mistral-small_20241213_125952\\CJG_25_2023_07_01-summary_5.txt -> C:/Users/G/Documents/GitHub/audycje.com.pl/content/audio\\CJG_25_2023_07_01.txt\n",
      "Record already exists: voiceapp\\output\\summaries_folder\\mistral-small_20241213_125952\\CJG_26_2023_07_08-summary_1.txt -> C:/Users/G/Documents/GitHub/audycje.com.pl/content/audio\\CJG_26_2023_07_08.txt\n",
      "Record already exists: voiceapp\\output\\summaries_folder\\mistral-small_20241213_125952\\CJG_26_2023_07_08-summary_2.txt -> C:/Users/G/Documents/GitHub/audycje.com.pl/content/audio\\CJG_26_2023_07_08.txt\n",
      "Record already exists: voiceapp\\output\\summaries_folder\\mistral-small_20241213_125952\\CJG_26_2023_07_08-summary_3.txt -> C:/Users/G/Documents/GitHub/audycje.com.pl/content/audio\\CJG_26_2023_07_08.txt\n",
      "Record already exists: voiceapp\\output\\summaries_folder\\mistral-small_20241213_125952\\CJG_26_2023_07_08-summary_4.txt -> C:/Users/G/Documents/GitHub/audycje.com.pl/content/audio\\CJG_26_2023_07_08.txt\n",
      "Record already exists: voiceapp\\output\\summaries_folder\\mistral-small_20241213_125952\\CJG_26_2023_07_08-summary_5.txt -> C:/Users/G/Documents/GitHub/audycje.com.pl/content/audio\\CJG_26_2023_07_08.txt\n",
      "Record already exists: voiceapp\\output\\summaries_folder\\mistral-small_20241213_125952\\CJG_26_2023_07_08-summary_1.txt -> C:/Users/G/Documents/GitHub/audycje.com.pl/content/audio\\CJG_26_2023_07_08.txt\n",
      "Record already exists: voiceapp\\output\\summaries_folder\\mistral-small_20241213_125952\\CJG_26_2023_07_08-summary_2.txt -> C:/Users/G/Documents/GitHub/audycje.com.pl/content/audio\\CJG_26_2023_07_08.txt\n",
      "Record already exists: voiceapp\\output\\summaries_folder\\mistral-small_20241213_125952\\CJG_26_2023_07_08-summary_3.txt -> C:/Users/G/Documents/GitHub/audycje.com.pl/content/audio\\CJG_26_2023_07_08.txt\n",
      "Record already exists: voiceapp\\output\\summaries_folder\\mistral-small_20241213_125952\\CJG_26_2023_07_08-summary_4.txt -> C:/Users/G/Documents/GitHub/audycje.com.pl/content/audio\\CJG_26_2023_07_08.txt\n",
      "Record already exists: voiceapp\\output\\summaries_folder\\mistral-small_20241213_125952\\CJG_26_2023_07_08-summary_5.txt -> C:/Users/G/Documents/GitHub/audycje.com.pl/content/audio\\CJG_26_2023_07_08.txt\n",
      "Record already exists: voiceapp\\output\\summaries_folder\\mistral-small_20241213_125952\\CJG_26_2023_07_08-summary_1.txt -> C:/Users/G/Documents/GitHub/audycje.com.pl/content/audio\\CJG_26_2023_07_08.txt\n",
      "Record already exists: voiceapp\\output\\summaries_folder\\mistral-small_20241213_125952\\CJG_26_2023_07_08-summary_2.txt -> C:/Users/G/Documents/GitHub/audycje.com.pl/content/audio\\CJG_26_2023_07_08.txt\n",
      "Record already exists: voiceapp\\output\\summaries_folder\\mistral-small_20241213_125952\\CJG_26_2023_07_08-summary_3.txt -> C:/Users/G/Documents/GitHub/audycje.com.pl/content/audio\\CJG_26_2023_07_08.txt\n",
      "Record already exists: voiceapp\\output\\summaries_folder\\mistral-small_20241213_125952\\CJG_26_2023_07_08-summary_4.txt -> C:/Users/G/Documents/GitHub/audycje.com.pl/content/audio\\CJG_26_2023_07_08.txt\n"
     ]
    },
    {
     "name": "stderr",
     "output_type": "stream",
     "text": [
      "\n",
      "\n",
      "Summarizing files for mistral-small:  27%|████████████████████▋                                                        | 26/97 [1:48:58<5:15:05, 266.28s/it, file=CJG_25_2023_07_01.txt, summaries_count=20, time=272.74 seconds]\u001b[A\u001b[A\n",
      "\n",
      "Summarizing files for mistral-small:  27%|████████████████████▋                                                        | 26/97 [1:48:58<5:15:05, 266.28s/it, file=CJG_26_2023_07_08.txt, summaries_count=20, time=292.76 seconds]\u001b[A\u001b[A"
     ]
    },
    {
     "name": "stdout",
     "output_type": "stream",
     "text": [
      "Record already exists: voiceapp\\output\\summaries_folder\\mistral-small_20241213_125952\\CJG_26_2023_07_08-summary_5.txt -> C:/Users/G/Documents/GitHub/audycje.com.pl/content/audio\\CJG_26_2023_07_08.txt\n",
      "Record already exists: voiceapp\\output\\summaries_folder\\mistral-small_20241213_125952\\CJG_27_2023_07_15-summary_1.txt -> C:/Users/G/Documents/GitHub/audycje.com.pl/content/audio\\CJG_27_2023_07_15.txt\n",
      "Record already exists: voiceapp\\output\\summaries_folder\\mistral-small_20241213_125952\\CJG_27_2023_07_15-summary_2.txt -> C:/Users/G/Documents/GitHub/audycje.com.pl/content/audio\\CJG_27_2023_07_15.txt\n",
      "Record already exists: voiceapp\\output\\summaries_folder\\mistral-small_20241213_125952\\CJG_27_2023_07_15-summary_3.txt -> C:/Users/G/Documents/GitHub/audycje.com.pl/content/audio\\CJG_27_2023_07_15.txt\n",
      "Record already exists: voiceapp\\output\\summaries_folder\\mistral-small_20241213_125952\\CJG_27_2023_07_15-summary_4.txt -> C:/Users/G/Documents/GitHub/audycje.com.pl/content/audio\\CJG_27_2023_07_15.txt\n",
      "Record already exists: voiceapp\\output\\summaries_folder\\mistral-small_20241213_125952\\CJG_27_2023_07_15-summary_5.txt -> C:/Users/G/Documents/GitHub/audycje.com.pl/content/audio\\CJG_27_2023_07_15.txt\n",
      "Record already exists: voiceapp\\output\\summaries_folder\\mistral-small_20241213_125952\\CJG_27_2023_07_15-summary_1.txt -> C:/Users/G/Documents/GitHub/audycje.com.pl/content/audio\\CJG_27_2023_07_15.txt\n",
      "Record already exists: voiceapp\\output\\summaries_folder\\mistral-small_20241213_125952\\CJG_27_2023_07_15-summary_2.txt -> C:/Users/G/Documents/GitHub/audycje.com.pl/content/audio\\CJG_27_2023_07_15.txt\n",
      "Record already exists: voiceapp\\output\\summaries_folder\\mistral-small_20241213_125952\\CJG_27_2023_07_15-summary_3.txt -> C:/Users/G/Documents/GitHub/audycje.com.pl/content/audio\\CJG_27_2023_07_15.txt\n",
      "Record already exists: voiceapp\\output\\summaries_folder\\mistral-small_20241213_125952\\CJG_27_2023_07_15-summary_4.txt -> C:/Users/G/Documents/GitHub/audycje.com.pl/content/audio\\CJG_27_2023_07_15.txt\n",
      "Record already exists: voiceapp\\output\\summaries_folder\\mistral-small_20241213_125952\\CJG_27_2023_07_15-summary_5.txt -> C:/Users/G/Documents/GitHub/audycje.com.pl/content/audio\\CJG_27_2023_07_15.txt\n",
      "Record already exists: voiceapp\\output\\summaries_folder\\mistral-small_20241213_125952\\CJG_27_2023_07_15-summary_1.txt -> C:/Users/G/Documents/GitHub/audycje.com.pl/content/audio\\CJG_27_2023_07_15.txt\n",
      "Record already exists: voiceapp\\output\\summaries_folder\\mistral-small_20241213_125952\\CJG_27_2023_07_15-summary_2.txt -> C:/Users/G/Documents/GitHub/audycje.com.pl/content/audio\\CJG_27_2023_07_15.txt\n",
      "Record already exists: voiceapp\\output\\summaries_folder\\mistral-small_20241213_125952\\CJG_27_2023_07_15-summary_3.txt -> C:/Users/G/Documents/GitHub/audycje.com.pl/content/audio\\CJG_27_2023_07_15.txt\n",
      "Record already exists: voiceapp\\output\\summaries_folder\\mistral-small_20241213_125952\\CJG_27_2023_07_15-summary_4.txt -> C:/Users/G/Documents/GitHub/audycje.com.pl/content/audio\\CJG_27_2023_07_15.txt\n"
     ]
    },
    {
     "name": "stderr",
     "output_type": "stream",
     "text": [
      "\n",
      "\n",
      "Summarizing files for mistral-small:  28%|█████████████████████▍                                                       | 27/97 [1:53:33<5:13:40, 268.87s/it, file=CJG_26_2023_07_08.txt, summaries_count=20, time=292.76 seconds]\u001b[A\u001b[A\n",
      "\n",
      "Summarizing files for mistral-small:  28%|█████████████████████▍                                                       | 27/97 [1:53:33<5:13:40, 268.87s/it, file=CJG_27_2023_07_15.txt, summaries_count=20, time=274.90 seconds]\u001b[A\u001b[A"
     ]
    },
    {
     "name": "stdout",
     "output_type": "stream",
     "text": [
      "Record already exists: voiceapp\\output\\summaries_folder\\mistral-small_20241213_125952\\CJG_27_2023_07_15-summary_5.txt -> C:/Users/G/Documents/GitHub/audycje.com.pl/content/audio\\CJG_27_2023_07_15.txt\n",
      "Record already exists: voiceapp\\output\\summaries_folder\\mistral-small_20241213_125952\\CJG_28_2023_07_22-summary_1.txt -> C:/Users/G/Documents/GitHub/audycje.com.pl/content/audio\\CJG_28_2023_07_22.txt\n",
      "Record already exists: voiceapp\\output\\summaries_folder\\mistral-small_20241213_125952\\CJG_28_2023_07_22-summary_2.txt -> C:/Users/G/Documents/GitHub/audycje.com.pl/content/audio\\CJG_28_2023_07_22.txt\n",
      "Record already exists: voiceapp\\output\\summaries_folder\\mistral-small_20241213_125952\\CJG_28_2023_07_22-summary_3.txt -> C:/Users/G/Documents/GitHub/audycje.com.pl/content/audio\\CJG_28_2023_07_22.txt\n",
      "Record already exists: voiceapp\\output\\summaries_folder\\mistral-small_20241213_125952\\CJG_28_2023_07_22-summary_4.txt -> C:/Users/G/Documents/GitHub/audycje.com.pl/content/audio\\CJG_28_2023_07_22.txt\n",
      "Record already exists: voiceapp\\output\\summaries_folder\\mistral-small_20241213_125952\\CJG_28_2023_07_22-summary_5.txt -> C:/Users/G/Documents/GitHub/audycje.com.pl/content/audio\\CJG_28_2023_07_22.txt\n",
      "Record already exists: voiceapp\\output\\summaries_folder\\mistral-small_20241213_125952\\CJG_28_2023_07_22-summary_1.txt -> C:/Users/G/Documents/GitHub/audycje.com.pl/content/audio\\CJG_28_2023_07_22.txt\n",
      "Record already exists: voiceapp\\output\\summaries_folder\\mistral-small_20241213_125952\\CJG_28_2023_07_22-summary_2.txt -> C:/Users/G/Documents/GitHub/audycje.com.pl/content/audio\\CJG_28_2023_07_22.txt\n",
      "Record already exists: voiceapp\\output\\summaries_folder\\mistral-small_20241213_125952\\CJG_28_2023_07_22-summary_3.txt -> C:/Users/G/Documents/GitHub/audycje.com.pl/content/audio\\CJG_28_2023_07_22.txt\n",
      "Record already exists: voiceapp\\output\\summaries_folder\\mistral-small_20241213_125952\\CJG_28_2023_07_22-summary_4.txt -> C:/Users/G/Documents/GitHub/audycje.com.pl/content/audio\\CJG_28_2023_07_22.txt\n"
     ]
    },
    {
     "name": "stderr",
     "output_type": "stream",
     "text": [
      "\n",
      "\n",
      "Summarizing files for mistral-small:  29%|██████████████████████▏                                                      | 28/97 [1:57:18<4:54:21, 255.96s/it, file=CJG_27_2023_07_15.txt, summaries_count=20, time=274.90 seconds]\u001b[A\u001b[A\n",
      "\n",
      "Summarizing files for mistral-small:  29%|██████████████████████▏                                                      | 28/97 [1:57:18<4:54:21, 255.96s/it, file=CJG_28_2023_07_22.txt, summaries_count=15, time=225.86 seconds]\u001b[A\u001b[A"
     ]
    },
    {
     "name": "stdout",
     "output_type": "stream",
     "text": [
      "Record already exists: voiceapp\\output\\summaries_folder\\mistral-small_20241213_125952\\CJG_28_2023_07_22-summary_5.txt -> C:/Users/G/Documents/GitHub/audycje.com.pl/content/audio\\CJG_28_2023_07_22.txt\n",
      "Record already exists: voiceapp\\output\\summaries_folder\\mistral-small_20241213_125952\\CJG_29_2023_07_29-summary_1.txt -> C:/Users/G/Documents/GitHub/audycje.com.pl/content/audio\\CJG_29_2023_07_29.txt\n",
      "Record already exists: voiceapp\\output\\summaries_folder\\mistral-small_20241213_125952\\CJG_29_2023_07_29-summary_2.txt -> C:/Users/G/Documents/GitHub/audycje.com.pl/content/audio\\CJG_29_2023_07_29.txt\n",
      "Record already exists: voiceapp\\output\\summaries_folder\\mistral-small_20241213_125952\\CJG_29_2023_07_29-summary_3.txt -> C:/Users/G/Documents/GitHub/audycje.com.pl/content/audio\\CJG_29_2023_07_29.txt\n",
      "Record already exists: voiceapp\\output\\summaries_folder\\mistral-small_20241213_125952\\CJG_29_2023_07_29-summary_4.txt -> C:/Users/G/Documents/GitHub/audycje.com.pl/content/audio\\CJG_29_2023_07_29.txt\n",
      "Record already exists: voiceapp\\output\\summaries_folder\\mistral-small_20241213_125952\\CJG_29_2023_07_29-summary_5.txt -> C:/Users/G/Documents/GitHub/audycje.com.pl/content/audio\\CJG_29_2023_07_29.txt\n",
      "Record already exists: voiceapp\\output\\summaries_folder\\mistral-small_20241213_125952\\CJG_29_2023_07_29-summary_1.txt -> C:/Users/G/Documents/GitHub/audycje.com.pl/content/audio\\CJG_29_2023_07_29.txt\n",
      "Record already exists: voiceapp\\output\\summaries_folder\\mistral-small_20241213_125952\\CJG_29_2023_07_29-summary_2.txt -> C:/Users/G/Documents/GitHub/audycje.com.pl/content/audio\\CJG_29_2023_07_29.txt\n",
      "Record already exists: voiceapp\\output\\summaries_folder\\mistral-small_20241213_125952\\CJG_29_2023_07_29-summary_3.txt -> C:/Users/G/Documents/GitHub/audycje.com.pl/content/audio\\CJG_29_2023_07_29.txt\n",
      "Record already exists: voiceapp\\output\\summaries_folder\\mistral-small_20241213_125952\\CJG_29_2023_07_29-summary_4.txt -> C:/Users/G/Documents/GitHub/audycje.com.pl/content/audio\\CJG_29_2023_07_29.txt\n",
      "Record already exists: voiceapp\\output\\summaries_folder\\mistral-small_20241213_125952\\CJG_29_2023_07_29-summary_5.txt -> C:/Users/G/Documents/GitHub/audycje.com.pl/content/audio\\CJG_29_2023_07_29.txt\n",
      "Record already exists: voiceapp\\output\\summaries_folder\\mistral-small_20241213_125952\\CJG_29_2023_07_29-summary_1.txt -> C:/Users/G/Documents/GitHub/audycje.com.pl/content/audio\\CJG_29_2023_07_29.txt\n",
      "Record already exists: voiceapp\\output\\summaries_folder\\mistral-small_20241213_125952\\CJG_29_2023_07_29-summary_2.txt -> C:/Users/G/Documents/GitHub/audycje.com.pl/content/audio\\CJG_29_2023_07_29.txt\n",
      "Record already exists: voiceapp\\output\\summaries_folder\\mistral-small_20241213_125952\\CJG_29_2023_07_29-summary_3.txt -> C:/Users/G/Documents/GitHub/audycje.com.pl/content/audio\\CJG_29_2023_07_29.txt\n",
      "Record already exists: voiceapp\\output\\summaries_folder\\mistral-small_20241213_125952\\CJG_29_2023_07_29-summary_4.txt -> C:/Users/G/Documents/GitHub/audycje.com.pl/content/audio\\CJG_29_2023_07_29.txt\n"
     ]
    },
    {
     "name": "stderr",
     "output_type": "stream",
     "text": [
      "\n",
      "\n",
      "Summarizing files for mistral-small:  30%|███████████████████████                                                      | 29/97 [2:02:21<5:05:59, 270.00s/it, file=CJG_28_2023_07_22.txt, summaries_count=15, time=225.86 seconds]\u001b[A\u001b[A\n",
      "\n",
      "Summarizing files for mistral-small:  30%|███████████████████████                                                      | 29/97 [2:02:21<5:05:59, 270.00s/it, file=CJG_29_2023_07_29.txt, summaries_count=20, time=302.74 seconds]\u001b[A\u001b[A"
     ]
    },
    {
     "name": "stdout",
     "output_type": "stream",
     "text": [
      "Record already exists: voiceapp\\output\\summaries_folder\\mistral-small_20241213_125952\\CJG_29_2023_07_29-summary_5.txt -> C:/Users/G/Documents/GitHub/audycje.com.pl/content/audio\\CJG_29_2023_07_29.txt\n",
      "Record already exists: voiceapp\\output\\summaries_folder\\mistral-small_20241213_125952\\CJG_30_2023_08_05-summary_1.txt -> C:/Users/G/Documents/GitHub/audycje.com.pl/content/audio\\CJG_30_2023_08_05.txt\n",
      "Record already exists: voiceapp\\output\\summaries_folder\\mistral-small_20241213_125952\\CJG_30_2023_08_05-summary_2.txt -> C:/Users/G/Documents/GitHub/audycje.com.pl/content/audio\\CJG_30_2023_08_05.txt\n",
      "Record already exists: voiceapp\\output\\summaries_folder\\mistral-small_20241213_125952\\CJG_30_2023_08_05-summary_3.txt -> C:/Users/G/Documents/GitHub/audycje.com.pl/content/audio\\CJG_30_2023_08_05.txt\n",
      "Record already exists: voiceapp\\output\\summaries_folder\\mistral-small_20241213_125952\\CJG_30_2023_08_05-summary_4.txt -> C:/Users/G/Documents/GitHub/audycje.com.pl/content/audio\\CJG_30_2023_08_05.txt\n",
      "Record already exists: voiceapp\\output\\summaries_folder\\mistral-small_20241213_125952\\CJG_30_2023_08_05-summary_5.txt -> C:/Users/G/Documents/GitHub/audycje.com.pl/content/audio\\CJG_30_2023_08_05.txt\n",
      "Record already exists: voiceapp\\output\\summaries_folder\\mistral-small_20241213_125952\\CJG_30_2023_08_05-summary_1.txt -> C:/Users/G/Documents/GitHub/audycje.com.pl/content/audio\\CJG_30_2023_08_05.txt\n",
      "Record already exists: voiceapp\\output\\summaries_folder\\mistral-small_20241213_125952\\CJG_30_2023_08_05-summary_2.txt -> C:/Users/G/Documents/GitHub/audycje.com.pl/content/audio\\CJG_30_2023_08_05.txt\n",
      "Record already exists: voiceapp\\output\\summaries_folder\\mistral-small_20241213_125952\\CJG_30_2023_08_05-summary_3.txt -> C:/Users/G/Documents/GitHub/audycje.com.pl/content/audio\\CJG_30_2023_08_05.txt\n",
      "Record already exists: voiceapp\\output\\summaries_folder\\mistral-small_20241213_125952\\CJG_30_2023_08_05-summary_4.txt -> C:/Users/G/Documents/GitHub/audycje.com.pl/content/audio\\CJG_30_2023_08_05.txt\n",
      "Record already exists: voiceapp\\output\\summaries_folder\\mistral-small_20241213_125952\\CJG_30_2023_08_05-summary_5.txt -> C:/Users/G/Documents/GitHub/audycje.com.pl/content/audio\\CJG_30_2023_08_05.txt\n",
      "Record already exists: voiceapp\\output\\summaries_folder\\mistral-small_20241213_125952\\CJG_30_2023_08_05-summary_1.txt -> C:/Users/G/Documents/GitHub/audycje.com.pl/content/audio\\CJG_30_2023_08_05.txt\n",
      "Record already exists: voiceapp\\output\\summaries_folder\\mistral-small_20241213_125952\\CJG_30_2023_08_05-summary_2.txt -> C:/Users/G/Documents/GitHub/audycje.com.pl/content/audio\\CJG_30_2023_08_05.txt\n",
      "Record already exists: voiceapp\\output\\summaries_folder\\mistral-small_20241213_125952\\CJG_30_2023_08_05-summary_3.txt -> C:/Users/G/Documents/GitHub/audycje.com.pl/content/audio\\CJG_30_2023_08_05.txt\n",
      "Record already exists: voiceapp\\output\\summaries_folder\\mistral-small_20241213_125952\\CJG_30_2023_08_05-summary_4.txt -> C:/Users/G/Documents/GitHub/audycje.com.pl/content/audio\\CJG_30_2023_08_05.txt\n"
     ]
    },
    {
     "name": "stderr",
     "output_type": "stream",
     "text": [
      "\n",
      "\n",
      "Summarizing files for mistral-small:  31%|███████████████████████▊                                                     | 30/97 [2:07:23<5:12:01, 279.43s/it, file=CJG_29_2023_07_29.txt, summaries_count=20, time=302.74 seconds]\u001b[A\u001b[A\n",
      "\n",
      "Summarizing files for mistral-small:  31%|███████████████████████▊                                                     | 30/97 [2:07:23<5:12:01, 279.43s/it, file=CJG_30_2023_08_05.txt, summaries_count=20, time=301.43 seconds]\u001b[A\u001b[A"
     ]
    },
    {
     "name": "stdout",
     "output_type": "stream",
     "text": [
      "Record already exists: voiceapp\\output\\summaries_folder\\mistral-small_20241213_125952\\CJG_30_2023_08_05-summary_5.txt -> C:/Users/G/Documents/GitHub/audycje.com.pl/content/audio\\CJG_30_2023_08_05.txt\n",
      "Record already exists: voiceapp\\output\\summaries_folder\\mistral-small_20241213_125952\\CJG_31_2023_09_09-summary_1.txt -> C:/Users/G/Documents/GitHub/audycje.com.pl/content/audio\\CJG_31_2023_09_09.txt\n",
      "Record already exists: voiceapp\\output\\summaries_folder\\mistral-small_20241213_125952\\CJG_31_2023_09_09-summary_2.txt -> C:/Users/G/Documents/GitHub/audycje.com.pl/content/audio\\CJG_31_2023_09_09.txt\n",
      "Record already exists: voiceapp\\output\\summaries_folder\\mistral-small_20241213_125952\\CJG_31_2023_09_09-summary_3.txt -> C:/Users/G/Documents/GitHub/audycje.com.pl/content/audio\\CJG_31_2023_09_09.txt\n",
      "Record already exists: voiceapp\\output\\summaries_folder\\mistral-small_20241213_125952\\CJG_31_2023_09_09-summary_4.txt -> C:/Users/G/Documents/GitHub/audycje.com.pl/content/audio\\CJG_31_2023_09_09.txt\n",
      "Record already exists: voiceapp\\output\\summaries_folder\\mistral-small_20241213_125952\\CJG_31_2023_09_09-summary_5.txt -> C:/Users/G/Documents/GitHub/audycje.com.pl/content/audio\\CJG_31_2023_09_09.txt\n",
      "Record already exists: voiceapp\\output\\summaries_folder\\mistral-small_20241213_125952\\CJG_31_2023_09_09-summary_1.txt -> C:/Users/G/Documents/GitHub/audycje.com.pl/content/audio\\CJG_31_2023_09_09.txt\n",
      "Record already exists: voiceapp\\output\\summaries_folder\\mistral-small_20241213_125952\\CJG_31_2023_09_09-summary_2.txt -> C:/Users/G/Documents/GitHub/audycje.com.pl/content/audio\\CJG_31_2023_09_09.txt\n",
      "Record already exists: voiceapp\\output\\summaries_folder\\mistral-small_20241213_125952\\CJG_31_2023_09_09-summary_3.txt -> C:/Users/G/Documents/GitHub/audycje.com.pl/content/audio\\CJG_31_2023_09_09.txt\n",
      "Record already exists: voiceapp\\output\\summaries_folder\\mistral-small_20241213_125952\\CJG_31_2023_09_09-summary_4.txt -> C:/Users/G/Documents/GitHub/audycje.com.pl/content/audio\\CJG_31_2023_09_09.txt\n",
      "Record already exists: voiceapp\\output\\summaries_folder\\mistral-small_20241213_125952\\CJG_31_2023_09_09-summary_5.txt -> C:/Users/G/Documents/GitHub/audycje.com.pl/content/audio\\CJG_31_2023_09_09.txt\n",
      "Record already exists: voiceapp\\output\\summaries_folder\\mistral-small_20241213_125952\\CJG_31_2023_09_09-summary_1.txt -> C:/Users/G/Documents/GitHub/audycje.com.pl/content/audio\\CJG_31_2023_09_09.txt\n",
      "Record already exists: voiceapp\\output\\summaries_folder\\mistral-small_20241213_125952\\CJG_31_2023_09_09-summary_2.txt -> C:/Users/G/Documents/GitHub/audycje.com.pl/content/audio\\CJG_31_2023_09_09.txt\n",
      "Record already exists: voiceapp\\output\\summaries_folder\\mistral-small_20241213_125952\\CJG_31_2023_09_09-summary_3.txt -> C:/Users/G/Documents/GitHub/audycje.com.pl/content/audio\\CJG_31_2023_09_09.txt\n",
      "Record already exists: voiceapp\\output\\summaries_folder\\mistral-small_20241213_125952\\CJG_31_2023_09_09-summary_4.txt -> C:/Users/G/Documents/GitHub/audycje.com.pl/content/audio\\CJG_31_2023_09_09.txt\n"
     ]
    },
    {
     "name": "stderr",
     "output_type": "stream",
     "text": [
      "\n",
      "\n",
      "Summarizing files for mistral-small:  32%|████████████████████████▌                                                    | 31/97 [2:12:27<5:15:45, 287.05s/it, file=CJG_30_2023_08_05.txt, summaries_count=20, time=301.43 seconds]\u001b[A\u001b[A\n",
      "\n",
      "Summarizing files for mistral-small:  32%|████████████████████████▌                                                    | 31/97 [2:12:27<5:15:45, 287.05s/it, file=CJG_31_2023_09_09.txt, summaries_count=20, time=304.84 seconds]\u001b[A\u001b[A"
     ]
    },
    {
     "name": "stdout",
     "output_type": "stream",
     "text": [
      "Record already exists: voiceapp\\output\\summaries_folder\\mistral-small_20241213_125952\\CJG_31_2023_09_09-summary_5.txt -> C:/Users/G/Documents/GitHub/audycje.com.pl/content/audio\\CJG_31_2023_09_09.txt\n",
      "Record already exists: voiceapp\\output\\summaries_folder\\mistral-small_20241213_125952\\CJG_32_2023_09_16-summary_1.txt -> C:/Users/G/Documents/GitHub/audycje.com.pl/content/audio\\CJG_32_2023_09_16.txt\n",
      "Record already exists: voiceapp\\output\\summaries_folder\\mistral-small_20241213_125952\\CJG_32_2023_09_16-summary_2.txt -> C:/Users/G/Documents/GitHub/audycje.com.pl/content/audio\\CJG_32_2023_09_16.txt\n",
      "Record already exists: voiceapp\\output\\summaries_folder\\mistral-small_20241213_125952\\CJG_32_2023_09_16-summary_3.txt -> C:/Users/G/Documents/GitHub/audycje.com.pl/content/audio\\CJG_32_2023_09_16.txt\n",
      "Record already exists: voiceapp\\output\\summaries_folder\\mistral-small_20241213_125952\\CJG_32_2023_09_16-summary_4.txt -> C:/Users/G/Documents/GitHub/audycje.com.pl/content/audio\\CJG_32_2023_09_16.txt\n",
      "Record already exists: voiceapp\\output\\summaries_folder\\mistral-small_20241213_125952\\CJG_32_2023_09_16-summary_5.txt -> C:/Users/G/Documents/GitHub/audycje.com.pl/content/audio\\CJG_32_2023_09_16.txt\n",
      "Record already exists: voiceapp\\output\\summaries_folder\\mistral-small_20241213_125952\\CJG_32_2023_09_16-summary_1.txt -> C:/Users/G/Documents/GitHub/audycje.com.pl/content/audio\\CJG_32_2023_09_16.txt\n",
      "Record already exists: voiceapp\\output\\summaries_folder\\mistral-small_20241213_125952\\CJG_32_2023_09_16-summary_2.txt -> C:/Users/G/Documents/GitHub/audycje.com.pl/content/audio\\CJG_32_2023_09_16.txt\n",
      "Record already exists: voiceapp\\output\\summaries_folder\\mistral-small_20241213_125952\\CJG_32_2023_09_16-summary_3.txt -> C:/Users/G/Documents/GitHub/audycje.com.pl/content/audio\\CJG_32_2023_09_16.txt\n",
      "Record already exists: voiceapp\\output\\summaries_folder\\mistral-small_20241213_125952\\CJG_32_2023_09_16-summary_4.txt -> C:/Users/G/Documents/GitHub/audycje.com.pl/content/audio\\CJG_32_2023_09_16.txt\n",
      "Record already exists: voiceapp\\output\\summaries_folder\\mistral-small_20241213_125952\\CJG_32_2023_09_16-summary_5.txt -> C:/Users/G/Documents/GitHub/audycje.com.pl/content/audio\\CJG_32_2023_09_16.txt\n",
      "Record already exists: voiceapp\\output\\summaries_folder\\mistral-small_20241213_125952\\CJG_32_2023_09_16-summary_1.txt -> C:/Users/G/Documents/GitHub/audycje.com.pl/content/audio\\CJG_32_2023_09_16.txt\n",
      "Record already exists: voiceapp\\output\\summaries_folder\\mistral-small_20241213_125952\\CJG_32_2023_09_16-summary_2.txt -> C:/Users/G/Documents/GitHub/audycje.com.pl/content/audio\\CJG_32_2023_09_16.txt\n",
      "Record already exists: voiceapp\\output\\summaries_folder\\mistral-small_20241213_125952\\CJG_32_2023_09_16-summary_3.txt -> C:/Users/G/Documents/GitHub/audycje.com.pl/content/audio\\CJG_32_2023_09_16.txt\n",
      "Record already exists: voiceapp\\output\\summaries_folder\\mistral-small_20241213_125952\\CJG_32_2023_09_16-summary_4.txt -> C:/Users/G/Documents/GitHub/audycje.com.pl/content/audio\\CJG_32_2023_09_16.txt\n"
     ]
    },
    {
     "name": "stderr",
     "output_type": "stream",
     "text": [
      "\n",
      "\n",
      "Summarizing files for mistral-small:  33%|█████████████████████████▍                                                   | 32/97 [2:17:24<5:14:13, 290.05s/it, file=CJG_31_2023_09_09.txt, summaries_count=20, time=304.84 seconds]\u001b[A\u001b[A\n",
      "\n",
      "Summarizing files for mistral-small:  33%|█████████████████████████▍                                                   | 32/97 [2:17:24<5:14:13, 290.05s/it, file=CJG_32_2023_09_16.txt, summaries_count=20, time=297.05 seconds]\u001b[A\u001b[A"
     ]
    },
    {
     "name": "stdout",
     "output_type": "stream",
     "text": [
      "Record already exists: voiceapp\\output\\summaries_folder\\mistral-small_20241213_125952\\CJG_32_2023_09_16-summary_5.txt -> C:/Users/G/Documents/GitHub/audycje.com.pl/content/audio\\CJG_32_2023_09_16.txt\n",
      "Record already exists: voiceapp\\output\\summaries_folder\\mistral-small_20241213_125952\\CJG_33_2023_09_23-summary_1.txt -> C:/Users/G/Documents/GitHub/audycje.com.pl/content/audio\\CJG_33_2023_09_23.txt\n",
      "Record already exists: voiceapp\\output\\summaries_folder\\mistral-small_20241213_125952\\CJG_33_2023_09_23-summary_2.txt -> C:/Users/G/Documents/GitHub/audycje.com.pl/content/audio\\CJG_33_2023_09_23.txt\n",
      "Record already exists: voiceapp\\output\\summaries_folder\\mistral-small_20241213_125952\\CJG_33_2023_09_23-summary_3.txt -> C:/Users/G/Documents/GitHub/audycje.com.pl/content/audio\\CJG_33_2023_09_23.txt\n",
      "Record already exists: voiceapp\\output\\summaries_folder\\mistral-small_20241213_125952\\CJG_33_2023_09_23-summary_4.txt -> C:/Users/G/Documents/GitHub/audycje.com.pl/content/audio\\CJG_33_2023_09_23.txt\n",
      "Record already exists: voiceapp\\output\\summaries_folder\\mistral-small_20241213_125952\\CJG_33_2023_09_23-summary_5.txt -> C:/Users/G/Documents/GitHub/audycje.com.pl/content/audio\\CJG_33_2023_09_23.txt\n",
      "Record already exists: voiceapp\\output\\summaries_folder\\mistral-small_20241213_125952\\CJG_33_2023_09_23-summary_1.txt -> C:/Users/G/Documents/GitHub/audycje.com.pl/content/audio\\CJG_33_2023_09_23.txt\n",
      "Record already exists: voiceapp\\output\\summaries_folder\\mistral-small_20241213_125952\\CJG_33_2023_09_23-summary_2.txt -> C:/Users/G/Documents/GitHub/audycje.com.pl/content/audio\\CJG_33_2023_09_23.txt\n",
      "Record already exists: voiceapp\\output\\summaries_folder\\mistral-small_20241213_125952\\CJG_33_2023_09_23-summary_3.txt -> C:/Users/G/Documents/GitHub/audycje.com.pl/content/audio\\CJG_33_2023_09_23.txt\n",
      "Record already exists: voiceapp\\output\\summaries_folder\\mistral-small_20241213_125952\\CJG_33_2023_09_23-summary_4.txt -> C:/Users/G/Documents/GitHub/audycje.com.pl/content/audio\\CJG_33_2023_09_23.txt\n",
      "Record already exists: voiceapp\\output\\summaries_folder\\mistral-small_20241213_125952\\CJG_33_2023_09_23-summary_5.txt -> C:/Users/G/Documents/GitHub/audycje.com.pl/content/audio\\CJG_33_2023_09_23.txt\n",
      "Record already exists: voiceapp\\output\\summaries_folder\\mistral-small_20241213_125952\\CJG_33_2023_09_23-summary_1.txt -> C:/Users/G/Documents/GitHub/audycje.com.pl/content/audio\\CJG_33_2023_09_23.txt\n",
      "Record already exists: voiceapp\\output\\summaries_folder\\mistral-small_20241213_125952\\CJG_33_2023_09_23-summary_2.txt -> C:/Users/G/Documents/GitHub/audycje.com.pl/content/audio\\CJG_33_2023_09_23.txt\n",
      "Record already exists: voiceapp\\output\\summaries_folder\\mistral-small_20241213_125952\\CJG_33_2023_09_23-summary_3.txt -> C:/Users/G/Documents/GitHub/audycje.com.pl/content/audio\\CJG_33_2023_09_23.txt\n",
      "Record already exists: voiceapp\\output\\summaries_folder\\mistral-small_20241213_125952\\CJG_33_2023_09_23-summary_4.txt -> C:/Users/G/Documents/GitHub/audycje.com.pl/content/audio\\CJG_33_2023_09_23.txt\n"
     ]
    },
    {
     "name": "stderr",
     "output_type": "stream",
     "text": [
      "\n",
      "\n",
      "Summarizing files for mistral-small:  34%|██████████████████████████▏                                                  | 33/97 [2:22:39<5:17:07, 297.30s/it, file=CJG_32_2023_09_16.txt, summaries_count=20, time=297.05 seconds]\u001b[A\u001b[A\n",
      "\n",
      "Summarizing files for mistral-small:  34%|██████████████████████████▏                                                  | 33/97 [2:22:39<5:17:07, 297.30s/it, file=CJG_33_2023_09_23.txt, summaries_count=20, time=314.20 seconds]\u001b[A\u001b[A"
     ]
    },
    {
     "name": "stdout",
     "output_type": "stream",
     "text": [
      "Record already exists: voiceapp\\output\\summaries_folder\\mistral-small_20241213_125952\\CJG_33_2023_09_23-summary_5.txt -> C:/Users/G/Documents/GitHub/audycje.com.pl/content/audio\\CJG_33_2023_09_23.txt\n",
      "Record already exists: voiceapp\\output\\summaries_folder\\mistral-small_20241213_125952\\CJG_34_2023_09_30-summary_1.txt -> C:/Users/G/Documents/GitHub/audycje.com.pl/content/audio\\CJG_34_2023_09_30.txt\n",
      "Record already exists: voiceapp\\output\\summaries_folder\\mistral-small_20241213_125952\\CJG_34_2023_09_30-summary_2.txt -> C:/Users/G/Documents/GitHub/audycje.com.pl/content/audio\\CJG_34_2023_09_30.txt\n",
      "Record already exists: voiceapp\\output\\summaries_folder\\mistral-small_20241213_125952\\CJG_34_2023_09_30-summary_3.txt -> C:/Users/G/Documents/GitHub/audycje.com.pl/content/audio\\CJG_34_2023_09_30.txt\n",
      "Record already exists: voiceapp\\output\\summaries_folder\\mistral-small_20241213_125952\\CJG_34_2023_09_30-summary_4.txt -> C:/Users/G/Documents/GitHub/audycje.com.pl/content/audio\\CJG_34_2023_09_30.txt\n",
      "Record already exists: voiceapp\\output\\summaries_folder\\mistral-small_20241213_125952\\CJG_34_2023_09_30-summary_5.txt -> C:/Users/G/Documents/GitHub/audycje.com.pl/content/audio\\CJG_34_2023_09_30.txt\n",
      "Record already exists: voiceapp\\output\\summaries_folder\\mistral-small_20241213_125952\\CJG_34_2023_09_30-summary_1.txt -> C:/Users/G/Documents/GitHub/audycje.com.pl/content/audio\\CJG_34_2023_09_30.txt\n",
      "Record already exists: voiceapp\\output\\summaries_folder\\mistral-small_20241213_125952\\CJG_34_2023_09_30-summary_2.txt -> C:/Users/G/Documents/GitHub/audycje.com.pl/content/audio\\CJG_34_2023_09_30.txt\n",
      "Record already exists: voiceapp\\output\\summaries_folder\\mistral-small_20241213_125952\\CJG_34_2023_09_30-summary_3.txt -> C:/Users/G/Documents/GitHub/audycje.com.pl/content/audio\\CJG_34_2023_09_30.txt\n",
      "Record already exists: voiceapp\\output\\summaries_folder\\mistral-small_20241213_125952\\CJG_34_2023_09_30-summary_4.txt -> C:/Users/G/Documents/GitHub/audycje.com.pl/content/audio\\CJG_34_2023_09_30.txt\n",
      "Record already exists: voiceapp\\output\\summaries_folder\\mistral-small_20241213_125952\\CJG_34_2023_09_30-summary_5.txt -> C:/Users/G/Documents/GitHub/audycje.com.pl/content/audio\\CJG_34_2023_09_30.txt\n",
      "Record already exists: voiceapp\\output\\summaries_folder\\mistral-small_20241213_125952\\CJG_34_2023_09_30-summary_1.txt -> C:/Users/G/Documents/GitHub/audycje.com.pl/content/audio\\CJG_34_2023_09_30.txt\n",
      "Record already exists: voiceapp\\output\\summaries_folder\\mistral-small_20241213_125952\\CJG_34_2023_09_30-summary_2.txt -> C:/Users/G/Documents/GitHub/audycje.com.pl/content/audio\\CJG_34_2023_09_30.txt\n",
      "Record already exists: voiceapp\\output\\summaries_folder\\mistral-small_20241213_125952\\CJG_34_2023_09_30-summary_3.txt -> C:/Users/G/Documents/GitHub/audycje.com.pl/content/audio\\CJG_34_2023_09_30.txt\n",
      "Record already exists: voiceapp\\output\\summaries_folder\\mistral-small_20241213_125952\\CJG_34_2023_09_30-summary_4.txt -> C:/Users/G/Documents/GitHub/audycje.com.pl/content/audio\\CJG_34_2023_09_30.txt\n"
     ]
    },
    {
     "name": "stderr",
     "output_type": "stream",
     "text": [
      "\n",
      "\n",
      "Summarizing files for mistral-small:  35%|██████████████████████████▉                                                  | 34/97 [2:27:43<5:14:15, 299.30s/it, file=CJG_33_2023_09_23.txt, summaries_count=20, time=314.20 seconds]\u001b[A\u001b[A\n",
      "\n",
      "Summarizing files for mistral-small:  35%|██████████████████████████▉                                                  | 34/97 [2:27:43<5:14:15, 299.30s/it, file=CJG_34_2023_09_30.txt, summaries_count=20, time=303.97 seconds]\u001b[A\u001b[A"
     ]
    },
    {
     "name": "stdout",
     "output_type": "stream",
     "text": [
      "Record already exists: voiceapp\\output\\summaries_folder\\mistral-small_20241213_125952\\CJG_34_2023_09_30-summary_5.txt -> C:/Users/G/Documents/GitHub/audycje.com.pl/content/audio\\CJG_34_2023_09_30.txt\n",
      "Record already exists: voiceapp\\output\\summaries_folder\\mistral-small_20241213_125952\\CJG_35_2023_10_07-summary_1.txt -> C:/Users/G/Documents/GitHub/audycje.com.pl/content/audio\\CJG_35_2023_10_07.txt\n",
      "Record already exists: voiceapp\\output\\summaries_folder\\mistral-small_20241213_125952\\CJG_35_2023_10_07-summary_2.txt -> C:/Users/G/Documents/GitHub/audycje.com.pl/content/audio\\CJG_35_2023_10_07.txt\n",
      "Record already exists: voiceapp\\output\\summaries_folder\\mistral-small_20241213_125952\\CJG_35_2023_10_07-summary_3.txt -> C:/Users/G/Documents/GitHub/audycje.com.pl/content/audio\\CJG_35_2023_10_07.txt\n",
      "Record already exists: voiceapp\\output\\summaries_folder\\mistral-small_20241213_125952\\CJG_35_2023_10_07-summary_4.txt -> C:/Users/G/Documents/GitHub/audycje.com.pl/content/audio\\CJG_35_2023_10_07.txt\n",
      "Record already exists: voiceapp\\output\\summaries_folder\\mistral-small_20241213_125952\\CJG_35_2023_10_07-summary_5.txt -> C:/Users/G/Documents/GitHub/audycje.com.pl/content/audio\\CJG_35_2023_10_07.txt\n",
      "Record already exists: voiceapp\\output\\summaries_folder\\mistral-small_20241213_125952\\CJG_35_2023_10_07-summary_1.txt -> C:/Users/G/Documents/GitHub/audycje.com.pl/content/audio\\CJG_35_2023_10_07.txt\n",
      "Record already exists: voiceapp\\output\\summaries_folder\\mistral-small_20241213_125952\\CJG_35_2023_10_07-summary_2.txt -> C:/Users/G/Documents/GitHub/audycje.com.pl/content/audio\\CJG_35_2023_10_07.txt\n",
      "Record already exists: voiceapp\\output\\summaries_folder\\mistral-small_20241213_125952\\CJG_35_2023_10_07-summary_3.txt -> C:/Users/G/Documents/GitHub/audycje.com.pl/content/audio\\CJG_35_2023_10_07.txt\n",
      "Record already exists: voiceapp\\output\\summaries_folder\\mistral-small_20241213_125952\\CJG_35_2023_10_07-summary_4.txt -> C:/Users/G/Documents/GitHub/audycje.com.pl/content/audio\\CJG_35_2023_10_07.txt\n",
      "Record already exists: voiceapp\\output\\summaries_folder\\mistral-small_20241213_125952\\CJG_35_2023_10_07-summary_5.txt -> C:/Users/G/Documents/GitHub/audycje.com.pl/content/audio\\CJG_35_2023_10_07.txt\n",
      "Record already exists: voiceapp\\output\\summaries_folder\\mistral-small_20241213_125952\\CJG_35_2023_10_07-summary_1.txt -> C:/Users/G/Documents/GitHub/audycje.com.pl/content/audio\\CJG_35_2023_10_07.txt\n",
      "Record already exists: voiceapp\\output\\summaries_folder\\mistral-small_20241213_125952\\CJG_35_2023_10_07-summary_2.txt -> C:/Users/G/Documents/GitHub/audycje.com.pl/content/audio\\CJG_35_2023_10_07.txt\n",
      "Record already exists: voiceapp\\output\\summaries_folder\\mistral-small_20241213_125952\\CJG_35_2023_10_07-summary_3.txt -> C:/Users/G/Documents/GitHub/audycje.com.pl/content/audio\\CJG_35_2023_10_07.txt\n",
      "Record already exists: voiceapp\\output\\summaries_folder\\mistral-small_20241213_125952\\CJG_35_2023_10_07-summary_4.txt -> C:/Users/G/Documents/GitHub/audycje.com.pl/content/audio\\CJG_35_2023_10_07.txt\n"
     ]
    },
    {
     "name": "stderr",
     "output_type": "stream",
     "text": [
      "\n",
      "\n",
      "Summarizing files for mistral-small:  36%|███████████████████████████▊                                                 | 35/97 [2:33:03<5:15:51, 305.67s/it, file=CJG_34_2023_09_30.txt, summaries_count=20, time=303.97 seconds]\u001b[A\u001b[A\n",
      "\n",
      "Summarizing files for mistral-small:  36%|███████████████████████████▊                                                 | 35/97 [2:33:03<5:15:51, 305.67s/it, file=CJG_35_2023_10_07.txt, summaries_count=20, time=320.53 seconds]\u001b[A\u001b[A"
     ]
    },
    {
     "name": "stdout",
     "output_type": "stream",
     "text": [
      "Record already exists: voiceapp\\output\\summaries_folder\\mistral-small_20241213_125952\\CJG_35_2023_10_07-summary_5.txt -> C:/Users/G/Documents/GitHub/audycje.com.pl/content/audio\\CJG_35_2023_10_07.txt\n",
      "Record already exists: voiceapp\\output\\summaries_folder\\mistral-small_20241213_125952\\CJG_36_2023_10_14-summary_1.txt -> C:/Users/G/Documents/GitHub/audycje.com.pl/content/audio\\CJG_36_2023_10_14.txt\n",
      "Record already exists: voiceapp\\output\\summaries_folder\\mistral-small_20241213_125952\\CJG_36_2023_10_14-summary_2.txt -> C:/Users/G/Documents/GitHub/audycje.com.pl/content/audio\\CJG_36_2023_10_14.txt\n",
      "Record already exists: voiceapp\\output\\summaries_folder\\mistral-small_20241213_125952\\CJG_36_2023_10_14-summary_3.txt -> C:/Users/G/Documents/GitHub/audycje.com.pl/content/audio\\CJG_36_2023_10_14.txt\n",
      "Record already exists: voiceapp\\output\\summaries_folder\\mistral-small_20241213_125952\\CJG_36_2023_10_14-summary_4.txt -> C:/Users/G/Documents/GitHub/audycje.com.pl/content/audio\\CJG_36_2023_10_14.txt\n",
      "Record already exists: voiceapp\\output\\summaries_folder\\mistral-small_20241213_125952\\CJG_36_2023_10_14-summary_5.txt -> C:/Users/G/Documents/GitHub/audycje.com.pl/content/audio\\CJG_36_2023_10_14.txt\n",
      "Record already exists: voiceapp\\output\\summaries_folder\\mistral-small_20241213_125952\\CJG_36_2023_10_14-summary_1.txt -> C:/Users/G/Documents/GitHub/audycje.com.pl/content/audio\\CJG_36_2023_10_14.txt\n",
      "Record already exists: voiceapp\\output\\summaries_folder\\mistral-small_20241213_125952\\CJG_36_2023_10_14-summary_2.txt -> C:/Users/G/Documents/GitHub/audycje.com.pl/content/audio\\CJG_36_2023_10_14.txt\n",
      "Record already exists: voiceapp\\output\\summaries_folder\\mistral-small_20241213_125952\\CJG_36_2023_10_14-summary_3.txt -> C:/Users/G/Documents/GitHub/audycje.com.pl/content/audio\\CJG_36_2023_10_14.txt\n",
      "Record already exists: voiceapp\\output\\summaries_folder\\mistral-small_20241213_125952\\CJG_36_2023_10_14-summary_4.txt -> C:/Users/G/Documents/GitHub/audycje.com.pl/content/audio\\CJG_36_2023_10_14.txt\n",
      "Record already exists: voiceapp\\output\\summaries_folder\\mistral-small_20241213_125952\\CJG_36_2023_10_14-summary_5.txt -> C:/Users/G/Documents/GitHub/audycje.com.pl/content/audio\\CJG_36_2023_10_14.txt\n",
      "Record already exists: voiceapp\\output\\summaries_folder\\mistral-small_20241213_125952\\CJG_36_2023_10_14-summary_1.txt -> C:/Users/G/Documents/GitHub/audycje.com.pl/content/audio\\CJG_36_2023_10_14.txt\n",
      "Record already exists: voiceapp\\output\\summaries_folder\\mistral-small_20241213_125952\\CJG_36_2023_10_14-summary_2.txt -> C:/Users/G/Documents/GitHub/audycje.com.pl/content/audio\\CJG_36_2023_10_14.txt\n",
      "Record already exists: voiceapp\\output\\summaries_folder\\mistral-small_20241213_125952\\CJG_36_2023_10_14-summary_3.txt -> C:/Users/G/Documents/GitHub/audycje.com.pl/content/audio\\CJG_36_2023_10_14.txt\n",
      "Record already exists: voiceapp\\output\\summaries_folder\\mistral-small_20241213_125952\\CJG_36_2023_10_14-summary_4.txt -> C:/Users/G/Documents/GitHub/audycje.com.pl/content/audio\\CJG_36_2023_10_14.txt\n"
     ]
    },
    {
     "name": "stderr",
     "output_type": "stream",
     "text": [
      "\n",
      "\n",
      "Summarizing files for mistral-small:  37%|████████████████████████████▌                                                | 36/97 [2:37:04<4:51:06, 286.33s/it, file=CJG_35_2023_10_07.txt, summaries_count=20, time=320.53 seconds]\u001b[A\u001b[A\n",
      "\n",
      "Summarizing files for mistral-small:  37%|████████████████████████████▌                                                | 36/97 [2:37:04<4:51:06, 286.33s/it, file=CJG_36_2023_10_14.txt, summaries_count=20, time=241.20 seconds]\u001b[A\u001b[A"
     ]
    },
    {
     "name": "stdout",
     "output_type": "stream",
     "text": [
      "Record already exists: voiceapp\\output\\summaries_folder\\mistral-small_20241213_125952\\CJG_36_2023_10_14-summary_5.txt -> C:/Users/G/Documents/GitHub/audycje.com.pl/content/audio\\CJG_36_2023_10_14.txt\n",
      "Record already exists: voiceapp\\output\\summaries_folder\\mistral-small_20241213_125952\\CJG_37_2023_10_21-summary_1.txt -> C:/Users/G/Documents/GitHub/audycje.com.pl/content/audio\\CJG_37_2023_10_21.txt\n",
      "Record already exists: voiceapp\\output\\summaries_folder\\mistral-small_20241213_125952\\CJG_37_2023_10_21-summary_2.txt -> C:/Users/G/Documents/GitHub/audycje.com.pl/content/audio\\CJG_37_2023_10_21.txt\n",
      "Record already exists: voiceapp\\output\\summaries_folder\\mistral-small_20241213_125952\\CJG_37_2023_10_21-summary_3.txt -> C:/Users/G/Documents/GitHub/audycje.com.pl/content/audio\\CJG_37_2023_10_21.txt\n",
      "Record already exists: voiceapp\\output\\summaries_folder\\mistral-small_20241213_125952\\CJG_37_2023_10_21-summary_4.txt -> C:/Users/G/Documents/GitHub/audycje.com.pl/content/audio\\CJG_37_2023_10_21.txt\n",
      "Record already exists: voiceapp\\output\\summaries_folder\\mistral-small_20241213_125952\\CJG_37_2023_10_21-summary_5.txt -> C:/Users/G/Documents/GitHub/audycje.com.pl/content/audio\\CJG_37_2023_10_21.txt\n",
      "Record already exists: voiceapp\\output\\summaries_folder\\mistral-small_20241213_125952\\CJG_37_2023_10_21-summary_1.txt -> C:/Users/G/Documents/GitHub/audycje.com.pl/content/audio\\CJG_37_2023_10_21.txt\n",
      "Record already exists: voiceapp\\output\\summaries_folder\\mistral-small_20241213_125952\\CJG_37_2023_10_21-summary_2.txt -> C:/Users/G/Documents/GitHub/audycje.com.pl/content/audio\\CJG_37_2023_10_21.txt\n",
      "Record already exists: voiceapp\\output\\summaries_folder\\mistral-small_20241213_125952\\CJG_37_2023_10_21-summary_3.txt -> C:/Users/G/Documents/GitHub/audycje.com.pl/content/audio\\CJG_37_2023_10_21.txt\n",
      "Record already exists: voiceapp\\output\\summaries_folder\\mistral-small_20241213_125952\\CJG_37_2023_10_21-summary_4.txt -> C:/Users/G/Documents/GitHub/audycje.com.pl/content/audio\\CJG_37_2023_10_21.txt\n"
     ]
    },
    {
     "name": "stderr",
     "output_type": "stream",
     "text": [
      "\n",
      "\n",
      "Summarizing files for mistral-small:  38%|█████████████████████████████▎                                               | 37/97 [2:41:02<4:31:47, 271.78s/it, file=CJG_36_2023_10_14.txt, summaries_count=20, time=241.20 seconds]\u001b[A\u001b[A\n",
      "\n",
      "Summarizing files for mistral-small:  38%|█████████████████████████████▎                                               | 37/97 [2:41:02<4:31:47, 271.78s/it, file=CJG_37_2023_10_21.txt, summaries_count=15, time=237.85 seconds]\u001b[A\u001b[A"
     ]
    },
    {
     "name": "stdout",
     "output_type": "stream",
     "text": [
      "Record already exists: voiceapp\\output\\summaries_folder\\mistral-small_20241213_125952\\CJG_37_2023_10_21-summary_5.txt -> C:/Users/G/Documents/GitHub/audycje.com.pl/content/audio\\CJG_37_2023_10_21.txt\n",
      "Record already exists: voiceapp\\output\\summaries_folder\\mistral-small_20241213_125952\\CJG_38_2023_10_28-summary_1.txt -> C:/Users/G/Documents/GitHub/audycje.com.pl/content/audio\\CJG_38_2023_10_28.txt\n",
      "Record already exists: voiceapp\\output\\summaries_folder\\mistral-small_20241213_125952\\CJG_38_2023_10_28-summary_2.txt -> C:/Users/G/Documents/GitHub/audycje.com.pl/content/audio\\CJG_38_2023_10_28.txt\n",
      "Record already exists: voiceapp\\output\\summaries_folder\\mistral-small_20241213_125952\\CJG_38_2023_10_28-summary_3.txt -> C:/Users/G/Documents/GitHub/audycje.com.pl/content/audio\\CJG_38_2023_10_28.txt\n",
      "Record already exists: voiceapp\\output\\summaries_folder\\mistral-small_20241213_125952\\CJG_38_2023_10_28-summary_4.txt -> C:/Users/G/Documents/GitHub/audycje.com.pl/content/audio\\CJG_38_2023_10_28.txt\n",
      "Record already exists: voiceapp\\output\\summaries_folder\\mistral-small_20241213_125952\\CJG_38_2023_10_28-summary_5.txt -> C:/Users/G/Documents/GitHub/audycje.com.pl/content/audio\\CJG_38_2023_10_28.txt\n",
      "Record already exists: voiceapp\\output\\summaries_folder\\mistral-small_20241213_125952\\CJG_38_2023_10_28-summary_1.txt -> C:/Users/G/Documents/GitHub/audycje.com.pl/content/audio\\CJG_38_2023_10_28.txt\n",
      "Record already exists: voiceapp\\output\\summaries_folder\\mistral-small_20241213_125952\\CJG_38_2023_10_28-summary_2.txt -> C:/Users/G/Documents/GitHub/audycje.com.pl/content/audio\\CJG_38_2023_10_28.txt\n",
      "Record already exists: voiceapp\\output\\summaries_folder\\mistral-small_20241213_125952\\CJG_38_2023_10_28-summary_3.txt -> C:/Users/G/Documents/GitHub/audycje.com.pl/content/audio\\CJG_38_2023_10_28.txt\n",
      "Record already exists: voiceapp\\output\\summaries_folder\\mistral-small_20241213_125952\\CJG_38_2023_10_28-summary_4.txt -> C:/Users/G/Documents/GitHub/audycje.com.pl/content/audio\\CJG_38_2023_10_28.txt\n"
     ]
    },
    {
     "name": "stderr",
     "output_type": "stream",
     "text": [
      "\n",
      "\n",
      "Summarizing files for mistral-small:  39%|██████████████████████████████▏                                              | 38/97 [2:43:59<3:59:22, 243.43s/it, file=CJG_37_2023_10_21.txt, summaries_count=15, time=237.85 seconds]\u001b[A\u001b[A\n",
      "\n",
      "Summarizing files for mistral-small:  39%|██████████████████████████████▏                                              | 38/97 [2:43:59<3:59:22, 243.43s/it, file=CJG_38_2023_10_28.txt, summaries_count=15, time=177.27 seconds]\u001b[A\u001b[A"
     ]
    },
    {
     "name": "stdout",
     "output_type": "stream",
     "text": [
      "Record already exists: voiceapp\\output\\summaries_folder\\mistral-small_20241213_125952\\CJG_38_2023_10_28-summary_5.txt -> C:/Users/G/Documents/GitHub/audycje.com.pl/content/audio\\CJG_38_2023_10_28.txt\n",
      "Record already exists: voiceapp\\output\\summaries_folder\\mistral-small_20241213_125952\\CJG_39_2023_11_04-summary_1.txt -> C:/Users/G/Documents/GitHub/audycje.com.pl/content/audio\\CJG_39_2023_11_04.txt\n",
      "Record already exists: voiceapp\\output\\summaries_folder\\mistral-small_20241213_125952\\CJG_39_2023_11_04-summary_2.txt -> C:/Users/G/Documents/GitHub/audycje.com.pl/content/audio\\CJG_39_2023_11_04.txt\n",
      "Record already exists: voiceapp\\output\\summaries_folder\\mistral-small_20241213_125952\\CJG_39_2023_11_04-summary_3.txt -> C:/Users/G/Documents/GitHub/audycje.com.pl/content/audio\\CJG_39_2023_11_04.txt\n",
      "Record already exists: voiceapp\\output\\summaries_folder\\mistral-small_20241213_125952\\CJG_39_2023_11_04-summary_4.txt -> C:/Users/G/Documents/GitHub/audycje.com.pl/content/audio\\CJG_39_2023_11_04.txt\n",
      "Record already exists: voiceapp\\output\\summaries_folder\\mistral-small_20241213_125952\\CJG_39_2023_11_04-summary_5.txt -> C:/Users/G/Documents/GitHub/audycje.com.pl/content/audio\\CJG_39_2023_11_04.txt\n",
      "Record already exists: voiceapp\\output\\summaries_folder\\mistral-small_20241213_125952\\CJG_39_2023_11_04-summary_1.txt -> C:/Users/G/Documents/GitHub/audycje.com.pl/content/audio\\CJG_39_2023_11_04.txt\n",
      "Record already exists: voiceapp\\output\\summaries_folder\\mistral-small_20241213_125952\\CJG_39_2023_11_04-summary_2.txt -> C:/Users/G/Documents/GitHub/audycje.com.pl/content/audio\\CJG_39_2023_11_04.txt\n",
      "Record already exists: voiceapp\\output\\summaries_folder\\mistral-small_20241213_125952\\CJG_39_2023_11_04-summary_3.txt -> C:/Users/G/Documents/GitHub/audycje.com.pl/content/audio\\CJG_39_2023_11_04.txt\n",
      "Record already exists: voiceapp\\output\\summaries_folder\\mistral-small_20241213_125952\\CJG_39_2023_11_04-summary_4.txt -> C:/Users/G/Documents/GitHub/audycje.com.pl/content/audio\\CJG_39_2023_11_04.txt\n",
      "Record already exists: voiceapp\\output\\summaries_folder\\mistral-small_20241213_125952\\CJG_39_2023_11_04-summary_5.txt -> C:/Users/G/Documents/GitHub/audycje.com.pl/content/audio\\CJG_39_2023_11_04.txt\n",
      "Record already exists: voiceapp\\output\\summaries_folder\\mistral-small_20241213_125952\\CJG_39_2023_11_04-summary_1.txt -> C:/Users/G/Documents/GitHub/audycje.com.pl/content/audio\\CJG_39_2023_11_04.txt\n",
      "Record already exists: voiceapp\\output\\summaries_folder\\mistral-small_20241213_125952\\CJG_39_2023_11_04-summary_2.txt -> C:/Users/G/Documents/GitHub/audycje.com.pl/content/audio\\CJG_39_2023_11_04.txt\n",
      "Record already exists: voiceapp\\output\\summaries_folder\\mistral-small_20241213_125952\\CJG_39_2023_11_04-summary_3.txt -> C:/Users/G/Documents/GitHub/audycje.com.pl/content/audio\\CJG_39_2023_11_04.txt\n",
      "Record already exists: voiceapp\\output\\summaries_folder\\mistral-small_20241213_125952\\CJG_39_2023_11_04-summary_4.txt -> C:/Users/G/Documents/GitHub/audycje.com.pl/content/audio\\CJG_39_2023_11_04.txt\n"
     ]
    },
    {
     "name": "stderr",
     "output_type": "stream",
     "text": [
      "\n",
      "\n",
      "Summarizing files for mistral-small:  40%|██████████████████████████████▉                                              | 39/97 [2:48:58<4:11:19, 259.99s/it, file=CJG_38_2023_10_28.txt, summaries_count=15, time=177.27 seconds]\u001b[A\u001b[A\n",
      "\n",
      "Summarizing files for mistral-small:  40%|██████████████████████████████▉                                              | 39/97 [2:48:58<4:11:19, 259.99s/it, file=CJG_39_2023_11_04.txt, summaries_count=20, time=298.64 seconds]\u001b[A\u001b[A"
     ]
    },
    {
     "name": "stdout",
     "output_type": "stream",
     "text": [
      "Record already exists: voiceapp\\output\\summaries_folder\\mistral-small_20241213_125952\\CJG_39_2023_11_04-summary_5.txt -> C:/Users/G/Documents/GitHub/audycje.com.pl/content/audio\\CJG_39_2023_11_04.txt\n",
      "Record already exists: voiceapp\\output\\summaries_folder\\mistral-small_20241213_125952\\CJG_40_2023_11_11-summary_1.txt -> C:/Users/G/Documents/GitHub/audycje.com.pl/content/audio\\CJG_40_2023_11_11.txt\n",
      "Record already exists: voiceapp\\output\\summaries_folder\\mistral-small_20241213_125952\\CJG_40_2023_11_11-summary_2.txt -> C:/Users/G/Documents/GitHub/audycje.com.pl/content/audio\\CJG_40_2023_11_11.txt\n",
      "Record already exists: voiceapp\\output\\summaries_folder\\mistral-small_20241213_125952\\CJG_40_2023_11_11-summary_3.txt -> C:/Users/G/Documents/GitHub/audycje.com.pl/content/audio\\CJG_40_2023_11_11.txt\n",
      "Record already exists: voiceapp\\output\\summaries_folder\\mistral-small_20241213_125952\\CJG_40_2023_11_11-summary_4.txt -> C:/Users/G/Documents/GitHub/audycje.com.pl/content/audio\\CJG_40_2023_11_11.txt\n",
      "Record already exists: voiceapp\\output\\summaries_folder\\mistral-small_20241213_125952\\CJG_40_2023_11_11-summary_5.txt -> C:/Users/G/Documents/GitHub/audycje.com.pl/content/audio\\CJG_40_2023_11_11.txt\n",
      "Record already exists: voiceapp\\output\\summaries_folder\\mistral-small_20241213_125952\\CJG_40_2023_11_11-summary_1.txt -> C:/Users/G/Documents/GitHub/audycje.com.pl/content/audio\\CJG_40_2023_11_11.txt\n",
      "Record already exists: voiceapp\\output\\summaries_folder\\mistral-small_20241213_125952\\CJG_40_2023_11_11-summary_2.txt -> C:/Users/G/Documents/GitHub/audycje.com.pl/content/audio\\CJG_40_2023_11_11.txt\n",
      "Record already exists: voiceapp\\output\\summaries_folder\\mistral-small_20241213_125952\\CJG_40_2023_11_11-summary_3.txt -> C:/Users/G/Documents/GitHub/audycje.com.pl/content/audio\\CJG_40_2023_11_11.txt\n",
      "Record already exists: voiceapp\\output\\summaries_folder\\mistral-small_20241213_125952\\CJG_40_2023_11_11-summary_4.txt -> C:/Users/G/Documents/GitHub/audycje.com.pl/content/audio\\CJG_40_2023_11_11.txt\n",
      "Record already exists: voiceapp\\output\\summaries_folder\\mistral-small_20241213_125952\\CJG_40_2023_11_11-summary_5.txt -> C:/Users/G/Documents/GitHub/audycje.com.pl/content/audio\\CJG_40_2023_11_11.txt\n",
      "Record already exists: voiceapp\\output\\summaries_folder\\mistral-small_20241213_125952\\CJG_40_2023_11_11-summary_1.txt -> C:/Users/G/Documents/GitHub/audycje.com.pl/content/audio\\CJG_40_2023_11_11.txt\n",
      "Record already exists: voiceapp\\output\\summaries_folder\\mistral-small_20241213_125952\\CJG_40_2023_11_11-summary_2.txt -> C:/Users/G/Documents/GitHub/audycje.com.pl/content/audio\\CJG_40_2023_11_11.txt\n",
      "Record already exists: voiceapp\\output\\summaries_folder\\mistral-small_20241213_125952\\CJG_40_2023_11_11-summary_3.txt -> C:/Users/G/Documents/GitHub/audycje.com.pl/content/audio\\CJG_40_2023_11_11.txt\n",
      "Record already exists: voiceapp\\output\\summaries_folder\\mistral-small_20241213_125952\\CJG_40_2023_11_11-summary_4.txt -> C:/Users/G/Documents/GitHub/audycje.com.pl/content/audio\\CJG_40_2023_11_11.txt\n"
     ]
    },
    {
     "name": "stderr",
     "output_type": "stream",
     "text": [
      "\n",
      "\n",
      "Summarizing files for mistral-small:  41%|███████████████████████████████▊                                             | 40/97 [2:54:07<4:20:54, 274.64s/it, file=CJG_39_2023_11_04.txt, summaries_count=20, time=298.64 seconds]\u001b[A\u001b[A\n",
      "\n",
      "Summarizing files for mistral-small:  41%|███████████████████████████████▊                                             | 40/97 [2:54:07<4:20:54, 274.64s/it, file=CJG_40_2023_11_11.txt, summaries_count=20, time=308.83 seconds]\u001b[A\u001b[A"
     ]
    },
    {
     "name": "stdout",
     "output_type": "stream",
     "text": [
      "Record already exists: voiceapp\\output\\summaries_folder\\mistral-small_20241213_125952\\CJG_40_2023_11_11-summary_5.txt -> C:/Users/G/Documents/GitHub/audycje.com.pl/content/audio\\CJG_40_2023_11_11.txt\n",
      "Record already exists: voiceapp\\output\\summaries_folder\\mistral-small_20241213_125952\\CJG_41_2023_11_18-summary_1.txt -> C:/Users/G/Documents/GitHub/audycje.com.pl/content/audio\\CJG_41_2023_11_18.txt\n",
      "Record already exists: voiceapp\\output\\summaries_folder\\mistral-small_20241213_125952\\CJG_41_2023_11_18-summary_2.txt -> C:/Users/G/Documents/GitHub/audycje.com.pl/content/audio\\CJG_41_2023_11_18.txt\n",
      "Record already exists: voiceapp\\output\\summaries_folder\\mistral-small_20241213_125952\\CJG_41_2023_11_18-summary_3.txt -> C:/Users/G/Documents/GitHub/audycje.com.pl/content/audio\\CJG_41_2023_11_18.txt\n",
      "Record already exists: voiceapp\\output\\summaries_folder\\mistral-small_20241213_125952\\CJG_41_2023_11_18-summary_4.txt -> C:/Users/G/Documents/GitHub/audycje.com.pl/content/audio\\CJG_41_2023_11_18.txt\n",
      "Record already exists: voiceapp\\output\\summaries_folder\\mistral-small_20241213_125952\\CJG_41_2023_11_18-summary_5.txt -> C:/Users/G/Documents/GitHub/audycje.com.pl/content/audio\\CJG_41_2023_11_18.txt\n",
      "Record already exists: voiceapp\\output\\summaries_folder\\mistral-small_20241213_125952\\CJG_41_2023_11_18-summary_1.txt -> C:/Users/G/Documents/GitHub/audycje.com.pl/content/audio\\CJG_41_2023_11_18.txt\n",
      "Record already exists: voiceapp\\output\\summaries_folder\\mistral-small_20241213_125952\\CJG_41_2023_11_18-summary_2.txt -> C:/Users/G/Documents/GitHub/audycje.com.pl/content/audio\\CJG_41_2023_11_18.txt\n",
      "Record already exists: voiceapp\\output\\summaries_folder\\mistral-small_20241213_125952\\CJG_41_2023_11_18-summary_3.txt -> C:/Users/G/Documents/GitHub/audycje.com.pl/content/audio\\CJG_41_2023_11_18.txt\n",
      "Record already exists: voiceapp\\output\\summaries_folder\\mistral-small_20241213_125952\\CJG_41_2023_11_18-summary_4.txt -> C:/Users/G/Documents/GitHub/audycje.com.pl/content/audio\\CJG_41_2023_11_18.txt\n",
      "Record already exists: voiceapp\\output\\summaries_folder\\mistral-small_20241213_125952\\CJG_41_2023_11_18-summary_5.txt -> C:/Users/G/Documents/GitHub/audycje.com.pl/content/audio\\CJG_41_2023_11_18.txt\n",
      "Record already exists: voiceapp\\output\\summaries_folder\\mistral-small_20241213_125952\\CJG_41_2023_11_18-summary_1.txt -> C:/Users/G/Documents/GitHub/audycje.com.pl/content/audio\\CJG_41_2023_11_18.txt\n",
      "Record already exists: voiceapp\\output\\summaries_folder\\mistral-small_20241213_125952\\CJG_41_2023_11_18-summary_2.txt -> C:/Users/G/Documents/GitHub/audycje.com.pl/content/audio\\CJG_41_2023_11_18.txt\n",
      "Record already exists: voiceapp\\output\\summaries_folder\\mistral-small_20241213_125952\\CJG_41_2023_11_18-summary_3.txt -> C:/Users/G/Documents/GitHub/audycje.com.pl/content/audio\\CJG_41_2023_11_18.txt\n",
      "Record already exists: voiceapp\\output\\summaries_folder\\mistral-small_20241213_125952\\CJG_41_2023_11_18-summary_4.txt -> C:/Users/G/Documents/GitHub/audycje.com.pl/content/audio\\CJG_41_2023_11_18.txt\n"
     ]
    },
    {
     "name": "stderr",
     "output_type": "stream",
     "text": [
      "\n",
      "\n",
      "Summarizing files for mistral-small:  42%|████████████████████████████████▌                                            | 41/97 [2:59:15<4:25:46, 284.77s/it, file=CJG_40_2023_11_11.txt, summaries_count=20, time=308.83 seconds]\u001b[A\u001b[A\n",
      "\n",
      "Summarizing files for mistral-small:  42%|████████████████████████████████▌                                            | 41/97 [2:59:15<4:25:46, 284.77s/it, file=CJG_41_2023_11_18.txt, summaries_count=20, time=308.39 seconds]\u001b[A\u001b[A"
     ]
    },
    {
     "name": "stdout",
     "output_type": "stream",
     "text": [
      "Record already exists: voiceapp\\output\\summaries_folder\\mistral-small_20241213_125952\\CJG_41_2023_11_18-summary_5.txt -> C:/Users/G/Documents/GitHub/audycje.com.pl/content/audio\\CJG_41_2023_11_18.txt\n",
      "Record already exists: voiceapp\\output\\summaries_folder\\mistral-small_20241213_125952\\CJG_42_2023_11_25-summary_1.txt -> C:/Users/G/Documents/GitHub/audycje.com.pl/content/audio\\CJG_42_2023_11_25.txt\n",
      "Record already exists: voiceapp\\output\\summaries_folder\\mistral-small_20241213_125952\\CJG_42_2023_11_25-summary_2.txt -> C:/Users/G/Documents/GitHub/audycje.com.pl/content/audio\\CJG_42_2023_11_25.txt\n",
      "Record already exists: voiceapp\\output\\summaries_folder\\mistral-small_20241213_125952\\CJG_42_2023_11_25-summary_3.txt -> C:/Users/G/Documents/GitHub/audycje.com.pl/content/audio\\CJG_42_2023_11_25.txt\n",
      "Record already exists: voiceapp\\output\\summaries_folder\\mistral-small_20241213_125952\\CJG_42_2023_11_25-summary_4.txt -> C:/Users/G/Documents/GitHub/audycje.com.pl/content/audio\\CJG_42_2023_11_25.txt\n",
      "Record already exists: voiceapp\\output\\summaries_folder\\mistral-small_20241213_125952\\CJG_42_2023_11_25-summary_5.txt -> C:/Users/G/Documents/GitHub/audycje.com.pl/content/audio\\CJG_42_2023_11_25.txt\n",
      "Record already exists: voiceapp\\output\\summaries_folder\\mistral-small_20241213_125952\\CJG_42_2023_11_25-summary_1.txt -> C:/Users/G/Documents/GitHub/audycje.com.pl/content/audio\\CJG_42_2023_11_25.txt\n",
      "Record already exists: voiceapp\\output\\summaries_folder\\mistral-small_20241213_125952\\CJG_42_2023_11_25-summary_2.txt -> C:/Users/G/Documents/GitHub/audycje.com.pl/content/audio\\CJG_42_2023_11_25.txt\n",
      "Record already exists: voiceapp\\output\\summaries_folder\\mistral-small_20241213_125952\\CJG_42_2023_11_25-summary_3.txt -> C:/Users/G/Documents/GitHub/audycje.com.pl/content/audio\\CJG_42_2023_11_25.txt\n",
      "Record already exists: voiceapp\\output\\summaries_folder\\mistral-small_20241213_125952\\CJG_42_2023_11_25-summary_4.txt -> C:/Users/G/Documents/GitHub/audycje.com.pl/content/audio\\CJG_42_2023_11_25.txt\n",
      "Record already exists: voiceapp\\output\\summaries_folder\\mistral-small_20241213_125952\\CJG_42_2023_11_25-summary_5.txt -> C:/Users/G/Documents/GitHub/audycje.com.pl/content/audio\\CJG_42_2023_11_25.txt\n",
      "Record already exists: voiceapp\\output\\summaries_folder\\mistral-small_20241213_125952\\CJG_42_2023_11_25-summary_1.txt -> C:/Users/G/Documents/GitHub/audycje.com.pl/content/audio\\CJG_42_2023_11_25.txt\n",
      "Record already exists: voiceapp\\output\\summaries_folder\\mistral-small_20241213_125952\\CJG_42_2023_11_25-summary_2.txt -> C:/Users/G/Documents/GitHub/audycje.com.pl/content/audio\\CJG_42_2023_11_25.txt\n",
      "Record already exists: voiceapp\\output\\summaries_folder\\mistral-small_20241213_125952\\CJG_42_2023_11_25-summary_3.txt -> C:/Users/G/Documents/GitHub/audycje.com.pl/content/audio\\CJG_42_2023_11_25.txt\n",
      "Record already exists: voiceapp\\output\\summaries_folder\\mistral-small_20241213_125952\\CJG_42_2023_11_25-summary_4.txt -> C:/Users/G/Documents/GitHub/audycje.com.pl/content/audio\\CJG_42_2023_11_25.txt\n"
     ]
    },
    {
     "name": "stderr",
     "output_type": "stream",
     "text": [
      "\n",
      "\n",
      "Summarizing files for mistral-small:  43%|█████████████████████████████████▎                                           | 42/97 [3:04:23<4:27:18, 291.61s/it, file=CJG_41_2023_11_18.txt, summaries_count=20, time=308.39 seconds]\u001b[A\u001b[A\n",
      "\n",
      "Summarizing files for mistral-small:  43%|█████████████████████████████████▎                                           | 42/97 [3:04:23<4:27:18, 291.61s/it, file=CJG_42_2023_11_25.txt, summaries_count=20, time=307.56 seconds]\u001b[A\u001b[A"
     ]
    },
    {
     "name": "stdout",
     "output_type": "stream",
     "text": [
      "Record already exists: voiceapp\\output\\summaries_folder\\mistral-small_20241213_125952\\CJG_42_2023_11_25-summary_5.txt -> C:/Users/G/Documents/GitHub/audycje.com.pl/content/audio\\CJG_42_2023_11_25.txt\n",
      "Record already exists: voiceapp\\output\\summaries_folder\\mistral-small_20241213_125952\\CJG_43_2023_12_02-summary_1.txt -> C:/Users/G/Documents/GitHub/audycje.com.pl/content/audio\\CJG_43_2023_12_02.txt\n",
      "Record already exists: voiceapp\\output\\summaries_folder\\mistral-small_20241213_125952\\CJG_43_2023_12_02-summary_2.txt -> C:/Users/G/Documents/GitHub/audycje.com.pl/content/audio\\CJG_43_2023_12_02.txt\n",
      "Record already exists: voiceapp\\output\\summaries_folder\\mistral-small_20241213_125952\\CJG_43_2023_12_02-summary_3.txt -> C:/Users/G/Documents/GitHub/audycje.com.pl/content/audio\\CJG_43_2023_12_02.txt\n",
      "Record already exists: voiceapp\\output\\summaries_folder\\mistral-small_20241213_125952\\CJG_43_2023_12_02-summary_4.txt -> C:/Users/G/Documents/GitHub/audycje.com.pl/content/audio\\CJG_43_2023_12_02.txt\n",
      "Record already exists: voiceapp\\output\\summaries_folder\\mistral-small_20241213_125952\\CJG_43_2023_12_02-summary_5.txt -> C:/Users/G/Documents/GitHub/audycje.com.pl/content/audio\\CJG_43_2023_12_02.txt\n",
      "Record already exists: voiceapp\\output\\summaries_folder\\mistral-small_20241213_125952\\CJG_43_2023_12_02-summary_1.txt -> C:/Users/G/Documents/GitHub/audycje.com.pl/content/audio\\CJG_43_2023_12_02.txt\n",
      "Record already exists: voiceapp\\output\\summaries_folder\\mistral-small_20241213_125952\\CJG_43_2023_12_02-summary_2.txt -> C:/Users/G/Documents/GitHub/audycje.com.pl/content/audio\\CJG_43_2023_12_02.txt\n",
      "Record already exists: voiceapp\\output\\summaries_folder\\mistral-small_20241213_125952\\CJG_43_2023_12_02-summary_3.txt -> C:/Users/G/Documents/GitHub/audycje.com.pl/content/audio\\CJG_43_2023_12_02.txt\n",
      "Record already exists: voiceapp\\output\\summaries_folder\\mistral-small_20241213_125952\\CJG_43_2023_12_02-summary_4.txt -> C:/Users/G/Documents/GitHub/audycje.com.pl/content/audio\\CJG_43_2023_12_02.txt\n",
      "Record already exists: voiceapp\\output\\summaries_folder\\mistral-small_20241213_125952\\CJG_43_2023_12_02-summary_5.txt -> C:/Users/G/Documents/GitHub/audycje.com.pl/content/audio\\CJG_43_2023_12_02.txt\n",
      "Record already exists: voiceapp\\output\\summaries_folder\\mistral-small_20241213_125952\\CJG_43_2023_12_02-summary_1.txt -> C:/Users/G/Documents/GitHub/audycje.com.pl/content/audio\\CJG_43_2023_12_02.txt\n",
      "Record already exists: voiceapp\\output\\summaries_folder\\mistral-small_20241213_125952\\CJG_43_2023_12_02-summary_2.txt -> C:/Users/G/Documents/GitHub/audycje.com.pl/content/audio\\CJG_43_2023_12_02.txt\n",
      "Record already exists: voiceapp\\output\\summaries_folder\\mistral-small_20241213_125952\\CJG_43_2023_12_02-summary_3.txt -> C:/Users/G/Documents/GitHub/audycje.com.pl/content/audio\\CJG_43_2023_12_02.txt\n",
      "Record already exists: voiceapp\\output\\summaries_folder\\mistral-small_20241213_125952\\CJG_43_2023_12_02-summary_4.txt -> C:/Users/G/Documents/GitHub/audycje.com.pl/content/audio\\CJG_43_2023_12_02.txt\n",
      "Record already exists: voiceapp\\output\\summaries_folder\\mistral-small_20241213_125952\\CJG_43_2023_12_02-summary_5.txt -> C:/Users/G/Documents/GitHub/audycje.com.pl/content/audio\\CJG_43_2023_12_02.txt\n",
      "Record already exists: voiceapp\\output\\summaries_folder\\mistral-small_20241213_125952\\CJG_43_2023_12_02-summary_1.txt -> C:/Users/G/Documents/GitHub/audycje.com.pl/content/audio\\CJG_43_2023_12_02.txt\n",
      "Record already exists: voiceapp\\output\\summaries_folder\\mistral-small_20241213_125952\\CJG_43_2023_12_02-summary_2.txt -> C:/Users/G/Documents/GitHub/audycje.com.pl/content/audio\\CJG_43_2023_12_02.txt\n",
      "Record already exists: voiceapp\\output\\summaries_folder\\mistral-small_20241213_125952\\CJG_43_2023_12_02-summary_3.txt -> C:/Users/G/Documents/GitHub/audycje.com.pl/content/audio\\CJG_43_2023_12_02.txt\n",
      "Record already exists: voiceapp\\output\\summaries_folder\\mistral-small_20241213_125952\\CJG_43_2023_12_02-summary_4.txt -> C:/Users/G/Documents/GitHub/audycje.com.pl/content/audio\\CJG_43_2023_12_02.txt\n"
     ]
    },
    {
     "name": "stderr",
     "output_type": "stream",
     "text": [
      "\n",
      "\n",
      "Summarizing files for mistral-small:  44%|██████████████████████████████████▏                                          | 43/97 [3:10:28<4:42:22, 313.76s/it, file=CJG_42_2023_11_25.txt, summaries_count=20, time=307.56 seconds]\u001b[A\u001b[A\n",
      "\n",
      "Summarizing files for mistral-small:  44%|██████████████████████████████████▏                                          | 43/97 [3:10:28<4:42:22, 313.76s/it, file=CJG_43_2023_12_02.txt, summaries_count=25, time=365.44 seconds]\u001b[A\u001b[A"
     ]
    },
    {
     "name": "stdout",
     "output_type": "stream",
     "text": [
      "Record already exists: voiceapp\\output\\summaries_folder\\mistral-small_20241213_125952\\CJG_43_2023_12_02-summary_5.txt -> C:/Users/G/Documents/GitHub/audycje.com.pl/content/audio\\CJG_43_2023_12_02.txt\n",
      "Record already exists: voiceapp\\output\\summaries_folder\\mistral-small_20241213_125952\\CJG_44_2023_12_09-summary_1.txt -> C:/Users/G/Documents/GitHub/audycje.com.pl/content/audio\\CJG_44_2023_12_09.txt\n",
      "Record already exists: voiceapp\\output\\summaries_folder\\mistral-small_20241213_125952\\CJG_44_2023_12_09-summary_2.txt -> C:/Users/G/Documents/GitHub/audycje.com.pl/content/audio\\CJG_44_2023_12_09.txt\n",
      "Record already exists: voiceapp\\output\\summaries_folder\\mistral-small_20241213_125952\\CJG_44_2023_12_09-summary_3.txt -> C:/Users/G/Documents/GitHub/audycje.com.pl/content/audio\\CJG_44_2023_12_09.txt\n",
      "Record already exists: voiceapp\\output\\summaries_folder\\mistral-small_20241213_125952\\CJG_44_2023_12_09-summary_4.txt -> C:/Users/G/Documents/GitHub/audycje.com.pl/content/audio\\CJG_44_2023_12_09.txt\n",
      "Record already exists: voiceapp\\output\\summaries_folder\\mistral-small_20241213_125952\\CJG_44_2023_12_09-summary_5.txt -> C:/Users/G/Documents/GitHub/audycje.com.pl/content/audio\\CJG_44_2023_12_09.txt\n",
      "Record already exists: voiceapp\\output\\summaries_folder\\mistral-small_20241213_125952\\CJG_44_2023_12_09-summary_1.txt -> C:/Users/G/Documents/GitHub/audycje.com.pl/content/audio\\CJG_44_2023_12_09.txt\n",
      "Record already exists: voiceapp\\output\\summaries_folder\\mistral-small_20241213_125952\\CJG_44_2023_12_09-summary_2.txt -> C:/Users/G/Documents/GitHub/audycje.com.pl/content/audio\\CJG_44_2023_12_09.txt\n",
      "Record already exists: voiceapp\\output\\summaries_folder\\mistral-small_20241213_125952\\CJG_44_2023_12_09-summary_3.txt -> C:/Users/G/Documents/GitHub/audycje.com.pl/content/audio\\CJG_44_2023_12_09.txt\n",
      "Record already exists: voiceapp\\output\\summaries_folder\\mistral-small_20241213_125952\\CJG_44_2023_12_09-summary_4.txt -> C:/Users/G/Documents/GitHub/audycje.com.pl/content/audio\\CJG_44_2023_12_09.txt\n",
      "Record already exists: voiceapp\\output\\summaries_folder\\mistral-small_20241213_125952\\CJG_44_2023_12_09-summary_5.txt -> C:/Users/G/Documents/GitHub/audycje.com.pl/content/audio\\CJG_44_2023_12_09.txt\n",
      "Record already exists: voiceapp\\output\\summaries_folder\\mistral-small_20241213_125952\\CJG_44_2023_12_09-summary_1.txt -> C:/Users/G/Documents/GitHub/audycje.com.pl/content/audio\\CJG_44_2023_12_09.txt\n",
      "Record already exists: voiceapp\\output\\summaries_folder\\mistral-small_20241213_125952\\CJG_44_2023_12_09-summary_2.txt -> C:/Users/G/Documents/GitHub/audycje.com.pl/content/audio\\CJG_44_2023_12_09.txt\n",
      "Record already exists: voiceapp\\output\\summaries_folder\\mistral-small_20241213_125952\\CJG_44_2023_12_09-summary_3.txt -> C:/Users/G/Documents/GitHub/audycje.com.pl/content/audio\\CJG_44_2023_12_09.txt\n",
      "Record already exists: voiceapp\\output\\summaries_folder\\mistral-small_20241213_125952\\CJG_44_2023_12_09-summary_4.txt -> C:/Users/G/Documents/GitHub/audycje.com.pl/content/audio\\CJG_44_2023_12_09.txt\n"
     ]
    },
    {
     "name": "stderr",
     "output_type": "stream",
     "text": [
      "\n",
      "\n",
      "Summarizing files for mistral-small:  45%|██████████████████████████████████▉                                          | 44/97 [3:15:36<4:35:26, 311.83s/it, file=CJG_43_2023_12_02.txt, summaries_count=25, time=365.44 seconds]\u001b[A\u001b[A\n",
      "\n",
      "Summarizing files for mistral-small:  45%|██████████████████████████████████▉                                          | 44/97 [3:15:36<4:35:26, 311.83s/it, file=CJG_44_2023_12_09.txt, summaries_count=20, time=307.32 seconds]\u001b[A\u001b[A"
     ]
    },
    {
     "name": "stdout",
     "output_type": "stream",
     "text": [
      "Record already exists: voiceapp\\output\\summaries_folder\\mistral-small_20241213_125952\\CJG_44_2023_12_09-summary_5.txt -> C:/Users/G/Documents/GitHub/audycje.com.pl/content/audio\\CJG_44_2023_12_09.txt\n",
      "Record already exists: voiceapp\\output\\summaries_folder\\mistral-small_20241213_125952\\CJG_45_2023_12_16-summary_1.txt -> C:/Users/G/Documents/GitHub/audycje.com.pl/content/audio\\CJG_45_2023_12_16.txt\n",
      "Record already exists: voiceapp\\output\\summaries_folder\\mistral-small_20241213_125952\\CJG_45_2023_12_16-summary_2.txt -> C:/Users/G/Documents/GitHub/audycje.com.pl/content/audio\\CJG_45_2023_12_16.txt\n",
      "Record already exists: voiceapp\\output\\summaries_folder\\mistral-small_20241213_125952\\CJG_45_2023_12_16-summary_3.txt -> C:/Users/G/Documents/GitHub/audycje.com.pl/content/audio\\CJG_45_2023_12_16.txt\n",
      "Record already exists: voiceapp\\output\\summaries_folder\\mistral-small_20241213_125952\\CJG_45_2023_12_16-summary_4.txt -> C:/Users/G/Documents/GitHub/audycje.com.pl/content/audio\\CJG_45_2023_12_16.txt\n",
      "Record already exists: voiceapp\\output\\summaries_folder\\mistral-small_20241213_125952\\CJG_45_2023_12_16-summary_5.txt -> C:/Users/G/Documents/GitHub/audycje.com.pl/content/audio\\CJG_45_2023_12_16.txt\n",
      "Record already exists: voiceapp\\output\\summaries_folder\\mistral-small_20241213_125952\\CJG_45_2023_12_16-summary_1.txt -> C:/Users/G/Documents/GitHub/audycje.com.pl/content/audio\\CJG_45_2023_12_16.txt\n",
      "Record already exists: voiceapp\\output\\summaries_folder\\mistral-small_20241213_125952\\CJG_45_2023_12_16-summary_2.txt -> C:/Users/G/Documents/GitHub/audycje.com.pl/content/audio\\CJG_45_2023_12_16.txt\n",
      "Record already exists: voiceapp\\output\\summaries_folder\\mistral-small_20241213_125952\\CJG_45_2023_12_16-summary_3.txt -> C:/Users/G/Documents/GitHub/audycje.com.pl/content/audio\\CJG_45_2023_12_16.txt\n",
      "Record already exists: voiceapp\\output\\summaries_folder\\mistral-small_20241213_125952\\CJG_45_2023_12_16-summary_4.txt -> C:/Users/G/Documents/GitHub/audycje.com.pl/content/audio\\CJG_45_2023_12_16.txt\n",
      "Record already exists: voiceapp\\output\\summaries_folder\\mistral-small_20241213_125952\\CJG_45_2023_12_16-summary_5.txt -> C:/Users/G/Documents/GitHub/audycje.com.pl/content/audio\\CJG_45_2023_12_16.txt\n",
      "Record already exists: voiceapp\\output\\summaries_folder\\mistral-small_20241213_125952\\CJG_45_2023_12_16-summary_1.txt -> C:/Users/G/Documents/GitHub/audycje.com.pl/content/audio\\CJG_45_2023_12_16.txt\n",
      "Record already exists: voiceapp\\output\\summaries_folder\\mistral-small_20241213_125952\\CJG_45_2023_12_16-summary_2.txt -> C:/Users/G/Documents/GitHub/audycje.com.pl/content/audio\\CJG_45_2023_12_16.txt\n",
      "Record already exists: voiceapp\\output\\summaries_folder\\mistral-small_20241213_125952\\CJG_45_2023_12_16-summary_3.txt -> C:/Users/G/Documents/GitHub/audycje.com.pl/content/audio\\CJG_45_2023_12_16.txt\n",
      "Record already exists: voiceapp\\output\\summaries_folder\\mistral-small_20241213_125952\\CJG_45_2023_12_16-summary_4.txt -> C:/Users/G/Documents/GitHub/audycje.com.pl/content/audio\\CJG_45_2023_12_16.txt\n"
     ]
    },
    {
     "name": "stderr",
     "output_type": "stream",
     "text": [
      "\n",
      "\n",
      "Summarizing files for mistral-small:  46%|███████████████████████████████████▋                                         | 45/97 [3:19:54<4:16:19, 295.77s/it, file=CJG_44_2023_12_09.txt, summaries_count=20, time=307.32 seconds]\u001b[A\u001b[A\n",
      "\n",
      "Summarizing files for mistral-small:  46%|███████████████████████████████████▋                                         | 45/97 [3:19:54<4:16:19, 295.77s/it, file=CJG_45_2023_12_16.txt, summaries_count=20, time=258.30 seconds]\u001b[A\u001b[A"
     ]
    },
    {
     "name": "stdout",
     "output_type": "stream",
     "text": [
      "Record already exists: voiceapp\\output\\summaries_folder\\mistral-small_20241213_125952\\CJG_45_2023_12_16-summary_5.txt -> C:/Users/G/Documents/GitHub/audycje.com.pl/content/audio\\CJG_45_2023_12_16.txt\n",
      "Record already exists: voiceapp\\output\\summaries_folder\\mistral-small_20241213_125952\\CJG_46_2023_12_23-summary_1.txt -> C:/Users/G/Documents/GitHub/audycje.com.pl/content/audio\\CJG_46_2023_12_23.txt\n",
      "Record already exists: voiceapp\\output\\summaries_folder\\mistral-small_20241213_125952\\CJG_46_2023_12_23-summary_2.txt -> C:/Users/G/Documents/GitHub/audycje.com.pl/content/audio\\CJG_46_2023_12_23.txt\n",
      "Record already exists: voiceapp\\output\\summaries_folder\\mistral-small_20241213_125952\\CJG_46_2023_12_23-summary_3.txt -> C:/Users/G/Documents/GitHub/audycje.com.pl/content/audio\\CJG_46_2023_12_23.txt\n",
      "Record already exists: voiceapp\\output\\summaries_folder\\mistral-small_20241213_125952\\CJG_46_2023_12_23-summary_4.txt -> C:/Users/G/Documents/GitHub/audycje.com.pl/content/audio\\CJG_46_2023_12_23.txt\n",
      "Record already exists: voiceapp\\output\\summaries_folder\\mistral-small_20241213_125952\\CJG_46_2023_12_23-summary_5.txt -> C:/Users/G/Documents/GitHub/audycje.com.pl/content/audio\\CJG_46_2023_12_23.txt\n",
      "Record already exists: voiceapp\\output\\summaries_folder\\mistral-small_20241213_125952\\CJG_46_2023_12_23-summary_1.txt -> C:/Users/G/Documents/GitHub/audycje.com.pl/content/audio\\CJG_46_2023_12_23.txt\n",
      "Record already exists: voiceapp\\output\\summaries_folder\\mistral-small_20241213_125952\\CJG_46_2023_12_23-summary_2.txt -> C:/Users/G/Documents/GitHub/audycje.com.pl/content/audio\\CJG_46_2023_12_23.txt\n",
      "Record already exists: voiceapp\\output\\summaries_folder\\mistral-small_20241213_125952\\CJG_46_2023_12_23-summary_3.txt -> C:/Users/G/Documents/GitHub/audycje.com.pl/content/audio\\CJG_46_2023_12_23.txt\n",
      "Record already exists: voiceapp\\output\\summaries_folder\\mistral-small_20241213_125952\\CJG_46_2023_12_23-summary_4.txt -> C:/Users/G/Documents/GitHub/audycje.com.pl/content/audio\\CJG_46_2023_12_23.txt\n",
      "Record already exists: voiceapp\\output\\summaries_folder\\mistral-small_20241213_125952\\CJG_46_2023_12_23-summary_5.txt -> C:/Users/G/Documents/GitHub/audycje.com.pl/content/audio\\CJG_46_2023_12_23.txt\n",
      "Record already exists: voiceapp\\output\\summaries_folder\\mistral-small_20241213_125952\\CJG_46_2023_12_23-summary_1.txt -> C:/Users/G/Documents/GitHub/audycje.com.pl/content/audio\\CJG_46_2023_12_23.txt\n",
      "Record already exists: voiceapp\\output\\summaries_folder\\mistral-small_20241213_125952\\CJG_46_2023_12_23-summary_2.txt -> C:/Users/G/Documents/GitHub/audycje.com.pl/content/audio\\CJG_46_2023_12_23.txt\n",
      "Record already exists: voiceapp\\output\\summaries_folder\\mistral-small_20241213_125952\\CJG_46_2023_12_23-summary_3.txt -> C:/Users/G/Documents/GitHub/audycje.com.pl/content/audio\\CJG_46_2023_12_23.txt\n",
      "Record already exists: voiceapp\\output\\summaries_folder\\mistral-small_20241213_125952\\CJG_46_2023_12_23-summary_4.txt -> C:/Users/G/Documents/GitHub/audycje.com.pl/content/audio\\CJG_46_2023_12_23.txt\n"
     ]
    },
    {
     "name": "stderr",
     "output_type": "stream",
     "text": [
      "\n",
      "\n",
      "Summarizing files for mistral-small:  47%|████████████████████████████████████▌                                        | 46/97 [3:24:52<4:12:05, 296.58s/it, file=CJG_45_2023_12_16.txt, summaries_count=20, time=258.30 seconds]\u001b[A\u001b[A\n",
      "\n",
      "Summarizing files for mistral-small:  47%|████████████████████████████████████▌                                        | 46/97 [3:24:52<4:12:05, 296.58s/it, file=CJG_46_2023_12_23.txt, summaries_count=20, time=298.47 seconds]\u001b[A\u001b[A"
     ]
    },
    {
     "name": "stdout",
     "output_type": "stream",
     "text": [
      "Record already exists: voiceapp\\output\\summaries_folder\\mistral-small_20241213_125952\\CJG_46_2023_12_23-summary_5.txt -> C:/Users/G/Documents/GitHub/audycje.com.pl/content/audio\\CJG_46_2023_12_23.txt\n",
      "Record already exists: voiceapp\\output\\summaries_folder\\mistral-small_20241213_125952\\CJG_47_2023_12_30-summary_1.txt -> C:/Users/G/Documents/GitHub/audycje.com.pl/content/audio\\CJG_47_2023_12_30.txt\n",
      "Record already exists: voiceapp\\output\\summaries_folder\\mistral-small_20241213_125952\\CJG_47_2023_12_30-summary_2.txt -> C:/Users/G/Documents/GitHub/audycje.com.pl/content/audio\\CJG_47_2023_12_30.txt\n",
      "Record already exists: voiceapp\\output\\summaries_folder\\mistral-small_20241213_125952\\CJG_47_2023_12_30-summary_3.txt -> C:/Users/G/Documents/GitHub/audycje.com.pl/content/audio\\CJG_47_2023_12_30.txt\n",
      "Record already exists: voiceapp\\output\\summaries_folder\\mistral-small_20241213_125952\\CJG_47_2023_12_30-summary_4.txt -> C:/Users/G/Documents/GitHub/audycje.com.pl/content/audio\\CJG_47_2023_12_30.txt\n",
      "Record already exists: voiceapp\\output\\summaries_folder\\mistral-small_20241213_125952\\CJG_47_2023_12_30-summary_5.txt -> C:/Users/G/Documents/GitHub/audycje.com.pl/content/audio\\CJG_47_2023_12_30.txt\n",
      "Record already exists: voiceapp\\output\\summaries_folder\\mistral-small_20241213_125952\\CJG_47_2023_12_30-summary_1.txt -> C:/Users/G/Documents/GitHub/audycje.com.pl/content/audio\\CJG_47_2023_12_30.txt\n",
      "Record already exists: voiceapp\\output\\summaries_folder\\mistral-small_20241213_125952\\CJG_47_2023_12_30-summary_2.txt -> C:/Users/G/Documents/GitHub/audycje.com.pl/content/audio\\CJG_47_2023_12_30.txt\n",
      "Record already exists: voiceapp\\output\\summaries_folder\\mistral-small_20241213_125952\\CJG_47_2023_12_30-summary_3.txt -> C:/Users/G/Documents/GitHub/audycje.com.pl/content/audio\\CJG_47_2023_12_30.txt\n",
      "Record already exists: voiceapp\\output\\summaries_folder\\mistral-small_20241213_125952\\CJG_47_2023_12_30-summary_4.txt -> C:/Users/G/Documents/GitHub/audycje.com.pl/content/audio\\CJG_47_2023_12_30.txt\n",
      "Record already exists: voiceapp\\output\\summaries_folder\\mistral-small_20241213_125952\\CJG_47_2023_12_30-summary_5.txt -> C:/Users/G/Documents/GitHub/audycje.com.pl/content/audio\\CJG_47_2023_12_30.txt\n",
      "Record already exists: voiceapp\\output\\summaries_folder\\mistral-small_20241213_125952\\CJG_47_2023_12_30-summary_1.txt -> C:/Users/G/Documents/GitHub/audycje.com.pl/content/audio\\CJG_47_2023_12_30.txt\n",
      "Record already exists: voiceapp\\output\\summaries_folder\\mistral-small_20241213_125952\\CJG_47_2023_12_30-summary_2.txt -> C:/Users/G/Documents/GitHub/audycje.com.pl/content/audio\\CJG_47_2023_12_30.txt\n",
      "Record already exists: voiceapp\\output\\summaries_folder\\mistral-small_20241213_125952\\CJG_47_2023_12_30-summary_3.txt -> C:/Users/G/Documents/GitHub/audycje.com.pl/content/audio\\CJG_47_2023_12_30.txt\n",
      "Record already exists: voiceapp\\output\\summaries_folder\\mistral-small_20241213_125952\\CJG_47_2023_12_30-summary_4.txt -> C:/Users/G/Documents/GitHub/audycje.com.pl/content/audio\\CJG_47_2023_12_30.txt\n"
     ]
    },
    {
     "name": "stderr",
     "output_type": "stream",
     "text": [
      "\n",
      "\n",
      "Summarizing files for mistral-small:  48%|█████████████████████████████████████▎                                       | 47/97 [3:30:19<4:14:44, 305.69s/it, file=CJG_46_2023_12_23.txt, summaries_count=20, time=298.47 seconds]\u001b[A\u001b[A\n",
      "\n",
      "Summarizing files for mistral-small:  48%|█████████████████████████████████████▎                                       | 47/97 [3:30:19<4:14:44, 305.69s/it, file=CJG_47_2023_12_30.txt, summaries_count=20, time=326.94 seconds]\u001b[A\u001b[A"
     ]
    },
    {
     "name": "stdout",
     "output_type": "stream",
     "text": [
      "Record already exists: voiceapp\\output\\summaries_folder\\mistral-small_20241213_125952\\CJG_47_2023_12_30-summary_5.txt -> C:/Users/G/Documents/GitHub/audycje.com.pl/content/audio\\CJG_47_2023_12_30.txt\n",
      "Record already exists: voiceapp\\output\\summaries_folder\\mistral-small_20241213_125952\\CJG_48_2024_01_06-summary_1.txt -> C:/Users/G/Documents/GitHub/audycje.com.pl/content/audio\\CJG_48_2024_01_06.txt\n",
      "Record already exists: voiceapp\\output\\summaries_folder\\mistral-small_20241213_125952\\CJG_48_2024_01_06-summary_2.txt -> C:/Users/G/Documents/GitHub/audycje.com.pl/content/audio\\CJG_48_2024_01_06.txt\n",
      "Record already exists: voiceapp\\output\\summaries_folder\\mistral-small_20241213_125952\\CJG_48_2024_01_06-summary_3.txt -> C:/Users/G/Documents/GitHub/audycje.com.pl/content/audio\\CJG_48_2024_01_06.txt\n",
      "Record already exists: voiceapp\\output\\summaries_folder\\mistral-small_20241213_125952\\CJG_48_2024_01_06-summary_4.txt -> C:/Users/G/Documents/GitHub/audycje.com.pl/content/audio\\CJG_48_2024_01_06.txt\n",
      "Record already exists: voiceapp\\output\\summaries_folder\\mistral-small_20241213_125952\\CJG_48_2024_01_06-summary_5.txt -> C:/Users/G/Documents/GitHub/audycje.com.pl/content/audio\\CJG_48_2024_01_06.txt\n",
      "Record already exists: voiceapp\\output\\summaries_folder\\mistral-small_20241213_125952\\CJG_48_2024_01_06-summary_1.txt -> C:/Users/G/Documents/GitHub/audycje.com.pl/content/audio\\CJG_48_2024_01_06.txt\n",
      "Record already exists: voiceapp\\output\\summaries_folder\\mistral-small_20241213_125952\\CJG_48_2024_01_06-summary_2.txt -> C:/Users/G/Documents/GitHub/audycje.com.pl/content/audio\\CJG_48_2024_01_06.txt\n",
      "Record already exists: voiceapp\\output\\summaries_folder\\mistral-small_20241213_125952\\CJG_48_2024_01_06-summary_3.txt -> C:/Users/G/Documents/GitHub/audycje.com.pl/content/audio\\CJG_48_2024_01_06.txt\n",
      "Record already exists: voiceapp\\output\\summaries_folder\\mistral-small_20241213_125952\\CJG_48_2024_01_06-summary_4.txt -> C:/Users/G/Documents/GitHub/audycje.com.pl/content/audio\\CJG_48_2024_01_06.txt\n",
      "Record already exists: voiceapp\\output\\summaries_folder\\mistral-small_20241213_125952\\CJG_48_2024_01_06-summary_5.txt -> C:/Users/G/Documents/GitHub/audycje.com.pl/content/audio\\CJG_48_2024_01_06.txt\n",
      "Record already exists: voiceapp\\output\\summaries_folder\\mistral-small_20241213_125952\\CJG_48_2024_01_06-summary_1.txt -> C:/Users/G/Documents/GitHub/audycje.com.pl/content/audio\\CJG_48_2024_01_06.txt\n",
      "Record already exists: voiceapp\\output\\summaries_folder\\mistral-small_20241213_125952\\CJG_48_2024_01_06-summary_2.txt -> C:/Users/G/Documents/GitHub/audycje.com.pl/content/audio\\CJG_48_2024_01_06.txt\n",
      "Record already exists: voiceapp\\output\\summaries_folder\\mistral-small_20241213_125952\\CJG_48_2024_01_06-summary_3.txt -> C:/Users/G/Documents/GitHub/audycje.com.pl/content/audio\\CJG_48_2024_01_06.txt\n",
      "Record already exists: voiceapp\\output\\summaries_folder\\mistral-small_20241213_125952\\CJG_48_2024_01_06-summary_4.txt -> C:/Users/G/Documents/GitHub/audycje.com.pl/content/audio\\CJG_48_2024_01_06.txt\n"
     ]
    },
    {
     "name": "stderr",
     "output_type": "stream",
     "text": [
      "\n",
      "\n",
      "Summarizing files for mistral-small:  49%|██████████████████████████████████████                                       | 48/97 [3:35:04<4:04:29, 299.38s/it, file=CJG_47_2023_12_30.txt, summaries_count=20, time=326.94 seconds]\u001b[A\u001b[A\n",
      "\n",
      "Summarizing files for mistral-small:  49%|██████████████████████████████████████                                       | 48/97 [3:35:04<4:04:29, 299.38s/it, file=CJG_48_2024_01_06.txt, summaries_count=20, time=284.66 seconds]\u001b[A\u001b[A"
     ]
    },
    {
     "name": "stdout",
     "output_type": "stream",
     "text": [
      "Record already exists: voiceapp\\output\\summaries_folder\\mistral-small_20241213_125952\\CJG_48_2024_01_06-summary_5.txt -> C:/Users/G/Documents/GitHub/audycje.com.pl/content/audio\\CJG_48_2024_01_06.txt\n",
      "Record already exists: voiceapp\\output\\summaries_folder\\mistral-small_20241213_125952\\CJG_49_2024_01_13-summary_1.txt -> C:/Users/G/Documents/GitHub/audycje.com.pl/content/audio\\CJG_49_2024_01_13.txt\n",
      "Record already exists: voiceapp\\output\\summaries_folder\\mistral-small_20241213_125952\\CJG_49_2024_01_13-summary_2.txt -> C:/Users/G/Documents/GitHub/audycje.com.pl/content/audio\\CJG_49_2024_01_13.txt\n",
      "Record already exists: voiceapp\\output\\summaries_folder\\mistral-small_20241213_125952\\CJG_49_2024_01_13-summary_3.txt -> C:/Users/G/Documents/GitHub/audycje.com.pl/content/audio\\CJG_49_2024_01_13.txt\n",
      "Record already exists: voiceapp\\output\\summaries_folder\\mistral-small_20241213_125952\\CJG_49_2024_01_13-summary_4.txt -> C:/Users/G/Documents/GitHub/audycje.com.pl/content/audio\\CJG_49_2024_01_13.txt\n",
      "Record already exists: voiceapp\\output\\summaries_folder\\mistral-small_20241213_125952\\CJG_49_2024_01_13-summary_5.txt -> C:/Users/G/Documents/GitHub/audycje.com.pl/content/audio\\CJG_49_2024_01_13.txt\n",
      "Record already exists: voiceapp\\output\\summaries_folder\\mistral-small_20241213_125952\\CJG_49_2024_01_13-summary_1.txt -> C:/Users/G/Documents/GitHub/audycje.com.pl/content/audio\\CJG_49_2024_01_13.txt\n",
      "Record already exists: voiceapp\\output\\summaries_folder\\mistral-small_20241213_125952\\CJG_49_2024_01_13-summary_2.txt -> C:/Users/G/Documents/GitHub/audycje.com.pl/content/audio\\CJG_49_2024_01_13.txt\n",
      "Record already exists: voiceapp\\output\\summaries_folder\\mistral-small_20241213_125952\\CJG_49_2024_01_13-summary_3.txt -> C:/Users/G/Documents/GitHub/audycje.com.pl/content/audio\\CJG_49_2024_01_13.txt\n",
      "Record already exists: voiceapp\\output\\summaries_folder\\mistral-small_20241213_125952\\CJG_49_2024_01_13-summary_4.txt -> C:/Users/G/Documents/GitHub/audycje.com.pl/content/audio\\CJG_49_2024_01_13.txt\n"
     ]
    },
    {
     "name": "stderr",
     "output_type": "stream",
     "text": [
      "\n",
      "\n",
      "Summarizing files for mistral-small:  51%|██████████████████████████████████████▉                                      | 49/97 [3:38:55<3:43:01, 278.79s/it, file=CJG_48_2024_01_06.txt, summaries_count=20, time=284.66 seconds]\u001b[A\u001b[A\n",
      "\n",
      "Summarizing files for mistral-small:  51%|██████████████████████████████████████▉                                      | 49/97 [3:38:55<3:43:01, 278.79s/it, file=CJG_49_2024_01_13.txt, summaries_count=15, time=230.73 seconds]\u001b[A\u001b[A"
     ]
    },
    {
     "name": "stdout",
     "output_type": "stream",
     "text": [
      "Record already exists: voiceapp\\output\\summaries_folder\\mistral-small_20241213_125952\\CJG_49_2024_01_13-summary_5.txt -> C:/Users/G/Documents/GitHub/audycje.com.pl/content/audio\\CJG_49_2024_01_13.txt\n",
      "Record already exists: voiceapp\\output\\summaries_folder\\mistral-small_20241213_125952\\CJG_50_2024_01_20-summary_1.txt -> C:/Users/G/Documents/GitHub/audycje.com.pl/content/audio\\CJG_50_2024_01_20.txt\n",
      "Record already exists: voiceapp\\output\\summaries_folder\\mistral-small_20241213_125952\\CJG_50_2024_01_20-summary_2.txt -> C:/Users/G/Documents/GitHub/audycje.com.pl/content/audio\\CJG_50_2024_01_20.txt\n",
      "Record already exists: voiceapp\\output\\summaries_folder\\mistral-small_20241213_125952\\CJG_50_2024_01_20-summary_3.txt -> C:/Users/G/Documents/GitHub/audycje.com.pl/content/audio\\CJG_50_2024_01_20.txt\n",
      "Record already exists: voiceapp\\output\\summaries_folder\\mistral-small_20241213_125952\\CJG_50_2024_01_20-summary_4.txt -> C:/Users/G/Documents/GitHub/audycje.com.pl/content/audio\\CJG_50_2024_01_20.txt\n",
      "Record already exists: voiceapp\\output\\summaries_folder\\mistral-small_20241213_125952\\CJG_50_2024_01_20-summary_5.txt -> C:/Users/G/Documents/GitHub/audycje.com.pl/content/audio\\CJG_50_2024_01_20.txt\n",
      "Record already exists: voiceapp\\output\\summaries_folder\\mistral-small_20241213_125952\\CJG_50_2024_01_20-summary_1.txt -> C:/Users/G/Documents/GitHub/audycje.com.pl/content/audio\\CJG_50_2024_01_20.txt\n",
      "Record already exists: voiceapp\\output\\summaries_folder\\mistral-small_20241213_125952\\CJG_50_2024_01_20-summary_2.txt -> C:/Users/G/Documents/GitHub/audycje.com.pl/content/audio\\CJG_50_2024_01_20.txt\n",
      "Record already exists: voiceapp\\output\\summaries_folder\\mistral-small_20241213_125952\\CJG_50_2024_01_20-summary_3.txt -> C:/Users/G/Documents/GitHub/audycje.com.pl/content/audio\\CJG_50_2024_01_20.txt\n",
      "Record already exists: voiceapp\\output\\summaries_folder\\mistral-small_20241213_125952\\CJG_50_2024_01_20-summary_4.txt -> C:/Users/G/Documents/GitHub/audycje.com.pl/content/audio\\CJG_50_2024_01_20.txt\n",
      "Record already exists: voiceapp\\output\\summaries_folder\\mistral-small_20241213_125952\\CJG_50_2024_01_20-summary_5.txt -> C:/Users/G/Documents/GitHub/audycje.com.pl/content/audio\\CJG_50_2024_01_20.txt\n",
      "Record already exists: voiceapp\\output\\summaries_folder\\mistral-small_20241213_125952\\CJG_50_2024_01_20-summary_1.txt -> C:/Users/G/Documents/GitHub/audycje.com.pl/content/audio\\CJG_50_2024_01_20.txt\n",
      "Record already exists: voiceapp\\output\\summaries_folder\\mistral-small_20241213_125952\\CJG_50_2024_01_20-summary_2.txt -> C:/Users/G/Documents/GitHub/audycje.com.pl/content/audio\\CJG_50_2024_01_20.txt\n",
      "Record already exists: voiceapp\\output\\summaries_folder\\mistral-small_20241213_125952\\CJG_50_2024_01_20-summary_3.txt -> C:/Users/G/Documents/GitHub/audycje.com.pl/content/audio\\CJG_50_2024_01_20.txt\n",
      "Record already exists: voiceapp\\output\\summaries_folder\\mistral-small_20241213_125952\\CJG_50_2024_01_20-summary_4.txt -> C:/Users/G/Documents/GitHub/audycje.com.pl/content/audio\\CJG_50_2024_01_20.txt\n"
     ]
    },
    {
     "name": "stderr",
     "output_type": "stream",
     "text": [
      "\n",
      "\n",
      "Summarizing files for mistral-small:  52%|███████████████████████████████████████▋                                     | 50/97 [3:44:13<3:47:38, 290.60s/it, file=CJG_49_2024_01_13.txt, summaries_count=15, time=230.73 seconds]\u001b[A\u001b[A\n",
      "\n",
      "Summarizing files for mistral-small:  52%|███████████████████████████████████████▋                                     | 50/97 [3:44:13<3:47:38, 290.60s/it, file=CJG_50_2024_01_20.txt, summaries_count=20, time=318.16 seconds]\u001b[A\u001b[A"
     ]
    },
    {
     "name": "stdout",
     "output_type": "stream",
     "text": [
      "Record already exists: voiceapp\\output\\summaries_folder\\mistral-small_20241213_125952\\CJG_50_2024_01_20-summary_5.txt -> C:/Users/G/Documents/GitHub/audycje.com.pl/content/audio\\CJG_50_2024_01_20.txt\n",
      "Record already exists: voiceapp\\output\\summaries_folder\\mistral-small_20241213_125952\\CJG_51_2024_01_27-summary_1.txt -> C:/Users/G/Documents/GitHub/audycje.com.pl/content/audio\\CJG_51_2024_01_27.txt\n",
      "Record already exists: voiceapp\\output\\summaries_folder\\mistral-small_20241213_125952\\CJG_51_2024_01_27-summary_2.txt -> C:/Users/G/Documents/GitHub/audycje.com.pl/content/audio\\CJG_51_2024_01_27.txt\n",
      "Record already exists: voiceapp\\output\\summaries_folder\\mistral-small_20241213_125952\\CJG_51_2024_01_27-summary_3.txt -> C:/Users/G/Documents/GitHub/audycje.com.pl/content/audio\\CJG_51_2024_01_27.txt\n",
      "Record already exists: voiceapp\\output\\summaries_folder\\mistral-small_20241213_125952\\CJG_51_2024_01_27-summary_4.txt -> C:/Users/G/Documents/GitHub/audycje.com.pl/content/audio\\CJG_51_2024_01_27.txt\n",
      "Record already exists: voiceapp\\output\\summaries_folder\\mistral-small_20241213_125952\\CJG_51_2024_01_27-summary_5.txt -> C:/Users/G/Documents/GitHub/audycje.com.pl/content/audio\\CJG_51_2024_01_27.txt\n",
      "Record already exists: voiceapp\\output\\summaries_folder\\mistral-small_20241213_125952\\CJG_51_2024_01_27-summary_1.txt -> C:/Users/G/Documents/GitHub/audycje.com.pl/content/audio\\CJG_51_2024_01_27.txt\n",
      "Record already exists: voiceapp\\output\\summaries_folder\\mistral-small_20241213_125952\\CJG_51_2024_01_27-summary_2.txt -> C:/Users/G/Documents/GitHub/audycje.com.pl/content/audio\\CJG_51_2024_01_27.txt\n",
      "Record already exists: voiceapp\\output\\summaries_folder\\mistral-small_20241213_125952\\CJG_51_2024_01_27-summary_3.txt -> C:/Users/G/Documents/GitHub/audycje.com.pl/content/audio\\CJG_51_2024_01_27.txt\n",
      "Record already exists: voiceapp\\output\\summaries_folder\\mistral-small_20241213_125952\\CJG_51_2024_01_27-summary_4.txt -> C:/Users/G/Documents/GitHub/audycje.com.pl/content/audio\\CJG_51_2024_01_27.txt\n",
      "Record already exists: voiceapp\\output\\summaries_folder\\mistral-small_20241213_125952\\CJG_51_2024_01_27-summary_5.txt -> C:/Users/G/Documents/GitHub/audycje.com.pl/content/audio\\CJG_51_2024_01_27.txt\n",
      "Record already exists: voiceapp\\output\\summaries_folder\\mistral-small_20241213_125952\\CJG_51_2024_01_27-summary_1.txt -> C:/Users/G/Documents/GitHub/audycje.com.pl/content/audio\\CJG_51_2024_01_27.txt\n",
      "Record already exists: voiceapp\\output\\summaries_folder\\mistral-small_20241213_125952\\CJG_51_2024_01_27-summary_2.txt -> C:/Users/G/Documents/GitHub/audycje.com.pl/content/audio\\CJG_51_2024_01_27.txt\n",
      "Record already exists: voiceapp\\output\\summaries_folder\\mistral-small_20241213_125952\\CJG_51_2024_01_27-summary_3.txt -> C:/Users/G/Documents/GitHub/audycje.com.pl/content/audio\\CJG_51_2024_01_27.txt\n",
      "Record already exists: voiceapp\\output\\summaries_folder\\mistral-small_20241213_125952\\CJG_51_2024_01_27-summary_4.txt -> C:/Users/G/Documents/GitHub/audycje.com.pl/content/audio\\CJG_51_2024_01_27.txt\n"
     ]
    },
    {
     "name": "stderr",
     "output_type": "stream",
     "text": [
      "\n",
      "\n",
      "Summarizing files for mistral-small:  53%|████████████████████████████████████████▍                                    | 51/97 [3:49:24<3:47:25, 296.63s/it, file=CJG_50_2024_01_20.txt, summaries_count=20, time=318.16 seconds]\u001b[A\u001b[A\n",
      "\n",
      "Summarizing files for mistral-small:  53%|████████████████████████████████████████▍                                    | 51/97 [3:49:24<3:47:25, 296.63s/it, file=CJG_51_2024_01_27.txt, summaries_count=20, time=310.70 seconds]\u001b[A\u001b[A"
     ]
    },
    {
     "name": "stdout",
     "output_type": "stream",
     "text": [
      "Record already exists: voiceapp\\output\\summaries_folder\\mistral-small_20241213_125952\\CJG_51_2024_01_27-summary_5.txt -> C:/Users/G/Documents/GitHub/audycje.com.pl/content/audio\\CJG_51_2024_01_27.txt\n"
     ]
    },
    {
     "name": "stderr",
     "output_type": "stream",
     "text": [
      "\n",
      "\n",
      "Summarizing files for mistral-small:  54%|█████████████████████████████████████████▎                                   | 52/97 [3:50:46<2:54:15, 232.35s/it, file=CJG_51_2024_01_27.txt, summaries_count=20, time=310.70 seconds]\u001b[A\u001b[A\n",
      "\n",
      "Summarizing files for mistral-small:  54%|██████████████████████████████████████████████                                        | 52/97 [3:50:46<2:54:15, 232.35s/it, file=CJG - AI 1.txt, summaries_count=5, time=82.36 seconds]\u001b[A\u001b[A"
     ]
    },
    {
     "name": "stdout",
     "output_type": "stream",
     "text": [
      "Record already exists: voiceapp\\output\\summaries_folder\\mistral-small_20241213_125952\\CJG - ambergold 1-summary_1.txt -> C:/Users/G/Documents/GitHub/audycje.com.pl/content/audio\\shorts\\CJG - ambergold 1.txt\n",
      "Record already exists: voiceapp\\output\\summaries_folder\\mistral-small_20241213_125952\\CJG - ambergold 1-summary_2.txt -> C:/Users/G/Documents/GitHub/audycje.com.pl/content/audio\\shorts\\CJG - ambergold 1.txt\n",
      "Record already exists: voiceapp\\output\\summaries_folder\\mistral-small_20241213_125952\\CJG - ambergold 1-summary_3.txt -> C:/Users/G/Documents/GitHub/audycje.com.pl/content/audio\\shorts\\CJG - ambergold 1.txt\n",
      "Record already exists: voiceapp\\output\\summaries_folder\\mistral-small_20241213_125952\\CJG - ambergold 1-summary_4.txt -> C:/Users/G/Documents/GitHub/audycje.com.pl/content/audio\\shorts\\CJG - ambergold 1.txt\n"
     ]
    },
    {
     "name": "stderr",
     "output_type": "stream",
     "text": [
      "\n",
      "\n",
      "Summarizing files for mistral-small:  55%|██████████████████████████████████████████████▉                                       | 53/97 [3:53:05<2:29:53, 204.40s/it, file=CJG - AI 1.txt, summaries_count=5, time=82.36 seconds]\u001b[A\u001b[A\n",
      "\n",
      "Summarizing files for mistral-small:  55%|██████████████████████████████████████████                                   | 53/97 [3:53:05<2:29:53, 204.40s/it, file=CJG - ambergold 1.txt, summaries_count=10, time=139.17 seconds]\u001b[A\u001b[A"
     ]
    },
    {
     "name": "stdout",
     "output_type": "stream",
     "text": [
      "Record already exists: voiceapp\\output\\summaries_folder\\mistral-small_20241213_125952\\CJG - ambergold 1-summary_5.txt -> C:/Users/G/Documents/GitHub/audycje.com.pl/content/audio\\shorts\\CJG - ambergold 1.txt\n"
     ]
    },
    {
     "name": "stderr",
     "output_type": "stream",
     "text": [
      "\n",
      "\n",
      "Summarizing files for mistral-small:  56%|██████████████████████████████████████████▊                                  | 54/97 [3:54:23<1:59:21, 166.55s/it, file=CJG - ambergold 1.txt, summaries_count=10, time=139.17 seconds]\u001b[A\u001b[A\n",
      "\n",
      "Summarizing files for mistral-small:  56%|█████████████████████████████████████████▏                                | 54/97 [3:54:23<1:59:21, 166.55s/it, file=CJG - anheuser-busch 1.txt, summaries_count=5, time=78.24 seconds]\u001b[A\u001b[A"
     ]
    },
    {
     "name": "stdout",
     "output_type": "stream",
     "text": [
      "Record already exists: voiceapp\\output\\summaries_folder\\mistral-small_20241213_125952\\CJG - C40 1-summary_1.txt -> C:/Users/G/Documents/GitHub/audycje.com.pl/content/audio\\shorts\\CJG - C40 1.txt\n",
      "Record already exists: voiceapp\\output\\summaries_folder\\mistral-small_20241213_125952\\CJG - C40 1-summary_2.txt -> C:/Users/G/Documents/GitHub/audycje.com.pl/content/audio\\shorts\\CJG - C40 1.txt\n",
      "Record already exists: voiceapp\\output\\summaries_folder\\mistral-small_20241213_125952\\CJG - C40 1-summary_3.txt -> C:/Users/G/Documents/GitHub/audycje.com.pl/content/audio\\shorts\\CJG - C40 1.txt\n",
      "Record already exists: voiceapp\\output\\summaries_folder\\mistral-small_20241213_125952\\CJG - C40 1-summary_4.txt -> C:/Users/G/Documents/GitHub/audycje.com.pl/content/audio\\shorts\\CJG - C40 1.txt\n"
     ]
    },
    {
     "name": "stderr",
     "output_type": "stream",
     "text": [
      "\n",
      "\n",
      "Summarizing files for mistral-small:  57%|█████████████████████████████████████████▉                                | 55/97 [3:55:47<1:39:03, 141.52s/it, file=CJG - anheuser-busch 1.txt, summaries_count=5, time=78.24 seconds]\u001b[A\u001b[A\n",
      "\n",
      "Summarizing files for mistral-small:  57%|███████████████████████████████████████████████▋                                    | 55/97 [3:55:47<1:39:03, 141.52s/it, file=CJG - C40 1.txt, summaries_count=10, time=83.13 seconds]\u001b[A\u001b[A"
     ]
    },
    {
     "name": "stdout",
     "output_type": "stream",
     "text": [
      "Record already exists: voiceapp\\output\\summaries_folder\\mistral-small_20241213_125952\\CJG - C40 1-summary_5.txt -> C:/Users/G/Documents/GitHub/audycje.com.pl/content/audio\\shorts\\CJG - C40 1.txt\n",
      "Record already exists: voiceapp\\output\\summaries_folder\\mistral-small_20241213_125952\\CJG - dawne zapowiedzi 1-summary_1.txt -> C:/Users/G/Documents/GitHub/audycje.com.pl/content/audio\\shorts\\CJG - dawne zapowiedzi 1.txt\n",
      "Record already exists: voiceapp\\output\\summaries_folder\\mistral-small_20241213_125952\\CJG - dawne zapowiedzi 1-summary_2.txt -> C:/Users/G/Documents/GitHub/audycje.com.pl/content/audio\\shorts\\CJG - dawne zapowiedzi 1.txt\n",
      "Record already exists: voiceapp\\output\\summaries_folder\\mistral-small_20241213_125952\\CJG - dawne zapowiedzi 1-summary_3.txt -> C:/Users/G/Documents/GitHub/audycje.com.pl/content/audio\\shorts\\CJG - dawne zapowiedzi 1.txt\n",
      "Record already exists: voiceapp\\output\\summaries_folder\\mistral-small_20241213_125952\\CJG - dawne zapowiedzi 1-summary_4.txt -> C:/Users/G/Documents/GitHub/audycje.com.pl/content/audio\\shorts\\CJG - dawne zapowiedzi 1.txt\n"
     ]
    },
    {
     "name": "stderr",
     "output_type": "stream",
     "text": [
      "\n",
      "\n",
      "Summarizing files for mistral-small:  58%|████████████████████████████████████████████████▍                                   | 56/97 [3:57:59<1:34:51, 138.81s/it, file=CJG - C40 1.txt, summaries_count=10, time=83.13 seconds]\u001b[A\u001b[A\n",
      "\n",
      "Summarizing files for mistral-small:  58%|████████████████████████████████████████▍                             | 56/97 [3:57:59<1:34:51, 138.81s/it, file=CJG - dawne zapowiedzi 1.txt, summaries_count=10, time=132.48 seconds]\u001b[A\u001b[A"
     ]
    },
    {
     "name": "stdout",
     "output_type": "stream",
     "text": [
      "Record already exists: voiceapp\\output\\summaries_folder\\mistral-small_20241213_125952\\CJG - dawne zapowiedzi 1-summary_5.txt -> C:/Users/G/Documents/GitHub/audycje.com.pl/content/audio\\shorts\\CJG - dawne zapowiedzi 1.txt\n",
      "Record already exists: voiceapp\\output\\summaries_folder\\mistral-small_20241213_125952\\CJG - emigracja 1-summary_1.txt -> C:/Users/G/Documents/GitHub/audycje.com.pl/content/audio\\shorts\\CJG - emigracja 1.txt\n",
      "Record already exists: voiceapp\\output\\summaries_folder\\mistral-small_20241213_125952\\CJG - emigracja 1-summary_2.txt -> C:/Users/G/Documents/GitHub/audycje.com.pl/content/audio\\shorts\\CJG - emigracja 1.txt\n",
      "Record already exists: voiceapp\\output\\summaries_folder\\mistral-small_20241213_125952\\CJG - emigracja 1-summary_3.txt -> C:/Users/G/Documents/GitHub/audycje.com.pl/content/audio\\shorts\\CJG - emigracja 1.txt\n",
      "Record already exists: voiceapp\\output\\summaries_folder\\mistral-small_20241213_125952\\CJG - emigracja 1-summary_4.txt -> C:/Users/G/Documents/GitHub/audycje.com.pl/content/audio\\shorts\\CJG - emigracja 1.txt\n"
     ]
    },
    {
     "name": "stderr",
     "output_type": "stream",
     "text": [
      "\n",
      "\n",
      "Summarizing files for mistral-small:  59%|█████████████████████████████████████████▏                            | 57/97 [4:00:26<1:34:10, 141.27s/it, file=CJG - dawne zapowiedzi 1.txt, summaries_count=10, time=132.48 seconds]\u001b[A\u001b[A\n",
      "\n",
      "Summarizing files for mistral-small:  59%|█████████████████████████████████████████████▏                               | 57/97 [4:00:26<1:34:10, 141.27s/it, file=CJG - emigracja 1.txt, summaries_count=10, time=147.00 seconds]\u001b[A\u001b[A"
     ]
    },
    {
     "name": "stdout",
     "output_type": "stream",
     "text": [
      "Record already exists: voiceapp\\output\\summaries_folder\\mistral-small_20241213_125952\\CJG - emigracja 1-summary_5.txt -> C:/Users/G/Documents/GitHub/audycje.com.pl/content/audio\\shorts\\CJG - emigracja 1.txt\n",
      "Record already exists: voiceapp\\output\\summaries_folder\\mistral-small_20241213_125952\\CJG - evergrande 1-summary_1.txt -> C:/Users/G/Documents/GitHub/audycje.com.pl/content/audio\\shorts\\CJG - evergrande 1.txt\n",
      "Record already exists: voiceapp\\output\\summaries_folder\\mistral-small_20241213_125952\\CJG - evergrande 1-summary_2.txt -> C:/Users/G/Documents/GitHub/audycje.com.pl/content/audio\\shorts\\CJG - evergrande 1.txt\n",
      "Record already exists: voiceapp\\output\\summaries_folder\\mistral-small_20241213_125952\\CJG - evergrande 1-summary_3.txt -> C:/Users/G/Documents/GitHub/audycje.com.pl/content/audio\\shorts\\CJG - evergrande 1.txt\n",
      "Record already exists: voiceapp\\output\\summaries_folder\\mistral-small_20241213_125952\\CJG - evergrande 1-summary_4.txt -> C:/Users/G/Documents/GitHub/audycje.com.pl/content/audio\\shorts\\CJG - evergrande 1.txt\n"
     ]
    },
    {
     "name": "stderr",
     "output_type": "stream",
     "text": [
      "\n",
      "\n",
      "Summarizing files for mistral-small:  60%|██████████████████████████████████████████████                               | 58/97 [4:02:40<1:30:26, 139.15s/it, file=CJG - emigracja 1.txt, summaries_count=10, time=147.00 seconds]\u001b[A\u001b[A\n",
      "\n",
      "Summarizing files for mistral-small:  60%|█████████████████████████████████████████████▍                              | 58/97 [4:02:40<1:30:26, 139.15s/it, file=CJG - evergrande 1.txt, summaries_count=10, time=134.22 seconds]\u001b[A\u001b[A"
     ]
    },
    {
     "name": "stdout",
     "output_type": "stream",
     "text": [
      "Record already exists: voiceapp\\output\\summaries_folder\\mistral-small_20241213_125952\\CJG - evergrande 1-summary_5.txt -> C:/Users/G/Documents/GitHub/audycje.com.pl/content/audio\\shorts\\CJG - evergrande 1.txt\n"
     ]
    },
    {
     "name": "stderr",
     "output_type": "stream",
     "text": [
      "\n",
      "\n",
      "Summarizing files for mistral-small:  61%|██████████████████████████████████████████████▏                             | 59/97 [4:03:53<1:15:27, 119.13s/it, file=CJG - evergrande 1.txt, summaries_count=10, time=134.22 seconds]\u001b[A\u001b[A\n",
      "\n",
      "Summarizing files for mistral-small:  61%|███████████████████████████████████████████▊                            | 59/97 [4:03:53<1:15:27, 119.13s/it, file=CJG - firmy w polsce cz1.txt, summaries_count=5, time=72.42 seconds]\u001b[A\u001b[A\n",
      "\n",
      "Summarizing files for mistral-small:  62%|████████████████████████████████████████████▌                           | 60/97 [4:05:08<1:05:23, 106.05s/it, file=CJG - firmy w polsce cz1.txt, summaries_count=5, time=72.42 seconds]\u001b[A\u001b[A\n",
      "\n",
      "Summarizing files for mistral-small:  62%|███████████████████████████████████████████████                             | 60/97 [4:05:08<1:05:23, 106.05s/it, file=CJG - fotowoltaika 1.txt, summaries_count=5, time=75.52 seconds]\u001b[A\u001b[A\n",
      "\n",
      "Summarizing files for mistral-small:  63%|█████████████████████████████████████████████████▋                             | 61/97 [4:06:18<57:02, 95.06s/it, file=CJG - fotowoltaika 1.txt, summaries_count=5, time=75.52 seconds]\u001b[A\u001b[A\n",
      "\n",
      "Summarizing files for mistral-small:  63%|██████████████████████████████████████████████████████                                | 61/97 [4:06:18<57:02, 95.06s/it, file=CJG - hamas 1.txt, summaries_count=5, time=69.43 seconds]\u001b[A\u001b[A\n",
      "\n",
      "Summarizing files for mistral-small:  64%|██████████████████████████████████████████████████████▉                               | 62/97 [4:07:35<52:17, 89.64s/it, file=CJG - hamas 1.txt, summaries_count=5, time=69.43 seconds]\u001b[A\u001b[A\n",
      "\n",
      "Summarizing files for mistral-small:  64%|█████████████████████████████████████████████████▏                           | 62/97 [4:07:35<52:17, 89.64s/it, file=CJG - inflacja i nbp 1.txt, summaries_count=5, time=77.00 seconds]\u001b[A\u001b[A"
     ]
    },
    {
     "name": "stdout",
     "output_type": "stream",
     "text": [
      "Record already exists: voiceapp\\output\\summaries_folder\\mistral-small_20241213_125952\\CJG - influencerzy 1-summary_1.txt -> C:/Users/G/Documents/GitHub/audycje.com.pl/content/audio\\shorts\\CJG - influencerzy 1.txt\n",
      "Record already exists: voiceapp\\output\\summaries_folder\\mistral-small_20241213_125952\\CJG - influencerzy 1-summary_2.txt -> C:/Users/G/Documents/GitHub/audycje.com.pl/content/audio\\shorts\\CJG - influencerzy 1.txt\n",
      "Record already exists: voiceapp\\output\\summaries_folder\\mistral-small_20241213_125952\\CJG - influencerzy 1-summary_3.txt -> C:/Users/G/Documents/GitHub/audycje.com.pl/content/audio\\shorts\\CJG - influencerzy 1.txt\n",
      "Record already exists: voiceapp\\output\\summaries_folder\\mistral-small_20241213_125952\\CJG - influencerzy 1-summary_4.txt -> C:/Users/G/Documents/GitHub/audycje.com.pl/content/audio\\shorts\\CJG - influencerzy 1.txt\n"
     ]
    },
    {
     "name": "stderr",
     "output_type": "stream",
     "text": [
      "\n",
      "\n",
      "Summarizing files for mistral-small:  65%|████████████████████████████████████████████████                          | 63/97 [4:10:05<1:01:12, 108.01s/it, file=CJG - inflacja i nbp 1.txt, summaries_count=5, time=77.00 seconds]\u001b[A\u001b[A\n",
      "\n",
      "Summarizing files for mistral-small:  65%|████████████████████████████████████████████████                          | 63/97 [4:10:05<1:01:12, 108.01s/it, file=CJG - influencerzy 1.txt, summaries_count=10, time=150.85 seconds]\u001b[A\u001b[A"
     ]
    },
    {
     "name": "stdout",
     "output_type": "stream",
     "text": [
      "Record already exists: voiceapp\\output\\summaries_folder\\mistral-small_20241213_125952\\CJG - influencerzy 1-summary_5.txt -> C:/Users/G/Documents/GitHub/audycje.com.pl/content/audio\\shorts\\CJG - influencerzy 1.txt\n"
     ]
    },
    {
     "name": "stderr",
     "output_type": "stream",
     "text": [
      "\n",
      "\n",
      "Summarizing files for mistral-small:  66%|██████████████████████████████████████████████████▊                          | 64/97 [4:11:16<53:10, 96.69s/it, file=CJG - influencerzy 1.txt, summaries_count=10, time=150.85 seconds]\u001b[A\u001b[A\n",
      "\n",
      "Summarizing files for mistral-small:  66%|███████████████████████████████████████████████████████▍                            | 64/97 [4:11:16<53:10, 96.69s/it, file=CJG - japonia 1.txt, summaries_count=5, time=70.29 seconds]\u001b[A\u001b[A\n",
      "\n",
      "Summarizing files for mistral-small:  67%|████████████████████████████████████████████████████████▎                           | 65/97 [4:12:27<47:32, 89.13s/it, file=CJG - japonia 1.txt, summaries_count=5, time=70.29 seconds]\u001b[A\u001b[A\n",
      "\n",
      "Summarizing files for mistral-small:  67%|███████████████████████████████████████████████████████▌                           | 65/97 [4:12:27<47:32, 89.13s/it, file=CJG - jastrzab 1.txt, summaries_count=5, time=71.47 seconds]\u001b[A\u001b[A\n",
      "\n",
      "Summarizing files for mistral-small:  68%|████████████████████████████████████████████████████████▍                          | 66/97 [4:13:45<44:19, 85.80s/it, file=CJG - jastrzab 1.txt, summaries_count=5, time=71.47 seconds]\u001b[A\u001b[A\n",
      "\n",
      "Summarizing files for mistral-small:  68%|███████████████████████████████████████████████████████▊                          | 66/97 [4:13:45<44:19, 85.80s/it, file=CJG - jubileusz 1.txt, summaries_count=5, time=78.05 seconds]\u001b[A\u001b[A\n",
      "\n",
      "Summarizing files for mistral-small:  69%|████████████████████████████████████████████████████████▋                         | 67/97 [4:14:59<41:03, 82.12s/it, file=CJG - jubileusz 1.txt, summaries_count=5, time=78.05 seconds]\u001b[A\u001b[A\n",
      "\n",
      "Summarizing files for mistral-small:  69%|█████████████████████████████████████████████████████████▎                         | 67/97 [4:14:59<41:03, 82.12s/it, file=CJG - kataster 1.txt, summaries_count=5, time=73.53 seconds]\u001b[A\u001b[A"
     ]
    },
    {
     "name": "stdout",
     "output_type": "stream",
     "text": [
      "Record already exists: voiceapp\\output\\summaries_folder\\mistral-small_20241213_125952\\CJG - kierowcy 1-summary_1.txt -> C:/Users/G/Documents/GitHub/audycje.com.pl/content/audio\\shorts\\CJG - kierowcy 1.txt\n",
      "Record already exists: voiceapp\\output\\summaries_folder\\mistral-small_20241213_125952\\CJG - kierowcy 1-summary_2.txt -> C:/Users/G/Documents/GitHub/audycje.com.pl/content/audio\\shorts\\CJG - kierowcy 1.txt\n",
      "Record already exists: voiceapp\\output\\summaries_folder\\mistral-small_20241213_125952\\CJG - kierowcy 1-summary_3.txt -> C:/Users/G/Documents/GitHub/audycje.com.pl/content/audio\\shorts\\CJG - kierowcy 1.txt\n",
      "Record already exists: voiceapp\\output\\summaries_folder\\mistral-small_20241213_125952\\CJG - kierowcy 1-summary_4.txt -> C:/Users/G/Documents/GitHub/audycje.com.pl/content/audio\\shorts\\CJG - kierowcy 1.txt\n"
     ]
    },
    {
     "name": "stderr",
     "output_type": "stream",
     "text": [
      "\n",
      "\n",
      "Summarizing files for mistral-small:  70%|█████████████████████████████████████████████████████████▍                        | 68/97 [4:17:30<49:38, 102.71s/it, file=CJG - kataster 1.txt, summaries_count=5, time=73.53 seconds]\u001b[A\u001b[A\n",
      "\n",
      "Summarizing files for mistral-small:  70%|████████████████████████████████████████████████████████                        | 68/97 [4:17:30<49:38, 102.71s/it, file=CJG - kierowcy 1.txt, summaries_count=10, time=150.77 seconds]\u001b[A\u001b[A"
     ]
    },
    {
     "name": "stdout",
     "output_type": "stream",
     "text": [
      "Record already exists: voiceapp\\output\\summaries_folder\\mistral-small_20241213_125952\\CJG - kierowcy 1-summary_5.txt -> C:/Users/G/Documents/GitHub/audycje.com.pl/content/audio\\shorts\\CJG - kierowcy 1.txt\n",
      "Record already exists: voiceapp\\output\\summaries_folder\\mistral-small_20241213_125952\\CJG - koniec roku 1-summary_1.txt -> C:/Users/G/Documents/GitHub/audycje.com.pl/content/audio\\shorts\\CJG - koniec roku 1.txt\n",
      "Record already exists: voiceapp\\output\\summaries_folder\\mistral-small_20241213_125952\\CJG - koniec roku 1-summary_2.txt -> C:/Users/G/Documents/GitHub/audycje.com.pl/content/audio\\shorts\\CJG - koniec roku 1.txt\n",
      "Record already exists: voiceapp\\output\\summaries_folder\\mistral-small_20241213_125952\\CJG - koniec roku 1-summary_3.txt -> C:/Users/G/Documents/GitHub/audycje.com.pl/content/audio\\shorts\\CJG - koniec roku 1.txt\n",
      "Record already exists: voiceapp\\output\\summaries_folder\\mistral-small_20241213_125952\\CJG - koniec roku 1-summary_4.txt -> C:/Users/G/Documents/GitHub/audycje.com.pl/content/audio\\shorts\\CJG - koniec roku 1.txt\n"
     ]
    },
    {
     "name": "stderr",
     "output_type": "stream",
     "text": [
      "\n",
      "\n",
      "Summarizing files for mistral-small:  71%|████████████████████████████████████████████████████████▉                       | 69/97 [4:19:45<52:31, 112.57s/it, file=CJG - kierowcy 1.txt, summaries_count=10, time=150.77 seconds]\u001b[A\u001b[A\n",
      "\n",
      "Summarizing files for mistral-small:  71%|██████████████████████████████████████████████████████▊                      | 69/97 [4:19:45<52:31, 112.57s/it, file=CJG - koniec roku 1.txt, summaries_count=10, time=135.56 seconds]\u001b[A\u001b[A"
     ]
    },
    {
     "name": "stdout",
     "output_type": "stream",
     "text": [
      "Record already exists: voiceapp\\output\\summaries_folder\\mistral-small_20241213_125952\\CJG - koniec roku 1-summary_5.txt -> C:/Users/G/Documents/GitHub/audycje.com.pl/content/audio\\shorts\\CJG - koniec roku 1.txt\n"
     ]
    },
    {
     "name": "stderr",
     "output_type": "stream",
     "text": [
      "\n",
      "\n",
      "Summarizing files for mistral-small:  72%|███████████████████████████████████████████████████████▌                     | 70/97 [4:21:04<46:02, 102.32s/it, file=CJG - koniec roku 1.txt, summaries_count=10, time=135.56 seconds]\u001b[A\u001b[A\n",
      "\n",
      "Summarizing files for mistral-small:  72%|███████████████████████████████████████████████████████████▏                      | 70/97 [4:21:04<46:02, 102.32s/it, file=CJG - kurczaki 1.txt, summaries_count=5, time=78.41 seconds]\u001b[A\u001b[A\n",
      "\n",
      "Summarizing files for mistral-small:  73%|████████████████████████████████████████████████████████████▊                      | 71/97 [4:22:16<40:26, 93.32s/it, file=CJG - kurczaki 1.txt, summaries_count=5, time=78.41 seconds]\u001b[A\u001b[A\n",
      "\n",
      "Summarizing files for mistral-small:  73%|█████████████████████████████████████████████████████████▊                     | 71/97 [4:22:16<40:26, 93.32s/it, file=CJG - mieszkania cz1.txt, summaries_count=5, time=72.31 seconds]\u001b[A\u001b[A"
     ]
    },
    {
     "name": "stdout",
     "output_type": "stream",
     "text": [
      "Record already exists: voiceapp\\output\\summaries_folder\\mistral-small_20241213_125952\\CJG - miliarderzy 1-summary_1.txt -> C:/Users/G/Documents/GitHub/audycje.com.pl/content/audio\\shorts\\CJG - miliarderzy 1.txt\n",
      "Record already exists: voiceapp\\output\\summaries_folder\\mistral-small_20241213_125952\\CJG - miliarderzy 1-summary_2.txt -> C:/Users/G/Documents/GitHub/audycje.com.pl/content/audio\\shorts\\CJG - miliarderzy 1.txt\n",
      "Record already exists: voiceapp\\output\\summaries_folder\\mistral-small_20241213_125952\\CJG - miliarderzy 1-summary_3.txt -> C:/Users/G/Documents/GitHub/audycje.com.pl/content/audio\\shorts\\CJG - miliarderzy 1.txt\n",
      "Record already exists: voiceapp\\output\\summaries_folder\\mistral-small_20241213_125952\\CJG - miliarderzy 1-summary_4.txt -> C:/Users/G/Documents/GitHub/audycje.com.pl/content/audio\\shorts\\CJG - miliarderzy 1.txt\n"
     ]
    },
    {
     "name": "stderr",
     "output_type": "stream",
     "text": [
      "\n",
      "\n",
      "Summarizing files for mistral-small:  74%|█████████████████████████████████████████████████████████▉                    | 72/97 [4:24:25<43:20, 104.03s/it, file=CJG - mieszkania cz1.txt, summaries_count=5, time=72.31 seconds]\u001b[A\u001b[A\n",
      "\n",
      "Summarizing files for mistral-small:  74%|█████████████████████████████████████████████████████████▏                   | 72/97 [4:24:25<43:20, 104.03s/it, file=CJG - miliarderzy 1.txt, summaries_count=10, time=129.01 seconds]\u001b[A\u001b[A"
     ]
    },
    {
     "name": "stdout",
     "output_type": "stream",
     "text": [
      "Record already exists: voiceapp\\output\\summaries_folder\\mistral-small_20241213_125952\\CJG - miliarderzy 1-summary_5.txt -> C:/Users/G/Documents/GitHub/audycje.com.pl/content/audio\\shorts\\CJG - miliarderzy 1.txt\n"
     ]
    },
    {
     "name": "stderr",
     "output_type": "stream",
     "text": [
      "\n",
      "\n",
      "Summarizing files for mistral-small:  75%|██████████████████████████████████████████████████████████▋                   | 73/97 [4:25:42<38:23, 95.97s/it, file=CJG - miliarderzy 1.txt, summaries_count=10, time=129.01 seconds]\u001b[A\u001b[A\n",
      "\n",
      "Summarizing files for mistral-small:  75%|█████████████████████████████████████████████████████▍                 | 73/97 [4:25:42<38:23, 95.97s/it, file=CJG - monopol energetyczny 1.txt, summaries_count=5, time=77.19 seconds]\u001b[A\u001b[A\n",
      "\n",
      "Summarizing files for mistral-small:  76%|██████████████████████████████████████████████████████▏                | 74/97 [4:27:00<34:41, 90.51s/it, file=CJG - monopol energetyczny 1.txt, summaries_count=5, time=77.19 seconds]\u001b[A\u001b[A\n",
      "\n",
      "Summarizing files for mistral-small:  76%|████████████████████████████████████████████████████████████████▊                    | 74/97 [4:27:00<34:41, 90.51s/it, file=CJG - niemcy 1.txt, summaries_count=5, time=77.76 seconds]\u001b[A\u001b[A\n",
      "\n",
      "Summarizing files for mistral-small:  77%|█████████████████████████████████████████████████████████████████▋                   | 75/97 [4:28:27<32:49, 89.50s/it, file=CJG - niemcy 1.txt, summaries_count=5, time=77.76 seconds]\u001b[A\u001b[A\n",
      "\n",
      "Summarizing files for mistral-small:  77%|██████████████████████████████████████████████████████████████████▍                   | 75/97 [4:28:27<32:49, 89.50s/it, file=CJG - orlen 1.txt, summaries_count=5, time=87.15 seconds]\u001b[A\u001b[A"
     ]
    },
    {
     "name": "stdout",
     "output_type": "stream",
     "text": [
      "Record already exists: voiceapp\\output\\summaries_folder\\mistral-small_20241213_125952\\CJG - paliwo wyborcze 1-summary_1.txt -> C:/Users/G/Documents/GitHub/audycje.com.pl/content/audio\\shorts\\CJG - paliwo wyborcze 1.txt\n",
      "Record already exists: voiceapp\\output\\summaries_folder\\mistral-small_20241213_125952\\CJG - paliwo wyborcze 1-summary_2.txt -> C:/Users/G/Documents/GitHub/audycje.com.pl/content/audio\\shorts\\CJG - paliwo wyborcze 1.txt\n",
      "Record already exists: voiceapp\\output\\summaries_folder\\mistral-small_20241213_125952\\CJG - paliwo wyborcze 1-summary_3.txt -> C:/Users/G/Documents/GitHub/audycje.com.pl/content/audio\\shorts\\CJG - paliwo wyborcze 1.txt\n",
      "Record already exists: voiceapp\\output\\summaries_folder\\mistral-small_20241213_125952\\CJG - paliwo wyborcze 1-summary_4.txt -> C:/Users/G/Documents/GitHub/audycje.com.pl/content/audio\\shorts\\CJG - paliwo wyborcze 1.txt\n"
     ]
    },
    {
     "name": "stderr",
     "output_type": "stream",
     "text": [
      "\n",
      "\n",
      "Summarizing files for mistral-small:  78%|██████████████████████████████████████████████████████████████████▌                  | 76/97 [4:30:52<37:09, 106.16s/it, file=CJG - orlen 1.txt, summaries_count=5, time=87.15 seconds]\u001b[A\u001b[A\n",
      "\n",
      "Summarizing files for mistral-small:  78%|█████████████████████████████████████████████████████████▏               | 76/97 [4:30:52<37:09, 106.16s/it, file=CJG - paliwo wyborcze 1.txt, summaries_count=10, time=145.04 seconds]\u001b[A\u001b[A"
     ]
    },
    {
     "name": "stdout",
     "output_type": "stream",
     "text": [
      "Record already exists: voiceapp\\output\\summaries_folder\\mistral-small_20241213_125952\\CJG - paliwo wyborcze 1-summary_5.txt -> C:/Users/G/Documents/GitHub/audycje.com.pl/content/audio\\shorts\\CJG - paliwo wyborcze 1.txt\n"
     ]
    },
    {
     "name": "stderr",
     "output_type": "stream",
     "text": [
      "\n",
      "\n",
      "Summarizing files for mistral-small:  79%|██████████████████████████████████████████████████████████▋               | 77/97 [4:32:08<32:21, 97.07s/it, file=CJG - paliwo wyborcze 1.txt, summaries_count=10, time=145.04 seconds]\u001b[A\u001b[A\n",
      "\n",
      "Summarizing files for mistral-small:  79%|██████████████████████████████████████████████████████████████▋                | 77/97 [4:32:08<32:21, 97.07s/it, file=CJG - pompy ciepla 1.txt, summaries_count=5, time=75.86 seconds]\u001b[A\u001b[A"
     ]
    },
    {
     "name": "stdout",
     "output_type": "stream",
     "text": [
      "Record already exists: voiceapp\\output\\summaries_folder\\mistral-small_20241213_125952\\CJG - punkt zwrotny usa 1-summary_1.txt -> C:/Users/G/Documents/GitHub/audycje.com.pl/content/audio\\shorts\\CJG - punkt zwrotny usa 1.txt\n",
      "Record already exists: voiceapp\\output\\summaries_folder\\mistral-small_20241213_125952\\CJG - punkt zwrotny usa 1-summary_2.txt -> C:/Users/G/Documents/GitHub/audycje.com.pl/content/audio\\shorts\\CJG - punkt zwrotny usa 1.txt\n",
      "Record already exists: voiceapp\\output\\summaries_folder\\mistral-small_20241213_125952\\CJG - punkt zwrotny usa 1-summary_3.txt -> C:/Users/G/Documents/GitHub/audycje.com.pl/content/audio\\shorts\\CJG - punkt zwrotny usa 1.txt\n",
      "Record already exists: voiceapp\\output\\summaries_folder\\mistral-small_20241213_125952\\CJG - punkt zwrotny usa 1-summary_4.txt -> C:/Users/G/Documents/GitHub/audycje.com.pl/content/audio\\shorts\\CJG - punkt zwrotny usa 1.txt\n"
     ]
    },
    {
     "name": "stderr",
     "output_type": "stream",
     "text": [
      "\n",
      "\n",
      "Summarizing files for mistral-small:  80%|███████████████████████████████████████████████████████████████▌               | 78/97 [4:33:50<31:13, 98.62s/it, file=CJG - pompy ciepla 1.txt, summaries_count=5, time=75.86 seconds]\u001b[A\u001b[A\n",
      "\n",
      "Summarizing files for mistral-small:  80%|█████████████████████████████████████████████████████████▉              | 78/97 [4:33:50<31:13, 98.62s/it, file=CJG - punkt zwrotny usa 1.txt, summaries_count=10, time=102.22 seconds]\u001b[A\u001b[A"
     ]
    },
    {
     "name": "stdout",
     "output_type": "stream",
     "text": [
      "Record already exists: voiceapp\\output\\summaries_folder\\mistral-small_20241213_125952\\CJG - punkt zwrotny usa 1-summary_5.txt -> C:/Users/G/Documents/GitHub/audycje.com.pl/content/audio\\shorts\\CJG - punkt zwrotny usa 1.txt\n"
     ]
    },
    {
     "name": "stderr",
     "output_type": "stream",
     "text": [
      "\n",
      "\n",
      "Summarizing files for mistral-small:  81%|██████████████████████████████████████████████████████████▋             | 79/97 [4:35:01<27:05, 90.33s/it, file=CJG - punkt zwrotny usa 1.txt, summaries_count=10, time=102.22 seconds]\u001b[A\u001b[A\n",
      "\n",
      "Summarizing files for mistral-small:  81%|█████████████████████████████████████████████████████████████████████▏               | 79/97 [4:35:01<27:05, 90.33s/it, file=CJG - robaki 1.txt, summaries_count=5, time=70.99 seconds]\u001b[A\u001b[A\n",
      "\n",
      "Summarizing files for mistral-small:  82%|██████████████████████████████████████████████████████████████████████               | 80/97 [4:36:16<24:14, 85.57s/it, file=CJG - robaki 1.txt, summaries_count=5, time=70.99 seconds]\u001b[A\u001b[A\n",
      "\n",
      "Summarizing files for mistral-small:  82%|████████████████████████████████████████████████████████████████████▍              | 80/97 [4:36:16<24:14, 85.57s/it, file=CJG - rok 2022 1.txt, summaries_count=5, time=74.47 seconds]\u001b[A\u001b[A"
     ]
    },
    {
     "name": "stdout",
     "output_type": "stream",
     "text": [
      "Record already exists: voiceapp\\output\\summaries_folder\\mistral-small_20241213_125952\\CJG - rosja 1-summary_1.txt -> C:/Users/G/Documents/GitHub/audycje.com.pl/content/audio\\shorts\\CJG - rosja 1.txt\n",
      "Record already exists: voiceapp\\output\\summaries_folder\\mistral-small_20241213_125952\\CJG - rosja 1-summary_2.txt -> C:/Users/G/Documents/GitHub/audycje.com.pl/content/audio\\shorts\\CJG - rosja 1.txt\n",
      "Record already exists: voiceapp\\output\\summaries_folder\\mistral-small_20241213_125952\\CJG - rosja 1-summary_3.txt -> C:/Users/G/Documents/GitHub/audycje.com.pl/content/audio\\shorts\\CJG - rosja 1.txt\n",
      "Record already exists: voiceapp\\output\\summaries_folder\\mistral-small_20241213_125952\\CJG - rosja 1-summary_4.txt -> C:/Users/G/Documents/GitHub/audycje.com.pl/content/audio\\shorts\\CJG - rosja 1.txt\n"
     ]
    },
    {
     "name": "stderr",
     "output_type": "stream",
     "text": [
      "\n",
      "\n",
      "Summarizing files for mistral-small:  84%|████████████████████████████████████████████████████████████████████▍             | 81/97 [4:38:35<27:09, 101.87s/it, file=CJG - rok 2022 1.txt, summaries_count=5, time=74.47 seconds]\u001b[A\u001b[A\n",
      "\n",
      "Summarizing files for mistral-small:  84%|█████████████████████████████████████████████████████████████████████▎             | 81/97 [4:38:35<27:09, 101.87s/it, file=CJG - rosja 1.txt, summaries_count=10, time=139.90 seconds]\u001b[A\u001b[A"
     ]
    },
    {
     "name": "stdout",
     "output_type": "stream",
     "text": [
      "Record already exists: voiceapp\\output\\summaries_folder\\mistral-small_20241213_125952\\CJG - rosja 1-summary_5.txt -> C:/Users/G/Documents/GitHub/audycje.com.pl/content/audio\\shorts\\CJG - rosja 1.txt\n"
     ]
    },
    {
     "name": "stderr",
     "output_type": "stream",
     "text": [
      "\n",
      "\n",
      "Summarizing files for mistral-small:  85%|███████████████████████████████████████████████████████████████████████             | 82/97 [4:39:58<23:59, 95.99s/it, file=CJG - rosja 1.txt, summaries_count=10, time=139.90 seconds]\u001b[A\u001b[A\n",
      "\n",
      "Summarizing files for mistral-small:  85%|███████████████████████████████████████████████████████▊          | 82/97 [4:39:58<23:59, 95.99s/it, file=CJG - samochody elektryczne mk2 1.txt, summaries_count=5, time=82.28 seconds]\u001b[A\u001b[A\n",
      "\n",
      "Summarizing files for mistral-small:  86%|████████████████████████████████████████████████████████▍         | 83/97 [4:41:17<21:15, 91.09s/it, file=CJG - samochody elektryczne mk2 1.txt, summaries_count=5, time=82.28 seconds]\u001b[A\u001b[A\n",
      "\n",
      "Summarizing files for mistral-small:  86%|████████████████████████████████████████████████████████████████████████████▏            | 83/97 [4:41:17<21:15, 91.09s/it, file=CJG - si 1.txt, summaries_count=5, time=79.65 seconds]\u001b[A\u001b[A\n",
      "\n",
      "Summarizing files for mistral-small:  87%|█████████████████████████████████████████████████████████████████████████████            | 84/97 [4:42:33<18:43, 86.46s/it, file=CJG - si 1.txt, summaries_count=5, time=79.65 seconds]\u001b[A\u001b[A\n",
      "\n",
      "Summarizing files for mistral-small:  87%|█████████████████████████████████████████████████████████████████████████▌           | 84/97 [4:42:33<18:43, 86.46s/it, file=CJG - wagner 1.txt, summaries_count=5, time=75.64 seconds]\u001b[A\u001b[A\n",
      "\n",
      "Summarizing files for mistral-small:  88%|██████████████████████████████████████████████████████████████████████████▍          | 85/97 [4:43:47<16:32, 82.69s/it, file=CJG - wagner 1.txt, summaries_count=5, time=75.64 seconds]\u001b[A\u001b[A\n",
      "\n",
      "Summarizing files for mistral-small:  88%|███████████████████████████████████████████████████████████████████████████▎          | 85/97 [4:43:47<16:32, 82.69s/it, file=CJG - wojna 1.txt, summaries_count=5, time=73.91 seconds]\u001b[A\u001b[A\n",
      "\n",
      "Summarizing files for mistral-small:  89%|████████████████████████████████████████████████████████████████████████████▏         | 86/97 [4:44:57<14:28, 78.97s/it, file=CJG - wojna 1.txt, summaries_count=5, time=73.91 seconds]\u001b[A\u001b[A\n",
      "\n",
      "Summarizing files for mistral-small:  89%|███████████████████████████████████████████████████████████████████████████▎         | 86/97 [4:44:57<14:28, 78.97s/it, file=CJG - woke cz1.txt, summaries_count=5, time=70.28 seconds]\u001b[A\u001b[A\n",
      "\n",
      "Summarizing files for mistral-small:  90%|████████████████████████████████████████████████████████████████████████████▏        | 87/97 [4:46:24<13:32, 81.29s/it, file=CJG - woke cz1.txt, summaries_count=5, time=70.28 seconds]\u001b[A\u001b[A\n",
      "\n",
      "Summarizing files for mistral-small:  90%|██████████████████████████████████████████████████████████████▊       | 87/97 [4:46:24<13:32, 81.29s/it, file=CJG - wyrownana plus wierszyk.txt, summaries_count=5, time=86.70 seconds]\u001b[A\u001b[A"
     ]
    },
    {
     "name": "stdout",
     "output_type": "stream",
     "text": [
      "Record already exists: voiceapp\\output\\summaries_folder\\mistral-small_20241213_125952\\CJG - zarobki 1-summary_1.txt -> C:/Users/G/Documents/GitHub/audycje.com.pl/content/audio\\shorts\\CJG - zarobki 1.txt\n",
      "Record already exists: voiceapp\\output\\summaries_folder\\mistral-small_20241213_125952\\CJG - zarobki 1-summary_2.txt -> C:/Users/G/Documents/GitHub/audycje.com.pl/content/audio\\shorts\\CJG - zarobki 1.txt\n",
      "Record already exists: voiceapp\\output\\summaries_folder\\mistral-small_20241213_125952\\CJG - zarobki 1-summary_3.txt -> C:/Users/G/Documents/GitHub/audycje.com.pl/content/audio\\shorts\\CJG - zarobki 1.txt\n",
      "Record already exists: voiceapp\\output\\summaries_folder\\mistral-small_20241213_125952\\CJG - zarobki 1-summary_4.txt -> C:/Users/G/Documents/GitHub/audycje.com.pl/content/audio\\shorts\\CJG - zarobki 1.txt\n"
     ]
    },
    {
     "name": "stderr",
     "output_type": "stream",
     "text": [
      "\n",
      "\n",
      "Summarizing files for mistral-small:  91%|██████████████████████████████████████████████████████████████▌      | 88/97 [4:49:01<15:37, 104.11s/it, file=CJG - wyrownana plus wierszyk.txt, summaries_count=5, time=86.70 seconds]\u001b[A\u001b[A\n",
      "\n",
      "Summarizing files for mistral-small:  91%|█████████████████████████████████████████████████████████████████████████▍       | 88/97 [4:49:01<15:37, 104.11s/it, file=CJG - zarobki 1.txt, summaries_count=10, time=157.36 seconds]\u001b[A\u001b[A"
     ]
    },
    {
     "name": "stdout",
     "output_type": "stream",
     "text": [
      "Record already exists: voiceapp\\output\\summaries_folder\\mistral-small_20241213_125952\\CJG - zarobki 1-summary_5.txt -> C:/Users/G/Documents/GitHub/audycje.com.pl/content/audio\\shorts\\CJG - zarobki 1.txt\n"
     ]
    },
    {
     "name": "stderr",
     "output_type": "stream",
     "text": [
      "\n",
      "\n",
      "Summarizing files for mistral-small:  92%|███████████████████████████████████████████████████████████████████████████▏      | 89/97 [4:50:16<12:42, 95.34s/it, file=CJG - zarobki 1.txt, summaries_count=10, time=157.36 seconds]\u001b[A\u001b[A\n",
      "\n",
      "Summarizing files for mistral-small:  92%|██████████████████████████████████████████████████████████████████      | 89/97 [4:50:16<12:42, 95.34s/it, file=CJG - zasoby strategiczne 1.txt, summaries_count=5, time=74.88 seconds]\u001b[A\u001b[A"
     ]
    },
    {
     "name": "stdout",
     "output_type": "stream",
     "text": [
      "Record already exists: voiceapp\\output\\summaries_folder\\mistral-small_20241213_125952\\CJG - zus 1-summary_1.txt -> C:/Users/G/Documents/GitHub/audycje.com.pl/content/audio\\shorts\\CJG - zus 1.txt\n",
      "Record already exists: voiceapp\\output\\summaries_folder\\mistral-small_20241213_125952\\CJG - zus 1-summary_2.txt -> C:/Users/G/Documents/GitHub/audycje.com.pl/content/audio\\shorts\\CJG - zus 1.txt\n",
      "Record already exists: voiceapp\\output\\summaries_folder\\mistral-small_20241213_125952\\CJG - zus 1-summary_3.txt -> C:/Users/G/Documents/GitHub/audycje.com.pl/content/audio\\shorts\\CJG - zus 1.txt\n",
      "Record already exists: voiceapp\\output\\summaries_folder\\mistral-small_20241213_125952\\CJG - zus 1-summary_4.txt -> C:/Users/G/Documents/GitHub/audycje.com.pl/content/audio\\shorts\\CJG - zus 1.txt\n"
     ]
    },
    {
     "name": "stderr",
     "output_type": "stream",
     "text": [
      "\n",
      "\n",
      "Summarizing files for mistral-small:  93%|█████████████████████████████████████████████████████████████████▉     | 90/97 [4:52:46<13:01, 111.57s/it, file=CJG - zasoby strategiczne 1.txt, summaries_count=5, time=74.88 seconds]\u001b[A\u001b[A\n",
      "\n",
      "Summarizing files for mistral-small:  93%|██████████████████████████████████████████████████████████████████████████████▊      | 90/97 [4:52:46<22:46, 195.18s/it, file=CJG - zus 1.txt, summaries_count=10, time=149.44 seconds]\u001b[A\u001b[A\n"
     ]
    },
    {
     "name": "stdout",
     "output_type": "stream",
     "text": [
      "Record already exists: voiceapp\\output\\summaries_folder\\mistral-small_20241213_125952\\CJG - zus 1-summary_5.txt -> C:/Users/G/Documents/GitHub/audycje.com.pl/content/audio\\shorts\\CJG - zus 1.txt\n"
     ]
    },
    {
     "name": "stderr",
     "output_type": "stream",
     "text": [
      "\n",
      "\n",
      "Summarizing files for yi:6b:   0%|                                                                                                                                                                        | 0/97 [00:00<?, ?it/s]\u001b[A\u001b[A"
     ]
    },
    {
     "name": "stdout",
     "output_type": "stream",
     "text": [
      "Record already exists: voiceapp\\output\\summaries_folder\\yi_6b_20241213_175238\\CJG_01_2023_01_14-summary_1.txt -> C:/Users/G/Documents/GitHub/audycje.com.pl/content/audio\\CJG_01_2023_01_14.txt\n",
      "Record already exists: voiceapp\\output\\summaries_folder\\yi_6b_20241213_175238\\CJG_01_2023_01_14-summary_2.txt -> C:/Users/G/Documents/GitHub/audycje.com.pl/content/audio\\CJG_01_2023_01_14.txt\n",
      "Record already exists: voiceapp\\output\\summaries_folder\\yi_6b_20241213_175238\\CJG_01_2023_01_14-summary_3.txt -> C:/Users/G/Documents/GitHub/audycje.com.pl/content/audio\\CJG_01_2023_01_14.txt\n",
      "Record already exists: voiceapp\\output\\summaries_folder\\yi_6b_20241213_175238\\CJG_01_2023_01_14-summary_4.txt -> C:/Users/G/Documents/GitHub/audycje.com.pl/content/audio\\CJG_01_2023_01_14.txt\n",
      "Record already exists: voiceapp\\output\\summaries_folder\\yi_6b_20241213_175238\\CJG_01_2023_01_14-summary_5.txt -> C:/Users/G/Documents/GitHub/audycje.com.pl/content/audio\\CJG_01_2023_01_14.txt\n",
      "Record already exists: voiceapp\\output\\summaries_folder\\yi_6b_20241213_175238\\CJG_01_2023_01_14-summary_1.txt -> C:/Users/G/Documents/GitHub/audycje.com.pl/content/audio\\CJG_01_2023_01_14.txt\n",
      "Record already exists: voiceapp\\output\\summaries_folder\\yi_6b_20241213_175238\\CJG_01_2023_01_14-summary_2.txt -> C:/Users/G/Documents/GitHub/audycje.com.pl/content/audio\\CJG_01_2023_01_14.txt\n",
      "Record already exists: voiceapp\\output\\summaries_folder\\yi_6b_20241213_175238\\CJG_01_2023_01_14-summary_3.txt -> C:/Users/G/Documents/GitHub/audycje.com.pl/content/audio\\CJG_01_2023_01_14.txt\n",
      "Record already exists: voiceapp\\output\\summaries_folder\\yi_6b_20241213_175238\\CJG_01_2023_01_14-summary_4.txt -> C:/Users/G/Documents/GitHub/audycje.com.pl/content/audio\\CJG_01_2023_01_14.txt\n"
     ]
    },
    {
     "name": "stderr",
     "output_type": "stream",
     "text": [
      "\n",
      "\n",
      "Summarizing files for yi:6b:   1%|█▋                                                                                                                                                            | 1/97 [01:05<1:44:39, 65.41s/it]\u001b[A\u001b[A\n",
      "\n",
      "Summarizing files for yi:6b:   1%|▉                                                                                         | 1/97 [01:05<1:44:39, 65.41s/it, file=CJG_01_2023_01_14.txt, summaries_count=15, time=65.41 seconds]\u001b[A\u001b[A"
     ]
    },
    {
     "name": "stdout",
     "output_type": "stream",
     "text": [
      "Record already exists: voiceapp\\output\\summaries_folder\\yi_6b_20241213_175238\\CJG_01_2023_01_14-summary_5.txt -> C:/Users/G/Documents/GitHub/audycje.com.pl/content/audio\\CJG_01_2023_01_14.txt\n",
      "Record already exists: voiceapp\\output\\summaries_folder\\yi_6b_20241213_175238\\CJG_02_2023_01_21-summary_1.txt -> C:/Users/G/Documents/GitHub/audycje.com.pl/content/audio\\CJG_02_2023_01_21.txt\n",
      "Record already exists: voiceapp\\output\\summaries_folder\\yi_6b_20241213_175238\\CJG_02_2023_01_21-summary_2.txt -> C:/Users/G/Documents/GitHub/audycje.com.pl/content/audio\\CJG_02_2023_01_21.txt\n",
      "Record already exists: voiceapp\\output\\summaries_folder\\yi_6b_20241213_175238\\CJG_02_2023_01_21-summary_3.txt -> C:/Users/G/Documents/GitHub/audycje.com.pl/content/audio\\CJG_02_2023_01_21.txt\n",
      "Record already exists: voiceapp\\output\\summaries_folder\\yi_6b_20241213_175238\\CJG_02_2023_01_21-summary_4.txt -> C:/Users/G/Documents/GitHub/audycje.com.pl/content/audio\\CJG_02_2023_01_21.txt\n"
     ]
    },
    {
     "name": "stderr",
     "output_type": "stream",
     "text": [
      "\n",
      "\n",
      "Summarizing files for yi:6b:   2%|█▊                                                                                        | 2/97 [01:46<1:20:59, 51.15s/it, file=CJG_01_2023_01_14.txt, summaries_count=15, time=65.41 seconds]\u001b[A\u001b[A\n",
      "\n",
      "Summarizing files for yi:6b:   2%|█▊                                                                                        | 2/97 [01:46<1:20:59, 51.15s/it, file=CJG_02_2023_01_21.txt, summaries_count=10, time=41.17 seconds]\u001b[A\u001b[A"
     ]
    },
    {
     "name": "stdout",
     "output_type": "stream",
     "text": [
      "Record already exists: voiceapp\\output\\summaries_folder\\yi_6b_20241213_175238\\CJG_02_2023_01_21-summary_5.txt -> C:/Users/G/Documents/GitHub/audycje.com.pl/content/audio\\CJG_02_2023_01_21.txt\n",
      "Record already exists: voiceapp\\output\\summaries_folder\\yi_6b_20241213_175238\\CJG_03_2023_01_28-summary_1.txt -> C:/Users/G/Documents/GitHub/audycje.com.pl/content/audio\\CJG_03_2023_01_28.txt\n",
      "Record already exists: voiceapp\\output\\summaries_folder\\yi_6b_20241213_175238\\CJG_03_2023_01_28-summary_2.txt -> C:/Users/G/Documents/GitHub/audycje.com.pl/content/audio\\CJG_03_2023_01_28.txt\n",
      "Record already exists: voiceapp\\output\\summaries_folder\\yi_6b_20241213_175238\\CJG_03_2023_01_28-summary_3.txt -> C:/Users/G/Documents/GitHub/audycje.com.pl/content/audio\\CJG_03_2023_01_28.txt\n",
      "Record already exists: voiceapp\\output\\summaries_folder\\yi_6b_20241213_175238\\CJG_03_2023_01_28-summary_4.txt -> C:/Users/G/Documents/GitHub/audycje.com.pl/content/audio\\CJG_03_2023_01_28.txt\n",
      "Record already exists: voiceapp\\output\\summaries_folder\\yi_6b_20241213_175238\\CJG_03_2023_01_28-summary_5.txt -> C:/Users/G/Documents/GitHub/audycje.com.pl/content/audio\\CJG_03_2023_01_28.txt\n",
      "Record already exists: voiceapp\\output\\summaries_folder\\yi_6b_20241213_175238\\CJG_03_2023_01_28-summary_1.txt -> C:/Users/G/Documents/GitHub/audycje.com.pl/content/audio\\CJG_03_2023_01_28.txt\n",
      "Record already exists: voiceapp\\output\\summaries_folder\\yi_6b_20241213_175238\\CJG_03_2023_01_28-summary_2.txt -> C:/Users/G/Documents/GitHub/audycje.com.pl/content/audio\\CJG_03_2023_01_28.txt\n",
      "Record already exists: voiceapp\\output\\summaries_folder\\yi_6b_20241213_175238\\CJG_03_2023_01_28-summary_3.txt -> C:/Users/G/Documents/GitHub/audycje.com.pl/content/audio\\CJG_03_2023_01_28.txt\n",
      "Record already exists: voiceapp\\output\\summaries_folder\\yi_6b_20241213_175238\\CJG_03_2023_01_28-summary_4.txt -> C:/Users/G/Documents/GitHub/audycje.com.pl/content/audio\\CJG_03_2023_01_28.txt\n"
     ]
    },
    {
     "name": "stderr",
     "output_type": "stream",
     "text": [
      "\n",
      "\n",
      "Summarizing files for yi:6b:   3%|██▊                                                                                       | 3/97 [02:41<1:22:43, 52.80s/it, file=CJG_02_2023_01_21.txt, summaries_count=10, time=41.17 seconds]\u001b[A\u001b[A\n",
      "\n",
      "Summarizing files for yi:6b:   3%|██▊                                                                                       | 3/97 [02:41<1:22:43, 52.80s/it, file=CJG_03_2023_01_28.txt, summaries_count=15, time=54.77 seconds]\u001b[A\u001b[A"
     ]
    },
    {
     "name": "stdout",
     "output_type": "stream",
     "text": [
      "Record already exists: voiceapp\\output\\summaries_folder\\yi_6b_20241213_175238\\CJG_03_2023_01_28-summary_5.txt -> C:/Users/G/Documents/GitHub/audycje.com.pl/content/audio\\CJG_03_2023_01_28.txt\n",
      "Record already exists: voiceapp\\output\\summaries_folder\\yi_6b_20241213_175238\\CJG_04_2023_02_04-summary_1.txt -> C:/Users/G/Documents/GitHub/audycje.com.pl/content/audio\\CJG_04_2023_02_04.txt\n",
      "Record already exists: voiceapp\\output\\summaries_folder\\yi_6b_20241213_175238\\CJG_04_2023_02_04-summary_2.txt -> C:/Users/G/Documents/GitHub/audycje.com.pl/content/audio\\CJG_04_2023_02_04.txt\n",
      "Record already exists: voiceapp\\output\\summaries_folder\\yi_6b_20241213_175238\\CJG_04_2023_02_04-summary_3.txt -> C:/Users/G/Documents/GitHub/audycje.com.pl/content/audio\\CJG_04_2023_02_04.txt\n",
      "Record already exists: voiceapp\\output\\summaries_folder\\yi_6b_20241213_175238\\CJG_04_2023_02_04-summary_4.txt -> C:/Users/G/Documents/GitHub/audycje.com.pl/content/audio\\CJG_04_2023_02_04.txt\n",
      "Record already exists: voiceapp\\output\\summaries_folder\\yi_6b_20241213_175238\\CJG_04_2023_02_04-summary_5.txt -> C:/Users/G/Documents/GitHub/audycje.com.pl/content/audio\\CJG_04_2023_02_04.txt\n",
      "Record already exists: voiceapp\\output\\summaries_folder\\yi_6b_20241213_175238\\CJG_04_2023_02_04-summary_1.txt -> C:/Users/G/Documents/GitHub/audycje.com.pl/content/audio\\CJG_04_2023_02_04.txt\n",
      "Record already exists: voiceapp\\output\\summaries_folder\\yi_6b_20241213_175238\\CJG_04_2023_02_04-summary_2.txt -> C:/Users/G/Documents/GitHub/audycje.com.pl/content/audio\\CJG_04_2023_02_04.txt\n",
      "Record already exists: voiceapp\\output\\summaries_folder\\yi_6b_20241213_175238\\CJG_04_2023_02_04-summary_3.txt -> C:/Users/G/Documents/GitHub/audycje.com.pl/content/audio\\CJG_04_2023_02_04.txt\n",
      "Record already exists: voiceapp\\output\\summaries_folder\\yi_6b_20241213_175238\\CJG_04_2023_02_04-summary_4.txt -> C:/Users/G/Documents/GitHub/audycje.com.pl/content/audio\\CJG_04_2023_02_04.txt\n"
     ]
    },
    {
     "name": "stderr",
     "output_type": "stream",
     "text": [
      "\n",
      "\n",
      "Summarizing files for yi:6b:   4%|███▋                                                                                      | 4/97 [03:39<1:25:13, 54.98s/it, file=CJG_03_2023_01_28.txt, summaries_count=15, time=54.77 seconds]\u001b[A\u001b[A\n",
      "\n",
      "Summarizing files for yi:6b:   4%|███▋                                                                                      | 4/97 [03:39<1:25:13, 54.98s/it, file=CJG_04_2023_02_04.txt, summaries_count=15, time=58.32 seconds]\u001b[A\u001b[A"
     ]
    },
    {
     "name": "stdout",
     "output_type": "stream",
     "text": [
      "Record already exists: voiceapp\\output\\summaries_folder\\yi_6b_20241213_175238\\CJG_04_2023_02_04-summary_5.txt -> C:/Users/G/Documents/GitHub/audycje.com.pl/content/audio\\CJG_04_2023_02_04.txt\n",
      "Record already exists: voiceapp\\output\\summaries_folder\\yi_6b_20241213_175238\\CJG_05_2023_02_11-summary_1.txt -> C:/Users/G/Documents/GitHub/audycje.com.pl/content/audio\\CJG_05_2023_02_11.txt\n",
      "Record already exists: voiceapp\\output\\summaries_folder\\yi_6b_20241213_175238\\CJG_05_2023_02_11-summary_2.txt -> C:/Users/G/Documents/GitHub/audycje.com.pl/content/audio\\CJG_05_2023_02_11.txt\n",
      "Record already exists: voiceapp\\output\\summaries_folder\\yi_6b_20241213_175238\\CJG_05_2023_02_11-summary_3.txt -> C:/Users/G/Documents/GitHub/audycje.com.pl/content/audio\\CJG_05_2023_02_11.txt\n",
      "Record already exists: voiceapp\\output\\summaries_folder\\yi_6b_20241213_175238\\CJG_05_2023_02_11-summary_4.txt -> C:/Users/G/Documents/GitHub/audycje.com.pl/content/audio\\CJG_05_2023_02_11.txt\n",
      "Record already exists: voiceapp\\output\\summaries_folder\\yi_6b_20241213_175238\\CJG_05_2023_02_11-summary_5.txt -> C:/Users/G/Documents/GitHub/audycje.com.pl/content/audio\\CJG_05_2023_02_11.txt\n",
      "Record already exists: voiceapp\\output\\summaries_folder\\yi_6b_20241213_175238\\CJG_05_2023_02_11-summary_1.txt -> C:/Users/G/Documents/GitHub/audycje.com.pl/content/audio\\CJG_05_2023_02_11.txt\n",
      "Record already exists: voiceapp\\output\\summaries_folder\\yi_6b_20241213_175238\\CJG_05_2023_02_11-summary_2.txt -> C:/Users/G/Documents/GitHub/audycje.com.pl/content/audio\\CJG_05_2023_02_11.txt\n",
      "Record already exists: voiceapp\\output\\summaries_folder\\yi_6b_20241213_175238\\CJG_05_2023_02_11-summary_3.txt -> C:/Users/G/Documents/GitHub/audycje.com.pl/content/audio\\CJG_05_2023_02_11.txt\n",
      "Record already exists: voiceapp\\output\\summaries_folder\\yi_6b_20241213_175238\\CJG_05_2023_02_11-summary_4.txt -> C:/Users/G/Documents/GitHub/audycje.com.pl/content/audio\\CJG_05_2023_02_11.txt\n"
     ]
    },
    {
     "name": "stderr",
     "output_type": "stream",
     "text": [
      "\n",
      "\n",
      "Summarizing files for yi:6b:   5%|████▋                                                                                     | 5/97 [04:40<1:27:20, 56.97s/it, file=CJG_04_2023_02_04.txt, summaries_count=15, time=58.32 seconds]\u001b[A\u001b[A\n",
      "\n",
      "Summarizing files for yi:6b:   5%|████▋                                                                                     | 5/97 [04:40<1:27:20, 56.97s/it, file=CJG_05_2023_02_11.txt, summaries_count=15, time=60.48 seconds]\u001b[A\u001b[A"
     ]
    },
    {
     "name": "stdout",
     "output_type": "stream",
     "text": [
      "Record already exists: voiceapp\\output\\summaries_folder\\yi_6b_20241213_175238\\CJG_05_2023_02_11-summary_5.txt -> C:/Users/G/Documents/GitHub/audycje.com.pl/content/audio\\CJG_05_2023_02_11.txt\n",
      "Record already exists: voiceapp\\output\\summaries_folder\\yi_6b_20241213_175238\\CJG_06_2023_02_18-summary_1.txt -> C:/Users/G/Documents/GitHub/audycje.com.pl/content/audio\\CJG_06_2023_02_18.txt\n",
      "Record already exists: voiceapp\\output\\summaries_folder\\yi_6b_20241213_175238\\CJG_06_2023_02_18-summary_2.txt -> C:/Users/G/Documents/GitHub/audycje.com.pl/content/audio\\CJG_06_2023_02_18.txt\n",
      "Record already exists: voiceapp\\output\\summaries_folder\\yi_6b_20241213_175238\\CJG_06_2023_02_18-summary_3.txt -> C:/Users/G/Documents/GitHub/audycje.com.pl/content/audio\\CJG_06_2023_02_18.txt\n",
      "Record already exists: voiceapp\\output\\summaries_folder\\yi_6b_20241213_175238\\CJG_06_2023_02_18-summary_4.txt -> C:/Users/G/Documents/GitHub/audycje.com.pl/content/audio\\CJG_06_2023_02_18.txt\n",
      "Record already exists: voiceapp\\output\\summaries_folder\\yi_6b_20241213_175238\\CJG_06_2023_02_18-summary_5.txt -> C:/Users/G/Documents/GitHub/audycje.com.pl/content/audio\\CJG_06_2023_02_18.txt\n",
      "Record already exists: voiceapp\\output\\summaries_folder\\yi_6b_20241213_175238\\CJG_06_2023_02_18-summary_1.txt -> C:/Users/G/Documents/GitHub/audycje.com.pl/content/audio\\CJG_06_2023_02_18.txt\n",
      "Record already exists: voiceapp\\output\\summaries_folder\\yi_6b_20241213_175238\\CJG_06_2023_02_18-summary_2.txt -> C:/Users/G/Documents/GitHub/audycje.com.pl/content/audio\\CJG_06_2023_02_18.txt\n",
      "Record already exists: voiceapp\\output\\summaries_folder\\yi_6b_20241213_175238\\CJG_06_2023_02_18-summary_3.txt -> C:/Users/G/Documents/GitHub/audycje.com.pl/content/audio\\CJG_06_2023_02_18.txt\n",
      "Record already exists: voiceapp\\output\\summaries_folder\\yi_6b_20241213_175238\\CJG_06_2023_02_18-summary_4.txt -> C:/Users/G/Documents/GitHub/audycje.com.pl/content/audio\\CJG_06_2023_02_18.txt\n"
     ]
    },
    {
     "name": "stderr",
     "output_type": "stream",
     "text": [
      "\n",
      "\n",
      "Summarizing files for yi:6b:   6%|█████▌                                                                                    | 6/97 [05:36<1:25:53, 56.63s/it, file=CJG_05_2023_02_11.txt, summaries_count=15, time=60.48 seconds]\u001b[A\u001b[A\n",
      "\n",
      "Summarizing files for yi:6b:   6%|█████▌                                                                                    | 6/97 [05:36<1:25:53, 56.63s/it, file=CJG_06_2023_02_18.txt, summaries_count=15, time=55.99 seconds]\u001b[A\u001b[A"
     ]
    },
    {
     "name": "stdout",
     "output_type": "stream",
     "text": [
      "Record already exists: voiceapp\\output\\summaries_folder\\yi_6b_20241213_175238\\CJG_06_2023_02_18-summary_5.txt -> C:/Users/G/Documents/GitHub/audycje.com.pl/content/audio\\CJG_06_2023_02_18.txt\n",
      "Record already exists: voiceapp\\output\\summaries_folder\\yi_6b_20241213_175238\\CJG_07_2023_02_25-summary_1.txt -> C:/Users/G/Documents/GitHub/audycje.com.pl/content/audio\\CJG_07_2023_02_25.txt\n",
      "Record already exists: voiceapp\\output\\summaries_folder\\yi_6b_20241213_175238\\CJG_07_2023_02_25-summary_2.txt -> C:/Users/G/Documents/GitHub/audycje.com.pl/content/audio\\CJG_07_2023_02_25.txt\n",
      "Record already exists: voiceapp\\output\\summaries_folder\\yi_6b_20241213_175238\\CJG_07_2023_02_25-summary_3.txt -> C:/Users/G/Documents/GitHub/audycje.com.pl/content/audio\\CJG_07_2023_02_25.txt\n",
      "Record already exists: voiceapp\\output\\summaries_folder\\yi_6b_20241213_175238\\CJG_07_2023_02_25-summary_4.txt -> C:/Users/G/Documents/GitHub/audycje.com.pl/content/audio\\CJG_07_2023_02_25.txt\n",
      "Record already exists: voiceapp\\output\\summaries_folder\\yi_6b_20241213_175238\\CJG_07_2023_02_25-summary_5.txt -> C:/Users/G/Documents/GitHub/audycje.com.pl/content/audio\\CJG_07_2023_02_25.txt\n",
      "Record already exists: voiceapp\\output\\summaries_folder\\yi_6b_20241213_175238\\CJG_07_2023_02_25-summary_1.txt -> C:/Users/G/Documents/GitHub/audycje.com.pl/content/audio\\CJG_07_2023_02_25.txt\n",
      "Record already exists: voiceapp\\output\\summaries_folder\\yi_6b_20241213_175238\\CJG_07_2023_02_25-summary_2.txt -> C:/Users/G/Documents/GitHub/audycje.com.pl/content/audio\\CJG_07_2023_02_25.txt\n",
      "Record already exists: voiceapp\\output\\summaries_folder\\yi_6b_20241213_175238\\CJG_07_2023_02_25-summary_3.txt -> C:/Users/G/Documents/GitHub/audycje.com.pl/content/audio\\CJG_07_2023_02_25.txt\n",
      "Record already exists: voiceapp\\output\\summaries_folder\\yi_6b_20241213_175238\\CJG_07_2023_02_25-summary_4.txt -> C:/Users/G/Documents/GitHub/audycje.com.pl/content/audio\\CJG_07_2023_02_25.txt\n",
      "Record already exists: voiceapp\\output\\summaries_folder\\yi_6b_20241213_175238\\CJG_07_2023_02_25-summary_5.txt -> C:/Users/G/Documents/GitHub/audycje.com.pl/content/audio\\CJG_07_2023_02_25.txt\n",
      "Record already exists: voiceapp\\output\\summaries_folder\\yi_6b_20241213_175238\\CJG_07_2023_02_25-summary_1.txt -> C:/Users/G/Documents/GitHub/audycje.com.pl/content/audio\\CJG_07_2023_02_25.txt\n",
      "Record already exists: voiceapp\\output\\summaries_folder\\yi_6b_20241213_175238\\CJG_07_2023_02_25-summary_2.txt -> C:/Users/G/Documents/GitHub/audycje.com.pl/content/audio\\CJG_07_2023_02_25.txt\n",
      "Record already exists: voiceapp\\output\\summaries_folder\\yi_6b_20241213_175238\\CJG_07_2023_02_25-summary_3.txt -> C:/Users/G/Documents/GitHub/audycje.com.pl/content/audio\\CJG_07_2023_02_25.txt\n",
      "Record already exists: voiceapp\\output\\summaries_folder\\yi_6b_20241213_175238\\CJG_07_2023_02_25-summary_4.txt -> C:/Users/G/Documents/GitHub/audycje.com.pl/content/audio\\CJG_07_2023_02_25.txt\n"
     ]
    },
    {
     "name": "stderr",
     "output_type": "stream",
     "text": [
      "\n",
      "\n",
      "Summarizing files for yi:6b:   7%|██████▍                                                                                   | 7/97 [06:55<1:36:02, 64.03s/it, file=CJG_06_2023_02_18.txt, summaries_count=15, time=55.99 seconds]\u001b[A\u001b[A\n",
      "\n",
      "Summarizing files for yi:6b:   7%|██████▍                                                                                   | 7/97 [06:55<1:36:02, 64.03s/it, file=CJG_07_2023_02_25.txt, summaries_count=20, time=79.27 seconds]\u001b[A\u001b[A"
     ]
    },
    {
     "name": "stdout",
     "output_type": "stream",
     "text": [
      "Record already exists: voiceapp\\output\\summaries_folder\\yi_6b_20241213_175238\\CJG_07_2023_02_25-summary_5.txt -> C:/Users/G/Documents/GitHub/audycje.com.pl/content/audio\\CJG_07_2023_02_25.txt\n",
      "Record already exists: voiceapp\\output\\summaries_folder\\yi_6b_20241213_175238\\CJG_08_2023_03_04-summary_1.txt -> C:/Users/G/Documents/GitHub/audycje.com.pl/content/audio\\CJG_08_2023_03_04.txt\n",
      "Record already exists: voiceapp\\output\\summaries_folder\\yi_6b_20241213_175238\\CJG_08_2023_03_04-summary_2.txt -> C:/Users/G/Documents/GitHub/audycje.com.pl/content/audio\\CJG_08_2023_03_04.txt\n",
      "Record already exists: voiceapp\\output\\summaries_folder\\yi_6b_20241213_175238\\CJG_08_2023_03_04-summary_3.txt -> C:/Users/G/Documents/GitHub/audycje.com.pl/content/audio\\CJG_08_2023_03_04.txt\n",
      "Record already exists: voiceapp\\output\\summaries_folder\\yi_6b_20241213_175238\\CJG_08_2023_03_04-summary_4.txt -> C:/Users/G/Documents/GitHub/audycje.com.pl/content/audio\\CJG_08_2023_03_04.txt\n",
      "Record already exists: voiceapp\\output\\summaries_folder\\yi_6b_20241213_175238\\CJG_08_2023_03_04-summary_5.txt -> C:/Users/G/Documents/GitHub/audycje.com.pl/content/audio\\CJG_08_2023_03_04.txt\n",
      "Record already exists: voiceapp\\output\\summaries_folder\\yi_6b_20241213_175238\\CJG_08_2023_03_04-summary_1.txt -> C:/Users/G/Documents/GitHub/audycje.com.pl/content/audio\\CJG_08_2023_03_04.txt\n",
      "Record already exists: voiceapp\\output\\summaries_folder\\yi_6b_20241213_175238\\CJG_08_2023_03_04-summary_2.txt -> C:/Users/G/Documents/GitHub/audycje.com.pl/content/audio\\CJG_08_2023_03_04.txt\n",
      "Record already exists: voiceapp\\output\\summaries_folder\\yi_6b_20241213_175238\\CJG_08_2023_03_04-summary_3.txt -> C:/Users/G/Documents/GitHub/audycje.com.pl/content/audio\\CJG_08_2023_03_04.txt\n",
      "Record already exists: voiceapp\\output\\summaries_folder\\yi_6b_20241213_175238\\CJG_08_2023_03_04-summary_4.txt -> C:/Users/G/Documents/GitHub/audycje.com.pl/content/audio\\CJG_08_2023_03_04.txt\n"
     ]
    },
    {
     "name": "stderr",
     "output_type": "stream",
     "text": [
      "\n",
      "\n",
      "Summarizing files for yi:6b:   8%|███████▍                                                                                  | 8/97 [07:55<1:33:02, 62.72s/it, file=CJG_07_2023_02_25.txt, summaries_count=20, time=79.27 seconds]\u001b[A\u001b[A\n",
      "\n",
      "Summarizing files for yi:6b:   8%|███████▍                                                                                  | 8/97 [07:55<1:33:02, 62.72s/it, file=CJG_08_2023_03_04.txt, summaries_count=15, time=59.92 seconds]\u001b[A\u001b[A"
     ]
    },
    {
     "name": "stdout",
     "output_type": "stream",
     "text": [
      "Record already exists: voiceapp\\output\\summaries_folder\\yi_6b_20241213_175238\\CJG_08_2023_03_04-summary_5.txt -> C:/Users/G/Documents/GitHub/audycje.com.pl/content/audio\\CJG_08_2023_03_04.txt\n",
      "Record already exists: voiceapp\\output\\summaries_folder\\yi_6b_20241213_175238\\CJG_09_2023_03_11-summary_1.txt -> C:/Users/G/Documents/GitHub/audycje.com.pl/content/audio\\CJG_09_2023_03_11.txt\n",
      "Record already exists: voiceapp\\output\\summaries_folder\\yi_6b_20241213_175238\\CJG_09_2023_03_11-summary_2.txt -> C:/Users/G/Documents/GitHub/audycje.com.pl/content/audio\\CJG_09_2023_03_11.txt\n",
      "Record already exists: voiceapp\\output\\summaries_folder\\yi_6b_20241213_175238\\CJG_09_2023_03_11-summary_3.txt -> C:/Users/G/Documents/GitHub/audycje.com.pl/content/audio\\CJG_09_2023_03_11.txt\n",
      "Record already exists: voiceapp\\output\\summaries_folder\\yi_6b_20241213_175238\\CJG_09_2023_03_11-summary_4.txt -> C:/Users/G/Documents/GitHub/audycje.com.pl/content/audio\\CJG_09_2023_03_11.txt\n",
      "Record already exists: voiceapp\\output\\summaries_folder\\yi_6b_20241213_175238\\CJG_09_2023_03_11-summary_5.txt -> C:/Users/G/Documents/GitHub/audycje.com.pl/content/audio\\CJG_09_2023_03_11.txt\n",
      "Record already exists: voiceapp\\output\\summaries_folder\\yi_6b_20241213_175238\\CJG_09_2023_03_11-summary_1.txt -> C:/Users/G/Documents/GitHub/audycje.com.pl/content/audio\\CJG_09_2023_03_11.txt\n",
      "Record already exists: voiceapp\\output\\summaries_folder\\yi_6b_20241213_175238\\CJG_09_2023_03_11-summary_2.txt -> C:/Users/G/Documents/GitHub/audycje.com.pl/content/audio\\CJG_09_2023_03_11.txt\n",
      "Record already exists: voiceapp\\output\\summaries_folder\\yi_6b_20241213_175238\\CJG_09_2023_03_11-summary_3.txt -> C:/Users/G/Documents/GitHub/audycje.com.pl/content/audio\\CJG_09_2023_03_11.txt\n",
      "Record already exists: voiceapp\\output\\summaries_folder\\yi_6b_20241213_175238\\CJG_09_2023_03_11-summary_4.txt -> C:/Users/G/Documents/GitHub/audycje.com.pl/content/audio\\CJG_09_2023_03_11.txt\n"
     ]
    },
    {
     "name": "stderr",
     "output_type": "stream",
     "text": [
      "\n",
      "\n",
      "Summarizing files for yi:6b:   9%|████████▎                                                                                 | 9/97 [09:02<1:33:50, 63.99s/it, file=CJG_08_2023_03_04.txt, summaries_count=15, time=59.92 seconds]\u001b[A\u001b[A\n",
      "\n",
      "Summarizing files for yi:6b:   9%|████████▎                                                                                 | 9/97 [09:02<1:33:50, 63.99s/it, file=CJG_09_2023_03_11.txt, summaries_count=15, time=66.77 seconds]\u001b[A\u001b[A"
     ]
    },
    {
     "name": "stdout",
     "output_type": "stream",
     "text": [
      "Record already exists: voiceapp\\output\\summaries_folder\\yi_6b_20241213_175238\\CJG_09_2023_03_11-summary_5.txt -> C:/Users/G/Documents/GitHub/audycje.com.pl/content/audio\\CJG_09_2023_03_11.txt\n",
      "Record already exists: voiceapp\\output\\summaries_folder\\yi_6b_20241213_175238\\CJG_10_2023_03_18-summary_1.txt -> C:/Users/G/Documents/GitHub/audycje.com.pl/content/audio\\CJG_10_2023_03_18.txt\n",
      "Record already exists: voiceapp\\output\\summaries_folder\\yi_6b_20241213_175238\\CJG_10_2023_03_18-summary_2.txt -> C:/Users/G/Documents/GitHub/audycje.com.pl/content/audio\\CJG_10_2023_03_18.txt\n",
      "Record already exists: voiceapp\\output\\summaries_folder\\yi_6b_20241213_175238\\CJG_10_2023_03_18-summary_3.txt -> C:/Users/G/Documents/GitHub/audycje.com.pl/content/audio\\CJG_10_2023_03_18.txt\n",
      "Record already exists: voiceapp\\output\\summaries_folder\\yi_6b_20241213_175238\\CJG_10_2023_03_18-summary_4.txt -> C:/Users/G/Documents/GitHub/audycje.com.pl/content/audio\\CJG_10_2023_03_18.txt\n",
      "Record already exists: voiceapp\\output\\summaries_folder\\yi_6b_20241213_175238\\CJG_10_2023_03_18-summary_5.txt -> C:/Users/G/Documents/GitHub/audycje.com.pl/content/audio\\CJG_10_2023_03_18.txt\n",
      "Record already exists: voiceapp\\output\\summaries_folder\\yi_6b_20241213_175238\\CJG_10_2023_03_18-summary_1.txt -> C:/Users/G/Documents/GitHub/audycje.com.pl/content/audio\\CJG_10_2023_03_18.txt\n",
      "Record already exists: voiceapp\\output\\summaries_folder\\yi_6b_20241213_175238\\CJG_10_2023_03_18-summary_2.txt -> C:/Users/G/Documents/GitHub/audycje.com.pl/content/audio\\CJG_10_2023_03_18.txt\n",
      "Record already exists: voiceapp\\output\\summaries_folder\\yi_6b_20241213_175238\\CJG_10_2023_03_18-summary_3.txt -> C:/Users/G/Documents/GitHub/audycje.com.pl/content/audio\\CJG_10_2023_03_18.txt\n",
      "Record already exists: voiceapp\\output\\summaries_folder\\yi_6b_20241213_175238\\CJG_10_2023_03_18-summary_4.txt -> C:/Users/G/Documents/GitHub/audycje.com.pl/content/audio\\CJG_10_2023_03_18.txt\n",
      "Record already exists: voiceapp\\output\\summaries_folder\\yi_6b_20241213_175238\\CJG_10_2023_03_18-summary_5.txt -> C:/Users/G/Documents/GitHub/audycje.com.pl/content/audio\\CJG_10_2023_03_18.txt\n",
      "Record already exists: voiceapp\\output\\summaries_folder\\yi_6b_20241213_175238\\CJG_10_2023_03_18-summary_1.txt -> C:/Users/G/Documents/GitHub/audycje.com.pl/content/audio\\CJG_10_2023_03_18.txt\n",
      "Record already exists: voiceapp\\output\\summaries_folder\\yi_6b_20241213_175238\\CJG_10_2023_03_18-summary_2.txt -> C:/Users/G/Documents/GitHub/audycje.com.pl/content/audio\\CJG_10_2023_03_18.txt\n",
      "Record already exists: voiceapp\\output\\summaries_folder\\yi_6b_20241213_175238\\CJG_10_2023_03_18-summary_3.txt -> C:/Users/G/Documents/GitHub/audycje.com.pl/content/audio\\CJG_10_2023_03_18.txt\n",
      "Record already exists: voiceapp\\output\\summaries_folder\\yi_6b_20241213_175238\\CJG_10_2023_03_18-summary_4.txt -> C:/Users/G/Documents/GitHub/audycje.com.pl/content/audio\\CJG_10_2023_03_18.txt\n"
     ]
    },
    {
     "name": "stderr",
     "output_type": "stream",
     "text": [
      "\n",
      "\n",
      "Summarizing files for yi:6b:  10%|█████████▏                                                                               | 10/97 [10:27<1:42:33, 70.73s/it, file=CJG_09_2023_03_11.txt, summaries_count=15, time=66.77 seconds]\u001b[A\u001b[A\n",
      "\n",
      "Summarizing files for yi:6b:  10%|█████████▏                                                                               | 10/97 [10:27<1:42:33, 70.73s/it, file=CJG_10_2023_03_18.txt, summaries_count=20, time=85.84 seconds]\u001b[A\u001b[A"
     ]
    },
    {
     "name": "stdout",
     "output_type": "stream",
     "text": [
      "Record already exists: voiceapp\\output\\summaries_folder\\yi_6b_20241213_175238\\CJG_10_2023_03_18-summary_5.txt -> C:/Users/G/Documents/GitHub/audycje.com.pl/content/audio\\CJG_10_2023_03_18.txt\n",
      "Record already exists: voiceapp\\output\\summaries_folder\\yi_6b_20241213_175238\\CJG_11_2023_03_25-summary_1.txt -> C:/Users/G/Documents/GitHub/audycje.com.pl/content/audio\\CJG_11_2023_03_25.txt\n",
      "Record already exists: voiceapp\\output\\summaries_folder\\yi_6b_20241213_175238\\CJG_11_2023_03_25-summary_2.txt -> C:/Users/G/Documents/GitHub/audycje.com.pl/content/audio\\CJG_11_2023_03_25.txt\n",
      "Record already exists: voiceapp\\output\\summaries_folder\\yi_6b_20241213_175238\\CJG_11_2023_03_25-summary_3.txt -> C:/Users/G/Documents/GitHub/audycje.com.pl/content/audio\\CJG_11_2023_03_25.txt\n",
      "Record already exists: voiceapp\\output\\summaries_folder\\yi_6b_20241213_175238\\CJG_11_2023_03_25-summary_4.txt -> C:/Users/G/Documents/GitHub/audycje.com.pl/content/audio\\CJG_11_2023_03_25.txt\n",
      "Record already exists: voiceapp\\output\\summaries_folder\\yi_6b_20241213_175238\\CJG_11_2023_03_25-summary_5.txt -> C:/Users/G/Documents/GitHub/audycje.com.pl/content/audio\\CJG_11_2023_03_25.txt\n",
      "Record already exists: voiceapp\\output\\summaries_folder\\yi_6b_20241213_175238\\CJG_11_2023_03_25-summary_1.txt -> C:/Users/G/Documents/GitHub/audycje.com.pl/content/audio\\CJG_11_2023_03_25.txt\n",
      "Record already exists: voiceapp\\output\\summaries_folder\\yi_6b_20241213_175238\\CJG_11_2023_03_25-summary_2.txt -> C:/Users/G/Documents/GitHub/audycje.com.pl/content/audio\\CJG_11_2023_03_25.txt\n",
      "Record already exists: voiceapp\\output\\summaries_folder\\yi_6b_20241213_175238\\CJG_11_2023_03_25-summary_3.txt -> C:/Users/G/Documents/GitHub/audycje.com.pl/content/audio\\CJG_11_2023_03_25.txt\n",
      "Record already exists: voiceapp\\output\\summaries_folder\\yi_6b_20241213_175238\\CJG_11_2023_03_25-summary_4.txt -> C:/Users/G/Documents/GitHub/audycje.com.pl/content/audio\\CJG_11_2023_03_25.txt\n",
      "Record already exists: voiceapp\\output\\summaries_folder\\yi_6b_20241213_175238\\CJG_11_2023_03_25-summary_5.txt -> C:/Users/G/Documents/GitHub/audycje.com.pl/content/audio\\CJG_11_2023_03_25.txt\n",
      "Record already exists: voiceapp\\output\\summaries_folder\\yi_6b_20241213_175238\\CJG_11_2023_03_25-summary_1.txt -> C:/Users/G/Documents/GitHub/audycje.com.pl/content/audio\\CJG_11_2023_03_25.txt\n",
      "Record already exists: voiceapp\\output\\summaries_folder\\yi_6b_20241213_175238\\CJG_11_2023_03_25-summary_2.txt -> C:/Users/G/Documents/GitHub/audycje.com.pl/content/audio\\CJG_11_2023_03_25.txt\n",
      "Record already exists: voiceapp\\output\\summaries_folder\\yi_6b_20241213_175238\\CJG_11_2023_03_25-summary_3.txt -> C:/Users/G/Documents/GitHub/audycje.com.pl/content/audio\\CJG_11_2023_03_25.txt\n",
      "Record already exists: voiceapp\\output\\summaries_folder\\yi_6b_20241213_175238\\CJG_11_2023_03_25-summary_4.txt -> C:/Users/G/Documents/GitHub/audycje.com.pl/content/audio\\CJG_11_2023_03_25.txt\n"
     ]
    },
    {
     "name": "stderr",
     "output_type": "stream",
     "text": [
      "\n",
      "\n",
      "Summarizing files for yi:6b:  11%|██████████                                                                               | 11/97 [11:47<1:45:16, 73.44s/it, file=CJG_10_2023_03_18.txt, summaries_count=20, time=85.84 seconds]\u001b[A\u001b[A\n",
      "\n",
      "Summarizing files for yi:6b:  11%|██████████                                                                               | 11/97 [11:47<1:45:16, 73.44s/it, file=CJG_11_2023_03_25.txt, summaries_count=20, time=79.59 seconds]\u001b[A\u001b[A"
     ]
    },
    {
     "name": "stdout",
     "output_type": "stream",
     "text": [
      "Record already exists: voiceapp\\output\\summaries_folder\\yi_6b_20241213_175238\\CJG_11_2023_03_25-summary_5.txt -> C:/Users/G/Documents/GitHub/audycje.com.pl/content/audio\\CJG_11_2023_03_25.txt\n",
      "Record already exists: voiceapp\\output\\summaries_folder\\yi_6b_20241213_175238\\CJG_12_2023_04_01-summary_1.txt -> C:/Users/G/Documents/GitHub/audycje.com.pl/content/audio\\CJG_12_2023_04_01.txt\n",
      "Record already exists: voiceapp\\output\\summaries_folder\\yi_6b_20241213_175238\\CJG_12_2023_04_01-summary_2.txt -> C:/Users/G/Documents/GitHub/audycje.com.pl/content/audio\\CJG_12_2023_04_01.txt\n",
      "Record already exists: voiceapp\\output\\summaries_folder\\yi_6b_20241213_175238\\CJG_12_2023_04_01-summary_3.txt -> C:/Users/G/Documents/GitHub/audycje.com.pl/content/audio\\CJG_12_2023_04_01.txt\n",
      "Record already exists: voiceapp\\output\\summaries_folder\\yi_6b_20241213_175238\\CJG_12_2023_04_01-summary_4.txt -> C:/Users/G/Documents/GitHub/audycje.com.pl/content/audio\\CJG_12_2023_04_01.txt\n",
      "Record already exists: voiceapp\\output\\summaries_folder\\yi_6b_20241213_175238\\CJG_12_2023_04_01-summary_5.txt -> C:/Users/G/Documents/GitHub/audycje.com.pl/content/audio\\CJG_12_2023_04_01.txt\n",
      "Record already exists: voiceapp\\output\\summaries_folder\\yi_6b_20241213_175238\\CJG_12_2023_04_01-summary_1.txt -> C:/Users/G/Documents/GitHub/audycje.com.pl/content/audio\\CJG_12_2023_04_01.txt\n",
      "Record already exists: voiceapp\\output\\summaries_folder\\yi_6b_20241213_175238\\CJG_12_2023_04_01-summary_2.txt -> C:/Users/G/Documents/GitHub/audycje.com.pl/content/audio\\CJG_12_2023_04_01.txt\n",
      "Record already exists: voiceapp\\output\\summaries_folder\\yi_6b_20241213_175238\\CJG_12_2023_04_01-summary_3.txt -> C:/Users/G/Documents/GitHub/audycje.com.pl/content/audio\\CJG_12_2023_04_01.txt\n",
      "Record already exists: voiceapp\\output\\summaries_folder\\yi_6b_20241213_175238\\CJG_12_2023_04_01-summary_4.txt -> C:/Users/G/Documents/GitHub/audycje.com.pl/content/audio\\CJG_12_2023_04_01.txt\n",
      "Record already exists: voiceapp\\output\\summaries_folder\\yi_6b_20241213_175238\\CJG_12_2023_04_01-summary_5.txt -> C:/Users/G/Documents/GitHub/audycje.com.pl/content/audio\\CJG_12_2023_04_01.txt\n",
      "Record already exists: voiceapp\\output\\summaries_folder\\yi_6b_20241213_175238\\CJG_12_2023_04_01-summary_1.txt -> C:/Users/G/Documents/GitHub/audycje.com.pl/content/audio\\CJG_12_2023_04_01.txt\n",
      "Record already exists: voiceapp\\output\\summaries_folder\\yi_6b_20241213_175238\\CJG_12_2023_04_01-summary_2.txt -> C:/Users/G/Documents/GitHub/audycje.com.pl/content/audio\\CJG_12_2023_04_01.txt\n",
      "Record already exists: voiceapp\\output\\summaries_folder\\yi_6b_20241213_175238\\CJG_12_2023_04_01-summary_3.txt -> C:/Users/G/Documents/GitHub/audycje.com.pl/content/audio\\CJG_12_2023_04_01.txt\n",
      "Record already exists: voiceapp\\output\\summaries_folder\\yi_6b_20241213_175238\\CJG_12_2023_04_01-summary_4.txt -> C:/Users/G/Documents/GitHub/audycje.com.pl/content/audio\\CJG_12_2023_04_01.txt\n"
     ]
    },
    {
     "name": "stderr",
     "output_type": "stream",
     "text": [
      "\n",
      "\n",
      "Summarizing files for yi:6b:  12%|███████████                                                                              | 12/97 [13:06<1:46:38, 75.27s/it, file=CJG_11_2023_03_25.txt, summaries_count=20, time=79.59 seconds]\u001b[A\u001b[A\n",
      "\n",
      "Summarizing files for yi:6b:  12%|███████████                                                                              | 12/97 [13:06<1:46:38, 75.27s/it, file=CJG_12_2023_04_01.txt, summaries_count=20, time=79.46 seconds]\u001b[A\u001b[A"
     ]
    },
    {
     "name": "stdout",
     "output_type": "stream",
     "text": [
      "Record already exists: voiceapp\\output\\summaries_folder\\yi_6b_20241213_175238\\CJG_12_2023_04_01-summary_5.txt -> C:/Users/G/Documents/GitHub/audycje.com.pl/content/audio\\CJG_12_2023_04_01.txt\n",
      "Record already exists: voiceapp\\output\\summaries_folder\\yi_6b_20241213_175238\\CJG_13_2023_04_08-summary_1.txt -> C:/Users/G/Documents/GitHub/audycje.com.pl/content/audio\\CJG_13_2023_04_08.txt\n",
      "Record already exists: voiceapp\\output\\summaries_folder\\yi_6b_20241213_175238\\CJG_13_2023_04_08-summary_2.txt -> C:/Users/G/Documents/GitHub/audycje.com.pl/content/audio\\CJG_13_2023_04_08.txt\n",
      "Record already exists: voiceapp\\output\\summaries_folder\\yi_6b_20241213_175238\\CJG_13_2023_04_08-summary_3.txt -> C:/Users/G/Documents/GitHub/audycje.com.pl/content/audio\\CJG_13_2023_04_08.txt\n",
      "Record already exists: voiceapp\\output\\summaries_folder\\yi_6b_20241213_175238\\CJG_13_2023_04_08-summary_4.txt -> C:/Users/G/Documents/GitHub/audycje.com.pl/content/audio\\CJG_13_2023_04_08.txt\n",
      "Record already exists: voiceapp\\output\\summaries_folder\\yi_6b_20241213_175238\\CJG_13_2023_04_08-summary_5.txt -> C:/Users/G/Documents/GitHub/audycje.com.pl/content/audio\\CJG_13_2023_04_08.txt\n",
      "Record already exists: voiceapp\\output\\summaries_folder\\yi_6b_20241213_175238\\CJG_13_2023_04_08-summary_1.txt -> C:/Users/G/Documents/GitHub/audycje.com.pl/content/audio\\CJG_13_2023_04_08.txt\n",
      "Record already exists: voiceapp\\output\\summaries_folder\\yi_6b_20241213_175238\\CJG_13_2023_04_08-summary_2.txt -> C:/Users/G/Documents/GitHub/audycje.com.pl/content/audio\\CJG_13_2023_04_08.txt\n",
      "Record already exists: voiceapp\\output\\summaries_folder\\yi_6b_20241213_175238\\CJG_13_2023_04_08-summary_3.txt -> C:/Users/G/Documents/GitHub/audycje.com.pl/content/audio\\CJG_13_2023_04_08.txt\n",
      "Record already exists: voiceapp\\output\\summaries_folder\\yi_6b_20241213_175238\\CJG_13_2023_04_08-summary_4.txt -> C:/Users/G/Documents/GitHub/audycje.com.pl/content/audio\\CJG_13_2023_04_08.txt\n",
      "Record already exists: voiceapp\\output\\summaries_folder\\yi_6b_20241213_175238\\CJG_13_2023_04_08-summary_5.txt -> C:/Users/G/Documents/GitHub/audycje.com.pl/content/audio\\CJG_13_2023_04_08.txt\n",
      "Record already exists: voiceapp\\output\\summaries_folder\\yi_6b_20241213_175238\\CJG_13_2023_04_08-summary_1.txt -> C:/Users/G/Documents/GitHub/audycje.com.pl/content/audio\\CJG_13_2023_04_08.txt\n",
      "Record already exists: voiceapp\\output\\summaries_folder\\yi_6b_20241213_175238\\CJG_13_2023_04_08-summary_2.txt -> C:/Users/G/Documents/GitHub/audycje.com.pl/content/audio\\CJG_13_2023_04_08.txt\n",
      "Record already exists: voiceapp\\output\\summaries_folder\\yi_6b_20241213_175238\\CJG_13_2023_04_08-summary_3.txt -> C:/Users/G/Documents/GitHub/audycje.com.pl/content/audio\\CJG_13_2023_04_08.txt\n",
      "Record already exists: voiceapp\\output\\summaries_folder\\yi_6b_20241213_175238\\CJG_13_2023_04_08-summary_4.txt -> C:/Users/G/Documents/GitHub/audycje.com.pl/content/audio\\CJG_13_2023_04_08.txt\n"
     ]
    },
    {
     "name": "stderr",
     "output_type": "stream",
     "text": [
      "\n",
      "\n",
      "Summarizing files for yi:6b:  13%|███████████▉                                                                             | 13/97 [14:26<1:47:15, 76.62s/it, file=CJG_12_2023_04_01.txt, summaries_count=20, time=79.46 seconds]\u001b[A\u001b[A\n",
      "\n",
      "Summarizing files for yi:6b:  13%|███████████▉                                                                             | 13/97 [14:26<1:47:15, 76.62s/it, file=CJG_13_2023_04_08.txt, summaries_count=20, time=79.71 seconds]\u001b[A\u001b[A"
     ]
    },
    {
     "name": "stdout",
     "output_type": "stream",
     "text": [
      "Record already exists: voiceapp\\output\\summaries_folder\\yi_6b_20241213_175238\\CJG_13_2023_04_08-summary_5.txt -> C:/Users/G/Documents/GitHub/audycje.com.pl/content/audio\\CJG_13_2023_04_08.txt\n",
      "Record already exists: voiceapp\\output\\summaries_folder\\yi_6b_20241213_175238\\CJG_14_2023_04_15-summary_1.txt -> C:/Users/G/Documents/GitHub/audycje.com.pl/content/audio\\CJG_14_2023_04_15.txt\n",
      "Record already exists: voiceapp\\output\\summaries_folder\\yi_6b_20241213_175238\\CJG_14_2023_04_15-summary_2.txt -> C:/Users/G/Documents/GitHub/audycje.com.pl/content/audio\\CJG_14_2023_04_15.txt\n",
      "Record already exists: voiceapp\\output\\summaries_folder\\yi_6b_20241213_175238\\CJG_14_2023_04_15-summary_3.txt -> C:/Users/G/Documents/GitHub/audycje.com.pl/content/audio\\CJG_14_2023_04_15.txt\n",
      "Record already exists: voiceapp\\output\\summaries_folder\\yi_6b_20241213_175238\\CJG_14_2023_04_15-summary_4.txt -> C:/Users/G/Documents/GitHub/audycje.com.pl/content/audio\\CJG_14_2023_04_15.txt\n",
      "Record already exists: voiceapp\\output\\summaries_folder\\yi_6b_20241213_175238\\CJG_14_2023_04_15-summary_5.txt -> C:/Users/G/Documents/GitHub/audycje.com.pl/content/audio\\CJG_14_2023_04_15.txt\n",
      "Record already exists: voiceapp\\output\\summaries_folder\\yi_6b_20241213_175238\\CJG_14_2023_04_15-summary_1.txt -> C:/Users/G/Documents/GitHub/audycje.com.pl/content/audio\\CJG_14_2023_04_15.txt\n",
      "Record already exists: voiceapp\\output\\summaries_folder\\yi_6b_20241213_175238\\CJG_14_2023_04_15-summary_2.txt -> C:/Users/G/Documents/GitHub/audycje.com.pl/content/audio\\CJG_14_2023_04_15.txt\n",
      "Record already exists: voiceapp\\output\\summaries_folder\\yi_6b_20241213_175238\\CJG_14_2023_04_15-summary_3.txt -> C:/Users/G/Documents/GitHub/audycje.com.pl/content/audio\\CJG_14_2023_04_15.txt\n",
      "Record already exists: voiceapp\\output\\summaries_folder\\yi_6b_20241213_175238\\CJG_14_2023_04_15-summary_4.txt -> C:/Users/G/Documents/GitHub/audycje.com.pl/content/audio\\CJG_14_2023_04_15.txt\n",
      "Record already exists: voiceapp\\output\\summaries_folder\\yi_6b_20241213_175238\\CJG_14_2023_04_15-summary_5.txt -> C:/Users/G/Documents/GitHub/audycje.com.pl/content/audio\\CJG_14_2023_04_15.txt\n",
      "Record already exists: voiceapp\\output\\summaries_folder\\yi_6b_20241213_175238\\CJG_14_2023_04_15-summary_1.txt -> C:/Users/G/Documents/GitHub/audycje.com.pl/content/audio\\CJG_14_2023_04_15.txt\n",
      "Record already exists: voiceapp\\output\\summaries_folder\\yi_6b_20241213_175238\\CJG_14_2023_04_15-summary_2.txt -> C:/Users/G/Documents/GitHub/audycje.com.pl/content/audio\\CJG_14_2023_04_15.txt\n",
      "Record already exists: voiceapp\\output\\summaries_folder\\yi_6b_20241213_175238\\CJG_14_2023_04_15-summary_3.txt -> C:/Users/G/Documents/GitHub/audycje.com.pl/content/audio\\CJG_14_2023_04_15.txt\n",
      "Record already exists: voiceapp\\output\\summaries_folder\\yi_6b_20241213_175238\\CJG_14_2023_04_15-summary_4.txt -> C:/Users/G/Documents/GitHub/audycje.com.pl/content/audio\\CJG_14_2023_04_15.txt\n"
     ]
    },
    {
     "name": "stderr",
     "output_type": "stream",
     "text": [
      "\n",
      "\n",
      "Summarizing files for yi:6b:  14%|████████████▊                                                                            | 14/97 [15:43<1:46:15, 76.81s/it, file=CJG_13_2023_04_08.txt, summaries_count=20, time=79.71 seconds]\u001b[A\u001b[A\n",
      "\n",
      "Summarizing files for yi:6b:  14%|████████████▊                                                                            | 14/97 [15:43<1:46:15, 76.81s/it, file=CJG_14_2023_04_15.txt, summaries_count=20, time=77.26 seconds]\u001b[A\u001b[A"
     ]
    },
    {
     "name": "stdout",
     "output_type": "stream",
     "text": [
      "Record already exists: voiceapp\\output\\summaries_folder\\yi_6b_20241213_175238\\CJG_14_2023_04_15-summary_5.txt -> C:/Users/G/Documents/GitHub/audycje.com.pl/content/audio\\CJG_14_2023_04_15.txt\n",
      "Record already exists: voiceapp\\output\\summaries_folder\\yi_6b_20241213_175238\\CJG_15_2023_04_22-summary_1.txt -> C:/Users/G/Documents/GitHub/audycje.com.pl/content/audio\\CJG_15_2023_04_22.txt\n",
      "Record already exists: voiceapp\\output\\summaries_folder\\yi_6b_20241213_175238\\CJG_15_2023_04_22-summary_2.txt -> C:/Users/G/Documents/GitHub/audycje.com.pl/content/audio\\CJG_15_2023_04_22.txt\n",
      "Record already exists: voiceapp\\output\\summaries_folder\\yi_6b_20241213_175238\\CJG_15_2023_04_22-summary_3.txt -> C:/Users/G/Documents/GitHub/audycje.com.pl/content/audio\\CJG_15_2023_04_22.txt\n",
      "Record already exists: voiceapp\\output\\summaries_folder\\yi_6b_20241213_175238\\CJG_15_2023_04_22-summary_4.txt -> C:/Users/G/Documents/GitHub/audycje.com.pl/content/audio\\CJG_15_2023_04_22.txt\n",
      "Record already exists: voiceapp\\output\\summaries_folder\\yi_6b_20241213_175238\\CJG_15_2023_04_22-summary_5.txt -> C:/Users/G/Documents/GitHub/audycje.com.pl/content/audio\\CJG_15_2023_04_22.txt\n",
      "Record already exists: voiceapp\\output\\summaries_folder\\yi_6b_20241213_175238\\CJG_15_2023_04_22-summary_1.txt -> C:/Users/G/Documents/GitHub/audycje.com.pl/content/audio\\CJG_15_2023_04_22.txt\n",
      "Record already exists: voiceapp\\output\\summaries_folder\\yi_6b_20241213_175238\\CJG_15_2023_04_22-summary_2.txt -> C:/Users/G/Documents/GitHub/audycje.com.pl/content/audio\\CJG_15_2023_04_22.txt\n",
      "Record already exists: voiceapp\\output\\summaries_folder\\yi_6b_20241213_175238\\CJG_15_2023_04_22-summary_3.txt -> C:/Users/G/Documents/GitHub/audycje.com.pl/content/audio\\CJG_15_2023_04_22.txt\n",
      "Record already exists: voiceapp\\output\\summaries_folder\\yi_6b_20241213_175238\\CJG_15_2023_04_22-summary_4.txt -> C:/Users/G/Documents/GitHub/audycje.com.pl/content/audio\\CJG_15_2023_04_22.txt\n",
      "Record already exists: voiceapp\\output\\summaries_folder\\yi_6b_20241213_175238\\CJG_15_2023_04_22-summary_5.txt -> C:/Users/G/Documents/GitHub/audycje.com.pl/content/audio\\CJG_15_2023_04_22.txt\n",
      "Record already exists: voiceapp\\output\\summaries_folder\\yi_6b_20241213_175238\\CJG_15_2023_04_22-summary_1.txt -> C:/Users/G/Documents/GitHub/audycje.com.pl/content/audio\\CJG_15_2023_04_22.txt\n",
      "Record already exists: voiceapp\\output\\summaries_folder\\yi_6b_20241213_175238\\CJG_15_2023_04_22-summary_2.txt -> C:/Users/G/Documents/GitHub/audycje.com.pl/content/audio\\CJG_15_2023_04_22.txt\n",
      "Record already exists: voiceapp\\output\\summaries_folder\\yi_6b_20241213_175238\\CJG_15_2023_04_22-summary_3.txt -> C:/Users/G/Documents/GitHub/audycje.com.pl/content/audio\\CJG_15_2023_04_22.txt\n",
      "Record already exists: voiceapp\\output\\summaries_folder\\yi_6b_20241213_175238\\CJG_15_2023_04_22-summary_4.txt -> C:/Users/G/Documents/GitHub/audycje.com.pl/content/audio\\CJG_15_2023_04_22.txt\n",
      "Record already exists: voiceapp\\output\\summaries_folder\\yi_6b_20241213_175238\\CJG_15_2023_04_22-summary_5.txt -> C:/Users/G/Documents/GitHub/audycje.com.pl/content/audio\\CJG_15_2023_04_22.txt\n",
      "Record already exists: voiceapp\\output\\summaries_folder\\yi_6b_20241213_175238\\CJG_15_2023_04_22-summary_1.txt -> C:/Users/G/Documents/GitHub/audycje.com.pl/content/audio\\CJG_15_2023_04_22.txt\n",
      "Record already exists: voiceapp\\output\\summaries_folder\\yi_6b_20241213_175238\\CJG_15_2023_04_22-summary_2.txt -> C:/Users/G/Documents/GitHub/audycje.com.pl/content/audio\\CJG_15_2023_04_22.txt\n",
      "Record already exists: voiceapp\\output\\summaries_folder\\yi_6b_20241213_175238\\CJG_15_2023_04_22-summary_3.txt -> C:/Users/G/Documents/GitHub/audycje.com.pl/content/audio\\CJG_15_2023_04_22.txt\n",
      "Record already exists: voiceapp\\output\\summaries_folder\\yi_6b_20241213_175238\\CJG_15_2023_04_22-summary_4.txt -> C:/Users/G/Documents/GitHub/audycje.com.pl/content/audio\\CJG_15_2023_04_22.txt\n"
     ]
    },
    {
     "name": "stderr",
     "output_type": "stream",
     "text": [
      "\n",
      "\n",
      "Summarizing files for yi:6b:  15%|█████████████▊                                                                           | 15/97 [17:12<1:49:43, 80.29s/it, file=CJG_14_2023_04_15.txt, summaries_count=20, time=77.26 seconds]\u001b[A\u001b[A\n",
      "\n",
      "Summarizing files for yi:6b:  15%|█████████████▊                                                                           | 15/97 [17:12<1:49:43, 80.29s/it, file=CJG_15_2023_04_22.txt, summaries_count=25, time=88.34 seconds]\u001b[A\u001b[A"
     ]
    },
    {
     "name": "stdout",
     "output_type": "stream",
     "text": [
      "Record already exists: voiceapp\\output\\summaries_folder\\yi_6b_20241213_175238\\CJG_15_2023_04_22-summary_5.txt -> C:/Users/G/Documents/GitHub/audycje.com.pl/content/audio\\CJG_15_2023_04_22.txt\n",
      "Record already exists: voiceapp\\output\\summaries_folder\\yi_6b_20241213_175238\\CJG_16_2023_04_29-summary_1.txt -> C:/Users/G/Documents/GitHub/audycje.com.pl/content/audio\\CJG_16_2023_04_29.txt\n",
      "Record already exists: voiceapp\\output\\summaries_folder\\yi_6b_20241213_175238\\CJG_16_2023_04_29-summary_2.txt -> C:/Users/G/Documents/GitHub/audycje.com.pl/content/audio\\CJG_16_2023_04_29.txt\n",
      "Record already exists: voiceapp\\output\\summaries_folder\\yi_6b_20241213_175238\\CJG_16_2023_04_29-summary_3.txt -> C:/Users/G/Documents/GitHub/audycje.com.pl/content/audio\\CJG_16_2023_04_29.txt\n",
      "Record already exists: voiceapp\\output\\summaries_folder\\yi_6b_20241213_175238\\CJG_16_2023_04_29-summary_4.txt -> C:/Users/G/Documents/GitHub/audycje.com.pl/content/audio\\CJG_16_2023_04_29.txt\n",
      "Record already exists: voiceapp\\output\\summaries_folder\\yi_6b_20241213_175238\\CJG_16_2023_04_29-summary_5.txt -> C:/Users/G/Documents/GitHub/audycje.com.pl/content/audio\\CJG_16_2023_04_29.txt\n",
      "Record already exists: voiceapp\\output\\summaries_folder\\yi_6b_20241213_175238\\CJG_16_2023_04_29-summary_1.txt -> C:/Users/G/Documents/GitHub/audycje.com.pl/content/audio\\CJG_16_2023_04_29.txt\n",
      "Record already exists: voiceapp\\output\\summaries_folder\\yi_6b_20241213_175238\\CJG_16_2023_04_29-summary_2.txt -> C:/Users/G/Documents/GitHub/audycje.com.pl/content/audio\\CJG_16_2023_04_29.txt\n",
      "Record already exists: voiceapp\\output\\summaries_folder\\yi_6b_20241213_175238\\CJG_16_2023_04_29-summary_3.txt -> C:/Users/G/Documents/GitHub/audycje.com.pl/content/audio\\CJG_16_2023_04_29.txt\n",
      "Record already exists: voiceapp\\output\\summaries_folder\\yi_6b_20241213_175238\\CJG_16_2023_04_29-summary_4.txt -> C:/Users/G/Documents/GitHub/audycje.com.pl/content/audio\\CJG_16_2023_04_29.txt\n"
     ]
    },
    {
     "name": "stderr",
     "output_type": "stream",
     "text": [
      "\n",
      "\n",
      "Summarizing files for yi:6b:  16%|██████████████▋                                                                          | 16/97 [18:05<1:37:28, 72.20s/it, file=CJG_15_2023_04_22.txt, summaries_count=25, time=88.34 seconds]\u001b[A\u001b[A\n",
      "\n",
      "Summarizing files for yi:6b:  16%|██████████████▋                                                                          | 16/97 [18:05<1:37:28, 72.20s/it, file=CJG_16_2023_04_29.txt, summaries_count=15, time=53.43 seconds]\u001b[A\u001b[A"
     ]
    },
    {
     "name": "stdout",
     "output_type": "stream",
     "text": [
      "Record already exists: voiceapp\\output\\summaries_folder\\yi_6b_20241213_175238\\CJG_16_2023_04_29-summary_5.txt -> C:/Users/G/Documents/GitHub/audycje.com.pl/content/audio\\CJG_16_2023_04_29.txt\n",
      "Record already exists: voiceapp\\output\\summaries_folder\\yi_6b_20241213_175238\\CJG_17_2023_05_06-summary_1.txt -> C:/Users/G/Documents/GitHub/audycje.com.pl/content/audio\\CJG_17_2023_05_06.txt\n",
      "Record already exists: voiceapp\\output\\summaries_folder\\yi_6b_20241213_175238\\CJG_17_2023_05_06-summary_2.txt -> C:/Users/G/Documents/GitHub/audycje.com.pl/content/audio\\CJG_17_2023_05_06.txt\n",
      "Record already exists: voiceapp\\output\\summaries_folder\\yi_6b_20241213_175238\\CJG_17_2023_05_06-summary_3.txt -> C:/Users/G/Documents/GitHub/audycje.com.pl/content/audio\\CJG_17_2023_05_06.txt\n",
      "Record already exists: voiceapp\\output\\summaries_folder\\yi_6b_20241213_175238\\CJG_17_2023_05_06-summary_4.txt -> C:/Users/G/Documents/GitHub/audycje.com.pl/content/audio\\CJG_17_2023_05_06.txt\n",
      "Record already exists: voiceapp\\output\\summaries_folder\\yi_6b_20241213_175238\\CJG_17_2023_05_06-summary_5.txt -> C:/Users/G/Documents/GitHub/audycje.com.pl/content/audio\\CJG_17_2023_05_06.txt\n",
      "Record already exists: voiceapp\\output\\summaries_folder\\yi_6b_20241213_175238\\CJG_17_2023_05_06-summary_1.txt -> C:/Users/G/Documents/GitHub/audycje.com.pl/content/audio\\CJG_17_2023_05_06.txt\n",
      "Record already exists: voiceapp\\output\\summaries_folder\\yi_6b_20241213_175238\\CJG_17_2023_05_06-summary_2.txt -> C:/Users/G/Documents/GitHub/audycje.com.pl/content/audio\\CJG_17_2023_05_06.txt\n",
      "Record already exists: voiceapp\\output\\summaries_folder\\yi_6b_20241213_175238\\CJG_17_2023_05_06-summary_3.txt -> C:/Users/G/Documents/GitHub/audycje.com.pl/content/audio\\CJG_17_2023_05_06.txt\n",
      "Record already exists: voiceapp\\output\\summaries_folder\\yi_6b_20241213_175238\\CJG_17_2023_05_06-summary_4.txt -> C:/Users/G/Documents/GitHub/audycje.com.pl/content/audio\\CJG_17_2023_05_06.txt\n"
     ]
    },
    {
     "name": "stderr",
     "output_type": "stream",
     "text": [
      "\n",
      "\n",
      "Summarizing files for yi:6b:  18%|███████████████▌                                                                         | 17/97 [19:04<1:31:02, 68.28s/it, file=CJG_16_2023_04_29.txt, summaries_count=15, time=53.43 seconds]\u001b[A\u001b[A\n",
      "\n",
      "Summarizing files for yi:6b:  18%|███████████████▌                                                                         | 17/97 [19:04<1:31:02, 68.28s/it, file=CJG_17_2023_05_06.txt, summaries_count=15, time=59.16 seconds]\u001b[A\u001b[A"
     ]
    },
    {
     "name": "stdout",
     "output_type": "stream",
     "text": [
      "Record already exists: voiceapp\\output\\summaries_folder\\yi_6b_20241213_175238\\CJG_17_2023_05_06-summary_5.txt -> C:/Users/G/Documents/GitHub/audycje.com.pl/content/audio\\CJG_17_2023_05_06.txt\n",
      "Record already exists: voiceapp\\output\\summaries_folder\\yi_6b_20241213_175238\\CJG_18_2023_05_13-summary_1.txt -> C:/Users/G/Documents/GitHub/audycje.com.pl/content/audio\\CJG_18_2023_05_13.txt\n",
      "Record already exists: voiceapp\\output\\summaries_folder\\yi_6b_20241213_175238\\CJG_18_2023_05_13-summary_2.txt -> C:/Users/G/Documents/GitHub/audycje.com.pl/content/audio\\CJG_18_2023_05_13.txt\n",
      "Record already exists: voiceapp\\output\\summaries_folder\\yi_6b_20241213_175238\\CJG_18_2023_05_13-summary_3.txt -> C:/Users/G/Documents/GitHub/audycje.com.pl/content/audio\\CJG_18_2023_05_13.txt\n",
      "Record already exists: voiceapp\\output\\summaries_folder\\yi_6b_20241213_175238\\CJG_18_2023_05_13-summary_4.txt -> C:/Users/G/Documents/GitHub/audycje.com.pl/content/audio\\CJG_18_2023_05_13.txt\n",
      "Record already exists: voiceapp\\output\\summaries_folder\\yi_6b_20241213_175238\\CJG_18_2023_05_13-summary_5.txt -> C:/Users/G/Documents/GitHub/audycje.com.pl/content/audio\\CJG_18_2023_05_13.txt\n",
      "Record already exists: voiceapp\\output\\summaries_folder\\yi_6b_20241213_175238\\CJG_18_2023_05_13-summary_1.txt -> C:/Users/G/Documents/GitHub/audycje.com.pl/content/audio\\CJG_18_2023_05_13.txt\n",
      "Record already exists: voiceapp\\output\\summaries_folder\\yi_6b_20241213_175238\\CJG_18_2023_05_13-summary_2.txt -> C:/Users/G/Documents/GitHub/audycje.com.pl/content/audio\\CJG_18_2023_05_13.txt\n",
      "Record already exists: voiceapp\\output\\summaries_folder\\yi_6b_20241213_175238\\CJG_18_2023_05_13-summary_3.txt -> C:/Users/G/Documents/GitHub/audycje.com.pl/content/audio\\CJG_18_2023_05_13.txt\n",
      "Record already exists: voiceapp\\output\\summaries_folder\\yi_6b_20241213_175238\\CJG_18_2023_05_13-summary_4.txt -> C:/Users/G/Documents/GitHub/audycje.com.pl/content/audio\\CJG_18_2023_05_13.txt\n"
     ]
    },
    {
     "name": "stderr",
     "output_type": "stream",
     "text": [
      "\n",
      "\n",
      "Summarizing files for yi:6b:  19%|████████████████▌                                                                        | 18/97 [20:09<1:28:23, 67.13s/it, file=CJG_17_2023_05_06.txt, summaries_count=15, time=59.16 seconds]\u001b[A\u001b[A\n",
      "\n",
      "Summarizing files for yi:6b:  19%|████████████████▌                                                                        | 18/97 [20:09<1:28:23, 67.13s/it, file=CJG_18_2023_05_13.txt, summaries_count=15, time=64.45 seconds]\u001b[A\u001b[A"
     ]
    },
    {
     "name": "stdout",
     "output_type": "stream",
     "text": [
      "Record already exists: voiceapp\\output\\summaries_folder\\yi_6b_20241213_175238\\CJG_18_2023_05_13-summary_5.txt -> C:/Users/G/Documents/GitHub/audycje.com.pl/content/audio\\CJG_18_2023_05_13.txt\n",
      "Record already exists: voiceapp\\output\\summaries_folder\\yi_6b_20241213_175238\\CJG_19_2023_05_20-summary_1.txt -> C:/Users/G/Documents/GitHub/audycje.com.pl/content/audio\\CJG_19_2023_05_20.txt\n",
      "Record already exists: voiceapp\\output\\summaries_folder\\yi_6b_20241213_175238\\CJG_19_2023_05_20-summary_2.txt -> C:/Users/G/Documents/GitHub/audycje.com.pl/content/audio\\CJG_19_2023_05_20.txt\n",
      "Record already exists: voiceapp\\output\\summaries_folder\\yi_6b_20241213_175238\\CJG_19_2023_05_20-summary_3.txt -> C:/Users/G/Documents/GitHub/audycje.com.pl/content/audio\\CJG_19_2023_05_20.txt\n",
      "Record already exists: voiceapp\\output\\summaries_folder\\yi_6b_20241213_175238\\CJG_19_2023_05_20-summary_4.txt -> C:/Users/G/Documents/GitHub/audycje.com.pl/content/audio\\CJG_19_2023_05_20.txt\n",
      "Record already exists: voiceapp\\output\\summaries_folder\\yi_6b_20241213_175238\\CJG_19_2023_05_20-summary_5.txt -> C:/Users/G/Documents/GitHub/audycje.com.pl/content/audio\\CJG_19_2023_05_20.txt\n",
      "Record already exists: voiceapp\\output\\summaries_folder\\yi_6b_20241213_175238\\CJG_19_2023_05_20-summary_1.txt -> C:/Users/G/Documents/GitHub/audycje.com.pl/content/audio\\CJG_19_2023_05_20.txt\n",
      "Record already exists: voiceapp\\output\\summaries_folder\\yi_6b_20241213_175238\\CJG_19_2023_05_20-summary_2.txt -> C:/Users/G/Documents/GitHub/audycje.com.pl/content/audio\\CJG_19_2023_05_20.txt\n",
      "Record already exists: voiceapp\\output\\summaries_folder\\yi_6b_20241213_175238\\CJG_19_2023_05_20-summary_3.txt -> C:/Users/G/Documents/GitHub/audycje.com.pl/content/audio\\CJG_19_2023_05_20.txt\n",
      "Record already exists: voiceapp\\output\\summaries_folder\\yi_6b_20241213_175238\\CJG_19_2023_05_20-summary_4.txt -> C:/Users/G/Documents/GitHub/audycje.com.pl/content/audio\\CJG_19_2023_05_20.txt\n"
     ]
    },
    {
     "name": "stderr",
     "output_type": "stream",
     "text": [
      "\n",
      "\n",
      "Summarizing files for yi:6b:  20%|█████████████████▍                                                                       | 19/97 [21:11<1:25:21, 65.66s/it, file=CJG_18_2023_05_13.txt, summaries_count=15, time=64.45 seconds]\u001b[A\u001b[A\n",
      "\n",
      "Summarizing files for yi:6b:  20%|█████████████████▍                                                                       | 19/97 [21:11<1:25:21, 65.66s/it, file=CJG_19_2023_05_20.txt, summaries_count=15, time=62.23 seconds]\u001b[A\u001b[A"
     ]
    },
    {
     "name": "stdout",
     "output_type": "stream",
     "text": [
      "Record already exists: voiceapp\\output\\summaries_folder\\yi_6b_20241213_175238\\CJG_19_2023_05_20-summary_5.txt -> C:/Users/G/Documents/GitHub/audycje.com.pl/content/audio\\CJG_19_2023_05_20.txt\n",
      "Record already exists: voiceapp\\output\\summaries_folder\\yi_6b_20241213_175238\\CJG_20_2023_05_27-summary_1.txt -> C:/Users/G/Documents/GitHub/audycje.com.pl/content/audio\\CJG_20_2023_05_27.txt\n",
      "Record already exists: voiceapp\\output\\summaries_folder\\yi_6b_20241213_175238\\CJG_20_2023_05_27-summary_2.txt -> C:/Users/G/Documents/GitHub/audycje.com.pl/content/audio\\CJG_20_2023_05_27.txt\n",
      "Record already exists: voiceapp\\output\\summaries_folder\\yi_6b_20241213_175238\\CJG_20_2023_05_27-summary_3.txt -> C:/Users/G/Documents/GitHub/audycje.com.pl/content/audio\\CJG_20_2023_05_27.txt\n",
      "Record already exists: voiceapp\\output\\summaries_folder\\yi_6b_20241213_175238\\CJG_20_2023_05_27-summary_4.txt -> C:/Users/G/Documents/GitHub/audycje.com.pl/content/audio\\CJG_20_2023_05_27.txt\n",
      "Record already exists: voiceapp\\output\\summaries_folder\\yi_6b_20241213_175238\\CJG_20_2023_05_27-summary_5.txt -> C:/Users/G/Documents/GitHub/audycje.com.pl/content/audio\\CJG_20_2023_05_27.txt\n",
      "Record already exists: voiceapp\\output\\summaries_folder\\yi_6b_20241213_175238\\CJG_20_2023_05_27-summary_1.txt -> C:/Users/G/Documents/GitHub/audycje.com.pl/content/audio\\CJG_20_2023_05_27.txt\n",
      "Record already exists: voiceapp\\output\\summaries_folder\\yi_6b_20241213_175238\\CJG_20_2023_05_27-summary_2.txt -> C:/Users/G/Documents/GitHub/audycje.com.pl/content/audio\\CJG_20_2023_05_27.txt\n",
      "Record already exists: voiceapp\\output\\summaries_folder\\yi_6b_20241213_175238\\CJG_20_2023_05_27-summary_3.txt -> C:/Users/G/Documents/GitHub/audycje.com.pl/content/audio\\CJG_20_2023_05_27.txt\n",
      "Record already exists: voiceapp\\output\\summaries_folder\\yi_6b_20241213_175238\\CJG_20_2023_05_27-summary_4.txt -> C:/Users/G/Documents/GitHub/audycje.com.pl/content/audio\\CJG_20_2023_05_27.txt\n",
      "Record already exists: voiceapp\\output\\summaries_folder\\yi_6b_20241213_175238\\CJG_20_2023_05_27-summary_5.txt -> C:/Users/G/Documents/GitHub/audycje.com.pl/content/audio\\CJG_20_2023_05_27.txt\n",
      "Record already exists: voiceapp\\output\\summaries_folder\\yi_6b_20241213_175238\\CJG_20_2023_05_27-summary_1.txt -> C:/Users/G/Documents/GitHub/audycje.com.pl/content/audio\\CJG_20_2023_05_27.txt\n",
      "Record already exists: voiceapp\\output\\summaries_folder\\yi_6b_20241213_175238\\CJG_20_2023_05_27-summary_2.txt -> C:/Users/G/Documents/GitHub/audycje.com.pl/content/audio\\CJG_20_2023_05_27.txt\n",
      "Record already exists: voiceapp\\output\\summaries_folder\\yi_6b_20241213_175238\\CJG_20_2023_05_27-summary_3.txt -> C:/Users/G/Documents/GitHub/audycje.com.pl/content/audio\\CJG_20_2023_05_27.txt\n",
      "Record already exists: voiceapp\\output\\summaries_folder\\yi_6b_20241213_175238\\CJG_20_2023_05_27-summary_4.txt -> C:/Users/G/Documents/GitHub/audycje.com.pl/content/audio\\CJG_20_2023_05_27.txt\n"
     ]
    },
    {
     "name": "stderr",
     "output_type": "stream",
     "text": [
      "\n",
      "\n",
      "Summarizing files for yi:6b:  21%|██████████████████▎                                                                      | 20/97 [22:37<1:32:14, 71.87s/it, file=CJG_19_2023_05_20.txt, summaries_count=15, time=62.23 seconds]\u001b[A\u001b[A\n",
      "\n",
      "Summarizing files for yi:6b:  21%|██████████████████▎                                                                      | 20/97 [22:37<1:32:14, 71.87s/it, file=CJG_20_2023_05_27.txt, summaries_count=20, time=86.34 seconds]\u001b[A\u001b[A"
     ]
    },
    {
     "name": "stdout",
     "output_type": "stream",
     "text": [
      "Record already exists: voiceapp\\output\\summaries_folder\\yi_6b_20241213_175238\\CJG_20_2023_05_27-summary_5.txt -> C:/Users/G/Documents/GitHub/audycje.com.pl/content/audio\\CJG_20_2023_05_27.txt\n",
      "Record already exists: voiceapp\\output\\summaries_folder\\yi_6b_20241213_175238\\CJG_21_2023_06_03-summary_1.txt -> C:/Users/G/Documents/GitHub/audycje.com.pl/content/audio\\CJG_21_2023_06_03.txt\n",
      "Record already exists: voiceapp\\output\\summaries_folder\\yi_6b_20241213_175238\\CJG_21_2023_06_03-summary_2.txt -> C:/Users/G/Documents/GitHub/audycje.com.pl/content/audio\\CJG_21_2023_06_03.txt\n",
      "Record already exists: voiceapp\\output\\summaries_folder\\yi_6b_20241213_175238\\CJG_21_2023_06_03-summary_3.txt -> C:/Users/G/Documents/GitHub/audycje.com.pl/content/audio\\CJG_21_2023_06_03.txt\n",
      "Record already exists: voiceapp\\output\\summaries_folder\\yi_6b_20241213_175238\\CJG_21_2023_06_03-summary_4.txt -> C:/Users/G/Documents/GitHub/audycje.com.pl/content/audio\\CJG_21_2023_06_03.txt\n",
      "Record already exists: voiceapp\\output\\summaries_folder\\yi_6b_20241213_175238\\CJG_21_2023_06_03-summary_5.txt -> C:/Users/G/Documents/GitHub/audycje.com.pl/content/audio\\CJG_21_2023_06_03.txt\n",
      "Record already exists: voiceapp\\output\\summaries_folder\\yi_6b_20241213_175238\\CJG_21_2023_06_03-summary_1.txt -> C:/Users/G/Documents/GitHub/audycje.com.pl/content/audio\\CJG_21_2023_06_03.txt\n",
      "Record already exists: voiceapp\\output\\summaries_folder\\yi_6b_20241213_175238\\CJG_21_2023_06_03-summary_2.txt -> C:/Users/G/Documents/GitHub/audycje.com.pl/content/audio\\CJG_21_2023_06_03.txt\n",
      "Record already exists: voiceapp\\output\\summaries_folder\\yi_6b_20241213_175238\\CJG_21_2023_06_03-summary_3.txt -> C:/Users/G/Documents/GitHub/audycje.com.pl/content/audio\\CJG_21_2023_06_03.txt\n",
      "Record already exists: voiceapp\\output\\summaries_folder\\yi_6b_20241213_175238\\CJG_21_2023_06_03-summary_4.txt -> C:/Users/G/Documents/GitHub/audycje.com.pl/content/audio\\CJG_21_2023_06_03.txt\n",
      "Record already exists: voiceapp\\output\\summaries_folder\\yi_6b_20241213_175238\\CJG_21_2023_06_03-summary_5.txt -> C:/Users/G/Documents/GitHub/audycje.com.pl/content/audio\\CJG_21_2023_06_03.txt\n",
      "Record already exists: voiceapp\\output\\summaries_folder\\yi_6b_20241213_175238\\CJG_21_2023_06_03-summary_1.txt -> C:/Users/G/Documents/GitHub/audycje.com.pl/content/audio\\CJG_21_2023_06_03.txt\n",
      "Record already exists: voiceapp\\output\\summaries_folder\\yi_6b_20241213_175238\\CJG_21_2023_06_03-summary_2.txt -> C:/Users/G/Documents/GitHub/audycje.com.pl/content/audio\\CJG_21_2023_06_03.txt\n",
      "Record already exists: voiceapp\\output\\summaries_folder\\yi_6b_20241213_175238\\CJG_21_2023_06_03-summary_3.txt -> C:/Users/G/Documents/GitHub/audycje.com.pl/content/audio\\CJG_21_2023_06_03.txt\n",
      "Record already exists: voiceapp\\output\\summaries_folder\\yi_6b_20241213_175238\\CJG_21_2023_06_03-summary_4.txt -> C:/Users/G/Documents/GitHub/audycje.com.pl/content/audio\\CJG_21_2023_06_03.txt\n"
     ]
    },
    {
     "name": "stderr",
     "output_type": "stream",
     "text": [
      "\n",
      "\n",
      "Summarizing files for yi:6b:  22%|███████████████████                                                                     | 21/97 [26:02<2:21:31, 111.74s/it, file=CJG_20_2023_05_27.txt, summaries_count=20, time=86.34 seconds]\u001b[A\u001b[A\n",
      "\n",
      "Summarizing files for yi:6b:  22%|██████████████████▊                                                                    | 21/97 [26:02<2:21:31, 111.74s/it, file=CJG_21_2023_06_03.txt, summaries_count=20, time=204.68 seconds]\u001b[A\u001b[A"
     ]
    },
    {
     "name": "stdout",
     "output_type": "stream",
     "text": [
      "Record already exists: voiceapp\\output\\summaries_folder\\yi_6b_20241213_175238\\CJG_21_2023_06_03-summary_5.txt -> C:/Users/G/Documents/GitHub/audycje.com.pl/content/audio\\CJG_21_2023_06_03.txt\n",
      "Record already exists: voiceapp\\output\\summaries_folder\\yi_6b_20241213_175238\\CJG_22_2023_06_10-summary_1.txt -> C:/Users/G/Documents/GitHub/audycje.com.pl/content/audio\\CJG_22_2023_06_10.txt\n",
      "Record already exists: voiceapp\\output\\summaries_folder\\yi_6b_20241213_175238\\CJG_22_2023_06_10-summary_2.txt -> C:/Users/G/Documents/GitHub/audycje.com.pl/content/audio\\CJG_22_2023_06_10.txt\n",
      "Record already exists: voiceapp\\output\\summaries_folder\\yi_6b_20241213_175238\\CJG_22_2023_06_10-summary_3.txt -> C:/Users/G/Documents/GitHub/audycje.com.pl/content/audio\\CJG_22_2023_06_10.txt\n",
      "Record already exists: voiceapp\\output\\summaries_folder\\yi_6b_20241213_175238\\CJG_22_2023_06_10-summary_4.txt -> C:/Users/G/Documents/GitHub/audycje.com.pl/content/audio\\CJG_22_2023_06_10.txt\n",
      "Record already exists: voiceapp\\output\\summaries_folder\\yi_6b_20241213_175238\\CJG_22_2023_06_10-summary_5.txt -> C:/Users/G/Documents/GitHub/audycje.com.pl/content/audio\\CJG_22_2023_06_10.txt\n",
      "Record already exists: voiceapp\\output\\summaries_folder\\yi_6b_20241213_175238\\CJG_22_2023_06_10-summary_1.txt -> C:/Users/G/Documents/GitHub/audycje.com.pl/content/audio\\CJG_22_2023_06_10.txt\n",
      "Record already exists: voiceapp\\output\\summaries_folder\\yi_6b_20241213_175238\\CJG_22_2023_06_10-summary_2.txt -> C:/Users/G/Documents/GitHub/audycje.com.pl/content/audio\\CJG_22_2023_06_10.txt\n",
      "Record already exists: voiceapp\\output\\summaries_folder\\yi_6b_20241213_175238\\CJG_22_2023_06_10-summary_3.txt -> C:/Users/G/Documents/GitHub/audycje.com.pl/content/audio\\CJG_22_2023_06_10.txt\n",
      "Record already exists: voiceapp\\output\\summaries_folder\\yi_6b_20241213_175238\\CJG_22_2023_06_10-summary_4.txt -> C:/Users/G/Documents/GitHub/audycje.com.pl/content/audio\\CJG_22_2023_06_10.txt\n"
     ]
    },
    {
     "name": "stderr",
     "output_type": "stream",
     "text": [
      "\n",
      "\n",
      "Summarizing files for yi:6b:  23%|███████████████████▉                                                                    | 22/97 [27:02<2:00:05, 96.08s/it, file=CJG_21_2023_06_03.txt, summaries_count=20, time=204.68 seconds]\u001b[A\u001b[A\n",
      "\n",
      "Summarizing files for yi:6b:  23%|████████████████████▏                                                                    | 22/97 [27:02<2:00:05, 96.08s/it, file=CJG_22_2023_06_10.txt, summaries_count=15, time=59.56 seconds]\u001b[A\u001b[A"
     ]
    },
    {
     "name": "stdout",
     "output_type": "stream",
     "text": [
      "Record already exists: voiceapp\\output\\summaries_folder\\yi_6b_20241213_175238\\CJG_22_2023_06_10-summary_5.txt -> C:/Users/G/Documents/GitHub/audycje.com.pl/content/audio\\CJG_22_2023_06_10.txt\n",
      "Record already exists: voiceapp\\output\\summaries_folder\\yi_6b_20241213_175238\\CJG_23_2023_06_17-summary_1.txt -> C:/Users/G/Documents/GitHub/audycje.com.pl/content/audio\\CJG_23_2023_06_17.txt\n",
      "Record already exists: voiceapp\\output\\summaries_folder\\yi_6b_20241213_175238\\CJG_23_2023_06_17-summary_2.txt -> C:/Users/G/Documents/GitHub/audycje.com.pl/content/audio\\CJG_23_2023_06_17.txt\n",
      "Record already exists: voiceapp\\output\\summaries_folder\\yi_6b_20241213_175238\\CJG_23_2023_06_17-summary_3.txt -> C:/Users/G/Documents/GitHub/audycje.com.pl/content/audio\\CJG_23_2023_06_17.txt\n",
      "Record already exists: voiceapp\\output\\summaries_folder\\yi_6b_20241213_175238\\CJG_23_2023_06_17-summary_4.txt -> C:/Users/G/Documents/GitHub/audycje.com.pl/content/audio\\CJG_23_2023_06_17.txt\n",
      "Record already exists: voiceapp\\output\\summaries_folder\\yi_6b_20241213_175238\\CJG_23_2023_06_17-summary_5.txt -> C:/Users/G/Documents/GitHub/audycje.com.pl/content/audio\\CJG_23_2023_06_17.txt\n",
      "Record already exists: voiceapp\\output\\summaries_folder\\yi_6b_20241213_175238\\CJG_23_2023_06_17-summary_1.txt -> C:/Users/G/Documents/GitHub/audycje.com.pl/content/audio\\CJG_23_2023_06_17.txt\n",
      "Record already exists: voiceapp\\output\\summaries_folder\\yi_6b_20241213_175238\\CJG_23_2023_06_17-summary_2.txt -> C:/Users/G/Documents/GitHub/audycje.com.pl/content/audio\\CJG_23_2023_06_17.txt\n",
      "Record already exists: voiceapp\\output\\summaries_folder\\yi_6b_20241213_175238\\CJG_23_2023_06_17-summary_3.txt -> C:/Users/G/Documents/GitHub/audycje.com.pl/content/audio\\CJG_23_2023_06_17.txt\n",
      "Record already exists: voiceapp\\output\\summaries_folder\\yi_6b_20241213_175238\\CJG_23_2023_06_17-summary_4.txt -> C:/Users/G/Documents/GitHub/audycje.com.pl/content/audio\\CJG_23_2023_06_17.txt\n"
     ]
    },
    {
     "name": "stderr",
     "output_type": "stream",
     "text": [
      "\n",
      "\n",
      "Summarizing files for yi:6b:  24%|█████████████████████                                                                    | 23/97 [28:04<1:46:08, 86.06s/it, file=CJG_22_2023_06_10.txt, summaries_count=15, time=59.56 seconds]\u001b[A\u001b[A\n",
      "\n",
      "Summarizing files for yi:6b:  24%|█████████████████████                                                                    | 23/97 [28:04<1:46:08, 86.06s/it, file=CJG_23_2023_06_17.txt, summaries_count=15, time=62.71 seconds]\u001b[A\u001b[A"
     ]
    },
    {
     "name": "stdout",
     "output_type": "stream",
     "text": [
      "Record already exists: voiceapp\\output\\summaries_folder\\yi_6b_20241213_175238\\CJG_23_2023_06_17-summary_5.txt -> C:/Users/G/Documents/GitHub/audycje.com.pl/content/audio\\CJG_23_2023_06_17.txt\n",
      "Record already exists: voiceapp\\output\\summaries_folder\\yi_6b_20241213_175238\\CJG_24_2023_06_24-summary_1.txt -> C:/Users/G/Documents/GitHub/audycje.com.pl/content/audio\\CJG_24_2023_06_24.txt\n",
      "Record already exists: voiceapp\\output\\summaries_folder\\yi_6b_20241213_175238\\CJG_24_2023_06_24-summary_2.txt -> C:/Users/G/Documents/GitHub/audycje.com.pl/content/audio\\CJG_24_2023_06_24.txt\n",
      "Record already exists: voiceapp\\output\\summaries_folder\\yi_6b_20241213_175238\\CJG_24_2023_06_24-summary_3.txt -> C:/Users/G/Documents/GitHub/audycje.com.pl/content/audio\\CJG_24_2023_06_24.txt\n",
      "Record already exists: voiceapp\\output\\summaries_folder\\yi_6b_20241213_175238\\CJG_24_2023_06_24-summary_4.txt -> C:/Users/G/Documents/GitHub/audycje.com.pl/content/audio\\CJG_24_2023_06_24.txt\n",
      "Record already exists: voiceapp\\output\\summaries_folder\\yi_6b_20241213_175238\\CJG_24_2023_06_24-summary_5.txt -> C:/Users/G/Documents/GitHub/audycje.com.pl/content/audio\\CJG_24_2023_06_24.txt\n",
      "Record already exists: voiceapp\\output\\summaries_folder\\yi_6b_20241213_175238\\CJG_24_2023_06_24-summary_1.txt -> C:/Users/G/Documents/GitHub/audycje.com.pl/content/audio\\CJG_24_2023_06_24.txt\n",
      "Record already exists: voiceapp\\output\\summaries_folder\\yi_6b_20241213_175238\\CJG_24_2023_06_24-summary_2.txt -> C:/Users/G/Documents/GitHub/audycje.com.pl/content/audio\\CJG_24_2023_06_24.txt\n",
      "Record already exists: voiceapp\\output\\summaries_folder\\yi_6b_20241213_175238\\CJG_24_2023_06_24-summary_3.txt -> C:/Users/G/Documents/GitHub/audycje.com.pl/content/audio\\CJG_24_2023_06_24.txt\n",
      "Record already exists: voiceapp\\output\\summaries_folder\\yi_6b_20241213_175238\\CJG_24_2023_06_24-summary_4.txt -> C:/Users/G/Documents/GitHub/audycje.com.pl/content/audio\\CJG_24_2023_06_24.txt\n"
     ]
    },
    {
     "name": "stderr",
     "output_type": "stream",
     "text": [
      "\n",
      "\n",
      "Summarizing files for yi:6b:  25%|██████████████████████                                                                   | 24/97 [29:06<1:35:44, 78.69s/it, file=CJG_23_2023_06_17.txt, summaries_count=15, time=62.71 seconds]\u001b[A\u001b[A\n",
      "\n",
      "Summarizing files for yi:6b:  25%|██████████████████████                                                                   | 24/97 [29:06<1:35:44, 78.69s/it, file=CJG_24_2023_06_24.txt, summaries_count=15, time=61.50 seconds]\u001b[A\u001b[A"
     ]
    },
    {
     "name": "stdout",
     "output_type": "stream",
     "text": [
      "Record already exists: voiceapp\\output\\summaries_folder\\yi_6b_20241213_175238\\CJG_24_2023_06_24-summary_5.txt -> C:/Users/G/Documents/GitHub/audycje.com.pl/content/audio\\CJG_24_2023_06_24.txt\n",
      "Record already exists: voiceapp\\output\\summaries_folder\\yi_6b_20241213_175238\\CJG_25_2023_07_01-summary_1.txt -> C:/Users/G/Documents/GitHub/audycje.com.pl/content/audio\\CJG_25_2023_07_01.txt\n",
      "Record already exists: voiceapp\\output\\summaries_folder\\yi_6b_20241213_175238\\CJG_25_2023_07_01-summary_2.txt -> C:/Users/G/Documents/GitHub/audycje.com.pl/content/audio\\CJG_25_2023_07_01.txt\n",
      "Record already exists: voiceapp\\output\\summaries_folder\\yi_6b_20241213_175238\\CJG_25_2023_07_01-summary_3.txt -> C:/Users/G/Documents/GitHub/audycje.com.pl/content/audio\\CJG_25_2023_07_01.txt\n",
      "Record already exists: voiceapp\\output\\summaries_folder\\yi_6b_20241213_175238\\CJG_25_2023_07_01-summary_4.txt -> C:/Users/G/Documents/GitHub/audycje.com.pl/content/audio\\CJG_25_2023_07_01.txt\n",
      "Record already exists: voiceapp\\output\\summaries_folder\\yi_6b_20241213_175238\\CJG_25_2023_07_01-summary_5.txt -> C:/Users/G/Documents/GitHub/audycje.com.pl/content/audio\\CJG_25_2023_07_01.txt\n",
      "Record already exists: voiceapp\\output\\summaries_folder\\yi_6b_20241213_175238\\CJG_25_2023_07_01-summary_1.txt -> C:/Users/G/Documents/GitHub/audycje.com.pl/content/audio\\CJG_25_2023_07_01.txt\n",
      "Record already exists: voiceapp\\output\\summaries_folder\\yi_6b_20241213_175238\\CJG_25_2023_07_01-summary_2.txt -> C:/Users/G/Documents/GitHub/audycje.com.pl/content/audio\\CJG_25_2023_07_01.txt\n",
      "Record already exists: voiceapp\\output\\summaries_folder\\yi_6b_20241213_175238\\CJG_25_2023_07_01-summary_3.txt -> C:/Users/G/Documents/GitHub/audycje.com.pl/content/audio\\CJG_25_2023_07_01.txt\n",
      "Record already exists: voiceapp\\output\\summaries_folder\\yi_6b_20241213_175238\\CJG_25_2023_07_01-summary_4.txt -> C:/Users/G/Documents/GitHub/audycje.com.pl/content/audio\\CJG_25_2023_07_01.txt\n",
      "Record already exists: voiceapp\\output\\summaries_folder\\yi_6b_20241213_175238\\CJG_25_2023_07_01-summary_5.txt -> C:/Users/G/Documents/GitHub/audycje.com.pl/content/audio\\CJG_25_2023_07_01.txt\n",
      "Record already exists: voiceapp\\output\\summaries_folder\\yi_6b_20241213_175238\\CJG_25_2023_07_01-summary_1.txt -> C:/Users/G/Documents/GitHub/audycje.com.pl/content/audio\\CJG_25_2023_07_01.txt\n",
      "Record already exists: voiceapp\\output\\summaries_folder\\yi_6b_20241213_175238\\CJG_25_2023_07_01-summary_2.txt -> C:/Users/G/Documents/GitHub/audycje.com.pl/content/audio\\CJG_25_2023_07_01.txt\n",
      "Record already exists: voiceapp\\output\\summaries_folder\\yi_6b_20241213_175238\\CJG_25_2023_07_01-summary_3.txt -> C:/Users/G/Documents/GitHub/audycje.com.pl/content/audio\\CJG_25_2023_07_01.txt\n",
      "Record already exists: voiceapp\\output\\summaries_folder\\yi_6b_20241213_175238\\CJG_25_2023_07_01-summary_4.txt -> C:/Users/G/Documents/GitHub/audycje.com.pl/content/audio\\CJG_25_2023_07_01.txt\n"
     ]
    },
    {
     "name": "stderr",
     "output_type": "stream",
     "text": [
      "\n",
      "\n",
      "Summarizing files for yi:6b:  26%|██████████████████████▉                                                                  | 25/97 [30:22<1:33:32, 77.95s/it, file=CJG_24_2023_06_24.txt, summaries_count=15, time=61.50 seconds]\u001b[A\u001b[A\n",
      "\n",
      "Summarizing files for yi:6b:  26%|██████████████████████▉                                                                  | 25/97 [30:22<1:33:32, 77.95s/it, file=CJG_25_2023_07_01.txt, summaries_count=20, time=76.20 seconds]\u001b[A\u001b[A"
     ]
    },
    {
     "name": "stdout",
     "output_type": "stream",
     "text": [
      "Record already exists: voiceapp\\output\\summaries_folder\\yi_6b_20241213_175238\\CJG_25_2023_07_01-summary_5.txt -> C:/Users/G/Documents/GitHub/audycje.com.pl/content/audio\\CJG_25_2023_07_01.txt\n",
      "Record already exists: voiceapp\\output\\summaries_folder\\yi_6b_20241213_175238\\CJG_26_2023_07_08-summary_1.txt -> C:/Users/G/Documents/GitHub/audycje.com.pl/content/audio\\CJG_26_2023_07_08.txt\n",
      "Record already exists: voiceapp\\output\\summaries_folder\\yi_6b_20241213_175238\\CJG_26_2023_07_08-summary_2.txt -> C:/Users/G/Documents/GitHub/audycje.com.pl/content/audio\\CJG_26_2023_07_08.txt\n",
      "Record already exists: voiceapp\\output\\summaries_folder\\yi_6b_20241213_175238\\CJG_26_2023_07_08-summary_3.txt -> C:/Users/G/Documents/GitHub/audycje.com.pl/content/audio\\CJG_26_2023_07_08.txt\n",
      "Record already exists: voiceapp\\output\\summaries_folder\\yi_6b_20241213_175238\\CJG_26_2023_07_08-summary_4.txt -> C:/Users/G/Documents/GitHub/audycje.com.pl/content/audio\\CJG_26_2023_07_08.txt\n",
      "Record already exists: voiceapp\\output\\summaries_folder\\yi_6b_20241213_175238\\CJG_26_2023_07_08-summary_5.txt -> C:/Users/G/Documents/GitHub/audycje.com.pl/content/audio\\CJG_26_2023_07_08.txt\n",
      "Record already exists: voiceapp\\output\\summaries_folder\\yi_6b_20241213_175238\\CJG_26_2023_07_08-summary_1.txt -> C:/Users/G/Documents/GitHub/audycje.com.pl/content/audio\\CJG_26_2023_07_08.txt\n",
      "Record already exists: voiceapp\\output\\summaries_folder\\yi_6b_20241213_175238\\CJG_26_2023_07_08-summary_2.txt -> C:/Users/G/Documents/GitHub/audycje.com.pl/content/audio\\CJG_26_2023_07_08.txt\n",
      "Record already exists: voiceapp\\output\\summaries_folder\\yi_6b_20241213_175238\\CJG_26_2023_07_08-summary_3.txt -> C:/Users/G/Documents/GitHub/audycje.com.pl/content/audio\\CJG_26_2023_07_08.txt\n",
      "Record already exists: voiceapp\\output\\summaries_folder\\yi_6b_20241213_175238\\CJG_26_2023_07_08-summary_4.txt -> C:/Users/G/Documents/GitHub/audycje.com.pl/content/audio\\CJG_26_2023_07_08.txt\n",
      "Record already exists: voiceapp\\output\\summaries_folder\\yi_6b_20241213_175238\\CJG_26_2023_07_08-summary_5.txt -> C:/Users/G/Documents/GitHub/audycje.com.pl/content/audio\\CJG_26_2023_07_08.txt\n",
      "Record already exists: voiceapp\\output\\summaries_folder\\yi_6b_20241213_175238\\CJG_26_2023_07_08-summary_1.txt -> C:/Users/G/Documents/GitHub/audycje.com.pl/content/audio\\CJG_26_2023_07_08.txt\n",
      "Record already exists: voiceapp\\output\\summaries_folder\\yi_6b_20241213_175238\\CJG_26_2023_07_08-summary_2.txt -> C:/Users/G/Documents/GitHub/audycje.com.pl/content/audio\\CJG_26_2023_07_08.txt\n",
      "Record already exists: voiceapp\\output\\summaries_folder\\yi_6b_20241213_175238\\CJG_26_2023_07_08-summary_3.txt -> C:/Users/G/Documents/GitHub/audycje.com.pl/content/audio\\CJG_26_2023_07_08.txt\n",
      "Record already exists: voiceapp\\output\\summaries_folder\\yi_6b_20241213_175238\\CJG_26_2023_07_08-summary_4.txt -> C:/Users/G/Documents/GitHub/audycje.com.pl/content/audio\\CJG_26_2023_07_08.txt\n"
     ]
    },
    {
     "name": "stderr",
     "output_type": "stream",
     "text": [
      "\n",
      "\n",
      "Summarizing files for yi:6b:  27%|███████████████████████▊                                                                 | 26/97 [31:41<1:32:40, 78.31s/it, file=CJG_25_2023_07_01.txt, summaries_count=20, time=76.20 seconds]\u001b[A\u001b[A\n",
      "\n",
      "Summarizing files for yi:6b:  27%|███████████████████████▊                                                                 | 26/97 [31:41<1:32:40, 78.31s/it, file=CJG_26_2023_07_08.txt, summaries_count=20, time=79.17 seconds]\u001b[A\u001b[A"
     ]
    },
    {
     "name": "stdout",
     "output_type": "stream",
     "text": [
      "Record already exists: voiceapp\\output\\summaries_folder\\yi_6b_20241213_175238\\CJG_26_2023_07_08-summary_5.txt -> C:/Users/G/Documents/GitHub/audycje.com.pl/content/audio\\CJG_26_2023_07_08.txt\n",
      "Record already exists: voiceapp\\output\\summaries_folder\\yi_6b_20241213_175238\\CJG_27_2023_07_15-summary_1.txt -> C:/Users/G/Documents/GitHub/audycje.com.pl/content/audio\\CJG_27_2023_07_15.txt\n",
      "Record already exists: voiceapp\\output\\summaries_folder\\yi_6b_20241213_175238\\CJG_27_2023_07_15-summary_2.txt -> C:/Users/G/Documents/GitHub/audycje.com.pl/content/audio\\CJG_27_2023_07_15.txt\n",
      "Record already exists: voiceapp\\output\\summaries_folder\\yi_6b_20241213_175238\\CJG_27_2023_07_15-summary_3.txt -> C:/Users/G/Documents/GitHub/audycje.com.pl/content/audio\\CJG_27_2023_07_15.txt\n",
      "Record already exists: voiceapp\\output\\summaries_folder\\yi_6b_20241213_175238\\CJG_27_2023_07_15-summary_4.txt -> C:/Users/G/Documents/GitHub/audycje.com.pl/content/audio\\CJG_27_2023_07_15.txt\n",
      "Record already exists: voiceapp\\output\\summaries_folder\\yi_6b_20241213_175238\\CJG_27_2023_07_15-summary_5.txt -> C:/Users/G/Documents/GitHub/audycje.com.pl/content/audio\\CJG_27_2023_07_15.txt\n",
      "Record already exists: voiceapp\\output\\summaries_folder\\yi_6b_20241213_175238\\CJG_27_2023_07_15-summary_1.txt -> C:/Users/G/Documents/GitHub/audycje.com.pl/content/audio\\CJG_27_2023_07_15.txt\n",
      "Record already exists: voiceapp\\output\\summaries_folder\\yi_6b_20241213_175238\\CJG_27_2023_07_15-summary_2.txt -> C:/Users/G/Documents/GitHub/audycje.com.pl/content/audio\\CJG_27_2023_07_15.txt\n",
      "Record already exists: voiceapp\\output\\summaries_folder\\yi_6b_20241213_175238\\CJG_27_2023_07_15-summary_3.txt -> C:/Users/G/Documents/GitHub/audycje.com.pl/content/audio\\CJG_27_2023_07_15.txt\n",
      "Record already exists: voiceapp\\output\\summaries_folder\\yi_6b_20241213_175238\\CJG_27_2023_07_15-summary_4.txt -> C:/Users/G/Documents/GitHub/audycje.com.pl/content/audio\\CJG_27_2023_07_15.txt\n",
      "Record already exists: voiceapp\\output\\summaries_folder\\yi_6b_20241213_175238\\CJG_27_2023_07_15-summary_5.txt -> C:/Users/G/Documents/GitHub/audycje.com.pl/content/audio\\CJG_27_2023_07_15.txt\n",
      "Record already exists: voiceapp\\output\\summaries_folder\\yi_6b_20241213_175238\\CJG_27_2023_07_15-summary_1.txt -> C:/Users/G/Documents/GitHub/audycje.com.pl/content/audio\\CJG_27_2023_07_15.txt\n",
      "Record already exists: voiceapp\\output\\summaries_folder\\yi_6b_20241213_175238\\CJG_27_2023_07_15-summary_2.txt -> C:/Users/G/Documents/GitHub/audycje.com.pl/content/audio\\CJG_27_2023_07_15.txt\n",
      "Record already exists: voiceapp\\output\\summaries_folder\\yi_6b_20241213_175238\\CJG_27_2023_07_15-summary_3.txt -> C:/Users/G/Documents/GitHub/audycje.com.pl/content/audio\\CJG_27_2023_07_15.txt\n",
      "Record already exists: voiceapp\\output\\summaries_folder\\yi_6b_20241213_175238\\CJG_27_2023_07_15-summary_4.txt -> C:/Users/G/Documents/GitHub/audycje.com.pl/content/audio\\CJG_27_2023_07_15.txt\n"
     ]
    },
    {
     "name": "stderr",
     "output_type": "stream",
     "text": [
      "\n",
      "\n",
      "Summarizing files for yi:6b:  28%|████████████████████████▊                                                                | 27/97 [33:01<1:31:50, 78.73s/it, file=CJG_26_2023_07_08.txt, summaries_count=20, time=79.17 seconds]\u001b[A\u001b[A\n",
      "\n",
      "Summarizing files for yi:6b:  28%|████████████████████████▊                                                                | 27/97 [33:01<1:31:50, 78.73s/it, file=CJG_27_2023_07_15.txt, summaries_count=20, time=79.69 seconds]\u001b[A\u001b[A"
     ]
    },
    {
     "name": "stdout",
     "output_type": "stream",
     "text": [
      "Record already exists: voiceapp\\output\\summaries_folder\\yi_6b_20241213_175238\\CJG_27_2023_07_15-summary_5.txt -> C:/Users/G/Documents/GitHub/audycje.com.pl/content/audio\\CJG_27_2023_07_15.txt\n",
      "Record already exists: voiceapp\\output\\summaries_folder\\yi_6b_20241213_175238\\CJG_28_2023_07_22-summary_1.txt -> C:/Users/G/Documents/GitHub/audycje.com.pl/content/audio\\CJG_28_2023_07_22.txt\n",
      "Record already exists: voiceapp\\output\\summaries_folder\\yi_6b_20241213_175238\\CJG_28_2023_07_22-summary_2.txt -> C:/Users/G/Documents/GitHub/audycje.com.pl/content/audio\\CJG_28_2023_07_22.txt\n",
      "Record already exists: voiceapp\\output\\summaries_folder\\yi_6b_20241213_175238\\CJG_28_2023_07_22-summary_3.txt -> C:/Users/G/Documents/GitHub/audycje.com.pl/content/audio\\CJG_28_2023_07_22.txt\n",
      "Record already exists: voiceapp\\output\\summaries_folder\\yi_6b_20241213_175238\\CJG_28_2023_07_22-summary_4.txt -> C:/Users/G/Documents/GitHub/audycje.com.pl/content/audio\\CJG_28_2023_07_22.txt\n",
      "Record already exists: voiceapp\\output\\summaries_folder\\yi_6b_20241213_175238\\CJG_28_2023_07_22-summary_5.txt -> C:/Users/G/Documents/GitHub/audycje.com.pl/content/audio\\CJG_28_2023_07_22.txt\n",
      "Record already exists: voiceapp\\output\\summaries_folder\\yi_6b_20241213_175238\\CJG_28_2023_07_22-summary_1.txt -> C:/Users/G/Documents/GitHub/audycje.com.pl/content/audio\\CJG_28_2023_07_22.txt\n",
      "Record already exists: voiceapp\\output\\summaries_folder\\yi_6b_20241213_175238\\CJG_28_2023_07_22-summary_2.txt -> C:/Users/G/Documents/GitHub/audycje.com.pl/content/audio\\CJG_28_2023_07_22.txt\n",
      "Record already exists: voiceapp\\output\\summaries_folder\\yi_6b_20241213_175238\\CJG_28_2023_07_22-summary_3.txt -> C:/Users/G/Documents/GitHub/audycje.com.pl/content/audio\\CJG_28_2023_07_22.txt\n",
      "Record already exists: voiceapp\\output\\summaries_folder\\yi_6b_20241213_175238\\CJG_28_2023_07_22-summary_4.txt -> C:/Users/G/Documents/GitHub/audycje.com.pl/content/audio\\CJG_28_2023_07_22.txt\n"
     ]
    },
    {
     "name": "stderr",
     "output_type": "stream",
     "text": [
      "\n",
      "\n",
      "Summarizing files for yi:6b:  29%|█████████████████████████▋                                                               | 28/97 [33:54<1:21:46, 71.10s/it, file=CJG_27_2023_07_15.txt, summaries_count=20, time=79.69 seconds]\u001b[A\u001b[A\n",
      "\n",
      "Summarizing files for yi:6b:  29%|█████████████████████████▋                                                               | 28/97 [33:54<1:21:46, 71.10s/it, file=CJG_28_2023_07_22.txt, summaries_count=15, time=53.32 seconds]\u001b[A\u001b[A"
     ]
    },
    {
     "name": "stdout",
     "output_type": "stream",
     "text": [
      "Record already exists: voiceapp\\output\\summaries_folder\\yi_6b_20241213_175238\\CJG_28_2023_07_22-summary_5.txt -> C:/Users/G/Documents/GitHub/audycje.com.pl/content/audio\\CJG_28_2023_07_22.txt\n",
      "Record already exists: voiceapp\\output\\summaries_folder\\yi_6b_20241213_175238\\CJG_29_2023_07_29-summary_1.txt -> C:/Users/G/Documents/GitHub/audycje.com.pl/content/audio\\CJG_29_2023_07_29.txt\n",
      "Record already exists: voiceapp\\output\\summaries_folder\\yi_6b_20241213_175238\\CJG_29_2023_07_29-summary_2.txt -> C:/Users/G/Documents/GitHub/audycje.com.pl/content/audio\\CJG_29_2023_07_29.txt\n",
      "Record already exists: voiceapp\\output\\summaries_folder\\yi_6b_20241213_175238\\CJG_29_2023_07_29-summary_3.txt -> C:/Users/G/Documents/GitHub/audycje.com.pl/content/audio\\CJG_29_2023_07_29.txt\n",
      "Record already exists: voiceapp\\output\\summaries_folder\\yi_6b_20241213_175238\\CJG_29_2023_07_29-summary_4.txt -> C:/Users/G/Documents/GitHub/audycje.com.pl/content/audio\\CJG_29_2023_07_29.txt\n",
      "Record already exists: voiceapp\\output\\summaries_folder\\yi_6b_20241213_175238\\CJG_29_2023_07_29-summary_5.txt -> C:/Users/G/Documents/GitHub/audycje.com.pl/content/audio\\CJG_29_2023_07_29.txt\n",
      "Record already exists: voiceapp\\output\\summaries_folder\\yi_6b_20241213_175238\\CJG_29_2023_07_29-summary_1.txt -> C:/Users/G/Documents/GitHub/audycje.com.pl/content/audio\\CJG_29_2023_07_29.txt\n",
      "Record already exists: voiceapp\\output\\summaries_folder\\yi_6b_20241213_175238\\CJG_29_2023_07_29-summary_2.txt -> C:/Users/G/Documents/GitHub/audycje.com.pl/content/audio\\CJG_29_2023_07_29.txt\n",
      "Record already exists: voiceapp\\output\\summaries_folder\\yi_6b_20241213_175238\\CJG_29_2023_07_29-summary_3.txt -> C:/Users/G/Documents/GitHub/audycje.com.pl/content/audio\\CJG_29_2023_07_29.txt\n",
      "Record already exists: voiceapp\\output\\summaries_folder\\yi_6b_20241213_175238\\CJG_29_2023_07_29-summary_4.txt -> C:/Users/G/Documents/GitHub/audycje.com.pl/content/audio\\CJG_29_2023_07_29.txt\n",
      "Record already exists: voiceapp\\output\\summaries_folder\\yi_6b_20241213_175238\\CJG_29_2023_07_29-summary_5.txt -> C:/Users/G/Documents/GitHub/audycje.com.pl/content/audio\\CJG_29_2023_07_29.txt\n",
      "Record already exists: voiceapp\\output\\summaries_folder\\yi_6b_20241213_175238\\CJG_29_2023_07_29-summary_1.txt -> C:/Users/G/Documents/GitHub/audycje.com.pl/content/audio\\CJG_29_2023_07_29.txt\n",
      "Record already exists: voiceapp\\output\\summaries_folder\\yi_6b_20241213_175238\\CJG_29_2023_07_29-summary_2.txt -> C:/Users/G/Documents/GitHub/audycje.com.pl/content/audio\\CJG_29_2023_07_29.txt\n",
      "Record already exists: voiceapp\\output\\summaries_folder\\yi_6b_20241213_175238\\CJG_29_2023_07_29-summary_3.txt -> C:/Users/G/Documents/GitHub/audycje.com.pl/content/audio\\CJG_29_2023_07_29.txt\n",
      "Record already exists: voiceapp\\output\\summaries_folder\\yi_6b_20241213_175238\\CJG_29_2023_07_29-summary_4.txt -> C:/Users/G/Documents/GitHub/audycje.com.pl/content/audio\\CJG_29_2023_07_29.txt\n"
     ]
    },
    {
     "name": "stderr",
     "output_type": "stream",
     "text": [
      "\n",
      "\n",
      "Summarizing files for yi:6b:  30%|██████████████████████████▌                                                              | 29/97 [35:05<1:20:24, 70.94s/it, file=CJG_28_2023_07_22.txt, summaries_count=15, time=53.32 seconds]\u001b[A\u001b[A\n",
      "\n",
      "Summarizing files for yi:6b:  30%|██████████████████████████▌                                                              | 29/97 [35:05<1:20:24, 70.94s/it, file=CJG_29_2023_07_29.txt, summaries_count=20, time=70.57 seconds]\u001b[A\u001b[A"
     ]
    },
    {
     "name": "stdout",
     "output_type": "stream",
     "text": [
      "Record already exists: voiceapp\\output\\summaries_folder\\yi_6b_20241213_175238\\CJG_29_2023_07_29-summary_5.txt -> C:/Users/G/Documents/GitHub/audycje.com.pl/content/audio\\CJG_29_2023_07_29.txt\n",
      "Record already exists: voiceapp\\output\\summaries_folder\\yi_6b_20241213_175238\\CJG_30_2023_08_05-summary_1.txt -> C:/Users/G/Documents/GitHub/audycje.com.pl/content/audio\\CJG_30_2023_08_05.txt\n",
      "Record already exists: voiceapp\\output\\summaries_folder\\yi_6b_20241213_175238\\CJG_30_2023_08_05-summary_2.txt -> C:/Users/G/Documents/GitHub/audycje.com.pl/content/audio\\CJG_30_2023_08_05.txt\n",
      "Record already exists: voiceapp\\output\\summaries_folder\\yi_6b_20241213_175238\\CJG_30_2023_08_05-summary_3.txt -> C:/Users/G/Documents/GitHub/audycje.com.pl/content/audio\\CJG_30_2023_08_05.txt\n",
      "Record already exists: voiceapp\\output\\summaries_folder\\yi_6b_20241213_175238\\CJG_30_2023_08_05-summary_4.txt -> C:/Users/G/Documents/GitHub/audycje.com.pl/content/audio\\CJG_30_2023_08_05.txt\n",
      "Record already exists: voiceapp\\output\\summaries_folder\\yi_6b_20241213_175238\\CJG_30_2023_08_05-summary_5.txt -> C:/Users/G/Documents/GitHub/audycje.com.pl/content/audio\\CJG_30_2023_08_05.txt\n",
      "Record already exists: voiceapp\\output\\summaries_folder\\yi_6b_20241213_175238\\CJG_30_2023_08_05-summary_1.txt -> C:/Users/G/Documents/GitHub/audycje.com.pl/content/audio\\CJG_30_2023_08_05.txt\n",
      "Record already exists: voiceapp\\output\\summaries_folder\\yi_6b_20241213_175238\\CJG_30_2023_08_05-summary_2.txt -> C:/Users/G/Documents/GitHub/audycje.com.pl/content/audio\\CJG_30_2023_08_05.txt\n",
      "Record already exists: voiceapp\\output\\summaries_folder\\yi_6b_20241213_175238\\CJG_30_2023_08_05-summary_3.txt -> C:/Users/G/Documents/GitHub/audycje.com.pl/content/audio\\CJG_30_2023_08_05.txt\n",
      "Record already exists: voiceapp\\output\\summaries_folder\\yi_6b_20241213_175238\\CJG_30_2023_08_05-summary_4.txt -> C:/Users/G/Documents/GitHub/audycje.com.pl/content/audio\\CJG_30_2023_08_05.txt\n",
      "Record already exists: voiceapp\\output\\summaries_folder\\yi_6b_20241213_175238\\CJG_30_2023_08_05-summary_5.txt -> C:/Users/G/Documents/GitHub/audycje.com.pl/content/audio\\CJG_30_2023_08_05.txt\n",
      "Record already exists: voiceapp\\output\\summaries_folder\\yi_6b_20241213_175238\\CJG_30_2023_08_05-summary_1.txt -> C:/Users/G/Documents/GitHub/audycje.com.pl/content/audio\\CJG_30_2023_08_05.txt\n",
      "Record already exists: voiceapp\\output\\summaries_folder\\yi_6b_20241213_175238\\CJG_30_2023_08_05-summary_2.txt -> C:/Users/G/Documents/GitHub/audycje.com.pl/content/audio\\CJG_30_2023_08_05.txt\n",
      "Record already exists: voiceapp\\output\\summaries_folder\\yi_6b_20241213_175238\\CJG_30_2023_08_05-summary_3.txt -> C:/Users/G/Documents/GitHub/audycje.com.pl/content/audio\\CJG_30_2023_08_05.txt\n",
      "Record already exists: voiceapp\\output\\summaries_folder\\yi_6b_20241213_175238\\CJG_30_2023_08_05-summary_4.txt -> C:/Users/G/Documents/GitHub/audycje.com.pl/content/audio\\CJG_30_2023_08_05.txt\n"
     ]
    },
    {
     "name": "stderr",
     "output_type": "stream",
     "text": [
      "\n",
      "\n",
      "Summarizing files for yi:6b:  31%|███████████████████████████▌                                                             | 30/97 [36:32<1:24:48, 75.95s/it, file=CJG_29_2023_07_29.txt, summaries_count=20, time=70.57 seconds]\u001b[A\u001b[A\n",
      "\n",
      "Summarizing files for yi:6b:  31%|███████████████████████████▌                                                             | 30/97 [36:32<1:24:48, 75.95s/it, file=CJG_30_2023_08_05.txt, summaries_count=20, time=87.64 seconds]\u001b[A\u001b[A"
     ]
    },
    {
     "name": "stdout",
     "output_type": "stream",
     "text": [
      "Record already exists: voiceapp\\output\\summaries_folder\\yi_6b_20241213_175238\\CJG_30_2023_08_05-summary_5.txt -> C:/Users/G/Documents/GitHub/audycje.com.pl/content/audio\\CJG_30_2023_08_05.txt\n",
      "Record already exists: voiceapp\\output\\summaries_folder\\yi_6b_20241213_175238\\CJG_31_2023_09_09-summary_1.txt -> C:/Users/G/Documents/GitHub/audycje.com.pl/content/audio\\CJG_31_2023_09_09.txt\n",
      "Record already exists: voiceapp\\output\\summaries_folder\\yi_6b_20241213_175238\\CJG_31_2023_09_09-summary_2.txt -> C:/Users/G/Documents/GitHub/audycje.com.pl/content/audio\\CJG_31_2023_09_09.txt\n",
      "Record already exists: voiceapp\\output\\summaries_folder\\yi_6b_20241213_175238\\CJG_31_2023_09_09-summary_3.txt -> C:/Users/G/Documents/GitHub/audycje.com.pl/content/audio\\CJG_31_2023_09_09.txt\n",
      "Record already exists: voiceapp\\output\\summaries_folder\\yi_6b_20241213_175238\\CJG_31_2023_09_09-summary_4.txt -> C:/Users/G/Documents/GitHub/audycje.com.pl/content/audio\\CJG_31_2023_09_09.txt\n",
      "Record already exists: voiceapp\\output\\summaries_folder\\yi_6b_20241213_175238\\CJG_31_2023_09_09-summary_5.txt -> C:/Users/G/Documents/GitHub/audycje.com.pl/content/audio\\CJG_31_2023_09_09.txt\n",
      "Record already exists: voiceapp\\output\\summaries_folder\\yi_6b_20241213_175238\\CJG_31_2023_09_09-summary_1.txt -> C:/Users/G/Documents/GitHub/audycje.com.pl/content/audio\\CJG_31_2023_09_09.txt\n",
      "Record already exists: voiceapp\\output\\summaries_folder\\yi_6b_20241213_175238\\CJG_31_2023_09_09-summary_2.txt -> C:/Users/G/Documents/GitHub/audycje.com.pl/content/audio\\CJG_31_2023_09_09.txt\n",
      "Record already exists: voiceapp\\output\\summaries_folder\\yi_6b_20241213_175238\\CJG_31_2023_09_09-summary_3.txt -> C:/Users/G/Documents/GitHub/audycje.com.pl/content/audio\\CJG_31_2023_09_09.txt\n",
      "Record already exists: voiceapp\\output\\summaries_folder\\yi_6b_20241213_175238\\CJG_31_2023_09_09-summary_4.txt -> C:/Users/G/Documents/GitHub/audycje.com.pl/content/audio\\CJG_31_2023_09_09.txt\n",
      "Record already exists: voiceapp\\output\\summaries_folder\\yi_6b_20241213_175238\\CJG_31_2023_09_09-summary_5.txt -> C:/Users/G/Documents/GitHub/audycje.com.pl/content/audio\\CJG_31_2023_09_09.txt\n",
      "Record already exists: voiceapp\\output\\summaries_folder\\yi_6b_20241213_175238\\CJG_31_2023_09_09-summary_1.txt -> C:/Users/G/Documents/GitHub/audycje.com.pl/content/audio\\CJG_31_2023_09_09.txt\n",
      "Record already exists: voiceapp\\output\\summaries_folder\\yi_6b_20241213_175238\\CJG_31_2023_09_09-summary_2.txt -> C:/Users/G/Documents/GitHub/audycje.com.pl/content/audio\\CJG_31_2023_09_09.txt\n",
      "Record already exists: voiceapp\\output\\summaries_folder\\yi_6b_20241213_175238\\CJG_31_2023_09_09-summary_3.txt -> C:/Users/G/Documents/GitHub/audycje.com.pl/content/audio\\CJG_31_2023_09_09.txt\n",
      "Record already exists: voiceapp\\output\\summaries_folder\\yi_6b_20241213_175238\\CJG_31_2023_09_09-summary_4.txt -> C:/Users/G/Documents/GitHub/audycje.com.pl/content/audio\\CJG_31_2023_09_09.txt\n"
     ]
    },
    {
     "name": "stderr",
     "output_type": "stream",
     "text": [
      "\n",
      "\n",
      "Summarizing files for yi:6b:  32%|████████████████████████████▍                                                            | 31/97 [37:49<1:23:38, 76.03s/it, file=CJG_30_2023_08_05.txt, summaries_count=20, time=87.64 seconds]\u001b[A\u001b[A\n",
      "\n",
      "Summarizing files for yi:6b:  32%|████████████████████████████▍                                                            | 31/97 [37:49<1:23:38, 76.03s/it, file=CJG_31_2023_09_09.txt, summaries_count=20, time=76.21 seconds]\u001b[A\u001b[A"
     ]
    },
    {
     "name": "stdout",
     "output_type": "stream",
     "text": [
      "Record already exists: voiceapp\\output\\summaries_folder\\yi_6b_20241213_175238\\CJG_31_2023_09_09-summary_5.txt -> C:/Users/G/Documents/GitHub/audycje.com.pl/content/audio\\CJG_31_2023_09_09.txt\n",
      "Record already exists: voiceapp\\output\\summaries_folder\\yi_6b_20241213_175238\\CJG_32_2023_09_16-summary_1.txt -> C:/Users/G/Documents/GitHub/audycje.com.pl/content/audio\\CJG_32_2023_09_16.txt\n",
      "Record already exists: voiceapp\\output\\summaries_folder\\yi_6b_20241213_175238\\CJG_32_2023_09_16-summary_2.txt -> C:/Users/G/Documents/GitHub/audycje.com.pl/content/audio\\CJG_32_2023_09_16.txt\n",
      "Record already exists: voiceapp\\output\\summaries_folder\\yi_6b_20241213_175238\\CJG_32_2023_09_16-summary_3.txt -> C:/Users/G/Documents/GitHub/audycje.com.pl/content/audio\\CJG_32_2023_09_16.txt\n",
      "Record already exists: voiceapp\\output\\summaries_folder\\yi_6b_20241213_175238\\CJG_32_2023_09_16-summary_4.txt -> C:/Users/G/Documents/GitHub/audycje.com.pl/content/audio\\CJG_32_2023_09_16.txt\n",
      "Record already exists: voiceapp\\output\\summaries_folder\\yi_6b_20241213_175238\\CJG_32_2023_09_16-summary_5.txt -> C:/Users/G/Documents/GitHub/audycje.com.pl/content/audio\\CJG_32_2023_09_16.txt\n",
      "Record already exists: voiceapp\\output\\summaries_folder\\yi_6b_20241213_175238\\CJG_32_2023_09_16-summary_1.txt -> C:/Users/G/Documents/GitHub/audycje.com.pl/content/audio\\CJG_32_2023_09_16.txt\n",
      "Record already exists: voiceapp\\output\\summaries_folder\\yi_6b_20241213_175238\\CJG_32_2023_09_16-summary_2.txt -> C:/Users/G/Documents/GitHub/audycje.com.pl/content/audio\\CJG_32_2023_09_16.txt\n",
      "Record already exists: voiceapp\\output\\summaries_folder\\yi_6b_20241213_175238\\CJG_32_2023_09_16-summary_3.txt -> C:/Users/G/Documents/GitHub/audycje.com.pl/content/audio\\CJG_32_2023_09_16.txt\n",
      "Record already exists: voiceapp\\output\\summaries_folder\\yi_6b_20241213_175238\\CJG_32_2023_09_16-summary_4.txt -> C:/Users/G/Documents/GitHub/audycje.com.pl/content/audio\\CJG_32_2023_09_16.txt\n",
      "Record already exists: voiceapp\\output\\summaries_folder\\yi_6b_20241213_175238\\CJG_32_2023_09_16-summary_5.txt -> C:/Users/G/Documents/GitHub/audycje.com.pl/content/audio\\CJG_32_2023_09_16.txt\n",
      "Record already exists: voiceapp\\output\\summaries_folder\\yi_6b_20241213_175238\\CJG_32_2023_09_16-summary_1.txt -> C:/Users/G/Documents/GitHub/audycje.com.pl/content/audio\\CJG_32_2023_09_16.txt\n",
      "Record already exists: voiceapp\\output\\summaries_folder\\yi_6b_20241213_175238\\CJG_32_2023_09_16-summary_2.txt -> C:/Users/G/Documents/GitHub/audycje.com.pl/content/audio\\CJG_32_2023_09_16.txt\n",
      "Record already exists: voiceapp\\output\\summaries_folder\\yi_6b_20241213_175238\\CJG_32_2023_09_16-summary_3.txt -> C:/Users/G/Documents/GitHub/audycje.com.pl/content/audio\\CJG_32_2023_09_16.txt\n",
      "Record already exists: voiceapp\\output\\summaries_folder\\yi_6b_20241213_175238\\CJG_32_2023_09_16-summary_4.txt -> C:/Users/G/Documents/GitHub/audycje.com.pl/content/audio\\CJG_32_2023_09_16.txt\n"
     ]
    },
    {
     "name": "stderr",
     "output_type": "stream",
     "text": [
      "\n",
      "\n",
      "Summarizing files for yi:6b:  33%|█████████████████████████████▎                                                           | 32/97 [39:12<1:24:38, 78.12s/it, file=CJG_31_2023_09_09.txt, summaries_count=20, time=76.21 seconds]\u001b[A\u001b[A\n",
      "\n",
      "Summarizing files for yi:6b:  33%|█████████████████████████████▎                                                           | 32/97 [39:12<1:24:38, 78.12s/it, file=CJG_32_2023_09_16.txt, summaries_count=20, time=83.00 seconds]\u001b[A\u001b[A"
     ]
    },
    {
     "name": "stdout",
     "output_type": "stream",
     "text": [
      "Record already exists: voiceapp\\output\\summaries_folder\\yi_6b_20241213_175238\\CJG_32_2023_09_16-summary_5.txt -> C:/Users/G/Documents/GitHub/audycje.com.pl/content/audio\\CJG_32_2023_09_16.txt\n",
      "Record already exists: voiceapp\\output\\summaries_folder\\yi_6b_20241213_175238\\CJG_33_2023_09_23-summary_1.txt -> C:/Users/G/Documents/GitHub/audycje.com.pl/content/audio\\CJG_33_2023_09_23.txt\n",
      "Record already exists: voiceapp\\output\\summaries_folder\\yi_6b_20241213_175238\\CJG_33_2023_09_23-summary_2.txt -> C:/Users/G/Documents/GitHub/audycje.com.pl/content/audio\\CJG_33_2023_09_23.txt\n",
      "Record already exists: voiceapp\\output\\summaries_folder\\yi_6b_20241213_175238\\CJG_33_2023_09_23-summary_3.txt -> C:/Users/G/Documents/GitHub/audycje.com.pl/content/audio\\CJG_33_2023_09_23.txt\n",
      "Record already exists: voiceapp\\output\\summaries_folder\\yi_6b_20241213_175238\\CJG_33_2023_09_23-summary_4.txt -> C:/Users/G/Documents/GitHub/audycje.com.pl/content/audio\\CJG_33_2023_09_23.txt\n",
      "Record already exists: voiceapp\\output\\summaries_folder\\yi_6b_20241213_175238\\CJG_33_2023_09_23-summary_5.txt -> C:/Users/G/Documents/GitHub/audycje.com.pl/content/audio\\CJG_33_2023_09_23.txt\n",
      "Record already exists: voiceapp\\output\\summaries_folder\\yi_6b_20241213_175238\\CJG_33_2023_09_23-summary_1.txt -> C:/Users/G/Documents/GitHub/audycje.com.pl/content/audio\\CJG_33_2023_09_23.txt\n",
      "Record already exists: voiceapp\\output\\summaries_folder\\yi_6b_20241213_175238\\CJG_33_2023_09_23-summary_2.txt -> C:/Users/G/Documents/GitHub/audycje.com.pl/content/audio\\CJG_33_2023_09_23.txt\n",
      "Record already exists: voiceapp\\output\\summaries_folder\\yi_6b_20241213_175238\\CJG_33_2023_09_23-summary_3.txt -> C:/Users/G/Documents/GitHub/audycje.com.pl/content/audio\\CJG_33_2023_09_23.txt\n",
      "Record already exists: voiceapp\\output\\summaries_folder\\yi_6b_20241213_175238\\CJG_33_2023_09_23-summary_4.txt -> C:/Users/G/Documents/GitHub/audycje.com.pl/content/audio\\CJG_33_2023_09_23.txt\n",
      "Record already exists: voiceapp\\output\\summaries_folder\\yi_6b_20241213_175238\\CJG_33_2023_09_23-summary_5.txt -> C:/Users/G/Documents/GitHub/audycje.com.pl/content/audio\\CJG_33_2023_09_23.txt\n",
      "Record already exists: voiceapp\\output\\summaries_folder\\yi_6b_20241213_175238\\CJG_33_2023_09_23-summary_1.txt -> C:/Users/G/Documents/GitHub/audycje.com.pl/content/audio\\CJG_33_2023_09_23.txt\n",
      "Record already exists: voiceapp\\output\\summaries_folder\\yi_6b_20241213_175238\\CJG_33_2023_09_23-summary_2.txt -> C:/Users/G/Documents/GitHub/audycje.com.pl/content/audio\\CJG_33_2023_09_23.txt\n",
      "Record already exists: voiceapp\\output\\summaries_folder\\yi_6b_20241213_175238\\CJG_33_2023_09_23-summary_3.txt -> C:/Users/G/Documents/GitHub/audycje.com.pl/content/audio\\CJG_33_2023_09_23.txt\n",
      "Record already exists: voiceapp\\output\\summaries_folder\\yi_6b_20241213_175238\\CJG_33_2023_09_23-summary_4.txt -> C:/Users/G/Documents/GitHub/audycje.com.pl/content/audio\\CJG_33_2023_09_23.txt\n"
     ]
    },
    {
     "name": "stderr",
     "output_type": "stream",
     "text": [
      "\n",
      "\n",
      "Summarizing files for yi:6b:  34%|██████████████████████████████▎                                                          | 33/97 [40:22<1:20:44, 75.70s/it, file=CJG_32_2023_09_16.txt, summaries_count=20, time=83.00 seconds]\u001b[A\u001b[A\n",
      "\n",
      "Summarizing files for yi:6b:  34%|██████████████████████████████▎                                                          | 33/97 [40:22<1:20:44, 75.70s/it, file=CJG_33_2023_09_23.txt, summaries_count=20, time=70.04 seconds]\u001b[A\u001b[A"
     ]
    },
    {
     "name": "stdout",
     "output_type": "stream",
     "text": [
      "Record already exists: voiceapp\\output\\summaries_folder\\yi_6b_20241213_175238\\CJG_33_2023_09_23-summary_5.txt -> C:/Users/G/Documents/GitHub/audycje.com.pl/content/audio\\CJG_33_2023_09_23.txt\n",
      "Record already exists: voiceapp\\output\\summaries_folder\\yi_6b_20241213_175238\\CJG_34_2023_09_30-summary_1.txt -> C:/Users/G/Documents/GitHub/audycje.com.pl/content/audio\\CJG_34_2023_09_30.txt\n",
      "Record already exists: voiceapp\\output\\summaries_folder\\yi_6b_20241213_175238\\CJG_34_2023_09_30-summary_2.txt -> C:/Users/G/Documents/GitHub/audycje.com.pl/content/audio\\CJG_34_2023_09_30.txt\n",
      "Record already exists: voiceapp\\output\\summaries_folder\\yi_6b_20241213_175238\\CJG_34_2023_09_30-summary_3.txt -> C:/Users/G/Documents/GitHub/audycje.com.pl/content/audio\\CJG_34_2023_09_30.txt\n",
      "Record already exists: voiceapp\\output\\summaries_folder\\yi_6b_20241213_175238\\CJG_34_2023_09_30-summary_4.txt -> C:/Users/G/Documents/GitHub/audycje.com.pl/content/audio\\CJG_34_2023_09_30.txt\n",
      "Record already exists: voiceapp\\output\\summaries_folder\\yi_6b_20241213_175238\\CJG_34_2023_09_30-summary_5.txt -> C:/Users/G/Documents/GitHub/audycje.com.pl/content/audio\\CJG_34_2023_09_30.txt\n",
      "Record already exists: voiceapp\\output\\summaries_folder\\yi_6b_20241213_175238\\CJG_34_2023_09_30-summary_1.txt -> C:/Users/G/Documents/GitHub/audycje.com.pl/content/audio\\CJG_34_2023_09_30.txt\n",
      "Record already exists: voiceapp\\output\\summaries_folder\\yi_6b_20241213_175238\\CJG_34_2023_09_30-summary_2.txt -> C:/Users/G/Documents/GitHub/audycje.com.pl/content/audio\\CJG_34_2023_09_30.txt\n",
      "Record already exists: voiceapp\\output\\summaries_folder\\yi_6b_20241213_175238\\CJG_34_2023_09_30-summary_3.txt -> C:/Users/G/Documents/GitHub/audycje.com.pl/content/audio\\CJG_34_2023_09_30.txt\n",
      "Record already exists: voiceapp\\output\\summaries_folder\\yi_6b_20241213_175238\\CJG_34_2023_09_30-summary_4.txt -> C:/Users/G/Documents/GitHub/audycje.com.pl/content/audio\\CJG_34_2023_09_30.txt\n",
      "Record already exists: voiceapp\\output\\summaries_folder\\yi_6b_20241213_175238\\CJG_34_2023_09_30-summary_5.txt -> C:/Users/G/Documents/GitHub/audycje.com.pl/content/audio\\CJG_34_2023_09_30.txt\n",
      "Record already exists: voiceapp\\output\\summaries_folder\\yi_6b_20241213_175238\\CJG_34_2023_09_30-summary_1.txt -> C:/Users/G/Documents/GitHub/audycje.com.pl/content/audio\\CJG_34_2023_09_30.txt\n",
      "Record already exists: voiceapp\\output\\summaries_folder\\yi_6b_20241213_175238\\CJG_34_2023_09_30-summary_2.txt -> C:/Users/G/Documents/GitHub/audycje.com.pl/content/audio\\CJG_34_2023_09_30.txt\n",
      "Record already exists: voiceapp\\output\\summaries_folder\\yi_6b_20241213_175238\\CJG_34_2023_09_30-summary_3.txt -> C:/Users/G/Documents/GitHub/audycje.com.pl/content/audio\\CJG_34_2023_09_30.txt\n",
      "Record already exists: voiceapp\\output\\summaries_folder\\yi_6b_20241213_175238\\CJG_34_2023_09_30-summary_4.txt -> C:/Users/G/Documents/GitHub/audycje.com.pl/content/audio\\CJG_34_2023_09_30.txt\n"
     ]
    },
    {
     "name": "stderr",
     "output_type": "stream",
     "text": [
      "\n",
      "\n",
      "Summarizing files for yi:6b:  35%|███████████████████████████████▏                                                         | 34/97 [41:35<1:18:44, 74.99s/it, file=CJG_33_2023_09_23.txt, summaries_count=20, time=70.04 seconds]\u001b[A\u001b[A\n",
      "\n",
      "Summarizing files for yi:6b:  35%|███████████████████████████████▏                                                         | 34/97 [41:35<1:18:44, 74.99s/it, file=CJG_34_2023_09_30.txt, summaries_count=20, time=73.33 seconds]\u001b[A\u001b[A"
     ]
    },
    {
     "name": "stdout",
     "output_type": "stream",
     "text": [
      "Record already exists: voiceapp\\output\\summaries_folder\\yi_6b_20241213_175238\\CJG_34_2023_09_30-summary_5.txt -> C:/Users/G/Documents/GitHub/audycje.com.pl/content/audio\\CJG_34_2023_09_30.txt\n",
      "Record already exists: voiceapp\\output\\summaries_folder\\yi_6b_20241213_175238\\CJG_35_2023_10_07-summary_1.txt -> C:/Users/G/Documents/GitHub/audycje.com.pl/content/audio\\CJG_35_2023_10_07.txt\n",
      "Record already exists: voiceapp\\output\\summaries_folder\\yi_6b_20241213_175238\\CJG_35_2023_10_07-summary_2.txt -> C:/Users/G/Documents/GitHub/audycje.com.pl/content/audio\\CJG_35_2023_10_07.txt\n",
      "Record already exists: voiceapp\\output\\summaries_folder\\yi_6b_20241213_175238\\CJG_35_2023_10_07-summary_3.txt -> C:/Users/G/Documents/GitHub/audycje.com.pl/content/audio\\CJG_35_2023_10_07.txt\n",
      "Record already exists: voiceapp\\output\\summaries_folder\\yi_6b_20241213_175238\\CJG_35_2023_10_07-summary_4.txt -> C:/Users/G/Documents/GitHub/audycje.com.pl/content/audio\\CJG_35_2023_10_07.txt\n",
      "Record already exists: voiceapp\\output\\summaries_folder\\yi_6b_20241213_175238\\CJG_35_2023_10_07-summary_5.txt -> C:/Users/G/Documents/GitHub/audycje.com.pl/content/audio\\CJG_35_2023_10_07.txt\n",
      "Record already exists: voiceapp\\output\\summaries_folder\\yi_6b_20241213_175238\\CJG_35_2023_10_07-summary_1.txt -> C:/Users/G/Documents/GitHub/audycje.com.pl/content/audio\\CJG_35_2023_10_07.txt\n",
      "Record already exists: voiceapp\\output\\summaries_folder\\yi_6b_20241213_175238\\CJG_35_2023_10_07-summary_2.txt -> C:/Users/G/Documents/GitHub/audycje.com.pl/content/audio\\CJG_35_2023_10_07.txt\n",
      "Record already exists: voiceapp\\output\\summaries_folder\\yi_6b_20241213_175238\\CJG_35_2023_10_07-summary_3.txt -> C:/Users/G/Documents/GitHub/audycje.com.pl/content/audio\\CJG_35_2023_10_07.txt\n",
      "Record already exists: voiceapp\\output\\summaries_folder\\yi_6b_20241213_175238\\CJG_35_2023_10_07-summary_4.txt -> C:/Users/G/Documents/GitHub/audycje.com.pl/content/audio\\CJG_35_2023_10_07.txt\n",
      "Record already exists: voiceapp\\output\\summaries_folder\\yi_6b_20241213_175238\\CJG_35_2023_10_07-summary_5.txt -> C:/Users/G/Documents/GitHub/audycje.com.pl/content/audio\\CJG_35_2023_10_07.txt\n",
      "Record already exists: voiceapp\\output\\summaries_folder\\yi_6b_20241213_175238\\CJG_35_2023_10_07-summary_1.txt -> C:/Users/G/Documents/GitHub/audycje.com.pl/content/audio\\CJG_35_2023_10_07.txt\n",
      "Record already exists: voiceapp\\output\\summaries_folder\\yi_6b_20241213_175238\\CJG_35_2023_10_07-summary_2.txt -> C:/Users/G/Documents/GitHub/audycje.com.pl/content/audio\\CJG_35_2023_10_07.txt\n",
      "Record already exists: voiceapp\\output\\summaries_folder\\yi_6b_20241213_175238\\CJG_35_2023_10_07-summary_3.txt -> C:/Users/G/Documents/GitHub/audycje.com.pl/content/audio\\CJG_35_2023_10_07.txt\n",
      "Record already exists: voiceapp\\output\\summaries_folder\\yi_6b_20241213_175238\\CJG_35_2023_10_07-summary_4.txt -> C:/Users/G/Documents/GitHub/audycje.com.pl/content/audio\\CJG_35_2023_10_07.txt\n"
     ]
    },
    {
     "name": "stderr",
     "output_type": "stream",
     "text": [
      "\n",
      "\n",
      "Summarizing files for yi:6b:  36%|████████████████████████████████                                                         | 35/97 [42:58<1:19:57, 77.38s/it, file=CJG_34_2023_09_30.txt, summaries_count=20, time=73.33 seconds]\u001b[A\u001b[A\n",
      "\n",
      "Summarizing files for yi:6b:  36%|████████████████████████████████                                                         | 35/97 [42:58<1:19:57, 77.38s/it, file=CJG_35_2023_10_07.txt, summaries_count=20, time=82.95 seconds]\u001b[A\u001b[A"
     ]
    },
    {
     "name": "stdout",
     "output_type": "stream",
     "text": [
      "Record already exists: voiceapp\\output\\summaries_folder\\yi_6b_20241213_175238\\CJG_35_2023_10_07-summary_5.txt -> C:/Users/G/Documents/GitHub/audycje.com.pl/content/audio\\CJG_35_2023_10_07.txt\n",
      "Record already exists: voiceapp\\output\\summaries_folder\\yi_6b_20241213_175238\\CJG_36_2023_10_14-summary_1.txt -> C:/Users/G/Documents/GitHub/audycje.com.pl/content/audio\\CJG_36_2023_10_14.txt\n",
      "Record already exists: voiceapp\\output\\summaries_folder\\yi_6b_20241213_175238\\CJG_36_2023_10_14-summary_2.txt -> C:/Users/G/Documents/GitHub/audycje.com.pl/content/audio\\CJG_36_2023_10_14.txt\n",
      "Record already exists: voiceapp\\output\\summaries_folder\\yi_6b_20241213_175238\\CJG_36_2023_10_14-summary_3.txt -> C:/Users/G/Documents/GitHub/audycje.com.pl/content/audio\\CJG_36_2023_10_14.txt\n",
      "Record already exists: voiceapp\\output\\summaries_folder\\yi_6b_20241213_175238\\CJG_36_2023_10_14-summary_4.txt -> C:/Users/G/Documents/GitHub/audycje.com.pl/content/audio\\CJG_36_2023_10_14.txt\n",
      "Record already exists: voiceapp\\output\\summaries_folder\\yi_6b_20241213_175238\\CJG_36_2023_10_14-summary_5.txt -> C:/Users/G/Documents/GitHub/audycje.com.pl/content/audio\\CJG_36_2023_10_14.txt\n",
      "Record already exists: voiceapp\\output\\summaries_folder\\yi_6b_20241213_175238\\CJG_36_2023_10_14-summary_1.txt -> C:/Users/G/Documents/GitHub/audycje.com.pl/content/audio\\CJG_36_2023_10_14.txt\n",
      "Record already exists: voiceapp\\output\\summaries_folder\\yi_6b_20241213_175238\\CJG_36_2023_10_14-summary_2.txt -> C:/Users/G/Documents/GitHub/audycje.com.pl/content/audio\\CJG_36_2023_10_14.txt\n",
      "Record already exists: voiceapp\\output\\summaries_folder\\yi_6b_20241213_175238\\CJG_36_2023_10_14-summary_3.txt -> C:/Users/G/Documents/GitHub/audycje.com.pl/content/audio\\CJG_36_2023_10_14.txt\n",
      "Record already exists: voiceapp\\output\\summaries_folder\\yi_6b_20241213_175238\\CJG_36_2023_10_14-summary_4.txt -> C:/Users/G/Documents/GitHub/audycje.com.pl/content/audio\\CJG_36_2023_10_14.txt\n",
      "Record already exists: voiceapp\\output\\summaries_folder\\yi_6b_20241213_175238\\CJG_36_2023_10_14-summary_5.txt -> C:/Users/G/Documents/GitHub/audycje.com.pl/content/audio\\CJG_36_2023_10_14.txt\n",
      "Record already exists: voiceapp\\output\\summaries_folder\\yi_6b_20241213_175238\\CJG_36_2023_10_14-summary_1.txt -> C:/Users/G/Documents/GitHub/audycje.com.pl/content/audio\\CJG_36_2023_10_14.txt\n",
      "Record already exists: voiceapp\\output\\summaries_folder\\yi_6b_20241213_175238\\CJG_36_2023_10_14-summary_2.txt -> C:/Users/G/Documents/GitHub/audycje.com.pl/content/audio\\CJG_36_2023_10_14.txt\n",
      "Record already exists: voiceapp\\output\\summaries_folder\\yi_6b_20241213_175238\\CJG_36_2023_10_14-summary_3.txt -> C:/Users/G/Documents/GitHub/audycje.com.pl/content/audio\\CJG_36_2023_10_14.txt\n",
      "Record already exists: voiceapp\\output\\summaries_folder\\yi_6b_20241213_175238\\CJG_36_2023_10_14-summary_4.txt -> C:/Users/G/Documents/GitHub/audycje.com.pl/content/audio\\CJG_36_2023_10_14.txt\n"
     ]
    },
    {
     "name": "stderr",
     "output_type": "stream",
     "text": [
      "\n",
      "\n",
      "Summarizing files for yi:6b:  37%|█████████████████████████████████                                                        | 36/97 [44:24<1:21:16, 79.95s/it, file=CJG_35_2023_10_07.txt, summaries_count=20, time=82.95 seconds]\u001b[A\u001b[A\n",
      "\n",
      "Summarizing files for yi:6b:  37%|█████████████████████████████████                                                        | 36/97 [44:24<1:21:16, 79.95s/it, file=CJG_36_2023_10_14.txt, summaries_count=20, time=85.95 seconds]\u001b[A\u001b[A"
     ]
    },
    {
     "name": "stdout",
     "output_type": "stream",
     "text": [
      "Record already exists: voiceapp\\output\\summaries_folder\\yi_6b_20241213_175238\\CJG_36_2023_10_14-summary_5.txt -> C:/Users/G/Documents/GitHub/audycje.com.pl/content/audio\\CJG_36_2023_10_14.txt\n",
      "Record already exists: voiceapp\\output\\summaries_folder\\yi_6b_20241213_175238\\CJG_37_2023_10_21-summary_1.txt -> C:/Users/G/Documents/GitHub/audycje.com.pl/content/audio\\CJG_37_2023_10_21.txt\n",
      "Record already exists: voiceapp\\output\\summaries_folder\\yi_6b_20241213_175238\\CJG_37_2023_10_21-summary_2.txt -> C:/Users/G/Documents/GitHub/audycje.com.pl/content/audio\\CJG_37_2023_10_21.txt\n",
      "Record already exists: voiceapp\\output\\summaries_folder\\yi_6b_20241213_175238\\CJG_37_2023_10_21-summary_3.txt -> C:/Users/G/Documents/GitHub/audycje.com.pl/content/audio\\CJG_37_2023_10_21.txt\n",
      "Record already exists: voiceapp\\output\\summaries_folder\\yi_6b_20241213_175238\\CJG_37_2023_10_21-summary_4.txt -> C:/Users/G/Documents/GitHub/audycje.com.pl/content/audio\\CJG_37_2023_10_21.txt\n",
      "Record already exists: voiceapp\\output\\summaries_folder\\yi_6b_20241213_175238\\CJG_37_2023_10_21-summary_5.txt -> C:/Users/G/Documents/GitHub/audycje.com.pl/content/audio\\CJG_37_2023_10_21.txt\n",
      "Record already exists: voiceapp\\output\\summaries_folder\\yi_6b_20241213_175238\\CJG_37_2023_10_21-summary_1.txt -> C:/Users/G/Documents/GitHub/audycje.com.pl/content/audio\\CJG_37_2023_10_21.txt\n",
      "Record already exists: voiceapp\\output\\summaries_folder\\yi_6b_20241213_175238\\CJG_37_2023_10_21-summary_2.txt -> C:/Users/G/Documents/GitHub/audycje.com.pl/content/audio\\CJG_37_2023_10_21.txt\n",
      "Record already exists: voiceapp\\output\\summaries_folder\\yi_6b_20241213_175238\\CJG_37_2023_10_21-summary_3.txt -> C:/Users/G/Documents/GitHub/audycje.com.pl/content/audio\\CJG_37_2023_10_21.txt\n",
      "Record already exists: voiceapp\\output\\summaries_folder\\yi_6b_20241213_175238\\CJG_37_2023_10_21-summary_4.txt -> C:/Users/G/Documents/GitHub/audycje.com.pl/content/audio\\CJG_37_2023_10_21.txt\n"
     ]
    },
    {
     "name": "stderr",
     "output_type": "stream",
     "text": [
      "\n",
      "\n",
      "Summarizing files for yi:6b:  38%|█████████████████████████████████▉                                                       | 37/97 [45:33<1:16:40, 76.67s/it, file=CJG_36_2023_10_14.txt, summaries_count=20, time=85.95 seconds]\u001b[A\u001b[A\n",
      "\n",
      "Summarizing files for yi:6b:  38%|█████████████████████████████████▉                                                       | 37/97 [45:33<1:16:40, 76.67s/it, file=CJG_37_2023_10_21.txt, summaries_count=15, time=69.01 seconds]\u001b[A\u001b[A"
     ]
    },
    {
     "name": "stdout",
     "output_type": "stream",
     "text": [
      "Record already exists: voiceapp\\output\\summaries_folder\\yi_6b_20241213_175238\\CJG_37_2023_10_21-summary_5.txt -> C:/Users/G/Documents/GitHub/audycje.com.pl/content/audio\\CJG_37_2023_10_21.txt\n",
      "Record already exists: voiceapp\\output\\summaries_folder\\yi_6b_20241213_175238\\CJG_38_2023_10_28-summary_1.txt -> C:/Users/G/Documents/GitHub/audycje.com.pl/content/audio\\CJG_38_2023_10_28.txt\n",
      "Record already exists: voiceapp\\output\\summaries_folder\\yi_6b_20241213_175238\\CJG_38_2023_10_28-summary_2.txt -> C:/Users/G/Documents/GitHub/audycje.com.pl/content/audio\\CJG_38_2023_10_28.txt\n",
      "Record already exists: voiceapp\\output\\summaries_folder\\yi_6b_20241213_175238\\CJG_38_2023_10_28-summary_3.txt -> C:/Users/G/Documents/GitHub/audycje.com.pl/content/audio\\CJG_38_2023_10_28.txt\n",
      "Record already exists: voiceapp\\output\\summaries_folder\\yi_6b_20241213_175238\\CJG_38_2023_10_28-summary_4.txt -> C:/Users/G/Documents/GitHub/audycje.com.pl/content/audio\\CJG_38_2023_10_28.txt\n",
      "Record already exists: voiceapp\\output\\summaries_folder\\yi_6b_20241213_175238\\CJG_38_2023_10_28-summary_5.txt -> C:/Users/G/Documents/GitHub/audycje.com.pl/content/audio\\CJG_38_2023_10_28.txt\n",
      "Record already exists: voiceapp\\output\\summaries_folder\\yi_6b_20241213_175238\\CJG_38_2023_10_28-summary_1.txt -> C:/Users/G/Documents/GitHub/audycje.com.pl/content/audio\\CJG_38_2023_10_28.txt\n",
      "Record already exists: voiceapp\\output\\summaries_folder\\yi_6b_20241213_175238\\CJG_38_2023_10_28-summary_2.txt -> C:/Users/G/Documents/GitHub/audycje.com.pl/content/audio\\CJG_38_2023_10_28.txt\n",
      "Record already exists: voiceapp\\output\\summaries_folder\\yi_6b_20241213_175238\\CJG_38_2023_10_28-summary_3.txt -> C:/Users/G/Documents/GitHub/audycje.com.pl/content/audio\\CJG_38_2023_10_28.txt\n",
      "Record already exists: voiceapp\\output\\summaries_folder\\yi_6b_20241213_175238\\CJG_38_2023_10_28-summary_4.txt -> C:/Users/G/Documents/GitHub/audycje.com.pl/content/audio\\CJG_38_2023_10_28.txt\n"
     ]
    },
    {
     "name": "stderr",
     "output_type": "stream",
     "text": [
      "\n",
      "\n",
      "Summarizing files for yi:6b:  39%|██████████████████████████████████▊                                                      | 38/97 [46:36<1:11:16, 72.48s/it, file=CJG_37_2023_10_21.txt, summaries_count=15, time=69.01 seconds]\u001b[A\u001b[A\n",
      "\n",
      "Summarizing files for yi:6b:  39%|██████████████████████████████████▊                                                      | 38/97 [46:36<1:11:16, 72.48s/it, file=CJG_38_2023_10_28.txt, summaries_count=15, time=62.69 seconds]\u001b[A\u001b[A"
     ]
    },
    {
     "name": "stdout",
     "output_type": "stream",
     "text": [
      "Record already exists: voiceapp\\output\\summaries_folder\\yi_6b_20241213_175238\\CJG_38_2023_10_28-summary_5.txt -> C:/Users/G/Documents/GitHub/audycje.com.pl/content/audio\\CJG_38_2023_10_28.txt\n",
      "Record already exists: voiceapp\\output\\summaries_folder\\yi_6b_20241213_175238\\CJG_39_2023_11_04-summary_1.txt -> C:/Users/G/Documents/GitHub/audycje.com.pl/content/audio\\CJG_39_2023_11_04.txt\n",
      "Record already exists: voiceapp\\output\\summaries_folder\\yi_6b_20241213_175238\\CJG_39_2023_11_04-summary_2.txt -> C:/Users/G/Documents/GitHub/audycje.com.pl/content/audio\\CJG_39_2023_11_04.txt\n",
      "Record already exists: voiceapp\\output\\summaries_folder\\yi_6b_20241213_175238\\CJG_39_2023_11_04-summary_3.txt -> C:/Users/G/Documents/GitHub/audycje.com.pl/content/audio\\CJG_39_2023_11_04.txt\n",
      "Record already exists: voiceapp\\output\\summaries_folder\\yi_6b_20241213_175238\\CJG_39_2023_11_04-summary_4.txt -> C:/Users/G/Documents/GitHub/audycje.com.pl/content/audio\\CJG_39_2023_11_04.txt\n",
      "Record already exists: voiceapp\\output\\summaries_folder\\yi_6b_20241213_175238\\CJG_39_2023_11_04-summary_5.txt -> C:/Users/G/Documents/GitHub/audycje.com.pl/content/audio\\CJG_39_2023_11_04.txt\n",
      "Record already exists: voiceapp\\output\\summaries_folder\\yi_6b_20241213_175238\\CJG_39_2023_11_04-summary_1.txt -> C:/Users/G/Documents/GitHub/audycje.com.pl/content/audio\\CJG_39_2023_11_04.txt\n",
      "Record already exists: voiceapp\\output\\summaries_folder\\yi_6b_20241213_175238\\CJG_39_2023_11_04-summary_2.txt -> C:/Users/G/Documents/GitHub/audycje.com.pl/content/audio\\CJG_39_2023_11_04.txt\n",
      "Record already exists: voiceapp\\output\\summaries_folder\\yi_6b_20241213_175238\\CJG_39_2023_11_04-summary_3.txt -> C:/Users/G/Documents/GitHub/audycje.com.pl/content/audio\\CJG_39_2023_11_04.txt\n",
      "Record already exists: voiceapp\\output\\summaries_folder\\yi_6b_20241213_175238\\CJG_39_2023_11_04-summary_4.txt -> C:/Users/G/Documents/GitHub/audycje.com.pl/content/audio\\CJG_39_2023_11_04.txt\n",
      "Record already exists: voiceapp\\output\\summaries_folder\\yi_6b_20241213_175238\\CJG_39_2023_11_04-summary_5.txt -> C:/Users/G/Documents/GitHub/audycje.com.pl/content/audio\\CJG_39_2023_11_04.txt\n",
      "Record already exists: voiceapp\\output\\summaries_folder\\yi_6b_20241213_175238\\CJG_39_2023_11_04-summary_1.txt -> C:/Users/G/Documents/GitHub/audycje.com.pl/content/audio\\CJG_39_2023_11_04.txt\n",
      "Record already exists: voiceapp\\output\\summaries_folder\\yi_6b_20241213_175238\\CJG_39_2023_11_04-summary_2.txt -> C:/Users/G/Documents/GitHub/audycje.com.pl/content/audio\\CJG_39_2023_11_04.txt\n",
      "Record already exists: voiceapp\\output\\summaries_folder\\yi_6b_20241213_175238\\CJG_39_2023_11_04-summary_3.txt -> C:/Users/G/Documents/GitHub/audycje.com.pl/content/audio\\CJG_39_2023_11_04.txt\n",
      "Record already exists: voiceapp\\output\\summaries_folder\\yi_6b_20241213_175238\\CJG_39_2023_11_04-summary_4.txt -> C:/Users/G/Documents/GitHub/audycje.com.pl/content/audio\\CJG_39_2023_11_04.txt\n"
     ]
    },
    {
     "name": "stderr",
     "output_type": "stream",
     "text": [
      "\n",
      "\n",
      "Summarizing files for yi:6b:  40%|███████████████████████████████████▊                                                     | 39/97 [47:49<1:10:26, 72.87s/it, file=CJG_38_2023_10_28.txt, summaries_count=15, time=62.69 seconds]\u001b[A\u001b[A\n",
      "\n",
      "Summarizing files for yi:6b:  40%|███████████████████████████████████▊                                                     | 39/97 [47:49<1:10:26, 72.87s/it, file=CJG_39_2023_11_04.txt, summaries_count=20, time=73.79 seconds]\u001b[A\u001b[A"
     ]
    },
    {
     "name": "stdout",
     "output_type": "stream",
     "text": [
      "Record already exists: voiceapp\\output\\summaries_folder\\yi_6b_20241213_175238\\CJG_39_2023_11_04-summary_5.txt -> C:/Users/G/Documents/GitHub/audycje.com.pl/content/audio\\CJG_39_2023_11_04.txt\n",
      "Record already exists: voiceapp\\output\\summaries_folder\\yi_6b_20241213_175238\\CJG_40_2023_11_11-summary_1.txt -> C:/Users/G/Documents/GitHub/audycje.com.pl/content/audio\\CJG_40_2023_11_11.txt\n",
      "Record already exists: voiceapp\\output\\summaries_folder\\yi_6b_20241213_175238\\CJG_40_2023_11_11-summary_2.txt -> C:/Users/G/Documents/GitHub/audycje.com.pl/content/audio\\CJG_40_2023_11_11.txt\n",
      "Record already exists: voiceapp\\output\\summaries_folder\\yi_6b_20241213_175238\\CJG_40_2023_11_11-summary_3.txt -> C:/Users/G/Documents/GitHub/audycje.com.pl/content/audio\\CJG_40_2023_11_11.txt\n",
      "Record already exists: voiceapp\\output\\summaries_folder\\yi_6b_20241213_175238\\CJG_40_2023_11_11-summary_4.txt -> C:/Users/G/Documents/GitHub/audycje.com.pl/content/audio\\CJG_40_2023_11_11.txt\n",
      "Record already exists: voiceapp\\output\\summaries_folder\\yi_6b_20241213_175238\\CJG_40_2023_11_11-summary_5.txt -> C:/Users/G/Documents/GitHub/audycje.com.pl/content/audio\\CJG_40_2023_11_11.txt\n",
      "Record already exists: voiceapp\\output\\summaries_folder\\yi_6b_20241213_175238\\CJG_40_2023_11_11-summary_1.txt -> C:/Users/G/Documents/GitHub/audycje.com.pl/content/audio\\CJG_40_2023_11_11.txt\n",
      "Record already exists: voiceapp\\output\\summaries_folder\\yi_6b_20241213_175238\\CJG_40_2023_11_11-summary_2.txt -> C:/Users/G/Documents/GitHub/audycje.com.pl/content/audio\\CJG_40_2023_11_11.txt\n",
      "Record already exists: voiceapp\\output\\summaries_folder\\yi_6b_20241213_175238\\CJG_40_2023_11_11-summary_3.txt -> C:/Users/G/Documents/GitHub/audycje.com.pl/content/audio\\CJG_40_2023_11_11.txt\n",
      "Record already exists: voiceapp\\output\\summaries_folder\\yi_6b_20241213_175238\\CJG_40_2023_11_11-summary_4.txt -> C:/Users/G/Documents/GitHub/audycje.com.pl/content/audio\\CJG_40_2023_11_11.txt\n",
      "Record already exists: voiceapp\\output\\summaries_folder\\yi_6b_20241213_175238\\CJG_40_2023_11_11-summary_5.txt -> C:/Users/G/Documents/GitHub/audycje.com.pl/content/audio\\CJG_40_2023_11_11.txt\n",
      "Record already exists: voiceapp\\output\\summaries_folder\\yi_6b_20241213_175238\\CJG_40_2023_11_11-summary_1.txt -> C:/Users/G/Documents/GitHub/audycje.com.pl/content/audio\\CJG_40_2023_11_11.txt\n",
      "Record already exists: voiceapp\\output\\summaries_folder\\yi_6b_20241213_175238\\CJG_40_2023_11_11-summary_2.txt -> C:/Users/G/Documents/GitHub/audycje.com.pl/content/audio\\CJG_40_2023_11_11.txt\n",
      "Record already exists: voiceapp\\output\\summaries_folder\\yi_6b_20241213_175238\\CJG_40_2023_11_11-summary_3.txt -> C:/Users/G/Documents/GitHub/audycje.com.pl/content/audio\\CJG_40_2023_11_11.txt\n",
      "Record already exists: voiceapp\\output\\summaries_folder\\yi_6b_20241213_175238\\CJG_40_2023_11_11-summary_4.txt -> C:/Users/G/Documents/GitHub/audycje.com.pl/content/audio\\CJG_40_2023_11_11.txt\n"
     ]
    },
    {
     "name": "stderr",
     "output_type": "stream",
     "text": [
      "\n",
      "\n",
      "Summarizing files for yi:6b:  41%|████████████████████████████████████▋                                                    | 40/97 [50:10<1:28:28, 93.13s/it, file=CJG_39_2023_11_04.txt, summaries_count=20, time=73.79 seconds]\u001b[A\u001b[A\n",
      "\n",
      "Summarizing files for yi:6b:  41%|████████████████████████████████████▎                                                   | 40/97 [50:10<1:28:28, 93.13s/it, file=CJG_40_2023_11_11.txt, summaries_count=20, time=140.41 seconds]\u001b[A\u001b[A"
     ]
    },
    {
     "name": "stdout",
     "output_type": "stream",
     "text": [
      "Record already exists: voiceapp\\output\\summaries_folder\\yi_6b_20241213_175238\\CJG_40_2023_11_11-summary_5.txt -> C:/Users/G/Documents/GitHub/audycje.com.pl/content/audio\\CJG_40_2023_11_11.txt\n",
      "Record already exists: voiceapp\\output\\summaries_folder\\yi_6b_20241213_175238\\CJG_41_2023_11_18-summary_1.txt -> C:/Users/G/Documents/GitHub/audycje.com.pl/content/audio\\CJG_41_2023_11_18.txt\n",
      "Record already exists: voiceapp\\output\\summaries_folder\\yi_6b_20241213_175238\\CJG_41_2023_11_18-summary_2.txt -> C:/Users/G/Documents/GitHub/audycje.com.pl/content/audio\\CJG_41_2023_11_18.txt\n",
      "Record already exists: voiceapp\\output\\summaries_folder\\yi_6b_20241213_175238\\CJG_41_2023_11_18-summary_3.txt -> C:/Users/G/Documents/GitHub/audycje.com.pl/content/audio\\CJG_41_2023_11_18.txt\n",
      "Record already exists: voiceapp\\output\\summaries_folder\\yi_6b_20241213_175238\\CJG_41_2023_11_18-summary_4.txt -> C:/Users/G/Documents/GitHub/audycje.com.pl/content/audio\\CJG_41_2023_11_18.txt\n",
      "Record already exists: voiceapp\\output\\summaries_folder\\yi_6b_20241213_175238\\CJG_41_2023_11_18-summary_5.txt -> C:/Users/G/Documents/GitHub/audycje.com.pl/content/audio\\CJG_41_2023_11_18.txt\n",
      "Record already exists: voiceapp\\output\\summaries_folder\\yi_6b_20241213_175238\\CJG_41_2023_11_18-summary_1.txt -> C:/Users/G/Documents/GitHub/audycje.com.pl/content/audio\\CJG_41_2023_11_18.txt\n",
      "Record already exists: voiceapp\\output\\summaries_folder\\yi_6b_20241213_175238\\CJG_41_2023_11_18-summary_2.txt -> C:/Users/G/Documents/GitHub/audycje.com.pl/content/audio\\CJG_41_2023_11_18.txt\n",
      "Record already exists: voiceapp\\output\\summaries_folder\\yi_6b_20241213_175238\\CJG_41_2023_11_18-summary_3.txt -> C:/Users/G/Documents/GitHub/audycje.com.pl/content/audio\\CJG_41_2023_11_18.txt\n",
      "Record already exists: voiceapp\\output\\summaries_folder\\yi_6b_20241213_175238\\CJG_41_2023_11_18-summary_4.txt -> C:/Users/G/Documents/GitHub/audycje.com.pl/content/audio\\CJG_41_2023_11_18.txt\n",
      "Record already exists: voiceapp\\output\\summaries_folder\\yi_6b_20241213_175238\\CJG_41_2023_11_18-summary_5.txt -> C:/Users/G/Documents/GitHub/audycje.com.pl/content/audio\\CJG_41_2023_11_18.txt\n",
      "Record already exists: voiceapp\\output\\summaries_folder\\yi_6b_20241213_175238\\CJG_41_2023_11_18-summary_1.txt -> C:/Users/G/Documents/GitHub/audycje.com.pl/content/audio\\CJG_41_2023_11_18.txt\n",
      "Record already exists: voiceapp\\output\\summaries_folder\\yi_6b_20241213_175238\\CJG_41_2023_11_18-summary_2.txt -> C:/Users/G/Documents/GitHub/audycje.com.pl/content/audio\\CJG_41_2023_11_18.txt\n",
      "Record already exists: voiceapp\\output\\summaries_folder\\yi_6b_20241213_175238\\CJG_41_2023_11_18-summary_3.txt -> C:/Users/G/Documents/GitHub/audycje.com.pl/content/audio\\CJG_41_2023_11_18.txt\n",
      "Record already exists: voiceapp\\output\\summaries_folder\\yi_6b_20241213_175238\\CJG_41_2023_11_18-summary_4.txt -> C:/Users/G/Documents/GitHub/audycje.com.pl/content/audio\\CJG_41_2023_11_18.txt\n"
     ]
    },
    {
     "name": "stderr",
     "output_type": "stream",
     "text": [
      "\n",
      "\n",
      "Summarizing files for yi:6b:  42%|█████████████████████████████████████▏                                                  | 41/97 [51:24<1:21:29, 87.31s/it, file=CJG_40_2023_11_11.txt, summaries_count=20, time=140.41 seconds]\u001b[A\u001b[A\n",
      "\n",
      "Summarizing files for yi:6b:  42%|█████████████████████████████████████▌                                                   | 41/97 [51:24<1:21:29, 87.31s/it, file=CJG_41_2023_11_18.txt, summaries_count=20, time=73.72 seconds]\u001b[A\u001b[A"
     ]
    },
    {
     "name": "stdout",
     "output_type": "stream",
     "text": [
      "Record already exists: voiceapp\\output\\summaries_folder\\yi_6b_20241213_175238\\CJG_41_2023_11_18-summary_5.txt -> C:/Users/G/Documents/GitHub/audycje.com.pl/content/audio\\CJG_41_2023_11_18.txt\n",
      "Record already exists: voiceapp\\output\\summaries_folder\\yi_6b_20241213_175238\\CJG_42_2023_11_25-summary_1.txt -> C:/Users/G/Documents/GitHub/audycje.com.pl/content/audio\\CJG_42_2023_11_25.txt\n",
      "Record already exists: voiceapp\\output\\summaries_folder\\yi_6b_20241213_175238\\CJG_42_2023_11_25-summary_2.txt -> C:/Users/G/Documents/GitHub/audycje.com.pl/content/audio\\CJG_42_2023_11_25.txt\n",
      "Record already exists: voiceapp\\output\\summaries_folder\\yi_6b_20241213_175238\\CJG_42_2023_11_25-summary_3.txt -> C:/Users/G/Documents/GitHub/audycje.com.pl/content/audio\\CJG_42_2023_11_25.txt\n",
      "Record already exists: voiceapp\\output\\summaries_folder\\yi_6b_20241213_175238\\CJG_42_2023_11_25-summary_4.txt -> C:/Users/G/Documents/GitHub/audycje.com.pl/content/audio\\CJG_42_2023_11_25.txt\n",
      "Record already exists: voiceapp\\output\\summaries_folder\\yi_6b_20241213_175238\\CJG_42_2023_11_25-summary_5.txt -> C:/Users/G/Documents/GitHub/audycje.com.pl/content/audio\\CJG_42_2023_11_25.txt\n",
      "Record already exists: voiceapp\\output\\summaries_folder\\yi_6b_20241213_175238\\CJG_42_2023_11_25-summary_1.txt -> C:/Users/G/Documents/GitHub/audycje.com.pl/content/audio\\CJG_42_2023_11_25.txt\n",
      "Record already exists: voiceapp\\output\\summaries_folder\\yi_6b_20241213_175238\\CJG_42_2023_11_25-summary_2.txt -> C:/Users/G/Documents/GitHub/audycje.com.pl/content/audio\\CJG_42_2023_11_25.txt\n",
      "Record already exists: voiceapp\\output\\summaries_folder\\yi_6b_20241213_175238\\CJG_42_2023_11_25-summary_3.txt -> C:/Users/G/Documents/GitHub/audycje.com.pl/content/audio\\CJG_42_2023_11_25.txt\n",
      "Record already exists: voiceapp\\output\\summaries_folder\\yi_6b_20241213_175238\\CJG_42_2023_11_25-summary_4.txt -> C:/Users/G/Documents/GitHub/audycje.com.pl/content/audio\\CJG_42_2023_11_25.txt\n",
      "Record already exists: voiceapp\\output\\summaries_folder\\yi_6b_20241213_175238\\CJG_42_2023_11_25-summary_5.txt -> C:/Users/G/Documents/GitHub/audycje.com.pl/content/audio\\CJG_42_2023_11_25.txt\n",
      "Record already exists: voiceapp\\output\\summaries_folder\\yi_6b_20241213_175238\\CJG_42_2023_11_25-summary_1.txt -> C:/Users/G/Documents/GitHub/audycje.com.pl/content/audio\\CJG_42_2023_11_25.txt\n",
      "Record already exists: voiceapp\\output\\summaries_folder\\yi_6b_20241213_175238\\CJG_42_2023_11_25-summary_2.txt -> C:/Users/G/Documents/GitHub/audycje.com.pl/content/audio\\CJG_42_2023_11_25.txt\n",
      "Record already exists: voiceapp\\output\\summaries_folder\\yi_6b_20241213_175238\\CJG_42_2023_11_25-summary_3.txt -> C:/Users/G/Documents/GitHub/audycje.com.pl/content/audio\\CJG_42_2023_11_25.txt\n",
      "Record already exists: voiceapp\\output\\summaries_folder\\yi_6b_20241213_175238\\CJG_42_2023_11_25-summary_4.txt -> C:/Users/G/Documents/GitHub/audycje.com.pl/content/audio\\CJG_42_2023_11_25.txt\n"
     ]
    },
    {
     "name": "stderr",
     "output_type": "stream",
     "text": [
      "\n",
      "\n",
      "Summarizing files for yi:6b:  43%|██████████████████████████████████████▌                                                  | 42/97 [52:41<1:17:14, 84.26s/it, file=CJG_41_2023_11_18.txt, summaries_count=20, time=73.72 seconds]\u001b[A\u001b[A\n",
      "\n",
      "Summarizing files for yi:6b:  43%|██████████████████████████████████████▌                                                  | 42/97 [52:41<1:17:14, 84.26s/it, file=CJG_42_2023_11_25.txt, summaries_count=20, time=77.14 seconds]\u001b[A\u001b[A"
     ]
    },
    {
     "name": "stdout",
     "output_type": "stream",
     "text": [
      "Record already exists: voiceapp\\output\\summaries_folder\\yi_6b_20241213_175238\\CJG_42_2023_11_25-summary_5.txt -> C:/Users/G/Documents/GitHub/audycje.com.pl/content/audio\\CJG_42_2023_11_25.txt\n",
      "Record already exists: voiceapp\\output\\summaries_folder\\yi_6b_20241213_175238\\CJG_43_2023_12_02-summary_1.txt -> C:/Users/G/Documents/GitHub/audycje.com.pl/content/audio\\CJG_43_2023_12_02.txt\n",
      "Record already exists: voiceapp\\output\\summaries_folder\\yi_6b_20241213_175238\\CJG_43_2023_12_02-summary_2.txt -> C:/Users/G/Documents/GitHub/audycje.com.pl/content/audio\\CJG_43_2023_12_02.txt\n",
      "Record already exists: voiceapp\\output\\summaries_folder\\yi_6b_20241213_175238\\CJG_43_2023_12_02-summary_3.txt -> C:/Users/G/Documents/GitHub/audycje.com.pl/content/audio\\CJG_43_2023_12_02.txt\n",
      "Record already exists: voiceapp\\output\\summaries_folder\\yi_6b_20241213_175238\\CJG_43_2023_12_02-summary_4.txt -> C:/Users/G/Documents/GitHub/audycje.com.pl/content/audio\\CJG_43_2023_12_02.txt\n",
      "Record already exists: voiceapp\\output\\summaries_folder\\yi_6b_20241213_175238\\CJG_43_2023_12_02-summary_5.txt -> C:/Users/G/Documents/GitHub/audycje.com.pl/content/audio\\CJG_43_2023_12_02.txt\n",
      "Record already exists: voiceapp\\output\\summaries_folder\\yi_6b_20241213_175238\\CJG_43_2023_12_02-summary_1.txt -> C:/Users/G/Documents/GitHub/audycje.com.pl/content/audio\\CJG_43_2023_12_02.txt\n",
      "Record already exists: voiceapp\\output\\summaries_folder\\yi_6b_20241213_175238\\CJG_43_2023_12_02-summary_2.txt -> C:/Users/G/Documents/GitHub/audycje.com.pl/content/audio\\CJG_43_2023_12_02.txt\n",
      "Record already exists: voiceapp\\output\\summaries_folder\\yi_6b_20241213_175238\\CJG_43_2023_12_02-summary_3.txt -> C:/Users/G/Documents/GitHub/audycje.com.pl/content/audio\\CJG_43_2023_12_02.txt\n",
      "Record already exists: voiceapp\\output\\summaries_folder\\yi_6b_20241213_175238\\CJG_43_2023_12_02-summary_4.txt -> C:/Users/G/Documents/GitHub/audycje.com.pl/content/audio\\CJG_43_2023_12_02.txt\n",
      "Record already exists: voiceapp\\output\\summaries_folder\\yi_6b_20241213_175238\\CJG_43_2023_12_02-summary_5.txt -> C:/Users/G/Documents/GitHub/audycje.com.pl/content/audio\\CJG_43_2023_12_02.txt\n",
      "Record already exists: voiceapp\\output\\summaries_folder\\yi_6b_20241213_175238\\CJG_43_2023_12_02-summary_1.txt -> C:/Users/G/Documents/GitHub/audycje.com.pl/content/audio\\CJG_43_2023_12_02.txt\n",
      "Record already exists: voiceapp\\output\\summaries_folder\\yi_6b_20241213_175238\\CJG_43_2023_12_02-summary_2.txt -> C:/Users/G/Documents/GitHub/audycje.com.pl/content/audio\\CJG_43_2023_12_02.txt\n",
      "Record already exists: voiceapp\\output\\summaries_folder\\yi_6b_20241213_175238\\CJG_43_2023_12_02-summary_3.txt -> C:/Users/G/Documents/GitHub/audycje.com.pl/content/audio\\CJG_43_2023_12_02.txt\n",
      "Record already exists: voiceapp\\output\\summaries_folder\\yi_6b_20241213_175238\\CJG_43_2023_12_02-summary_4.txt -> C:/Users/G/Documents/GitHub/audycje.com.pl/content/audio\\CJG_43_2023_12_02.txt\n",
      "Record already exists: voiceapp\\output\\summaries_folder\\yi_6b_20241213_175238\\CJG_43_2023_12_02-summary_5.txt -> C:/Users/G/Documents/GitHub/audycje.com.pl/content/audio\\CJG_43_2023_12_02.txt\n",
      "Record already exists: voiceapp\\output\\summaries_folder\\yi_6b_20241213_175238\\CJG_43_2023_12_02-summary_1.txt -> C:/Users/G/Documents/GitHub/audycje.com.pl/content/audio\\CJG_43_2023_12_02.txt\n",
      "Record already exists: voiceapp\\output\\summaries_folder\\yi_6b_20241213_175238\\CJG_43_2023_12_02-summary_2.txt -> C:/Users/G/Documents/GitHub/audycje.com.pl/content/audio\\CJG_43_2023_12_02.txt\n",
      "Record already exists: voiceapp\\output\\summaries_folder\\yi_6b_20241213_175238\\CJG_43_2023_12_02-summary_3.txt -> C:/Users/G/Documents/GitHub/audycje.com.pl/content/audio\\CJG_43_2023_12_02.txt\n",
      "Record already exists: voiceapp\\output\\summaries_folder\\yi_6b_20241213_175238\\CJG_43_2023_12_02-summary_4.txt -> C:/Users/G/Documents/GitHub/audycje.com.pl/content/audio\\CJG_43_2023_12_02.txt\n"
     ]
    },
    {
     "name": "stderr",
     "output_type": "stream",
     "text": [
      "\n",
      "\n",
      "Summarizing files for yi:6b:  44%|███████████████████████████████████████▍                                                 | 43/97 [54:18<1:19:14, 88.05s/it, file=CJG_42_2023_11_25.txt, summaries_count=20, time=77.14 seconds]\u001b[A\u001b[A\n",
      "\n",
      "Summarizing files for yi:6b:  44%|███████████████████████████████████████▍                                                 | 43/97 [54:18<1:19:14, 88.05s/it, file=CJG_43_2023_12_02.txt, summaries_count=25, time=96.90 seconds]\u001b[A\u001b[A"
     ]
    },
    {
     "name": "stdout",
     "output_type": "stream",
     "text": [
      "Record already exists: voiceapp\\output\\summaries_folder\\yi_6b_20241213_175238\\CJG_43_2023_12_02-summary_5.txt -> C:/Users/G/Documents/GitHub/audycje.com.pl/content/audio\\CJG_43_2023_12_02.txt\n",
      "Record already exists: voiceapp\\output\\summaries_folder\\yi_6b_20241213_175238\\CJG_44_2023_12_09-summary_1.txt -> C:/Users/G/Documents/GitHub/audycje.com.pl/content/audio\\CJG_44_2023_12_09.txt\n",
      "Record already exists: voiceapp\\output\\summaries_folder\\yi_6b_20241213_175238\\CJG_44_2023_12_09-summary_2.txt -> C:/Users/G/Documents/GitHub/audycje.com.pl/content/audio\\CJG_44_2023_12_09.txt\n",
      "Record already exists: voiceapp\\output\\summaries_folder\\yi_6b_20241213_175238\\CJG_44_2023_12_09-summary_3.txt -> C:/Users/G/Documents/GitHub/audycje.com.pl/content/audio\\CJG_44_2023_12_09.txt\n",
      "Record already exists: voiceapp\\output\\summaries_folder\\yi_6b_20241213_175238\\CJG_44_2023_12_09-summary_4.txt -> C:/Users/G/Documents/GitHub/audycje.com.pl/content/audio\\CJG_44_2023_12_09.txt\n",
      "Record already exists: voiceapp\\output\\summaries_folder\\yi_6b_20241213_175238\\CJG_44_2023_12_09-summary_5.txt -> C:/Users/G/Documents/GitHub/audycje.com.pl/content/audio\\CJG_44_2023_12_09.txt\n",
      "Record already exists: voiceapp\\output\\summaries_folder\\yi_6b_20241213_175238\\CJG_44_2023_12_09-summary_1.txt -> C:/Users/G/Documents/GitHub/audycje.com.pl/content/audio\\CJG_44_2023_12_09.txt\n",
      "Record already exists: voiceapp\\output\\summaries_folder\\yi_6b_20241213_175238\\CJG_44_2023_12_09-summary_2.txt -> C:/Users/G/Documents/GitHub/audycje.com.pl/content/audio\\CJG_44_2023_12_09.txt\n",
      "Record already exists: voiceapp\\output\\summaries_folder\\yi_6b_20241213_175238\\CJG_44_2023_12_09-summary_3.txt -> C:/Users/G/Documents/GitHub/audycje.com.pl/content/audio\\CJG_44_2023_12_09.txt\n",
      "Record already exists: voiceapp\\output\\summaries_folder\\yi_6b_20241213_175238\\CJG_44_2023_12_09-summary_4.txt -> C:/Users/G/Documents/GitHub/audycje.com.pl/content/audio\\CJG_44_2023_12_09.txt\n",
      "Record already exists: voiceapp\\output\\summaries_folder\\yi_6b_20241213_175238\\CJG_44_2023_12_09-summary_5.txt -> C:/Users/G/Documents/GitHub/audycje.com.pl/content/audio\\CJG_44_2023_12_09.txt\n",
      "Record already exists: voiceapp\\output\\summaries_folder\\yi_6b_20241213_175238\\CJG_44_2023_12_09-summary_1.txt -> C:/Users/G/Documents/GitHub/audycje.com.pl/content/audio\\CJG_44_2023_12_09.txt\n",
      "Record already exists: voiceapp\\output\\summaries_folder\\yi_6b_20241213_175238\\CJG_44_2023_12_09-summary_2.txt -> C:/Users/G/Documents/GitHub/audycje.com.pl/content/audio\\CJG_44_2023_12_09.txt\n",
      "Record already exists: voiceapp\\output\\summaries_folder\\yi_6b_20241213_175238\\CJG_44_2023_12_09-summary_3.txt -> C:/Users/G/Documents/GitHub/audycje.com.pl/content/audio\\CJG_44_2023_12_09.txt\n",
      "Record already exists: voiceapp\\output\\summaries_folder\\yi_6b_20241213_175238\\CJG_44_2023_12_09-summary_4.txt -> C:/Users/G/Documents/GitHub/audycje.com.pl/content/audio\\CJG_44_2023_12_09.txt\n"
     ]
    },
    {
     "name": "stderr",
     "output_type": "stream",
     "text": [
      "\n",
      "\n",
      "Summarizing files for yi:6b:  45%|████████████████████████████████████████▎                                                | 44/97 [55:34<1:14:41, 84.56s/it, file=CJG_43_2023_12_02.txt, summaries_count=25, time=96.90 seconds]\u001b[A\u001b[A\n",
      "\n",
      "Summarizing files for yi:6b:  45%|████████████████████████████████████████▎                                                | 44/97 [55:34<1:14:41, 84.56s/it, file=CJG_44_2023_12_09.txt, summaries_count=20, time=76.40 seconds]\u001b[A\u001b[A"
     ]
    },
    {
     "name": "stdout",
     "output_type": "stream",
     "text": [
      "Record already exists: voiceapp\\output\\summaries_folder\\yi_6b_20241213_175238\\CJG_44_2023_12_09-summary_5.txt -> C:/Users/G/Documents/GitHub/audycje.com.pl/content/audio\\CJG_44_2023_12_09.txt\n",
      "Record already exists: voiceapp\\output\\summaries_folder\\yi_6b_20241213_175238\\CJG_45_2023_12_16-summary_1.txt -> C:/Users/G/Documents/GitHub/audycje.com.pl/content/audio\\CJG_45_2023_12_16.txt\n",
      "Record already exists: voiceapp\\output\\summaries_folder\\yi_6b_20241213_175238\\CJG_45_2023_12_16-summary_2.txt -> C:/Users/G/Documents/GitHub/audycje.com.pl/content/audio\\CJG_45_2023_12_16.txt\n",
      "Record already exists: voiceapp\\output\\summaries_folder\\yi_6b_20241213_175238\\CJG_45_2023_12_16-summary_3.txt -> C:/Users/G/Documents/GitHub/audycje.com.pl/content/audio\\CJG_45_2023_12_16.txt\n",
      "Record already exists: voiceapp\\output\\summaries_folder\\yi_6b_20241213_175238\\CJG_45_2023_12_16-summary_4.txt -> C:/Users/G/Documents/GitHub/audycje.com.pl/content/audio\\CJG_45_2023_12_16.txt\n",
      "Record already exists: voiceapp\\output\\summaries_folder\\yi_6b_20241213_175238\\CJG_45_2023_12_16-summary_5.txt -> C:/Users/G/Documents/GitHub/audycje.com.pl/content/audio\\CJG_45_2023_12_16.txt\n",
      "Record already exists: voiceapp\\output\\summaries_folder\\yi_6b_20241213_175238\\CJG_45_2023_12_16-summary_1.txt -> C:/Users/G/Documents/GitHub/audycje.com.pl/content/audio\\CJG_45_2023_12_16.txt\n",
      "Record already exists: voiceapp\\output\\summaries_folder\\yi_6b_20241213_175238\\CJG_45_2023_12_16-summary_2.txt -> C:/Users/G/Documents/GitHub/audycje.com.pl/content/audio\\CJG_45_2023_12_16.txt\n",
      "Record already exists: voiceapp\\output\\summaries_folder\\yi_6b_20241213_175238\\CJG_45_2023_12_16-summary_3.txt -> C:/Users/G/Documents/GitHub/audycje.com.pl/content/audio\\CJG_45_2023_12_16.txt\n",
      "Record already exists: voiceapp\\output\\summaries_folder\\yi_6b_20241213_175238\\CJG_45_2023_12_16-summary_4.txt -> C:/Users/G/Documents/GitHub/audycje.com.pl/content/audio\\CJG_45_2023_12_16.txt\n",
      "Record already exists: voiceapp\\output\\summaries_folder\\yi_6b_20241213_175238\\CJG_45_2023_12_16-summary_5.txt -> C:/Users/G/Documents/GitHub/audycje.com.pl/content/audio\\CJG_45_2023_12_16.txt\n",
      "Record already exists: voiceapp\\output\\summaries_folder\\yi_6b_20241213_175238\\CJG_45_2023_12_16-summary_1.txt -> C:/Users/G/Documents/GitHub/audycje.com.pl/content/audio\\CJG_45_2023_12_16.txt\n",
      "Record already exists: voiceapp\\output\\summaries_folder\\yi_6b_20241213_175238\\CJG_45_2023_12_16-summary_2.txt -> C:/Users/G/Documents/GitHub/audycje.com.pl/content/audio\\CJG_45_2023_12_16.txt\n",
      "Record already exists: voiceapp\\output\\summaries_folder\\yi_6b_20241213_175238\\CJG_45_2023_12_16-summary_3.txt -> C:/Users/G/Documents/GitHub/audycje.com.pl/content/audio\\CJG_45_2023_12_16.txt\n",
      "Record already exists: voiceapp\\output\\summaries_folder\\yi_6b_20241213_175238\\CJG_45_2023_12_16-summary_4.txt -> C:/Users/G/Documents/GitHub/audycje.com.pl/content/audio\\CJG_45_2023_12_16.txt\n"
     ]
    },
    {
     "name": "stderr",
     "output_type": "stream",
     "text": [
      "\n",
      "\n",
      "Summarizing files for yi:6b:  46%|█████████████████████████████████████████▎                                               | 45/97 [57:01<1:13:52, 85.23s/it, file=CJG_44_2023_12_09.txt, summaries_count=20, time=76.40 seconds]\u001b[A\u001b[A\n",
      "\n",
      "Summarizing files for yi:6b:  46%|█████████████████████████████████████████▎                                               | 45/97 [57:01<1:13:52, 85.23s/it, file=CJG_45_2023_12_16.txt, summaries_count=20, time=86.81 seconds]\u001b[A\u001b[A"
     ]
    },
    {
     "name": "stdout",
     "output_type": "stream",
     "text": [
      "Record already exists: voiceapp\\output\\summaries_folder\\yi_6b_20241213_175238\\CJG_45_2023_12_16-summary_5.txt -> C:/Users/G/Documents/GitHub/audycje.com.pl/content/audio\\CJG_45_2023_12_16.txt\n",
      "Record already exists: voiceapp\\output\\summaries_folder\\yi_6b_20241213_175238\\CJG_46_2023_12_23-summary_1.txt -> C:/Users/G/Documents/GitHub/audycje.com.pl/content/audio\\CJG_46_2023_12_23.txt\n",
      "Record already exists: voiceapp\\output\\summaries_folder\\yi_6b_20241213_175238\\CJG_46_2023_12_23-summary_2.txt -> C:/Users/G/Documents/GitHub/audycje.com.pl/content/audio\\CJG_46_2023_12_23.txt\n",
      "Record already exists: voiceapp\\output\\summaries_folder\\yi_6b_20241213_175238\\CJG_46_2023_12_23-summary_3.txt -> C:/Users/G/Documents/GitHub/audycje.com.pl/content/audio\\CJG_46_2023_12_23.txt\n",
      "Record already exists: voiceapp\\output\\summaries_folder\\yi_6b_20241213_175238\\CJG_46_2023_12_23-summary_4.txt -> C:/Users/G/Documents/GitHub/audycje.com.pl/content/audio\\CJG_46_2023_12_23.txt\n",
      "Record already exists: voiceapp\\output\\summaries_folder\\yi_6b_20241213_175238\\CJG_46_2023_12_23-summary_5.txt -> C:/Users/G/Documents/GitHub/audycje.com.pl/content/audio\\CJG_46_2023_12_23.txt\n",
      "Record already exists: voiceapp\\output\\summaries_folder\\yi_6b_20241213_175238\\CJG_46_2023_12_23-summary_1.txt -> C:/Users/G/Documents/GitHub/audycje.com.pl/content/audio\\CJG_46_2023_12_23.txt\n",
      "Record already exists: voiceapp\\output\\summaries_folder\\yi_6b_20241213_175238\\CJG_46_2023_12_23-summary_2.txt -> C:/Users/G/Documents/GitHub/audycje.com.pl/content/audio\\CJG_46_2023_12_23.txt\n",
      "Record already exists: voiceapp\\output\\summaries_folder\\yi_6b_20241213_175238\\CJG_46_2023_12_23-summary_3.txt -> C:/Users/G/Documents/GitHub/audycje.com.pl/content/audio\\CJG_46_2023_12_23.txt\n",
      "Record already exists: voiceapp\\output\\summaries_folder\\yi_6b_20241213_175238\\CJG_46_2023_12_23-summary_4.txt -> C:/Users/G/Documents/GitHub/audycje.com.pl/content/audio\\CJG_46_2023_12_23.txt\n",
      "Record already exists: voiceapp\\output\\summaries_folder\\yi_6b_20241213_175238\\CJG_46_2023_12_23-summary_5.txt -> C:/Users/G/Documents/GitHub/audycje.com.pl/content/audio\\CJG_46_2023_12_23.txt\n",
      "Record already exists: voiceapp\\output\\summaries_folder\\yi_6b_20241213_175238\\CJG_46_2023_12_23-summary_1.txt -> C:/Users/G/Documents/GitHub/audycje.com.pl/content/audio\\CJG_46_2023_12_23.txt\n",
      "Record already exists: voiceapp\\output\\summaries_folder\\yi_6b_20241213_175238\\CJG_46_2023_12_23-summary_2.txt -> C:/Users/G/Documents/GitHub/audycje.com.pl/content/audio\\CJG_46_2023_12_23.txt\n",
      "Record already exists: voiceapp\\output\\summaries_folder\\yi_6b_20241213_175238\\CJG_46_2023_12_23-summary_3.txt -> C:/Users/G/Documents/GitHub/audycje.com.pl/content/audio\\CJG_46_2023_12_23.txt\n",
      "Record already exists: voiceapp\\output\\summaries_folder\\yi_6b_20241213_175238\\CJG_46_2023_12_23-summary_4.txt -> C:/Users/G/Documents/GitHub/audycje.com.pl/content/audio\\CJG_46_2023_12_23.txt\n"
     ]
    },
    {
     "name": "stderr",
     "output_type": "stream",
     "text": [
      "\n",
      "\n",
      "Summarizing files for yi:6b:  47%|██████████████████████████████████████████▏                                              | 46/97 [58:21<1:11:02, 83.57s/it, file=CJG_45_2023_12_16.txt, summaries_count=20, time=86.81 seconds]\u001b[A\u001b[A\n",
      "\n",
      "Summarizing files for yi:6b:  47%|██████████████████████████████████████████▏                                              | 46/97 [58:21<1:11:02, 83.57s/it, file=CJG_46_2023_12_23.txt, summaries_count=20, time=79.69 seconds]\u001b[A\u001b[A"
     ]
    },
    {
     "name": "stdout",
     "output_type": "stream",
     "text": [
      "Record already exists: voiceapp\\output\\summaries_folder\\yi_6b_20241213_175238\\CJG_46_2023_12_23-summary_5.txt -> C:/Users/G/Documents/GitHub/audycje.com.pl/content/audio\\CJG_46_2023_12_23.txt\n",
      "Record already exists: voiceapp\\output\\summaries_folder\\yi_6b_20241213_175238\\CJG_47_2023_12_30-summary_1.txt -> C:/Users/G/Documents/GitHub/audycje.com.pl/content/audio\\CJG_47_2023_12_30.txt\n",
      "Record already exists: voiceapp\\output\\summaries_folder\\yi_6b_20241213_175238\\CJG_47_2023_12_30-summary_2.txt -> C:/Users/G/Documents/GitHub/audycje.com.pl/content/audio\\CJG_47_2023_12_30.txt\n",
      "Record already exists: voiceapp\\output\\summaries_folder\\yi_6b_20241213_175238\\CJG_47_2023_12_30-summary_3.txt -> C:/Users/G/Documents/GitHub/audycje.com.pl/content/audio\\CJG_47_2023_12_30.txt\n",
      "Record already exists: voiceapp\\output\\summaries_folder\\yi_6b_20241213_175238\\CJG_47_2023_12_30-summary_4.txt -> C:/Users/G/Documents/GitHub/audycje.com.pl/content/audio\\CJG_47_2023_12_30.txt\n",
      "Record already exists: voiceapp\\output\\summaries_folder\\yi_6b_20241213_175238\\CJG_47_2023_12_30-summary_5.txt -> C:/Users/G/Documents/GitHub/audycje.com.pl/content/audio\\CJG_47_2023_12_30.txt\n",
      "Record already exists: voiceapp\\output\\summaries_folder\\yi_6b_20241213_175238\\CJG_47_2023_12_30-summary_1.txt -> C:/Users/G/Documents/GitHub/audycje.com.pl/content/audio\\CJG_47_2023_12_30.txt\n",
      "Record already exists: voiceapp\\output\\summaries_folder\\yi_6b_20241213_175238\\CJG_47_2023_12_30-summary_2.txt -> C:/Users/G/Documents/GitHub/audycje.com.pl/content/audio\\CJG_47_2023_12_30.txt\n",
      "Record already exists: voiceapp\\output\\summaries_folder\\yi_6b_20241213_175238\\CJG_47_2023_12_30-summary_3.txt -> C:/Users/G/Documents/GitHub/audycje.com.pl/content/audio\\CJG_47_2023_12_30.txt\n",
      "Record already exists: voiceapp\\output\\summaries_folder\\yi_6b_20241213_175238\\CJG_47_2023_12_30-summary_4.txt -> C:/Users/G/Documents/GitHub/audycje.com.pl/content/audio\\CJG_47_2023_12_30.txt\n",
      "Record already exists: voiceapp\\output\\summaries_folder\\yi_6b_20241213_175238\\CJG_47_2023_12_30-summary_5.txt -> C:/Users/G/Documents/GitHub/audycje.com.pl/content/audio\\CJG_47_2023_12_30.txt\n",
      "Record already exists: voiceapp\\output\\summaries_folder\\yi_6b_20241213_175238\\CJG_47_2023_12_30-summary_1.txt -> C:/Users/G/Documents/GitHub/audycje.com.pl/content/audio\\CJG_47_2023_12_30.txt\n",
      "Record already exists: voiceapp\\output\\summaries_folder\\yi_6b_20241213_175238\\CJG_47_2023_12_30-summary_2.txt -> C:/Users/G/Documents/GitHub/audycje.com.pl/content/audio\\CJG_47_2023_12_30.txt\n",
      "Record already exists: voiceapp\\output\\summaries_folder\\yi_6b_20241213_175238\\CJG_47_2023_12_30-summary_3.txt -> C:/Users/G/Documents/GitHub/audycje.com.pl/content/audio\\CJG_47_2023_12_30.txt\n",
      "Record already exists: voiceapp\\output\\summaries_folder\\yi_6b_20241213_175238\\CJG_47_2023_12_30-summary_4.txt -> C:/Users/G/Documents/GitHub/audycje.com.pl/content/audio\\CJG_47_2023_12_30.txt\n"
     ]
    },
    {
     "name": "stderr",
     "output_type": "stream",
     "text": [
      "\n",
      "\n",
      "Summarizing files for yi:6b:  48%|███████████████████████████████████████████                                              | 47/97 [59:32<1:06:42, 80.05s/it, file=CJG_46_2023_12_23.txt, summaries_count=20, time=79.69 seconds]\u001b[A\u001b[A\n",
      "\n",
      "Summarizing files for yi:6b:  48%|███████████████████████████████████████████                                              | 47/97 [59:32<1:06:42, 80.05s/it, file=CJG_47_2023_12_30.txt, summaries_count=20, time=71.85 seconds]\u001b[A\u001b[A"
     ]
    },
    {
     "name": "stdout",
     "output_type": "stream",
     "text": [
      "Record already exists: voiceapp\\output\\summaries_folder\\yi_6b_20241213_175238\\CJG_47_2023_12_30-summary_5.txt -> C:/Users/G/Documents/GitHub/audycje.com.pl/content/audio\\CJG_47_2023_12_30.txt\n",
      "Record already exists: voiceapp\\output\\summaries_folder\\yi_6b_20241213_175238\\CJG_48_2024_01_06-summary_1.txt -> C:/Users/G/Documents/GitHub/audycje.com.pl/content/audio\\CJG_48_2024_01_06.txt\n",
      "Record already exists: voiceapp\\output\\summaries_folder\\yi_6b_20241213_175238\\CJG_48_2024_01_06-summary_2.txt -> C:/Users/G/Documents/GitHub/audycje.com.pl/content/audio\\CJG_48_2024_01_06.txt\n",
      "Record already exists: voiceapp\\output\\summaries_folder\\yi_6b_20241213_175238\\CJG_48_2024_01_06-summary_3.txt -> C:/Users/G/Documents/GitHub/audycje.com.pl/content/audio\\CJG_48_2024_01_06.txt\n",
      "Record already exists: voiceapp\\output\\summaries_folder\\yi_6b_20241213_175238\\CJG_48_2024_01_06-summary_4.txt -> C:/Users/G/Documents/GitHub/audycje.com.pl/content/audio\\CJG_48_2024_01_06.txt\n",
      "Record already exists: voiceapp\\output\\summaries_folder\\yi_6b_20241213_175238\\CJG_48_2024_01_06-summary_5.txt -> C:/Users/G/Documents/GitHub/audycje.com.pl/content/audio\\CJG_48_2024_01_06.txt\n",
      "Record already exists: voiceapp\\output\\summaries_folder\\yi_6b_20241213_175238\\CJG_48_2024_01_06-summary_1.txt -> C:/Users/G/Documents/GitHub/audycje.com.pl/content/audio\\CJG_48_2024_01_06.txt\n",
      "Record already exists: voiceapp\\output\\summaries_folder\\yi_6b_20241213_175238\\CJG_48_2024_01_06-summary_2.txt -> C:/Users/G/Documents/GitHub/audycje.com.pl/content/audio\\CJG_48_2024_01_06.txt\n",
      "Record already exists: voiceapp\\output\\summaries_folder\\yi_6b_20241213_175238\\CJG_48_2024_01_06-summary_3.txt -> C:/Users/G/Documents/GitHub/audycje.com.pl/content/audio\\CJG_48_2024_01_06.txt\n",
      "Record already exists: voiceapp\\output\\summaries_folder\\yi_6b_20241213_175238\\CJG_48_2024_01_06-summary_4.txt -> C:/Users/G/Documents/GitHub/audycje.com.pl/content/audio\\CJG_48_2024_01_06.txt\n",
      "Record already exists: voiceapp\\output\\summaries_folder\\yi_6b_20241213_175238\\CJG_48_2024_01_06-summary_5.txt -> C:/Users/G/Documents/GitHub/audycje.com.pl/content/audio\\CJG_48_2024_01_06.txt\n",
      "Record already exists: voiceapp\\output\\summaries_folder\\yi_6b_20241213_175238\\CJG_48_2024_01_06-summary_1.txt -> C:/Users/G/Documents/GitHub/audycje.com.pl/content/audio\\CJG_48_2024_01_06.txt\n",
      "Record already exists: voiceapp\\output\\summaries_folder\\yi_6b_20241213_175238\\CJG_48_2024_01_06-summary_2.txt -> C:/Users/G/Documents/GitHub/audycje.com.pl/content/audio\\CJG_48_2024_01_06.txt\n",
      "Record already exists: voiceapp\\output\\summaries_folder\\yi_6b_20241213_175238\\CJG_48_2024_01_06-summary_3.txt -> C:/Users/G/Documents/GitHub/audycje.com.pl/content/audio\\CJG_48_2024_01_06.txt\n",
      "Record already exists: voiceapp\\output\\summaries_folder\\yi_6b_20241213_175238\\CJG_48_2024_01_06-summary_4.txt -> C:/Users/G/Documents/GitHub/audycje.com.pl/content/audio\\CJG_48_2024_01_06.txt\n"
     ]
    },
    {
     "name": "stderr",
     "output_type": "stream",
     "text": [
      "\n",
      "\n",
      "Summarizing files for yi:6b:  49%|███████████████████████████████████████████                                            | 48/97 [1:00:57<1:06:32, 81.47s/it, file=CJG_47_2023_12_30.txt, summaries_count=20, time=71.85 seconds]\u001b[A\u001b[A\n",
      "\n",
      "Summarizing files for yi:6b:  49%|███████████████████████████████████████████                                            | 48/97 [1:00:57<1:06:32, 81.47s/it, file=CJG_48_2024_01_06.txt, summaries_count=20, time=84.78 seconds]\u001b[A\u001b[A"
     ]
    },
    {
     "name": "stdout",
     "output_type": "stream",
     "text": [
      "Record already exists: voiceapp\\output\\summaries_folder\\yi_6b_20241213_175238\\CJG_48_2024_01_06-summary_5.txt -> C:/Users/G/Documents/GitHub/audycje.com.pl/content/audio\\CJG_48_2024_01_06.txt\n",
      "Record already exists: voiceapp\\output\\summaries_folder\\yi_6b_20241213_175238\\CJG_49_2024_01_13-summary_1.txt -> C:/Users/G/Documents/GitHub/audycje.com.pl/content/audio\\CJG_49_2024_01_13.txt\n",
      "Record already exists: voiceapp\\output\\summaries_folder\\yi_6b_20241213_175238\\CJG_49_2024_01_13-summary_2.txt -> C:/Users/G/Documents/GitHub/audycje.com.pl/content/audio\\CJG_49_2024_01_13.txt\n",
      "Record already exists: voiceapp\\output\\summaries_folder\\yi_6b_20241213_175238\\CJG_49_2024_01_13-summary_3.txt -> C:/Users/G/Documents/GitHub/audycje.com.pl/content/audio\\CJG_49_2024_01_13.txt\n",
      "Record already exists: voiceapp\\output\\summaries_folder\\yi_6b_20241213_175238\\CJG_49_2024_01_13-summary_4.txt -> C:/Users/G/Documents/GitHub/audycje.com.pl/content/audio\\CJG_49_2024_01_13.txt\n",
      "Record already exists: voiceapp\\output\\summaries_folder\\yi_6b_20241213_175238\\CJG_49_2024_01_13-summary_5.txt -> C:/Users/G/Documents/GitHub/audycje.com.pl/content/audio\\CJG_49_2024_01_13.txt\n",
      "Record already exists: voiceapp\\output\\summaries_folder\\yi_6b_20241213_175238\\CJG_49_2024_01_13-summary_1.txt -> C:/Users/G/Documents/GitHub/audycje.com.pl/content/audio\\CJG_49_2024_01_13.txt\n",
      "Record already exists: voiceapp\\output\\summaries_folder\\yi_6b_20241213_175238\\CJG_49_2024_01_13-summary_2.txt -> C:/Users/G/Documents/GitHub/audycje.com.pl/content/audio\\CJG_49_2024_01_13.txt\n",
      "Record already exists: voiceapp\\output\\summaries_folder\\yi_6b_20241213_175238\\CJG_49_2024_01_13-summary_3.txt -> C:/Users/G/Documents/GitHub/audycje.com.pl/content/audio\\CJG_49_2024_01_13.txt\n",
      "Record already exists: voiceapp\\output\\summaries_folder\\yi_6b_20241213_175238\\CJG_49_2024_01_13-summary_4.txt -> C:/Users/G/Documents/GitHub/audycje.com.pl/content/audio\\CJG_49_2024_01_13.txt\n"
     ]
    },
    {
     "name": "stderr",
     "output_type": "stream",
     "text": [
      "\n",
      "\n",
      "Summarizing files for yi:6b:  51%|████████████████████████████████████████████▉                                            | 49/97 [1:01:47<57:40, 72.09s/it, file=CJG_48_2024_01_06.txt, summaries_count=20, time=84.78 seconds]\u001b[A\u001b[A\n",
      "\n",
      "Summarizing files for yi:6b:  51%|████████████████████████████████████████████▉                                            | 49/97 [1:01:47<57:40, 72.09s/it, file=CJG_49_2024_01_13.txt, summaries_count=15, time=50.21 seconds]\u001b[A\u001b[A"
     ]
    },
    {
     "name": "stdout",
     "output_type": "stream",
     "text": [
      "Record already exists: voiceapp\\output\\summaries_folder\\yi_6b_20241213_175238\\CJG_49_2024_01_13-summary_5.txt -> C:/Users/G/Documents/GitHub/audycje.com.pl/content/audio\\CJG_49_2024_01_13.txt\n",
      "Record already exists: voiceapp\\output\\summaries_folder\\yi_6b_20241213_175238\\CJG_50_2024_01_20-summary_1.txt -> C:/Users/G/Documents/GitHub/audycje.com.pl/content/audio\\CJG_50_2024_01_20.txt\n",
      "Record already exists: voiceapp\\output\\summaries_folder\\yi_6b_20241213_175238\\CJG_50_2024_01_20-summary_2.txt -> C:/Users/G/Documents/GitHub/audycje.com.pl/content/audio\\CJG_50_2024_01_20.txt\n",
      "Record already exists: voiceapp\\output\\summaries_folder\\yi_6b_20241213_175238\\CJG_50_2024_01_20-summary_3.txt -> C:/Users/G/Documents/GitHub/audycje.com.pl/content/audio\\CJG_50_2024_01_20.txt\n",
      "Record already exists: voiceapp\\output\\summaries_folder\\yi_6b_20241213_175238\\CJG_50_2024_01_20-summary_4.txt -> C:/Users/G/Documents/GitHub/audycje.com.pl/content/audio\\CJG_50_2024_01_20.txt\n",
      "Record already exists: voiceapp\\output\\summaries_folder\\yi_6b_20241213_175238\\CJG_50_2024_01_20-summary_5.txt -> C:/Users/G/Documents/GitHub/audycje.com.pl/content/audio\\CJG_50_2024_01_20.txt\n",
      "Record already exists: voiceapp\\output\\summaries_folder\\yi_6b_20241213_175238\\CJG_50_2024_01_20-summary_1.txt -> C:/Users/G/Documents/GitHub/audycje.com.pl/content/audio\\CJG_50_2024_01_20.txt\n",
      "Record already exists: voiceapp\\output\\summaries_folder\\yi_6b_20241213_175238\\CJG_50_2024_01_20-summary_2.txt -> C:/Users/G/Documents/GitHub/audycje.com.pl/content/audio\\CJG_50_2024_01_20.txt\n",
      "Record already exists: voiceapp\\output\\summaries_folder\\yi_6b_20241213_175238\\CJG_50_2024_01_20-summary_3.txt -> C:/Users/G/Documents/GitHub/audycje.com.pl/content/audio\\CJG_50_2024_01_20.txt\n",
      "Record already exists: voiceapp\\output\\summaries_folder\\yi_6b_20241213_175238\\CJG_50_2024_01_20-summary_4.txt -> C:/Users/G/Documents/GitHub/audycje.com.pl/content/audio\\CJG_50_2024_01_20.txt\n",
      "Record already exists: voiceapp\\output\\summaries_folder\\yi_6b_20241213_175238\\CJG_50_2024_01_20-summary_5.txt -> C:/Users/G/Documents/GitHub/audycje.com.pl/content/audio\\CJG_50_2024_01_20.txt\n",
      "Record already exists: voiceapp\\output\\summaries_folder\\yi_6b_20241213_175238\\CJG_50_2024_01_20-summary_1.txt -> C:/Users/G/Documents/GitHub/audycje.com.pl/content/audio\\CJG_50_2024_01_20.txt\n",
      "Record already exists: voiceapp\\output\\summaries_folder\\yi_6b_20241213_175238\\CJG_50_2024_01_20-summary_2.txt -> C:/Users/G/Documents/GitHub/audycje.com.pl/content/audio\\CJG_50_2024_01_20.txt\n",
      "Record already exists: voiceapp\\output\\summaries_folder\\yi_6b_20241213_175238\\CJG_50_2024_01_20-summary_3.txt -> C:/Users/G/Documents/GitHub/audycje.com.pl/content/audio\\CJG_50_2024_01_20.txt\n",
      "Record already exists: voiceapp\\output\\summaries_folder\\yi_6b_20241213_175238\\CJG_50_2024_01_20-summary_4.txt -> C:/Users/G/Documents/GitHub/audycje.com.pl/content/audio\\CJG_50_2024_01_20.txt\n"
     ]
    },
    {
     "name": "stderr",
     "output_type": "stream",
     "text": [
      "\n",
      "\n",
      "Summarizing files for yi:6b:  52%|█████████████████████████████████████████████▉                                           | 50/97 [1:03:05<57:48, 73.80s/it, file=CJG_49_2024_01_13.txt, summaries_count=15, time=50.21 seconds]\u001b[A\u001b[A\n",
      "\n",
      "Summarizing files for yi:6b:  52%|█████████████████████████████████████████████▉                                           | 50/97 [1:03:05<57:48, 73.80s/it, file=CJG_50_2024_01_20.txt, summaries_count=20, time=77.79 seconds]\u001b[A\u001b[A"
     ]
    },
    {
     "name": "stdout",
     "output_type": "stream",
     "text": [
      "Record already exists: voiceapp\\output\\summaries_folder\\yi_6b_20241213_175238\\CJG_50_2024_01_20-summary_5.txt -> C:/Users/G/Documents/GitHub/audycje.com.pl/content/audio\\CJG_50_2024_01_20.txt\n",
      "Record already exists: voiceapp\\output\\summaries_folder\\yi_6b_20241213_175238\\CJG_51_2024_01_27-summary_1.txt -> C:/Users/G/Documents/GitHub/audycje.com.pl/content/audio\\CJG_51_2024_01_27.txt\n",
      "Record already exists: voiceapp\\output\\summaries_folder\\yi_6b_20241213_175238\\CJG_51_2024_01_27-summary_2.txt -> C:/Users/G/Documents/GitHub/audycje.com.pl/content/audio\\CJG_51_2024_01_27.txt\n",
      "Record already exists: voiceapp\\output\\summaries_folder\\yi_6b_20241213_175238\\CJG_51_2024_01_27-summary_3.txt -> C:/Users/G/Documents/GitHub/audycje.com.pl/content/audio\\CJG_51_2024_01_27.txt\n",
      "Record already exists: voiceapp\\output\\summaries_folder\\yi_6b_20241213_175238\\CJG_51_2024_01_27-summary_4.txt -> C:/Users/G/Documents/GitHub/audycje.com.pl/content/audio\\CJG_51_2024_01_27.txt\n",
      "Record already exists: voiceapp\\output\\summaries_folder\\yi_6b_20241213_175238\\CJG_51_2024_01_27-summary_5.txt -> C:/Users/G/Documents/GitHub/audycje.com.pl/content/audio\\CJG_51_2024_01_27.txt\n",
      "Record already exists: voiceapp\\output\\summaries_folder\\yi_6b_20241213_175238\\CJG_51_2024_01_27-summary_1.txt -> C:/Users/G/Documents/GitHub/audycje.com.pl/content/audio\\CJG_51_2024_01_27.txt\n",
      "Record already exists: voiceapp\\output\\summaries_folder\\yi_6b_20241213_175238\\CJG_51_2024_01_27-summary_2.txt -> C:/Users/G/Documents/GitHub/audycje.com.pl/content/audio\\CJG_51_2024_01_27.txt\n",
      "Record already exists: voiceapp\\output\\summaries_folder\\yi_6b_20241213_175238\\CJG_51_2024_01_27-summary_3.txt -> C:/Users/G/Documents/GitHub/audycje.com.pl/content/audio\\CJG_51_2024_01_27.txt\n",
      "Record already exists: voiceapp\\output\\summaries_folder\\yi_6b_20241213_175238\\CJG_51_2024_01_27-summary_4.txt -> C:/Users/G/Documents/GitHub/audycje.com.pl/content/audio\\CJG_51_2024_01_27.txt\n",
      "Record already exists: voiceapp\\output\\summaries_folder\\yi_6b_20241213_175238\\CJG_51_2024_01_27-summary_5.txt -> C:/Users/G/Documents/GitHub/audycje.com.pl/content/audio\\CJG_51_2024_01_27.txt\n",
      "Record already exists: voiceapp\\output\\summaries_folder\\yi_6b_20241213_175238\\CJG_51_2024_01_27-summary_1.txt -> C:/Users/G/Documents/GitHub/audycje.com.pl/content/audio\\CJG_51_2024_01_27.txt\n",
      "Record already exists: voiceapp\\output\\summaries_folder\\yi_6b_20241213_175238\\CJG_51_2024_01_27-summary_2.txt -> C:/Users/G/Documents/GitHub/audycje.com.pl/content/audio\\CJG_51_2024_01_27.txt\n",
      "Record already exists: voiceapp\\output\\summaries_folder\\yi_6b_20241213_175238\\CJG_51_2024_01_27-summary_3.txt -> C:/Users/G/Documents/GitHub/audycje.com.pl/content/audio\\CJG_51_2024_01_27.txt\n",
      "Record already exists: voiceapp\\output\\summaries_folder\\yi_6b_20241213_175238\\CJG_51_2024_01_27-summary_4.txt -> C:/Users/G/Documents/GitHub/audycje.com.pl/content/audio\\CJG_51_2024_01_27.txt\n"
     ]
    },
    {
     "name": "stderr",
     "output_type": "stream",
     "text": [
      "\n",
      "\n",
      "Summarizing files for yi:6b:  53%|██████████████████████████████████████████████▊                                          | 51/97 [1:04:23<57:23, 74.87s/it, file=CJG_50_2024_01_20.txt, summaries_count=20, time=77.79 seconds]\u001b[A\u001b[A\n",
      "\n",
      "Summarizing files for yi:6b:  53%|██████████████████████████████████████████████▊                                          | 51/97 [1:04:23<57:23, 74.87s/it, file=CJG_51_2024_01_27.txt, summaries_count=20, time=77.35 seconds]\u001b[A\u001b[A"
     ]
    },
    {
     "name": "stdout",
     "output_type": "stream",
     "text": [
      "Record already exists: voiceapp\\output\\summaries_folder\\yi_6b_20241213_175238\\CJG_51_2024_01_27-summary_5.txt -> C:/Users/G/Documents/GitHub/audycje.com.pl/content/audio\\CJG_51_2024_01_27.txt\n"
     ]
    },
    {
     "name": "stderr",
     "output_type": "stream",
     "text": [
      "\n",
      "\n",
      "Summarizing files for yi:6b:  54%|███████████████████████████████████████████████▋                                         | 52/97 [1:04:42<43:36, 58.14s/it, file=CJG_51_2024_01_27.txt, summaries_count=20, time=77.35 seconds]\u001b[A\u001b[A\n",
      "\n",
      "Summarizing files for yi:6b:  54%|████████████████████████████████████████████████████                                             | 52/97 [1:04:42<43:36, 58.14s/it, file=CJG - AI 1.txt, summaries_count=5, time=19.10 seconds]\u001b[A\u001b[A"
     ]
    },
    {
     "name": "stdout",
     "output_type": "stream",
     "text": [
      "Record already exists: voiceapp\\output\\summaries_folder\\yi_6b_20241213_175238\\CJG - ambergold 1-summary_1.txt -> C:/Users/G/Documents/GitHub/audycje.com.pl/content/audio\\shorts\\CJG - ambergold 1.txt\n",
      "Record already exists: voiceapp\\output\\summaries_folder\\yi_6b_20241213_175238\\CJG - ambergold 1-summary_2.txt -> C:/Users/G/Documents/GitHub/audycje.com.pl/content/audio\\shorts\\CJG - ambergold 1.txt\n",
      "Record already exists: voiceapp\\output\\summaries_folder\\yi_6b_20241213_175238\\CJG - ambergold 1-summary_3.txt -> C:/Users/G/Documents/GitHub/audycje.com.pl/content/audio\\shorts\\CJG - ambergold 1.txt\n",
      "Record already exists: voiceapp\\output\\summaries_folder\\yi_6b_20241213_175238\\CJG - ambergold 1-summary_4.txt -> C:/Users/G/Documents/GitHub/audycje.com.pl/content/audio\\shorts\\CJG - ambergold 1.txt\n"
     ]
    },
    {
     "name": "stderr",
     "output_type": "stream",
     "text": [
      "\n",
      "\n",
      "Summarizing files for yi:6b:  55%|████████████████████████████████████████████████████▉                                            | 53/97 [1:05:28<40:03, 54.63s/it, file=CJG - AI 1.txt, summaries_count=5, time=19.10 seconds]\u001b[A\u001b[A\n",
      "\n",
      "Summarizing files for yi:6b:  55%|████████████████████████████████████████████████▋                                        | 53/97 [1:05:28<40:03, 54.63s/it, file=CJG - ambergold 1.txt, summaries_count=10, time=46.46 seconds]\u001b[A\u001b[A"
     ]
    },
    {
     "name": "stdout",
     "output_type": "stream",
     "text": [
      "Record already exists: voiceapp\\output\\summaries_folder\\yi_6b_20241213_175238\\CJG - ambergold 1-summary_5.txt -> C:/Users/G/Documents/GitHub/audycje.com.pl/content/audio\\shorts\\CJG - ambergold 1.txt\n"
     ]
    },
    {
     "name": "stderr",
     "output_type": "stream",
     "text": [
      "\n",
      "\n",
      "Summarizing files for yi:6b:  56%|█████████████████████████████████████████████████▌                                       | 54/97 [1:05:50<32:07, 44.82s/it, file=CJG - ambergold 1.txt, summaries_count=10, time=46.46 seconds]\u001b[A\u001b[A\n",
      "\n",
      "Summarizing files for yi:6b:  56%|███████████████████████████████████████████████▎                                     | 54/97 [1:05:50<32:07, 44.82s/it, file=CJG - anheuser-busch 1.txt, summaries_count=5, time=21.92 seconds]\u001b[A\u001b[A"
     ]
    },
    {
     "name": "stdout",
     "output_type": "stream",
     "text": [
      "Record already exists: voiceapp\\output\\summaries_folder\\yi_6b_20241213_175238\\CJG - C40 1-summary_1.txt -> C:/Users/G/Documents/GitHub/audycje.com.pl/content/audio\\shorts\\CJG - C40 1.txt\n",
      "Record already exists: voiceapp\\output\\summaries_folder\\yi_6b_20241213_175238\\CJG - C40 1-summary_2.txt -> C:/Users/G/Documents/GitHub/audycje.com.pl/content/audio\\shorts\\CJG - C40 1.txt\n",
      "Record already exists: voiceapp\\output\\summaries_folder\\yi_6b_20241213_175238\\CJG - C40 1-summary_3.txt -> C:/Users/G/Documents/GitHub/audycje.com.pl/content/audio\\shorts\\CJG - C40 1.txt\n",
      "Record already exists: voiceapp\\output\\summaries_folder\\yi_6b_20241213_175238\\CJG - C40 1-summary_4.txt -> C:/Users/G/Documents/GitHub/audycje.com.pl/content/audio\\shorts\\CJG - C40 1.txt\n"
     ]
    },
    {
     "name": "stderr",
     "output_type": "stream",
     "text": [
      "\n",
      "\n",
      "Summarizing files for yi:6b:  57%|████████████████████████████████████████████████▏                                    | 55/97 [1:06:27<29:47, 42.56s/it, file=CJG - anheuser-busch 1.txt, summaries_count=5, time=21.92 seconds]\u001b[A\u001b[A\n",
      "\n",
      "Summarizing files for yi:6b:  57%|█████████████████████████████████████████████████████▊                                         | 55/97 [1:06:27<29:47, 42.56s/it, file=CJG - C40 1.txt, summaries_count=10, time=37.28 seconds]\u001b[A\u001b[A"
     ]
    },
    {
     "name": "stdout",
     "output_type": "stream",
     "text": [
      "Record already exists: voiceapp\\output\\summaries_folder\\yi_6b_20241213_175238\\CJG - C40 1-summary_5.txt -> C:/Users/G/Documents/GitHub/audycje.com.pl/content/audio\\shorts\\CJG - C40 1.txt\n",
      "Record already exists: voiceapp\\output\\summaries_folder\\yi_6b_20241213_175238\\CJG - dawne zapowiedzi 1-summary_1.txt -> C:/Users/G/Documents/GitHub/audycje.com.pl/content/audio\\shorts\\CJG - dawne zapowiedzi 1.txt\n",
      "Record already exists: voiceapp\\output\\summaries_folder\\yi_6b_20241213_175238\\CJG - dawne zapowiedzi 1-summary_2.txt -> C:/Users/G/Documents/GitHub/audycje.com.pl/content/audio\\shorts\\CJG - dawne zapowiedzi 1.txt\n",
      "Record already exists: voiceapp\\output\\summaries_folder\\yi_6b_20241213_175238\\CJG - dawne zapowiedzi 1-summary_3.txt -> C:/Users/G/Documents/GitHub/audycje.com.pl/content/audio\\shorts\\CJG - dawne zapowiedzi 1.txt\n",
      "Record already exists: voiceapp\\output\\summaries_folder\\yi_6b_20241213_175238\\CJG - dawne zapowiedzi 1-summary_4.txt -> C:/Users/G/Documents/GitHub/audycje.com.pl/content/audio\\shorts\\CJG - dawne zapowiedzi 1.txt\n"
     ]
    },
    {
     "name": "stderr",
     "output_type": "stream",
     "text": [
      "\n",
      "\n",
      "Summarizing files for yi:6b:  58%|█████████████████████████████████████████████████████                                       | 56/97 [1:17:20<2:34:06, 225.53s/it, file=CJG - C40 1.txt, summaries_count=10, time=37.28 seconds]\u001b[A\u001b[A\n",
      "\n",
      "Summarizing files for yi:6b:  58%|█████████████████████████████████████████████                                 | 56/97 [1:17:20<2:34:06, 225.53s/it, file=CJG - dawne zapowiedzi 1.txt, summaries_count=10, time=652.47 seconds]\u001b[A\u001b[A"
     ]
    },
    {
     "name": "stdout",
     "output_type": "stream",
     "text": [
      "Record already exists: voiceapp\\output\\summaries_folder\\yi_6b_20241213_175238\\CJG - dawne zapowiedzi 1-summary_5.txt -> C:/Users/G/Documents/GitHub/audycje.com.pl/content/audio\\shorts\\CJG - dawne zapowiedzi 1.txt\n",
      "Record already exists: voiceapp\\output\\summaries_folder\\yi_6b_20241213_175238\\CJG - emigracja 1-summary_1.txt -> C:/Users/G/Documents/GitHub/audycje.com.pl/content/audio\\shorts\\CJG - emigracja 1.txt\n",
      "Record already exists: voiceapp\\output\\summaries_folder\\yi_6b_20241213_175238\\CJG - emigracja 1-summary_2.txt -> C:/Users/G/Documents/GitHub/audycje.com.pl/content/audio\\shorts\\CJG - emigracja 1.txt\n",
      "Record already exists: voiceapp\\output\\summaries_folder\\yi_6b_20241213_175238\\CJG - emigracja 1-summary_3.txt -> C:/Users/G/Documents/GitHub/audycje.com.pl/content/audio\\shorts\\CJG - emigracja 1.txt\n",
      "Record already exists: voiceapp\\output\\summaries_folder\\yi_6b_20241213_175238\\CJG - emigracja 1-summary_4.txt -> C:/Users/G/Documents/GitHub/audycje.com.pl/content/audio\\shorts\\CJG - emigracja 1.txt\n"
     ]
    },
    {
     "name": "stderr",
     "output_type": "stream",
     "text": [
      "\n",
      "\n",
      "Summarizing files for yi:6b:  59%|█████████████████████████████████████████████▊                                | 57/97 [1:17:54<1:52:11, 168.29s/it, file=CJG - dawne zapowiedzi 1.txt, summaries_count=10, time=652.47 seconds]\u001b[A\u001b[A\n",
      "\n",
      "Summarizing files for yi:6b:  59%|██████████████████████████████████████████████████▌                                   | 57/97 [1:17:54<1:52:11, 168.29s/it, file=CJG - emigracja 1.txt, summaries_count=10, time=34.73 seconds]\u001b[A\u001b[A"
     ]
    },
    {
     "name": "stdout",
     "output_type": "stream",
     "text": [
      "Record already exists: voiceapp\\output\\summaries_folder\\yi_6b_20241213_175238\\CJG - emigracja 1-summary_5.txt -> C:/Users/G/Documents/GitHub/audycje.com.pl/content/audio\\shorts\\CJG - emigracja 1.txt\n",
      "Record already exists: voiceapp\\output\\summaries_folder\\yi_6b_20241213_175238\\CJG - evergrande 1-summary_1.txt -> C:/Users/G/Documents/GitHub/audycje.com.pl/content/audio\\shorts\\CJG - evergrande 1.txt\n",
      "Record already exists: voiceapp\\output\\summaries_folder\\yi_6b_20241213_175238\\CJG - evergrande 1-summary_2.txt -> C:/Users/G/Documents/GitHub/audycje.com.pl/content/audio\\shorts\\CJG - evergrande 1.txt\n",
      "Record already exists: voiceapp\\output\\summaries_folder\\yi_6b_20241213_175238\\CJG - evergrande 1-summary_3.txt -> C:/Users/G/Documents/GitHub/audycje.com.pl/content/audio\\shorts\\CJG - evergrande 1.txt\n",
      "Record already exists: voiceapp\\output\\summaries_folder\\yi_6b_20241213_175238\\CJG - evergrande 1-summary_4.txt -> C:/Users/G/Documents/GitHub/audycje.com.pl/content/audio\\shorts\\CJG - evergrande 1.txt\n"
     ]
    },
    {
     "name": "stderr",
     "output_type": "stream",
     "text": [
      "\n",
      "\n",
      "Summarizing files for yi:6b:  60%|███████████████████████████████████████████████████▍                                  | 58/97 [1:18:34<1:24:22, 129.80s/it, file=CJG - emigracja 1.txt, summaries_count=10, time=34.73 seconds]\u001b[A\u001b[A\n",
      "\n",
      "Summarizing files for yi:6b:  60%|██████████████████████████████████████████████████▊                                  | 58/97 [1:18:34<1:24:22, 129.80s/it, file=CJG - evergrande 1.txt, summaries_count=10, time=39.98 seconds]\u001b[A\u001b[A"
     ]
    },
    {
     "name": "stdout",
     "output_type": "stream",
     "text": [
      "Record already exists: voiceapp\\output\\summaries_folder\\yi_6b_20241213_175238\\CJG - evergrande 1-summary_5.txt -> C:/Users/G/Documents/GitHub/audycje.com.pl/content/audio\\shorts\\CJG - evergrande 1.txt\n"
     ]
    },
    {
     "name": "stderr",
     "output_type": "stream",
     "text": [
      "\n",
      "\n",
      "Summarizing files for yi:6b:  61%|████████████████████████████████████████████████████▎                                 | 59/97 [1:18:53<1:00:58, 96.28s/it, file=CJG - evergrande 1.txt, summaries_count=10, time=39.98 seconds]\u001b[A\u001b[A\n",
      "\n",
      "Summarizing files for yi:6b:  61%|█████████████████████████████████████████████████▎                               | 59/97 [1:18:53<1:00:58, 96.28s/it, file=CJG - firmy w polsce cz1.txt, summaries_count=5, time=18.06 seconds]\u001b[A\u001b[A\n",
      "\n",
      "Summarizing files for yi:6b:  62%|███████████████████████████████████████████████████▎                               | 60/97 [1:19:12<45:10, 73.26s/it, file=CJG - firmy w polsce cz1.txt, summaries_count=5, time=18.06 seconds]\u001b[A\u001b[A\n",
      "\n",
      "Summarizing files for yi:6b:  62%|█████████████████████████████████████████████████████▊                                 | 60/97 [1:19:12<45:10, 73.26s/it, file=CJG - fotowoltaika 1.txt, summaries_count=5, time=19.54 seconds]\u001b[A\u001b[A\n",
      "\n",
      "Summarizing files for yi:6b:  63%|██████████████████████████████████████████████████████▋                                | 61/97 [1:19:32<34:24, 57.35s/it, file=CJG - fotowoltaika 1.txt, summaries_count=5, time=19.54 seconds]\u001b[A\u001b[A\n",
      "\n",
      "Summarizing files for yi:6b:  63%|███████████████████████████████████████████████████████████                                   | 61/97 [1:19:32<34:24, 57.35s/it, file=CJG - hamas 1.txt, summaries_count=5, time=20.22 seconds]\u001b[A\u001b[A\n",
      "\n",
      "Summarizing files for yi:6b:  64%|████████████████████████████████████████████████████████████                                  | 62/97 [1:19:49<26:24, 45.27s/it, file=CJG - hamas 1.txt, summaries_count=5, time=20.22 seconds]\u001b[A\u001b[A\n",
      "\n",
      "Summarizing files for yi:6b:  64%|██████████████████████████████████████████████████████▎                              | 62/97 [1:19:49<26:24, 45.27s/it, file=CJG - inflacja i nbp 1.txt, summaries_count=5, time=17.10 seconds]\u001b[A\u001b[A"
     ]
    },
    {
     "name": "stdout",
     "output_type": "stream",
     "text": [
      "Record already exists: voiceapp\\output\\summaries_folder\\yi_6b_20241213_175238\\CJG - influencerzy 1-summary_1.txt -> C:/Users/G/Documents/GitHub/audycje.com.pl/content/audio\\shorts\\CJG - influencerzy 1.txt\n",
      "Record already exists: voiceapp\\output\\summaries_folder\\yi_6b_20241213_175238\\CJG - influencerzy 1-summary_2.txt -> C:/Users/G/Documents/GitHub/audycje.com.pl/content/audio\\shorts\\CJG - influencerzy 1.txt\n",
      "Record already exists: voiceapp\\output\\summaries_folder\\yi_6b_20241213_175238\\CJG - influencerzy 1-summary_3.txt -> C:/Users/G/Documents/GitHub/audycje.com.pl/content/audio\\shorts\\CJG - influencerzy 1.txt\n",
      "Record already exists: voiceapp\\output\\summaries_folder\\yi_6b_20241213_175238\\CJG - influencerzy 1-summary_4.txt -> C:/Users/G/Documents/GitHub/audycje.com.pl/content/audio\\shorts\\CJG - influencerzy 1.txt\n"
     ]
    },
    {
     "name": "stderr",
     "output_type": "stream",
     "text": [
      "\n",
      "\n",
      "Summarizing files for yi:6b:  65%|███████████████████████████████████████████████████████▏                             | 63/97 [1:20:27<24:17, 42.87s/it, file=CJG - inflacja i nbp 1.txt, summaries_count=5, time=17.10 seconds]\u001b[A\u001b[A\n",
      "\n",
      "Summarizing files for yi:6b:  65%|███████████████████████████████████████████████████████▊                              | 63/97 [1:20:27<24:17, 42.87s/it, file=CJG - influencerzy 1.txt, summaries_count=10, time=37.25 seconds]\u001b[A\u001b[A"
     ]
    },
    {
     "name": "stdout",
     "output_type": "stream",
     "text": [
      "Record already exists: voiceapp\\output\\summaries_folder\\yi_6b_20241213_175238\\CJG - influencerzy 1-summary_5.txt -> C:/Users/G/Documents/GitHub/audycje.com.pl/content/audio\\shorts\\CJG - influencerzy 1.txt\n"
     ]
    },
    {
     "name": "stderr",
     "output_type": "stream",
     "text": [
      "\n",
      "\n",
      "Summarizing files for yi:6b:  66%|████████████████████████████████████████████████████████▋                             | 64/97 [1:20:47<19:48, 36.02s/it, file=CJG - influencerzy 1.txt, summaries_count=10, time=37.25 seconds]\u001b[A\u001b[A\n",
      "\n",
      "Summarizing files for yi:6b:  66%|████████████████████████████████████████████████████████████▋                               | 64/97 [1:20:47<19:48, 36.02s/it, file=CJG - japonia 1.txt, summaries_count=5, time=20.06 seconds]\u001b[A\u001b[A\n",
      "\n",
      "Summarizing files for yi:6b:  67%|█████████████████████████████████████████████████████████████▋                              | 65/97 [1:21:12<17:29, 32.80s/it, file=CJG - japonia 1.txt, summaries_count=5, time=20.06 seconds]\u001b[A\u001b[A\n",
      "\n",
      "Summarizing files for yi:6b:  67%|████████████████████████████████████████████████████████████▉                              | 65/97 [1:21:12<17:29, 32.80s/it, file=CJG - jastrzab 1.txt, summaries_count=5, time=25.28 seconds]\u001b[A\u001b[A\n",
      "\n",
      "Summarizing files for yi:6b:  68%|█████████████████████████████████████████████████████████████▉                             | 66/97 [1:21:31<14:51, 28.74s/it, file=CJG - jastrzab 1.txt, summaries_count=5, time=25.28 seconds]\u001b[A\u001b[A\n",
      "\n",
      "Summarizing files for yi:6b:  68%|█████████████████████████████████████████████████████████████▏                            | 66/97 [1:21:31<14:51, 28.74s/it, file=CJG - jubileusz 1.txt, summaries_count=5, time=19.27 seconds]\u001b[A\u001b[A\n",
      "\n",
      "Summarizing files for yi:6b:  69%|██████████████████████████████████████████████████████████████▏                           | 67/97 [1:21:52<13:08, 26.29s/it, file=CJG - jubileusz 1.txt, summaries_count=5, time=19.27 seconds]\u001b[A\u001b[A\n",
      "\n",
      "Summarizing files for yi:6b:  69%|██████████████████████████████████████████████████████████████▊                            | 67/97 [1:21:52<13:08, 26.29s/it, file=CJG - kataster 1.txt, summaries_count=5, time=20.58 seconds]\u001b[A\u001b[A"
     ]
    },
    {
     "name": "stdout",
     "output_type": "stream",
     "text": [
      "Record already exists: voiceapp\\output\\summaries_folder\\yi_6b_20241213_175238\\CJG - kierowcy 1-summary_1.txt -> C:/Users/G/Documents/GitHub/audycje.com.pl/content/audio\\shorts\\CJG - kierowcy 1.txt\n",
      "Record already exists: voiceapp\\output\\summaries_folder\\yi_6b_20241213_175238\\CJG - kierowcy 1-summary_2.txt -> C:/Users/G/Documents/GitHub/audycje.com.pl/content/audio\\shorts\\CJG - kierowcy 1.txt\n",
      "Record already exists: voiceapp\\output\\summaries_folder\\yi_6b_20241213_175238\\CJG - kierowcy 1-summary_3.txt -> C:/Users/G/Documents/GitHub/audycje.com.pl/content/audio\\shorts\\CJG - kierowcy 1.txt\n",
      "Record already exists: voiceapp\\output\\summaries_folder\\yi_6b_20241213_175238\\CJG - kierowcy 1-summary_4.txt -> C:/Users/G/Documents/GitHub/audycje.com.pl/content/audio\\shorts\\CJG - kierowcy 1.txt\n"
     ]
    },
    {
     "name": "stderr",
     "output_type": "stream",
     "text": [
      "\n",
      "\n",
      "Summarizing files for yi:6b:  70%|███████████████████████████████████████████████████████████████▊                           | 68/97 [1:22:31<14:33, 30.13s/it, file=CJG - kataster 1.txt, summaries_count=5, time=20.58 seconds]\u001b[A\u001b[A\n",
      "\n",
      "Summarizing files for yi:6b:  70%|███████████████████████████████████████████████████████████████                           | 68/97 [1:22:31<14:33, 30.13s/it, file=CJG - kierowcy 1.txt, summaries_count=10, time=39.07 seconds]\u001b[A\u001b[A"
     ]
    },
    {
     "name": "stdout",
     "output_type": "stream",
     "text": [
      "Record already exists: voiceapp\\output\\summaries_folder\\yi_6b_20241213_175238\\CJG - kierowcy 1-summary_5.txt -> C:/Users/G/Documents/GitHub/audycje.com.pl/content/audio\\shorts\\CJG - kierowcy 1.txt\n",
      "Record already exists: voiceapp\\output\\summaries_folder\\yi_6b_20241213_175238\\CJG - koniec roku 1-summary_1.txt -> C:/Users/G/Documents/GitHub/audycje.com.pl/content/audio\\shorts\\CJG - koniec roku 1.txt\n",
      "Record already exists: voiceapp\\output\\summaries_folder\\yi_6b_20241213_175238\\CJG - koniec roku 1-summary_2.txt -> C:/Users/G/Documents/GitHub/audycje.com.pl/content/audio\\shorts\\CJG - koniec roku 1.txt\n",
      "Record already exists: voiceapp\\output\\summaries_folder\\yi_6b_20241213_175238\\CJG - koniec roku 1-summary_3.txt -> C:/Users/G/Documents/GitHub/audycje.com.pl/content/audio\\shorts\\CJG - koniec roku 1.txt\n",
      "Record already exists: voiceapp\\output\\summaries_folder\\yi_6b_20241213_175238\\CJG - koniec roku 1-summary_4.txt -> C:/Users/G/Documents/GitHub/audycje.com.pl/content/audio\\shorts\\CJG - koniec roku 1.txt\n"
     ]
    },
    {
     "name": "stderr",
     "output_type": "stream",
     "text": [
      "\n",
      "\n",
      "Summarizing files for yi:6b:  71%|████████████████████████████████████████████████████████████████                          | 69/97 [1:23:07<14:51, 31.83s/it, file=CJG - kierowcy 1.txt, summaries_count=10, time=39.07 seconds]\u001b[A\u001b[A\n",
      "\n",
      "Summarizing files for yi:6b:  71%|█████████████████████████████████████████████████████████████▉                         | 69/97 [1:23:07<14:51, 31.83s/it, file=CJG - koniec roku 1.txt, summaries_count=10, time=35.82 seconds]\u001b[A\u001b[A"
     ]
    },
    {
     "name": "stdout",
     "output_type": "stream",
     "text": [
      "Record already exists: voiceapp\\output\\summaries_folder\\yi_6b_20241213_175238\\CJG - koniec roku 1-summary_5.txt -> C:/Users/G/Documents/GitHub/audycje.com.pl/content/audio\\shorts\\CJG - koniec roku 1.txt\n"
     ]
    },
    {
     "name": "stderr",
     "output_type": "stream",
     "text": [
      "\n",
      "\n",
      "Summarizing files for yi:6b:  72%|██████████████████████████████████████████████████████████████▊                        | 70/97 [1:23:24<12:24, 27.58s/it, file=CJG - koniec roku 1.txt, summaries_count=10, time=35.82 seconds]\u001b[A\u001b[A\n",
      "\n",
      "Summarizing files for yi:6b:  72%|█████████████████████████████████████████████████████████████████▋                         | 70/97 [1:23:24<12:24, 27.58s/it, file=CJG - kurczaki 1.txt, summaries_count=5, time=17.65 seconds]\u001b[A\u001b[A\n",
      "\n",
      "Summarizing files for yi:6b:  73%|██████████████████████████████████████████████████████████████████▌                        | 71/97 [1:23:48<11:24, 26.32s/it, file=CJG - kurczaki 1.txt, summaries_count=5, time=17.65 seconds]\u001b[A\u001b[A\n",
      "\n",
      "Summarizing files for yi:6b:  73%|███████████████████████████████████████████████████████████████▋                       | 71/97 [1:23:48<11:24, 26.32s/it, file=CJG - mieszkania cz1.txt, summaries_count=5, time=23.40 seconds]\u001b[A\u001b[A"
     ]
    },
    {
     "name": "stdout",
     "output_type": "stream",
     "text": [
      "Record already exists: voiceapp\\output\\summaries_folder\\yi_6b_20241213_175238\\CJG - miliarderzy 1-summary_1.txt -> C:/Users/G/Documents/GitHub/audycje.com.pl/content/audio\\shorts\\CJG - miliarderzy 1.txt\n",
      "Record already exists: voiceapp\\output\\summaries_folder\\yi_6b_20241213_175238\\CJG - miliarderzy 1-summary_2.txt -> C:/Users/G/Documents/GitHub/audycje.com.pl/content/audio\\shorts\\CJG - miliarderzy 1.txt\n",
      "Record already exists: voiceapp\\output\\summaries_folder\\yi_6b_20241213_175238\\CJG - miliarderzy 1-summary_3.txt -> C:/Users/G/Documents/GitHub/audycje.com.pl/content/audio\\shorts\\CJG - miliarderzy 1.txt\n",
      "Record already exists: voiceapp\\output\\summaries_folder\\yi_6b_20241213_175238\\CJG - miliarderzy 1-summary_4.txt -> C:/Users/G/Documents/GitHub/audycje.com.pl/content/audio\\shorts\\CJG - miliarderzy 1.txt\n"
     ]
    },
    {
     "name": "stderr",
     "output_type": "stream",
     "text": [
      "\n",
      "\n",
      "Summarizing files for yi:6b:  74%|████████████████████████████████████████████████████████████████▌                      | 72/97 [1:24:27<12:32, 30.10s/it, file=CJG - mieszkania cz1.txt, summaries_count=5, time=23.40 seconds]\u001b[A\u001b[A\n",
      "\n",
      "Summarizing files for yi:6b:  74%|████████████████████████████████████████████████████████████████▌                      | 72/97 [1:24:27<12:32, 30.10s/it, file=CJG - miliarderzy 1.txt, summaries_count=10, time=38.92 seconds]\u001b[A\u001b[A"
     ]
    },
    {
     "name": "stdout",
     "output_type": "stream",
     "text": [
      "Record already exists: voiceapp\\output\\summaries_folder\\yi_6b_20241213_175238\\CJG - miliarderzy 1-summary_5.txt -> C:/Users/G/Documents/GitHub/audycje.com.pl/content/audio\\shorts\\CJG - miliarderzy 1.txt\n"
     ]
    },
    {
     "name": "stderr",
     "output_type": "stream",
     "text": [
      "\n",
      "\n",
      "Summarizing files for yi:6b:  75%|█████████████████████████████████████████████████████████████████▍                     | 73/97 [1:24:46<10:47, 26.98s/it, file=CJG - miliarderzy 1.txt, summaries_count=10, time=38.92 seconds]\u001b[A\u001b[A\n",
      "\n",
      "Summarizing files for yi:6b:  75%|███████████████████████████████████████████████████████████▍                   | 73/97 [1:24:46<10:47, 26.98s/it, file=CJG - monopol energetyczny 1.txt, summaries_count=5, time=19.69 seconds]\u001b[A\u001b[A\n",
      "\n",
      "Summarizing files for yi:6b:  76%|████████████████████████████████████████████████████████████▎                  | 74/97 [1:25:11<10:07, 26.40s/it, file=CJG - monopol energetyczny 1.txt, summaries_count=5, time=19.69 seconds]\u001b[A\u001b[A\n",
      "\n",
      "Summarizing files for yi:6b:  76%|██████████████████████████████████████████████████████████████████████▉                      | 74/97 [1:25:11<10:07, 26.40s/it, file=CJG - niemcy 1.txt, summaries_count=5, time=25.03 seconds]\u001b[A\u001b[A\n",
      "\n",
      "Summarizing files for yi:6b:  77%|███████████████████████████████████████████████████████████████████████▉                     | 75/97 [1:25:37<09:35, 26.14s/it, file=CJG - niemcy 1.txt, summaries_count=5, time=25.03 seconds]\u001b[A\u001b[A\n",
      "\n",
      "Summarizing files for yi:6b:  77%|████████████████████████████████████████████████████████████████████████▋                     | 75/97 [1:25:37<09:35, 26.14s/it, file=CJG - orlen 1.txt, summaries_count=5, time=25.54 seconds]\u001b[A\u001b[A"
     ]
    },
    {
     "name": "stdout",
     "output_type": "stream",
     "text": [
      "Record already exists: voiceapp\\output\\summaries_folder\\yi_6b_20241213_175238\\CJG - paliwo wyborcze 1-summary_1.txt -> C:/Users/G/Documents/GitHub/audycje.com.pl/content/audio\\shorts\\CJG - paliwo wyborcze 1.txt\n",
      "Record already exists: voiceapp\\output\\summaries_folder\\yi_6b_20241213_175238\\CJG - paliwo wyborcze 1-summary_2.txt -> C:/Users/G/Documents/GitHub/audycje.com.pl/content/audio\\shorts\\CJG - paliwo wyborcze 1.txt\n",
      "Record already exists: voiceapp\\output\\summaries_folder\\yi_6b_20241213_175238\\CJG - paliwo wyborcze 1-summary_3.txt -> C:/Users/G/Documents/GitHub/audycje.com.pl/content/audio\\shorts\\CJG - paliwo wyborcze 1.txt\n",
      "Record already exists: voiceapp\\output\\summaries_folder\\yi_6b_20241213_175238\\CJG - paliwo wyborcze 1-summary_4.txt -> C:/Users/G/Documents/GitHub/audycje.com.pl/content/audio\\shorts\\CJG - paliwo wyborcze 1.txt\n"
     ]
    },
    {
     "name": "stderr",
     "output_type": "stream",
     "text": [
      "\n",
      "\n",
      "Summarizing files for yi:6b:  78%|█████████████████████████████████████████████████████████████████████████▋                    | 76/97 [1:26:15<10:22, 29.63s/it, file=CJG - orlen 1.txt, summaries_count=5, time=25.54 seconds]\u001b[A\u001b[A\n",
      "\n",
      "Summarizing files for yi:6b:  78%|█████████████████████████████████████████████████████████████████                  | 76/97 [1:26:15<10:22, 29.63s/it, file=CJG - paliwo wyborcze 1.txt, summaries_count=10, time=37.77 seconds]\u001b[A\u001b[A"
     ]
    },
    {
     "name": "stdout",
     "output_type": "stream",
     "text": [
      "Record already exists: voiceapp\\output\\summaries_folder\\yi_6b_20241213_175238\\CJG - paliwo wyborcze 1-summary_5.txt -> C:/Users/G/Documents/GitHub/audycje.com.pl/content/audio\\shorts\\CJG - paliwo wyborcze 1.txt\n"
     ]
    },
    {
     "name": "stderr",
     "output_type": "stream",
     "text": [
      "\n",
      "\n",
      "Summarizing files for yi:6b:  79%|█████████████████████████████████████████████████████████████████▉                 | 77/97 [1:26:34<08:50, 26.53s/it, file=CJG - paliwo wyborcze 1.txt, summaries_count=10, time=37.77 seconds]\u001b[A\u001b[A\n",
      "\n",
      "Summarizing files for yi:6b:  79%|█████████████████████████████████████████████████████████████████████                  | 77/97 [1:26:34<08:50, 26.53s/it, file=CJG - pompy ciepla 1.txt, summaries_count=5, time=19.30 seconds]\u001b[A\u001b[A"
     ]
    },
    {
     "name": "stdout",
     "output_type": "stream",
     "text": [
      "Record already exists: voiceapp\\output\\summaries_folder\\yi_6b_20241213_175238\\CJG - punkt zwrotny usa 1-summary_1.txt -> C:/Users/G/Documents/GitHub/audycje.com.pl/content/audio\\shorts\\CJG - punkt zwrotny usa 1.txt\n",
      "Record already exists: voiceapp\\output\\summaries_folder\\yi_6b_20241213_175238\\CJG - punkt zwrotny usa 1-summary_2.txt -> C:/Users/G/Documents/GitHub/audycje.com.pl/content/audio\\shorts\\CJG - punkt zwrotny usa 1.txt\n",
      "Record already exists: voiceapp\\output\\summaries_folder\\yi_6b_20241213_175238\\CJG - punkt zwrotny usa 1-summary_3.txt -> C:/Users/G/Documents/GitHub/audycje.com.pl/content/audio\\shorts\\CJG - punkt zwrotny usa 1.txt\n",
      "Record already exists: voiceapp\\output\\summaries_folder\\yi_6b_20241213_175238\\CJG - punkt zwrotny usa 1-summary_4.txt -> C:/Users/G/Documents/GitHub/audycje.com.pl/content/audio\\shorts\\CJG - punkt zwrotny usa 1.txt\n"
     ]
    },
    {
     "name": "stderr",
     "output_type": "stream",
     "text": [
      "\n",
      "\n",
      "Summarizing files for yi:6b:  80%|█████████████████████████████████████████████████████████████████████▉                 | 78/97 [1:27:15<09:48, 30.95s/it, file=CJG - pompy ciepla 1.txt, summaries_count=5, time=19.30 seconds]\u001b[A\u001b[A\n",
      "\n",
      "Summarizing files for yi:6b:  80%|█████████████████████████████████████████████████████████████████▏               | 78/97 [1:27:15<09:48, 30.95s/it, file=CJG - punkt zwrotny usa 1.txt, summaries_count=10, time=41.26 seconds]\u001b[A\u001b[A"
     ]
    },
    {
     "name": "stdout",
     "output_type": "stream",
     "text": [
      "Record already exists: voiceapp\\output\\summaries_folder\\yi_6b_20241213_175238\\CJG - punkt zwrotny usa 1-summary_5.txt -> C:/Users/G/Documents/GitHub/audycje.com.pl/content/audio\\shorts\\CJG - punkt zwrotny usa 1.txt\n"
     ]
    },
    {
     "name": "stderr",
     "output_type": "stream",
     "text": [
      "\n",
      "\n",
      "Summarizing files for yi:6b:  81%|█████████████████████████████████████████████████████████████████▉               | 79/97 [1:27:37<08:26, 28.14s/it, file=CJG - punkt zwrotny usa 1.txt, summaries_count=10, time=41.26 seconds]\u001b[A\u001b[A\n",
      "\n",
      "Summarizing files for yi:6b:  81%|███████████████████████████████████████████████████████████████████████████▋                 | 79/97 [1:27:37<08:26, 28.14s/it, file=CJG - robaki 1.txt, summaries_count=5, time=21.59 seconds]\u001b[A\u001b[A\n",
      "\n",
      "Summarizing files for yi:6b:  82%|████████████████████████████████████████████████████████████████████████████▋                | 80/97 [1:28:00<07:34, 26.71s/it, file=CJG - robaki 1.txt, summaries_count=5, time=21.59 seconds]\u001b[A\u001b[A\n",
      "\n",
      "Summarizing files for yi:6b:  82%|███████████████████████████████████████████████████████████████████████████                | 80/97 [1:28:00<07:34, 26.71s/it, file=CJG - rok 2022 1.txt, summaries_count=5, time=23.38 seconds]\u001b[A\u001b[A"
     ]
    },
    {
     "name": "stdout",
     "output_type": "stream",
     "text": [
      "Record already exists: voiceapp\\output\\summaries_folder\\yi_6b_20241213_175238\\CJG - rosja 1-summary_1.txt -> C:/Users/G/Documents/GitHub/audycje.com.pl/content/audio\\shorts\\CJG - rosja 1.txt\n",
      "Record already exists: voiceapp\\output\\summaries_folder\\yi_6b_20241213_175238\\CJG - rosja 1-summary_2.txt -> C:/Users/G/Documents/GitHub/audycje.com.pl/content/audio\\shorts\\CJG - rosja 1.txt\n",
      "Record already exists: voiceapp\\output\\summaries_folder\\yi_6b_20241213_175238\\CJG - rosja 1-summary_3.txt -> C:/Users/G/Documents/GitHub/audycje.com.pl/content/audio\\shorts\\CJG - rosja 1.txt\n",
      "Record already exists: voiceapp\\output\\summaries_folder\\yi_6b_20241213_175238\\CJG - rosja 1-summary_4.txt -> C:/Users/G/Documents/GitHub/audycje.com.pl/content/audio\\shorts\\CJG - rosja 1.txt\n"
     ]
    },
    {
     "name": "stderr",
     "output_type": "stream",
     "text": [
      "\n",
      "\n",
      "Summarizing files for yi:6b:  84%|███████████████████████████████████████████████████████████████████████████▉               | 81/97 [1:28:44<08:29, 31.82s/it, file=CJG - rok 2022 1.txt, summaries_count=5, time=23.38 seconds]\u001b[A\u001b[A\n",
      "\n",
      "Summarizing files for yi:6b:  84%|█████████████████████████████████████████████████████████████████████████████▋               | 81/97 [1:28:44<08:29, 31.82s/it, file=CJG - rosja 1.txt, summaries_count=10, time=43.72 seconds]\u001b[A\u001b[A"
     ]
    },
    {
     "name": "stdout",
     "output_type": "stream",
     "text": [
      "Record already exists: voiceapp\\output\\summaries_folder\\yi_6b_20241213_175238\\CJG - rosja 1-summary_5.txt -> C:/Users/G/Documents/GitHub/audycje.com.pl/content/audio\\shorts\\CJG - rosja 1.txt\n"
     ]
    },
    {
     "name": "stderr",
     "output_type": "stream",
     "text": [
      "\n",
      "\n",
      "Summarizing files for yi:6b:  85%|██████████████████████████████████████████████████████████████████████████████▌              | 82/97 [1:29:08<07:23, 29.54s/it, file=CJG - rosja 1.txt, summaries_count=10, time=43.72 seconds]\u001b[A\u001b[A\n",
      "\n",
      "Summarizing files for yi:6b:  85%|██████████████████████████████████████████████████████████████▌           | 82/97 [1:29:08<07:23, 29.54s/it, file=CJG - samochody elektryczne mk2 1.txt, summaries_count=5, time=24.24 seconds]\u001b[A\u001b[A\n",
      "\n",
      "Summarizing files for yi:6b:  86%|███████████████████████████████████████████████████████████████▎          | 83/97 [1:29:32<06:30, 27.90s/it, file=CJG - samochody elektryczne mk2 1.txt, summaries_count=5, time=24.24 seconds]\u001b[A\u001b[A\n",
      "\n",
      "Summarizing files for yi:6b:  86%|███████████████████████████████████████████████████████████████████████████████████              | 83/97 [1:29:32<06:30, 27.90s/it, file=CJG - si 1.txt, summaries_count=5, time=24.08 seconds]\u001b[A\u001b[A\n",
      "\n",
      "Summarizing files for yi:6b:  87%|████████████████████████████████████████████████████████████████████████████████████             | 84/97 [1:29:52<05:29, 25.37s/it, file=CJG - si 1.txt, summaries_count=5, time=24.08 seconds]\u001b[A\u001b[A\n",
      "\n",
      "Summarizing files for yi:6b:  87%|████████████████████████████████████████████████████████████████████████████████▌            | 84/97 [1:29:52<05:29, 25.37s/it, file=CJG - wagner 1.txt, summaries_count=5, time=19.45 seconds]\u001b[A\u001b[A\n",
      "\n",
      "Summarizing files for yi:6b:  88%|█████████████████████████████████████████████████████████████████████████████████▍           | 85/97 [1:30:16<05:00, 25.08s/it, file=CJG - wagner 1.txt, summaries_count=5, time=19.45 seconds]\u001b[A\u001b[A\n",
      "\n",
      "Summarizing files for yi:6b:  88%|██████████████████████████████████████████████████████████████████████████████████▎           | 85/97 [1:30:16<05:00, 25.08s/it, file=CJG - wojna 1.txt, summaries_count=5, time=24.40 seconds]\u001b[A\u001b[A\n",
      "\n",
      "Summarizing files for yi:6b:  89%|███████████████████████████████████████████████████████████████████████████████████▎          | 86/97 [1:30:34<04:11, 22.90s/it, file=CJG - wojna 1.txt, summaries_count=5, time=24.40 seconds]\u001b[A\u001b[A\n",
      "\n",
      "Summarizing files for yi:6b:  89%|██████████████████████████████████████████████████████████████████████████████████▍          | 86/97 [1:30:34<04:11, 22.90s/it, file=CJG - woke cz1.txt, summaries_count=5, time=17.83 seconds]\u001b[A\u001b[A\n",
      "\n",
      "Summarizing files for yi:6b:  90%|███████████████████████████████████████████████████████████████████████████████████▍         | 87/97 [1:30:54<03:40, 22.04s/it, file=CJG - woke cz1.txt, summaries_count=5, time=17.83 seconds]\u001b[A\u001b[A\n",
      "\n",
      "Summarizing files for yi:6b:  90%|█████████████████████████████████████████████████████████████████████▉        | 87/97 [1:30:54<03:40, 22.04s/it, file=CJG - wyrownana plus wierszyk.txt, summaries_count=5, time=20.01 seconds]\u001b[A\u001b[A"
     ]
    },
    {
     "name": "stdout",
     "output_type": "stream",
     "text": [
      "Record already exists: voiceapp\\output\\summaries_folder\\yi_6b_20241213_175238\\CJG - zarobki 1-summary_1.txt -> C:/Users/G/Documents/GitHub/audycje.com.pl/content/audio\\shorts\\CJG - zarobki 1.txt\n",
      "Record already exists: voiceapp\\output\\summaries_folder\\yi_6b_20241213_175238\\CJG - zarobki 1-summary_2.txt -> C:/Users/G/Documents/GitHub/audycje.com.pl/content/audio\\shorts\\CJG - zarobki 1.txt\n",
      "Record already exists: voiceapp\\output\\summaries_folder\\yi_6b_20241213_175238\\CJG - zarobki 1-summary_3.txt -> C:/Users/G/Documents/GitHub/audycje.com.pl/content/audio\\shorts\\CJG - zarobki 1.txt\n",
      "Record already exists: voiceapp\\output\\summaries_folder\\yi_6b_20241213_175238\\CJG - zarobki 1-summary_4.txt -> C:/Users/G/Documents/GitHub/audycje.com.pl/content/audio\\shorts\\CJG - zarobki 1.txt\n"
     ]
    },
    {
     "name": "stderr",
     "output_type": "stream",
     "text": [
      "\n",
      "\n",
      "Summarizing files for yi:6b:  91%|██████████████████████████████████████████████████████████████████████▊       | 88/97 [1:31:33<04:03, 27.06s/it, file=CJG - wyrownana plus wierszyk.txt, summaries_count=5, time=20.01 seconds]\u001b[A\u001b[A\n",
      "\n",
      "Summarizing files for yi:6b:  91%|██████████████████████████████████████████████████████████████████████████████████▌        | 88/97 [1:31:33<04:03, 27.06s/it, file=CJG - zarobki 1.txt, summaries_count=10, time=38.77 seconds]\u001b[A\u001b[A"
     ]
    },
    {
     "name": "stdout",
     "output_type": "stream",
     "text": [
      "Record already exists: voiceapp\\output\\summaries_folder\\yi_6b_20241213_175238\\CJG - zarobki 1-summary_5.txt -> C:/Users/G/Documents/GitHub/audycje.com.pl/content/audio\\shorts\\CJG - zarobki 1.txt\n"
     ]
    },
    {
     "name": "stderr",
     "output_type": "stream",
     "text": [
      "\n",
      "\n",
      "Summarizing files for yi:6b:  92%|███████████████████████████████████████████████████████████████████████████████████▍       | 89/97 [1:31:56<03:27, 25.94s/it, file=CJG - zarobki 1.txt, summaries_count=10, time=38.77 seconds]\u001b[A\u001b[A\n",
      "\n",
      "Summarizing files for yi:6b:  92%|█████████████████████████████████████████████████████████████████████████▍      | 89/97 [1:31:56<03:27, 25.94s/it, file=CJG - zasoby strategiczne 1.txt, summaries_count=5, time=23.33 seconds]\u001b[A\u001b[A"
     ]
    },
    {
     "name": "stdout",
     "output_type": "stream",
     "text": [
      "Record already exists: voiceapp\\output\\summaries_folder\\yi_6b_20241213_175238\\CJG - zus 1-summary_1.txt -> C:/Users/G/Documents/GitHub/audycje.com.pl/content/audio\\shorts\\CJG - zus 1.txt\n",
      "Record already exists: voiceapp\\output\\summaries_folder\\yi_6b_20241213_175238\\CJG - zus 1-summary_2.txt -> C:/Users/G/Documents/GitHub/audycje.com.pl/content/audio\\shorts\\CJG - zus 1.txt\n",
      "Record already exists: voiceapp\\output\\summaries_folder\\yi_6b_20241213_175238\\CJG - zus 1-summary_3.txt -> C:/Users/G/Documents/GitHub/audycje.com.pl/content/audio\\shorts\\CJG - zus 1.txt\n",
      "Record already exists: voiceapp\\output\\summaries_folder\\yi_6b_20241213_175238\\CJG - zus 1-summary_4.txt -> C:/Users/G/Documents/GitHub/audycje.com.pl/content/audio\\shorts\\CJG - zus 1.txt\n"
     ]
    },
    {
     "name": "stderr",
     "output_type": "stream",
     "text": [
      "\n",
      "\n",
      "Summarizing files for yi:6b:  93%|██████████████████████████████████████████████████████████████████████████▏     | 90/97 [1:32:36<03:31, 30.25s/it, file=CJG - zasoby strategiczne 1.txt, summaries_count=5, time=23.33 seconds]\u001b[A\u001b[A\n",
      "\n",
      "Summarizing files for yi:6b:  93%|████████████████████████████████████████████████████████████████████████████████████████▏      | 90/97 [1:32:36<07:12, 61.74s/it, file=CJG - zus 1.txt, summaries_count=10, time=40.32 seconds]\u001b[A\u001b[A\n"
     ]
    },
    {
     "name": "stdout",
     "output_type": "stream",
     "text": [
      "Record already exists: voiceapp\\output\\summaries_folder\\yi_6b_20241213_175238\\CJG - zus 1-summary_5.txt -> C:/Users/G/Documents/GitHub/audycje.com.pl/content/audio\\shorts\\CJG - zus 1.txt\n"
     ]
    },
    {
     "name": "stderr",
     "output_type": "stream",
     "text": [
      "\n",
      "\n",
      "Summarizing files for glm4:9b:   0%|                                                                                                                                                                      | 0/97 [00:00<?, ?it/s]\u001b[A\u001b[A"
     ]
    },
    {
     "name": "stdout",
     "output_type": "stream",
     "text": [
      "Record already exists: voiceapp\\output\\summaries_folder\\glm4_9b_20241213_192515\\CJG_01_2023_01_14-summary_1.txt -> C:/Users/G/Documents/GitHub/audycje.com.pl/content/audio\\CJG_01_2023_01_14.txt\n",
      "Record already exists: voiceapp\\output\\summaries_folder\\glm4_9b_20241213_192515\\CJG_01_2023_01_14-summary_2.txt -> C:/Users/G/Documents/GitHub/audycje.com.pl/content/audio\\CJG_01_2023_01_14.txt\n",
      "Record already exists: voiceapp\\output\\summaries_folder\\glm4_9b_20241213_192515\\CJG_01_2023_01_14-summary_3.txt -> C:/Users/G/Documents/GitHub/audycje.com.pl/content/audio\\CJG_01_2023_01_14.txt\n",
      "Record already exists: voiceapp\\output\\summaries_folder\\glm4_9b_20241213_192515\\CJG_01_2023_01_14-summary_4.txt -> C:/Users/G/Documents/GitHub/audycje.com.pl/content/audio\\CJG_01_2023_01_14.txt\n",
      "Record already exists: voiceapp\\output\\summaries_folder\\glm4_9b_20241213_192515\\CJG_01_2023_01_14-summary_5.txt -> C:/Users/G/Documents/GitHub/audycje.com.pl/content/audio\\CJG_01_2023_01_14.txt\n",
      "Record already exists: voiceapp\\output\\summaries_folder\\glm4_9b_20241213_192515\\CJG_01_2023_01_14-summary_1.txt -> C:/Users/G/Documents/GitHub/audycje.com.pl/content/audio\\CJG_01_2023_01_14.txt\n",
      "Record already exists: voiceapp\\output\\summaries_folder\\glm4_9b_20241213_192515\\CJG_01_2023_01_14-summary_2.txt -> C:/Users/G/Documents/GitHub/audycje.com.pl/content/audio\\CJG_01_2023_01_14.txt\n",
      "Record already exists: voiceapp\\output\\summaries_folder\\glm4_9b_20241213_192515\\CJG_01_2023_01_14-summary_3.txt -> C:/Users/G/Documents/GitHub/audycje.com.pl/content/audio\\CJG_01_2023_01_14.txt\n",
      "Record already exists: voiceapp\\output\\summaries_folder\\glm4_9b_20241213_192515\\CJG_01_2023_01_14-summary_4.txt -> C:/Users/G/Documents/GitHub/audycje.com.pl/content/audio\\CJG_01_2023_01_14.txt\n"
     ]
    },
    {
     "name": "stderr",
     "output_type": "stream",
     "text": [
      "\n",
      "\n",
      "Summarizing files for glm4:9b:   1%|█▌                                                                                                                                                          | 1/97 [01:06<1:46:51, 66.79s/it]\u001b[A\u001b[A\n",
      "\n",
      "Summarizing files for glm4:9b:   1%|▉                                                                                       | 1/97 [01:06<1:46:51, 66.79s/it, file=CJG_01_2023_01_14.txt, summaries_count=15, time=66.79 seconds]\u001b[A\u001b[A"
     ]
    },
    {
     "name": "stdout",
     "output_type": "stream",
     "text": [
      "Record already exists: voiceapp\\output\\summaries_folder\\glm4_9b_20241213_192515\\CJG_01_2023_01_14-summary_5.txt -> C:/Users/G/Documents/GitHub/audycje.com.pl/content/audio\\CJG_01_2023_01_14.txt\n",
      "Record already exists: voiceapp\\output\\summaries_folder\\glm4_9b_20241213_192515\\CJG_02_2023_01_21-summary_1.txt -> C:/Users/G/Documents/GitHub/audycje.com.pl/content/audio\\CJG_02_2023_01_21.txt\n",
      "Record already exists: voiceapp\\output\\summaries_folder\\glm4_9b_20241213_192515\\CJG_02_2023_01_21-summary_2.txt -> C:/Users/G/Documents/GitHub/audycje.com.pl/content/audio\\CJG_02_2023_01_21.txt\n",
      "Record already exists: voiceapp\\output\\summaries_folder\\glm4_9b_20241213_192515\\CJG_02_2023_01_21-summary_3.txt -> C:/Users/G/Documents/GitHub/audycje.com.pl/content/audio\\CJG_02_2023_01_21.txt\n",
      "Record already exists: voiceapp\\output\\summaries_folder\\glm4_9b_20241213_192515\\CJG_02_2023_01_21-summary_4.txt -> C:/Users/G/Documents/GitHub/audycje.com.pl/content/audio\\CJG_02_2023_01_21.txt\n"
     ]
    },
    {
     "name": "stderr",
     "output_type": "stream",
     "text": [
      "\n",
      "\n",
      "Summarizing files for glm4:9b:   2%|█▊                                                                                      | 2/97 [01:50<1:24:10, 53.16s/it, file=CJG_01_2023_01_14.txt, summaries_count=15, time=66.79 seconds]\u001b[A\u001b[A\n",
      "\n",
      "Summarizing files for glm4:9b:   2%|█▊                                                                                      | 2/97 [01:50<1:24:10, 53.16s/it, file=CJG_02_2023_01_21.txt, summaries_count=10, time=43.62 seconds]\u001b[A\u001b[A"
     ]
    },
    {
     "name": "stdout",
     "output_type": "stream",
     "text": [
      "Record already exists: voiceapp\\output\\summaries_folder\\glm4_9b_20241213_192515\\CJG_02_2023_01_21-summary_5.txt -> C:/Users/G/Documents/GitHub/audycje.com.pl/content/audio\\CJG_02_2023_01_21.txt\n",
      "Record already exists: voiceapp\\output\\summaries_folder\\glm4_9b_20241213_192515\\CJG_03_2023_01_28-summary_1.txt -> C:/Users/G/Documents/GitHub/audycje.com.pl/content/audio\\CJG_03_2023_01_28.txt\n",
      "Record already exists: voiceapp\\output\\summaries_folder\\glm4_9b_20241213_192515\\CJG_03_2023_01_28-summary_2.txt -> C:/Users/G/Documents/GitHub/audycje.com.pl/content/audio\\CJG_03_2023_01_28.txt\n",
      "Record already exists: voiceapp\\output\\summaries_folder\\glm4_9b_20241213_192515\\CJG_03_2023_01_28-summary_3.txt -> C:/Users/G/Documents/GitHub/audycje.com.pl/content/audio\\CJG_03_2023_01_28.txt\n",
      "Record already exists: voiceapp\\output\\summaries_folder\\glm4_9b_20241213_192515\\CJG_03_2023_01_28-summary_4.txt -> C:/Users/G/Documents/GitHub/audycje.com.pl/content/audio\\CJG_03_2023_01_28.txt\n",
      "Record already exists: voiceapp\\output\\summaries_folder\\glm4_9b_20241213_192515\\CJG_03_2023_01_28-summary_5.txt -> C:/Users/G/Documents/GitHub/audycje.com.pl/content/audio\\CJG_03_2023_01_28.txt\n",
      "Record already exists: voiceapp\\output\\summaries_folder\\glm4_9b_20241213_192515\\CJG_03_2023_01_28-summary_1.txt -> C:/Users/G/Documents/GitHub/audycje.com.pl/content/audio\\CJG_03_2023_01_28.txt\n",
      "Record already exists: voiceapp\\output\\summaries_folder\\glm4_9b_20241213_192515\\CJG_03_2023_01_28-summary_2.txt -> C:/Users/G/Documents/GitHub/audycje.com.pl/content/audio\\CJG_03_2023_01_28.txt\n",
      "Record already exists: voiceapp\\output\\summaries_folder\\glm4_9b_20241213_192515\\CJG_03_2023_01_28-summary_3.txt -> C:/Users/G/Documents/GitHub/audycje.com.pl/content/audio\\CJG_03_2023_01_28.txt\n",
      "Record already exists: voiceapp\\output\\summaries_folder\\glm4_9b_20241213_192515\\CJG_03_2023_01_28-summary_4.txt -> C:/Users/G/Documents/GitHub/audycje.com.pl/content/audio\\CJG_03_2023_01_28.txt\n"
     ]
    },
    {
     "name": "stderr",
     "output_type": "stream",
     "text": [
      "\n",
      "\n",
      "Summarizing files for glm4:9b:   3%|██▋                                                                                     | 3/97 [02:52<1:29:47, 57.31s/it, file=CJG_02_2023_01_21.txt, summaries_count=10, time=43.62 seconds]\u001b[A\u001b[A\n",
      "\n",
      "Summarizing files for glm4:9b:   3%|██▋                                                                                     | 3/97 [02:52<1:29:47, 57.31s/it, file=CJG_03_2023_01_28.txt, summaries_count=15, time=62.25 seconds]\u001b[A\u001b[A"
     ]
    },
    {
     "name": "stdout",
     "output_type": "stream",
     "text": [
      "Record already exists: voiceapp\\output\\summaries_folder\\glm4_9b_20241213_192515\\CJG_03_2023_01_28-summary_5.txt -> C:/Users/G/Documents/GitHub/audycje.com.pl/content/audio\\CJG_03_2023_01_28.txt\n",
      "Record already exists: voiceapp\\output\\summaries_folder\\glm4_9b_20241213_192515\\CJG_04_2023_02_04-summary_1.txt -> C:/Users/G/Documents/GitHub/audycje.com.pl/content/audio\\CJG_04_2023_02_04.txt\n",
      "Record already exists: voiceapp\\output\\summaries_folder\\glm4_9b_20241213_192515\\CJG_04_2023_02_04-summary_2.txt -> C:/Users/G/Documents/GitHub/audycje.com.pl/content/audio\\CJG_04_2023_02_04.txt\n",
      "Record already exists: voiceapp\\output\\summaries_folder\\glm4_9b_20241213_192515\\CJG_04_2023_02_04-summary_3.txt -> C:/Users/G/Documents/GitHub/audycje.com.pl/content/audio\\CJG_04_2023_02_04.txt\n",
      "Record already exists: voiceapp\\output\\summaries_folder\\glm4_9b_20241213_192515\\CJG_04_2023_02_04-summary_4.txt -> C:/Users/G/Documents/GitHub/audycje.com.pl/content/audio\\CJG_04_2023_02_04.txt\n",
      "Record already exists: voiceapp\\output\\summaries_folder\\glm4_9b_20241213_192515\\CJG_04_2023_02_04-summary_5.txt -> C:/Users/G/Documents/GitHub/audycje.com.pl/content/audio\\CJG_04_2023_02_04.txt\n",
      "Record already exists: voiceapp\\output\\summaries_folder\\glm4_9b_20241213_192515\\CJG_04_2023_02_04-summary_1.txt -> C:/Users/G/Documents/GitHub/audycje.com.pl/content/audio\\CJG_04_2023_02_04.txt\n",
      "Record already exists: voiceapp\\output\\summaries_folder\\glm4_9b_20241213_192515\\CJG_04_2023_02_04-summary_2.txt -> C:/Users/G/Documents/GitHub/audycje.com.pl/content/audio\\CJG_04_2023_02_04.txt\n",
      "Record already exists: voiceapp\\output\\summaries_folder\\glm4_9b_20241213_192515\\CJG_04_2023_02_04-summary_3.txt -> C:/Users/G/Documents/GitHub/audycje.com.pl/content/audio\\CJG_04_2023_02_04.txt\n",
      "Record already exists: voiceapp\\output\\summaries_folder\\glm4_9b_20241213_192515\\CJG_04_2023_02_04-summary_4.txt -> C:/Users/G/Documents/GitHub/audycje.com.pl/content/audio\\CJG_04_2023_02_04.txt\n"
     ]
    },
    {
     "name": "stderr",
     "output_type": "stream",
     "text": [
      "\n",
      "\n",
      "Summarizing files for glm4:9b:   4%|███▋                                                                                    | 4/97 [03:51<1:29:51, 57.97s/it, file=CJG_03_2023_01_28.txt, summaries_count=15, time=62.25 seconds]\u001b[A\u001b[A\n",
      "\n",
      "Summarizing files for glm4:9b:   4%|███▋                                                                                    | 4/97 [03:51<1:29:51, 57.97s/it, file=CJG_04_2023_02_04.txt, summaries_count=15, time=58.98 seconds]\u001b[A\u001b[A"
     ]
    },
    {
     "name": "stdout",
     "output_type": "stream",
     "text": [
      "Record already exists: voiceapp\\output\\summaries_folder\\glm4_9b_20241213_192515\\CJG_04_2023_02_04-summary_5.txt -> C:/Users/G/Documents/GitHub/audycje.com.pl/content/audio\\CJG_04_2023_02_04.txt\n",
      "Record already exists: voiceapp\\output\\summaries_folder\\glm4_9b_20241213_192515\\CJG_05_2023_02_11-summary_1.txt -> C:/Users/G/Documents/GitHub/audycje.com.pl/content/audio\\CJG_05_2023_02_11.txt\n",
      "Record already exists: voiceapp\\output\\summaries_folder\\glm4_9b_20241213_192515\\CJG_05_2023_02_11-summary_2.txt -> C:/Users/G/Documents/GitHub/audycje.com.pl/content/audio\\CJG_05_2023_02_11.txt\n",
      "Record already exists: voiceapp\\output\\summaries_folder\\glm4_9b_20241213_192515\\CJG_05_2023_02_11-summary_3.txt -> C:/Users/G/Documents/GitHub/audycje.com.pl/content/audio\\CJG_05_2023_02_11.txt\n",
      "Record already exists: voiceapp\\output\\summaries_folder\\glm4_9b_20241213_192515\\CJG_05_2023_02_11-summary_4.txt -> C:/Users/G/Documents/GitHub/audycje.com.pl/content/audio\\CJG_05_2023_02_11.txt\n",
      "Record already exists: voiceapp\\output\\summaries_folder\\glm4_9b_20241213_192515\\CJG_05_2023_02_11-summary_5.txt -> C:/Users/G/Documents/GitHub/audycje.com.pl/content/audio\\CJG_05_2023_02_11.txt\n",
      "Record already exists: voiceapp\\output\\summaries_folder\\glm4_9b_20241213_192515\\CJG_05_2023_02_11-summary_1.txt -> C:/Users/G/Documents/GitHub/audycje.com.pl/content/audio\\CJG_05_2023_02_11.txt\n",
      "Record already exists: voiceapp\\output\\summaries_folder\\glm4_9b_20241213_192515\\CJG_05_2023_02_11-summary_2.txt -> C:/Users/G/Documents/GitHub/audycje.com.pl/content/audio\\CJG_05_2023_02_11.txt\n",
      "Record already exists: voiceapp\\output\\summaries_folder\\glm4_9b_20241213_192515\\CJG_05_2023_02_11-summary_3.txt -> C:/Users/G/Documents/GitHub/audycje.com.pl/content/audio\\CJG_05_2023_02_11.txt\n",
      "Record already exists: voiceapp\\output\\summaries_folder\\glm4_9b_20241213_192515\\CJG_05_2023_02_11-summary_4.txt -> C:/Users/G/Documents/GitHub/audycje.com.pl/content/audio\\CJG_05_2023_02_11.txt\n"
     ]
    },
    {
     "name": "stderr",
     "output_type": "stream",
     "text": [
      "\n",
      "\n",
      "Summarizing files for glm4:9b:   5%|████▌                                                                                   | 5/97 [04:55<1:32:01, 60.02s/it, file=CJG_04_2023_02_04.txt, summaries_count=15, time=58.98 seconds]\u001b[A\u001b[A\n",
      "\n",
      "Summarizing files for glm4:9b:   5%|████▌                                                                                   | 5/97 [04:55<1:32:01, 60.02s/it, file=CJG_05_2023_02_11.txt, summaries_count=15, time=63.66 seconds]\u001b[A\u001b[A"
     ]
    },
    {
     "name": "stdout",
     "output_type": "stream",
     "text": [
      "Record already exists: voiceapp\\output\\summaries_folder\\glm4_9b_20241213_192515\\CJG_05_2023_02_11-summary_5.txt -> C:/Users/G/Documents/GitHub/audycje.com.pl/content/audio\\CJG_05_2023_02_11.txt\n",
      "Record already exists: voiceapp\\output\\summaries_folder\\glm4_9b_20241213_192515\\CJG_06_2023_02_18-summary_1.txt -> C:/Users/G/Documents/GitHub/audycje.com.pl/content/audio\\CJG_06_2023_02_18.txt\n",
      "Record already exists: voiceapp\\output\\summaries_folder\\glm4_9b_20241213_192515\\CJG_06_2023_02_18-summary_2.txt -> C:/Users/G/Documents/GitHub/audycje.com.pl/content/audio\\CJG_06_2023_02_18.txt\n",
      "Record already exists: voiceapp\\output\\summaries_folder\\glm4_9b_20241213_192515\\CJG_06_2023_02_18-summary_3.txt -> C:/Users/G/Documents/GitHub/audycje.com.pl/content/audio\\CJG_06_2023_02_18.txt\n",
      "Record already exists: voiceapp\\output\\summaries_folder\\glm4_9b_20241213_192515\\CJG_06_2023_02_18-summary_4.txt -> C:/Users/G/Documents/GitHub/audycje.com.pl/content/audio\\CJG_06_2023_02_18.txt\n",
      "Record already exists: voiceapp\\output\\summaries_folder\\glm4_9b_20241213_192515\\CJG_06_2023_02_18-summary_5.txt -> C:/Users/G/Documents/GitHub/audycje.com.pl/content/audio\\CJG_06_2023_02_18.txt\n",
      "Record already exists: voiceapp\\output\\summaries_folder\\glm4_9b_20241213_192515\\CJG_06_2023_02_18-summary_1.txt -> C:/Users/G/Documents/GitHub/audycje.com.pl/content/audio\\CJG_06_2023_02_18.txt\n",
      "Record already exists: voiceapp\\output\\summaries_folder\\glm4_9b_20241213_192515\\CJG_06_2023_02_18-summary_2.txt -> C:/Users/G/Documents/GitHub/audycje.com.pl/content/audio\\CJG_06_2023_02_18.txt\n",
      "Record already exists: voiceapp\\output\\summaries_folder\\glm4_9b_20241213_192515\\CJG_06_2023_02_18-summary_3.txt -> C:/Users/G/Documents/GitHub/audycje.com.pl/content/audio\\CJG_06_2023_02_18.txt\n",
      "Record already exists: voiceapp\\output\\summaries_folder\\glm4_9b_20241213_192515\\CJG_06_2023_02_18-summary_4.txt -> C:/Users/G/Documents/GitHub/audycje.com.pl/content/audio\\CJG_06_2023_02_18.txt\n"
     ]
    },
    {
     "name": "stderr",
     "output_type": "stream",
     "text": [
      "\n",
      "\n",
      "Summarizing files for glm4:9b:   6%|█████▍                                                                                  | 6/97 [05:54<1:30:34, 59.72s/it, file=CJG_05_2023_02_11.txt, summaries_count=15, time=63.66 seconds]\u001b[A\u001b[A\n",
      "\n",
      "Summarizing files for glm4:9b:   6%|█████▍                                                                                  | 6/97 [05:54<1:30:34, 59.72s/it, file=CJG_06_2023_02_18.txt, summaries_count=15, time=59.15 seconds]\u001b[A\u001b[A"
     ]
    },
    {
     "name": "stdout",
     "output_type": "stream",
     "text": [
      "Record already exists: voiceapp\\output\\summaries_folder\\glm4_9b_20241213_192515\\CJG_06_2023_02_18-summary_5.txt -> C:/Users/G/Documents/GitHub/audycje.com.pl/content/audio\\CJG_06_2023_02_18.txt\n",
      "Record already exists: voiceapp\\output\\summaries_folder\\glm4_9b_20241213_192515\\CJG_07_2023_02_25-summary_1.txt -> C:/Users/G/Documents/GitHub/audycje.com.pl/content/audio\\CJG_07_2023_02_25.txt\n",
      "Record already exists: voiceapp\\output\\summaries_folder\\glm4_9b_20241213_192515\\CJG_07_2023_02_25-summary_2.txt -> C:/Users/G/Documents/GitHub/audycje.com.pl/content/audio\\CJG_07_2023_02_25.txt\n",
      "Record already exists: voiceapp\\output\\summaries_folder\\glm4_9b_20241213_192515\\CJG_07_2023_02_25-summary_3.txt -> C:/Users/G/Documents/GitHub/audycje.com.pl/content/audio\\CJG_07_2023_02_25.txt\n",
      "Record already exists: voiceapp\\output\\summaries_folder\\glm4_9b_20241213_192515\\CJG_07_2023_02_25-summary_4.txt -> C:/Users/G/Documents/GitHub/audycje.com.pl/content/audio\\CJG_07_2023_02_25.txt\n",
      "Record already exists: voiceapp\\output\\summaries_folder\\glm4_9b_20241213_192515\\CJG_07_2023_02_25-summary_5.txt -> C:/Users/G/Documents/GitHub/audycje.com.pl/content/audio\\CJG_07_2023_02_25.txt\n",
      "Record already exists: voiceapp\\output\\summaries_folder\\glm4_9b_20241213_192515\\CJG_07_2023_02_25-summary_1.txt -> C:/Users/G/Documents/GitHub/audycje.com.pl/content/audio\\CJG_07_2023_02_25.txt\n",
      "Record already exists: voiceapp\\output\\summaries_folder\\glm4_9b_20241213_192515\\CJG_07_2023_02_25-summary_2.txt -> C:/Users/G/Documents/GitHub/audycje.com.pl/content/audio\\CJG_07_2023_02_25.txt\n",
      "Record already exists: voiceapp\\output\\summaries_folder\\glm4_9b_20241213_192515\\CJG_07_2023_02_25-summary_3.txt -> C:/Users/G/Documents/GitHub/audycje.com.pl/content/audio\\CJG_07_2023_02_25.txt\n",
      "Record already exists: voiceapp\\output\\summaries_folder\\glm4_9b_20241213_192515\\CJG_07_2023_02_25-summary_4.txt -> C:/Users/G/Documents/GitHub/audycje.com.pl/content/audio\\CJG_07_2023_02_25.txt\n",
      "Record already exists: voiceapp\\output\\summaries_folder\\glm4_9b_20241213_192515\\CJG_07_2023_02_25-summary_5.txt -> C:/Users/G/Documents/GitHub/audycje.com.pl/content/audio\\CJG_07_2023_02_25.txt\n",
      "Record already exists: voiceapp\\output\\summaries_folder\\glm4_9b_20241213_192515\\CJG_07_2023_02_25-summary_1.txt -> C:/Users/G/Documents/GitHub/audycje.com.pl/content/audio\\CJG_07_2023_02_25.txt\n",
      "Record already exists: voiceapp\\output\\summaries_folder\\glm4_9b_20241213_192515\\CJG_07_2023_02_25-summary_2.txt -> C:/Users/G/Documents/GitHub/audycje.com.pl/content/audio\\CJG_07_2023_02_25.txt\n",
      "Record already exists: voiceapp\\output\\summaries_folder\\glm4_9b_20241213_192515\\CJG_07_2023_02_25-summary_3.txt -> C:/Users/G/Documents/GitHub/audycje.com.pl/content/audio\\CJG_07_2023_02_25.txt\n",
      "Record already exists: voiceapp\\output\\summaries_folder\\glm4_9b_20241213_192515\\CJG_07_2023_02_25-summary_4.txt -> C:/Users/G/Documents/GitHub/audycje.com.pl/content/audio\\CJG_07_2023_02_25.txt\n"
     ]
    },
    {
     "name": "stderr",
     "output_type": "stream",
     "text": [
      "\n",
      "\n",
      "Summarizing files for glm4:9b:   7%|██████▎                                                                                 | 7/97 [07:14<1:39:42, 66.47s/it, file=CJG_06_2023_02_18.txt, summaries_count=15, time=59.15 seconds]\u001b[A\u001b[A\n",
      "\n",
      "Summarizing files for glm4:9b:   7%|██████▎                                                                                 | 7/97 [07:14<1:39:42, 66.47s/it, file=CJG_07_2023_02_25.txt, summaries_count=20, time=80.36 seconds]\u001b[A\u001b[A"
     ]
    },
    {
     "name": "stdout",
     "output_type": "stream",
     "text": [
      "Record already exists: voiceapp\\output\\summaries_folder\\glm4_9b_20241213_192515\\CJG_07_2023_02_25-summary_5.txt -> C:/Users/G/Documents/GitHub/audycje.com.pl/content/audio\\CJG_07_2023_02_25.txt\n",
      "Record already exists: voiceapp\\output\\summaries_folder\\glm4_9b_20241213_192515\\CJG_08_2023_03_04-summary_1.txt -> C:/Users/G/Documents/GitHub/audycje.com.pl/content/audio\\CJG_08_2023_03_04.txt\n",
      "Record already exists: voiceapp\\output\\summaries_folder\\glm4_9b_20241213_192515\\CJG_08_2023_03_04-summary_2.txt -> C:/Users/G/Documents/GitHub/audycje.com.pl/content/audio\\CJG_08_2023_03_04.txt\n",
      "Record already exists: voiceapp\\output\\summaries_folder\\glm4_9b_20241213_192515\\CJG_08_2023_03_04-summary_3.txt -> C:/Users/G/Documents/GitHub/audycje.com.pl/content/audio\\CJG_08_2023_03_04.txt\n",
      "Record already exists: voiceapp\\output\\summaries_folder\\glm4_9b_20241213_192515\\CJG_08_2023_03_04-summary_4.txt -> C:/Users/G/Documents/GitHub/audycje.com.pl/content/audio\\CJG_08_2023_03_04.txt\n",
      "Record already exists: voiceapp\\output\\summaries_folder\\glm4_9b_20241213_192515\\CJG_08_2023_03_04-summary_5.txt -> C:/Users/G/Documents/GitHub/audycje.com.pl/content/audio\\CJG_08_2023_03_04.txt\n",
      "Record already exists: voiceapp\\output\\summaries_folder\\glm4_9b_20241213_192515\\CJG_08_2023_03_04-summary_1.txt -> C:/Users/G/Documents/GitHub/audycje.com.pl/content/audio\\CJG_08_2023_03_04.txt\n",
      "Record already exists: voiceapp\\output\\summaries_folder\\glm4_9b_20241213_192515\\CJG_08_2023_03_04-summary_2.txt -> C:/Users/G/Documents/GitHub/audycje.com.pl/content/audio\\CJG_08_2023_03_04.txt\n",
      "Record already exists: voiceapp\\output\\summaries_folder\\glm4_9b_20241213_192515\\CJG_08_2023_03_04-summary_3.txt -> C:/Users/G/Documents/GitHub/audycje.com.pl/content/audio\\CJG_08_2023_03_04.txt\n",
      "Record already exists: voiceapp\\output\\summaries_folder\\glm4_9b_20241213_192515\\CJG_08_2023_03_04-summary_4.txt -> C:/Users/G/Documents/GitHub/audycje.com.pl/content/audio\\CJG_08_2023_03_04.txt\n"
     ]
    },
    {
     "name": "stderr",
     "output_type": "stream",
     "text": [
      "\n",
      "\n",
      "Summarizing files for glm4:9b:   8%|███████▎                                                                                | 8/97 [08:15<1:35:52, 64.63s/it, file=CJG_07_2023_02_25.txt, summaries_count=20, time=80.36 seconds]\u001b[A\u001b[A\n",
      "\n",
      "Summarizing files for glm4:9b:   8%|███████▎                                                                                | 8/97 [08:15<1:35:52, 64.63s/it, file=CJG_08_2023_03_04.txt, summaries_count=15, time=60.70 seconds]\u001b[A\u001b[A"
     ]
    },
    {
     "name": "stdout",
     "output_type": "stream",
     "text": [
      "Record already exists: voiceapp\\output\\summaries_folder\\glm4_9b_20241213_192515\\CJG_08_2023_03_04-summary_5.txt -> C:/Users/G/Documents/GitHub/audycje.com.pl/content/audio\\CJG_08_2023_03_04.txt\n",
      "Record already exists: voiceapp\\output\\summaries_folder\\glm4_9b_20241213_192515\\CJG_09_2023_03_11-summary_1.txt -> C:/Users/G/Documents/GitHub/audycje.com.pl/content/audio\\CJG_09_2023_03_11.txt\n",
      "Record already exists: voiceapp\\output\\summaries_folder\\glm4_9b_20241213_192515\\CJG_09_2023_03_11-summary_2.txt -> C:/Users/G/Documents/GitHub/audycje.com.pl/content/audio\\CJG_09_2023_03_11.txt\n",
      "Record already exists: voiceapp\\output\\summaries_folder\\glm4_9b_20241213_192515\\CJG_09_2023_03_11-summary_3.txt -> C:/Users/G/Documents/GitHub/audycje.com.pl/content/audio\\CJG_09_2023_03_11.txt\n",
      "Record already exists: voiceapp\\output\\summaries_folder\\glm4_9b_20241213_192515\\CJG_09_2023_03_11-summary_4.txt -> C:/Users/G/Documents/GitHub/audycje.com.pl/content/audio\\CJG_09_2023_03_11.txt\n",
      "Record already exists: voiceapp\\output\\summaries_folder\\glm4_9b_20241213_192515\\CJG_09_2023_03_11-summary_5.txt -> C:/Users/G/Documents/GitHub/audycje.com.pl/content/audio\\CJG_09_2023_03_11.txt\n",
      "Record already exists: voiceapp\\output\\summaries_folder\\glm4_9b_20241213_192515\\CJG_09_2023_03_11-summary_1.txt -> C:/Users/G/Documents/GitHub/audycje.com.pl/content/audio\\CJG_09_2023_03_11.txt\n",
      "Record already exists: voiceapp\\output\\summaries_folder\\glm4_9b_20241213_192515\\CJG_09_2023_03_11-summary_2.txt -> C:/Users/G/Documents/GitHub/audycje.com.pl/content/audio\\CJG_09_2023_03_11.txt\n",
      "Record already exists: voiceapp\\output\\summaries_folder\\glm4_9b_20241213_192515\\CJG_09_2023_03_11-summary_3.txt -> C:/Users/G/Documents/GitHub/audycje.com.pl/content/audio\\CJG_09_2023_03_11.txt\n",
      "Record already exists: voiceapp\\output\\summaries_folder\\glm4_9b_20241213_192515\\CJG_09_2023_03_11-summary_4.txt -> C:/Users/G/Documents/GitHub/audycje.com.pl/content/audio\\CJG_09_2023_03_11.txt\n"
     ]
    },
    {
     "name": "stderr",
     "output_type": "stream",
     "text": [
      "\n",
      "\n",
      "Summarizing files for glm4:9b:   9%|████████▏                                                                               | 9/97 [09:17<1:33:43, 63.91s/it, file=CJG_08_2023_03_04.txt, summaries_count=15, time=60.70 seconds]\u001b[A\u001b[A\n",
      "\n",
      "Summarizing files for glm4:9b:   9%|████████▏                                                                               | 9/97 [09:17<1:33:43, 63.91s/it, file=CJG_09_2023_03_11.txt, summaries_count=15, time=62.31 seconds]\u001b[A\u001b[A"
     ]
    },
    {
     "name": "stdout",
     "output_type": "stream",
     "text": [
      "Record already exists: voiceapp\\output\\summaries_folder\\glm4_9b_20241213_192515\\CJG_09_2023_03_11-summary_5.txt -> C:/Users/G/Documents/GitHub/audycje.com.pl/content/audio\\CJG_09_2023_03_11.txt\n",
      "Record already exists: voiceapp\\output\\summaries_folder\\glm4_9b_20241213_192515\\CJG_10_2023_03_18-summary_1.txt -> C:/Users/G/Documents/GitHub/audycje.com.pl/content/audio\\CJG_10_2023_03_18.txt\n",
      "Record already exists: voiceapp\\output\\summaries_folder\\glm4_9b_20241213_192515\\CJG_10_2023_03_18-summary_2.txt -> C:/Users/G/Documents/GitHub/audycje.com.pl/content/audio\\CJG_10_2023_03_18.txt\n",
      "Record already exists: voiceapp\\output\\summaries_folder\\glm4_9b_20241213_192515\\CJG_10_2023_03_18-summary_3.txt -> C:/Users/G/Documents/GitHub/audycje.com.pl/content/audio\\CJG_10_2023_03_18.txt\n",
      "Record already exists: voiceapp\\output\\summaries_folder\\glm4_9b_20241213_192515\\CJG_10_2023_03_18-summary_4.txt -> C:/Users/G/Documents/GitHub/audycje.com.pl/content/audio\\CJG_10_2023_03_18.txt\n",
      "Record already exists: voiceapp\\output\\summaries_folder\\glm4_9b_20241213_192515\\CJG_10_2023_03_18-summary_5.txt -> C:/Users/G/Documents/GitHub/audycje.com.pl/content/audio\\CJG_10_2023_03_18.txt\n",
      "Record already exists: voiceapp\\output\\summaries_folder\\glm4_9b_20241213_192515\\CJG_10_2023_03_18-summary_1.txt -> C:/Users/G/Documents/GitHub/audycje.com.pl/content/audio\\CJG_10_2023_03_18.txt\n",
      "Record already exists: voiceapp\\output\\summaries_folder\\glm4_9b_20241213_192515\\CJG_10_2023_03_18-summary_2.txt -> C:/Users/G/Documents/GitHub/audycje.com.pl/content/audio\\CJG_10_2023_03_18.txt\n",
      "Record already exists: voiceapp\\output\\summaries_folder\\glm4_9b_20241213_192515\\CJG_10_2023_03_18-summary_3.txt -> C:/Users/G/Documents/GitHub/audycje.com.pl/content/audio\\CJG_10_2023_03_18.txt\n",
      "Record already exists: voiceapp\\output\\summaries_folder\\glm4_9b_20241213_192515\\CJG_10_2023_03_18-summary_4.txt -> C:/Users/G/Documents/GitHub/audycje.com.pl/content/audio\\CJG_10_2023_03_18.txt\n",
      "Record already exists: voiceapp\\output\\summaries_folder\\glm4_9b_20241213_192515\\CJG_10_2023_03_18-summary_5.txt -> C:/Users/G/Documents/GitHub/audycje.com.pl/content/audio\\CJG_10_2023_03_18.txt\n",
      "Record already exists: voiceapp\\output\\summaries_folder\\glm4_9b_20241213_192515\\CJG_10_2023_03_18-summary_1.txt -> C:/Users/G/Documents/GitHub/audycje.com.pl/content/audio\\CJG_10_2023_03_18.txt\n",
      "Record already exists: voiceapp\\output\\summaries_folder\\glm4_9b_20241213_192515\\CJG_10_2023_03_18-summary_2.txt -> C:/Users/G/Documents/GitHub/audycje.com.pl/content/audio\\CJG_10_2023_03_18.txt\n",
      "Record already exists: voiceapp\\output\\summaries_folder\\glm4_9b_20241213_192515\\CJG_10_2023_03_18-summary_3.txt -> C:/Users/G/Documents/GitHub/audycje.com.pl/content/audio\\CJG_10_2023_03_18.txt\n",
      "Record already exists: voiceapp\\output\\summaries_folder\\glm4_9b_20241213_192515\\CJG_10_2023_03_18-summary_4.txt -> C:/Users/G/Documents/GitHub/audycje.com.pl/content/audio\\CJG_10_2023_03_18.txt\n"
     ]
    },
    {
     "name": "stderr",
     "output_type": "stream",
     "text": [
      "\n",
      "\n",
      "Summarizing files for glm4:9b:  10%|████████▉                                                                              | 10/97 [10:34<1:38:29, 67.93s/it, file=CJG_09_2023_03_11.txt, summaries_count=15, time=62.31 seconds]\u001b[A\u001b[A\n",
      "\n",
      "Summarizing files for glm4:9b:  10%|████████▉                                                                              | 10/97 [10:34<1:38:29, 67.93s/it, file=CJG_10_2023_03_18.txt, summaries_count=20, time=76.92 seconds]\u001b[A\u001b[A"
     ]
    },
    {
     "name": "stdout",
     "output_type": "stream",
     "text": [
      "Record already exists: voiceapp\\output\\summaries_folder\\glm4_9b_20241213_192515\\CJG_10_2023_03_18-summary_5.txt -> C:/Users/G/Documents/GitHub/audycje.com.pl/content/audio\\CJG_10_2023_03_18.txt\n",
      "Record already exists: voiceapp\\output\\summaries_folder\\glm4_9b_20241213_192515\\CJG_11_2023_03_25-summary_1.txt -> C:/Users/G/Documents/GitHub/audycje.com.pl/content/audio\\CJG_11_2023_03_25.txt\n",
      "Record already exists: voiceapp\\output\\summaries_folder\\glm4_9b_20241213_192515\\CJG_11_2023_03_25-summary_2.txt -> C:/Users/G/Documents/GitHub/audycje.com.pl/content/audio\\CJG_11_2023_03_25.txt\n",
      "Record already exists: voiceapp\\output\\summaries_folder\\glm4_9b_20241213_192515\\CJG_11_2023_03_25-summary_3.txt -> C:/Users/G/Documents/GitHub/audycje.com.pl/content/audio\\CJG_11_2023_03_25.txt\n",
      "Record already exists: voiceapp\\output\\summaries_folder\\glm4_9b_20241213_192515\\CJG_11_2023_03_25-summary_4.txt -> C:/Users/G/Documents/GitHub/audycje.com.pl/content/audio\\CJG_11_2023_03_25.txt\n",
      "Record already exists: voiceapp\\output\\summaries_folder\\glm4_9b_20241213_192515\\CJG_11_2023_03_25-summary_5.txt -> C:/Users/G/Documents/GitHub/audycje.com.pl/content/audio\\CJG_11_2023_03_25.txt\n",
      "Record already exists: voiceapp\\output\\summaries_folder\\glm4_9b_20241213_192515\\CJG_11_2023_03_25-summary_1.txt -> C:/Users/G/Documents/GitHub/audycje.com.pl/content/audio\\CJG_11_2023_03_25.txt\n",
      "Record already exists: voiceapp\\output\\summaries_folder\\glm4_9b_20241213_192515\\CJG_11_2023_03_25-summary_2.txt -> C:/Users/G/Documents/GitHub/audycje.com.pl/content/audio\\CJG_11_2023_03_25.txt\n",
      "Record already exists: voiceapp\\output\\summaries_folder\\glm4_9b_20241213_192515\\CJG_11_2023_03_25-summary_3.txt -> C:/Users/G/Documents/GitHub/audycje.com.pl/content/audio\\CJG_11_2023_03_25.txt\n",
      "Record already exists: voiceapp\\output\\summaries_folder\\glm4_9b_20241213_192515\\CJG_11_2023_03_25-summary_4.txt -> C:/Users/G/Documents/GitHub/audycje.com.pl/content/audio\\CJG_11_2023_03_25.txt\n",
      "Record already exists: voiceapp\\output\\summaries_folder\\glm4_9b_20241213_192515\\CJG_11_2023_03_25-summary_5.txt -> C:/Users/G/Documents/GitHub/audycje.com.pl/content/audio\\CJG_11_2023_03_25.txt\n",
      "Record already exists: voiceapp\\output\\summaries_folder\\glm4_9b_20241213_192515\\CJG_11_2023_03_25-summary_1.txt -> C:/Users/G/Documents/GitHub/audycje.com.pl/content/audio\\CJG_11_2023_03_25.txt\n",
      "Record already exists: voiceapp\\output\\summaries_folder\\glm4_9b_20241213_192515\\CJG_11_2023_03_25-summary_2.txt -> C:/Users/G/Documents/GitHub/audycje.com.pl/content/audio\\CJG_11_2023_03_25.txt\n",
      "Record already exists: voiceapp\\output\\summaries_folder\\glm4_9b_20241213_192515\\CJG_11_2023_03_25-summary_3.txt -> C:/Users/G/Documents/GitHub/audycje.com.pl/content/audio\\CJG_11_2023_03_25.txt\n",
      "Record already exists: voiceapp\\output\\summaries_folder\\glm4_9b_20241213_192515\\CJG_11_2023_03_25-summary_4.txt -> C:/Users/G/Documents/GitHub/audycje.com.pl/content/audio\\CJG_11_2023_03_25.txt\n"
     ]
    },
    {
     "name": "stderr",
     "output_type": "stream",
     "text": [
      "\n",
      "\n",
      "Summarizing files for glm4:9b:  11%|█████████▊                                                                             | 11/97 [11:54<1:42:41, 71.65s/it, file=CJG_10_2023_03_18.txt, summaries_count=20, time=76.92 seconds]\u001b[A\u001b[A\n",
      "\n",
      "Summarizing files for glm4:9b:  11%|█████████▊                                                                             | 11/97 [11:54<1:42:41, 71.65s/it, file=CJG_11_2023_03_25.txt, summaries_count=20, time=80.09 seconds]\u001b[A\u001b[A"
     ]
    },
    {
     "name": "stdout",
     "output_type": "stream",
     "text": [
      "Record already exists: voiceapp\\output\\summaries_folder\\glm4_9b_20241213_192515\\CJG_11_2023_03_25-summary_5.txt -> C:/Users/G/Documents/GitHub/audycje.com.pl/content/audio\\CJG_11_2023_03_25.txt\n",
      "Record already exists: voiceapp\\output\\summaries_folder\\glm4_9b_20241213_192515\\CJG_12_2023_04_01-summary_1.txt -> C:/Users/G/Documents/GitHub/audycje.com.pl/content/audio\\CJG_12_2023_04_01.txt\n",
      "Record already exists: voiceapp\\output\\summaries_folder\\glm4_9b_20241213_192515\\CJG_12_2023_04_01-summary_2.txt -> C:/Users/G/Documents/GitHub/audycje.com.pl/content/audio\\CJG_12_2023_04_01.txt\n",
      "Record already exists: voiceapp\\output\\summaries_folder\\glm4_9b_20241213_192515\\CJG_12_2023_04_01-summary_3.txt -> C:/Users/G/Documents/GitHub/audycje.com.pl/content/audio\\CJG_12_2023_04_01.txt\n",
      "Record already exists: voiceapp\\output\\summaries_folder\\glm4_9b_20241213_192515\\CJG_12_2023_04_01-summary_4.txt -> C:/Users/G/Documents/GitHub/audycje.com.pl/content/audio\\CJG_12_2023_04_01.txt\n",
      "Record already exists: voiceapp\\output\\summaries_folder\\glm4_9b_20241213_192515\\CJG_12_2023_04_01-summary_5.txt -> C:/Users/G/Documents/GitHub/audycje.com.pl/content/audio\\CJG_12_2023_04_01.txt\n",
      "Record already exists: voiceapp\\output\\summaries_folder\\glm4_9b_20241213_192515\\CJG_12_2023_04_01-summary_1.txt -> C:/Users/G/Documents/GitHub/audycje.com.pl/content/audio\\CJG_12_2023_04_01.txt\n",
      "Record already exists: voiceapp\\output\\summaries_folder\\glm4_9b_20241213_192515\\CJG_12_2023_04_01-summary_2.txt -> C:/Users/G/Documents/GitHub/audycje.com.pl/content/audio\\CJG_12_2023_04_01.txt\n",
      "Record already exists: voiceapp\\output\\summaries_folder\\glm4_9b_20241213_192515\\CJG_12_2023_04_01-summary_3.txt -> C:/Users/G/Documents/GitHub/audycje.com.pl/content/audio\\CJG_12_2023_04_01.txt\n",
      "Record already exists: voiceapp\\output\\summaries_folder\\glm4_9b_20241213_192515\\CJG_12_2023_04_01-summary_4.txt -> C:/Users/G/Documents/GitHub/audycje.com.pl/content/audio\\CJG_12_2023_04_01.txt\n",
      "Record already exists: voiceapp\\output\\summaries_folder\\glm4_9b_20241213_192515\\CJG_12_2023_04_01-summary_5.txt -> C:/Users/G/Documents/GitHub/audycje.com.pl/content/audio\\CJG_12_2023_04_01.txt\n",
      "Record already exists: voiceapp\\output\\summaries_folder\\glm4_9b_20241213_192515\\CJG_12_2023_04_01-summary_1.txt -> C:/Users/G/Documents/GitHub/audycje.com.pl/content/audio\\CJG_12_2023_04_01.txt\n",
      "Record already exists: voiceapp\\output\\summaries_folder\\glm4_9b_20241213_192515\\CJG_12_2023_04_01-summary_2.txt -> C:/Users/G/Documents/GitHub/audycje.com.pl/content/audio\\CJG_12_2023_04_01.txt\n",
      "Record already exists: voiceapp\\output\\summaries_folder\\glm4_9b_20241213_192515\\CJG_12_2023_04_01-summary_3.txt -> C:/Users/G/Documents/GitHub/audycje.com.pl/content/audio\\CJG_12_2023_04_01.txt\n",
      "Record already exists: voiceapp\\output\\summaries_folder\\glm4_9b_20241213_192515\\CJG_12_2023_04_01-summary_4.txt -> C:/Users/G/Documents/GitHub/audycje.com.pl/content/audio\\CJG_12_2023_04_01.txt\n"
     ]
    },
    {
     "name": "stderr",
     "output_type": "stream",
     "text": [
      "\n",
      "\n",
      "Summarizing files for glm4:9b:  12%|██████████▊                                                                            | 12/97 [13:13<1:44:30, 73.77s/it, file=CJG_11_2023_03_25.txt, summaries_count=20, time=80.09 seconds]\u001b[A\u001b[A\n",
      "\n",
      "Summarizing files for glm4:9b:  12%|██████████▊                                                                            | 12/97 [13:13<1:44:30, 73.77s/it, file=CJG_12_2023_04_01.txt, summaries_count=20, time=78.61 seconds]\u001b[A\u001b[A"
     ]
    },
    {
     "name": "stdout",
     "output_type": "stream",
     "text": [
      "Record already exists: voiceapp\\output\\summaries_folder\\glm4_9b_20241213_192515\\CJG_12_2023_04_01-summary_5.txt -> C:/Users/G/Documents/GitHub/audycje.com.pl/content/audio\\CJG_12_2023_04_01.txt\n",
      "Record already exists: voiceapp\\output\\summaries_folder\\glm4_9b_20241213_192515\\CJG_13_2023_04_08-summary_1.txt -> C:/Users/G/Documents/GitHub/audycje.com.pl/content/audio\\CJG_13_2023_04_08.txt\n",
      "Record already exists: voiceapp\\output\\summaries_folder\\glm4_9b_20241213_192515\\CJG_13_2023_04_08-summary_2.txt -> C:/Users/G/Documents/GitHub/audycje.com.pl/content/audio\\CJG_13_2023_04_08.txt\n",
      "Record already exists: voiceapp\\output\\summaries_folder\\glm4_9b_20241213_192515\\CJG_13_2023_04_08-summary_3.txt -> C:/Users/G/Documents/GitHub/audycje.com.pl/content/audio\\CJG_13_2023_04_08.txt\n",
      "Record already exists: voiceapp\\output\\summaries_folder\\glm4_9b_20241213_192515\\CJG_13_2023_04_08-summary_4.txt -> C:/Users/G/Documents/GitHub/audycje.com.pl/content/audio\\CJG_13_2023_04_08.txt\n",
      "Record already exists: voiceapp\\output\\summaries_folder\\glm4_9b_20241213_192515\\CJG_13_2023_04_08-summary_5.txt -> C:/Users/G/Documents/GitHub/audycje.com.pl/content/audio\\CJG_13_2023_04_08.txt\n",
      "Record already exists: voiceapp\\output\\summaries_folder\\glm4_9b_20241213_192515\\CJG_13_2023_04_08-summary_1.txt -> C:/Users/G/Documents/GitHub/audycje.com.pl/content/audio\\CJG_13_2023_04_08.txt\n",
      "Record already exists: voiceapp\\output\\summaries_folder\\glm4_9b_20241213_192515\\CJG_13_2023_04_08-summary_2.txt -> C:/Users/G/Documents/GitHub/audycje.com.pl/content/audio\\CJG_13_2023_04_08.txt\n",
      "Record already exists: voiceapp\\output\\summaries_folder\\glm4_9b_20241213_192515\\CJG_13_2023_04_08-summary_3.txt -> C:/Users/G/Documents/GitHub/audycje.com.pl/content/audio\\CJG_13_2023_04_08.txt\n",
      "Record already exists: voiceapp\\output\\summaries_folder\\glm4_9b_20241213_192515\\CJG_13_2023_04_08-summary_4.txt -> C:/Users/G/Documents/GitHub/audycje.com.pl/content/audio\\CJG_13_2023_04_08.txt\n",
      "Record already exists: voiceapp\\output\\summaries_folder\\glm4_9b_20241213_192515\\CJG_13_2023_04_08-summary_5.txt -> C:/Users/G/Documents/GitHub/audycje.com.pl/content/audio\\CJG_13_2023_04_08.txt\n",
      "Record already exists: voiceapp\\output\\summaries_folder\\glm4_9b_20241213_192515\\CJG_13_2023_04_08-summary_1.txt -> C:/Users/G/Documents/GitHub/audycje.com.pl/content/audio\\CJG_13_2023_04_08.txt\n",
      "Record already exists: voiceapp\\output\\summaries_folder\\glm4_9b_20241213_192515\\CJG_13_2023_04_08-summary_2.txt -> C:/Users/G/Documents/GitHub/audycje.com.pl/content/audio\\CJG_13_2023_04_08.txt\n",
      "Record already exists: voiceapp\\output\\summaries_folder\\glm4_9b_20241213_192515\\CJG_13_2023_04_08-summary_3.txt -> C:/Users/G/Documents/GitHub/audycje.com.pl/content/audio\\CJG_13_2023_04_08.txt\n",
      "Record already exists: voiceapp\\output\\summaries_folder\\glm4_9b_20241213_192515\\CJG_13_2023_04_08-summary_4.txt -> C:/Users/G/Documents/GitHub/audycje.com.pl/content/audio\\CJG_13_2023_04_08.txt\n"
     ]
    },
    {
     "name": "stderr",
     "output_type": "stream",
     "text": [
      "\n",
      "\n",
      "Summarizing files for glm4:9b:  13%|███████████▋                                                                           | 13/97 [14:33<1:46:08, 75.81s/it, file=CJG_12_2023_04_01.txt, summaries_count=20, time=78.61 seconds]\u001b[A\u001b[A\n",
      "\n",
      "Summarizing files for glm4:9b:  13%|███████████▋                                                                           | 13/97 [14:33<1:46:08, 75.81s/it, file=CJG_13_2023_04_08.txt, summaries_count=20, time=80.52 seconds]\u001b[A\u001b[A"
     ]
    },
    {
     "name": "stdout",
     "output_type": "stream",
     "text": [
      "Record already exists: voiceapp\\output\\summaries_folder\\glm4_9b_20241213_192515\\CJG_13_2023_04_08-summary_5.txt -> C:/Users/G/Documents/GitHub/audycje.com.pl/content/audio\\CJG_13_2023_04_08.txt\n",
      "Record already exists: voiceapp\\output\\summaries_folder\\glm4_9b_20241213_192515\\CJG_14_2023_04_15-summary_1.txt -> C:/Users/G/Documents/GitHub/audycje.com.pl/content/audio\\CJG_14_2023_04_15.txt\n",
      "Record already exists: voiceapp\\output\\summaries_folder\\glm4_9b_20241213_192515\\CJG_14_2023_04_15-summary_2.txt -> C:/Users/G/Documents/GitHub/audycje.com.pl/content/audio\\CJG_14_2023_04_15.txt\n",
      "Record already exists: voiceapp\\output\\summaries_folder\\glm4_9b_20241213_192515\\CJG_14_2023_04_15-summary_3.txt -> C:/Users/G/Documents/GitHub/audycje.com.pl/content/audio\\CJG_14_2023_04_15.txt\n",
      "Record already exists: voiceapp\\output\\summaries_folder\\glm4_9b_20241213_192515\\CJG_14_2023_04_15-summary_4.txt -> C:/Users/G/Documents/GitHub/audycje.com.pl/content/audio\\CJG_14_2023_04_15.txt\n",
      "Record already exists: voiceapp\\output\\summaries_folder\\glm4_9b_20241213_192515\\CJG_14_2023_04_15-summary_5.txt -> C:/Users/G/Documents/GitHub/audycje.com.pl/content/audio\\CJG_14_2023_04_15.txt\n",
      "Record already exists: voiceapp\\output\\summaries_folder\\glm4_9b_20241213_192515\\CJG_14_2023_04_15-summary_1.txt -> C:/Users/G/Documents/GitHub/audycje.com.pl/content/audio\\CJG_14_2023_04_15.txt\n",
      "Record already exists: voiceapp\\output\\summaries_folder\\glm4_9b_20241213_192515\\CJG_14_2023_04_15-summary_2.txt -> C:/Users/G/Documents/GitHub/audycje.com.pl/content/audio\\CJG_14_2023_04_15.txt\n",
      "Record already exists: voiceapp\\output\\summaries_folder\\glm4_9b_20241213_192515\\CJG_14_2023_04_15-summary_3.txt -> C:/Users/G/Documents/GitHub/audycje.com.pl/content/audio\\CJG_14_2023_04_15.txt\n",
      "Record already exists: voiceapp\\output\\summaries_folder\\glm4_9b_20241213_192515\\CJG_14_2023_04_15-summary_4.txt -> C:/Users/G/Documents/GitHub/audycje.com.pl/content/audio\\CJG_14_2023_04_15.txt\n",
      "Record already exists: voiceapp\\output\\summaries_folder\\glm4_9b_20241213_192515\\CJG_14_2023_04_15-summary_5.txt -> C:/Users/G/Documents/GitHub/audycje.com.pl/content/audio\\CJG_14_2023_04_15.txt\n",
      "Record already exists: voiceapp\\output\\summaries_folder\\glm4_9b_20241213_192515\\CJG_14_2023_04_15-summary_1.txt -> C:/Users/G/Documents/GitHub/audycje.com.pl/content/audio\\CJG_14_2023_04_15.txt\n",
      "Record already exists: voiceapp\\output\\summaries_folder\\glm4_9b_20241213_192515\\CJG_14_2023_04_15-summary_2.txt -> C:/Users/G/Documents/GitHub/audycje.com.pl/content/audio\\CJG_14_2023_04_15.txt\n",
      "Record already exists: voiceapp\\output\\summaries_folder\\glm4_9b_20241213_192515\\CJG_14_2023_04_15-summary_3.txt -> C:/Users/G/Documents/GitHub/audycje.com.pl/content/audio\\CJG_14_2023_04_15.txt\n",
      "Record already exists: voiceapp\\output\\summaries_folder\\glm4_9b_20241213_192515\\CJG_14_2023_04_15-summary_4.txt -> C:/Users/G/Documents/GitHub/audycje.com.pl/content/audio\\CJG_14_2023_04_15.txt\n"
     ]
    },
    {
     "name": "stderr",
     "output_type": "stream",
     "text": [
      "\n",
      "\n",
      "Summarizing files for glm4:9b:  14%|████████████▌                                                                          | 14/97 [15:55<1:47:18, 77.58s/it, file=CJG_13_2023_04_08.txt, summaries_count=20, time=80.52 seconds]\u001b[A\u001b[A\n",
      "\n",
      "Summarizing files for glm4:9b:  14%|████████████▌                                                                          | 14/97 [15:55<1:47:18, 77.58s/it, file=CJG_14_2023_04_15.txt, summaries_count=20, time=81.66 seconds]\u001b[A\u001b[A"
     ]
    },
    {
     "name": "stdout",
     "output_type": "stream",
     "text": [
      "Record already exists: voiceapp\\output\\summaries_folder\\glm4_9b_20241213_192515\\CJG_14_2023_04_15-summary_5.txt -> C:/Users/G/Documents/GitHub/audycje.com.pl/content/audio\\CJG_14_2023_04_15.txt\n",
      "Record already exists: voiceapp\\output\\summaries_folder\\glm4_9b_20241213_192515\\CJG_15_2023_04_22-summary_1.txt -> C:/Users/G/Documents/GitHub/audycje.com.pl/content/audio\\CJG_15_2023_04_22.txt\n",
      "Record already exists: voiceapp\\output\\summaries_folder\\glm4_9b_20241213_192515\\CJG_15_2023_04_22-summary_2.txt -> C:/Users/G/Documents/GitHub/audycje.com.pl/content/audio\\CJG_15_2023_04_22.txt\n",
      "Record already exists: voiceapp\\output\\summaries_folder\\glm4_9b_20241213_192515\\CJG_15_2023_04_22-summary_3.txt -> C:/Users/G/Documents/GitHub/audycje.com.pl/content/audio\\CJG_15_2023_04_22.txt\n",
      "Record already exists: voiceapp\\output\\summaries_folder\\glm4_9b_20241213_192515\\CJG_15_2023_04_22-summary_4.txt -> C:/Users/G/Documents/GitHub/audycje.com.pl/content/audio\\CJG_15_2023_04_22.txt\n",
      "Record already exists: voiceapp\\output\\summaries_folder\\glm4_9b_20241213_192515\\CJG_15_2023_04_22-summary_5.txt -> C:/Users/G/Documents/GitHub/audycje.com.pl/content/audio\\CJG_15_2023_04_22.txt\n",
      "Record already exists: voiceapp\\output\\summaries_folder\\glm4_9b_20241213_192515\\CJG_15_2023_04_22-summary_1.txt -> C:/Users/G/Documents/GitHub/audycje.com.pl/content/audio\\CJG_15_2023_04_22.txt\n",
      "Record already exists: voiceapp\\output\\summaries_folder\\glm4_9b_20241213_192515\\CJG_15_2023_04_22-summary_2.txt -> C:/Users/G/Documents/GitHub/audycje.com.pl/content/audio\\CJG_15_2023_04_22.txt\n",
      "Record already exists: voiceapp\\output\\summaries_folder\\glm4_9b_20241213_192515\\CJG_15_2023_04_22-summary_3.txt -> C:/Users/G/Documents/GitHub/audycje.com.pl/content/audio\\CJG_15_2023_04_22.txt\n",
      "Record already exists: voiceapp\\output\\summaries_folder\\glm4_9b_20241213_192515\\CJG_15_2023_04_22-summary_4.txt -> C:/Users/G/Documents/GitHub/audycje.com.pl/content/audio\\CJG_15_2023_04_22.txt\n",
      "Record already exists: voiceapp\\output\\summaries_folder\\glm4_9b_20241213_192515\\CJG_15_2023_04_22-summary_5.txt -> C:/Users/G/Documents/GitHub/audycje.com.pl/content/audio\\CJG_15_2023_04_22.txt\n",
      "Record already exists: voiceapp\\output\\summaries_folder\\glm4_9b_20241213_192515\\CJG_15_2023_04_22-summary_1.txt -> C:/Users/G/Documents/GitHub/audycje.com.pl/content/audio\\CJG_15_2023_04_22.txt\n",
      "Record already exists: voiceapp\\output\\summaries_folder\\glm4_9b_20241213_192515\\CJG_15_2023_04_22-summary_2.txt -> C:/Users/G/Documents/GitHub/audycje.com.pl/content/audio\\CJG_15_2023_04_22.txt\n",
      "Record already exists: voiceapp\\output\\summaries_folder\\glm4_9b_20241213_192515\\CJG_15_2023_04_22-summary_3.txt -> C:/Users/G/Documents/GitHub/audycje.com.pl/content/audio\\CJG_15_2023_04_22.txt\n",
      "Record already exists: voiceapp\\output\\summaries_folder\\glm4_9b_20241213_192515\\CJG_15_2023_04_22-summary_4.txt -> C:/Users/G/Documents/GitHub/audycje.com.pl/content/audio\\CJG_15_2023_04_22.txt\n",
      "Record already exists: voiceapp\\output\\summaries_folder\\glm4_9b_20241213_192515\\CJG_15_2023_04_22-summary_5.txt -> C:/Users/G/Documents/GitHub/audycje.com.pl/content/audio\\CJG_15_2023_04_22.txt\n",
      "Record already exists: voiceapp\\output\\summaries_folder\\glm4_9b_20241213_192515\\CJG_15_2023_04_22-summary_1.txt -> C:/Users/G/Documents/GitHub/audycje.com.pl/content/audio\\CJG_15_2023_04_22.txt\n",
      "Record already exists: voiceapp\\output\\summaries_folder\\glm4_9b_20241213_192515\\CJG_15_2023_04_22-summary_2.txt -> C:/Users/G/Documents/GitHub/audycje.com.pl/content/audio\\CJG_15_2023_04_22.txt\n",
      "Record already exists: voiceapp\\output\\summaries_folder\\glm4_9b_20241213_192515\\CJG_15_2023_04_22-summary_3.txt -> C:/Users/G/Documents/GitHub/audycje.com.pl/content/audio\\CJG_15_2023_04_22.txt\n",
      "Record already exists: voiceapp\\output\\summaries_folder\\glm4_9b_20241213_192515\\CJG_15_2023_04_22-summary_4.txt -> C:/Users/G/Documents/GitHub/audycje.com.pl/content/audio\\CJG_15_2023_04_22.txt\n"
     ]
    },
    {
     "name": "stderr",
     "output_type": "stream",
     "text": [
      "\n",
      "\n",
      "Summarizing files for glm4:9b:  15%|█████████████▍                                                                         | 15/97 [17:27<1:51:50, 81.83s/it, file=CJG_14_2023_04_15.txt, summaries_count=20, time=81.66 seconds]\u001b[A\u001b[A\n",
      "\n",
      "Summarizing files for glm4:9b:  15%|█████████████▍                                                                         | 15/97 [17:27<1:51:50, 81.83s/it, file=CJG_15_2023_04_22.txt, summaries_count=25, time=91.69 seconds]\u001b[A\u001b[A"
     ]
    },
    {
     "name": "stdout",
     "output_type": "stream",
     "text": [
      "Record already exists: voiceapp\\output\\summaries_folder\\glm4_9b_20241213_192515\\CJG_15_2023_04_22-summary_5.txt -> C:/Users/G/Documents/GitHub/audycje.com.pl/content/audio\\CJG_15_2023_04_22.txt\n",
      "Record already exists: voiceapp\\output\\summaries_folder\\glm4_9b_20241213_192515\\CJG_16_2023_04_29-summary_1.txt -> C:/Users/G/Documents/GitHub/audycje.com.pl/content/audio\\CJG_16_2023_04_29.txt\n",
      "Record already exists: voiceapp\\output\\summaries_folder\\glm4_9b_20241213_192515\\CJG_16_2023_04_29-summary_2.txt -> C:/Users/G/Documents/GitHub/audycje.com.pl/content/audio\\CJG_16_2023_04_29.txt\n",
      "Record already exists: voiceapp\\output\\summaries_folder\\glm4_9b_20241213_192515\\CJG_16_2023_04_29-summary_3.txt -> C:/Users/G/Documents/GitHub/audycje.com.pl/content/audio\\CJG_16_2023_04_29.txt\n",
      "Record already exists: voiceapp\\output\\summaries_folder\\glm4_9b_20241213_192515\\CJG_16_2023_04_29-summary_4.txt -> C:/Users/G/Documents/GitHub/audycje.com.pl/content/audio\\CJG_16_2023_04_29.txt\n",
      "Record already exists: voiceapp\\output\\summaries_folder\\glm4_9b_20241213_192515\\CJG_16_2023_04_29-summary_5.txt -> C:/Users/G/Documents/GitHub/audycje.com.pl/content/audio\\CJG_16_2023_04_29.txt\n",
      "Record already exists: voiceapp\\output\\summaries_folder\\glm4_9b_20241213_192515\\CJG_16_2023_04_29-summary_1.txt -> C:/Users/G/Documents/GitHub/audycje.com.pl/content/audio\\CJG_16_2023_04_29.txt\n",
      "Record already exists: voiceapp\\output\\summaries_folder\\glm4_9b_20241213_192515\\CJG_16_2023_04_29-summary_2.txt -> C:/Users/G/Documents/GitHub/audycje.com.pl/content/audio\\CJG_16_2023_04_29.txt\n",
      "Record already exists: voiceapp\\output\\summaries_folder\\glm4_9b_20241213_192515\\CJG_16_2023_04_29-summary_3.txt -> C:/Users/G/Documents/GitHub/audycje.com.pl/content/audio\\CJG_16_2023_04_29.txt\n",
      "Record already exists: voiceapp\\output\\summaries_folder\\glm4_9b_20241213_192515\\CJG_16_2023_04_29-summary_4.txt -> C:/Users/G/Documents/GitHub/audycje.com.pl/content/audio\\CJG_16_2023_04_29.txt\n"
     ]
    },
    {
     "name": "stderr",
     "output_type": "stream",
     "text": [
      "\n",
      "\n",
      "Summarizing files for glm4:9b:  16%|██████████████▎                                                                        | 16/97 [18:32<1:43:52, 76.95s/it, file=CJG_15_2023_04_22.txt, summaries_count=25, time=91.69 seconds]\u001b[A\u001b[A\n",
      "\n",
      "Summarizing files for glm4:9b:  16%|██████████████▎                                                                        | 16/97 [18:32<1:43:52, 76.95s/it, file=CJG_16_2023_04_29.txt, summaries_count=15, time=65.61 seconds]\u001b[A\u001b[A"
     ]
    },
    {
     "name": "stdout",
     "output_type": "stream",
     "text": [
      "Record already exists: voiceapp\\output\\summaries_folder\\glm4_9b_20241213_192515\\CJG_16_2023_04_29-summary_5.txt -> C:/Users/G/Documents/GitHub/audycje.com.pl/content/audio\\CJG_16_2023_04_29.txt\n",
      "Record already exists: voiceapp\\output\\summaries_folder\\glm4_9b_20241213_192515\\CJG_17_2023_05_06-summary_1.txt -> C:/Users/G/Documents/GitHub/audycje.com.pl/content/audio\\CJG_17_2023_05_06.txt\n",
      "Record already exists: voiceapp\\output\\summaries_folder\\glm4_9b_20241213_192515\\CJG_17_2023_05_06-summary_2.txt -> C:/Users/G/Documents/GitHub/audycje.com.pl/content/audio\\CJG_17_2023_05_06.txt\n",
      "Record already exists: voiceapp\\output\\summaries_folder\\glm4_9b_20241213_192515\\CJG_17_2023_05_06-summary_3.txt -> C:/Users/G/Documents/GitHub/audycje.com.pl/content/audio\\CJG_17_2023_05_06.txt\n",
      "Record already exists: voiceapp\\output\\summaries_folder\\glm4_9b_20241213_192515\\CJG_17_2023_05_06-summary_4.txt -> C:/Users/G/Documents/GitHub/audycje.com.pl/content/audio\\CJG_17_2023_05_06.txt\n",
      "Record already exists: voiceapp\\output\\summaries_folder\\glm4_9b_20241213_192515\\CJG_17_2023_05_06-summary_5.txt -> C:/Users/G/Documents/GitHub/audycje.com.pl/content/audio\\CJG_17_2023_05_06.txt\n",
      "Record already exists: voiceapp\\output\\summaries_folder\\glm4_9b_20241213_192515\\CJG_17_2023_05_06-summary_1.txt -> C:/Users/G/Documents/GitHub/audycje.com.pl/content/audio\\CJG_17_2023_05_06.txt\n",
      "Record already exists: voiceapp\\output\\summaries_folder\\glm4_9b_20241213_192515\\CJG_17_2023_05_06-summary_2.txt -> C:/Users/G/Documents/GitHub/audycje.com.pl/content/audio\\CJG_17_2023_05_06.txt\n",
      "Record already exists: voiceapp\\output\\summaries_folder\\glm4_9b_20241213_192515\\CJG_17_2023_05_06-summary_3.txt -> C:/Users/G/Documents/GitHub/audycje.com.pl/content/audio\\CJG_17_2023_05_06.txt\n",
      "Record already exists: voiceapp\\output\\summaries_folder\\glm4_9b_20241213_192515\\CJG_17_2023_05_06-summary_4.txt -> C:/Users/G/Documents/GitHub/audycje.com.pl/content/audio\\CJG_17_2023_05_06.txt\n"
     ]
    },
    {
     "name": "stderr",
     "output_type": "stream",
     "text": [
      "\n",
      "\n",
      "Summarizing files for glm4:9b:  18%|███████████████▏                                                                       | 17/97 [19:36<1:37:10, 72.88s/it, file=CJG_16_2023_04_29.txt, summaries_count=15, time=65.61 seconds]\u001b[A\u001b[A\n",
      "\n",
      "Summarizing files for glm4:9b:  18%|███████████████▏                                                                       | 17/97 [19:36<1:37:10, 72.88s/it, file=CJG_17_2023_05_06.txt, summaries_count=15, time=63.41 seconds]\u001b[A\u001b[A"
     ]
    },
    {
     "name": "stdout",
     "output_type": "stream",
     "text": [
      "Record already exists: voiceapp\\output\\summaries_folder\\glm4_9b_20241213_192515\\CJG_17_2023_05_06-summary_5.txt -> C:/Users/G/Documents/GitHub/audycje.com.pl/content/audio\\CJG_17_2023_05_06.txt\n",
      "Record already exists: voiceapp\\output\\summaries_folder\\glm4_9b_20241213_192515\\CJG_18_2023_05_13-summary_1.txt -> C:/Users/G/Documents/GitHub/audycje.com.pl/content/audio\\CJG_18_2023_05_13.txt\n",
      "Record already exists: voiceapp\\output\\summaries_folder\\glm4_9b_20241213_192515\\CJG_18_2023_05_13-summary_2.txt -> C:/Users/G/Documents/GitHub/audycje.com.pl/content/audio\\CJG_18_2023_05_13.txt\n",
      "Record already exists: voiceapp\\output\\summaries_folder\\glm4_9b_20241213_192515\\CJG_18_2023_05_13-summary_3.txt -> C:/Users/G/Documents/GitHub/audycje.com.pl/content/audio\\CJG_18_2023_05_13.txt\n",
      "Record already exists: voiceapp\\output\\summaries_folder\\glm4_9b_20241213_192515\\CJG_18_2023_05_13-summary_4.txt -> C:/Users/G/Documents/GitHub/audycje.com.pl/content/audio\\CJG_18_2023_05_13.txt\n",
      "Record already exists: voiceapp\\output\\summaries_folder\\glm4_9b_20241213_192515\\CJG_18_2023_05_13-summary_5.txt -> C:/Users/G/Documents/GitHub/audycje.com.pl/content/audio\\CJG_18_2023_05_13.txt\n",
      "Record already exists: voiceapp\\output\\summaries_folder\\glm4_9b_20241213_192515\\CJG_18_2023_05_13-summary_1.txt -> C:/Users/G/Documents/GitHub/audycje.com.pl/content/audio\\CJG_18_2023_05_13.txt\n",
      "Record already exists: voiceapp\\output\\summaries_folder\\glm4_9b_20241213_192515\\CJG_18_2023_05_13-summary_2.txt -> C:/Users/G/Documents/GitHub/audycje.com.pl/content/audio\\CJG_18_2023_05_13.txt\n",
      "Record already exists: voiceapp\\output\\summaries_folder\\glm4_9b_20241213_192515\\CJG_18_2023_05_13-summary_3.txt -> C:/Users/G/Documents/GitHub/audycje.com.pl/content/audio\\CJG_18_2023_05_13.txt\n",
      "Record already exists: voiceapp\\output\\summaries_folder\\glm4_9b_20241213_192515\\CJG_18_2023_05_13-summary_4.txt -> C:/Users/G/Documents/GitHub/audycje.com.pl/content/audio\\CJG_18_2023_05_13.txt\n"
     ]
    },
    {
     "name": "stderr",
     "output_type": "stream",
     "text": [
      "\n",
      "\n",
      "Summarizing files for glm4:9b:  19%|████████████████▏                                                                      | 18/97 [20:37<1:31:27, 69.46s/it, file=CJG_17_2023_05_06.txt, summaries_count=15, time=63.41 seconds]\u001b[A\u001b[A\n",
      "\n",
      "Summarizing files for glm4:9b:  19%|████████████████▏                                                                      | 18/97 [20:37<1:31:27, 69.46s/it, file=CJG_18_2023_05_13.txt, summaries_count=15, time=61.50 seconds]\u001b[A\u001b[A"
     ]
    },
    {
     "name": "stdout",
     "output_type": "stream",
     "text": [
      "Record already exists: voiceapp\\output\\summaries_folder\\glm4_9b_20241213_192515\\CJG_18_2023_05_13-summary_5.txt -> C:/Users/G/Documents/GitHub/audycje.com.pl/content/audio\\CJG_18_2023_05_13.txt\n",
      "Record already exists: voiceapp\\output\\summaries_folder\\glm4_9b_20241213_192515\\CJG_19_2023_05_20-summary_1.txt -> C:/Users/G/Documents/GitHub/audycje.com.pl/content/audio\\CJG_19_2023_05_20.txt\n",
      "Record already exists: voiceapp\\output\\summaries_folder\\glm4_9b_20241213_192515\\CJG_19_2023_05_20-summary_2.txt -> C:/Users/G/Documents/GitHub/audycje.com.pl/content/audio\\CJG_19_2023_05_20.txt\n",
      "Record already exists: voiceapp\\output\\summaries_folder\\glm4_9b_20241213_192515\\CJG_19_2023_05_20-summary_3.txt -> C:/Users/G/Documents/GitHub/audycje.com.pl/content/audio\\CJG_19_2023_05_20.txt\n",
      "Record already exists: voiceapp\\output\\summaries_folder\\glm4_9b_20241213_192515\\CJG_19_2023_05_20-summary_4.txt -> C:/Users/G/Documents/GitHub/audycje.com.pl/content/audio\\CJG_19_2023_05_20.txt\n",
      "Record already exists: voiceapp\\output\\summaries_folder\\glm4_9b_20241213_192515\\CJG_19_2023_05_20-summary_5.txt -> C:/Users/G/Documents/GitHub/audycje.com.pl/content/audio\\CJG_19_2023_05_20.txt\n",
      "Record already exists: voiceapp\\output\\summaries_folder\\glm4_9b_20241213_192515\\CJG_19_2023_05_20-summary_1.txt -> C:/Users/G/Documents/GitHub/audycje.com.pl/content/audio\\CJG_19_2023_05_20.txt\n",
      "Record already exists: voiceapp\\output\\summaries_folder\\glm4_9b_20241213_192515\\CJG_19_2023_05_20-summary_2.txt -> C:/Users/G/Documents/GitHub/audycje.com.pl/content/audio\\CJG_19_2023_05_20.txt\n",
      "Record already exists: voiceapp\\output\\summaries_folder\\glm4_9b_20241213_192515\\CJG_19_2023_05_20-summary_3.txt -> C:/Users/G/Documents/GitHub/audycje.com.pl/content/audio\\CJG_19_2023_05_20.txt\n",
      "Record already exists: voiceapp\\output\\summaries_folder\\glm4_9b_20241213_192515\\CJG_19_2023_05_20-summary_4.txt -> C:/Users/G/Documents/GitHub/audycje.com.pl/content/audio\\CJG_19_2023_05_20.txt\n"
     ]
    },
    {
     "name": "stderr",
     "output_type": "stream",
     "text": [
      "\n",
      "\n",
      "Summarizing files for glm4:9b:  20%|█████████████████                                                                      | 19/97 [21:40<1:27:47, 67.54s/it, file=CJG_18_2023_05_13.txt, summaries_count=15, time=61.50 seconds]\u001b[A\u001b[A\n",
      "\n",
      "Summarizing files for glm4:9b:  20%|█████████████████                                                                      | 19/97 [21:40<1:27:47, 67.54s/it, file=CJG_19_2023_05_20.txt, summaries_count=15, time=63.06 seconds]\u001b[A\u001b[A"
     ]
    },
    {
     "name": "stdout",
     "output_type": "stream",
     "text": [
      "Record already exists: voiceapp\\output\\summaries_folder\\glm4_9b_20241213_192515\\CJG_19_2023_05_20-summary_5.txt -> C:/Users/G/Documents/GitHub/audycje.com.pl/content/audio\\CJG_19_2023_05_20.txt\n",
      "Record already exists: voiceapp\\output\\summaries_folder\\glm4_9b_20241213_192515\\CJG_20_2023_05_27-summary_1.txt -> C:/Users/G/Documents/GitHub/audycje.com.pl/content/audio\\CJG_20_2023_05_27.txt\n",
      "Record already exists: voiceapp\\output\\summaries_folder\\glm4_9b_20241213_192515\\CJG_20_2023_05_27-summary_2.txt -> C:/Users/G/Documents/GitHub/audycje.com.pl/content/audio\\CJG_20_2023_05_27.txt\n",
      "Record already exists: voiceapp\\output\\summaries_folder\\glm4_9b_20241213_192515\\CJG_20_2023_05_27-summary_3.txt -> C:/Users/G/Documents/GitHub/audycje.com.pl/content/audio\\CJG_20_2023_05_27.txt\n",
      "Record already exists: voiceapp\\output\\summaries_folder\\glm4_9b_20241213_192515\\CJG_20_2023_05_27-summary_4.txt -> C:/Users/G/Documents/GitHub/audycje.com.pl/content/audio\\CJG_20_2023_05_27.txt\n",
      "Record already exists: voiceapp\\output\\summaries_folder\\glm4_9b_20241213_192515\\CJG_20_2023_05_27-summary_5.txt -> C:/Users/G/Documents/GitHub/audycje.com.pl/content/audio\\CJG_20_2023_05_27.txt\n",
      "Record already exists: voiceapp\\output\\summaries_folder\\glm4_9b_20241213_192515\\CJG_20_2023_05_27-summary_1.txt -> C:/Users/G/Documents/GitHub/audycje.com.pl/content/audio\\CJG_20_2023_05_27.txt\n",
      "Record already exists: voiceapp\\output\\summaries_folder\\glm4_9b_20241213_192515\\CJG_20_2023_05_27-summary_2.txt -> C:/Users/G/Documents/GitHub/audycje.com.pl/content/audio\\CJG_20_2023_05_27.txt\n",
      "Record already exists: voiceapp\\output\\summaries_folder\\glm4_9b_20241213_192515\\CJG_20_2023_05_27-summary_3.txt -> C:/Users/G/Documents/GitHub/audycje.com.pl/content/audio\\CJG_20_2023_05_27.txt\n",
      "Record already exists: voiceapp\\output\\summaries_folder\\glm4_9b_20241213_192515\\CJG_20_2023_05_27-summary_4.txt -> C:/Users/G/Documents/GitHub/audycje.com.pl/content/audio\\CJG_20_2023_05_27.txt\n",
      "Record already exists: voiceapp\\output\\summaries_folder\\glm4_9b_20241213_192515\\CJG_20_2023_05_27-summary_5.txt -> C:/Users/G/Documents/GitHub/audycje.com.pl/content/audio\\CJG_20_2023_05_27.txt\n",
      "Record already exists: voiceapp\\output\\summaries_folder\\glm4_9b_20241213_192515\\CJG_20_2023_05_27-summary_1.txt -> C:/Users/G/Documents/GitHub/audycje.com.pl/content/audio\\CJG_20_2023_05_27.txt\n",
      "Record already exists: voiceapp\\output\\summaries_folder\\glm4_9b_20241213_192515\\CJG_20_2023_05_27-summary_2.txt -> C:/Users/G/Documents/GitHub/audycje.com.pl/content/audio\\CJG_20_2023_05_27.txt\n",
      "Record already exists: voiceapp\\output\\summaries_folder\\glm4_9b_20241213_192515\\CJG_20_2023_05_27-summary_3.txt -> C:/Users/G/Documents/GitHub/audycje.com.pl/content/audio\\CJG_20_2023_05_27.txt\n",
      "Record already exists: voiceapp\\output\\summaries_folder\\glm4_9b_20241213_192515\\CJG_20_2023_05_27-summary_4.txt -> C:/Users/G/Documents/GitHub/audycje.com.pl/content/audio\\CJG_20_2023_05_27.txt\n"
     ]
    },
    {
     "name": "stderr",
     "output_type": "stream",
     "text": [
      "\n",
      "\n",
      "Summarizing files for glm4:9b:  21%|█████████████████▉                                                                     | 20/97 [23:03<1:32:29, 72.07s/it, file=CJG_19_2023_05_20.txt, summaries_count=15, time=63.06 seconds]\u001b[A\u001b[A\n",
      "\n",
      "Summarizing files for glm4:9b:  21%|█████████████████▉                                                                     | 20/97 [23:03<1:32:29, 72.07s/it, file=CJG_20_2023_05_27.txt, summaries_count=20, time=82.64 seconds]\u001b[A\u001b[A"
     ]
    },
    {
     "name": "stdout",
     "output_type": "stream",
     "text": [
      "Record already exists: voiceapp\\output\\summaries_folder\\glm4_9b_20241213_192515\\CJG_20_2023_05_27-summary_5.txt -> C:/Users/G/Documents/GitHub/audycje.com.pl/content/audio\\CJG_20_2023_05_27.txt\n",
      "Record already exists: voiceapp\\output\\summaries_folder\\glm4_9b_20241213_192515\\CJG_21_2023_06_03-summary_1.txt -> C:/Users/G/Documents/GitHub/audycje.com.pl/content/audio\\CJG_21_2023_06_03.txt\n",
      "Record already exists: voiceapp\\output\\summaries_folder\\glm4_9b_20241213_192515\\CJG_21_2023_06_03-summary_2.txt -> C:/Users/G/Documents/GitHub/audycje.com.pl/content/audio\\CJG_21_2023_06_03.txt\n",
      "Record already exists: voiceapp\\output\\summaries_folder\\glm4_9b_20241213_192515\\CJG_21_2023_06_03-summary_3.txt -> C:/Users/G/Documents/GitHub/audycje.com.pl/content/audio\\CJG_21_2023_06_03.txt\n",
      "Record already exists: voiceapp\\output\\summaries_folder\\glm4_9b_20241213_192515\\CJG_21_2023_06_03-summary_4.txt -> C:/Users/G/Documents/GitHub/audycje.com.pl/content/audio\\CJG_21_2023_06_03.txt\n",
      "Record already exists: voiceapp\\output\\summaries_folder\\glm4_9b_20241213_192515\\CJG_21_2023_06_03-summary_5.txt -> C:/Users/G/Documents/GitHub/audycje.com.pl/content/audio\\CJG_21_2023_06_03.txt\n",
      "Record already exists: voiceapp\\output\\summaries_folder\\glm4_9b_20241213_192515\\CJG_21_2023_06_03-summary_1.txt -> C:/Users/G/Documents/GitHub/audycje.com.pl/content/audio\\CJG_21_2023_06_03.txt\n",
      "Record already exists: voiceapp\\output\\summaries_folder\\glm4_9b_20241213_192515\\CJG_21_2023_06_03-summary_2.txt -> C:/Users/G/Documents/GitHub/audycje.com.pl/content/audio\\CJG_21_2023_06_03.txt\n",
      "Record already exists: voiceapp\\output\\summaries_folder\\glm4_9b_20241213_192515\\CJG_21_2023_06_03-summary_3.txt -> C:/Users/G/Documents/GitHub/audycje.com.pl/content/audio\\CJG_21_2023_06_03.txt\n",
      "Record already exists: voiceapp\\output\\summaries_folder\\glm4_9b_20241213_192515\\CJG_21_2023_06_03-summary_4.txt -> C:/Users/G/Documents/GitHub/audycje.com.pl/content/audio\\CJG_21_2023_06_03.txt\n",
      "Record already exists: voiceapp\\output\\summaries_folder\\glm4_9b_20241213_192515\\CJG_21_2023_06_03-summary_5.txt -> C:/Users/G/Documents/GitHub/audycje.com.pl/content/audio\\CJG_21_2023_06_03.txt\n",
      "Record already exists: voiceapp\\output\\summaries_folder\\glm4_9b_20241213_192515\\CJG_21_2023_06_03-summary_1.txt -> C:/Users/G/Documents/GitHub/audycje.com.pl/content/audio\\CJG_21_2023_06_03.txt\n",
      "Record already exists: voiceapp\\output\\summaries_folder\\glm4_9b_20241213_192515\\CJG_21_2023_06_03-summary_2.txt -> C:/Users/G/Documents/GitHub/audycje.com.pl/content/audio\\CJG_21_2023_06_03.txt\n",
      "Record already exists: voiceapp\\output\\summaries_folder\\glm4_9b_20241213_192515\\CJG_21_2023_06_03-summary_3.txt -> C:/Users/G/Documents/GitHub/audycje.com.pl/content/audio\\CJG_21_2023_06_03.txt\n",
      "Record already exists: voiceapp\\output\\summaries_folder\\glm4_9b_20241213_192515\\CJG_21_2023_06_03-summary_4.txt -> C:/Users/G/Documents/GitHub/audycje.com.pl/content/audio\\CJG_21_2023_06_03.txt\n"
     ]
    },
    {
     "name": "stderr",
     "output_type": "stream",
     "text": [
      "\n",
      "\n",
      "Summarizing files for glm4:9b:  22%|██████████████████▊                                                                    | 21/97 [24:27<1:35:51, 75.67s/it, file=CJG_20_2023_05_27.txt, summaries_count=20, time=82.64 seconds]\u001b[A\u001b[A\n",
      "\n",
      "Summarizing files for glm4:9b:  22%|██████████████████▊                                                                    | 21/97 [24:27<1:35:51, 75.67s/it, file=CJG_21_2023_06_03.txt, summaries_count=20, time=84.07 seconds]\u001b[A\u001b[A"
     ]
    },
    {
     "name": "stdout",
     "output_type": "stream",
     "text": [
      "Record already exists: voiceapp\\output\\summaries_folder\\glm4_9b_20241213_192515\\CJG_21_2023_06_03-summary_5.txt -> C:/Users/G/Documents/GitHub/audycje.com.pl/content/audio\\CJG_21_2023_06_03.txt\n",
      "Record already exists: voiceapp\\output\\summaries_folder\\glm4_9b_20241213_192515\\CJG_22_2023_06_10-summary_1.txt -> C:/Users/G/Documents/GitHub/audycje.com.pl/content/audio\\CJG_22_2023_06_10.txt\n",
      "Record already exists: voiceapp\\output\\summaries_folder\\glm4_9b_20241213_192515\\CJG_22_2023_06_10-summary_2.txt -> C:/Users/G/Documents/GitHub/audycje.com.pl/content/audio\\CJG_22_2023_06_10.txt\n",
      "Record already exists: voiceapp\\output\\summaries_folder\\glm4_9b_20241213_192515\\CJG_22_2023_06_10-summary_3.txt -> C:/Users/G/Documents/GitHub/audycje.com.pl/content/audio\\CJG_22_2023_06_10.txt\n",
      "Record already exists: voiceapp\\output\\summaries_folder\\glm4_9b_20241213_192515\\CJG_22_2023_06_10-summary_4.txt -> C:/Users/G/Documents/GitHub/audycje.com.pl/content/audio\\CJG_22_2023_06_10.txt\n",
      "Record already exists: voiceapp\\output\\summaries_folder\\glm4_9b_20241213_192515\\CJG_22_2023_06_10-summary_5.txt -> C:/Users/G/Documents/GitHub/audycje.com.pl/content/audio\\CJG_22_2023_06_10.txt\n",
      "Record already exists: voiceapp\\output\\summaries_folder\\glm4_9b_20241213_192515\\CJG_22_2023_06_10-summary_1.txt -> C:/Users/G/Documents/GitHub/audycje.com.pl/content/audio\\CJG_22_2023_06_10.txt\n",
      "Record already exists: voiceapp\\output\\summaries_folder\\glm4_9b_20241213_192515\\CJG_22_2023_06_10-summary_2.txt -> C:/Users/G/Documents/GitHub/audycje.com.pl/content/audio\\CJG_22_2023_06_10.txt\n",
      "Record already exists: voiceapp\\output\\summaries_folder\\glm4_9b_20241213_192515\\CJG_22_2023_06_10-summary_3.txt -> C:/Users/G/Documents/GitHub/audycje.com.pl/content/audio\\CJG_22_2023_06_10.txt\n",
      "Record already exists: voiceapp\\output\\summaries_folder\\glm4_9b_20241213_192515\\CJG_22_2023_06_10-summary_4.txt -> C:/Users/G/Documents/GitHub/audycje.com.pl/content/audio\\CJG_22_2023_06_10.txt\n"
     ]
    },
    {
     "name": "stderr",
     "output_type": "stream",
     "text": [
      "\n",
      "\n",
      "Summarizing files for glm4:9b:  23%|███████████████████▋                                                                   | 22/97 [25:34<1:31:09, 72.92s/it, file=CJG_21_2023_06_03.txt, summaries_count=20, time=84.07 seconds]\u001b[A\u001b[A\n",
      "\n",
      "Summarizing files for glm4:9b:  23%|███████████████████▋                                                                   | 22/97 [25:34<1:31:09, 72.92s/it, file=CJG_22_2023_06_10.txt, summaries_count=15, time=66.50 seconds]\u001b[A\u001b[A"
     ]
    },
    {
     "name": "stdout",
     "output_type": "stream",
     "text": [
      "Record already exists: voiceapp\\output\\summaries_folder\\glm4_9b_20241213_192515\\CJG_22_2023_06_10-summary_5.txt -> C:/Users/G/Documents/GitHub/audycje.com.pl/content/audio\\CJG_22_2023_06_10.txt\n",
      "Record already exists: voiceapp\\output\\summaries_folder\\glm4_9b_20241213_192515\\CJG_23_2023_06_17-summary_1.txt -> C:/Users/G/Documents/GitHub/audycje.com.pl/content/audio\\CJG_23_2023_06_17.txt\n",
      "Record already exists: voiceapp\\output\\summaries_folder\\glm4_9b_20241213_192515\\CJG_23_2023_06_17-summary_2.txt -> C:/Users/G/Documents/GitHub/audycje.com.pl/content/audio\\CJG_23_2023_06_17.txt\n",
      "Record already exists: voiceapp\\output\\summaries_folder\\glm4_9b_20241213_192515\\CJG_23_2023_06_17-summary_3.txt -> C:/Users/G/Documents/GitHub/audycje.com.pl/content/audio\\CJG_23_2023_06_17.txt\n",
      "Record already exists: voiceapp\\output\\summaries_folder\\glm4_9b_20241213_192515\\CJG_23_2023_06_17-summary_4.txt -> C:/Users/G/Documents/GitHub/audycje.com.pl/content/audio\\CJG_23_2023_06_17.txt\n",
      "Record already exists: voiceapp\\output\\summaries_folder\\glm4_9b_20241213_192515\\CJG_23_2023_06_17-summary_5.txt -> C:/Users/G/Documents/GitHub/audycje.com.pl/content/audio\\CJG_23_2023_06_17.txt\n",
      "Record already exists: voiceapp\\output\\summaries_folder\\glm4_9b_20241213_192515\\CJG_23_2023_06_17-summary_1.txt -> C:/Users/G/Documents/GitHub/audycje.com.pl/content/audio\\CJG_23_2023_06_17.txt\n",
      "Record already exists: voiceapp\\output\\summaries_folder\\glm4_9b_20241213_192515\\CJG_23_2023_06_17-summary_2.txt -> C:/Users/G/Documents/GitHub/audycje.com.pl/content/audio\\CJG_23_2023_06_17.txt\n",
      "Record already exists: voiceapp\\output\\summaries_folder\\glm4_9b_20241213_192515\\CJG_23_2023_06_17-summary_3.txt -> C:/Users/G/Documents/GitHub/audycje.com.pl/content/audio\\CJG_23_2023_06_17.txt\n",
      "Record already exists: voiceapp\\output\\summaries_folder\\glm4_9b_20241213_192515\\CJG_23_2023_06_17-summary_4.txt -> C:/Users/G/Documents/GitHub/audycje.com.pl/content/audio\\CJG_23_2023_06_17.txt\n"
     ]
    },
    {
     "name": "stderr",
     "output_type": "stream",
     "text": [
      "\n",
      "\n",
      "Summarizing files for glm4:9b:  24%|████████████████████▋                                                                  | 23/97 [26:39<1:27:10, 70.69s/it, file=CJG_22_2023_06_10.txt, summaries_count=15, time=66.50 seconds]\u001b[A\u001b[A\n",
      "\n",
      "Summarizing files for glm4:9b:  24%|████████████████████▋                                                                  | 23/97 [26:39<1:27:10, 70.69s/it, file=CJG_23_2023_06_17.txt, summaries_count=15, time=65.48 seconds]\u001b[A\u001b[A"
     ]
    },
    {
     "name": "stdout",
     "output_type": "stream",
     "text": [
      "Record already exists: voiceapp\\output\\summaries_folder\\glm4_9b_20241213_192515\\CJG_23_2023_06_17-summary_5.txt -> C:/Users/G/Documents/GitHub/audycje.com.pl/content/audio\\CJG_23_2023_06_17.txt\n",
      "Record already exists: voiceapp\\output\\summaries_folder\\glm4_9b_20241213_192515\\CJG_24_2023_06_24-summary_1.txt -> C:/Users/G/Documents/GitHub/audycje.com.pl/content/audio\\CJG_24_2023_06_24.txt\n",
      "Record already exists: voiceapp\\output\\summaries_folder\\glm4_9b_20241213_192515\\CJG_24_2023_06_24-summary_2.txt -> C:/Users/G/Documents/GitHub/audycje.com.pl/content/audio\\CJG_24_2023_06_24.txt\n",
      "Record already exists: voiceapp\\output\\summaries_folder\\glm4_9b_20241213_192515\\CJG_24_2023_06_24-summary_3.txt -> C:/Users/G/Documents/GitHub/audycje.com.pl/content/audio\\CJG_24_2023_06_24.txt\n",
      "Record already exists: voiceapp\\output\\summaries_folder\\glm4_9b_20241213_192515\\CJG_24_2023_06_24-summary_4.txt -> C:/Users/G/Documents/GitHub/audycje.com.pl/content/audio\\CJG_24_2023_06_24.txt\n",
      "Record already exists: voiceapp\\output\\summaries_folder\\glm4_9b_20241213_192515\\CJG_24_2023_06_24-summary_5.txt -> C:/Users/G/Documents/GitHub/audycje.com.pl/content/audio\\CJG_24_2023_06_24.txt\n",
      "Record already exists: voiceapp\\output\\summaries_folder\\glm4_9b_20241213_192515\\CJG_24_2023_06_24-summary_1.txt -> C:/Users/G/Documents/GitHub/audycje.com.pl/content/audio\\CJG_24_2023_06_24.txt\n",
      "Record already exists: voiceapp\\output\\summaries_folder\\glm4_9b_20241213_192515\\CJG_24_2023_06_24-summary_2.txt -> C:/Users/G/Documents/GitHub/audycje.com.pl/content/audio\\CJG_24_2023_06_24.txt\n",
      "Record already exists: voiceapp\\output\\summaries_folder\\glm4_9b_20241213_192515\\CJG_24_2023_06_24-summary_3.txt -> C:/Users/G/Documents/GitHub/audycje.com.pl/content/audio\\CJG_24_2023_06_24.txt\n",
      "Record already exists: voiceapp\\output\\summaries_folder\\glm4_9b_20241213_192515\\CJG_24_2023_06_24-summary_4.txt -> C:/Users/G/Documents/GitHub/audycje.com.pl/content/audio\\CJG_24_2023_06_24.txt\n"
     ]
    },
    {
     "name": "stderr",
     "output_type": "stream",
     "text": [
      "\n",
      "\n",
      "Summarizing files for glm4:9b:  25%|█████████████████████▌                                                                 | 24/97 [27:40<1:22:30, 67.82s/it, file=CJG_23_2023_06_17.txt, summaries_count=15, time=65.48 seconds]\u001b[A\u001b[A\n",
      "\n",
      "Summarizing files for glm4:9b:  25%|█████████████████████▌                                                                 | 24/97 [27:40<1:22:30, 67.82s/it, file=CJG_24_2023_06_24.txt, summaries_count=15, time=61.13 seconds]\u001b[A\u001b[A"
     ]
    },
    {
     "name": "stdout",
     "output_type": "stream",
     "text": [
      "Record already exists: voiceapp\\output\\summaries_folder\\glm4_9b_20241213_192515\\CJG_24_2023_06_24-summary_5.txt -> C:/Users/G/Documents/GitHub/audycje.com.pl/content/audio\\CJG_24_2023_06_24.txt\n",
      "Record already exists: voiceapp\\output\\summaries_folder\\glm4_9b_20241213_192515\\CJG_25_2023_07_01-summary_1.txt -> C:/Users/G/Documents/GitHub/audycje.com.pl/content/audio\\CJG_25_2023_07_01.txt\n",
      "Record already exists: voiceapp\\output\\summaries_folder\\glm4_9b_20241213_192515\\CJG_25_2023_07_01-summary_2.txt -> C:/Users/G/Documents/GitHub/audycje.com.pl/content/audio\\CJG_25_2023_07_01.txt\n",
      "Record already exists: voiceapp\\output\\summaries_folder\\glm4_9b_20241213_192515\\CJG_25_2023_07_01-summary_3.txt -> C:/Users/G/Documents/GitHub/audycje.com.pl/content/audio\\CJG_25_2023_07_01.txt\n",
      "Record already exists: voiceapp\\output\\summaries_folder\\glm4_9b_20241213_192515\\CJG_25_2023_07_01-summary_4.txt -> C:/Users/G/Documents/GitHub/audycje.com.pl/content/audio\\CJG_25_2023_07_01.txt\n",
      "Record already exists: voiceapp\\output\\summaries_folder\\glm4_9b_20241213_192515\\CJG_25_2023_07_01-summary_5.txt -> C:/Users/G/Documents/GitHub/audycje.com.pl/content/audio\\CJG_25_2023_07_01.txt\n",
      "Record already exists: voiceapp\\output\\summaries_folder\\glm4_9b_20241213_192515\\CJG_25_2023_07_01-summary_1.txt -> C:/Users/G/Documents/GitHub/audycje.com.pl/content/audio\\CJG_25_2023_07_01.txt\n",
      "Record already exists: voiceapp\\output\\summaries_folder\\glm4_9b_20241213_192515\\CJG_25_2023_07_01-summary_2.txt -> C:/Users/G/Documents/GitHub/audycje.com.pl/content/audio\\CJG_25_2023_07_01.txt\n",
      "Record already exists: voiceapp\\output\\summaries_folder\\glm4_9b_20241213_192515\\CJG_25_2023_07_01-summary_3.txt -> C:/Users/G/Documents/GitHub/audycje.com.pl/content/audio\\CJG_25_2023_07_01.txt\n",
      "Record already exists: voiceapp\\output\\summaries_folder\\glm4_9b_20241213_192515\\CJG_25_2023_07_01-summary_4.txt -> C:/Users/G/Documents/GitHub/audycje.com.pl/content/audio\\CJG_25_2023_07_01.txt\n",
      "Record already exists: voiceapp\\output\\summaries_folder\\glm4_9b_20241213_192515\\CJG_25_2023_07_01-summary_5.txt -> C:/Users/G/Documents/GitHub/audycje.com.pl/content/audio\\CJG_25_2023_07_01.txt\n",
      "Record already exists: voiceapp\\output\\summaries_folder\\glm4_9b_20241213_192515\\CJG_25_2023_07_01-summary_1.txt -> C:/Users/G/Documents/GitHub/audycje.com.pl/content/audio\\CJG_25_2023_07_01.txt\n",
      "Record already exists: voiceapp\\output\\summaries_folder\\glm4_9b_20241213_192515\\CJG_25_2023_07_01-summary_2.txt -> C:/Users/G/Documents/GitHub/audycje.com.pl/content/audio\\CJG_25_2023_07_01.txt\n",
      "Record already exists: voiceapp\\output\\summaries_folder\\glm4_9b_20241213_192515\\CJG_25_2023_07_01-summary_3.txt -> C:/Users/G/Documents/GitHub/audycje.com.pl/content/audio\\CJG_25_2023_07_01.txt\n",
      "Record already exists: voiceapp\\output\\summaries_folder\\glm4_9b_20241213_192515\\CJG_25_2023_07_01-summary_4.txt -> C:/Users/G/Documents/GitHub/audycje.com.pl/content/audio\\CJG_25_2023_07_01.txt\n"
     ]
    },
    {
     "name": "stderr",
     "output_type": "stream",
     "text": [
      "\n",
      "\n",
      "Summarizing files for glm4:9b:  26%|██████████████████████▍                                                                | 25/97 [28:56<1:24:12, 70.17s/it, file=CJG_24_2023_06_24.txt, summaries_count=15, time=61.13 seconds]\u001b[A\u001b[A\n",
      "\n",
      "Summarizing files for glm4:9b:  26%|██████████████████████▍                                                                | 25/97 [28:56<1:24:12, 70.17s/it, file=CJG_25_2023_07_01.txt, summaries_count=20, time=75.65 seconds]\u001b[A\u001b[A"
     ]
    },
    {
     "name": "stdout",
     "output_type": "stream",
     "text": [
      "Record already exists: voiceapp\\output\\summaries_folder\\glm4_9b_20241213_192515\\CJG_25_2023_07_01-summary_5.txt -> C:/Users/G/Documents/GitHub/audycje.com.pl/content/audio\\CJG_25_2023_07_01.txt\n",
      "Record already exists: voiceapp\\output\\summaries_folder\\glm4_9b_20241213_192515\\CJG_26_2023_07_08-summary_1.txt -> C:/Users/G/Documents/GitHub/audycje.com.pl/content/audio\\CJG_26_2023_07_08.txt\n",
      "Record already exists: voiceapp\\output\\summaries_folder\\glm4_9b_20241213_192515\\CJG_26_2023_07_08-summary_2.txt -> C:/Users/G/Documents/GitHub/audycje.com.pl/content/audio\\CJG_26_2023_07_08.txt\n",
      "Record already exists: voiceapp\\output\\summaries_folder\\glm4_9b_20241213_192515\\CJG_26_2023_07_08-summary_3.txt -> C:/Users/G/Documents/GitHub/audycje.com.pl/content/audio\\CJG_26_2023_07_08.txt\n",
      "Record already exists: voiceapp\\output\\summaries_folder\\glm4_9b_20241213_192515\\CJG_26_2023_07_08-summary_4.txt -> C:/Users/G/Documents/GitHub/audycje.com.pl/content/audio\\CJG_26_2023_07_08.txt\n",
      "Record already exists: voiceapp\\output\\summaries_folder\\glm4_9b_20241213_192515\\CJG_26_2023_07_08-summary_5.txt -> C:/Users/G/Documents/GitHub/audycje.com.pl/content/audio\\CJG_26_2023_07_08.txt\n",
      "Record already exists: voiceapp\\output\\summaries_folder\\glm4_9b_20241213_192515\\CJG_26_2023_07_08-summary_1.txt -> C:/Users/G/Documents/GitHub/audycje.com.pl/content/audio\\CJG_26_2023_07_08.txt\n",
      "Record already exists: voiceapp\\output\\summaries_folder\\glm4_9b_20241213_192515\\CJG_26_2023_07_08-summary_2.txt -> C:/Users/G/Documents/GitHub/audycje.com.pl/content/audio\\CJG_26_2023_07_08.txt\n",
      "Record already exists: voiceapp\\output\\summaries_folder\\glm4_9b_20241213_192515\\CJG_26_2023_07_08-summary_3.txt -> C:/Users/G/Documents/GitHub/audycje.com.pl/content/audio\\CJG_26_2023_07_08.txt\n",
      "Record already exists: voiceapp\\output\\summaries_folder\\glm4_9b_20241213_192515\\CJG_26_2023_07_08-summary_4.txt -> C:/Users/G/Documents/GitHub/audycje.com.pl/content/audio\\CJG_26_2023_07_08.txt\n",
      "Record already exists: voiceapp\\output\\summaries_folder\\glm4_9b_20241213_192515\\CJG_26_2023_07_08-summary_5.txt -> C:/Users/G/Documents/GitHub/audycje.com.pl/content/audio\\CJG_26_2023_07_08.txt\n",
      "Record already exists: voiceapp\\output\\summaries_folder\\glm4_9b_20241213_192515\\CJG_26_2023_07_08-summary_1.txt -> C:/Users/G/Documents/GitHub/audycje.com.pl/content/audio\\CJG_26_2023_07_08.txt\n",
      "Record already exists: voiceapp\\output\\summaries_folder\\glm4_9b_20241213_192515\\CJG_26_2023_07_08-summary_2.txt -> C:/Users/G/Documents/GitHub/audycje.com.pl/content/audio\\CJG_26_2023_07_08.txt\n",
      "Record already exists: voiceapp\\output\\summaries_folder\\glm4_9b_20241213_192515\\CJG_26_2023_07_08-summary_3.txt -> C:/Users/G/Documents/GitHub/audycje.com.pl/content/audio\\CJG_26_2023_07_08.txt\n",
      "Record already exists: voiceapp\\output\\summaries_folder\\glm4_9b_20241213_192515\\CJG_26_2023_07_08-summary_4.txt -> C:/Users/G/Documents/GitHub/audycje.com.pl/content/audio\\CJG_26_2023_07_08.txt\n"
     ]
    },
    {
     "name": "stderr",
     "output_type": "stream",
     "text": [
      "\n",
      "\n",
      "Summarizing files for glm4:9b:  27%|███████████████████████▎                                                               | 26/97 [30:11<1:24:51, 71.71s/it, file=CJG_25_2023_07_01.txt, summaries_count=20, time=75.65 seconds]\u001b[A\u001b[A\n",
      "\n",
      "Summarizing files for glm4:9b:  27%|███████████████████████▎                                                               | 26/97 [30:11<1:24:51, 71.71s/it, file=CJG_26_2023_07_08.txt, summaries_count=20, time=75.32 seconds]\u001b[A\u001b[A"
     ]
    },
    {
     "name": "stdout",
     "output_type": "stream",
     "text": [
      "Record already exists: voiceapp\\output\\summaries_folder\\glm4_9b_20241213_192515\\CJG_26_2023_07_08-summary_5.txt -> C:/Users/G/Documents/GitHub/audycje.com.pl/content/audio\\CJG_26_2023_07_08.txt\n",
      "Record already exists: voiceapp\\output\\summaries_folder\\glm4_9b_20241213_192515\\CJG_27_2023_07_15-summary_1.txt -> C:/Users/G/Documents/GitHub/audycje.com.pl/content/audio\\CJG_27_2023_07_15.txt\n",
      "Record already exists: voiceapp\\output\\summaries_folder\\glm4_9b_20241213_192515\\CJG_27_2023_07_15-summary_2.txt -> C:/Users/G/Documents/GitHub/audycje.com.pl/content/audio\\CJG_27_2023_07_15.txt\n",
      "Record already exists: voiceapp\\output\\summaries_folder\\glm4_9b_20241213_192515\\CJG_27_2023_07_15-summary_3.txt -> C:/Users/G/Documents/GitHub/audycje.com.pl/content/audio\\CJG_27_2023_07_15.txt\n",
      "Record already exists: voiceapp\\output\\summaries_folder\\glm4_9b_20241213_192515\\CJG_27_2023_07_15-summary_4.txt -> C:/Users/G/Documents/GitHub/audycje.com.pl/content/audio\\CJG_27_2023_07_15.txt\n",
      "Record already exists: voiceapp\\output\\summaries_folder\\glm4_9b_20241213_192515\\CJG_27_2023_07_15-summary_5.txt -> C:/Users/G/Documents/GitHub/audycje.com.pl/content/audio\\CJG_27_2023_07_15.txt\n",
      "Record already exists: voiceapp\\output\\summaries_folder\\glm4_9b_20241213_192515\\CJG_27_2023_07_15-summary_1.txt -> C:/Users/G/Documents/GitHub/audycje.com.pl/content/audio\\CJG_27_2023_07_15.txt\n",
      "Record already exists: voiceapp\\output\\summaries_folder\\glm4_9b_20241213_192515\\CJG_27_2023_07_15-summary_2.txt -> C:/Users/G/Documents/GitHub/audycje.com.pl/content/audio\\CJG_27_2023_07_15.txt\n",
      "Record already exists: voiceapp\\output\\summaries_folder\\glm4_9b_20241213_192515\\CJG_27_2023_07_15-summary_3.txt -> C:/Users/G/Documents/GitHub/audycje.com.pl/content/audio\\CJG_27_2023_07_15.txt\n",
      "Record already exists: voiceapp\\output\\summaries_folder\\glm4_9b_20241213_192515\\CJG_27_2023_07_15-summary_4.txt -> C:/Users/G/Documents/GitHub/audycje.com.pl/content/audio\\CJG_27_2023_07_15.txt\n",
      "Record already exists: voiceapp\\output\\summaries_folder\\glm4_9b_20241213_192515\\CJG_27_2023_07_15-summary_5.txt -> C:/Users/G/Documents/GitHub/audycje.com.pl/content/audio\\CJG_27_2023_07_15.txt\n",
      "Record already exists: voiceapp\\output\\summaries_folder\\glm4_9b_20241213_192515\\CJG_27_2023_07_15-summary_1.txt -> C:/Users/G/Documents/GitHub/audycje.com.pl/content/audio\\CJG_27_2023_07_15.txt\n",
      "Record already exists: voiceapp\\output\\summaries_folder\\glm4_9b_20241213_192515\\CJG_27_2023_07_15-summary_2.txt -> C:/Users/G/Documents/GitHub/audycje.com.pl/content/audio\\CJG_27_2023_07_15.txt\n",
      "Record already exists: voiceapp\\output\\summaries_folder\\glm4_9b_20241213_192515\\CJG_27_2023_07_15-summary_3.txt -> C:/Users/G/Documents/GitHub/audycje.com.pl/content/audio\\CJG_27_2023_07_15.txt\n",
      "Record already exists: voiceapp\\output\\summaries_folder\\glm4_9b_20241213_192515\\CJG_27_2023_07_15-summary_4.txt -> C:/Users/G/Documents/GitHub/audycje.com.pl/content/audio\\CJG_27_2023_07_15.txt\n"
     ]
    },
    {
     "name": "stderr",
     "output_type": "stream",
     "text": [
      "\n",
      "\n",
      "Summarizing files for glm4:9b:  28%|████████████████████████▏                                                              | 27/97 [31:34<1:27:29, 75.00s/it, file=CJG_26_2023_07_08.txt, summaries_count=20, time=75.32 seconds]\u001b[A\u001b[A\n",
      "\n",
      "Summarizing files for glm4:9b:  28%|████████████████████████▏                                                              | 27/97 [31:34<1:27:29, 75.00s/it, file=CJG_27_2023_07_15.txt, summaries_count=20, time=82.66 seconds]\u001b[A\u001b[A"
     ]
    },
    {
     "name": "stdout",
     "output_type": "stream",
     "text": [
      "Record already exists: voiceapp\\output\\summaries_folder\\glm4_9b_20241213_192515\\CJG_27_2023_07_15-summary_5.txt -> C:/Users/G/Documents/GitHub/audycje.com.pl/content/audio\\CJG_27_2023_07_15.txt\n",
      "Record already exists: voiceapp\\output\\summaries_folder\\glm4_9b_20241213_192515\\CJG_28_2023_07_22-summary_1.txt -> C:/Users/G/Documents/GitHub/audycje.com.pl/content/audio\\CJG_28_2023_07_22.txt\n",
      "Record already exists: voiceapp\\output\\summaries_folder\\glm4_9b_20241213_192515\\CJG_28_2023_07_22-summary_2.txt -> C:/Users/G/Documents/GitHub/audycje.com.pl/content/audio\\CJG_28_2023_07_22.txt\n",
      "Record already exists: voiceapp\\output\\summaries_folder\\glm4_9b_20241213_192515\\CJG_28_2023_07_22-summary_3.txt -> C:/Users/G/Documents/GitHub/audycje.com.pl/content/audio\\CJG_28_2023_07_22.txt\n",
      "Record already exists: voiceapp\\output\\summaries_folder\\glm4_9b_20241213_192515\\CJG_28_2023_07_22-summary_4.txt -> C:/Users/G/Documents/GitHub/audycje.com.pl/content/audio\\CJG_28_2023_07_22.txt\n",
      "Record already exists: voiceapp\\output\\summaries_folder\\glm4_9b_20241213_192515\\CJG_28_2023_07_22-summary_5.txt -> C:/Users/G/Documents/GitHub/audycje.com.pl/content/audio\\CJG_28_2023_07_22.txt\n",
      "Record already exists: voiceapp\\output\\summaries_folder\\glm4_9b_20241213_192515\\CJG_28_2023_07_22-summary_1.txt -> C:/Users/G/Documents/GitHub/audycje.com.pl/content/audio\\CJG_28_2023_07_22.txt\n",
      "Record already exists: voiceapp\\output\\summaries_folder\\glm4_9b_20241213_192515\\CJG_28_2023_07_22-summary_2.txt -> C:/Users/G/Documents/GitHub/audycje.com.pl/content/audio\\CJG_28_2023_07_22.txt\n",
      "Record already exists: voiceapp\\output\\summaries_folder\\glm4_9b_20241213_192515\\CJG_28_2023_07_22-summary_3.txt -> C:/Users/G/Documents/GitHub/audycje.com.pl/content/audio\\CJG_28_2023_07_22.txt\n",
      "Record already exists: voiceapp\\output\\summaries_folder\\glm4_9b_20241213_192515\\CJG_28_2023_07_22-summary_4.txt -> C:/Users/G/Documents/GitHub/audycje.com.pl/content/audio\\CJG_28_2023_07_22.txt\n"
     ]
    },
    {
     "name": "stderr",
     "output_type": "stream",
     "text": [
      "\n",
      "\n",
      "Summarizing files for glm4:9b:  29%|█████████████████████████                                                              | 28/97 [32:37<1:22:13, 71.49s/it, file=CJG_27_2023_07_15.txt, summaries_count=20, time=82.66 seconds]\u001b[A\u001b[A\n",
      "\n",
      "Summarizing files for glm4:9b:  29%|█████████████████████████                                                              | 28/97 [32:37<1:22:13, 71.49s/it, file=CJG_28_2023_07_22.txt, summaries_count=15, time=63.32 seconds]\u001b[A\u001b[A"
     ]
    },
    {
     "name": "stdout",
     "output_type": "stream",
     "text": [
      "Record already exists: voiceapp\\output\\summaries_folder\\glm4_9b_20241213_192515\\CJG_28_2023_07_22-summary_5.txt -> C:/Users/G/Documents/GitHub/audycje.com.pl/content/audio\\CJG_28_2023_07_22.txt\n",
      "Record already exists: voiceapp\\output\\summaries_folder\\glm4_9b_20241213_192515\\CJG_29_2023_07_29-summary_1.txt -> C:/Users/G/Documents/GitHub/audycje.com.pl/content/audio\\CJG_29_2023_07_29.txt\n",
      "Record already exists: voiceapp\\output\\summaries_folder\\glm4_9b_20241213_192515\\CJG_29_2023_07_29-summary_2.txt -> C:/Users/G/Documents/GitHub/audycje.com.pl/content/audio\\CJG_29_2023_07_29.txt\n",
      "Record already exists: voiceapp\\output\\summaries_folder\\glm4_9b_20241213_192515\\CJG_29_2023_07_29-summary_3.txt -> C:/Users/G/Documents/GitHub/audycje.com.pl/content/audio\\CJG_29_2023_07_29.txt\n",
      "Record already exists: voiceapp\\output\\summaries_folder\\glm4_9b_20241213_192515\\CJG_29_2023_07_29-summary_4.txt -> C:/Users/G/Documents/GitHub/audycje.com.pl/content/audio\\CJG_29_2023_07_29.txt\n",
      "Record already exists: voiceapp\\output\\summaries_folder\\glm4_9b_20241213_192515\\CJG_29_2023_07_29-summary_5.txt -> C:/Users/G/Documents/GitHub/audycje.com.pl/content/audio\\CJG_29_2023_07_29.txt\n",
      "Record already exists: voiceapp\\output\\summaries_folder\\glm4_9b_20241213_192515\\CJG_29_2023_07_29-summary_1.txt -> C:/Users/G/Documents/GitHub/audycje.com.pl/content/audio\\CJG_29_2023_07_29.txt\n",
      "Record already exists: voiceapp\\output\\summaries_folder\\glm4_9b_20241213_192515\\CJG_29_2023_07_29-summary_2.txt -> C:/Users/G/Documents/GitHub/audycje.com.pl/content/audio\\CJG_29_2023_07_29.txt\n",
      "Record already exists: voiceapp\\output\\summaries_folder\\glm4_9b_20241213_192515\\CJG_29_2023_07_29-summary_3.txt -> C:/Users/G/Documents/GitHub/audycje.com.pl/content/audio\\CJG_29_2023_07_29.txt\n",
      "Record already exists: voiceapp\\output\\summaries_folder\\glm4_9b_20241213_192515\\CJG_29_2023_07_29-summary_4.txt -> C:/Users/G/Documents/GitHub/audycje.com.pl/content/audio\\CJG_29_2023_07_29.txt\n",
      "Record already exists: voiceapp\\output\\summaries_folder\\glm4_9b_20241213_192515\\CJG_29_2023_07_29-summary_5.txt -> C:/Users/G/Documents/GitHub/audycje.com.pl/content/audio\\CJG_29_2023_07_29.txt\n",
      "Record already exists: voiceapp\\output\\summaries_folder\\glm4_9b_20241213_192515\\CJG_29_2023_07_29-summary_1.txt -> C:/Users/G/Documents/GitHub/audycje.com.pl/content/audio\\CJG_29_2023_07_29.txt\n",
      "Record already exists: voiceapp\\output\\summaries_folder\\glm4_9b_20241213_192515\\CJG_29_2023_07_29-summary_2.txt -> C:/Users/G/Documents/GitHub/audycje.com.pl/content/audio\\CJG_29_2023_07_29.txt\n",
      "Record already exists: voiceapp\\output\\summaries_folder\\glm4_9b_20241213_192515\\CJG_29_2023_07_29-summary_3.txt -> C:/Users/G/Documents/GitHub/audycje.com.pl/content/audio\\CJG_29_2023_07_29.txt\n",
      "Record already exists: voiceapp\\output\\summaries_folder\\glm4_9b_20241213_192515\\CJG_29_2023_07_29-summary_4.txt -> C:/Users/G/Documents/GitHub/audycje.com.pl/content/audio\\CJG_29_2023_07_29.txt\n"
     ]
    },
    {
     "name": "stderr",
     "output_type": "stream",
     "text": [
      "\n",
      "\n",
      "Summarizing files for glm4:9b:  30%|██████████████████████████                                                             | 29/97 [33:57<1:23:52, 74.00s/it, file=CJG_28_2023_07_22.txt, summaries_count=15, time=63.32 seconds]\u001b[A\u001b[A\n",
      "\n",
      "Summarizing files for glm4:9b:  30%|██████████████████████████                                                             | 29/97 [33:57<1:23:52, 74.00s/it, file=CJG_29_2023_07_29.txt, summaries_count=20, time=79.85 seconds]\u001b[A\u001b[A"
     ]
    },
    {
     "name": "stdout",
     "output_type": "stream",
     "text": [
      "Record already exists: voiceapp\\output\\summaries_folder\\glm4_9b_20241213_192515\\CJG_29_2023_07_29-summary_5.txt -> C:/Users/G/Documents/GitHub/audycje.com.pl/content/audio\\CJG_29_2023_07_29.txt\n",
      "Record already exists: voiceapp\\output\\summaries_folder\\glm4_9b_20241213_192515\\CJG_30_2023_08_05-summary_1.txt -> C:/Users/G/Documents/GitHub/audycje.com.pl/content/audio\\CJG_30_2023_08_05.txt\n",
      "Record already exists: voiceapp\\output\\summaries_folder\\glm4_9b_20241213_192515\\CJG_30_2023_08_05-summary_2.txt -> C:/Users/G/Documents/GitHub/audycje.com.pl/content/audio\\CJG_30_2023_08_05.txt\n",
      "Record already exists: voiceapp\\output\\summaries_folder\\glm4_9b_20241213_192515\\CJG_30_2023_08_05-summary_3.txt -> C:/Users/G/Documents/GitHub/audycje.com.pl/content/audio\\CJG_30_2023_08_05.txt\n",
      "Record already exists: voiceapp\\output\\summaries_folder\\glm4_9b_20241213_192515\\CJG_30_2023_08_05-summary_4.txt -> C:/Users/G/Documents/GitHub/audycje.com.pl/content/audio\\CJG_30_2023_08_05.txt\n",
      "Record already exists: voiceapp\\output\\summaries_folder\\glm4_9b_20241213_192515\\CJG_30_2023_08_05-summary_5.txt -> C:/Users/G/Documents/GitHub/audycje.com.pl/content/audio\\CJG_30_2023_08_05.txt\n",
      "Record already exists: voiceapp\\output\\summaries_folder\\glm4_9b_20241213_192515\\CJG_30_2023_08_05-summary_1.txt -> C:/Users/G/Documents/GitHub/audycje.com.pl/content/audio\\CJG_30_2023_08_05.txt\n",
      "Record already exists: voiceapp\\output\\summaries_folder\\glm4_9b_20241213_192515\\CJG_30_2023_08_05-summary_2.txt -> C:/Users/G/Documents/GitHub/audycje.com.pl/content/audio\\CJG_30_2023_08_05.txt\n",
      "Record already exists: voiceapp\\output\\summaries_folder\\glm4_9b_20241213_192515\\CJG_30_2023_08_05-summary_3.txt -> C:/Users/G/Documents/GitHub/audycje.com.pl/content/audio\\CJG_30_2023_08_05.txt\n",
      "Record already exists: voiceapp\\output\\summaries_folder\\glm4_9b_20241213_192515\\CJG_30_2023_08_05-summary_4.txt -> C:/Users/G/Documents/GitHub/audycje.com.pl/content/audio\\CJG_30_2023_08_05.txt\n",
      "Record already exists: voiceapp\\output\\summaries_folder\\glm4_9b_20241213_192515\\CJG_30_2023_08_05-summary_5.txt -> C:/Users/G/Documents/GitHub/audycje.com.pl/content/audio\\CJG_30_2023_08_05.txt\n",
      "Record already exists: voiceapp\\output\\summaries_folder\\glm4_9b_20241213_192515\\CJG_30_2023_08_05-summary_1.txt -> C:/Users/G/Documents/GitHub/audycje.com.pl/content/audio\\CJG_30_2023_08_05.txt\n",
      "Record already exists: voiceapp\\output\\summaries_folder\\glm4_9b_20241213_192515\\CJG_30_2023_08_05-summary_2.txt -> C:/Users/G/Documents/GitHub/audycje.com.pl/content/audio\\CJG_30_2023_08_05.txt\n",
      "Record already exists: voiceapp\\output\\summaries_folder\\glm4_9b_20241213_192515\\CJG_30_2023_08_05-summary_3.txt -> C:/Users/G/Documents/GitHub/audycje.com.pl/content/audio\\CJG_30_2023_08_05.txt\n",
      "Record already exists: voiceapp\\output\\summaries_folder\\glm4_9b_20241213_192515\\CJG_30_2023_08_05-summary_4.txt -> C:/Users/G/Documents/GitHub/audycje.com.pl/content/audio\\CJG_30_2023_08_05.txt\n"
     ]
    },
    {
     "name": "stderr",
     "output_type": "stream",
     "text": [
      "\n",
      "\n",
      "Summarizing files for glm4:9b:  31%|██████████████████████████▉                                                            | 30/97 [35:21<1:25:49, 76.85s/it, file=CJG_29_2023_07_29.txt, summaries_count=20, time=79.85 seconds]\u001b[A\u001b[A\n",
      "\n",
      "Summarizing files for glm4:9b:  31%|██████████████████████████▉                                                            | 30/97 [35:21<1:25:49, 76.85s/it, file=CJG_30_2023_08_05.txt, summaries_count=20, time=83.51 seconds]\u001b[A\u001b[A"
     ]
    },
    {
     "name": "stdout",
     "output_type": "stream",
     "text": [
      "Record already exists: voiceapp\\output\\summaries_folder\\glm4_9b_20241213_192515\\CJG_30_2023_08_05-summary_5.txt -> C:/Users/G/Documents/GitHub/audycje.com.pl/content/audio\\CJG_30_2023_08_05.txt\n",
      "Record already exists: voiceapp\\output\\summaries_folder\\glm4_9b_20241213_192515\\CJG_31_2023_09_09-summary_1.txt -> C:/Users/G/Documents/GitHub/audycje.com.pl/content/audio\\CJG_31_2023_09_09.txt\n",
      "Record already exists: voiceapp\\output\\summaries_folder\\glm4_9b_20241213_192515\\CJG_31_2023_09_09-summary_2.txt -> C:/Users/G/Documents/GitHub/audycje.com.pl/content/audio\\CJG_31_2023_09_09.txt\n",
      "Record already exists: voiceapp\\output\\summaries_folder\\glm4_9b_20241213_192515\\CJG_31_2023_09_09-summary_3.txt -> C:/Users/G/Documents/GitHub/audycje.com.pl/content/audio\\CJG_31_2023_09_09.txt\n",
      "Record already exists: voiceapp\\output\\summaries_folder\\glm4_9b_20241213_192515\\CJG_31_2023_09_09-summary_4.txt -> C:/Users/G/Documents/GitHub/audycje.com.pl/content/audio\\CJG_31_2023_09_09.txt\n",
      "Record already exists: voiceapp\\output\\summaries_folder\\glm4_9b_20241213_192515\\CJG_31_2023_09_09-summary_5.txt -> C:/Users/G/Documents/GitHub/audycje.com.pl/content/audio\\CJG_31_2023_09_09.txt\n",
      "Record already exists: voiceapp\\output\\summaries_folder\\glm4_9b_20241213_192515\\CJG_31_2023_09_09-summary_1.txt -> C:/Users/G/Documents/GitHub/audycje.com.pl/content/audio\\CJG_31_2023_09_09.txt\n",
      "Record already exists: voiceapp\\output\\summaries_folder\\glm4_9b_20241213_192515\\CJG_31_2023_09_09-summary_2.txt -> C:/Users/G/Documents/GitHub/audycje.com.pl/content/audio\\CJG_31_2023_09_09.txt\n",
      "Record already exists: voiceapp\\output\\summaries_folder\\glm4_9b_20241213_192515\\CJG_31_2023_09_09-summary_3.txt -> C:/Users/G/Documents/GitHub/audycje.com.pl/content/audio\\CJG_31_2023_09_09.txt\n",
      "Record already exists: voiceapp\\output\\summaries_folder\\glm4_9b_20241213_192515\\CJG_31_2023_09_09-summary_4.txt -> C:/Users/G/Documents/GitHub/audycje.com.pl/content/audio\\CJG_31_2023_09_09.txt\n",
      "Record already exists: voiceapp\\output\\summaries_folder\\glm4_9b_20241213_192515\\CJG_31_2023_09_09-summary_5.txt -> C:/Users/G/Documents/GitHub/audycje.com.pl/content/audio\\CJG_31_2023_09_09.txt\n",
      "Record already exists: voiceapp\\output\\summaries_folder\\glm4_9b_20241213_192515\\CJG_31_2023_09_09-summary_1.txt -> C:/Users/G/Documents/GitHub/audycje.com.pl/content/audio\\CJG_31_2023_09_09.txt\n",
      "Record already exists: voiceapp\\output\\summaries_folder\\glm4_9b_20241213_192515\\CJG_31_2023_09_09-summary_2.txt -> C:/Users/G/Documents/GitHub/audycje.com.pl/content/audio\\CJG_31_2023_09_09.txt\n",
      "Record already exists: voiceapp\\output\\summaries_folder\\glm4_9b_20241213_192515\\CJG_31_2023_09_09-summary_3.txt -> C:/Users/G/Documents/GitHub/audycje.com.pl/content/audio\\CJG_31_2023_09_09.txt\n",
      "Record already exists: voiceapp\\output\\summaries_folder\\glm4_9b_20241213_192515\\CJG_31_2023_09_09-summary_4.txt -> C:/Users/G/Documents/GitHub/audycje.com.pl/content/audio\\CJG_31_2023_09_09.txt\n"
     ]
    },
    {
     "name": "stderr",
     "output_type": "stream",
     "text": [
      "\n",
      "\n",
      "Summarizing files for glm4:9b:  32%|███████████████████████████▊                                                           | 31/97 [36:43<1:26:14, 78.41s/it, file=CJG_30_2023_08_05.txt, summaries_count=20, time=83.51 seconds]\u001b[A\u001b[A\n",
      "\n",
      "Summarizing files for glm4:9b:  32%|███████████████████████████▊                                                           | 31/97 [36:43<1:26:14, 78.41s/it, file=CJG_31_2023_09_09.txt, summaries_count=20, time=82.03 seconds]\u001b[A\u001b[A"
     ]
    },
    {
     "name": "stdout",
     "output_type": "stream",
     "text": [
      "Record already exists: voiceapp\\output\\summaries_folder\\glm4_9b_20241213_192515\\CJG_31_2023_09_09-summary_5.txt -> C:/Users/G/Documents/GitHub/audycje.com.pl/content/audio\\CJG_31_2023_09_09.txt\n",
      "Record already exists: voiceapp\\output\\summaries_folder\\glm4_9b_20241213_192515\\CJG_32_2023_09_16-summary_1.txt -> C:/Users/G/Documents/GitHub/audycje.com.pl/content/audio\\CJG_32_2023_09_16.txt\n",
      "Record already exists: voiceapp\\output\\summaries_folder\\glm4_9b_20241213_192515\\CJG_32_2023_09_16-summary_2.txt -> C:/Users/G/Documents/GitHub/audycje.com.pl/content/audio\\CJG_32_2023_09_16.txt\n",
      "Record already exists: voiceapp\\output\\summaries_folder\\glm4_9b_20241213_192515\\CJG_32_2023_09_16-summary_3.txt -> C:/Users/G/Documents/GitHub/audycje.com.pl/content/audio\\CJG_32_2023_09_16.txt\n",
      "Record already exists: voiceapp\\output\\summaries_folder\\glm4_9b_20241213_192515\\CJG_32_2023_09_16-summary_4.txt -> C:/Users/G/Documents/GitHub/audycje.com.pl/content/audio\\CJG_32_2023_09_16.txt\n",
      "Record already exists: voiceapp\\output\\summaries_folder\\glm4_9b_20241213_192515\\CJG_32_2023_09_16-summary_5.txt -> C:/Users/G/Documents/GitHub/audycje.com.pl/content/audio\\CJG_32_2023_09_16.txt\n",
      "Record already exists: voiceapp\\output\\summaries_folder\\glm4_9b_20241213_192515\\CJG_32_2023_09_16-summary_1.txt -> C:/Users/G/Documents/GitHub/audycje.com.pl/content/audio\\CJG_32_2023_09_16.txt\n",
      "Record already exists: voiceapp\\output\\summaries_folder\\glm4_9b_20241213_192515\\CJG_32_2023_09_16-summary_2.txt -> C:/Users/G/Documents/GitHub/audycje.com.pl/content/audio\\CJG_32_2023_09_16.txt\n",
      "Record already exists: voiceapp\\output\\summaries_folder\\glm4_9b_20241213_192515\\CJG_32_2023_09_16-summary_3.txt -> C:/Users/G/Documents/GitHub/audycje.com.pl/content/audio\\CJG_32_2023_09_16.txt\n",
      "Record already exists: voiceapp\\output\\summaries_folder\\glm4_9b_20241213_192515\\CJG_32_2023_09_16-summary_4.txt -> C:/Users/G/Documents/GitHub/audycje.com.pl/content/audio\\CJG_32_2023_09_16.txt\n",
      "Record already exists: voiceapp\\output\\summaries_folder\\glm4_9b_20241213_192515\\CJG_32_2023_09_16-summary_5.txt -> C:/Users/G/Documents/GitHub/audycje.com.pl/content/audio\\CJG_32_2023_09_16.txt\n",
      "Record already exists: voiceapp\\output\\summaries_folder\\glm4_9b_20241213_192515\\CJG_32_2023_09_16-summary_1.txt -> C:/Users/G/Documents/GitHub/audycje.com.pl/content/audio\\CJG_32_2023_09_16.txt\n",
      "Record already exists: voiceapp\\output\\summaries_folder\\glm4_9b_20241213_192515\\CJG_32_2023_09_16-summary_2.txt -> C:/Users/G/Documents/GitHub/audycje.com.pl/content/audio\\CJG_32_2023_09_16.txt\n",
      "Record already exists: voiceapp\\output\\summaries_folder\\glm4_9b_20241213_192515\\CJG_32_2023_09_16-summary_3.txt -> C:/Users/G/Documents/GitHub/audycje.com.pl/content/audio\\CJG_32_2023_09_16.txt\n",
      "Record already exists: voiceapp\\output\\summaries_folder\\glm4_9b_20241213_192515\\CJG_32_2023_09_16-summary_4.txt -> C:/Users/G/Documents/GitHub/audycje.com.pl/content/audio\\CJG_32_2023_09_16.txt\n"
     ]
    },
    {
     "name": "stderr",
     "output_type": "stream",
     "text": [
      "\n",
      "\n",
      "Summarizing files for glm4:9b:  33%|████████████████████████████▋                                                          | 32/97 [38:03<1:25:45, 79.16s/it, file=CJG_31_2023_09_09.txt, summaries_count=20, time=82.03 seconds]\u001b[A\u001b[A\n",
      "\n",
      "Summarizing files for glm4:9b:  33%|████████████████████████████▋                                                          | 32/97 [38:03<1:25:45, 79.16s/it, file=CJG_32_2023_09_16.txt, summaries_count=20, time=80.91 seconds]\u001b[A\u001b[A"
     ]
    },
    {
     "name": "stdout",
     "output_type": "stream",
     "text": [
      "Record already exists: voiceapp\\output\\summaries_folder\\glm4_9b_20241213_192515\\CJG_32_2023_09_16-summary_5.txt -> C:/Users/G/Documents/GitHub/audycje.com.pl/content/audio\\CJG_32_2023_09_16.txt\n",
      "Record already exists: voiceapp\\output\\summaries_folder\\glm4_9b_20241213_192515\\CJG_33_2023_09_23-summary_1.txt -> C:/Users/G/Documents/GitHub/audycje.com.pl/content/audio\\CJG_33_2023_09_23.txt\n",
      "Record already exists: voiceapp\\output\\summaries_folder\\glm4_9b_20241213_192515\\CJG_33_2023_09_23-summary_2.txt -> C:/Users/G/Documents/GitHub/audycje.com.pl/content/audio\\CJG_33_2023_09_23.txt\n",
      "Record already exists: voiceapp\\output\\summaries_folder\\glm4_9b_20241213_192515\\CJG_33_2023_09_23-summary_3.txt -> C:/Users/G/Documents/GitHub/audycje.com.pl/content/audio\\CJG_33_2023_09_23.txt\n",
      "Record already exists: voiceapp\\output\\summaries_folder\\glm4_9b_20241213_192515\\CJG_33_2023_09_23-summary_4.txt -> C:/Users/G/Documents/GitHub/audycje.com.pl/content/audio\\CJG_33_2023_09_23.txt\n",
      "Record already exists: voiceapp\\output\\summaries_folder\\glm4_9b_20241213_192515\\CJG_33_2023_09_23-summary_5.txt -> C:/Users/G/Documents/GitHub/audycje.com.pl/content/audio\\CJG_33_2023_09_23.txt\n",
      "Record already exists: voiceapp\\output\\summaries_folder\\glm4_9b_20241213_192515\\CJG_33_2023_09_23-summary_1.txt -> C:/Users/G/Documents/GitHub/audycje.com.pl/content/audio\\CJG_33_2023_09_23.txt\n",
      "Record already exists: voiceapp\\output\\summaries_folder\\glm4_9b_20241213_192515\\CJG_33_2023_09_23-summary_2.txt -> C:/Users/G/Documents/GitHub/audycje.com.pl/content/audio\\CJG_33_2023_09_23.txt\n",
      "Record already exists: voiceapp\\output\\summaries_folder\\glm4_9b_20241213_192515\\CJG_33_2023_09_23-summary_3.txt -> C:/Users/G/Documents/GitHub/audycje.com.pl/content/audio\\CJG_33_2023_09_23.txt\n",
      "Record already exists: voiceapp\\output\\summaries_folder\\glm4_9b_20241213_192515\\CJG_33_2023_09_23-summary_4.txt -> C:/Users/G/Documents/GitHub/audycje.com.pl/content/audio\\CJG_33_2023_09_23.txt\n",
      "Record already exists: voiceapp\\output\\summaries_folder\\glm4_9b_20241213_192515\\CJG_33_2023_09_23-summary_5.txt -> C:/Users/G/Documents/GitHub/audycje.com.pl/content/audio\\CJG_33_2023_09_23.txt\n",
      "Record already exists: voiceapp\\output\\summaries_folder\\glm4_9b_20241213_192515\\CJG_33_2023_09_23-summary_1.txt -> C:/Users/G/Documents/GitHub/audycje.com.pl/content/audio\\CJG_33_2023_09_23.txt\n",
      "Record already exists: voiceapp\\output\\summaries_folder\\glm4_9b_20241213_192515\\CJG_33_2023_09_23-summary_2.txt -> C:/Users/G/Documents/GitHub/audycje.com.pl/content/audio\\CJG_33_2023_09_23.txt\n",
      "Record already exists: voiceapp\\output\\summaries_folder\\glm4_9b_20241213_192515\\CJG_33_2023_09_23-summary_3.txt -> C:/Users/G/Documents/GitHub/audycje.com.pl/content/audio\\CJG_33_2023_09_23.txt\n",
      "Record already exists: voiceapp\\output\\summaries_folder\\glm4_9b_20241213_192515\\CJG_33_2023_09_23-summary_4.txt -> C:/Users/G/Documents/GitHub/audycje.com.pl/content/audio\\CJG_33_2023_09_23.txt\n"
     ]
    },
    {
     "name": "stderr",
     "output_type": "stream",
     "text": [
      "\n",
      "\n",
      "Summarizing files for glm4:9b:  34%|█████████████████████████████▌                                                         | 33/97 [39:26<1:25:24, 80.08s/it, file=CJG_32_2023_09_16.txt, summaries_count=20, time=80.91 seconds]\u001b[A\u001b[A\n",
      "\n",
      "Summarizing files for glm4:9b:  34%|█████████████████████████████▌                                                         | 33/97 [39:26<1:25:24, 80.08s/it, file=CJG_33_2023_09_23.txt, summaries_count=20, time=82.22 seconds]\u001b[A\u001b[A"
     ]
    },
    {
     "name": "stdout",
     "output_type": "stream",
     "text": [
      "Record already exists: voiceapp\\output\\summaries_folder\\glm4_9b_20241213_192515\\CJG_33_2023_09_23-summary_5.txt -> C:/Users/G/Documents/GitHub/audycje.com.pl/content/audio\\CJG_33_2023_09_23.txt\n",
      "Record already exists: voiceapp\\output\\summaries_folder\\glm4_9b_20241213_192515\\CJG_34_2023_09_30-summary_1.txt -> C:/Users/G/Documents/GitHub/audycje.com.pl/content/audio\\CJG_34_2023_09_30.txt\n",
      "Record already exists: voiceapp\\output\\summaries_folder\\glm4_9b_20241213_192515\\CJG_34_2023_09_30-summary_2.txt -> C:/Users/G/Documents/GitHub/audycje.com.pl/content/audio\\CJG_34_2023_09_30.txt\n",
      "Record already exists: voiceapp\\output\\summaries_folder\\glm4_9b_20241213_192515\\CJG_34_2023_09_30-summary_3.txt -> C:/Users/G/Documents/GitHub/audycje.com.pl/content/audio\\CJG_34_2023_09_30.txt\n",
      "Record already exists: voiceapp\\output\\summaries_folder\\glm4_9b_20241213_192515\\CJG_34_2023_09_30-summary_4.txt -> C:/Users/G/Documents/GitHub/audycje.com.pl/content/audio\\CJG_34_2023_09_30.txt\n",
      "Record already exists: voiceapp\\output\\summaries_folder\\glm4_9b_20241213_192515\\CJG_34_2023_09_30-summary_5.txt -> C:/Users/G/Documents/GitHub/audycje.com.pl/content/audio\\CJG_34_2023_09_30.txt\n",
      "Record already exists: voiceapp\\output\\summaries_folder\\glm4_9b_20241213_192515\\CJG_34_2023_09_30-summary_1.txt -> C:/Users/G/Documents/GitHub/audycje.com.pl/content/audio\\CJG_34_2023_09_30.txt\n",
      "Record already exists: voiceapp\\output\\summaries_folder\\glm4_9b_20241213_192515\\CJG_34_2023_09_30-summary_2.txt -> C:/Users/G/Documents/GitHub/audycje.com.pl/content/audio\\CJG_34_2023_09_30.txt\n",
      "Record already exists: voiceapp\\output\\summaries_folder\\glm4_9b_20241213_192515\\CJG_34_2023_09_30-summary_3.txt -> C:/Users/G/Documents/GitHub/audycje.com.pl/content/audio\\CJG_34_2023_09_30.txt\n",
      "Record already exists: voiceapp\\output\\summaries_folder\\glm4_9b_20241213_192515\\CJG_34_2023_09_30-summary_4.txt -> C:/Users/G/Documents/GitHub/audycje.com.pl/content/audio\\CJG_34_2023_09_30.txt\n",
      "Record already exists: voiceapp\\output\\summaries_folder\\glm4_9b_20241213_192515\\CJG_34_2023_09_30-summary_5.txt -> C:/Users/G/Documents/GitHub/audycje.com.pl/content/audio\\CJG_34_2023_09_30.txt\n",
      "Record already exists: voiceapp\\output\\summaries_folder\\glm4_9b_20241213_192515\\CJG_34_2023_09_30-summary_1.txt -> C:/Users/G/Documents/GitHub/audycje.com.pl/content/audio\\CJG_34_2023_09_30.txt\n",
      "Record already exists: voiceapp\\output\\summaries_folder\\glm4_9b_20241213_192515\\CJG_34_2023_09_30-summary_2.txt -> C:/Users/G/Documents/GitHub/audycje.com.pl/content/audio\\CJG_34_2023_09_30.txt\n",
      "Record already exists: voiceapp\\output\\summaries_folder\\glm4_9b_20241213_192515\\CJG_34_2023_09_30-summary_3.txt -> C:/Users/G/Documents/GitHub/audycje.com.pl/content/audio\\CJG_34_2023_09_30.txt\n",
      "Record already exists: voiceapp\\output\\summaries_folder\\glm4_9b_20241213_192515\\CJG_34_2023_09_30-summary_4.txt -> C:/Users/G/Documents/GitHub/audycje.com.pl/content/audio\\CJG_34_2023_09_30.txt\n"
     ]
    },
    {
     "name": "stderr",
     "output_type": "stream",
     "text": [
      "\n",
      "\n",
      "Summarizing files for glm4:9b:  35%|██████████████████████████████▍                                                        | 34/97 [40:50<1:25:31, 81.46s/it, file=CJG_33_2023_09_23.txt, summaries_count=20, time=82.22 seconds]\u001b[A\u001b[A\n",
      "\n",
      "Summarizing files for glm4:9b:  35%|██████████████████████████████▍                                                        | 34/97 [40:50<1:25:31, 81.46s/it, file=CJG_34_2023_09_30.txt, summaries_count=20, time=84.69 seconds]\u001b[A\u001b[A"
     ]
    },
    {
     "name": "stdout",
     "output_type": "stream",
     "text": [
      "Record already exists: voiceapp\\output\\summaries_folder\\glm4_9b_20241213_192515\\CJG_34_2023_09_30-summary_5.txt -> C:/Users/G/Documents/GitHub/audycje.com.pl/content/audio\\CJG_34_2023_09_30.txt\n",
      "Record already exists: voiceapp\\output\\summaries_folder\\glm4_9b_20241213_192515\\CJG_35_2023_10_07-summary_1.txt -> C:/Users/G/Documents/GitHub/audycje.com.pl/content/audio\\CJG_35_2023_10_07.txt\n",
      "Record already exists: voiceapp\\output\\summaries_folder\\glm4_9b_20241213_192515\\CJG_35_2023_10_07-summary_2.txt -> C:/Users/G/Documents/GitHub/audycje.com.pl/content/audio\\CJG_35_2023_10_07.txt\n",
      "Record already exists: voiceapp\\output\\summaries_folder\\glm4_9b_20241213_192515\\CJG_35_2023_10_07-summary_3.txt -> C:/Users/G/Documents/GitHub/audycje.com.pl/content/audio\\CJG_35_2023_10_07.txt\n",
      "Record already exists: voiceapp\\output\\summaries_folder\\glm4_9b_20241213_192515\\CJG_35_2023_10_07-summary_4.txt -> C:/Users/G/Documents/GitHub/audycje.com.pl/content/audio\\CJG_35_2023_10_07.txt\n",
      "Record already exists: voiceapp\\output\\summaries_folder\\glm4_9b_20241213_192515\\CJG_35_2023_10_07-summary_5.txt -> C:/Users/G/Documents/GitHub/audycje.com.pl/content/audio\\CJG_35_2023_10_07.txt\n",
      "Record already exists: voiceapp\\output\\summaries_folder\\glm4_9b_20241213_192515\\CJG_35_2023_10_07-summary_1.txt -> C:/Users/G/Documents/GitHub/audycje.com.pl/content/audio\\CJG_35_2023_10_07.txt\n",
      "Record already exists: voiceapp\\output\\summaries_folder\\glm4_9b_20241213_192515\\CJG_35_2023_10_07-summary_2.txt -> C:/Users/G/Documents/GitHub/audycje.com.pl/content/audio\\CJG_35_2023_10_07.txt\n",
      "Record already exists: voiceapp\\output\\summaries_folder\\glm4_9b_20241213_192515\\CJG_35_2023_10_07-summary_3.txt -> C:/Users/G/Documents/GitHub/audycje.com.pl/content/audio\\CJG_35_2023_10_07.txt\n",
      "Record already exists: voiceapp\\output\\summaries_folder\\glm4_9b_20241213_192515\\CJG_35_2023_10_07-summary_4.txt -> C:/Users/G/Documents/GitHub/audycje.com.pl/content/audio\\CJG_35_2023_10_07.txt\n",
      "Record already exists: voiceapp\\output\\summaries_folder\\glm4_9b_20241213_192515\\CJG_35_2023_10_07-summary_5.txt -> C:/Users/G/Documents/GitHub/audycje.com.pl/content/audio\\CJG_35_2023_10_07.txt\n",
      "Record already exists: voiceapp\\output\\summaries_folder\\glm4_9b_20241213_192515\\CJG_35_2023_10_07-summary_1.txt -> C:/Users/G/Documents/GitHub/audycje.com.pl/content/audio\\CJG_35_2023_10_07.txt\n",
      "Record already exists: voiceapp\\output\\summaries_folder\\glm4_9b_20241213_192515\\CJG_35_2023_10_07-summary_2.txt -> C:/Users/G/Documents/GitHub/audycje.com.pl/content/audio\\CJG_35_2023_10_07.txt\n",
      "Record already exists: voiceapp\\output\\summaries_folder\\glm4_9b_20241213_192515\\CJG_35_2023_10_07-summary_3.txt -> C:/Users/G/Documents/GitHub/audycje.com.pl/content/audio\\CJG_35_2023_10_07.txt\n",
      "Record already exists: voiceapp\\output\\summaries_folder\\glm4_9b_20241213_192515\\CJG_35_2023_10_07-summary_4.txt -> C:/Users/G/Documents/GitHub/audycje.com.pl/content/audio\\CJG_35_2023_10_07.txt\n"
     ]
    },
    {
     "name": "stderr",
     "output_type": "stream",
     "text": [
      "\n",
      "\n",
      "Summarizing files for glm4:9b:  36%|███████████████████████████████▍                                                       | 35/97 [42:18<1:25:58, 83.20s/it, file=CJG_34_2023_09_30.txt, summaries_count=20, time=84.69 seconds]\u001b[A\u001b[A\n",
      "\n",
      "Summarizing files for glm4:9b:  36%|███████████████████████████████▍                                                       | 35/97 [42:18<1:25:58, 83.20s/it, file=CJG_35_2023_10_07.txt, summaries_count=20, time=87.26 seconds]\u001b[A\u001b[A"
     ]
    },
    {
     "name": "stdout",
     "output_type": "stream",
     "text": [
      "Record already exists: voiceapp\\output\\summaries_folder\\glm4_9b_20241213_192515\\CJG_35_2023_10_07-summary_5.txt -> C:/Users/G/Documents/GitHub/audycje.com.pl/content/audio\\CJG_35_2023_10_07.txt\n",
      "Record already exists: voiceapp\\output\\summaries_folder\\glm4_9b_20241213_192515\\CJG_36_2023_10_14-summary_1.txt -> C:/Users/G/Documents/GitHub/audycje.com.pl/content/audio\\CJG_36_2023_10_14.txt\n",
      "Record already exists: voiceapp\\output\\summaries_folder\\glm4_9b_20241213_192515\\CJG_36_2023_10_14-summary_2.txt -> C:/Users/G/Documents/GitHub/audycje.com.pl/content/audio\\CJG_36_2023_10_14.txt\n",
      "Record already exists: voiceapp\\output\\summaries_folder\\glm4_9b_20241213_192515\\CJG_36_2023_10_14-summary_3.txt -> C:/Users/G/Documents/GitHub/audycje.com.pl/content/audio\\CJG_36_2023_10_14.txt\n",
      "Record already exists: voiceapp\\output\\summaries_folder\\glm4_9b_20241213_192515\\CJG_36_2023_10_14-summary_4.txt -> C:/Users/G/Documents/GitHub/audycje.com.pl/content/audio\\CJG_36_2023_10_14.txt\n",
      "Record already exists: voiceapp\\output\\summaries_folder\\glm4_9b_20241213_192515\\CJG_36_2023_10_14-summary_5.txt -> C:/Users/G/Documents/GitHub/audycje.com.pl/content/audio\\CJG_36_2023_10_14.txt\n",
      "Record already exists: voiceapp\\output\\summaries_folder\\glm4_9b_20241213_192515\\CJG_36_2023_10_14-summary_1.txt -> C:/Users/G/Documents/GitHub/audycje.com.pl/content/audio\\CJG_36_2023_10_14.txt\n",
      "Record already exists: voiceapp\\output\\summaries_folder\\glm4_9b_20241213_192515\\CJG_36_2023_10_14-summary_2.txt -> C:/Users/G/Documents/GitHub/audycje.com.pl/content/audio\\CJG_36_2023_10_14.txt\n",
      "Record already exists: voiceapp\\output\\summaries_folder\\glm4_9b_20241213_192515\\CJG_36_2023_10_14-summary_3.txt -> C:/Users/G/Documents/GitHub/audycje.com.pl/content/audio\\CJG_36_2023_10_14.txt\n",
      "Record already exists: voiceapp\\output\\summaries_folder\\glm4_9b_20241213_192515\\CJG_36_2023_10_14-summary_4.txt -> C:/Users/G/Documents/GitHub/audycje.com.pl/content/audio\\CJG_36_2023_10_14.txt\n",
      "Record already exists: voiceapp\\output\\summaries_folder\\glm4_9b_20241213_192515\\CJG_36_2023_10_14-summary_5.txt -> C:/Users/G/Documents/GitHub/audycje.com.pl/content/audio\\CJG_36_2023_10_14.txt\n",
      "Record already exists: voiceapp\\output\\summaries_folder\\glm4_9b_20241213_192515\\CJG_36_2023_10_14-summary_1.txt -> C:/Users/G/Documents/GitHub/audycje.com.pl/content/audio\\CJG_36_2023_10_14.txt\n",
      "Record already exists: voiceapp\\output\\summaries_folder\\glm4_9b_20241213_192515\\CJG_36_2023_10_14-summary_2.txt -> C:/Users/G/Documents/GitHub/audycje.com.pl/content/audio\\CJG_36_2023_10_14.txt\n",
      "Record already exists: voiceapp\\output\\summaries_folder\\glm4_9b_20241213_192515\\CJG_36_2023_10_14-summary_3.txt -> C:/Users/G/Documents/GitHub/audycje.com.pl/content/audio\\CJG_36_2023_10_14.txt\n",
      "Record already exists: voiceapp\\output\\summaries_folder\\glm4_9b_20241213_192515\\CJG_36_2023_10_14-summary_4.txt -> C:/Users/G/Documents/GitHub/audycje.com.pl/content/audio\\CJG_36_2023_10_14.txt\n"
     ]
    },
    {
     "name": "stderr",
     "output_type": "stream",
     "text": [
      "\n",
      "\n",
      "Summarizing files for glm4:9b:  37%|████████████████████████████████▎                                                      | 36/97 [43:35<1:22:57, 81.60s/it, file=CJG_35_2023_10_07.txt, summaries_count=20, time=87.26 seconds]\u001b[A\u001b[A\n",
      "\n",
      "Summarizing files for glm4:9b:  37%|████████████████████████████████▎                                                      | 36/97 [43:35<1:22:57, 81.60s/it, file=CJG_36_2023_10_14.txt, summaries_count=20, time=77.86 seconds]\u001b[A\u001b[A"
     ]
    },
    {
     "name": "stdout",
     "output_type": "stream",
     "text": [
      "Record already exists: voiceapp\\output\\summaries_folder\\glm4_9b_20241213_192515\\CJG_36_2023_10_14-summary_5.txt -> C:/Users/G/Documents/GitHub/audycje.com.pl/content/audio\\CJG_36_2023_10_14.txt\n",
      "Record already exists: voiceapp\\output\\summaries_folder\\glm4_9b_20241213_192515\\CJG_37_2023_10_21-summary_1.txt -> C:/Users/G/Documents/GitHub/audycje.com.pl/content/audio\\CJG_37_2023_10_21.txt\n",
      "Record already exists: voiceapp\\output\\summaries_folder\\glm4_9b_20241213_192515\\CJG_37_2023_10_21-summary_2.txt -> C:/Users/G/Documents/GitHub/audycje.com.pl/content/audio\\CJG_37_2023_10_21.txt\n",
      "Record already exists: voiceapp\\output\\summaries_folder\\glm4_9b_20241213_192515\\CJG_37_2023_10_21-summary_3.txt -> C:/Users/G/Documents/GitHub/audycje.com.pl/content/audio\\CJG_37_2023_10_21.txt\n",
      "Record already exists: voiceapp\\output\\summaries_folder\\glm4_9b_20241213_192515\\CJG_37_2023_10_21-summary_4.txt -> C:/Users/G/Documents/GitHub/audycje.com.pl/content/audio\\CJG_37_2023_10_21.txt\n",
      "Record already exists: voiceapp\\output\\summaries_folder\\glm4_9b_20241213_192515\\CJG_37_2023_10_21-summary_5.txt -> C:/Users/G/Documents/GitHub/audycje.com.pl/content/audio\\CJG_37_2023_10_21.txt\n",
      "Record already exists: voiceapp\\output\\summaries_folder\\glm4_9b_20241213_192515\\CJG_37_2023_10_21-summary_1.txt -> C:/Users/G/Documents/GitHub/audycje.com.pl/content/audio\\CJG_37_2023_10_21.txt\n",
      "Record already exists: voiceapp\\output\\summaries_folder\\glm4_9b_20241213_192515\\CJG_37_2023_10_21-summary_2.txt -> C:/Users/G/Documents/GitHub/audycje.com.pl/content/audio\\CJG_37_2023_10_21.txt\n",
      "Record already exists: voiceapp\\output\\summaries_folder\\glm4_9b_20241213_192515\\CJG_37_2023_10_21-summary_3.txt -> C:/Users/G/Documents/GitHub/audycje.com.pl/content/audio\\CJG_37_2023_10_21.txt\n",
      "Record already exists: voiceapp\\output\\summaries_folder\\glm4_9b_20241213_192515\\CJG_37_2023_10_21-summary_4.txt -> C:/Users/G/Documents/GitHub/audycje.com.pl/content/audio\\CJG_37_2023_10_21.txt\n"
     ]
    },
    {
     "name": "stderr",
     "output_type": "stream",
     "text": [
      "\n",
      "\n",
      "Summarizing files for glm4:9b:  38%|█████████████████████████████████▏                                                     | 37/97 [44:44<1:17:37, 77.62s/it, file=CJG_36_2023_10_14.txt, summaries_count=20, time=77.86 seconds]\u001b[A\u001b[A\n",
      "\n",
      "Summarizing files for glm4:9b:  38%|█████████████████████████████████▏                                                     | 37/97 [44:44<1:17:37, 77.62s/it, file=CJG_37_2023_10_21.txt, summaries_count=15, time=68.35 seconds]\u001b[A\u001b[A"
     ]
    },
    {
     "name": "stdout",
     "output_type": "stream",
     "text": [
      "Record already exists: voiceapp\\output\\summaries_folder\\glm4_9b_20241213_192515\\CJG_37_2023_10_21-summary_5.txt -> C:/Users/G/Documents/GitHub/audycje.com.pl/content/audio\\CJG_37_2023_10_21.txt\n",
      "Record already exists: voiceapp\\output\\summaries_folder\\glm4_9b_20241213_192515\\CJG_38_2023_10_28-summary_1.txt -> C:/Users/G/Documents/GitHub/audycje.com.pl/content/audio\\CJG_38_2023_10_28.txt\n",
      "Record already exists: voiceapp\\output\\summaries_folder\\glm4_9b_20241213_192515\\CJG_38_2023_10_28-summary_2.txt -> C:/Users/G/Documents/GitHub/audycje.com.pl/content/audio\\CJG_38_2023_10_28.txt\n",
      "Record already exists: voiceapp\\output\\summaries_folder\\glm4_9b_20241213_192515\\CJG_38_2023_10_28-summary_3.txt -> C:/Users/G/Documents/GitHub/audycje.com.pl/content/audio\\CJG_38_2023_10_28.txt\n",
      "Record already exists: voiceapp\\output\\summaries_folder\\glm4_9b_20241213_192515\\CJG_38_2023_10_28-summary_4.txt -> C:/Users/G/Documents/GitHub/audycje.com.pl/content/audio\\CJG_38_2023_10_28.txt\n",
      "Record already exists: voiceapp\\output\\summaries_folder\\glm4_9b_20241213_192515\\CJG_38_2023_10_28-summary_5.txt -> C:/Users/G/Documents/GitHub/audycje.com.pl/content/audio\\CJG_38_2023_10_28.txt\n",
      "Record already exists: voiceapp\\output\\summaries_folder\\glm4_9b_20241213_192515\\CJG_38_2023_10_28-summary_1.txt -> C:/Users/G/Documents/GitHub/audycje.com.pl/content/audio\\CJG_38_2023_10_28.txt\n",
      "Record already exists: voiceapp\\output\\summaries_folder\\glm4_9b_20241213_192515\\CJG_38_2023_10_28-summary_2.txt -> C:/Users/G/Documents/GitHub/audycje.com.pl/content/audio\\CJG_38_2023_10_28.txt\n",
      "Record already exists: voiceapp\\output\\summaries_folder\\glm4_9b_20241213_192515\\CJG_38_2023_10_28-summary_3.txt -> C:/Users/G/Documents/GitHub/audycje.com.pl/content/audio\\CJG_38_2023_10_28.txt\n",
      "Record already exists: voiceapp\\output\\summaries_folder\\glm4_9b_20241213_192515\\CJG_38_2023_10_28-summary_4.txt -> C:/Users/G/Documents/GitHub/audycje.com.pl/content/audio\\CJG_38_2023_10_28.txt\n"
     ]
    },
    {
     "name": "stderr",
     "output_type": "stream",
     "text": [
      "\n",
      "\n",
      "Summarizing files for glm4:9b:  39%|██████████████████████████████████                                                     | 38/97 [45:39<1:09:39, 70.85s/it, file=CJG_37_2023_10_21.txt, summaries_count=15, time=68.35 seconds]\u001b[A\u001b[A\n",
      "\n",
      "Summarizing files for glm4:9b:  39%|██████████████████████████████████                                                     | 38/97 [45:39<1:09:39, 70.85s/it, file=CJG_38_2023_10_28.txt, summaries_count=15, time=55.03 seconds]\u001b[A\u001b[A"
     ]
    },
    {
     "name": "stdout",
     "output_type": "stream",
     "text": [
      "Record already exists: voiceapp\\output\\summaries_folder\\glm4_9b_20241213_192515\\CJG_38_2023_10_28-summary_5.txt -> C:/Users/G/Documents/GitHub/audycje.com.pl/content/audio\\CJG_38_2023_10_28.txt\n",
      "Record already exists: voiceapp\\output\\summaries_folder\\glm4_9b_20241213_192515\\CJG_39_2023_11_04-summary_1.txt -> C:/Users/G/Documents/GitHub/audycje.com.pl/content/audio\\CJG_39_2023_11_04.txt\n",
      "Record already exists: voiceapp\\output\\summaries_folder\\glm4_9b_20241213_192515\\CJG_39_2023_11_04-summary_2.txt -> C:/Users/G/Documents/GitHub/audycje.com.pl/content/audio\\CJG_39_2023_11_04.txt\n",
      "Record already exists: voiceapp\\output\\summaries_folder\\glm4_9b_20241213_192515\\CJG_39_2023_11_04-summary_3.txt -> C:/Users/G/Documents/GitHub/audycje.com.pl/content/audio\\CJG_39_2023_11_04.txt\n",
      "Record already exists: voiceapp\\output\\summaries_folder\\glm4_9b_20241213_192515\\CJG_39_2023_11_04-summary_4.txt -> C:/Users/G/Documents/GitHub/audycje.com.pl/content/audio\\CJG_39_2023_11_04.txt\n",
      "Record already exists: voiceapp\\output\\summaries_folder\\glm4_9b_20241213_192515\\CJG_39_2023_11_04-summary_5.txt -> C:/Users/G/Documents/GitHub/audycje.com.pl/content/audio\\CJG_39_2023_11_04.txt\n",
      "Record already exists: voiceapp\\output\\summaries_folder\\glm4_9b_20241213_192515\\CJG_39_2023_11_04-summary_1.txt -> C:/Users/G/Documents/GitHub/audycje.com.pl/content/audio\\CJG_39_2023_11_04.txt\n",
      "Record already exists: voiceapp\\output\\summaries_folder\\glm4_9b_20241213_192515\\CJG_39_2023_11_04-summary_2.txt -> C:/Users/G/Documents/GitHub/audycje.com.pl/content/audio\\CJG_39_2023_11_04.txt\n",
      "Record already exists: voiceapp\\output\\summaries_folder\\glm4_9b_20241213_192515\\CJG_39_2023_11_04-summary_3.txt -> C:/Users/G/Documents/GitHub/audycje.com.pl/content/audio\\CJG_39_2023_11_04.txt\n",
      "Record already exists: voiceapp\\output\\summaries_folder\\glm4_9b_20241213_192515\\CJG_39_2023_11_04-summary_4.txt -> C:/Users/G/Documents/GitHub/audycje.com.pl/content/audio\\CJG_39_2023_11_04.txt\n",
      "Record already exists: voiceapp\\output\\summaries_folder\\glm4_9b_20241213_192515\\CJG_39_2023_11_04-summary_5.txt -> C:/Users/G/Documents/GitHub/audycje.com.pl/content/audio\\CJG_39_2023_11_04.txt\n",
      "Record already exists: voiceapp\\output\\summaries_folder\\glm4_9b_20241213_192515\\CJG_39_2023_11_04-summary_1.txt -> C:/Users/G/Documents/GitHub/audycje.com.pl/content/audio\\CJG_39_2023_11_04.txt\n",
      "Record already exists: voiceapp\\output\\summaries_folder\\glm4_9b_20241213_192515\\CJG_39_2023_11_04-summary_2.txt -> C:/Users/G/Documents/GitHub/audycje.com.pl/content/audio\\CJG_39_2023_11_04.txt\n",
      "Record already exists: voiceapp\\output\\summaries_folder\\glm4_9b_20241213_192515\\CJG_39_2023_11_04-summary_3.txt -> C:/Users/G/Documents/GitHub/audycje.com.pl/content/audio\\CJG_39_2023_11_04.txt\n",
      "Record already exists: voiceapp\\output\\summaries_folder\\glm4_9b_20241213_192515\\CJG_39_2023_11_04-summary_4.txt -> C:/Users/G/Documents/GitHub/audycje.com.pl/content/audio\\CJG_39_2023_11_04.txt\n"
     ]
    },
    {
     "name": "stderr",
     "output_type": "stream",
     "text": [
      "\n",
      "\n",
      "Summarizing files for glm4:9b:  40%|██████████████████████████████████▉                                                    | 39/97 [46:57<1:10:42, 73.15s/it, file=CJG_38_2023_10_28.txt, summaries_count=15, time=55.03 seconds]\u001b[A\u001b[A\n",
      "\n",
      "Summarizing files for glm4:9b:  40%|██████████████████████████████████▉                                                    | 39/97 [46:57<1:10:42, 73.15s/it, file=CJG_39_2023_11_04.txt, summaries_count=20, time=78.52 seconds]\u001b[A\u001b[A"
     ]
    },
    {
     "name": "stdout",
     "output_type": "stream",
     "text": [
      "Record already exists: voiceapp\\output\\summaries_folder\\glm4_9b_20241213_192515\\CJG_39_2023_11_04-summary_5.txt -> C:/Users/G/Documents/GitHub/audycje.com.pl/content/audio\\CJG_39_2023_11_04.txt\n",
      "Record already exists: voiceapp\\output\\summaries_folder\\glm4_9b_20241213_192515\\CJG_40_2023_11_11-summary_1.txt -> C:/Users/G/Documents/GitHub/audycje.com.pl/content/audio\\CJG_40_2023_11_11.txt\n",
      "Record already exists: voiceapp\\output\\summaries_folder\\glm4_9b_20241213_192515\\CJG_40_2023_11_11-summary_2.txt -> C:/Users/G/Documents/GitHub/audycje.com.pl/content/audio\\CJG_40_2023_11_11.txt\n",
      "Record already exists: voiceapp\\output\\summaries_folder\\glm4_9b_20241213_192515\\CJG_40_2023_11_11-summary_3.txt -> C:/Users/G/Documents/GitHub/audycje.com.pl/content/audio\\CJG_40_2023_11_11.txt\n",
      "Record already exists: voiceapp\\output\\summaries_folder\\glm4_9b_20241213_192515\\CJG_40_2023_11_11-summary_4.txt -> C:/Users/G/Documents/GitHub/audycje.com.pl/content/audio\\CJG_40_2023_11_11.txt\n",
      "Record already exists: voiceapp\\output\\summaries_folder\\glm4_9b_20241213_192515\\CJG_40_2023_11_11-summary_5.txt -> C:/Users/G/Documents/GitHub/audycje.com.pl/content/audio\\CJG_40_2023_11_11.txt\n",
      "Record already exists: voiceapp\\output\\summaries_folder\\glm4_9b_20241213_192515\\CJG_40_2023_11_11-summary_1.txt -> C:/Users/G/Documents/GitHub/audycje.com.pl/content/audio\\CJG_40_2023_11_11.txt\n",
      "Record already exists: voiceapp\\output\\summaries_folder\\glm4_9b_20241213_192515\\CJG_40_2023_11_11-summary_2.txt -> C:/Users/G/Documents/GitHub/audycje.com.pl/content/audio\\CJG_40_2023_11_11.txt\n",
      "Record already exists: voiceapp\\output\\summaries_folder\\glm4_9b_20241213_192515\\CJG_40_2023_11_11-summary_3.txt -> C:/Users/G/Documents/GitHub/audycje.com.pl/content/audio\\CJG_40_2023_11_11.txt\n",
      "Record already exists: voiceapp\\output\\summaries_folder\\glm4_9b_20241213_192515\\CJG_40_2023_11_11-summary_4.txt -> C:/Users/G/Documents/GitHub/audycje.com.pl/content/audio\\CJG_40_2023_11_11.txt\n",
      "Record already exists: voiceapp\\output\\summaries_folder\\glm4_9b_20241213_192515\\CJG_40_2023_11_11-summary_5.txt -> C:/Users/G/Documents/GitHub/audycje.com.pl/content/audio\\CJG_40_2023_11_11.txt\n",
      "Record already exists: voiceapp\\output\\summaries_folder\\glm4_9b_20241213_192515\\CJG_40_2023_11_11-summary_1.txt -> C:/Users/G/Documents/GitHub/audycje.com.pl/content/audio\\CJG_40_2023_11_11.txt\n",
      "Record already exists: voiceapp\\output\\summaries_folder\\glm4_9b_20241213_192515\\CJG_40_2023_11_11-summary_2.txt -> C:/Users/G/Documents/GitHub/audycje.com.pl/content/audio\\CJG_40_2023_11_11.txt\n",
      "Record already exists: voiceapp\\output\\summaries_folder\\glm4_9b_20241213_192515\\CJG_40_2023_11_11-summary_3.txt -> C:/Users/G/Documents/GitHub/audycje.com.pl/content/audio\\CJG_40_2023_11_11.txt\n",
      "Record already exists: voiceapp\\output\\summaries_folder\\glm4_9b_20241213_192515\\CJG_40_2023_11_11-summary_4.txt -> C:/Users/G/Documents/GitHub/audycje.com.pl/content/audio\\CJG_40_2023_11_11.txt\n"
     ]
    },
    {
     "name": "stderr",
     "output_type": "stream",
     "text": [
      "\n",
      "\n",
      "Summarizing files for glm4:9b:  41%|███████████████████████████████████▉                                                   | 40/97 [48:20<1:12:11, 75.99s/it, file=CJG_39_2023_11_04.txt, summaries_count=20, time=78.52 seconds]\u001b[A\u001b[A\n",
      "\n",
      "Summarizing files for glm4:9b:  41%|███████████████████████████████████▉                                                   | 40/97 [48:20<1:12:11, 75.99s/it, file=CJG_40_2023_11_11.txt, summaries_count=20, time=82.62 seconds]\u001b[A\u001b[A"
     ]
    },
    {
     "name": "stdout",
     "output_type": "stream",
     "text": [
      "Record already exists: voiceapp\\output\\summaries_folder\\glm4_9b_20241213_192515\\CJG_40_2023_11_11-summary_5.txt -> C:/Users/G/Documents/GitHub/audycje.com.pl/content/audio\\CJG_40_2023_11_11.txt\n",
      "Record already exists: voiceapp\\output\\summaries_folder\\glm4_9b_20241213_192515\\CJG_41_2023_11_18-summary_1.txt -> C:/Users/G/Documents/GitHub/audycje.com.pl/content/audio\\CJG_41_2023_11_18.txt\n",
      "Record already exists: voiceapp\\output\\summaries_folder\\glm4_9b_20241213_192515\\CJG_41_2023_11_18-summary_2.txt -> C:/Users/G/Documents/GitHub/audycje.com.pl/content/audio\\CJG_41_2023_11_18.txt\n",
      "Record already exists: voiceapp\\output\\summaries_folder\\glm4_9b_20241213_192515\\CJG_41_2023_11_18-summary_3.txt -> C:/Users/G/Documents/GitHub/audycje.com.pl/content/audio\\CJG_41_2023_11_18.txt\n",
      "Record already exists: voiceapp\\output\\summaries_folder\\glm4_9b_20241213_192515\\CJG_41_2023_11_18-summary_4.txt -> C:/Users/G/Documents/GitHub/audycje.com.pl/content/audio\\CJG_41_2023_11_18.txt\n",
      "Record already exists: voiceapp\\output\\summaries_folder\\glm4_9b_20241213_192515\\CJG_41_2023_11_18-summary_5.txt -> C:/Users/G/Documents/GitHub/audycje.com.pl/content/audio\\CJG_41_2023_11_18.txt\n",
      "Record already exists: voiceapp\\output\\summaries_folder\\glm4_9b_20241213_192515\\CJG_41_2023_11_18-summary_1.txt -> C:/Users/G/Documents/GitHub/audycje.com.pl/content/audio\\CJG_41_2023_11_18.txt\n",
      "Record already exists: voiceapp\\output\\summaries_folder\\glm4_9b_20241213_192515\\CJG_41_2023_11_18-summary_2.txt -> C:/Users/G/Documents/GitHub/audycje.com.pl/content/audio\\CJG_41_2023_11_18.txt\n",
      "Record already exists: voiceapp\\output\\summaries_folder\\glm4_9b_20241213_192515\\CJG_41_2023_11_18-summary_3.txt -> C:/Users/G/Documents/GitHub/audycje.com.pl/content/audio\\CJG_41_2023_11_18.txt\n",
      "Record already exists: voiceapp\\output\\summaries_folder\\glm4_9b_20241213_192515\\CJG_41_2023_11_18-summary_4.txt -> C:/Users/G/Documents/GitHub/audycje.com.pl/content/audio\\CJG_41_2023_11_18.txt\n",
      "Record already exists: voiceapp\\output\\summaries_folder\\glm4_9b_20241213_192515\\CJG_41_2023_11_18-summary_5.txt -> C:/Users/G/Documents/GitHub/audycje.com.pl/content/audio\\CJG_41_2023_11_18.txt\n",
      "Record already exists: voiceapp\\output\\summaries_folder\\glm4_9b_20241213_192515\\CJG_41_2023_11_18-summary_1.txt -> C:/Users/G/Documents/GitHub/audycje.com.pl/content/audio\\CJG_41_2023_11_18.txt\n",
      "Record already exists: voiceapp\\output\\summaries_folder\\glm4_9b_20241213_192515\\CJG_41_2023_11_18-summary_2.txt -> C:/Users/G/Documents/GitHub/audycje.com.pl/content/audio\\CJG_41_2023_11_18.txt\n",
      "Record already exists: voiceapp\\output\\summaries_folder\\glm4_9b_20241213_192515\\CJG_41_2023_11_18-summary_3.txt -> C:/Users/G/Documents/GitHub/audycje.com.pl/content/audio\\CJG_41_2023_11_18.txt\n",
      "Record already exists: voiceapp\\output\\summaries_folder\\glm4_9b_20241213_192515\\CJG_41_2023_11_18-summary_4.txt -> C:/Users/G/Documents/GitHub/audycje.com.pl/content/audio\\CJG_41_2023_11_18.txt\n"
     ]
    },
    {
     "name": "stderr",
     "output_type": "stream",
     "text": [
      "\n",
      "\n",
      "Summarizing files for glm4:9b:  42%|████████████████████████████████████▊                                                  | 41/97 [49:39<1:11:48, 76.94s/it, file=CJG_40_2023_11_11.txt, summaries_count=20, time=82.62 seconds]\u001b[A\u001b[A\n",
      "\n",
      "Summarizing files for glm4:9b:  42%|████████████████████████████████████▊                                                  | 41/97 [49:39<1:11:48, 76.94s/it, file=CJG_41_2023_11_18.txt, summaries_count=20, time=79.15 seconds]\u001b[A\u001b[A"
     ]
    },
    {
     "name": "stdout",
     "output_type": "stream",
     "text": [
      "Record already exists: voiceapp\\output\\summaries_folder\\glm4_9b_20241213_192515\\CJG_41_2023_11_18-summary_5.txt -> C:/Users/G/Documents/GitHub/audycje.com.pl/content/audio\\CJG_41_2023_11_18.txt\n",
      "Record already exists: voiceapp\\output\\summaries_folder\\glm4_9b_20241213_192515\\CJG_42_2023_11_25-summary_1.txt -> C:/Users/G/Documents/GitHub/audycje.com.pl/content/audio\\CJG_42_2023_11_25.txt\n",
      "Record already exists: voiceapp\\output\\summaries_folder\\glm4_9b_20241213_192515\\CJG_42_2023_11_25-summary_2.txt -> C:/Users/G/Documents/GitHub/audycje.com.pl/content/audio\\CJG_42_2023_11_25.txt\n",
      "Record already exists: voiceapp\\output\\summaries_folder\\glm4_9b_20241213_192515\\CJG_42_2023_11_25-summary_3.txt -> C:/Users/G/Documents/GitHub/audycje.com.pl/content/audio\\CJG_42_2023_11_25.txt\n",
      "Record already exists: voiceapp\\output\\summaries_folder\\glm4_9b_20241213_192515\\CJG_42_2023_11_25-summary_4.txt -> C:/Users/G/Documents/GitHub/audycje.com.pl/content/audio\\CJG_42_2023_11_25.txt\n",
      "Record already exists: voiceapp\\output\\summaries_folder\\glm4_9b_20241213_192515\\CJG_42_2023_11_25-summary_5.txt -> C:/Users/G/Documents/GitHub/audycje.com.pl/content/audio\\CJG_42_2023_11_25.txt\n",
      "Record already exists: voiceapp\\output\\summaries_folder\\glm4_9b_20241213_192515\\CJG_42_2023_11_25-summary_1.txt -> C:/Users/G/Documents/GitHub/audycje.com.pl/content/audio\\CJG_42_2023_11_25.txt\n",
      "Record already exists: voiceapp\\output\\summaries_folder\\glm4_9b_20241213_192515\\CJG_42_2023_11_25-summary_2.txt -> C:/Users/G/Documents/GitHub/audycje.com.pl/content/audio\\CJG_42_2023_11_25.txt\n",
      "Record already exists: voiceapp\\output\\summaries_folder\\glm4_9b_20241213_192515\\CJG_42_2023_11_25-summary_3.txt -> C:/Users/G/Documents/GitHub/audycje.com.pl/content/audio\\CJG_42_2023_11_25.txt\n",
      "Record already exists: voiceapp\\output\\summaries_folder\\glm4_9b_20241213_192515\\CJG_42_2023_11_25-summary_4.txt -> C:/Users/G/Documents/GitHub/audycje.com.pl/content/audio\\CJG_42_2023_11_25.txt\n",
      "Record already exists: voiceapp\\output\\summaries_folder\\glm4_9b_20241213_192515\\CJG_42_2023_11_25-summary_5.txt -> C:/Users/G/Documents/GitHub/audycje.com.pl/content/audio\\CJG_42_2023_11_25.txt\n",
      "Record already exists: voiceapp\\output\\summaries_folder\\glm4_9b_20241213_192515\\CJG_42_2023_11_25-summary_1.txt -> C:/Users/G/Documents/GitHub/audycje.com.pl/content/audio\\CJG_42_2023_11_25.txt\n",
      "Record already exists: voiceapp\\output\\summaries_folder\\glm4_9b_20241213_192515\\CJG_42_2023_11_25-summary_2.txt -> C:/Users/G/Documents/GitHub/audycje.com.pl/content/audio\\CJG_42_2023_11_25.txt\n",
      "Record already exists: voiceapp\\output\\summaries_folder\\glm4_9b_20241213_192515\\CJG_42_2023_11_25-summary_3.txt -> C:/Users/G/Documents/GitHub/audycje.com.pl/content/audio\\CJG_42_2023_11_25.txt\n",
      "Record already exists: voiceapp\\output\\summaries_folder\\glm4_9b_20241213_192515\\CJG_42_2023_11_25-summary_4.txt -> C:/Users/G/Documents/GitHub/audycje.com.pl/content/audio\\CJG_42_2023_11_25.txt\n"
     ]
    },
    {
     "name": "stderr",
     "output_type": "stream",
     "text": [
      "\n",
      "\n",
      "Summarizing files for glm4:9b:  43%|█████████████████████████████████████▋                                                 | 42/97 [51:04<1:12:36, 79.21s/it, file=CJG_41_2023_11_18.txt, summaries_count=20, time=79.15 seconds]\u001b[A\u001b[A\n",
      "\n",
      "Summarizing files for glm4:9b:  43%|█████████████████████████████████████▋                                                 | 42/97 [51:04<1:12:36, 79.21s/it, file=CJG_42_2023_11_25.txt, summaries_count=20, time=84.51 seconds]\u001b[A\u001b[A"
     ]
    },
    {
     "name": "stdout",
     "output_type": "stream",
     "text": [
      "Record already exists: voiceapp\\output\\summaries_folder\\glm4_9b_20241213_192515\\CJG_42_2023_11_25-summary_5.txt -> C:/Users/G/Documents/GitHub/audycje.com.pl/content/audio\\CJG_42_2023_11_25.txt\n",
      "Record already exists: voiceapp\\output\\summaries_folder\\glm4_9b_20241213_192515\\CJG_43_2023_12_02-summary_1.txt -> C:/Users/G/Documents/GitHub/audycje.com.pl/content/audio\\CJG_43_2023_12_02.txt\n",
      "Record already exists: voiceapp\\output\\summaries_folder\\glm4_9b_20241213_192515\\CJG_43_2023_12_02-summary_2.txt -> C:/Users/G/Documents/GitHub/audycje.com.pl/content/audio\\CJG_43_2023_12_02.txt\n",
      "Record already exists: voiceapp\\output\\summaries_folder\\glm4_9b_20241213_192515\\CJG_43_2023_12_02-summary_3.txt -> C:/Users/G/Documents/GitHub/audycje.com.pl/content/audio\\CJG_43_2023_12_02.txt\n",
      "Record already exists: voiceapp\\output\\summaries_folder\\glm4_9b_20241213_192515\\CJG_43_2023_12_02-summary_4.txt -> C:/Users/G/Documents/GitHub/audycje.com.pl/content/audio\\CJG_43_2023_12_02.txt\n",
      "Record already exists: voiceapp\\output\\summaries_folder\\glm4_9b_20241213_192515\\CJG_43_2023_12_02-summary_5.txt -> C:/Users/G/Documents/GitHub/audycje.com.pl/content/audio\\CJG_43_2023_12_02.txt\n",
      "Record already exists: voiceapp\\output\\summaries_folder\\glm4_9b_20241213_192515\\CJG_43_2023_12_02-summary_1.txt -> C:/Users/G/Documents/GitHub/audycje.com.pl/content/audio\\CJG_43_2023_12_02.txt\n",
      "Record already exists: voiceapp\\output\\summaries_folder\\glm4_9b_20241213_192515\\CJG_43_2023_12_02-summary_2.txt -> C:/Users/G/Documents/GitHub/audycje.com.pl/content/audio\\CJG_43_2023_12_02.txt\n",
      "Record already exists: voiceapp\\output\\summaries_folder\\glm4_9b_20241213_192515\\CJG_43_2023_12_02-summary_3.txt -> C:/Users/G/Documents/GitHub/audycje.com.pl/content/audio\\CJG_43_2023_12_02.txt\n",
      "Record already exists: voiceapp\\output\\summaries_folder\\glm4_9b_20241213_192515\\CJG_43_2023_12_02-summary_4.txt -> C:/Users/G/Documents/GitHub/audycje.com.pl/content/audio\\CJG_43_2023_12_02.txt\n",
      "Record already exists: voiceapp\\output\\summaries_folder\\glm4_9b_20241213_192515\\CJG_43_2023_12_02-summary_5.txt -> C:/Users/G/Documents/GitHub/audycje.com.pl/content/audio\\CJG_43_2023_12_02.txt\n",
      "Record already exists: voiceapp\\output\\summaries_folder\\glm4_9b_20241213_192515\\CJG_43_2023_12_02-summary_1.txt -> C:/Users/G/Documents/GitHub/audycje.com.pl/content/audio\\CJG_43_2023_12_02.txt\n",
      "Record already exists: voiceapp\\output\\summaries_folder\\glm4_9b_20241213_192515\\CJG_43_2023_12_02-summary_2.txt -> C:/Users/G/Documents/GitHub/audycje.com.pl/content/audio\\CJG_43_2023_12_02.txt\n",
      "Record already exists: voiceapp\\output\\summaries_folder\\glm4_9b_20241213_192515\\CJG_43_2023_12_02-summary_3.txt -> C:/Users/G/Documents/GitHub/audycje.com.pl/content/audio\\CJG_43_2023_12_02.txt\n",
      "Record already exists: voiceapp\\output\\summaries_folder\\glm4_9b_20241213_192515\\CJG_43_2023_12_02-summary_4.txt -> C:/Users/G/Documents/GitHub/audycje.com.pl/content/audio\\CJG_43_2023_12_02.txt\n",
      "Record already exists: voiceapp\\output\\summaries_folder\\glm4_9b_20241213_192515\\CJG_43_2023_12_02-summary_5.txt -> C:/Users/G/Documents/GitHub/audycje.com.pl/content/audio\\CJG_43_2023_12_02.txt\n",
      "Record already exists: voiceapp\\output\\summaries_folder\\glm4_9b_20241213_192515\\CJG_43_2023_12_02-summary_1.txt -> C:/Users/G/Documents/GitHub/audycje.com.pl/content/audio\\CJG_43_2023_12_02.txt\n",
      "Record already exists: voiceapp\\output\\summaries_folder\\glm4_9b_20241213_192515\\CJG_43_2023_12_02-summary_2.txt -> C:/Users/G/Documents/GitHub/audycje.com.pl/content/audio\\CJG_43_2023_12_02.txt\n",
      "Record already exists: voiceapp\\output\\summaries_folder\\glm4_9b_20241213_192515\\CJG_43_2023_12_02-summary_3.txt -> C:/Users/G/Documents/GitHub/audycje.com.pl/content/audio\\CJG_43_2023_12_02.txt\n",
      "Record already exists: voiceapp\\output\\summaries_folder\\glm4_9b_20241213_192515\\CJG_43_2023_12_02-summary_4.txt -> C:/Users/G/Documents/GitHub/audycje.com.pl/content/audio\\CJG_43_2023_12_02.txt\n"
     ]
    },
    {
     "name": "stderr",
     "output_type": "stream",
     "text": [
      "\n",
      "\n",
      "Summarizing files for glm4:9b:  44%|██████████████████████████████████████▌                                                | 43/97 [52:49<1:18:12, 86.90s/it, file=CJG_42_2023_11_25.txt, summaries_count=20, time=84.51 seconds]\u001b[A\u001b[A\n",
      "\n",
      "Summarizing files for glm4:9b:  44%|██████████████████████████████████████                                                | 43/97 [52:49<1:18:12, 86.90s/it, file=CJG_43_2023_12_02.txt, summaries_count=25, time=104.86 seconds]\u001b[A\u001b[A"
     ]
    },
    {
     "name": "stdout",
     "output_type": "stream",
     "text": [
      "Record already exists: voiceapp\\output\\summaries_folder\\glm4_9b_20241213_192515\\CJG_43_2023_12_02-summary_5.txt -> C:/Users/G/Documents/GitHub/audycje.com.pl/content/audio\\CJG_43_2023_12_02.txt\n",
      "Record already exists: voiceapp\\output\\summaries_folder\\glm4_9b_20241213_192515\\CJG_44_2023_12_09-summary_1.txt -> C:/Users/G/Documents/GitHub/audycje.com.pl/content/audio\\CJG_44_2023_12_09.txt\n",
      "Record already exists: voiceapp\\output\\summaries_folder\\glm4_9b_20241213_192515\\CJG_44_2023_12_09-summary_2.txt -> C:/Users/G/Documents/GitHub/audycje.com.pl/content/audio\\CJG_44_2023_12_09.txt\n",
      "Record already exists: voiceapp\\output\\summaries_folder\\glm4_9b_20241213_192515\\CJG_44_2023_12_09-summary_3.txt -> C:/Users/G/Documents/GitHub/audycje.com.pl/content/audio\\CJG_44_2023_12_09.txt\n",
      "Record already exists: voiceapp\\output\\summaries_folder\\glm4_9b_20241213_192515\\CJG_44_2023_12_09-summary_4.txt -> C:/Users/G/Documents/GitHub/audycje.com.pl/content/audio\\CJG_44_2023_12_09.txt\n",
      "Record already exists: voiceapp\\output\\summaries_folder\\glm4_9b_20241213_192515\\CJG_44_2023_12_09-summary_5.txt -> C:/Users/G/Documents/GitHub/audycje.com.pl/content/audio\\CJG_44_2023_12_09.txt\n",
      "Record already exists: voiceapp\\output\\summaries_folder\\glm4_9b_20241213_192515\\CJG_44_2023_12_09-summary_1.txt -> C:/Users/G/Documents/GitHub/audycje.com.pl/content/audio\\CJG_44_2023_12_09.txt\n",
      "Record already exists: voiceapp\\output\\summaries_folder\\glm4_9b_20241213_192515\\CJG_44_2023_12_09-summary_2.txt -> C:/Users/G/Documents/GitHub/audycje.com.pl/content/audio\\CJG_44_2023_12_09.txt\n",
      "Record already exists: voiceapp\\output\\summaries_folder\\glm4_9b_20241213_192515\\CJG_44_2023_12_09-summary_3.txt -> C:/Users/G/Documents/GitHub/audycje.com.pl/content/audio\\CJG_44_2023_12_09.txt\n",
      "Record already exists: voiceapp\\output\\summaries_folder\\glm4_9b_20241213_192515\\CJG_44_2023_12_09-summary_4.txt -> C:/Users/G/Documents/GitHub/audycje.com.pl/content/audio\\CJG_44_2023_12_09.txt\n",
      "Record already exists: voiceapp\\output\\summaries_folder\\glm4_9b_20241213_192515\\CJG_44_2023_12_09-summary_5.txt -> C:/Users/G/Documents/GitHub/audycje.com.pl/content/audio\\CJG_44_2023_12_09.txt\n",
      "Record already exists: voiceapp\\output\\summaries_folder\\glm4_9b_20241213_192515\\CJG_44_2023_12_09-summary_1.txt -> C:/Users/G/Documents/GitHub/audycje.com.pl/content/audio\\CJG_44_2023_12_09.txt\n",
      "Record already exists: voiceapp\\output\\summaries_folder\\glm4_9b_20241213_192515\\CJG_44_2023_12_09-summary_2.txt -> C:/Users/G/Documents/GitHub/audycje.com.pl/content/audio\\CJG_44_2023_12_09.txt\n",
      "Record already exists: voiceapp\\output\\summaries_folder\\glm4_9b_20241213_192515\\CJG_44_2023_12_09-summary_3.txt -> C:/Users/G/Documents/GitHub/audycje.com.pl/content/audio\\CJG_44_2023_12_09.txt\n",
      "Record already exists: voiceapp\\output\\summaries_folder\\glm4_9b_20241213_192515\\CJG_44_2023_12_09-summary_4.txt -> C:/Users/G/Documents/GitHub/audycje.com.pl/content/audio\\CJG_44_2023_12_09.txt\n"
     ]
    },
    {
     "name": "stderr",
     "output_type": "stream",
     "text": [
      "\n",
      "\n",
      "Summarizing files for glm4:9b:  45%|███████████████████████████████████████                                               | 44/97 [54:10<1:15:23, 85.34s/it, file=CJG_43_2023_12_02.txt, summaries_count=25, time=104.86 seconds]\u001b[A\u001b[A\n",
      "\n",
      "Summarizing files for glm4:9b:  45%|███████████████████████████████████████▍                                               | 44/97 [54:10<1:15:23, 85.34s/it, file=CJG_44_2023_12_09.txt, summaries_count=20, time=81.70 seconds]\u001b[A\u001b[A"
     ]
    },
    {
     "name": "stdout",
     "output_type": "stream",
     "text": [
      "Record already exists: voiceapp\\output\\summaries_folder\\glm4_9b_20241213_192515\\CJG_44_2023_12_09-summary_5.txt -> C:/Users/G/Documents/GitHub/audycje.com.pl/content/audio\\CJG_44_2023_12_09.txt\n",
      "Record already exists: voiceapp\\output\\summaries_folder\\glm4_9b_20241213_192515\\CJG_45_2023_12_16-summary_1.txt -> C:/Users/G/Documents/GitHub/audycje.com.pl/content/audio\\CJG_45_2023_12_16.txt\n",
      "Record already exists: voiceapp\\output\\summaries_folder\\glm4_9b_20241213_192515\\CJG_45_2023_12_16-summary_2.txt -> C:/Users/G/Documents/GitHub/audycje.com.pl/content/audio\\CJG_45_2023_12_16.txt\n",
      "Record already exists: voiceapp\\output\\summaries_folder\\glm4_9b_20241213_192515\\CJG_45_2023_12_16-summary_3.txt -> C:/Users/G/Documents/GitHub/audycje.com.pl/content/audio\\CJG_45_2023_12_16.txt\n",
      "Record already exists: voiceapp\\output\\summaries_folder\\glm4_9b_20241213_192515\\CJG_45_2023_12_16-summary_4.txt -> C:/Users/G/Documents/GitHub/audycje.com.pl/content/audio\\CJG_45_2023_12_16.txt\n",
      "Record already exists: voiceapp\\output\\summaries_folder\\glm4_9b_20241213_192515\\CJG_45_2023_12_16-summary_5.txt -> C:/Users/G/Documents/GitHub/audycje.com.pl/content/audio\\CJG_45_2023_12_16.txt\n",
      "Record already exists: voiceapp\\output\\summaries_folder\\glm4_9b_20241213_192515\\CJG_45_2023_12_16-summary_1.txt -> C:/Users/G/Documents/GitHub/audycje.com.pl/content/audio\\CJG_45_2023_12_16.txt\n",
      "Record already exists: voiceapp\\output\\summaries_folder\\glm4_9b_20241213_192515\\CJG_45_2023_12_16-summary_2.txt -> C:/Users/G/Documents/GitHub/audycje.com.pl/content/audio\\CJG_45_2023_12_16.txt\n",
      "Record already exists: voiceapp\\output\\summaries_folder\\glm4_9b_20241213_192515\\CJG_45_2023_12_16-summary_3.txt -> C:/Users/G/Documents/GitHub/audycje.com.pl/content/audio\\CJG_45_2023_12_16.txt\n",
      "Record already exists: voiceapp\\output\\summaries_folder\\glm4_9b_20241213_192515\\CJG_45_2023_12_16-summary_4.txt -> C:/Users/G/Documents/GitHub/audycje.com.pl/content/audio\\CJG_45_2023_12_16.txt\n",
      "Record already exists: voiceapp\\output\\summaries_folder\\glm4_9b_20241213_192515\\CJG_45_2023_12_16-summary_5.txt -> C:/Users/G/Documents/GitHub/audycje.com.pl/content/audio\\CJG_45_2023_12_16.txt\n",
      "Record already exists: voiceapp\\output\\summaries_folder\\glm4_9b_20241213_192515\\CJG_45_2023_12_16-summary_1.txt -> C:/Users/G/Documents/GitHub/audycje.com.pl/content/audio\\CJG_45_2023_12_16.txt\n",
      "Record already exists: voiceapp\\output\\summaries_folder\\glm4_9b_20241213_192515\\CJG_45_2023_12_16-summary_2.txt -> C:/Users/G/Documents/GitHub/audycje.com.pl/content/audio\\CJG_45_2023_12_16.txt\n",
      "Record already exists: voiceapp\\output\\summaries_folder\\glm4_9b_20241213_192515\\CJG_45_2023_12_16-summary_3.txt -> C:/Users/G/Documents/GitHub/audycje.com.pl/content/audio\\CJG_45_2023_12_16.txt\n",
      "Record already exists: voiceapp\\output\\summaries_folder\\glm4_9b_20241213_192515\\CJG_45_2023_12_16-summary_4.txt -> C:/Users/G/Documents/GitHub/audycje.com.pl/content/audio\\CJG_45_2023_12_16.txt\n"
     ]
    },
    {
     "name": "stderr",
     "output_type": "stream",
     "text": [
      "\n",
      "\n",
      "Summarizing files for glm4:9b:  46%|████████████████████████████████████████▎                                              | 45/97 [55:38<1:14:35, 86.06s/it, file=CJG_44_2023_12_09.txt, summaries_count=20, time=81.70 seconds]\u001b[A\u001b[A\n",
      "\n",
      "Summarizing files for glm4:9b:  46%|████████████████████████████████████████▎                                              | 45/97 [55:38<1:14:35, 86.06s/it, file=CJG_45_2023_12_16.txt, summaries_count=20, time=87.74 seconds]\u001b[A\u001b[A"
     ]
    },
    {
     "name": "stdout",
     "output_type": "stream",
     "text": [
      "Record already exists: voiceapp\\output\\summaries_folder\\glm4_9b_20241213_192515\\CJG_45_2023_12_16-summary_5.txt -> C:/Users/G/Documents/GitHub/audycje.com.pl/content/audio\\CJG_45_2023_12_16.txt\n",
      "Record already exists: voiceapp\\output\\summaries_folder\\glm4_9b_20241213_192515\\CJG_46_2023_12_23-summary_1.txt -> C:/Users/G/Documents/GitHub/audycje.com.pl/content/audio\\CJG_46_2023_12_23.txt\n",
      "Record already exists: voiceapp\\output\\summaries_folder\\glm4_9b_20241213_192515\\CJG_46_2023_12_23-summary_2.txt -> C:/Users/G/Documents/GitHub/audycje.com.pl/content/audio\\CJG_46_2023_12_23.txt\n",
      "Record already exists: voiceapp\\output\\summaries_folder\\glm4_9b_20241213_192515\\CJG_46_2023_12_23-summary_3.txt -> C:/Users/G/Documents/GitHub/audycje.com.pl/content/audio\\CJG_46_2023_12_23.txt\n",
      "Record already exists: voiceapp\\output\\summaries_folder\\glm4_9b_20241213_192515\\CJG_46_2023_12_23-summary_4.txt -> C:/Users/G/Documents/GitHub/audycje.com.pl/content/audio\\CJG_46_2023_12_23.txt\n",
      "Record already exists: voiceapp\\output\\summaries_folder\\glm4_9b_20241213_192515\\CJG_46_2023_12_23-summary_5.txt -> C:/Users/G/Documents/GitHub/audycje.com.pl/content/audio\\CJG_46_2023_12_23.txt\n",
      "Record already exists: voiceapp\\output\\summaries_folder\\glm4_9b_20241213_192515\\CJG_46_2023_12_23-summary_1.txt -> C:/Users/G/Documents/GitHub/audycje.com.pl/content/audio\\CJG_46_2023_12_23.txt\n",
      "Record already exists: voiceapp\\output\\summaries_folder\\glm4_9b_20241213_192515\\CJG_46_2023_12_23-summary_2.txt -> C:/Users/G/Documents/GitHub/audycje.com.pl/content/audio\\CJG_46_2023_12_23.txt\n",
      "Record already exists: voiceapp\\output\\summaries_folder\\glm4_9b_20241213_192515\\CJG_46_2023_12_23-summary_3.txt -> C:/Users/G/Documents/GitHub/audycje.com.pl/content/audio\\CJG_46_2023_12_23.txt\n",
      "Record already exists: voiceapp\\output\\summaries_folder\\glm4_9b_20241213_192515\\CJG_46_2023_12_23-summary_4.txt -> C:/Users/G/Documents/GitHub/audycje.com.pl/content/audio\\CJG_46_2023_12_23.txt\n",
      "Record already exists: voiceapp\\output\\summaries_folder\\glm4_9b_20241213_192515\\CJG_46_2023_12_23-summary_5.txt -> C:/Users/G/Documents/GitHub/audycje.com.pl/content/audio\\CJG_46_2023_12_23.txt\n",
      "Record already exists: voiceapp\\output\\summaries_folder\\glm4_9b_20241213_192515\\CJG_46_2023_12_23-summary_1.txt -> C:/Users/G/Documents/GitHub/audycje.com.pl/content/audio\\CJG_46_2023_12_23.txt\n",
      "Record already exists: voiceapp\\output\\summaries_folder\\glm4_9b_20241213_192515\\CJG_46_2023_12_23-summary_2.txt -> C:/Users/G/Documents/GitHub/audycje.com.pl/content/audio\\CJG_46_2023_12_23.txt\n",
      "Record already exists: voiceapp\\output\\summaries_folder\\glm4_9b_20241213_192515\\CJG_46_2023_12_23-summary_3.txt -> C:/Users/G/Documents/GitHub/audycje.com.pl/content/audio\\CJG_46_2023_12_23.txt\n",
      "Record already exists: voiceapp\\output\\summaries_folder\\glm4_9b_20241213_192515\\CJG_46_2023_12_23-summary_4.txt -> C:/Users/G/Documents/GitHub/audycje.com.pl/content/audio\\CJG_46_2023_12_23.txt\n"
     ]
    },
    {
     "name": "stderr",
     "output_type": "stream",
     "text": [
      "\n",
      "\n",
      "Summarizing files for glm4:9b:  47%|█████████████████████████████████████████▎                                             | 46/97 [56:53<1:10:14, 82.63s/it, file=CJG_45_2023_12_16.txt, summaries_count=20, time=87.74 seconds]\u001b[A\u001b[A\n",
      "\n",
      "Summarizing files for glm4:9b:  47%|█████████████████████████████████████████▎                                             | 46/97 [56:53<1:10:14, 82.63s/it, file=CJG_46_2023_12_23.txt, summaries_count=20, time=74.63 seconds]\u001b[A\u001b[A"
     ]
    },
    {
     "name": "stdout",
     "output_type": "stream",
     "text": [
      "Record already exists: voiceapp\\output\\summaries_folder\\glm4_9b_20241213_192515\\CJG_46_2023_12_23-summary_5.txt -> C:/Users/G/Documents/GitHub/audycje.com.pl/content/audio\\CJG_46_2023_12_23.txt\n",
      "Record already exists: voiceapp\\output\\summaries_folder\\glm4_9b_20241213_192515\\CJG_47_2023_12_30-summary_1.txt -> C:/Users/G/Documents/GitHub/audycje.com.pl/content/audio\\CJG_47_2023_12_30.txt\n",
      "Record already exists: voiceapp\\output\\summaries_folder\\glm4_9b_20241213_192515\\CJG_47_2023_12_30-summary_2.txt -> C:/Users/G/Documents/GitHub/audycje.com.pl/content/audio\\CJG_47_2023_12_30.txt\n",
      "Record already exists: voiceapp\\output\\summaries_folder\\glm4_9b_20241213_192515\\CJG_47_2023_12_30-summary_3.txt -> C:/Users/G/Documents/GitHub/audycje.com.pl/content/audio\\CJG_47_2023_12_30.txt\n",
      "Record already exists: voiceapp\\output\\summaries_folder\\glm4_9b_20241213_192515\\CJG_47_2023_12_30-summary_4.txt -> C:/Users/G/Documents/GitHub/audycje.com.pl/content/audio\\CJG_47_2023_12_30.txt\n",
      "Record already exists: voiceapp\\output\\summaries_folder\\glm4_9b_20241213_192515\\CJG_47_2023_12_30-summary_5.txt -> C:/Users/G/Documents/GitHub/audycje.com.pl/content/audio\\CJG_47_2023_12_30.txt\n",
      "Record already exists: voiceapp\\output\\summaries_folder\\glm4_9b_20241213_192515\\CJG_47_2023_12_30-summary_1.txt -> C:/Users/G/Documents/GitHub/audycje.com.pl/content/audio\\CJG_47_2023_12_30.txt\n",
      "Record already exists: voiceapp\\output\\summaries_folder\\glm4_9b_20241213_192515\\CJG_47_2023_12_30-summary_2.txt -> C:/Users/G/Documents/GitHub/audycje.com.pl/content/audio\\CJG_47_2023_12_30.txt\n",
      "Record already exists: voiceapp\\output\\summaries_folder\\glm4_9b_20241213_192515\\CJG_47_2023_12_30-summary_3.txt -> C:/Users/G/Documents/GitHub/audycje.com.pl/content/audio\\CJG_47_2023_12_30.txt\n",
      "Record already exists: voiceapp\\output\\summaries_folder\\glm4_9b_20241213_192515\\CJG_47_2023_12_30-summary_4.txt -> C:/Users/G/Documents/GitHub/audycje.com.pl/content/audio\\CJG_47_2023_12_30.txt\n",
      "Record already exists: voiceapp\\output\\summaries_folder\\glm4_9b_20241213_192515\\CJG_47_2023_12_30-summary_5.txt -> C:/Users/G/Documents/GitHub/audycje.com.pl/content/audio\\CJG_47_2023_12_30.txt\n",
      "Record already exists: voiceapp\\output\\summaries_folder\\glm4_9b_20241213_192515\\CJG_47_2023_12_30-summary_1.txt -> C:/Users/G/Documents/GitHub/audycje.com.pl/content/audio\\CJG_47_2023_12_30.txt\n",
      "Record already exists: voiceapp\\output\\summaries_folder\\glm4_9b_20241213_192515\\CJG_47_2023_12_30-summary_2.txt -> C:/Users/G/Documents/GitHub/audycje.com.pl/content/audio\\CJG_47_2023_12_30.txt\n",
      "Record already exists: voiceapp\\output\\summaries_folder\\glm4_9b_20241213_192515\\CJG_47_2023_12_30-summary_3.txt -> C:/Users/G/Documents/GitHub/audycje.com.pl/content/audio\\CJG_47_2023_12_30.txt\n",
      "Record already exists: voiceapp\\output\\summaries_folder\\glm4_9b_20241213_192515\\CJG_47_2023_12_30-summary_4.txt -> C:/Users/G/Documents/GitHub/audycje.com.pl/content/audio\\CJG_47_2023_12_30.txt\n"
     ]
    },
    {
     "name": "stderr",
     "output_type": "stream",
     "text": [
      "\n",
      "\n",
      "Summarizing files for glm4:9b:  48%|██████████████████████████████████████████▏                                            | 47/97 [58:15<1:08:48, 82.57s/it, file=CJG_46_2023_12_23.txt, summaries_count=20, time=74.63 seconds]\u001b[A\u001b[A\n",
      "\n",
      "Summarizing files for glm4:9b:  48%|██████████████████████████████████████████▏                                            | 47/97 [58:15<1:08:48, 82.57s/it, file=CJG_47_2023_12_30.txt, summaries_count=20, time=82.43 seconds]\u001b[A\u001b[A"
     ]
    },
    {
     "name": "stdout",
     "output_type": "stream",
     "text": [
      "Record already exists: voiceapp\\output\\summaries_folder\\glm4_9b_20241213_192515\\CJG_47_2023_12_30-summary_5.txt -> C:/Users/G/Documents/GitHub/audycje.com.pl/content/audio\\CJG_47_2023_12_30.txt\n",
      "Record already exists: voiceapp\\output\\summaries_folder\\glm4_9b_20241213_192515\\CJG_48_2024_01_06-summary_1.txt -> C:/Users/G/Documents/GitHub/audycje.com.pl/content/audio\\CJG_48_2024_01_06.txt\n",
      "Record already exists: voiceapp\\output\\summaries_folder\\glm4_9b_20241213_192515\\CJG_48_2024_01_06-summary_2.txt -> C:/Users/G/Documents/GitHub/audycje.com.pl/content/audio\\CJG_48_2024_01_06.txt\n",
      "Record already exists: voiceapp\\output\\summaries_folder\\glm4_9b_20241213_192515\\CJG_48_2024_01_06-summary_3.txt -> C:/Users/G/Documents/GitHub/audycje.com.pl/content/audio\\CJG_48_2024_01_06.txt\n",
      "Record already exists: voiceapp\\output\\summaries_folder\\glm4_9b_20241213_192515\\CJG_48_2024_01_06-summary_4.txt -> C:/Users/G/Documents/GitHub/audycje.com.pl/content/audio\\CJG_48_2024_01_06.txt\n",
      "Record already exists: voiceapp\\output\\summaries_folder\\glm4_9b_20241213_192515\\CJG_48_2024_01_06-summary_5.txt -> C:/Users/G/Documents/GitHub/audycje.com.pl/content/audio\\CJG_48_2024_01_06.txt\n",
      "Record already exists: voiceapp\\output\\summaries_folder\\glm4_9b_20241213_192515\\CJG_48_2024_01_06-summary_1.txt -> C:/Users/G/Documents/GitHub/audycje.com.pl/content/audio\\CJG_48_2024_01_06.txt\n",
      "Record already exists: voiceapp\\output\\summaries_folder\\glm4_9b_20241213_192515\\CJG_48_2024_01_06-summary_2.txt -> C:/Users/G/Documents/GitHub/audycje.com.pl/content/audio\\CJG_48_2024_01_06.txt\n",
      "Record already exists: voiceapp\\output\\summaries_folder\\glm4_9b_20241213_192515\\CJG_48_2024_01_06-summary_3.txt -> C:/Users/G/Documents/GitHub/audycje.com.pl/content/audio\\CJG_48_2024_01_06.txt\n",
      "Record already exists: voiceapp\\output\\summaries_folder\\glm4_9b_20241213_192515\\CJG_48_2024_01_06-summary_4.txt -> C:/Users/G/Documents/GitHub/audycje.com.pl/content/audio\\CJG_48_2024_01_06.txt\n",
      "Record already exists: voiceapp\\output\\summaries_folder\\glm4_9b_20241213_192515\\CJG_48_2024_01_06-summary_5.txt -> C:/Users/G/Documents/GitHub/audycje.com.pl/content/audio\\CJG_48_2024_01_06.txt\n",
      "Record already exists: voiceapp\\output\\summaries_folder\\glm4_9b_20241213_192515\\CJG_48_2024_01_06-summary_1.txt -> C:/Users/G/Documents/GitHub/audycje.com.pl/content/audio\\CJG_48_2024_01_06.txt\n",
      "Record already exists: voiceapp\\output\\summaries_folder\\glm4_9b_20241213_192515\\CJG_48_2024_01_06-summary_2.txt -> C:/Users/G/Documents/GitHub/audycje.com.pl/content/audio\\CJG_48_2024_01_06.txt\n",
      "Record already exists: voiceapp\\output\\summaries_folder\\glm4_9b_20241213_192515\\CJG_48_2024_01_06-summary_3.txt -> C:/Users/G/Documents/GitHub/audycje.com.pl/content/audio\\CJG_48_2024_01_06.txt\n",
      "Record already exists: voiceapp\\output\\summaries_folder\\glm4_9b_20241213_192515\\CJG_48_2024_01_06-summary_4.txt -> C:/Users/G/Documents/GitHub/audycje.com.pl/content/audio\\CJG_48_2024_01_06.txt\n"
     ]
    },
    {
     "name": "stderr",
     "output_type": "stream",
     "text": [
      "\n",
      "\n",
      "Summarizing files for glm4:9b:  49%|███████████████████████████████████████████                                            | 48/97 [59:35<1:06:53, 81.90s/it, file=CJG_47_2023_12_30.txt, summaries_count=20, time=82.43 seconds]\u001b[A\u001b[A\n",
      "\n",
      "Summarizing files for glm4:9b:  49%|███████████████████████████████████████████                                            | 48/97 [59:35<1:06:53, 81.90s/it, file=CJG_48_2024_01_06.txt, summaries_count=20, time=80.34 seconds]\u001b[A\u001b[A"
     ]
    },
    {
     "name": "stdout",
     "output_type": "stream",
     "text": [
      "Record already exists: voiceapp\\output\\summaries_folder\\glm4_9b_20241213_192515\\CJG_48_2024_01_06-summary_5.txt -> C:/Users/G/Documents/GitHub/audycje.com.pl/content/audio\\CJG_48_2024_01_06.txt\n",
      "Record already exists: voiceapp\\output\\summaries_folder\\glm4_9b_20241213_192515\\CJG_49_2024_01_13-summary_1.txt -> C:/Users/G/Documents/GitHub/audycje.com.pl/content/audio\\CJG_49_2024_01_13.txt\n",
      "Record already exists: voiceapp\\output\\summaries_folder\\glm4_9b_20241213_192515\\CJG_49_2024_01_13-summary_2.txt -> C:/Users/G/Documents/GitHub/audycje.com.pl/content/audio\\CJG_49_2024_01_13.txt\n",
      "Record already exists: voiceapp\\output\\summaries_folder\\glm4_9b_20241213_192515\\CJG_49_2024_01_13-summary_3.txt -> C:/Users/G/Documents/GitHub/audycje.com.pl/content/audio\\CJG_49_2024_01_13.txt\n",
      "Record already exists: voiceapp\\output\\summaries_folder\\glm4_9b_20241213_192515\\CJG_49_2024_01_13-summary_4.txt -> C:/Users/G/Documents/GitHub/audycje.com.pl/content/audio\\CJG_49_2024_01_13.txt\n",
      "Record already exists: voiceapp\\output\\summaries_folder\\glm4_9b_20241213_192515\\CJG_49_2024_01_13-summary_5.txt -> C:/Users/G/Documents/GitHub/audycje.com.pl/content/audio\\CJG_49_2024_01_13.txt\n",
      "Record already exists: voiceapp\\output\\summaries_folder\\glm4_9b_20241213_192515\\CJG_49_2024_01_13-summary_1.txt -> C:/Users/G/Documents/GitHub/audycje.com.pl/content/audio\\CJG_49_2024_01_13.txt\n",
      "Record already exists: voiceapp\\output\\summaries_folder\\glm4_9b_20241213_192515\\CJG_49_2024_01_13-summary_2.txt -> C:/Users/G/Documents/GitHub/audycje.com.pl/content/audio\\CJG_49_2024_01_13.txt\n",
      "Record already exists: voiceapp\\output\\summaries_folder\\glm4_9b_20241213_192515\\CJG_49_2024_01_13-summary_3.txt -> C:/Users/G/Documents/GitHub/audycje.com.pl/content/audio\\CJG_49_2024_01_13.txt\n",
      "Record already exists: voiceapp\\output\\summaries_folder\\glm4_9b_20241213_192515\\CJG_49_2024_01_13-summary_4.txt -> C:/Users/G/Documents/GitHub/audycje.com.pl/content/audio\\CJG_49_2024_01_13.txt\n"
     ]
    },
    {
     "name": "stderr",
     "output_type": "stream",
     "text": [
      "\n",
      "\n",
      "Summarizing files for glm4:9b:  51%|██████████████████████████████████████████▉                                          | 49/97 [1:00:36<1:00:24, 75.51s/it, file=CJG_48_2024_01_06.txt, summaries_count=20, time=80.34 seconds]\u001b[A\u001b[A\n",
      "\n",
      "Summarizing files for glm4:9b:  51%|██████████████████████████████████████████▉                                          | 49/97 [1:00:36<1:00:24, 75.51s/it, file=CJG_49_2024_01_13.txt, summaries_count=15, time=60.60 seconds]\u001b[A\u001b[A"
     ]
    },
    {
     "name": "stdout",
     "output_type": "stream",
     "text": [
      "Record already exists: voiceapp\\output\\summaries_folder\\glm4_9b_20241213_192515\\CJG_49_2024_01_13-summary_5.txt -> C:/Users/G/Documents/GitHub/audycje.com.pl/content/audio\\CJG_49_2024_01_13.txt\n",
      "Record already exists: voiceapp\\output\\summaries_folder\\glm4_9b_20241213_192515\\CJG_50_2024_01_20-summary_1.txt -> C:/Users/G/Documents/GitHub/audycje.com.pl/content/audio\\CJG_50_2024_01_20.txt\n",
      "Record already exists: voiceapp\\output\\summaries_folder\\glm4_9b_20241213_192515\\CJG_50_2024_01_20-summary_2.txt -> C:/Users/G/Documents/GitHub/audycje.com.pl/content/audio\\CJG_50_2024_01_20.txt\n",
      "Record already exists: voiceapp\\output\\summaries_folder\\glm4_9b_20241213_192515\\CJG_50_2024_01_20-summary_3.txt -> C:/Users/G/Documents/GitHub/audycje.com.pl/content/audio\\CJG_50_2024_01_20.txt\n",
      "Record already exists: voiceapp\\output\\summaries_folder\\glm4_9b_20241213_192515\\CJG_50_2024_01_20-summary_4.txt -> C:/Users/G/Documents/GitHub/audycje.com.pl/content/audio\\CJG_50_2024_01_20.txt\n",
      "Record already exists: voiceapp\\output\\summaries_folder\\glm4_9b_20241213_192515\\CJG_50_2024_01_20-summary_5.txt -> C:/Users/G/Documents/GitHub/audycje.com.pl/content/audio\\CJG_50_2024_01_20.txt\n",
      "Record already exists: voiceapp\\output\\summaries_folder\\glm4_9b_20241213_192515\\CJG_50_2024_01_20-summary_1.txt -> C:/Users/G/Documents/GitHub/audycje.com.pl/content/audio\\CJG_50_2024_01_20.txt\n",
      "Record already exists: voiceapp\\output\\summaries_folder\\glm4_9b_20241213_192515\\CJG_50_2024_01_20-summary_2.txt -> C:/Users/G/Documents/GitHub/audycje.com.pl/content/audio\\CJG_50_2024_01_20.txt\n",
      "Record already exists: voiceapp\\output\\summaries_folder\\glm4_9b_20241213_192515\\CJG_50_2024_01_20-summary_3.txt -> C:/Users/G/Documents/GitHub/audycje.com.pl/content/audio\\CJG_50_2024_01_20.txt\n",
      "Record already exists: voiceapp\\output\\summaries_folder\\glm4_9b_20241213_192515\\CJG_50_2024_01_20-summary_4.txt -> C:/Users/G/Documents/GitHub/audycje.com.pl/content/audio\\CJG_50_2024_01_20.txt\n",
      "Record already exists: voiceapp\\output\\summaries_folder\\glm4_9b_20241213_192515\\CJG_50_2024_01_20-summary_5.txt -> C:/Users/G/Documents/GitHub/audycje.com.pl/content/audio\\CJG_50_2024_01_20.txt\n",
      "Record already exists: voiceapp\\output\\summaries_folder\\glm4_9b_20241213_192515\\CJG_50_2024_01_20-summary_1.txt -> C:/Users/G/Documents/GitHub/audycje.com.pl/content/audio\\CJG_50_2024_01_20.txt\n",
      "Record already exists: voiceapp\\output\\summaries_folder\\glm4_9b_20241213_192515\\CJG_50_2024_01_20-summary_2.txt -> C:/Users/G/Documents/GitHub/audycje.com.pl/content/audio\\CJG_50_2024_01_20.txt\n",
      "Record already exists: voiceapp\\output\\summaries_folder\\glm4_9b_20241213_192515\\CJG_50_2024_01_20-summary_3.txt -> C:/Users/G/Documents/GitHub/audycje.com.pl/content/audio\\CJG_50_2024_01_20.txt\n",
      "Record already exists: voiceapp\\output\\summaries_folder\\glm4_9b_20241213_192515\\CJG_50_2024_01_20-summary_4.txt -> C:/Users/G/Documents/GitHub/audycje.com.pl/content/audio\\CJG_50_2024_01_20.txt\n"
     ]
    },
    {
     "name": "stderr",
     "output_type": "stream",
     "text": [
      "\n",
      "\n",
      "Summarizing files for glm4:9b:  52%|███████████████████████████████████████████▊                                         | 50/97 [1:01:58<1:00:36, 77.37s/it, file=CJG_49_2024_01_13.txt, summaries_count=15, time=60.60 seconds]\u001b[A\u001b[A\n",
      "\n",
      "Summarizing files for glm4:9b:  52%|███████████████████████████████████████████▊                                         | 50/97 [1:01:58<1:00:36, 77.37s/it, file=CJG_50_2024_01_20.txt, summaries_count=20, time=81.71 seconds]\u001b[A\u001b[A"
     ]
    },
    {
     "name": "stdout",
     "output_type": "stream",
     "text": [
      "Record already exists: voiceapp\\output\\summaries_folder\\glm4_9b_20241213_192515\\CJG_50_2024_01_20-summary_5.txt -> C:/Users/G/Documents/GitHub/audycje.com.pl/content/audio\\CJG_50_2024_01_20.txt\n",
      "Record already exists: voiceapp\\output\\summaries_folder\\glm4_9b_20241213_192515\\CJG_51_2024_01_27-summary_1.txt -> C:/Users/G/Documents/GitHub/audycje.com.pl/content/audio\\CJG_51_2024_01_27.txt\n",
      "Record already exists: voiceapp\\output\\summaries_folder\\glm4_9b_20241213_192515\\CJG_51_2024_01_27-summary_2.txt -> C:/Users/G/Documents/GitHub/audycje.com.pl/content/audio\\CJG_51_2024_01_27.txt\n",
      "Record already exists: voiceapp\\output\\summaries_folder\\glm4_9b_20241213_192515\\CJG_51_2024_01_27-summary_3.txt -> C:/Users/G/Documents/GitHub/audycje.com.pl/content/audio\\CJG_51_2024_01_27.txt\n",
      "Record already exists: voiceapp\\output\\summaries_folder\\glm4_9b_20241213_192515\\CJG_51_2024_01_27-summary_4.txt -> C:/Users/G/Documents/GitHub/audycje.com.pl/content/audio\\CJG_51_2024_01_27.txt\n",
      "Record already exists: voiceapp\\output\\summaries_folder\\glm4_9b_20241213_192515\\CJG_51_2024_01_27-summary_5.txt -> C:/Users/G/Documents/GitHub/audycje.com.pl/content/audio\\CJG_51_2024_01_27.txt\n",
      "Record already exists: voiceapp\\output\\summaries_folder\\glm4_9b_20241213_192515\\CJG_51_2024_01_27-summary_1.txt -> C:/Users/G/Documents/GitHub/audycje.com.pl/content/audio\\CJG_51_2024_01_27.txt\n",
      "Record already exists: voiceapp\\output\\summaries_folder\\glm4_9b_20241213_192515\\CJG_51_2024_01_27-summary_2.txt -> C:/Users/G/Documents/GitHub/audycje.com.pl/content/audio\\CJG_51_2024_01_27.txt\n",
      "Record already exists: voiceapp\\output\\summaries_folder\\glm4_9b_20241213_192515\\CJG_51_2024_01_27-summary_3.txt -> C:/Users/G/Documents/GitHub/audycje.com.pl/content/audio\\CJG_51_2024_01_27.txt\n",
      "Record already exists: voiceapp\\output\\summaries_folder\\glm4_9b_20241213_192515\\CJG_51_2024_01_27-summary_4.txt -> C:/Users/G/Documents/GitHub/audycje.com.pl/content/audio\\CJG_51_2024_01_27.txt\n",
      "Record already exists: voiceapp\\output\\summaries_folder\\glm4_9b_20241213_192515\\CJG_51_2024_01_27-summary_5.txt -> C:/Users/G/Documents/GitHub/audycje.com.pl/content/audio\\CJG_51_2024_01_27.txt\n",
      "Record already exists: voiceapp\\output\\summaries_folder\\glm4_9b_20241213_192515\\CJG_51_2024_01_27-summary_1.txt -> C:/Users/G/Documents/GitHub/audycje.com.pl/content/audio\\CJG_51_2024_01_27.txt\n",
      "Record already exists: voiceapp\\output\\summaries_folder\\glm4_9b_20241213_192515\\CJG_51_2024_01_27-summary_2.txt -> C:/Users/G/Documents/GitHub/audycje.com.pl/content/audio\\CJG_51_2024_01_27.txt\n",
      "Record already exists: voiceapp\\output\\summaries_folder\\glm4_9b_20241213_192515\\CJG_51_2024_01_27-summary_3.txt -> C:/Users/G/Documents/GitHub/audycje.com.pl/content/audio\\CJG_51_2024_01_27.txt\n",
      "Record already exists: voiceapp\\output\\summaries_folder\\glm4_9b_20241213_192515\\CJG_51_2024_01_27-summary_4.txt -> C:/Users/G/Documents/GitHub/audycje.com.pl/content/audio\\CJG_51_2024_01_27.txt\n"
     ]
    },
    {
     "name": "stderr",
     "output_type": "stream",
     "text": [
      "\n",
      "\n",
      "Summarizing files for glm4:9b:  53%|████████████████████████████████████████████▋                                        | 51/97 [1:03:21<1:00:34, 79.02s/it, file=CJG_50_2024_01_20.txt, summaries_count=20, time=81.71 seconds]\u001b[A\u001b[A\n",
      "\n",
      "Summarizing files for glm4:9b:  53%|████████████████████████████████████████████▋                                        | 51/97 [1:03:21<1:00:34, 79.02s/it, file=CJG_51_2024_01_27.txt, summaries_count=20, time=82.86 seconds]\u001b[A\u001b[A"
     ]
    },
    {
     "name": "stdout",
     "output_type": "stream",
     "text": [
      "Record already exists: voiceapp\\output\\summaries_folder\\glm4_9b_20241213_192515\\CJG_51_2024_01_27-summary_5.txt -> C:/Users/G/Documents/GitHub/audycje.com.pl/content/audio\\CJG_51_2024_01_27.txt\n"
     ]
    },
    {
     "name": "stderr",
     "output_type": "stream",
     "text": [
      "\n",
      "\n",
      "Summarizing files for glm4:9b:  54%|██████████████████████████████████████████████▋                                        | 52/97 [1:03:41<46:10, 61.56s/it, file=CJG_51_2024_01_27.txt, summaries_count=20, time=82.86 seconds]\u001b[A\u001b[A\n",
      "\n",
      "Summarizing files for glm4:9b:  54%|██████████████████████████████████████████████████▉                                            | 52/97 [1:03:41<46:10, 61.56s/it, file=CJG - AI 1.txt, summaries_count=5, time=20.83 seconds]\u001b[A\u001b[A"
     ]
    },
    {
     "name": "stdout",
     "output_type": "stream",
     "text": [
      "Record already exists: voiceapp\\output\\summaries_folder\\glm4_9b_20241213_192515\\CJG - ambergold 1-summary_1.txt -> C:/Users/G/Documents/GitHub/audycje.com.pl/content/audio\\shorts\\CJG - ambergold 1.txt\n",
      "Record already exists: voiceapp\\output\\summaries_folder\\glm4_9b_20241213_192515\\CJG - ambergold 1-summary_2.txt -> C:/Users/G/Documents/GitHub/audycje.com.pl/content/audio\\shorts\\CJG - ambergold 1.txt\n",
      "Record already exists: voiceapp\\output\\summaries_folder\\glm4_9b_20241213_192515\\CJG - ambergold 1-summary_3.txt -> C:/Users/G/Documents/GitHub/audycje.com.pl/content/audio\\shorts\\CJG - ambergold 1.txt\n",
      "Record already exists: voiceapp\\output\\summaries_folder\\glm4_9b_20241213_192515\\CJG - ambergold 1-summary_4.txt -> C:/Users/G/Documents/GitHub/audycje.com.pl/content/audio\\shorts\\CJG - ambergold 1.txt\n"
     ]
    },
    {
     "name": "stderr",
     "output_type": "stream",
     "text": [
      "\n",
      "\n",
      "Summarizing files for glm4:9b:  55%|███████████████████████████████████████████████████▉                                           | 53/97 [1:04:19<39:48, 54.29s/it, file=CJG - AI 1.txt, summaries_count=5, time=20.83 seconds]\u001b[A\u001b[A\n",
      "\n",
      "Summarizing files for glm4:9b:  55%|███████████████████████████████████████████████▌                                       | 53/97 [1:04:19<39:48, 54.29s/it, file=CJG - ambergold 1.txt, summaries_count=10, time=37.32 seconds]\u001b[A\u001b[A"
     ]
    },
    {
     "name": "stdout",
     "output_type": "stream",
     "text": [
      "Record already exists: voiceapp\\output\\summaries_folder\\glm4_9b_20241213_192515\\CJG - ambergold 1-summary_5.txt -> C:/Users/G/Documents/GitHub/audycje.com.pl/content/audio\\shorts\\CJG - ambergold 1.txt\n"
     ]
    },
    {
     "name": "stderr",
     "output_type": "stream",
     "text": [
      "\n",
      "\n",
      "Summarizing files for glm4:9b:  56%|████████████████████████████████████████████████▍                                      | 54/97 [1:04:39<31:34, 44.06s/it, file=CJG - ambergold 1.txt, summaries_count=10, time=37.32 seconds]\u001b[A\u001b[A\n",
      "\n",
      "Summarizing files for glm4:9b:  56%|██████████████████████████████████████████████▏                                    | 54/97 [1:04:39<31:34, 44.06s/it, file=CJG - anheuser-busch 1.txt, summaries_count=5, time=20.18 seconds]\u001b[A\u001b[A"
     ]
    },
    {
     "name": "stdout",
     "output_type": "stream",
     "text": [
      "Record already exists: voiceapp\\output\\summaries_folder\\glm4_9b_20241213_192515\\CJG - C40 1-summary_1.txt -> C:/Users/G/Documents/GitHub/audycje.com.pl/content/audio\\shorts\\CJG - C40 1.txt\n",
      "Record already exists: voiceapp\\output\\summaries_folder\\glm4_9b_20241213_192515\\CJG - C40 1-summary_2.txt -> C:/Users/G/Documents/GitHub/audycje.com.pl/content/audio\\shorts\\CJG - C40 1.txt\n",
      "Record already exists: voiceapp\\output\\summaries_folder\\glm4_9b_20241213_192515\\CJG - C40 1-summary_3.txt -> C:/Users/G/Documents/GitHub/audycje.com.pl/content/audio\\shorts\\CJG - C40 1.txt\n",
      "Record already exists: voiceapp\\output\\summaries_folder\\glm4_9b_20241213_192515\\CJG - C40 1-summary_4.txt -> C:/Users/G/Documents/GitHub/audycje.com.pl/content/audio\\shorts\\CJG - C40 1.txt\n"
     ]
    },
    {
     "name": "stderr",
     "output_type": "stream",
     "text": [
      "\n",
      "\n",
      "Summarizing files for glm4:9b:  57%|███████████████████████████████████████████████                                    | 55/97 [1:05:16<29:18, 41.86s/it, file=CJG - anheuser-busch 1.txt, summaries_count=5, time=20.18 seconds]\u001b[A\u001b[A\n",
      "\n",
      "Summarizing files for glm4:9b:  57%|████████████████████████████████████████████████████▋                                        | 55/97 [1:05:16<29:18, 41.86s/it, file=CJG - C40 1.txt, summaries_count=10, time=36.74 seconds]\u001b[A\u001b[A"
     ]
    },
    {
     "name": "stdout",
     "output_type": "stream",
     "text": [
      "Record already exists: voiceapp\\output\\summaries_folder\\glm4_9b_20241213_192515\\CJG - C40 1-summary_5.txt -> C:/Users/G/Documents/GitHub/audycje.com.pl/content/audio\\shorts\\CJG - C40 1.txt\n",
      "Record already exists: voiceapp\\output\\summaries_folder\\glm4_9b_20241213_192515\\CJG - dawne zapowiedzi 1-summary_1.txt -> C:/Users/G/Documents/GitHub/audycje.com.pl/content/audio\\shorts\\CJG - dawne zapowiedzi 1.txt\n",
      "Record already exists: voiceapp\\output\\summaries_folder\\glm4_9b_20241213_192515\\CJG - dawne zapowiedzi 1-summary_2.txt -> C:/Users/G/Documents/GitHub/audycje.com.pl/content/audio\\shorts\\CJG - dawne zapowiedzi 1.txt\n",
      "Record already exists: voiceapp\\output\\summaries_folder\\glm4_9b_20241213_192515\\CJG - dawne zapowiedzi 1-summary_3.txt -> C:/Users/G/Documents/GitHub/audycje.com.pl/content/audio\\shorts\\CJG - dawne zapowiedzi 1.txt\n",
      "Record already exists: voiceapp\\output\\summaries_folder\\glm4_9b_20241213_192515\\CJG - dawne zapowiedzi 1-summary_4.txt -> C:/Users/G/Documents/GitHub/audycje.com.pl/content/audio\\shorts\\CJG - dawne zapowiedzi 1.txt\n"
     ]
    },
    {
     "name": "stderr",
     "output_type": "stream",
     "text": [
      "\n",
      "\n",
      "Summarizing files for glm4:9b:  58%|█████████████████████████████████████████████████████▋                                       | 56/97 [1:05:53<27:45, 40.62s/it, file=CJG - C40 1.txt, summaries_count=10, time=36.74 seconds]\u001b[A\u001b[A\n",
      "\n",
      "Summarizing files for glm4:9b:  58%|██████████████████████████████████████████████▏                                 | 56/97 [1:05:53<27:45, 40.62s/it, file=CJG - dawne zapowiedzi 1.txt, summaries_count=10, time=37.74 seconds]\u001b[A\u001b[A"
     ]
    },
    {
     "name": "stdout",
     "output_type": "stream",
     "text": [
      "Record already exists: voiceapp\\output\\summaries_folder\\glm4_9b_20241213_192515\\CJG - dawne zapowiedzi 1-summary_5.txt -> C:/Users/G/Documents/GitHub/audycje.com.pl/content/audio\\shorts\\CJG - dawne zapowiedzi 1.txt\n",
      "Record already exists: voiceapp\\output\\summaries_folder\\glm4_9b_20241213_192515\\CJG - emigracja 1-summary_1.txt -> C:/Users/G/Documents/GitHub/audycje.com.pl/content/audio\\shorts\\CJG - emigracja 1.txt\n",
      "Record already exists: voiceapp\\output\\summaries_folder\\glm4_9b_20241213_192515\\CJG - emigracja 1-summary_2.txt -> C:/Users/G/Documents/GitHub/audycje.com.pl/content/audio\\shorts\\CJG - emigracja 1.txt\n",
      "Record already exists: voiceapp\\output\\summaries_folder\\glm4_9b_20241213_192515\\CJG - emigracja 1-summary_3.txt -> C:/Users/G/Documents/GitHub/audycje.com.pl/content/audio\\shorts\\CJG - emigracja 1.txt\n",
      "Record already exists: voiceapp\\output\\summaries_folder\\glm4_9b_20241213_192515\\CJG - emigracja 1-summary_4.txt -> C:/Users/G/Documents/GitHub/audycje.com.pl/content/audio\\shorts\\CJG - emigracja 1.txt\n"
     ]
    },
    {
     "name": "stderr",
     "output_type": "stream",
     "text": [
      "\n",
      "\n",
      "Summarizing files for glm4:9b:  59%|███████████████████████████████████████████████                                 | 57/97 [1:06:33<26:49, 40.23s/it, file=CJG - dawne zapowiedzi 1.txt, summaries_count=10, time=37.74 seconds]\u001b[A\u001b[A\n",
      "\n",
      "Summarizing files for glm4:9b:  59%|███████████████████████████████████████████████████                                    | 57/97 [1:06:33<26:49, 40.23s/it, file=CJG - emigracja 1.txt, summaries_count=10, time=39.33 seconds]\u001b[A\u001b[A"
     ]
    },
    {
     "name": "stdout",
     "output_type": "stream",
     "text": [
      "Record already exists: voiceapp\\output\\summaries_folder\\glm4_9b_20241213_192515\\CJG - emigracja 1-summary_5.txt -> C:/Users/G/Documents/GitHub/audycje.com.pl/content/audio\\shorts\\CJG - emigracja 1.txt\n",
      "Record already exists: voiceapp\\output\\summaries_folder\\glm4_9b_20241213_192515\\CJG - evergrande 1-summary_1.txt -> C:/Users/G/Documents/GitHub/audycje.com.pl/content/audio\\shorts\\CJG - evergrande 1.txt\n",
      "Record already exists: voiceapp\\output\\summaries_folder\\glm4_9b_20241213_192515\\CJG - evergrande 1-summary_2.txt -> C:/Users/G/Documents/GitHub/audycje.com.pl/content/audio\\shorts\\CJG - evergrande 1.txt\n",
      "Record already exists: voiceapp\\output\\summaries_folder\\glm4_9b_20241213_192515\\CJG - evergrande 1-summary_3.txt -> C:/Users/G/Documents/GitHub/audycje.com.pl/content/audio\\shorts\\CJG - evergrande 1.txt\n",
      "Record already exists: voiceapp\\output\\summaries_folder\\glm4_9b_20241213_192515\\CJG - evergrande 1-summary_4.txt -> C:/Users/G/Documents/GitHub/audycje.com.pl/content/audio\\shorts\\CJG - evergrande 1.txt\n"
     ]
    },
    {
     "name": "stderr",
     "output_type": "stream",
     "text": [
      "\n",
      "\n",
      "Summarizing files for glm4:9b:  60%|████████████████████████████████████████████████████                                   | 58/97 [1:07:11<25:49, 39.73s/it, file=CJG - emigracja 1.txt, summaries_count=10, time=39.33 seconds]\u001b[A\u001b[A\n",
      "\n",
      "Summarizing files for glm4:9b:  60%|███████████████████████████████████████████████████▍                                  | 58/97 [1:07:11<25:49, 39.73s/it, file=CJG - evergrande 1.txt, summaries_count=10, time=38.55 seconds]\u001b[A\u001b[A"
     ]
    },
    {
     "name": "stdout",
     "output_type": "stream",
     "text": [
      "Record already exists: voiceapp\\output\\summaries_folder\\glm4_9b_20241213_192515\\CJG - evergrande 1-summary_5.txt -> C:/Users/G/Documents/GitHub/audycje.com.pl/content/audio\\shorts\\CJG - evergrande 1.txt\n"
     ]
    },
    {
     "name": "stderr",
     "output_type": "stream",
     "text": [
      "\n",
      "\n",
      "Summarizing files for glm4:9b:  61%|████████████████████████████████████████████████████▎                                 | 59/97 [1:07:33<21:45, 34.35s/it, file=CJG - evergrande 1.txt, summaries_count=10, time=38.55 seconds]\u001b[A\u001b[A\n",
      "\n",
      "Summarizing files for glm4:9b:  61%|█████████████████████████████████████████████████▎                               | 59/97 [1:07:33<21:45, 34.35s/it, file=CJG - firmy w polsce cz1.txt, summaries_count=5, time=21.79 seconds]\u001b[A\u001b[A\n",
      "\n",
      "Summarizing files for glm4:9b:  62%|██████████████████████████████████████████████████                               | 60/97 [1:07:54<18:38, 30.24s/it, file=CJG - firmy w polsce cz1.txt, summaries_count=5, time=21.79 seconds]\u001b[A\u001b[A\n",
      "\n",
      "Summarizing files for glm4:9b:  62%|████████████████████████████████████████████████████▌                                | 60/97 [1:07:54<18:38, 30.24s/it, file=CJG - fotowoltaika 1.txt, summaries_count=5, time=20.65 seconds]\u001b[A\u001b[A\n",
      "\n",
      "Summarizing files for glm4:9b:  63%|█████████████████████████████████████████████████████▍                               | 61/97 [1:08:16<16:48, 28.01s/it, file=CJG - fotowoltaika 1.txt, summaries_count=5, time=20.65 seconds]\u001b[A\u001b[A\n",
      "\n",
      "Summarizing files for glm4:9b:  63%|█████████████████████████████████████████████████████████▊                                  | 61/97 [1:08:16<16:48, 28.01s/it, file=CJG - hamas 1.txt, summaries_count=5, time=22.82 seconds]\u001b[A\u001b[A\n",
      "\n",
      "Summarizing files for glm4:9b:  64%|██████████████████████████████████████████████████████████▊                                 | 62/97 [1:08:36<14:53, 25.54s/it, file=CJG - hamas 1.txt, summaries_count=5, time=22.82 seconds]\u001b[A\u001b[A\n",
      "\n",
      "Summarizing files for glm4:9b:  64%|█████████████████████████████████████████████████████                              | 62/97 [1:08:36<14:53, 25.54s/it, file=CJG - inflacja i nbp 1.txt, summaries_count=5, time=19.77 seconds]\u001b[A\u001b[A"
     ]
    },
    {
     "name": "stdout",
     "output_type": "stream",
     "text": [
      "Record already exists: voiceapp\\output\\summaries_folder\\glm4_9b_20241213_192515\\CJG - influencerzy 1-summary_1.txt -> C:/Users/G/Documents/GitHub/audycje.com.pl/content/audio\\shorts\\CJG - influencerzy 1.txt\n",
      "Record already exists: voiceapp\\output\\summaries_folder\\glm4_9b_20241213_192515\\CJG - influencerzy 1-summary_2.txt -> C:/Users/G/Documents/GitHub/audycje.com.pl/content/audio\\shorts\\CJG - influencerzy 1.txt\n",
      "Record already exists: voiceapp\\output\\summaries_folder\\glm4_9b_20241213_192515\\CJG - influencerzy 1-summary_3.txt -> C:/Users/G/Documents/GitHub/audycje.com.pl/content/audio\\shorts\\CJG - influencerzy 1.txt\n",
      "Record already exists: voiceapp\\output\\summaries_folder\\glm4_9b_20241213_192515\\CJG - influencerzy 1-summary_4.txt -> C:/Users/G/Documents/GitHub/audycje.com.pl/content/audio\\shorts\\CJG - influencerzy 1.txt\n"
     ]
    },
    {
     "name": "stderr",
     "output_type": "stream",
     "text": [
      "\n",
      "\n",
      "Summarizing files for glm4:9b:  65%|█████████████████████████████████████████████████████▉                             | 63/97 [1:09:18<17:14, 30.43s/it, file=CJG - inflacja i nbp 1.txt, summaries_count=5, time=19.77 seconds]\u001b[A\u001b[A\n",
      "\n",
      "Summarizing files for glm4:9b:  65%|██████████████████████████████████████████████████████▌                             | 63/97 [1:09:18<17:14, 30.43s/it, file=CJG - influencerzy 1.txt, summaries_count=10, time=41.83 seconds]\u001b[A\u001b[A"
     ]
    },
    {
     "name": "stdout",
     "output_type": "stream",
     "text": [
      "Record already exists: voiceapp\\output\\summaries_folder\\glm4_9b_20241213_192515\\CJG - influencerzy 1-summary_5.txt -> C:/Users/G/Documents/GitHub/audycje.com.pl/content/audio\\shorts\\CJG - influencerzy 1.txt\n"
     ]
    },
    {
     "name": "stderr",
     "output_type": "stream",
     "text": [
      "\n",
      "\n",
      "Summarizing files for glm4:9b:  66%|███████████████████████████████████████████████████████▍                            | 64/97 [1:09:39<15:05, 27.44s/it, file=CJG - influencerzy 1.txt, summaries_count=10, time=41.83 seconds]\u001b[A\u001b[A\n",
      "\n",
      "Summarizing files for glm4:9b:  66%|███████████████████████████████████████████████████████████▍                              | 64/97 [1:09:39<15:05, 27.44s/it, file=CJG - japonia 1.txt, summaries_count=5, time=20.48 seconds]\u001b[A\u001b[A\n",
      "\n",
      "Summarizing files for glm4:9b:  67%|████████████████████████████████████████████████████████████▎                             | 65/97 [1:10:00<13:36, 25.52s/it, file=CJG - japonia 1.txt, summaries_count=5, time=20.48 seconds]\u001b[A\u001b[A\n",
      "\n",
      "Summarizing files for glm4:9b:  67%|███████████████████████████████████████████████████████████▋                             | 65/97 [1:10:00<13:36, 25.52s/it, file=CJG - jastrzab 1.txt, summaries_count=5, time=21.03 seconds]\u001b[A\u001b[A\n",
      "\n",
      "Summarizing files for glm4:9b:  68%|████████████████████████████████████████████████████████████▌                            | 66/97 [1:10:21<12:32, 24.27s/it, file=CJG - jastrzab 1.txt, summaries_count=5, time=21.03 seconds]\u001b[A\u001b[A\n",
      "\n",
      "Summarizing files for glm4:9b:  68%|███████████████████████████████████████████████████████████▉                            | 66/97 [1:10:21<12:32, 24.27s/it, file=CJG - jubileusz 1.txt, summaries_count=5, time=21.36 seconds]\u001b[A\u001b[A\n",
      "\n",
      "Summarizing files for glm4:9b:  69%|████████████████████████████████████████████████████████████▊                           | 67/97 [1:10:43<11:51, 23.70s/it, file=CJG - jubileusz 1.txt, summaries_count=5, time=21.36 seconds]\u001b[A\u001b[A\n",
      "\n",
      "Summarizing files for glm4:9b:  69%|█████████████████████████████████████████████████████████████▍                           | 67/97 [1:10:43<11:51, 23.70s/it, file=CJG - kataster 1.txt, summaries_count=5, time=22.38 seconds]\u001b[A\u001b[A"
     ]
    },
    {
     "name": "stdout",
     "output_type": "stream",
     "text": [
      "Record already exists: voiceapp\\output\\summaries_folder\\glm4_9b_20241213_192515\\CJG - kierowcy 1-summary_1.txt -> C:/Users/G/Documents/GitHub/audycje.com.pl/content/audio\\shorts\\CJG - kierowcy 1.txt\n",
      "Record already exists: voiceapp\\output\\summaries_folder\\glm4_9b_20241213_192515\\CJG - kierowcy 1-summary_2.txt -> C:/Users/G/Documents/GitHub/audycje.com.pl/content/audio\\shorts\\CJG - kierowcy 1.txt\n",
      "Record already exists: voiceapp\\output\\summaries_folder\\glm4_9b_20241213_192515\\CJG - kierowcy 1-summary_3.txt -> C:/Users/G/Documents/GitHub/audycje.com.pl/content/audio\\shorts\\CJG - kierowcy 1.txt\n",
      "Record already exists: voiceapp\\output\\summaries_folder\\glm4_9b_20241213_192515\\CJG - kierowcy 1-summary_4.txt -> C:/Users/G/Documents/GitHub/audycje.com.pl/content/audio\\shorts\\CJG - kierowcy 1.txt\n"
     ]
    },
    {
     "name": "stderr",
     "output_type": "stream",
     "text": [
      "\n",
      "\n",
      "Summarizing files for glm4:9b:  70%|██████████████████████████████████████████████████████████████▍                          | 68/97 [1:11:22<13:39, 28.26s/it, file=CJG - kataster 1.txt, summaries_count=5, time=22.38 seconds]\u001b[A\u001b[A\n",
      "\n",
      "Summarizing files for glm4:9b:  70%|█████████████████████████████████████████████████████████████▋                          | 68/97 [1:11:22<13:39, 28.26s/it, file=CJG - kierowcy 1.txt, summaries_count=10, time=38.87 seconds]\u001b[A\u001b[A"
     ]
    },
    {
     "name": "stdout",
     "output_type": "stream",
     "text": [
      "Record already exists: voiceapp\\output\\summaries_folder\\glm4_9b_20241213_192515\\CJG - kierowcy 1-summary_5.txt -> C:/Users/G/Documents/GitHub/audycje.com.pl/content/audio\\shorts\\CJG - kierowcy 1.txt\n",
      "Record already exists: voiceapp\\output\\summaries_folder\\glm4_9b_20241213_192515\\CJG - koniec roku 1-summary_1.txt -> C:/Users/G/Documents/GitHub/audycje.com.pl/content/audio\\shorts\\CJG - koniec roku 1.txt\n",
      "Record already exists: voiceapp\\output\\summaries_folder\\glm4_9b_20241213_192515\\CJG - koniec roku 1-summary_2.txt -> C:/Users/G/Documents/GitHub/audycje.com.pl/content/audio\\shorts\\CJG - koniec roku 1.txt\n",
      "Record already exists: voiceapp\\output\\summaries_folder\\glm4_9b_20241213_192515\\CJG - koniec roku 1-summary_3.txt -> C:/Users/G/Documents/GitHub/audycje.com.pl/content/audio\\shorts\\CJG - koniec roku 1.txt\n",
      "Record already exists: voiceapp\\output\\summaries_folder\\glm4_9b_20241213_192515\\CJG - koniec roku 1-summary_4.txt -> C:/Users/G/Documents/GitHub/audycje.com.pl/content/audio\\shorts\\CJG - koniec roku 1.txt\n"
     ]
    },
    {
     "name": "stderr",
     "output_type": "stream",
     "text": [
      "\n",
      "\n",
      "Summarizing files for glm4:9b:  71%|██████████████████████████████████████████████████████████████▌                         | 69/97 [1:11:58<14:15, 30.54s/it, file=CJG - kierowcy 1.txt, summaries_count=10, time=38.87 seconds]\u001b[A\u001b[A\n",
      "\n",
      "Summarizing files for glm4:9b:  71%|████████████████████████████████████████████████████████████▍                        | 69/97 [1:11:58<14:15, 30.54s/it, file=CJG - koniec roku 1.txt, summaries_count=10, time=35.88 seconds]\u001b[A\u001b[A"
     ]
    },
    {
     "name": "stdout",
     "output_type": "stream",
     "text": [
      "Record already exists: voiceapp\\output\\summaries_folder\\glm4_9b_20241213_192515\\CJG - koniec roku 1-summary_5.txt -> C:/Users/G/Documents/GitHub/audycje.com.pl/content/audio\\shorts\\CJG - koniec roku 1.txt\n"
     ]
    },
    {
     "name": "stderr",
     "output_type": "stream",
     "text": [
      "\n",
      "\n",
      "Summarizing files for glm4:9b:  72%|█████████████████████████████████████████████████████████████▎                       | 70/97 [1:12:21<12:43, 28.26s/it, file=CJG - koniec roku 1.txt, summaries_count=10, time=35.88 seconds]\u001b[A\u001b[A\n",
      "\n",
      "Summarizing files for glm4:9b:  72%|████████████████████████████████████████████████████████████████▏                        | 70/97 [1:12:21<12:43, 28.26s/it, file=CJG - kurczaki 1.txt, summaries_count=5, time=22.94 seconds]\u001b[A\u001b[A\n",
      "\n",
      "Summarizing files for glm4:9b:  73%|█████████████████████████████████████████████████████████████████▏                       | 71/97 [1:12:43<11:24, 26.34s/it, file=CJG - kurczaki 1.txt, summaries_count=5, time=22.94 seconds]\u001b[A\u001b[A\n",
      "\n",
      "Summarizing files for glm4:9b:  73%|██████████████████████████████████████████████████████████████▏                      | 71/97 [1:12:43<11:24, 26.34s/it, file=CJG - mieszkania cz1.txt, summaries_count=5, time=21.86 seconds]\u001b[A\u001b[A"
     ]
    },
    {
     "name": "stdout",
     "output_type": "stream",
     "text": [
      "Record already exists: voiceapp\\output\\summaries_folder\\glm4_9b_20241213_192515\\CJG - miliarderzy 1-summary_1.txt -> C:/Users/G/Documents/GitHub/audycje.com.pl/content/audio\\shorts\\CJG - miliarderzy 1.txt\n",
      "Record already exists: voiceapp\\output\\summaries_folder\\glm4_9b_20241213_192515\\CJG - miliarderzy 1-summary_2.txt -> C:/Users/G/Documents/GitHub/audycje.com.pl/content/audio\\shorts\\CJG - miliarderzy 1.txt\n",
      "Record already exists: voiceapp\\output\\summaries_folder\\glm4_9b_20241213_192515\\CJG - miliarderzy 1-summary_3.txt -> C:/Users/G/Documents/GitHub/audycje.com.pl/content/audio\\shorts\\CJG - miliarderzy 1.txt\n",
      "Record already exists: voiceapp\\output\\summaries_folder\\glm4_9b_20241213_192515\\CJG - miliarderzy 1-summary_4.txt -> C:/Users/G/Documents/GitHub/audycje.com.pl/content/audio\\shorts\\CJG - miliarderzy 1.txt\n"
     ]
    },
    {
     "name": "stderr",
     "output_type": "stream",
     "text": [
      "\n",
      "\n",
      "Summarizing files for glm4:9b:  74%|███████████████████████████████████████████████████████████████                      | 72/97 [1:13:18<12:07, 29.09s/it, file=CJG - mieszkania cz1.txt, summaries_count=5, time=21.86 seconds]\u001b[A\u001b[A\n",
      "\n",
      "Summarizing files for glm4:9b:  74%|███████████████████████████████████████████████████████████████                      | 72/97 [1:13:18<12:07, 29.09s/it, file=CJG - miliarderzy 1.txt, summaries_count=10, time=35.51 seconds]\u001b[A\u001b[A"
     ]
    },
    {
     "name": "stdout",
     "output_type": "stream",
     "text": [
      "Record already exists: voiceapp\\output\\summaries_folder\\glm4_9b_20241213_192515\\CJG - miliarderzy 1-summary_5.txt -> C:/Users/G/Documents/GitHub/audycje.com.pl/content/audio\\shorts\\CJG - miliarderzy 1.txt\n"
     ]
    },
    {
     "name": "stderr",
     "output_type": "stream",
     "text": [
      "\n",
      "\n",
      "Summarizing files for glm4:9b:  75%|███████████████████████████████████████████████████████████████▉                     | 73/97 [1:13:38<10:32, 26.34s/it, file=CJG - miliarderzy 1.txt, summaries_count=10, time=35.51 seconds]\u001b[A\u001b[A\n",
      "\n",
      "Summarizing files for glm4:9b:  75%|█████████████████████████████████████████████████████████▉                   | 73/97 [1:13:38<10:32, 26.34s/it, file=CJG - monopol energetyczny 1.txt, summaries_count=5, time=19.91 seconds]\u001b[A\u001b[A\n",
      "\n",
      "Summarizing files for glm4:9b:  76%|██████████████████████████████████████████████████████████▋                  | 74/97 [1:14:00<09:33, 24.92s/it, file=CJG - monopol energetyczny 1.txt, summaries_count=5, time=19.91 seconds]\u001b[A\u001b[A\n",
      "\n",
      "Summarizing files for glm4:9b:  76%|█████████████████████████████████████████████████████████████████████▍                     | 74/97 [1:14:00<09:33, 24.92s/it, file=CJG - niemcy 1.txt, summaries_count=5, time=21.60 seconds]\u001b[A\u001b[A\n",
      "\n",
      "Summarizing files for glm4:9b:  77%|██████████████████████████████████████████████████████████████████████▎                    | 75/97 [1:14:21<08:43, 23.80s/it, file=CJG - niemcy 1.txt, summaries_count=5, time=21.60 seconds]\u001b[A\u001b[A\n",
      "\n",
      "Summarizing files for glm4:9b:  77%|███████████████████████████████████████████████████████████████████████▏                    | 75/97 [1:14:21<08:43, 23.80s/it, file=CJG - orlen 1.txt, summaries_count=5, time=21.19 seconds]\u001b[A\u001b[A"
     ]
    },
    {
     "name": "stdout",
     "output_type": "stream",
     "text": [
      "Record already exists: voiceapp\\output\\summaries_folder\\glm4_9b_20241213_192515\\CJG - paliwo wyborcze 1-summary_1.txt -> C:/Users/G/Documents/GitHub/audycje.com.pl/content/audio\\shorts\\CJG - paliwo wyborcze 1.txt\n",
      "Record already exists: voiceapp\\output\\summaries_folder\\glm4_9b_20241213_192515\\CJG - paliwo wyborcze 1-summary_2.txt -> C:/Users/G/Documents/GitHub/audycje.com.pl/content/audio\\shorts\\CJG - paliwo wyborcze 1.txt\n",
      "Record already exists: voiceapp\\output\\summaries_folder\\glm4_9b_20241213_192515\\CJG - paliwo wyborcze 1-summary_3.txt -> C:/Users/G/Documents/GitHub/audycje.com.pl/content/audio\\shorts\\CJG - paliwo wyborcze 1.txt\n",
      "Record already exists: voiceapp\\output\\summaries_folder\\glm4_9b_20241213_192515\\CJG - paliwo wyborcze 1-summary_4.txt -> C:/Users/G/Documents/GitHub/audycje.com.pl/content/audio\\shorts\\CJG - paliwo wyborcze 1.txt\n"
     ]
    },
    {
     "name": "stderr",
     "output_type": "stream",
     "text": [
      "\n",
      "\n",
      "Summarizing files for glm4:9b:  78%|████████████████████████████████████████████████████████████████████████                    | 76/97 [1:15:01<10:01, 28.65s/it, file=CJG - orlen 1.txt, summaries_count=5, time=21.19 seconds]\u001b[A\u001b[A\n",
      "\n",
      "Summarizing files for glm4:9b:  78%|███████████████████████████████████████████████████████████████▍                 | 76/97 [1:15:01<10:01, 28.65s/it, file=CJG - paliwo wyborcze 1.txt, summaries_count=10, time=39.97 seconds]\u001b[A\u001b[A"
     ]
    },
    {
     "name": "stdout",
     "output_type": "stream",
     "text": [
      "Record already exists: voiceapp\\output\\summaries_folder\\glm4_9b_20241213_192515\\CJG - paliwo wyborcze 1-summary_5.txt -> C:/Users/G/Documents/GitHub/audycje.com.pl/content/audio\\shorts\\CJG - paliwo wyborcze 1.txt\n"
     ]
    },
    {
     "name": "stderr",
     "output_type": "stream",
     "text": [
      "\n",
      "\n",
      "Summarizing files for glm4:9b:  79%|████████████████████████████████████████████████████████████████▎                | 77/97 [1:15:22<08:47, 26.39s/it, file=CJG - paliwo wyborcze 1.txt, summaries_count=10, time=39.97 seconds]\u001b[A\u001b[A\n",
      "\n",
      "Summarizing files for glm4:9b:  79%|███████████████████████████████████████████████████████████████████▍                 | 77/97 [1:15:22<08:47, 26.39s/it, file=CJG - pompy ciepla 1.txt, summaries_count=5, time=21.13 seconds]\u001b[A\u001b[A"
     ]
    },
    {
     "name": "stdout",
     "output_type": "stream",
     "text": [
      "Record already exists: voiceapp\\output\\summaries_folder\\glm4_9b_20241213_192515\\CJG - punkt zwrotny usa 1-summary_1.txt -> C:/Users/G/Documents/GitHub/audycje.com.pl/content/audio\\shorts\\CJG - punkt zwrotny usa 1.txt\n",
      "Record already exists: voiceapp\\output\\summaries_folder\\glm4_9b_20241213_192515\\CJG - punkt zwrotny usa 1-summary_2.txt -> C:/Users/G/Documents/GitHub/audycje.com.pl/content/audio\\shorts\\CJG - punkt zwrotny usa 1.txt\n",
      "Record already exists: voiceapp\\output\\summaries_folder\\glm4_9b_20241213_192515\\CJG - punkt zwrotny usa 1-summary_3.txt -> C:/Users/G/Documents/GitHub/audycje.com.pl/content/audio\\shorts\\CJG - punkt zwrotny usa 1.txt\n",
      "Record already exists: voiceapp\\output\\summaries_folder\\glm4_9b_20241213_192515\\CJG - punkt zwrotny usa 1-summary_4.txt -> C:/Users/G/Documents/GitHub/audycje.com.pl/content/audio\\shorts\\CJG - punkt zwrotny usa 1.txt\n"
     ]
    },
    {
     "name": "stderr",
     "output_type": "stream",
     "text": [
      "\n",
      "\n",
      "Summarizing files for glm4:9b:  80%|████████████████████████████████████████████████████████████████████▎                | 78/97 [1:16:02<09:39, 30.51s/it, file=CJG - pompy ciepla 1.txt, summaries_count=5, time=21.13 seconds]\u001b[A\u001b[A\n",
      "\n",
      "Summarizing files for glm4:9b:  80%|███████████████████████████████████████████████████████████████▌               | 78/97 [1:16:02<09:39, 30.51s/it, file=CJG - punkt zwrotny usa 1.txt, summaries_count=10, time=40.10 seconds]\u001b[A\u001b[A"
     ]
    },
    {
     "name": "stdout",
     "output_type": "stream",
     "text": [
      "Record already exists: voiceapp\\output\\summaries_folder\\glm4_9b_20241213_192515\\CJG - punkt zwrotny usa 1-summary_5.txt -> C:/Users/G/Documents/GitHub/audycje.com.pl/content/audio\\shorts\\CJG - punkt zwrotny usa 1.txt\n"
     ]
    },
    {
     "name": "stderr",
     "output_type": "stream",
     "text": [
      "\n",
      "\n",
      "Summarizing files for glm4:9b:  81%|████████████████████████████████████████████████████████████████▎              | 79/97 [1:16:23<08:14, 27.47s/it, file=CJG - punkt zwrotny usa 1.txt, summaries_count=10, time=40.10 seconds]\u001b[A\u001b[A\n",
      "\n",
      "Summarizing files for glm4:9b:  81%|██████████████████████████████████████████████████████████████████████████                 | 79/97 [1:16:23<08:14, 27.47s/it, file=CJG - robaki 1.txt, summaries_count=5, time=20.40 seconds]\u001b[A\u001b[A\n",
      "\n",
      "Summarizing files for glm4:9b:  82%|███████████████████████████████████████████████████████████████████████████                | 80/97 [1:16:43<07:11, 25.37s/it, file=CJG - robaki 1.txt, summaries_count=5, time=20.40 seconds]\u001b[A\u001b[A\n",
      "\n",
      "Summarizing files for glm4:9b:  82%|█████████████████████████████████████████████████████████████████████████▍               | 80/97 [1:16:43<07:11, 25.37s/it, file=CJG - rok 2022 1.txt, summaries_count=5, time=20.45 seconds]\u001b[A\u001b[A"
     ]
    },
    {
     "name": "stdout",
     "output_type": "stream",
     "text": [
      "Record already exists: voiceapp\\output\\summaries_folder\\glm4_9b_20241213_192515\\CJG - rosja 1-summary_1.txt -> C:/Users/G/Documents/GitHub/audycje.com.pl/content/audio\\shorts\\CJG - rosja 1.txt\n",
      "Record already exists: voiceapp\\output\\summaries_folder\\glm4_9b_20241213_192515\\CJG - rosja 1-summary_2.txt -> C:/Users/G/Documents/GitHub/audycje.com.pl/content/audio\\shorts\\CJG - rosja 1.txt\n",
      "Record already exists: voiceapp\\output\\summaries_folder\\glm4_9b_20241213_192515\\CJG - rosja 1-summary_3.txt -> C:/Users/G/Documents/GitHub/audycje.com.pl/content/audio\\shorts\\CJG - rosja 1.txt\n",
      "Record already exists: voiceapp\\output\\summaries_folder\\glm4_9b_20241213_192515\\CJG - rosja 1-summary_4.txt -> C:/Users/G/Documents/GitHub/audycje.com.pl/content/audio\\shorts\\CJG - rosja 1.txt\n"
     ]
    },
    {
     "name": "stderr",
     "output_type": "stream",
     "text": [
      "\n",
      "\n",
      "Summarizing files for glm4:9b:  84%|██████████████████████████████████████████████████████████████████████████▎              | 81/97 [1:17:26<08:10, 30.64s/it, file=CJG - rok 2022 1.txt, summaries_count=5, time=20.45 seconds]\u001b[A\u001b[A\n",
      "\n",
      "Summarizing files for glm4:9b:  84%|███████████████████████████████████████████████████████████████████████████▉               | 81/97 [1:17:26<08:10, 30.64s/it, file=CJG - rosja 1.txt, summaries_count=10, time=42.96 seconds]\u001b[A\u001b[A"
     ]
    },
    {
     "name": "stdout",
     "output_type": "stream",
     "text": [
      "Record already exists: voiceapp\\output\\summaries_folder\\glm4_9b_20241213_192515\\CJG - rosja 1-summary_5.txt -> C:/Users/G/Documents/GitHub/audycje.com.pl/content/audio\\shorts\\CJG - rosja 1.txt\n"
     ]
    },
    {
     "name": "stderr",
     "output_type": "stream",
     "text": [
      "\n",
      "\n",
      "Summarizing files for glm4:9b:  85%|████████████████████████████████████████████████████████████████████████████▉              | 82/97 [1:17:49<07:05, 28.37s/it, file=CJG - rosja 1.txt, summaries_count=10, time=42.96 seconds]\u001b[A\u001b[A\n",
      "\n",
      "Summarizing files for glm4:9b:  85%|████████████████████████████████████████████████████████████▊           | 82/97 [1:17:49<07:05, 28.37s/it, file=CJG - samochody elektryczne mk2 1.txt, summaries_count=5, time=23.07 seconds]\u001b[A\u001b[A\n",
      "\n",
      "Summarizing files for glm4:9b:  86%|█████████████████████████████████████████████████████████████▌          | 83/97 [1:18:09<06:02, 25.88s/it, file=CJG - samochody elektryczne mk2 1.txt, summaries_count=5, time=23.07 seconds]\u001b[A\u001b[A\n",
      "\n",
      "Summarizing files for glm4:9b:  86%|█████████████████████████████████████████████████████████████████████████████████▎             | 83/97 [1:18:09<06:02, 25.88s/it, file=CJG - si 1.txt, summaries_count=5, time=20.05 seconds]\u001b[A\u001b[A\n",
      "\n",
      "Summarizing files for glm4:9b:  87%|██████████████████████████████████████████████████████████████████████████████████▎            | 84/97 [1:18:31<05:19, 24.60s/it, file=CJG - si 1.txt, summaries_count=5, time=20.05 seconds]\u001b[A\u001b[A\n",
      "\n",
      "Summarizing files for glm4:9b:  87%|██████████████████████████████████████████████████████████████████████████████▊            | 84/97 [1:18:31<05:19, 24.60s/it, file=CJG - wagner 1.txt, summaries_count=5, time=21.61 seconds]\u001b[A\u001b[A\n",
      "\n",
      "Summarizing files for glm4:9b:  88%|███████████████████████████████████████████████████████████████████████████████▋           | 85/97 [1:18:53<04:46, 23.88s/it, file=CJG - wagner 1.txt, summaries_count=5, time=21.61 seconds]\u001b[A\u001b[A\n",
      "\n",
      "Summarizing files for glm4:9b:  88%|████████████████████████████████████████████████████████████████████████████████▌           | 85/97 [1:18:53<04:46, 23.88s/it, file=CJG - wojna 1.txt, summaries_count=5, time=22.21 seconds]\u001b[A\u001b[A\n",
      "\n",
      "Summarizing files for glm4:9b:  89%|█████████████████████████████████████████████████████████████████████████████████▌          | 86/97 [1:19:12<04:06, 22.45s/it, file=CJG - wojna 1.txt, summaries_count=5, time=22.21 seconds]\u001b[A\u001b[A\n",
      "\n",
      "Summarizing files for glm4:9b:  89%|████████████████████████████████████████████████████████████████████████████████▋          | 86/97 [1:19:12<04:06, 22.45s/it, file=CJG - woke cz1.txt, summaries_count=5, time=19.09 seconds]\u001b[A\u001b[A\n",
      "\n",
      "Summarizing files for glm4:9b:  90%|█████████████████████████████████████████████████████████████████████████████████▌         | 87/97 [1:19:32<03:37, 21.74s/it, file=CJG - woke cz1.txt, summaries_count=5, time=19.09 seconds]\u001b[A\u001b[A\n",
      "\n",
      "Summarizing files for glm4:9b:  90%|████████████████████████████████████████████████████████████████████▏       | 87/97 [1:19:32<03:37, 21.74s/it, file=CJG - wyrownana plus wierszyk.txt, summaries_count=5, time=20.08 seconds]\u001b[A\u001b[A"
     ]
    },
    {
     "name": "stdout",
     "output_type": "stream",
     "text": [
      "Record already exists: voiceapp\\output\\summaries_folder\\glm4_9b_20241213_192515\\CJG - zarobki 1-summary_1.txt -> C:/Users/G/Documents/GitHub/audycje.com.pl/content/audio\\shorts\\CJG - zarobki 1.txt\n",
      "Record already exists: voiceapp\\output\\summaries_folder\\glm4_9b_20241213_192515\\CJG - zarobki 1-summary_2.txt -> C:/Users/G/Documents/GitHub/audycje.com.pl/content/audio\\shorts\\CJG - zarobki 1.txt\n",
      "Record already exists: voiceapp\\output\\summaries_folder\\glm4_9b_20241213_192515\\CJG - zarobki 1-summary_3.txt -> C:/Users/G/Documents/GitHub/audycje.com.pl/content/audio\\shorts\\CJG - zarobki 1.txt\n",
      "Record already exists: voiceapp\\output\\summaries_folder\\glm4_9b_20241213_192515\\CJG - zarobki 1-summary_4.txt -> C:/Users/G/Documents/GitHub/audycje.com.pl/content/audio\\shorts\\CJG - zarobki 1.txt\n"
     ]
    },
    {
     "name": "stderr",
     "output_type": "stream",
     "text": [
      "\n",
      "\n",
      "Summarizing files for glm4:9b:  91%|████████████████████████████████████████████████████████████████████▉       | 88/97 [1:20:15<04:12, 28.00s/it, file=CJG - wyrownana plus wierszyk.txt, summaries_count=5, time=20.08 seconds]\u001b[A\u001b[A\n",
      "\n",
      "Summarizing files for glm4:9b:  91%|████████████████████████████████████████████████████████████████████████████████▋        | 88/97 [1:20:15<04:12, 28.00s/it, file=CJG - zarobki 1.txt, summaries_count=10, time=42.63 seconds]\u001b[A\u001b[A"
     ]
    },
    {
     "name": "stdout",
     "output_type": "stream",
     "text": [
      "Record already exists: voiceapp\\output\\summaries_folder\\glm4_9b_20241213_192515\\CJG - zarobki 1-summary_5.txt -> C:/Users/G/Documents/GitHub/audycje.com.pl/content/audio\\shorts\\CJG - zarobki 1.txt\n"
     ]
    },
    {
     "name": "stderr",
     "output_type": "stream",
     "text": [
      "\n",
      "\n",
      "Summarizing files for glm4:9b:  92%|█████████████████████████████████████████████████████████████████████████████████▋       | 89/97 [1:20:33<03:20, 25.01s/it, file=CJG - zarobki 1.txt, summaries_count=10, time=42.63 seconds]\u001b[A\u001b[A\n",
      "\n",
      "Summarizing files for glm4:9b:  92%|███████████████████████████████████████████████████████████████████████▌      | 89/97 [1:20:33<03:20, 25.01s/it, file=CJG - zasoby strategiczne 1.txt, summaries_count=5, time=18.03 seconds]\u001b[A\u001b[A"
     ]
    },
    {
     "name": "stdout",
     "output_type": "stream",
     "text": [
      "Record already exists: voiceapp\\output\\summaries_folder\\glm4_9b_20241213_192515\\CJG - zus 1-summary_1.txt -> C:/Users/G/Documents/GitHub/audycje.com.pl/content/audio\\shorts\\CJG - zus 1.txt\n",
      "Record already exists: voiceapp\\output\\summaries_folder\\glm4_9b_20241213_192515\\CJG - zus 1-summary_2.txt -> C:/Users/G/Documents/GitHub/audycje.com.pl/content/audio\\shorts\\CJG - zus 1.txt\n",
      "Record already exists: voiceapp\\output\\summaries_folder\\glm4_9b_20241213_192515\\CJG - zus 1-summary_3.txt -> C:/Users/G/Documents/GitHub/audycje.com.pl/content/audio\\shorts\\CJG - zus 1.txt\n",
      "Record already exists: voiceapp\\output\\summaries_folder\\glm4_9b_20241213_192515\\CJG - zus 1-summary_4.txt -> C:/Users/G/Documents/GitHub/audycje.com.pl/content/audio\\shorts\\CJG - zus 1.txt\n"
     ]
    },
    {
     "name": "stderr",
     "output_type": "stream",
     "text": [
      "\n",
      "\n",
      "Summarizing files for glm4:9b:  93%|████████████████████████████████████████████████████████████████████████▎     | 90/97 [1:21:16<03:32, 30.36s/it, file=CJG - zasoby strategiczne 1.txt, summaries_count=5, time=18.03 seconds]\u001b[A\u001b[A\n",
      "\n",
      "Summarizing files for glm4:9b:  93%|██████████████████████████████████████████████████████████████████████████████████████▎      | 90/97 [1:21:16<06:19, 54.18s/it, file=CJG - zus 1.txt, summaries_count=10, time=42.83 seconds]\u001b[A\u001b[A\n"
     ]
    },
    {
     "name": "stdout",
     "output_type": "stream",
     "text": [
      "Record already exists: voiceapp\\output\\summaries_folder\\glm4_9b_20241213_192515\\CJG - zus 1-summary_5.txt -> C:/Users/G/Documents/GitHub/audycje.com.pl/content/audio\\shorts\\CJG - zus 1.txt\n"
     ]
    },
    {
     "name": "stderr",
     "output_type": "stream",
     "text": [
      "\n",
      "\n",
      "Summarizing files for qwen2.5:7b:   0%|                                                                                                                                                                   | 0/97 [00:00<?, ?it/s]\u001b[A\u001b[A"
     ]
    },
    {
     "name": "stdout",
     "output_type": "stream",
     "text": [
      "Record already exists: voiceapp\\output\\summaries_folder\\qwen2.5_7b_20241213_204631\\CJG_01_2023_01_14-summary_1.txt -> C:/Users/G/Documents/GitHub/audycje.com.pl/content/audio\\CJG_01_2023_01_14.txt\n",
      "Record already exists: voiceapp\\output\\summaries_folder\\qwen2.5_7b_20241213_204631\\CJG_01_2023_01_14-summary_2.txt -> C:/Users/G/Documents/GitHub/audycje.com.pl/content/audio\\CJG_01_2023_01_14.txt\n",
      "Record already exists: voiceapp\\output\\summaries_folder\\qwen2.5_7b_20241213_204631\\CJG_01_2023_01_14-summary_3.txt -> C:/Users/G/Documents/GitHub/audycje.com.pl/content/audio\\CJG_01_2023_01_14.txt\n",
      "Record already exists: voiceapp\\output\\summaries_folder\\qwen2.5_7b_20241213_204631\\CJG_01_2023_01_14-summary_4.txt -> C:/Users/G/Documents/GitHub/audycje.com.pl/content/audio\\CJG_01_2023_01_14.txt\n",
      "Record already exists: voiceapp\\output\\summaries_folder\\qwen2.5_7b_20241213_204631\\CJG_01_2023_01_14-summary_5.txt -> C:/Users/G/Documents/GitHub/audycje.com.pl/content/audio\\CJG_01_2023_01_14.txt\n",
      "Record already exists: voiceapp\\output\\summaries_folder\\qwen2.5_7b_20241213_204631\\CJG_01_2023_01_14-summary_1.txt -> C:/Users/G/Documents/GitHub/audycje.com.pl/content/audio\\CJG_01_2023_01_14.txt\n",
      "Record already exists: voiceapp\\output\\summaries_folder\\qwen2.5_7b_20241213_204631\\CJG_01_2023_01_14-summary_2.txt -> C:/Users/G/Documents/GitHub/audycje.com.pl/content/audio\\CJG_01_2023_01_14.txt\n",
      "Record already exists: voiceapp\\output\\summaries_folder\\qwen2.5_7b_20241213_204631\\CJG_01_2023_01_14-summary_3.txt -> C:/Users/G/Documents/GitHub/audycje.com.pl/content/audio\\CJG_01_2023_01_14.txt\n",
      "Record already exists: voiceapp\\output\\summaries_folder\\qwen2.5_7b_20241213_204631\\CJG_01_2023_01_14-summary_4.txt -> C:/Users/G/Documents/GitHub/audycje.com.pl/content/audio\\CJG_01_2023_01_14.txt\n"
     ]
    },
    {
     "name": "stderr",
     "output_type": "stream",
     "text": [
      "\n",
      "\n",
      "Summarizing files for qwen2.5:7b:   1%|█▌                                                                                                                                                       | 1/97 [01:18<2:04:49, 78.02s/it]\u001b[A\u001b[A\n",
      "\n",
      "Summarizing files for qwen2.5:7b:   1%|▉                                                                                    | 1/97 [01:18<2:04:49, 78.02s/it, file=CJG_01_2023_01_14.txt, summaries_count=15, time=78.02 seconds]\u001b[A\u001b[A"
     ]
    },
    {
     "name": "stdout",
     "output_type": "stream",
     "text": [
      "Record already exists: voiceapp\\output\\summaries_folder\\qwen2.5_7b_20241213_204631\\CJG_01_2023_01_14-summary_5.txt -> C:/Users/G/Documents/GitHub/audycje.com.pl/content/audio\\CJG_01_2023_01_14.txt\n",
      "Record already exists: voiceapp\\output\\summaries_folder\\qwen2.5_7b_20241213_204631\\CJG_02_2023_01_21-summary_1.txt -> C:/Users/G/Documents/GitHub/audycje.com.pl/content/audio\\CJG_02_2023_01_21.txt\n",
      "Record already exists: voiceapp\\output\\summaries_folder\\qwen2.5_7b_20241213_204631\\CJG_02_2023_01_21-summary_2.txt -> C:/Users/G/Documents/GitHub/audycje.com.pl/content/audio\\CJG_02_2023_01_21.txt\n",
      "Record already exists: voiceapp\\output\\summaries_folder\\qwen2.5_7b_20241213_204631\\CJG_02_2023_01_21-summary_3.txt -> C:/Users/G/Documents/GitHub/audycje.com.pl/content/audio\\CJG_02_2023_01_21.txt\n",
      "Record already exists: voiceapp\\output\\summaries_folder\\qwen2.5_7b_20241213_204631\\CJG_02_2023_01_21-summary_4.txt -> C:/Users/G/Documents/GitHub/audycje.com.pl/content/audio\\CJG_02_2023_01_21.txt\n"
     ]
    },
    {
     "name": "stderr",
     "output_type": "stream",
     "text": [
      "\n",
      "\n",
      "Summarizing files for qwen2.5:7b:   2%|█▊                                                                                   | 2/97 [02:08<1:37:55, 61.85s/it, file=CJG_01_2023_01_14.txt, summaries_count=15, time=78.02 seconds]\u001b[A\u001b[A\n",
      "\n",
      "Summarizing files for qwen2.5:7b:   2%|█▊                                                                                   | 2/97 [02:08<1:37:55, 61.85s/it, file=CJG_02_2023_01_21.txt, summaries_count=10, time=50.53 seconds]\u001b[A\u001b[A"
     ]
    },
    {
     "name": "stdout",
     "output_type": "stream",
     "text": [
      "Record already exists: voiceapp\\output\\summaries_folder\\qwen2.5_7b_20241213_204631\\CJG_02_2023_01_21-summary_5.txt -> C:/Users/G/Documents/GitHub/audycje.com.pl/content/audio\\CJG_02_2023_01_21.txt\n",
      "Record already exists: voiceapp\\output\\summaries_folder\\qwen2.5_7b_20241213_204631\\CJG_03_2023_01_28-summary_1.txt -> C:/Users/G/Documents/GitHub/audycje.com.pl/content/audio\\CJG_03_2023_01_28.txt\n",
      "Record already exists: voiceapp\\output\\summaries_folder\\qwen2.5_7b_20241213_204631\\CJG_03_2023_01_28-summary_2.txt -> C:/Users/G/Documents/GitHub/audycje.com.pl/content/audio\\CJG_03_2023_01_28.txt\n",
      "Record already exists: voiceapp\\output\\summaries_folder\\qwen2.5_7b_20241213_204631\\CJG_03_2023_01_28-summary_3.txt -> C:/Users/G/Documents/GitHub/audycje.com.pl/content/audio\\CJG_03_2023_01_28.txt\n",
      "Record already exists: voiceapp\\output\\summaries_folder\\qwen2.5_7b_20241213_204631\\CJG_03_2023_01_28-summary_4.txt -> C:/Users/G/Documents/GitHub/audycje.com.pl/content/audio\\CJG_03_2023_01_28.txt\n",
      "Record already exists: voiceapp\\output\\summaries_folder\\qwen2.5_7b_20241213_204631\\CJG_03_2023_01_28-summary_5.txt -> C:/Users/G/Documents/GitHub/audycje.com.pl/content/audio\\CJG_03_2023_01_28.txt\n",
      "Record already exists: voiceapp\\output\\summaries_folder\\qwen2.5_7b_20241213_204631\\CJG_03_2023_01_28-summary_1.txt -> C:/Users/G/Documents/GitHub/audycje.com.pl/content/audio\\CJG_03_2023_01_28.txt\n",
      "Record already exists: voiceapp\\output\\summaries_folder\\qwen2.5_7b_20241213_204631\\CJG_03_2023_01_28-summary_2.txt -> C:/Users/G/Documents/GitHub/audycje.com.pl/content/audio\\CJG_03_2023_01_28.txt\n",
      "Record already exists: voiceapp\\output\\summaries_folder\\qwen2.5_7b_20241213_204631\\CJG_03_2023_01_28-summary_3.txt -> C:/Users/G/Documents/GitHub/audycje.com.pl/content/audio\\CJG_03_2023_01_28.txt\n",
      "Record already exists: voiceapp\\output\\summaries_folder\\qwen2.5_7b_20241213_204631\\CJG_03_2023_01_28-summary_4.txt -> C:/Users/G/Documents/GitHub/audycje.com.pl/content/audio\\CJG_03_2023_01_28.txt\n"
     ]
    },
    {
     "name": "stderr",
     "output_type": "stream",
     "text": [
      "\n",
      "\n",
      "Summarizing files for qwen2.5:7b:   3%|██▋                                                                                  | 3/97 [03:15<1:40:19, 64.04s/it, file=CJG_02_2023_01_21.txt, summaries_count=10, time=50.53 seconds]\u001b[A\u001b[A\n",
      "\n",
      "Summarizing files for qwen2.5:7b:   3%|██▋                                                                                  | 3/97 [03:15<1:40:19, 64.04s/it, file=CJG_03_2023_01_28.txt, summaries_count=15, time=66.64 seconds]\u001b[A\u001b[A"
     ]
    },
    {
     "name": "stdout",
     "output_type": "stream",
     "text": [
      "Record already exists: voiceapp\\output\\summaries_folder\\qwen2.5_7b_20241213_204631\\CJG_03_2023_01_28-summary_5.txt -> C:/Users/G/Documents/GitHub/audycje.com.pl/content/audio\\CJG_03_2023_01_28.txt\n",
      "Record already exists: voiceapp\\output\\summaries_folder\\qwen2.5_7b_20241213_204631\\CJG_04_2023_02_04-summary_1.txt -> C:/Users/G/Documents/GitHub/audycje.com.pl/content/audio\\CJG_04_2023_02_04.txt\n",
      "Record already exists: voiceapp\\output\\summaries_folder\\qwen2.5_7b_20241213_204631\\CJG_04_2023_02_04-summary_2.txt -> C:/Users/G/Documents/GitHub/audycje.com.pl/content/audio\\CJG_04_2023_02_04.txt\n",
      "Record already exists: voiceapp\\output\\summaries_folder\\qwen2.5_7b_20241213_204631\\CJG_04_2023_02_04-summary_3.txt -> C:/Users/G/Documents/GitHub/audycje.com.pl/content/audio\\CJG_04_2023_02_04.txt\n",
      "Record already exists: voiceapp\\output\\summaries_folder\\qwen2.5_7b_20241213_204631\\CJG_04_2023_02_04-summary_4.txt -> C:/Users/G/Documents/GitHub/audycje.com.pl/content/audio\\CJG_04_2023_02_04.txt\n",
      "Record already exists: voiceapp\\output\\summaries_folder\\qwen2.5_7b_20241213_204631\\CJG_04_2023_02_04-summary_5.txt -> C:/Users/G/Documents/GitHub/audycje.com.pl/content/audio\\CJG_04_2023_02_04.txt\n",
      "Record already exists: voiceapp\\output\\summaries_folder\\qwen2.5_7b_20241213_204631\\CJG_04_2023_02_04-summary_1.txt -> C:/Users/G/Documents/GitHub/audycje.com.pl/content/audio\\CJG_04_2023_02_04.txt\n",
      "Record already exists: voiceapp\\output\\summaries_folder\\qwen2.5_7b_20241213_204631\\CJG_04_2023_02_04-summary_2.txt -> C:/Users/G/Documents/GitHub/audycje.com.pl/content/audio\\CJG_04_2023_02_04.txt\n",
      "Record already exists: voiceapp\\output\\summaries_folder\\qwen2.5_7b_20241213_204631\\CJG_04_2023_02_04-summary_3.txt -> C:/Users/G/Documents/GitHub/audycje.com.pl/content/audio\\CJG_04_2023_02_04.txt\n",
      "Record already exists: voiceapp\\output\\summaries_folder\\qwen2.5_7b_20241213_204631\\CJG_04_2023_02_04-summary_4.txt -> C:/Users/G/Documents/GitHub/audycje.com.pl/content/audio\\CJG_04_2023_02_04.txt\n"
     ]
    },
    {
     "name": "stderr",
     "output_type": "stream",
     "text": [
      "\n",
      "\n",
      "Summarizing files for qwen2.5:7b:   4%|███▌                                                                                 | 4/97 [04:25<1:42:52, 66.37s/it, file=CJG_03_2023_01_28.txt, summaries_count=15, time=66.64 seconds]\u001b[A\u001b[A\n",
      "\n",
      "Summarizing files for qwen2.5:7b:   4%|███▌                                                                                 | 4/97 [04:25<1:42:52, 66.37s/it, file=CJG_04_2023_02_04.txt, summaries_count=15, time=69.94 seconds]\u001b[A\u001b[A"
     ]
    },
    {
     "name": "stdout",
     "output_type": "stream",
     "text": [
      "Record already exists: voiceapp\\output\\summaries_folder\\qwen2.5_7b_20241213_204631\\CJG_04_2023_02_04-summary_5.txt -> C:/Users/G/Documents/GitHub/audycje.com.pl/content/audio\\CJG_04_2023_02_04.txt\n",
      "Record already exists: voiceapp\\output\\summaries_folder\\qwen2.5_7b_20241213_204631\\CJG_05_2023_02_11-summary_1.txt -> C:/Users/G/Documents/GitHub/audycje.com.pl/content/audio\\CJG_05_2023_02_11.txt\n",
      "Record already exists: voiceapp\\output\\summaries_folder\\qwen2.5_7b_20241213_204631\\CJG_05_2023_02_11-summary_2.txt -> C:/Users/G/Documents/GitHub/audycje.com.pl/content/audio\\CJG_05_2023_02_11.txt\n",
      "Record already exists: voiceapp\\output\\summaries_folder\\qwen2.5_7b_20241213_204631\\CJG_05_2023_02_11-summary_3.txt -> C:/Users/G/Documents/GitHub/audycje.com.pl/content/audio\\CJG_05_2023_02_11.txt\n",
      "Record already exists: voiceapp\\output\\summaries_folder\\qwen2.5_7b_20241213_204631\\CJG_05_2023_02_11-summary_4.txt -> C:/Users/G/Documents/GitHub/audycje.com.pl/content/audio\\CJG_05_2023_02_11.txt\n",
      "Record already exists: voiceapp\\output\\summaries_folder\\qwen2.5_7b_20241213_204631\\CJG_05_2023_02_11-summary_5.txt -> C:/Users/G/Documents/GitHub/audycje.com.pl/content/audio\\CJG_05_2023_02_11.txt\n",
      "Record already exists: voiceapp\\output\\summaries_folder\\qwen2.5_7b_20241213_204631\\CJG_05_2023_02_11-summary_1.txt -> C:/Users/G/Documents/GitHub/audycje.com.pl/content/audio\\CJG_05_2023_02_11.txt\n",
      "Record already exists: voiceapp\\output\\summaries_folder\\qwen2.5_7b_20241213_204631\\CJG_05_2023_02_11-summary_2.txt -> C:/Users/G/Documents/GitHub/audycje.com.pl/content/audio\\CJG_05_2023_02_11.txt\n",
      "Record already exists: voiceapp\\output\\summaries_folder\\qwen2.5_7b_20241213_204631\\CJG_05_2023_02_11-summary_3.txt -> C:/Users/G/Documents/GitHub/audycje.com.pl/content/audio\\CJG_05_2023_02_11.txt\n",
      "Record already exists: voiceapp\\output\\summaries_folder\\qwen2.5_7b_20241213_204631\\CJG_05_2023_02_11-summary_4.txt -> C:/Users/G/Documents/GitHub/audycje.com.pl/content/audio\\CJG_05_2023_02_11.txt\n"
     ]
    },
    {
     "name": "stderr",
     "output_type": "stream",
     "text": [
      "\n",
      "\n",
      "Summarizing files for qwen2.5:7b:   5%|████▎                                                                               | 5/97 [17:45<8:27:38, 331.07s/it, file=CJG_04_2023_02_04.txt, summaries_count=15, time=69.94 seconds]\u001b[A\u001b[A\n",
      "\n",
      "Summarizing files for qwen2.5:7b:   5%|████▎                                                                              | 5/97 [17:45<8:27:38, 331.07s/it, file=CJG_05_2023_02_11.txt, summaries_count=15, time=800.41 seconds]\u001b[A\u001b[A"
     ]
    },
    {
     "name": "stdout",
     "output_type": "stream",
     "text": [
      "Record already exists: voiceapp\\output\\summaries_folder\\qwen2.5_7b_20241213_204631\\CJG_05_2023_02_11-summary_5.txt -> C:/Users/G/Documents/GitHub/audycje.com.pl/content/audio\\CJG_05_2023_02_11.txt\n",
      "Record already exists: voiceapp\\output\\summaries_folder\\qwen2.5_7b_20241213_204631\\CJG_06_2023_02_18-summary_1.txt -> C:/Users/G/Documents/GitHub/audycje.com.pl/content/audio\\CJG_06_2023_02_18.txt\n",
      "Record already exists: voiceapp\\output\\summaries_folder\\qwen2.5_7b_20241213_204631\\CJG_06_2023_02_18-summary_2.txt -> C:/Users/G/Documents/GitHub/audycje.com.pl/content/audio\\CJG_06_2023_02_18.txt\n",
      "Record already exists: voiceapp\\output\\summaries_folder\\qwen2.5_7b_20241213_204631\\CJG_06_2023_02_18-summary_3.txt -> C:/Users/G/Documents/GitHub/audycje.com.pl/content/audio\\CJG_06_2023_02_18.txt\n",
      "Record already exists: voiceapp\\output\\summaries_folder\\qwen2.5_7b_20241213_204631\\CJG_06_2023_02_18-summary_4.txt -> C:/Users/G/Documents/GitHub/audycje.com.pl/content/audio\\CJG_06_2023_02_18.txt\n",
      "Record already exists: voiceapp\\output\\summaries_folder\\qwen2.5_7b_20241213_204631\\CJG_06_2023_02_18-summary_5.txt -> C:/Users/G/Documents/GitHub/audycje.com.pl/content/audio\\CJG_06_2023_02_18.txt\n",
      "Record already exists: voiceapp\\output\\summaries_folder\\qwen2.5_7b_20241213_204631\\CJG_06_2023_02_18-summary_1.txt -> C:/Users/G/Documents/GitHub/audycje.com.pl/content/audio\\CJG_06_2023_02_18.txt\n",
      "Record already exists: voiceapp\\output\\summaries_folder\\qwen2.5_7b_20241213_204631\\CJG_06_2023_02_18-summary_2.txt -> C:/Users/G/Documents/GitHub/audycje.com.pl/content/audio\\CJG_06_2023_02_18.txt\n",
      "Record already exists: voiceapp\\output\\summaries_folder\\qwen2.5_7b_20241213_204631\\CJG_06_2023_02_18-summary_3.txt -> C:/Users/G/Documents/GitHub/audycje.com.pl/content/audio\\CJG_06_2023_02_18.txt\n",
      "Record already exists: voiceapp\\output\\summaries_folder\\qwen2.5_7b_20241213_204631\\CJG_06_2023_02_18-summary_4.txt -> C:/Users/G/Documents/GitHub/audycje.com.pl/content/audio\\CJG_06_2023_02_18.txt\n"
     ]
    },
    {
     "name": "stderr",
     "output_type": "stream",
     "text": [
      "\n",
      "\n",
      "Summarizing files for qwen2.5:7b:   6%|█████▏                                                                             | 6/97 [19:06<6:12:59, 245.93s/it, file=CJG_05_2023_02_11.txt, summaries_count=15, time=800.41 seconds]\u001b[A\u001b[A\n",
      "\n",
      "Summarizing files for qwen2.5:7b:   6%|█████▏                                                                              | 6/97 [19:06<6:12:59, 245.93s/it, file=CJG_06_2023_02_18.txt, summaries_count=15, time=80.65 seconds]\u001b[A\u001b[A"
     ]
    },
    {
     "name": "stdout",
     "output_type": "stream",
     "text": [
      "Record already exists: voiceapp\\output\\summaries_folder\\qwen2.5_7b_20241213_204631\\CJG_06_2023_02_18-summary_5.txt -> C:/Users/G/Documents/GitHub/audycje.com.pl/content/audio\\CJG_06_2023_02_18.txt\n",
      "Record already exists: voiceapp\\output\\summaries_folder\\qwen2.5_7b_20241213_204631\\CJG_07_2023_02_25-summary_1.txt -> C:/Users/G/Documents/GitHub/audycje.com.pl/content/audio\\CJG_07_2023_02_25.txt\n",
      "Record already exists: voiceapp\\output\\summaries_folder\\qwen2.5_7b_20241213_204631\\CJG_07_2023_02_25-summary_2.txt -> C:/Users/G/Documents/GitHub/audycje.com.pl/content/audio\\CJG_07_2023_02_25.txt\n",
      "Record already exists: voiceapp\\output\\summaries_folder\\qwen2.5_7b_20241213_204631\\CJG_07_2023_02_25-summary_3.txt -> C:/Users/G/Documents/GitHub/audycje.com.pl/content/audio\\CJG_07_2023_02_25.txt\n",
      "Record already exists: voiceapp\\output\\summaries_folder\\qwen2.5_7b_20241213_204631\\CJG_07_2023_02_25-summary_4.txt -> C:/Users/G/Documents/GitHub/audycje.com.pl/content/audio\\CJG_07_2023_02_25.txt\n",
      "Record already exists: voiceapp\\output\\summaries_folder\\qwen2.5_7b_20241213_204631\\CJG_07_2023_02_25-summary_5.txt -> C:/Users/G/Documents/GitHub/audycje.com.pl/content/audio\\CJG_07_2023_02_25.txt\n",
      "Record already exists: voiceapp\\output\\summaries_folder\\qwen2.5_7b_20241213_204631\\CJG_07_2023_02_25-summary_1.txt -> C:/Users/G/Documents/GitHub/audycje.com.pl/content/audio\\CJG_07_2023_02_25.txt\n",
      "Record already exists: voiceapp\\output\\summaries_folder\\qwen2.5_7b_20241213_204631\\CJG_07_2023_02_25-summary_2.txt -> C:/Users/G/Documents/GitHub/audycje.com.pl/content/audio\\CJG_07_2023_02_25.txt\n",
      "Record already exists: voiceapp\\output\\summaries_folder\\qwen2.5_7b_20241213_204631\\CJG_07_2023_02_25-summary_3.txt -> C:/Users/G/Documents/GitHub/audycje.com.pl/content/audio\\CJG_07_2023_02_25.txt\n",
      "Record already exists: voiceapp\\output\\summaries_folder\\qwen2.5_7b_20241213_204631\\CJG_07_2023_02_25-summary_4.txt -> C:/Users/G/Documents/GitHub/audycje.com.pl/content/audio\\CJG_07_2023_02_25.txt\n",
      "Record already exists: voiceapp\\output\\summaries_folder\\qwen2.5_7b_20241213_204631\\CJG_07_2023_02_25-summary_5.txt -> C:/Users/G/Documents/GitHub/audycje.com.pl/content/audio\\CJG_07_2023_02_25.txt\n",
      "Record already exists: voiceapp\\output\\summaries_folder\\qwen2.5_7b_20241213_204631\\CJG_07_2023_02_25-summary_1.txt -> C:/Users/G/Documents/GitHub/audycje.com.pl/content/audio\\CJG_07_2023_02_25.txt\n",
      "Record already exists: voiceapp\\output\\summaries_folder\\qwen2.5_7b_20241213_204631\\CJG_07_2023_02_25-summary_2.txt -> C:/Users/G/Documents/GitHub/audycje.com.pl/content/audio\\CJG_07_2023_02_25.txt\n",
      "Record already exists: voiceapp\\output\\summaries_folder\\qwen2.5_7b_20241213_204631\\CJG_07_2023_02_25-summary_3.txt -> C:/Users/G/Documents/GitHub/audycje.com.pl/content/audio\\CJG_07_2023_02_25.txt\n",
      "Record already exists: voiceapp\\output\\summaries_folder\\qwen2.5_7b_20241213_204631\\CJG_07_2023_02_25-summary_4.txt -> C:/Users/G/Documents/GitHub/audycje.com.pl/content/audio\\CJG_07_2023_02_25.txt\n"
     ]
    },
    {
     "name": "stderr",
     "output_type": "stream",
     "text": [
      "\n",
      "\n",
      "Summarizing files for qwen2.5:7b:   7%|██████                                                                              | 7/97 [20:34<4:51:22, 194.25s/it, file=CJG_06_2023_02_18.txt, summaries_count=15, time=80.65 seconds]\u001b[A\u001b[A\n",
      "\n",
      "Summarizing files for qwen2.5:7b:   7%|██████                                                                              | 7/97 [20:34<4:51:22, 194.25s/it, file=CJG_07_2023_02_25.txt, summaries_count=20, time=87.87 seconds]\u001b[A\u001b[A"
     ]
    },
    {
     "name": "stdout",
     "output_type": "stream",
     "text": [
      "Record already exists: voiceapp\\output\\summaries_folder\\qwen2.5_7b_20241213_204631\\CJG_07_2023_02_25-summary_5.txt -> C:/Users/G/Documents/GitHub/audycje.com.pl/content/audio\\CJG_07_2023_02_25.txt\n",
      "Record already exists: voiceapp\\output\\summaries_folder\\qwen2.5_7b_20241213_204631\\CJG_08_2023_03_04-summary_1.txt -> C:/Users/G/Documents/GitHub/audycje.com.pl/content/audio\\CJG_08_2023_03_04.txt\n",
      "Record already exists: voiceapp\\output\\summaries_folder\\qwen2.5_7b_20241213_204631\\CJG_08_2023_03_04-summary_2.txt -> C:/Users/G/Documents/GitHub/audycje.com.pl/content/audio\\CJG_08_2023_03_04.txt\n",
      "Record already exists: voiceapp\\output\\summaries_folder\\qwen2.5_7b_20241213_204631\\CJG_08_2023_03_04-summary_3.txt -> C:/Users/G/Documents/GitHub/audycje.com.pl/content/audio\\CJG_08_2023_03_04.txt\n",
      "Record already exists: voiceapp\\output\\summaries_folder\\qwen2.5_7b_20241213_204631\\CJG_08_2023_03_04-summary_4.txt -> C:/Users/G/Documents/GitHub/audycje.com.pl/content/audio\\CJG_08_2023_03_04.txt\n",
      "Record already exists: voiceapp\\output\\summaries_folder\\qwen2.5_7b_20241213_204631\\CJG_08_2023_03_04-summary_5.txt -> C:/Users/G/Documents/GitHub/audycje.com.pl/content/audio\\CJG_08_2023_03_04.txt\n",
      "Record already exists: voiceapp\\output\\summaries_folder\\qwen2.5_7b_20241213_204631\\CJG_08_2023_03_04-summary_1.txt -> C:/Users/G/Documents/GitHub/audycje.com.pl/content/audio\\CJG_08_2023_03_04.txt\n",
      "Record already exists: voiceapp\\output\\summaries_folder\\qwen2.5_7b_20241213_204631\\CJG_08_2023_03_04-summary_2.txt -> C:/Users/G/Documents/GitHub/audycje.com.pl/content/audio\\CJG_08_2023_03_04.txt\n",
      "Record already exists: voiceapp\\output\\summaries_folder\\qwen2.5_7b_20241213_204631\\CJG_08_2023_03_04-summary_3.txt -> C:/Users/G/Documents/GitHub/audycje.com.pl/content/audio\\CJG_08_2023_03_04.txt\n",
      "Record already exists: voiceapp\\output\\summaries_folder\\qwen2.5_7b_20241213_204631\\CJG_08_2023_03_04-summary_4.txt -> C:/Users/G/Documents/GitHub/audycje.com.pl/content/audio\\CJG_08_2023_03_04.txt\n"
     ]
    },
    {
     "name": "stderr",
     "output_type": "stream",
     "text": [
      "\n",
      "\n",
      "Summarizing files for qwen2.5:7b:   8%|██████▉                                                                             | 8/97 [22:04<3:59:05, 161.18s/it, file=CJG_07_2023_02_25.txt, summaries_count=20, time=87.87 seconds]\u001b[A\u001b[A\n",
      "\n",
      "Summarizing files for qwen2.5:7b:   8%|██████▉                                                                             | 8/97 [22:04<3:59:05, 161.18s/it, file=CJG_08_2023_03_04.txt, summaries_count=15, time=90.37 seconds]\u001b[A\u001b[A"
     ]
    },
    {
     "name": "stdout",
     "output_type": "stream",
     "text": [
      "Record already exists: voiceapp\\output\\summaries_folder\\qwen2.5_7b_20241213_204631\\CJG_08_2023_03_04-summary_5.txt -> C:/Users/G/Documents/GitHub/audycje.com.pl/content/audio\\CJG_08_2023_03_04.txt\n",
      "Record already exists: voiceapp\\output\\summaries_folder\\qwen2.5_7b_20241213_204631\\CJG_09_2023_03_11-summary_1.txt -> C:/Users/G/Documents/GitHub/audycje.com.pl/content/audio\\CJG_09_2023_03_11.txt\n",
      "Record already exists: voiceapp\\output\\summaries_folder\\qwen2.5_7b_20241213_204631\\CJG_09_2023_03_11-summary_2.txt -> C:/Users/G/Documents/GitHub/audycje.com.pl/content/audio\\CJG_09_2023_03_11.txt\n",
      "Record already exists: voiceapp\\output\\summaries_folder\\qwen2.5_7b_20241213_204631\\CJG_09_2023_03_11-summary_3.txt -> C:/Users/G/Documents/GitHub/audycje.com.pl/content/audio\\CJG_09_2023_03_11.txt\n",
      "Record already exists: voiceapp\\output\\summaries_folder\\qwen2.5_7b_20241213_204631\\CJG_09_2023_03_11-summary_4.txt -> C:/Users/G/Documents/GitHub/audycje.com.pl/content/audio\\CJG_09_2023_03_11.txt\n",
      "Record already exists: voiceapp\\output\\summaries_folder\\qwen2.5_7b_20241213_204631\\CJG_09_2023_03_11-summary_5.txt -> C:/Users/G/Documents/GitHub/audycje.com.pl/content/audio\\CJG_09_2023_03_11.txt\n",
      "Record already exists: voiceapp\\output\\summaries_folder\\qwen2.5_7b_20241213_204631\\CJG_09_2023_03_11-summary_1.txt -> C:/Users/G/Documents/GitHub/audycje.com.pl/content/audio\\CJG_09_2023_03_11.txt\n",
      "Record already exists: voiceapp\\output\\summaries_folder\\qwen2.5_7b_20241213_204631\\CJG_09_2023_03_11-summary_2.txt -> C:/Users/G/Documents/GitHub/audycje.com.pl/content/audio\\CJG_09_2023_03_11.txt\n",
      "Record already exists: voiceapp\\output\\summaries_folder\\qwen2.5_7b_20241213_204631\\CJG_09_2023_03_11-summary_3.txt -> C:/Users/G/Documents/GitHub/audycje.com.pl/content/audio\\CJG_09_2023_03_11.txt\n",
      "Record already exists: voiceapp\\output\\summaries_folder\\qwen2.5_7b_20241213_204631\\CJG_09_2023_03_11-summary_4.txt -> C:/Users/G/Documents/GitHub/audycje.com.pl/content/audio\\CJG_09_2023_03_11.txt\n"
     ]
    },
    {
     "name": "stderr",
     "output_type": "stream",
     "text": [
      "\n",
      "\n",
      "Summarizing files for qwen2.5:7b:   9%|███████▊                                                                            | 9/97 [23:17<3:15:58, 133.62s/it, file=CJG_08_2023_03_04.txt, summaries_count=15, time=90.37 seconds]\u001b[A\u001b[A\n",
      "\n",
      "Summarizing files for qwen2.5:7b:   9%|███████▊                                                                            | 9/97 [23:17<3:15:58, 133.62s/it, file=CJG_09_2023_03_11.txt, summaries_count=15, time=73.01 seconds]\u001b[A\u001b[A"
     ]
    },
    {
     "name": "stdout",
     "output_type": "stream",
     "text": [
      "Record already exists: voiceapp\\output\\summaries_folder\\qwen2.5_7b_20241213_204631\\CJG_09_2023_03_11-summary_5.txt -> C:/Users/G/Documents/GitHub/audycje.com.pl/content/audio\\CJG_09_2023_03_11.txt\n",
      "Record already exists: voiceapp\\output\\summaries_folder\\qwen2.5_7b_20241213_204631\\CJG_10_2023_03_18-summary_1.txt -> C:/Users/G/Documents/GitHub/audycje.com.pl/content/audio\\CJG_10_2023_03_18.txt\n",
      "Record already exists: voiceapp\\output\\summaries_folder\\qwen2.5_7b_20241213_204631\\CJG_10_2023_03_18-summary_2.txt -> C:/Users/G/Documents/GitHub/audycje.com.pl/content/audio\\CJG_10_2023_03_18.txt\n",
      "Record already exists: voiceapp\\output\\summaries_folder\\qwen2.5_7b_20241213_204631\\CJG_10_2023_03_18-summary_3.txt -> C:/Users/G/Documents/GitHub/audycje.com.pl/content/audio\\CJG_10_2023_03_18.txt\n",
      "Record already exists: voiceapp\\output\\summaries_folder\\qwen2.5_7b_20241213_204631\\CJG_10_2023_03_18-summary_4.txt -> C:/Users/G/Documents/GitHub/audycje.com.pl/content/audio\\CJG_10_2023_03_18.txt\n",
      "Record already exists: voiceapp\\output\\summaries_folder\\qwen2.5_7b_20241213_204631\\CJG_10_2023_03_18-summary_5.txt -> C:/Users/G/Documents/GitHub/audycje.com.pl/content/audio\\CJG_10_2023_03_18.txt\n",
      "Record already exists: voiceapp\\output\\summaries_folder\\qwen2.5_7b_20241213_204631\\CJG_10_2023_03_18-summary_1.txt -> C:/Users/G/Documents/GitHub/audycje.com.pl/content/audio\\CJG_10_2023_03_18.txt\n",
      "Record already exists: voiceapp\\output\\summaries_folder\\qwen2.5_7b_20241213_204631\\CJG_10_2023_03_18-summary_2.txt -> C:/Users/G/Documents/GitHub/audycje.com.pl/content/audio\\CJG_10_2023_03_18.txt\n",
      "Record already exists: voiceapp\\output\\summaries_folder\\qwen2.5_7b_20241213_204631\\CJG_10_2023_03_18-summary_3.txt -> C:/Users/G/Documents/GitHub/audycje.com.pl/content/audio\\CJG_10_2023_03_18.txt\n",
      "Record already exists: voiceapp\\output\\summaries_folder\\qwen2.5_7b_20241213_204631\\CJG_10_2023_03_18-summary_4.txt -> C:/Users/G/Documents/GitHub/audycje.com.pl/content/audio\\CJG_10_2023_03_18.txt\n",
      "Record already exists: voiceapp\\output\\summaries_folder\\qwen2.5_7b_20241213_204631\\CJG_10_2023_03_18-summary_5.txt -> C:/Users/G/Documents/GitHub/audycje.com.pl/content/audio\\CJG_10_2023_03_18.txt\n",
      "Record already exists: voiceapp\\output\\summaries_folder\\qwen2.5_7b_20241213_204631\\CJG_10_2023_03_18-summary_1.txt -> C:/Users/G/Documents/GitHub/audycje.com.pl/content/audio\\CJG_10_2023_03_18.txt\n",
      "Record already exists: voiceapp\\output\\summaries_folder\\qwen2.5_7b_20241213_204631\\CJG_10_2023_03_18-summary_2.txt -> C:/Users/G/Documents/GitHub/audycje.com.pl/content/audio\\CJG_10_2023_03_18.txt\n",
      "Record already exists: voiceapp\\output\\summaries_folder\\qwen2.5_7b_20241213_204631\\CJG_10_2023_03_18-summary_3.txt -> C:/Users/G/Documents/GitHub/audycje.com.pl/content/audio\\CJG_10_2023_03_18.txt\n",
      "Record already exists: voiceapp\\output\\summaries_folder\\qwen2.5_7b_20241213_204631\\CJG_10_2023_03_18-summary_4.txt -> C:/Users/G/Documents/GitHub/audycje.com.pl/content/audio\\CJG_10_2023_03_18.txt\n"
     ]
    },
    {
     "name": "stderr",
     "output_type": "stream",
     "text": [
      "\n",
      "\n",
      "Summarizing files for qwen2.5:7b:  10%|████████▌                                                                          | 10/97 [24:59<2:59:35, 123.86s/it, file=CJG_09_2023_03_11.txt, summaries_count=15, time=73.01 seconds]\u001b[A\u001b[A\n",
      "\n",
      "Summarizing files for qwen2.5:7b:  10%|████████▍                                                                         | 10/97 [24:59<2:59:35, 123.86s/it, file=CJG_10_2023_03_18.txt, summaries_count=20, time=102.00 seconds]\u001b[A\u001b[A"
     ]
    },
    {
     "name": "stdout",
     "output_type": "stream",
     "text": [
      "Record already exists: voiceapp\\output\\summaries_folder\\qwen2.5_7b_20241213_204631\\CJG_10_2023_03_18-summary_5.txt -> C:/Users/G/Documents/GitHub/audycje.com.pl/content/audio\\CJG_10_2023_03_18.txt\n",
      "Record already exists: voiceapp\\output\\summaries_folder\\qwen2.5_7b_20241213_204631\\CJG_11_2023_03_25-summary_1.txt -> C:/Users/G/Documents/GitHub/audycje.com.pl/content/audio\\CJG_11_2023_03_25.txt\n",
      "Record already exists: voiceapp\\output\\summaries_folder\\qwen2.5_7b_20241213_204631\\CJG_11_2023_03_25-summary_2.txt -> C:/Users/G/Documents/GitHub/audycje.com.pl/content/audio\\CJG_11_2023_03_25.txt\n",
      "Record already exists: voiceapp\\output\\summaries_folder\\qwen2.5_7b_20241213_204631\\CJG_11_2023_03_25-summary_3.txt -> C:/Users/G/Documents/GitHub/audycje.com.pl/content/audio\\CJG_11_2023_03_25.txt\n",
      "Record already exists: voiceapp\\output\\summaries_folder\\qwen2.5_7b_20241213_204631\\CJG_11_2023_03_25-summary_4.txt -> C:/Users/G/Documents/GitHub/audycje.com.pl/content/audio\\CJG_11_2023_03_25.txt\n",
      "Record already exists: voiceapp\\output\\summaries_folder\\qwen2.5_7b_20241213_204631\\CJG_11_2023_03_25-summary_5.txt -> C:/Users/G/Documents/GitHub/audycje.com.pl/content/audio\\CJG_11_2023_03_25.txt\n",
      "Record already exists: voiceapp\\output\\summaries_folder\\qwen2.5_7b_20241213_204631\\CJG_11_2023_03_25-summary_1.txt -> C:/Users/G/Documents/GitHub/audycje.com.pl/content/audio\\CJG_11_2023_03_25.txt\n",
      "Record already exists: voiceapp\\output\\summaries_folder\\qwen2.5_7b_20241213_204631\\CJG_11_2023_03_25-summary_2.txt -> C:/Users/G/Documents/GitHub/audycje.com.pl/content/audio\\CJG_11_2023_03_25.txt\n",
      "Record already exists: voiceapp\\output\\summaries_folder\\qwen2.5_7b_20241213_204631\\CJG_11_2023_03_25-summary_3.txt -> C:/Users/G/Documents/GitHub/audycje.com.pl/content/audio\\CJG_11_2023_03_25.txt\n",
      "Record already exists: voiceapp\\output\\summaries_folder\\qwen2.5_7b_20241213_204631\\CJG_11_2023_03_25-summary_4.txt -> C:/Users/G/Documents/GitHub/audycje.com.pl/content/audio\\CJG_11_2023_03_25.txt\n",
      "Record already exists: voiceapp\\output\\summaries_folder\\qwen2.5_7b_20241213_204631\\CJG_11_2023_03_25-summary_5.txt -> C:/Users/G/Documents/GitHub/audycje.com.pl/content/audio\\CJG_11_2023_03_25.txt\n",
      "Record already exists: voiceapp\\output\\summaries_folder\\qwen2.5_7b_20241213_204631\\CJG_11_2023_03_25-summary_1.txt -> C:/Users/G/Documents/GitHub/audycje.com.pl/content/audio\\CJG_11_2023_03_25.txt\n",
      "Record already exists: voiceapp\\output\\summaries_folder\\qwen2.5_7b_20241213_204631\\CJG_11_2023_03_25-summary_2.txt -> C:/Users/G/Documents/GitHub/audycje.com.pl/content/audio\\CJG_11_2023_03_25.txt\n",
      "Record already exists: voiceapp\\output\\summaries_folder\\qwen2.5_7b_20241213_204631\\CJG_11_2023_03_25-summary_3.txt -> C:/Users/G/Documents/GitHub/audycje.com.pl/content/audio\\CJG_11_2023_03_25.txt\n",
      "Record already exists: voiceapp\\output\\summaries_folder\\qwen2.5_7b_20241213_204631\\CJG_11_2023_03_25-summary_4.txt -> C:/Users/G/Documents/GitHub/audycje.com.pl/content/audio\\CJG_11_2023_03_25.txt\n"
     ]
    },
    {
     "name": "stderr",
     "output_type": "stream",
     "text": [
      "\n",
      "\n",
      "Summarizing files for qwen2.5:7b:  11%|█████████▎                                                                        | 11/97 [26:37<2:46:02, 115.84s/it, file=CJG_10_2023_03_18.txt, summaries_count=20, time=102.00 seconds]\u001b[A\u001b[A\n",
      "\n",
      "Summarizing files for qwen2.5:7b:  11%|█████████▍                                                                         | 11/97 [26:37<2:46:02, 115.84s/it, file=CJG_11_2023_03_25.txt, summaries_count=20, time=97.66 seconds]\u001b[A\u001b[A"
     ]
    },
    {
     "name": "stdout",
     "output_type": "stream",
     "text": [
      "Record already exists: voiceapp\\output\\summaries_folder\\qwen2.5_7b_20241213_204631\\CJG_11_2023_03_25-summary_5.txt -> C:/Users/G/Documents/GitHub/audycje.com.pl/content/audio\\CJG_11_2023_03_25.txt\n",
      "Record already exists: voiceapp\\output\\summaries_folder\\qwen2.5_7b_20241213_204631\\CJG_12_2023_04_01-summary_1.txt -> C:/Users/G/Documents/GitHub/audycje.com.pl/content/audio\\CJG_12_2023_04_01.txt\n",
      "Record already exists: voiceapp\\output\\summaries_folder\\qwen2.5_7b_20241213_204631\\CJG_12_2023_04_01-summary_2.txt -> C:/Users/G/Documents/GitHub/audycje.com.pl/content/audio\\CJG_12_2023_04_01.txt\n",
      "Record already exists: voiceapp\\output\\summaries_folder\\qwen2.5_7b_20241213_204631\\CJG_12_2023_04_01-summary_3.txt -> C:/Users/G/Documents/GitHub/audycje.com.pl/content/audio\\CJG_12_2023_04_01.txt\n",
      "Record already exists: voiceapp\\output\\summaries_folder\\qwen2.5_7b_20241213_204631\\CJG_12_2023_04_01-summary_4.txt -> C:/Users/G/Documents/GitHub/audycje.com.pl/content/audio\\CJG_12_2023_04_01.txt\n",
      "Record already exists: voiceapp\\output\\summaries_folder\\qwen2.5_7b_20241213_204631\\CJG_12_2023_04_01-summary_5.txt -> C:/Users/G/Documents/GitHub/audycje.com.pl/content/audio\\CJG_12_2023_04_01.txt\n",
      "Record already exists: voiceapp\\output\\summaries_folder\\qwen2.5_7b_20241213_204631\\CJG_12_2023_04_01-summary_1.txt -> C:/Users/G/Documents/GitHub/audycje.com.pl/content/audio\\CJG_12_2023_04_01.txt\n",
      "Record already exists: voiceapp\\output\\summaries_folder\\qwen2.5_7b_20241213_204631\\CJG_12_2023_04_01-summary_2.txt -> C:/Users/G/Documents/GitHub/audycje.com.pl/content/audio\\CJG_12_2023_04_01.txt\n",
      "Record already exists: voiceapp\\output\\summaries_folder\\qwen2.5_7b_20241213_204631\\CJG_12_2023_04_01-summary_3.txt -> C:/Users/G/Documents/GitHub/audycje.com.pl/content/audio\\CJG_12_2023_04_01.txt\n",
      "Record already exists: voiceapp\\output\\summaries_folder\\qwen2.5_7b_20241213_204631\\CJG_12_2023_04_01-summary_4.txt -> C:/Users/G/Documents/GitHub/audycje.com.pl/content/audio\\CJG_12_2023_04_01.txt\n",
      "Record already exists: voiceapp\\output\\summaries_folder\\qwen2.5_7b_20241213_204631\\CJG_12_2023_04_01-summary_5.txt -> C:/Users/G/Documents/GitHub/audycje.com.pl/content/audio\\CJG_12_2023_04_01.txt\n",
      "Record already exists: voiceapp\\output\\summaries_folder\\qwen2.5_7b_20241213_204631\\CJG_12_2023_04_01-summary_1.txt -> C:/Users/G/Documents/GitHub/audycje.com.pl/content/audio\\CJG_12_2023_04_01.txt\n",
      "Record already exists: voiceapp\\output\\summaries_folder\\qwen2.5_7b_20241213_204631\\CJG_12_2023_04_01-summary_2.txt -> C:/Users/G/Documents/GitHub/audycje.com.pl/content/audio\\CJG_12_2023_04_01.txt\n",
      "Record already exists: voiceapp\\output\\summaries_folder\\qwen2.5_7b_20241213_204631\\CJG_12_2023_04_01-summary_3.txt -> C:/Users/G/Documents/GitHub/audycje.com.pl/content/audio\\CJG_12_2023_04_01.txt\n",
      "Record already exists: voiceapp\\output\\summaries_folder\\qwen2.5_7b_20241213_204631\\CJG_12_2023_04_01-summary_4.txt -> C:/Users/G/Documents/GitHub/audycje.com.pl/content/audio\\CJG_12_2023_04_01.txt\n"
     ]
    },
    {
     "name": "stderr",
     "output_type": "stream",
     "text": [
      "\n",
      "\n",
      "Summarizing files for qwen2.5:7b:  12%|██████████▎                                                                        | 12/97 [28:11<2:34:40, 109.18s/it, file=CJG_11_2023_03_25.txt, summaries_count=20, time=97.66 seconds]\u001b[A\u001b[A\n",
      "\n",
      "Summarizing files for qwen2.5:7b:  12%|██████████▎                                                                        | 12/97 [28:11<2:34:40, 109.18s/it, file=CJG_12_2023_04_01.txt, summaries_count=20, time=93.95 seconds]\u001b[A\u001b[A"
     ]
    },
    {
     "name": "stdout",
     "output_type": "stream",
     "text": [
      "Record already exists: voiceapp\\output\\summaries_folder\\qwen2.5_7b_20241213_204631\\CJG_12_2023_04_01-summary_5.txt -> C:/Users/G/Documents/GitHub/audycje.com.pl/content/audio\\CJG_12_2023_04_01.txt\n",
      "Record already exists: voiceapp\\output\\summaries_folder\\qwen2.5_7b_20241213_204631\\CJG_13_2023_04_08-summary_1.txt -> C:/Users/G/Documents/GitHub/audycje.com.pl/content/audio\\CJG_13_2023_04_08.txt\n",
      "Record already exists: voiceapp\\output\\summaries_folder\\qwen2.5_7b_20241213_204631\\CJG_13_2023_04_08-summary_2.txt -> C:/Users/G/Documents/GitHub/audycje.com.pl/content/audio\\CJG_13_2023_04_08.txt\n",
      "Record already exists: voiceapp\\output\\summaries_folder\\qwen2.5_7b_20241213_204631\\CJG_13_2023_04_08-summary_3.txt -> C:/Users/G/Documents/GitHub/audycje.com.pl/content/audio\\CJG_13_2023_04_08.txt\n",
      "Record already exists: voiceapp\\output\\summaries_folder\\qwen2.5_7b_20241213_204631\\CJG_13_2023_04_08-summary_4.txt -> C:/Users/G/Documents/GitHub/audycje.com.pl/content/audio\\CJG_13_2023_04_08.txt\n",
      "Record already exists: voiceapp\\output\\summaries_folder\\qwen2.5_7b_20241213_204631\\CJG_13_2023_04_08-summary_5.txt -> C:/Users/G/Documents/GitHub/audycje.com.pl/content/audio\\CJG_13_2023_04_08.txt\n",
      "Record already exists: voiceapp\\output\\summaries_folder\\qwen2.5_7b_20241213_204631\\CJG_13_2023_04_08-summary_1.txt -> C:/Users/G/Documents/GitHub/audycje.com.pl/content/audio\\CJG_13_2023_04_08.txt\n",
      "Record already exists: voiceapp\\output\\summaries_folder\\qwen2.5_7b_20241213_204631\\CJG_13_2023_04_08-summary_2.txt -> C:/Users/G/Documents/GitHub/audycje.com.pl/content/audio\\CJG_13_2023_04_08.txt\n",
      "Record already exists: voiceapp\\output\\summaries_folder\\qwen2.5_7b_20241213_204631\\CJG_13_2023_04_08-summary_3.txt -> C:/Users/G/Documents/GitHub/audycje.com.pl/content/audio\\CJG_13_2023_04_08.txt\n",
      "Record already exists: voiceapp\\output\\summaries_folder\\qwen2.5_7b_20241213_204631\\CJG_13_2023_04_08-summary_4.txt -> C:/Users/G/Documents/GitHub/audycje.com.pl/content/audio\\CJG_13_2023_04_08.txt\n",
      "Record already exists: voiceapp\\output\\summaries_folder\\qwen2.5_7b_20241213_204631\\CJG_13_2023_04_08-summary_5.txt -> C:/Users/G/Documents/GitHub/audycje.com.pl/content/audio\\CJG_13_2023_04_08.txt\n",
      "Record already exists: voiceapp\\output\\summaries_folder\\qwen2.5_7b_20241213_204631\\CJG_13_2023_04_08-summary_1.txt -> C:/Users/G/Documents/GitHub/audycje.com.pl/content/audio\\CJG_13_2023_04_08.txt\n",
      "Record already exists: voiceapp\\output\\summaries_folder\\qwen2.5_7b_20241213_204631\\CJG_13_2023_04_08-summary_2.txt -> C:/Users/G/Documents/GitHub/audycje.com.pl/content/audio\\CJG_13_2023_04_08.txt\n",
      "Record already exists: voiceapp\\output\\summaries_folder\\qwen2.5_7b_20241213_204631\\CJG_13_2023_04_08-summary_3.txt -> C:/Users/G/Documents/GitHub/audycje.com.pl/content/audio\\CJG_13_2023_04_08.txt\n",
      "Record already exists: voiceapp\\output\\summaries_folder\\qwen2.5_7b_20241213_204631\\CJG_13_2023_04_08-summary_4.txt -> C:/Users/G/Documents/GitHub/audycje.com.pl/content/audio\\CJG_13_2023_04_08.txt\n"
     ]
    },
    {
     "name": "stderr",
     "output_type": "stream",
     "text": [
      "\n",
      "\n",
      "Summarizing files for qwen2.5:7b:  13%|███████████                                                                        | 13/97 [29:51<2:29:11, 106.57s/it, file=CJG_12_2023_04_01.txt, summaries_count=20, time=93.95 seconds]\u001b[A\u001b[A\n",
      "\n",
      "Summarizing files for qwen2.5:7b:  13%|██████████▉                                                                       | 13/97 [29:51<2:29:11, 106.57s/it, file=CJG_13_2023_04_08.txt, summaries_count=20, time=100.54 seconds]\u001b[A\u001b[A"
     ]
    },
    {
     "name": "stdout",
     "output_type": "stream",
     "text": [
      "Record already exists: voiceapp\\output\\summaries_folder\\qwen2.5_7b_20241213_204631\\CJG_13_2023_04_08-summary_5.txt -> C:/Users/G/Documents/GitHub/audycje.com.pl/content/audio\\CJG_13_2023_04_08.txt\n",
      "Record already exists: voiceapp\\output\\summaries_folder\\qwen2.5_7b_20241213_204631\\CJG_14_2023_04_15-summary_1.txt -> C:/Users/G/Documents/GitHub/audycje.com.pl/content/audio\\CJG_14_2023_04_15.txt\n",
      "Record already exists: voiceapp\\output\\summaries_folder\\qwen2.5_7b_20241213_204631\\CJG_14_2023_04_15-summary_2.txt -> C:/Users/G/Documents/GitHub/audycje.com.pl/content/audio\\CJG_14_2023_04_15.txt\n",
      "Record already exists: voiceapp\\output\\summaries_folder\\qwen2.5_7b_20241213_204631\\CJG_14_2023_04_15-summary_3.txt -> C:/Users/G/Documents/GitHub/audycje.com.pl/content/audio\\CJG_14_2023_04_15.txt\n",
      "Record already exists: voiceapp\\output\\summaries_folder\\qwen2.5_7b_20241213_204631\\CJG_14_2023_04_15-summary_4.txt -> C:/Users/G/Documents/GitHub/audycje.com.pl/content/audio\\CJG_14_2023_04_15.txt\n",
      "Record already exists: voiceapp\\output\\summaries_folder\\qwen2.5_7b_20241213_204631\\CJG_14_2023_04_15-summary_5.txt -> C:/Users/G/Documents/GitHub/audycje.com.pl/content/audio\\CJG_14_2023_04_15.txt\n",
      "Record already exists: voiceapp\\output\\summaries_folder\\qwen2.5_7b_20241213_204631\\CJG_14_2023_04_15-summary_1.txt -> C:/Users/G/Documents/GitHub/audycje.com.pl/content/audio\\CJG_14_2023_04_15.txt\n",
      "Record already exists: voiceapp\\output\\summaries_folder\\qwen2.5_7b_20241213_204631\\CJG_14_2023_04_15-summary_2.txt -> C:/Users/G/Documents/GitHub/audycje.com.pl/content/audio\\CJG_14_2023_04_15.txt\n",
      "Record already exists: voiceapp\\output\\summaries_folder\\qwen2.5_7b_20241213_204631\\CJG_14_2023_04_15-summary_3.txt -> C:/Users/G/Documents/GitHub/audycje.com.pl/content/audio\\CJG_14_2023_04_15.txt\n",
      "Record already exists: voiceapp\\output\\summaries_folder\\qwen2.5_7b_20241213_204631\\CJG_14_2023_04_15-summary_4.txt -> C:/Users/G/Documents/GitHub/audycje.com.pl/content/audio\\CJG_14_2023_04_15.txt\n",
      "Record already exists: voiceapp\\output\\summaries_folder\\qwen2.5_7b_20241213_204631\\CJG_14_2023_04_15-summary_5.txt -> C:/Users/G/Documents/GitHub/audycje.com.pl/content/audio\\CJG_14_2023_04_15.txt\n",
      "Record already exists: voiceapp\\output\\summaries_folder\\qwen2.5_7b_20241213_204631\\CJG_14_2023_04_15-summary_1.txt -> C:/Users/G/Documents/GitHub/audycje.com.pl/content/audio\\CJG_14_2023_04_15.txt\n",
      "Record already exists: voiceapp\\output\\summaries_folder\\qwen2.5_7b_20241213_204631\\CJG_14_2023_04_15-summary_2.txt -> C:/Users/G/Documents/GitHub/audycje.com.pl/content/audio\\CJG_14_2023_04_15.txt\n",
      "Record already exists: voiceapp\\output\\summaries_folder\\qwen2.5_7b_20241213_204631\\CJG_14_2023_04_15-summary_3.txt -> C:/Users/G/Documents/GitHub/audycje.com.pl/content/audio\\CJG_14_2023_04_15.txt\n",
      "Record already exists: voiceapp\\output\\summaries_folder\\qwen2.5_7b_20241213_204631\\CJG_14_2023_04_15-summary_4.txt -> C:/Users/G/Documents/GitHub/audycje.com.pl/content/audio\\CJG_14_2023_04_15.txt\n"
     ]
    },
    {
     "name": "stderr",
     "output_type": "stream",
     "text": [
      "\n",
      "\n",
      "Summarizing files for qwen2.5:7b:  14%|███████████▊                                                                      | 14/97 [31:26<2:22:21, 102.91s/it, file=CJG_13_2023_04_08.txt, summaries_count=20, time=100.54 seconds]\u001b[A\u001b[A\n",
      "\n",
      "Summarizing files for qwen2.5:7b:  14%|███████████▉                                                                       | 14/97 [31:26<2:22:21, 102.91s/it, file=CJG_14_2023_04_15.txt, summaries_count=20, time=94.47 seconds]\u001b[A\u001b[A"
     ]
    },
    {
     "name": "stdout",
     "output_type": "stream",
     "text": [
      "Record already exists: voiceapp\\output\\summaries_folder\\qwen2.5_7b_20241213_204631\\CJG_14_2023_04_15-summary_5.txt -> C:/Users/G/Documents/GitHub/audycje.com.pl/content/audio\\CJG_14_2023_04_15.txt\n",
      "Record already exists: voiceapp\\output\\summaries_folder\\qwen2.5_7b_20241213_204631\\CJG_15_2023_04_22-summary_1.txt -> C:/Users/G/Documents/GitHub/audycje.com.pl/content/audio\\CJG_15_2023_04_22.txt\n",
      "Record already exists: voiceapp\\output\\summaries_folder\\qwen2.5_7b_20241213_204631\\CJG_15_2023_04_22-summary_2.txt -> C:/Users/G/Documents/GitHub/audycje.com.pl/content/audio\\CJG_15_2023_04_22.txt\n",
      "Record already exists: voiceapp\\output\\summaries_folder\\qwen2.5_7b_20241213_204631\\CJG_15_2023_04_22-summary_3.txt -> C:/Users/G/Documents/GitHub/audycje.com.pl/content/audio\\CJG_15_2023_04_22.txt\n",
      "Record already exists: voiceapp\\output\\summaries_folder\\qwen2.5_7b_20241213_204631\\CJG_15_2023_04_22-summary_4.txt -> C:/Users/G/Documents/GitHub/audycje.com.pl/content/audio\\CJG_15_2023_04_22.txt\n",
      "Record already exists: voiceapp\\output\\summaries_folder\\qwen2.5_7b_20241213_204631\\CJG_15_2023_04_22-summary_5.txt -> C:/Users/G/Documents/GitHub/audycje.com.pl/content/audio\\CJG_15_2023_04_22.txt\n",
      "Record already exists: voiceapp\\output\\summaries_folder\\qwen2.5_7b_20241213_204631\\CJG_15_2023_04_22-summary_1.txt -> C:/Users/G/Documents/GitHub/audycje.com.pl/content/audio\\CJG_15_2023_04_22.txt\n",
      "Record already exists: voiceapp\\output\\summaries_folder\\qwen2.5_7b_20241213_204631\\CJG_15_2023_04_22-summary_2.txt -> C:/Users/G/Documents/GitHub/audycje.com.pl/content/audio\\CJG_15_2023_04_22.txt\n",
      "Record already exists: voiceapp\\output\\summaries_folder\\qwen2.5_7b_20241213_204631\\CJG_15_2023_04_22-summary_3.txt -> C:/Users/G/Documents/GitHub/audycje.com.pl/content/audio\\CJG_15_2023_04_22.txt\n",
      "Record already exists: voiceapp\\output\\summaries_folder\\qwen2.5_7b_20241213_204631\\CJG_15_2023_04_22-summary_4.txt -> C:/Users/G/Documents/GitHub/audycje.com.pl/content/audio\\CJG_15_2023_04_22.txt\n",
      "Record already exists: voiceapp\\output\\summaries_folder\\qwen2.5_7b_20241213_204631\\CJG_15_2023_04_22-summary_5.txt -> C:/Users/G/Documents/GitHub/audycje.com.pl/content/audio\\CJG_15_2023_04_22.txt\n",
      "Record already exists: voiceapp\\output\\summaries_folder\\qwen2.5_7b_20241213_204631\\CJG_15_2023_04_22-summary_1.txt -> C:/Users/G/Documents/GitHub/audycje.com.pl/content/audio\\CJG_15_2023_04_22.txt\n",
      "Record already exists: voiceapp\\output\\summaries_folder\\qwen2.5_7b_20241213_204631\\CJG_15_2023_04_22-summary_2.txt -> C:/Users/G/Documents/GitHub/audycje.com.pl/content/audio\\CJG_15_2023_04_22.txt\n",
      "Record already exists: voiceapp\\output\\summaries_folder\\qwen2.5_7b_20241213_204631\\CJG_15_2023_04_22-summary_3.txt -> C:/Users/G/Documents/GitHub/audycje.com.pl/content/audio\\CJG_15_2023_04_22.txt\n",
      "Record already exists: voiceapp\\output\\summaries_folder\\qwen2.5_7b_20241213_204631\\CJG_15_2023_04_22-summary_4.txt -> C:/Users/G/Documents/GitHub/audycje.com.pl/content/audio\\CJG_15_2023_04_22.txt\n",
      "Record already exists: voiceapp\\output\\summaries_folder\\qwen2.5_7b_20241213_204631\\CJG_15_2023_04_22-summary_5.txt -> C:/Users/G/Documents/GitHub/audycje.com.pl/content/audio\\CJG_15_2023_04_22.txt\n",
      "Record already exists: voiceapp\\output\\summaries_folder\\qwen2.5_7b_20241213_204631\\CJG_15_2023_04_22-summary_1.txt -> C:/Users/G/Documents/GitHub/audycje.com.pl/content/audio\\CJG_15_2023_04_22.txt\n",
      "Record already exists: voiceapp\\output\\summaries_folder\\qwen2.5_7b_20241213_204631\\CJG_15_2023_04_22-summary_2.txt -> C:/Users/G/Documents/GitHub/audycje.com.pl/content/audio\\CJG_15_2023_04_22.txt\n",
      "Record already exists: voiceapp\\output\\summaries_folder\\qwen2.5_7b_20241213_204631\\CJG_15_2023_04_22-summary_3.txt -> C:/Users/G/Documents/GitHub/audycje.com.pl/content/audio\\CJG_15_2023_04_22.txt\n",
      "Record already exists: voiceapp\\output\\summaries_folder\\qwen2.5_7b_20241213_204631\\CJG_15_2023_04_22-summary_4.txt -> C:/Users/G/Documents/GitHub/audycje.com.pl/content/audio\\CJG_15_2023_04_22.txt\n"
     ]
    },
    {
     "name": "stderr",
     "output_type": "stream",
     "text": [
      "\n",
      "\n",
      "Summarizing files for qwen2.5:7b:  15%|████████████▉                                                                       | 15/97 [32:50<2:13:02, 97.35s/it, file=CJG_14_2023_04_15.txt, summaries_count=20, time=94.47 seconds]\u001b[A\u001b[A\n",
      "\n",
      "Summarizing files for qwen2.5:7b:  15%|████████████▉                                                                       | 15/97 [32:50<2:13:02, 97.35s/it, file=CJG_15_2023_04_22.txt, summaries_count=25, time=84.47 seconds]\u001b[A\u001b[A"
     ]
    },
    {
     "name": "stdout",
     "output_type": "stream",
     "text": [
      "Record already exists: voiceapp\\output\\summaries_folder\\qwen2.5_7b_20241213_204631\\CJG_15_2023_04_22-summary_5.txt -> C:/Users/G/Documents/GitHub/audycje.com.pl/content/audio\\CJG_15_2023_04_22.txt\n",
      "Record already exists: voiceapp\\output\\summaries_folder\\qwen2.5_7b_20241213_204631\\CJG_16_2023_04_29-summary_1.txt -> C:/Users/G/Documents/GitHub/audycje.com.pl/content/audio\\CJG_16_2023_04_29.txt\n",
      "Record already exists: voiceapp\\output\\summaries_folder\\qwen2.5_7b_20241213_204631\\CJG_16_2023_04_29-summary_2.txt -> C:/Users/G/Documents/GitHub/audycje.com.pl/content/audio\\CJG_16_2023_04_29.txt\n",
      "Record already exists: voiceapp\\output\\summaries_folder\\qwen2.5_7b_20241213_204631\\CJG_16_2023_04_29-summary_3.txt -> C:/Users/G/Documents/GitHub/audycje.com.pl/content/audio\\CJG_16_2023_04_29.txt\n",
      "Record already exists: voiceapp\\output\\summaries_folder\\qwen2.5_7b_20241213_204631\\CJG_16_2023_04_29-summary_4.txt -> C:/Users/G/Documents/GitHub/audycje.com.pl/content/audio\\CJG_16_2023_04_29.txt\n",
      "Record already exists: voiceapp\\output\\summaries_folder\\qwen2.5_7b_20241213_204631\\CJG_16_2023_04_29-summary_5.txt -> C:/Users/G/Documents/GitHub/audycje.com.pl/content/audio\\CJG_16_2023_04_29.txt\n",
      "Record already exists: voiceapp\\output\\summaries_folder\\qwen2.5_7b_20241213_204631\\CJG_16_2023_04_29-summary_1.txt -> C:/Users/G/Documents/GitHub/audycje.com.pl/content/audio\\CJG_16_2023_04_29.txt\n",
      "Record already exists: voiceapp\\output\\summaries_folder\\qwen2.5_7b_20241213_204631\\CJG_16_2023_04_29-summary_2.txt -> C:/Users/G/Documents/GitHub/audycje.com.pl/content/audio\\CJG_16_2023_04_29.txt\n",
      "Record already exists: voiceapp\\output\\summaries_folder\\qwen2.5_7b_20241213_204631\\CJG_16_2023_04_29-summary_3.txt -> C:/Users/G/Documents/GitHub/audycje.com.pl/content/audio\\CJG_16_2023_04_29.txt\n",
      "Record already exists: voiceapp\\output\\summaries_folder\\qwen2.5_7b_20241213_204631\\CJG_16_2023_04_29-summary_4.txt -> C:/Users/G/Documents/GitHub/audycje.com.pl/content/audio\\CJG_16_2023_04_29.txt\n"
     ]
    },
    {
     "name": "stderr",
     "output_type": "stream",
     "text": [
      "\n",
      "\n",
      "Summarizing files for qwen2.5:7b:  16%|█████████████▊                                                                      | 16/97 [34:06<2:02:32, 90.77s/it, file=CJG_15_2023_04_22.txt, summaries_count=25, time=84.47 seconds]\u001b[A\u001b[A\n",
      "\n",
      "Summarizing files for qwen2.5:7b:  16%|█████████████▊                                                                      | 16/97 [34:06<2:02:32, 90.77s/it, file=CJG_16_2023_04_29.txt, summaries_count=15, time=75.50 seconds]\u001b[A\u001b[A"
     ]
    },
    {
     "name": "stdout",
     "output_type": "stream",
     "text": [
      "Record already exists: voiceapp\\output\\summaries_folder\\qwen2.5_7b_20241213_204631\\CJG_16_2023_04_29-summary_5.txt -> C:/Users/G/Documents/GitHub/audycje.com.pl/content/audio\\CJG_16_2023_04_29.txt\n",
      "Record already exists: voiceapp\\output\\summaries_folder\\qwen2.5_7b_20241213_204631\\CJG_17_2023_05_06-summary_1.txt -> C:/Users/G/Documents/GitHub/audycje.com.pl/content/audio\\CJG_17_2023_05_06.txt\n",
      "Record already exists: voiceapp\\output\\summaries_folder\\qwen2.5_7b_20241213_204631\\CJG_17_2023_05_06-summary_2.txt -> C:/Users/G/Documents/GitHub/audycje.com.pl/content/audio\\CJG_17_2023_05_06.txt\n",
      "Record already exists: voiceapp\\output\\summaries_folder\\qwen2.5_7b_20241213_204631\\CJG_17_2023_05_06-summary_3.txt -> C:/Users/G/Documents/GitHub/audycje.com.pl/content/audio\\CJG_17_2023_05_06.txt\n",
      "Record already exists: voiceapp\\output\\summaries_folder\\qwen2.5_7b_20241213_204631\\CJG_17_2023_05_06-summary_4.txt -> C:/Users/G/Documents/GitHub/audycje.com.pl/content/audio\\CJG_17_2023_05_06.txt\n",
      "Record already exists: voiceapp\\output\\summaries_folder\\qwen2.5_7b_20241213_204631\\CJG_17_2023_05_06-summary_5.txt -> C:/Users/G/Documents/GitHub/audycje.com.pl/content/audio\\CJG_17_2023_05_06.txt\n",
      "Record already exists: voiceapp\\output\\summaries_folder\\qwen2.5_7b_20241213_204631\\CJG_17_2023_05_06-summary_1.txt -> C:/Users/G/Documents/GitHub/audycje.com.pl/content/audio\\CJG_17_2023_05_06.txt\n",
      "Record already exists: voiceapp\\output\\summaries_folder\\qwen2.5_7b_20241213_204631\\CJG_17_2023_05_06-summary_2.txt -> C:/Users/G/Documents/GitHub/audycje.com.pl/content/audio\\CJG_17_2023_05_06.txt\n",
      "Record already exists: voiceapp\\output\\summaries_folder\\qwen2.5_7b_20241213_204631\\CJG_17_2023_05_06-summary_3.txt -> C:/Users/G/Documents/GitHub/audycje.com.pl/content/audio\\CJG_17_2023_05_06.txt\n",
      "Record already exists: voiceapp\\output\\summaries_folder\\qwen2.5_7b_20241213_204631\\CJG_17_2023_05_06-summary_4.txt -> C:/Users/G/Documents/GitHub/audycje.com.pl/content/audio\\CJG_17_2023_05_06.txt\n"
     ]
    },
    {
     "name": "stderr",
     "output_type": "stream",
     "text": [
      "\n",
      "\n",
      "Summarizing files for qwen2.5:7b:  18%|██████████████▋                                                                     | 17/97 [35:21<1:54:45, 86.07s/it, file=CJG_16_2023_04_29.txt, summaries_count=15, time=75.50 seconds]\u001b[A\u001b[A\n",
      "\n",
      "Summarizing files for qwen2.5:7b:  18%|██████████████▋                                                                     | 17/97 [35:21<1:54:45, 86.07s/it, file=CJG_17_2023_05_06.txt, summaries_count=15, time=75.12 seconds]\u001b[A\u001b[A"
     ]
    },
    {
     "name": "stdout",
     "output_type": "stream",
     "text": [
      "Record already exists: voiceapp\\output\\summaries_folder\\qwen2.5_7b_20241213_204631\\CJG_17_2023_05_06-summary_5.txt -> C:/Users/G/Documents/GitHub/audycje.com.pl/content/audio\\CJG_17_2023_05_06.txt\n",
      "Record already exists: voiceapp\\output\\summaries_folder\\qwen2.5_7b_20241213_204631\\CJG_18_2023_05_13-summary_1.txt -> C:/Users/G/Documents/GitHub/audycje.com.pl/content/audio\\CJG_18_2023_05_13.txt\n",
      "Record already exists: voiceapp\\output\\summaries_folder\\qwen2.5_7b_20241213_204631\\CJG_18_2023_05_13-summary_2.txt -> C:/Users/G/Documents/GitHub/audycje.com.pl/content/audio\\CJG_18_2023_05_13.txt\n",
      "Record already exists: voiceapp\\output\\summaries_folder\\qwen2.5_7b_20241213_204631\\CJG_18_2023_05_13-summary_3.txt -> C:/Users/G/Documents/GitHub/audycje.com.pl/content/audio\\CJG_18_2023_05_13.txt\n",
      "Record already exists: voiceapp\\output\\summaries_folder\\qwen2.5_7b_20241213_204631\\CJG_18_2023_05_13-summary_4.txt -> C:/Users/G/Documents/GitHub/audycje.com.pl/content/audio\\CJG_18_2023_05_13.txt\n",
      "Record already exists: voiceapp\\output\\summaries_folder\\qwen2.5_7b_20241213_204631\\CJG_18_2023_05_13-summary_5.txt -> C:/Users/G/Documents/GitHub/audycje.com.pl/content/audio\\CJG_18_2023_05_13.txt\n",
      "Record already exists: voiceapp\\output\\summaries_folder\\qwen2.5_7b_20241213_204631\\CJG_18_2023_05_13-summary_1.txt -> C:/Users/G/Documents/GitHub/audycje.com.pl/content/audio\\CJG_18_2023_05_13.txt\n",
      "Record already exists: voiceapp\\output\\summaries_folder\\qwen2.5_7b_20241213_204631\\CJG_18_2023_05_13-summary_2.txt -> C:/Users/G/Documents/GitHub/audycje.com.pl/content/audio\\CJG_18_2023_05_13.txt\n",
      "Record already exists: voiceapp\\output\\summaries_folder\\qwen2.5_7b_20241213_204631\\CJG_18_2023_05_13-summary_3.txt -> C:/Users/G/Documents/GitHub/audycje.com.pl/content/audio\\CJG_18_2023_05_13.txt\n",
      "Record already exists: voiceapp\\output\\summaries_folder\\qwen2.5_7b_20241213_204631\\CJG_18_2023_05_13-summary_4.txt -> C:/Users/G/Documents/GitHub/audycje.com.pl/content/audio\\CJG_18_2023_05_13.txt\n"
     ]
    },
    {
     "name": "stderr",
     "output_type": "stream",
     "text": [
      "\n",
      "\n",
      "Summarizing files for qwen2.5:7b:  19%|███████████████▌                                                                    | 18/97 [36:37<1:49:25, 83.11s/it, file=CJG_17_2023_05_06.txt, summaries_count=15, time=75.12 seconds]\u001b[A\u001b[A\n",
      "\n",
      "Summarizing files for qwen2.5:7b:  19%|███████████████▌                                                                    | 18/97 [36:37<1:49:25, 83.11s/it, file=CJG_18_2023_05_13.txt, summaries_count=15, time=76.24 seconds]\u001b[A\u001b[A"
     ]
    },
    {
     "name": "stdout",
     "output_type": "stream",
     "text": [
      "Record already exists: voiceapp\\output\\summaries_folder\\qwen2.5_7b_20241213_204631\\CJG_18_2023_05_13-summary_5.txt -> C:/Users/G/Documents/GitHub/audycje.com.pl/content/audio\\CJG_18_2023_05_13.txt\n",
      "Record already exists: voiceapp\\output\\summaries_folder\\qwen2.5_7b_20241213_204631\\CJG_19_2023_05_20-summary_1.txt -> C:/Users/G/Documents/GitHub/audycje.com.pl/content/audio\\CJG_19_2023_05_20.txt\n",
      "Record already exists: voiceapp\\output\\summaries_folder\\qwen2.5_7b_20241213_204631\\CJG_19_2023_05_20-summary_2.txt -> C:/Users/G/Documents/GitHub/audycje.com.pl/content/audio\\CJG_19_2023_05_20.txt\n",
      "Record already exists: voiceapp\\output\\summaries_folder\\qwen2.5_7b_20241213_204631\\CJG_19_2023_05_20-summary_3.txt -> C:/Users/G/Documents/GitHub/audycje.com.pl/content/audio\\CJG_19_2023_05_20.txt\n",
      "Record already exists: voiceapp\\output\\summaries_folder\\qwen2.5_7b_20241213_204631\\CJG_19_2023_05_20-summary_4.txt -> C:/Users/G/Documents/GitHub/audycje.com.pl/content/audio\\CJG_19_2023_05_20.txt\n",
      "Record already exists: voiceapp\\output\\summaries_folder\\qwen2.5_7b_20241213_204631\\CJG_19_2023_05_20-summary_5.txt -> C:/Users/G/Documents/GitHub/audycje.com.pl/content/audio\\CJG_19_2023_05_20.txt\n",
      "Record already exists: voiceapp\\output\\summaries_folder\\qwen2.5_7b_20241213_204631\\CJG_19_2023_05_20-summary_1.txt -> C:/Users/G/Documents/GitHub/audycje.com.pl/content/audio\\CJG_19_2023_05_20.txt\n",
      "Record already exists: voiceapp\\output\\summaries_folder\\qwen2.5_7b_20241213_204631\\CJG_19_2023_05_20-summary_2.txt -> C:/Users/G/Documents/GitHub/audycje.com.pl/content/audio\\CJG_19_2023_05_20.txt\n",
      "Record already exists: voiceapp\\output\\summaries_folder\\qwen2.5_7b_20241213_204631\\CJG_19_2023_05_20-summary_3.txt -> C:/Users/G/Documents/GitHub/audycje.com.pl/content/audio\\CJG_19_2023_05_20.txt\n",
      "Record already exists: voiceapp\\output\\summaries_folder\\qwen2.5_7b_20241213_204631\\CJG_19_2023_05_20-summary_4.txt -> C:/Users/G/Documents/GitHub/audycje.com.pl/content/audio\\CJG_19_2023_05_20.txt\n"
     ]
    },
    {
     "name": "stderr",
     "output_type": "stream",
     "text": [
      "\n",
      "\n",
      "Summarizing files for qwen2.5:7b:  20%|████████████████▎                                                                  | 19/97 [44:39<4:23:59, 203.06s/it, file=CJG_18_2023_05_13.txt, summaries_count=15, time=76.24 seconds]\u001b[A\u001b[A\n",
      "\n",
      "Summarizing files for qwen2.5:7b:  20%|████████████████                                                                  | 19/97 [44:39<4:23:59, 203.06s/it, file=CJG_19_2023_05_20.txt, summaries_count=15, time=482.50 seconds]\u001b[A\u001b[A"
     ]
    },
    {
     "name": "stdout",
     "output_type": "stream",
     "text": [
      "Record already exists: voiceapp\\output\\summaries_folder\\qwen2.5_7b_20241213_204631\\CJG_19_2023_05_20-summary_5.txt -> C:/Users/G/Documents/GitHub/audycje.com.pl/content/audio\\CJG_19_2023_05_20.txt\n",
      "Record already exists: voiceapp\\output\\summaries_folder\\qwen2.5_7b_20241213_204631\\CJG_20_2023_05_27-summary_1.txt -> C:/Users/G/Documents/GitHub/audycje.com.pl/content/audio\\CJG_20_2023_05_27.txt\n",
      "Record already exists: voiceapp\\output\\summaries_folder\\qwen2.5_7b_20241213_204631\\CJG_20_2023_05_27-summary_2.txt -> C:/Users/G/Documents/GitHub/audycje.com.pl/content/audio\\CJG_20_2023_05_27.txt\n",
      "Record already exists: voiceapp\\output\\summaries_folder\\qwen2.5_7b_20241213_204631\\CJG_20_2023_05_27-summary_3.txt -> C:/Users/G/Documents/GitHub/audycje.com.pl/content/audio\\CJG_20_2023_05_27.txt\n",
      "Record already exists: voiceapp\\output\\summaries_folder\\qwen2.5_7b_20241213_204631\\CJG_20_2023_05_27-summary_4.txt -> C:/Users/G/Documents/GitHub/audycje.com.pl/content/audio\\CJG_20_2023_05_27.txt\n",
      "Record already exists: voiceapp\\output\\summaries_folder\\qwen2.5_7b_20241213_204631\\CJG_20_2023_05_27-summary_5.txt -> C:/Users/G/Documents/GitHub/audycje.com.pl/content/audio\\CJG_20_2023_05_27.txt\n",
      "Record already exists: voiceapp\\output\\summaries_folder\\qwen2.5_7b_20241213_204631\\CJG_20_2023_05_27-summary_1.txt -> C:/Users/G/Documents/GitHub/audycje.com.pl/content/audio\\CJG_20_2023_05_27.txt\n",
      "Record already exists: voiceapp\\output\\summaries_folder\\qwen2.5_7b_20241213_204631\\CJG_20_2023_05_27-summary_2.txt -> C:/Users/G/Documents/GitHub/audycje.com.pl/content/audio\\CJG_20_2023_05_27.txt\n",
      "Record already exists: voiceapp\\output\\summaries_folder\\qwen2.5_7b_20241213_204631\\CJG_20_2023_05_27-summary_3.txt -> C:/Users/G/Documents/GitHub/audycje.com.pl/content/audio\\CJG_20_2023_05_27.txt\n",
      "Record already exists: voiceapp\\output\\summaries_folder\\qwen2.5_7b_20241213_204631\\CJG_20_2023_05_27-summary_4.txt -> C:/Users/G/Documents/GitHub/audycje.com.pl/content/audio\\CJG_20_2023_05_27.txt\n",
      "Record already exists: voiceapp\\output\\summaries_folder\\qwen2.5_7b_20241213_204631\\CJG_20_2023_05_27-summary_5.txt -> C:/Users/G/Documents/GitHub/audycje.com.pl/content/audio\\CJG_20_2023_05_27.txt\n",
      "Record already exists: voiceapp\\output\\summaries_folder\\qwen2.5_7b_20241213_204631\\CJG_20_2023_05_27-summary_1.txt -> C:/Users/G/Documents/GitHub/audycje.com.pl/content/audio\\CJG_20_2023_05_27.txt\n",
      "Record already exists: voiceapp\\output\\summaries_folder\\qwen2.5_7b_20241213_204631\\CJG_20_2023_05_27-summary_2.txt -> C:/Users/G/Documents/GitHub/audycje.com.pl/content/audio\\CJG_20_2023_05_27.txt\n",
      "Record already exists: voiceapp\\output\\summaries_folder\\qwen2.5_7b_20241213_204631\\CJG_20_2023_05_27-summary_3.txt -> C:/Users/G/Documents/GitHub/audycje.com.pl/content/audio\\CJG_20_2023_05_27.txt\n",
      "Record already exists: voiceapp\\output\\summaries_folder\\qwen2.5_7b_20241213_204631\\CJG_20_2023_05_27-summary_4.txt -> C:/Users/G/Documents/GitHub/audycje.com.pl/content/audio\\CJG_20_2023_05_27.txt\n"
     ]
    },
    {
     "name": "stderr",
     "output_type": "stream",
     "text": [
      "\n",
      "\n",
      "Summarizing files for qwen2.5:7b:  21%|████████████████▉                                                                 | 20/97 [46:15<3:39:05, 170.72s/it, file=CJG_19_2023_05_20.txt, summaries_count=15, time=482.50 seconds]\u001b[A\u001b[A\n",
      "\n",
      "Summarizing files for qwen2.5:7b:  21%|█████████████████                                                                  | 20/97 [46:15<3:39:05, 170.72s/it, file=CJG_20_2023_05_27.txt, summaries_count=20, time=95.32 seconds]\u001b[A\u001b[A"
     ]
    },
    {
     "name": "stdout",
     "output_type": "stream",
     "text": [
      "Record already exists: voiceapp\\output\\summaries_folder\\qwen2.5_7b_20241213_204631\\CJG_20_2023_05_27-summary_5.txt -> C:/Users/G/Documents/GitHub/audycje.com.pl/content/audio\\CJG_20_2023_05_27.txt\n",
      "Record already exists: voiceapp\\output\\summaries_folder\\qwen2.5_7b_20241213_204631\\CJG_21_2023_06_03-summary_1.txt -> C:/Users/G/Documents/GitHub/audycje.com.pl/content/audio\\CJG_21_2023_06_03.txt\n",
      "Record already exists: voiceapp\\output\\summaries_folder\\qwen2.5_7b_20241213_204631\\CJG_21_2023_06_03-summary_2.txt -> C:/Users/G/Documents/GitHub/audycje.com.pl/content/audio\\CJG_21_2023_06_03.txt\n",
      "Record already exists: voiceapp\\output\\summaries_folder\\qwen2.5_7b_20241213_204631\\CJG_21_2023_06_03-summary_3.txt -> C:/Users/G/Documents/GitHub/audycje.com.pl/content/audio\\CJG_21_2023_06_03.txt\n",
      "Record already exists: voiceapp\\output\\summaries_folder\\qwen2.5_7b_20241213_204631\\CJG_21_2023_06_03-summary_4.txt -> C:/Users/G/Documents/GitHub/audycje.com.pl/content/audio\\CJG_21_2023_06_03.txt\n",
      "Record already exists: voiceapp\\output\\summaries_folder\\qwen2.5_7b_20241213_204631\\CJG_21_2023_06_03-summary_5.txt -> C:/Users/G/Documents/GitHub/audycje.com.pl/content/audio\\CJG_21_2023_06_03.txt\n",
      "Record already exists: voiceapp\\output\\summaries_folder\\qwen2.5_7b_20241213_204631\\CJG_21_2023_06_03-summary_1.txt -> C:/Users/G/Documents/GitHub/audycje.com.pl/content/audio\\CJG_21_2023_06_03.txt\n",
      "Record already exists: voiceapp\\output\\summaries_folder\\qwen2.5_7b_20241213_204631\\CJG_21_2023_06_03-summary_2.txt -> C:/Users/G/Documents/GitHub/audycje.com.pl/content/audio\\CJG_21_2023_06_03.txt\n",
      "Record already exists: voiceapp\\output\\summaries_folder\\qwen2.5_7b_20241213_204631\\CJG_21_2023_06_03-summary_3.txt -> C:/Users/G/Documents/GitHub/audycje.com.pl/content/audio\\CJG_21_2023_06_03.txt\n",
      "Record already exists: voiceapp\\output\\summaries_folder\\qwen2.5_7b_20241213_204631\\CJG_21_2023_06_03-summary_4.txt -> C:/Users/G/Documents/GitHub/audycje.com.pl/content/audio\\CJG_21_2023_06_03.txt\n",
      "Record already exists: voiceapp\\output\\summaries_folder\\qwen2.5_7b_20241213_204631\\CJG_21_2023_06_03-summary_5.txt -> C:/Users/G/Documents/GitHub/audycje.com.pl/content/audio\\CJG_21_2023_06_03.txt\n",
      "Record already exists: voiceapp\\output\\summaries_folder\\qwen2.5_7b_20241213_204631\\CJG_21_2023_06_03-summary_1.txt -> C:/Users/G/Documents/GitHub/audycje.com.pl/content/audio\\CJG_21_2023_06_03.txt\n",
      "Record already exists: voiceapp\\output\\summaries_folder\\qwen2.5_7b_20241213_204631\\CJG_21_2023_06_03-summary_2.txt -> C:/Users/G/Documents/GitHub/audycje.com.pl/content/audio\\CJG_21_2023_06_03.txt\n",
      "Record already exists: voiceapp\\output\\summaries_folder\\qwen2.5_7b_20241213_204631\\CJG_21_2023_06_03-summary_3.txt -> C:/Users/G/Documents/GitHub/audycje.com.pl/content/audio\\CJG_21_2023_06_03.txt\n",
      "Record already exists: voiceapp\\output\\summaries_folder\\qwen2.5_7b_20241213_204631\\CJG_21_2023_06_03-summary_4.txt -> C:/Users/G/Documents/GitHub/audycje.com.pl/content/audio\\CJG_21_2023_06_03.txt\n"
     ]
    },
    {
     "name": "stderr",
     "output_type": "stream",
     "text": [
      "\n",
      "\n",
      "Summarizing files for qwen2.5:7b:  22%|█████████████████▉                                                                 | 21/97 [52:40<4:57:58, 235.24s/it, file=CJG_20_2023_05_27.txt, summaries_count=20, time=95.32 seconds]\u001b[A\u001b[A\n",
      "\n",
      "Summarizing files for qwen2.5:7b:  22%|█████████████████▊                                                                | 21/97 [52:40<4:57:58, 235.24s/it, file=CJG_21_2023_06_03.txt, summaries_count=20, time=385.67 seconds]\u001b[A\u001b[A"
     ]
    },
    {
     "name": "stdout",
     "output_type": "stream",
     "text": [
      "Record already exists: voiceapp\\output\\summaries_folder\\qwen2.5_7b_20241213_204631\\CJG_21_2023_06_03-summary_5.txt -> C:/Users/G/Documents/GitHub/audycje.com.pl/content/audio\\CJG_21_2023_06_03.txt\n",
      "Record already exists: voiceapp\\output\\summaries_folder\\qwen2.5_7b_20241213_204631\\CJG_22_2023_06_10-summary_1.txt -> C:/Users/G/Documents/GitHub/audycje.com.pl/content/audio\\CJG_22_2023_06_10.txt\n",
      "Record already exists: voiceapp\\output\\summaries_folder\\qwen2.5_7b_20241213_204631\\CJG_22_2023_06_10-summary_2.txt -> C:/Users/G/Documents/GitHub/audycje.com.pl/content/audio\\CJG_22_2023_06_10.txt\n",
      "Record already exists: voiceapp\\output\\summaries_folder\\qwen2.5_7b_20241213_204631\\CJG_22_2023_06_10-summary_3.txt -> C:/Users/G/Documents/GitHub/audycje.com.pl/content/audio\\CJG_22_2023_06_10.txt\n",
      "Record already exists: voiceapp\\output\\summaries_folder\\qwen2.5_7b_20241213_204631\\CJG_22_2023_06_10-summary_4.txt -> C:/Users/G/Documents/GitHub/audycje.com.pl/content/audio\\CJG_22_2023_06_10.txt\n",
      "Record already exists: voiceapp\\output\\summaries_folder\\qwen2.5_7b_20241213_204631\\CJG_22_2023_06_10-summary_5.txt -> C:/Users/G/Documents/GitHub/audycje.com.pl/content/audio\\CJG_22_2023_06_10.txt\n",
      "Record already exists: voiceapp\\output\\summaries_folder\\qwen2.5_7b_20241213_204631\\CJG_22_2023_06_10-summary_1.txt -> C:/Users/G/Documents/GitHub/audycje.com.pl/content/audio\\CJG_22_2023_06_10.txt\n",
      "Record already exists: voiceapp\\output\\summaries_folder\\qwen2.5_7b_20241213_204631\\CJG_22_2023_06_10-summary_2.txt -> C:/Users/G/Documents/GitHub/audycje.com.pl/content/audio\\CJG_22_2023_06_10.txt\n",
      "Record already exists: voiceapp\\output\\summaries_folder\\qwen2.5_7b_20241213_204631\\CJG_22_2023_06_10-summary_3.txt -> C:/Users/G/Documents/GitHub/audycje.com.pl/content/audio\\CJG_22_2023_06_10.txt\n",
      "Record already exists: voiceapp\\output\\summaries_folder\\qwen2.5_7b_20241213_204631\\CJG_22_2023_06_10-summary_4.txt -> C:/Users/G/Documents/GitHub/audycje.com.pl/content/audio\\CJG_22_2023_06_10.txt\n"
     ]
    },
    {
     "name": "stderr",
     "output_type": "stream",
     "text": [
      "\n",
      "\n",
      "Summarizing files for qwen2.5:7b:  23%|██████████████████▌                                                               | 22/97 [56:28<4:51:21, 233.09s/it, file=CJG_21_2023_06_03.txt, summaries_count=20, time=385.67 seconds]\u001b[A\u001b[A\n",
      "\n",
      "Summarizing files for qwen2.5:7b:  23%|██████████████████▌                                                               | 22/97 [56:28<4:51:21, 233.09s/it, file=CJG_22_2023_06_10.txt, summaries_count=15, time=228.08 seconds]\u001b[A\u001b[A"
     ]
    },
    {
     "name": "stdout",
     "output_type": "stream",
     "text": [
      "Record already exists: voiceapp\\output\\summaries_folder\\qwen2.5_7b_20241213_204631\\CJG_22_2023_06_10-summary_5.txt -> C:/Users/G/Documents/GitHub/audycje.com.pl/content/audio\\CJG_22_2023_06_10.txt\n",
      "Record already exists: voiceapp\\output\\summaries_folder\\qwen2.5_7b_20241213_204631\\CJG_23_2023_06_17-summary_1.txt -> C:/Users/G/Documents/GitHub/audycje.com.pl/content/audio\\CJG_23_2023_06_17.txt\n",
      "Record already exists: voiceapp\\output\\summaries_folder\\qwen2.5_7b_20241213_204631\\CJG_23_2023_06_17-summary_2.txt -> C:/Users/G/Documents/GitHub/audycje.com.pl/content/audio\\CJG_23_2023_06_17.txt\n",
      "Record already exists: voiceapp\\output\\summaries_folder\\qwen2.5_7b_20241213_204631\\CJG_23_2023_06_17-summary_3.txt -> C:/Users/G/Documents/GitHub/audycje.com.pl/content/audio\\CJG_23_2023_06_17.txt\n",
      "Record already exists: voiceapp\\output\\summaries_folder\\qwen2.5_7b_20241213_204631\\CJG_23_2023_06_17-summary_4.txt -> C:/Users/G/Documents/GitHub/audycje.com.pl/content/audio\\CJG_23_2023_06_17.txt\n",
      "Record already exists: voiceapp\\output\\summaries_folder\\qwen2.5_7b_20241213_204631\\CJG_23_2023_06_17-summary_5.txt -> C:/Users/G/Documents/GitHub/audycje.com.pl/content/audio\\CJG_23_2023_06_17.txt\n",
      "Record already exists: voiceapp\\output\\summaries_folder\\qwen2.5_7b_20241213_204631\\CJG_23_2023_06_17-summary_1.txt -> C:/Users/G/Documents/GitHub/audycje.com.pl/content/audio\\CJG_23_2023_06_17.txt\n",
      "Record already exists: voiceapp\\output\\summaries_folder\\qwen2.5_7b_20241213_204631\\CJG_23_2023_06_17-summary_2.txt -> C:/Users/G/Documents/GitHub/audycje.com.pl/content/audio\\CJG_23_2023_06_17.txt\n",
      "Record already exists: voiceapp\\output\\summaries_folder\\qwen2.5_7b_20241213_204631\\CJG_23_2023_06_17-summary_3.txt -> C:/Users/G/Documents/GitHub/audycje.com.pl/content/audio\\CJG_23_2023_06_17.txt\n",
      "Record already exists: voiceapp\\output\\summaries_folder\\qwen2.5_7b_20241213_204631\\CJG_23_2023_06_17-summary_4.txt -> C:/Users/G/Documents/GitHub/audycje.com.pl/content/audio\\CJG_23_2023_06_17.txt\n"
     ]
    },
    {
     "name": "stderr",
     "output_type": "stream",
     "text": [
      "\n",
      "\n",
      "Summarizing files for qwen2.5:7b:  24%|███████████████████▍                                                              | 23/97 [57:47<3:50:07, 186.59s/it, file=CJG_22_2023_06_10.txt, summaries_count=15, time=228.08 seconds]\u001b[A\u001b[A\n",
      "\n",
      "Summarizing files for qwen2.5:7b:  24%|███████████████████▋                                                               | 23/97 [57:47<3:50:07, 186.59s/it, file=CJG_23_2023_06_17.txt, summaries_count=15, time=78.14 seconds]\u001b[A\u001b[A"
     ]
    },
    {
     "name": "stdout",
     "output_type": "stream",
     "text": [
      "Record already exists: voiceapp\\output\\summaries_folder\\qwen2.5_7b_20241213_204631\\CJG_23_2023_06_17-summary_5.txt -> C:/Users/G/Documents/GitHub/audycje.com.pl/content/audio\\CJG_23_2023_06_17.txt\n",
      "Record already exists: voiceapp\\output\\summaries_folder\\qwen2.5_7b_20241213_204631\\CJG_24_2023_06_24-summary_1.txt -> C:/Users/G/Documents/GitHub/audycje.com.pl/content/audio\\CJG_24_2023_06_24.txt\n",
      "Record already exists: voiceapp\\output\\summaries_folder\\qwen2.5_7b_20241213_204631\\CJG_24_2023_06_24-summary_2.txt -> C:/Users/G/Documents/GitHub/audycje.com.pl/content/audio\\CJG_24_2023_06_24.txt\n",
      "Record already exists: voiceapp\\output\\summaries_folder\\qwen2.5_7b_20241213_204631\\CJG_24_2023_06_24-summary_3.txt -> C:/Users/G/Documents/GitHub/audycje.com.pl/content/audio\\CJG_24_2023_06_24.txt\n",
      "Record already exists: voiceapp\\output\\summaries_folder\\qwen2.5_7b_20241213_204631\\CJG_24_2023_06_24-summary_4.txt -> C:/Users/G/Documents/GitHub/audycje.com.pl/content/audio\\CJG_24_2023_06_24.txt\n",
      "Record already exists: voiceapp\\output\\summaries_folder\\qwen2.5_7b_20241213_204631\\CJG_24_2023_06_24-summary_5.txt -> C:/Users/G/Documents/GitHub/audycje.com.pl/content/audio\\CJG_24_2023_06_24.txt\n",
      "Record already exists: voiceapp\\output\\summaries_folder\\qwen2.5_7b_20241213_204631\\CJG_24_2023_06_24-summary_1.txt -> C:/Users/G/Documents/GitHub/audycje.com.pl/content/audio\\CJG_24_2023_06_24.txt\n",
      "Record already exists: voiceapp\\output\\summaries_folder\\qwen2.5_7b_20241213_204631\\CJG_24_2023_06_24-summary_2.txt -> C:/Users/G/Documents/GitHub/audycje.com.pl/content/audio\\CJG_24_2023_06_24.txt\n",
      "Record already exists: voiceapp\\output\\summaries_folder\\qwen2.5_7b_20241213_204631\\CJG_24_2023_06_24-summary_3.txt -> C:/Users/G/Documents/GitHub/audycje.com.pl/content/audio\\CJG_24_2023_06_24.txt\n",
      "Record already exists: voiceapp\\output\\summaries_folder\\qwen2.5_7b_20241213_204631\\CJG_24_2023_06_24-summary_4.txt -> C:/Users/G/Documents/GitHub/audycje.com.pl/content/audio\\CJG_24_2023_06_24.txt\n"
     ]
    },
    {
     "name": "stderr",
     "output_type": "stream",
     "text": [
      "\n",
      "\n",
      "Summarizing files for qwen2.5:7b:  25%|████████████████████▌                                                              | 24/97 [59:00<3:05:32, 152.51s/it, file=CJG_23_2023_06_17.txt, summaries_count=15, time=78.14 seconds]\u001b[A\u001b[A\n",
      "\n",
      "Summarizing files for qwen2.5:7b:  25%|████████████████████▌                                                              | 24/97 [59:00<3:05:32, 152.51s/it, file=CJG_24_2023_06_24.txt, summaries_count=15, time=72.99 seconds]\u001b[A\u001b[A"
     ]
    },
    {
     "name": "stdout",
     "output_type": "stream",
     "text": [
      "Record already exists: voiceapp\\output\\summaries_folder\\qwen2.5_7b_20241213_204631\\CJG_24_2023_06_24-summary_5.txt -> C:/Users/G/Documents/GitHub/audycje.com.pl/content/audio\\CJG_24_2023_06_24.txt\n",
      "Record already exists: voiceapp\\output\\summaries_folder\\qwen2.5_7b_20241213_204631\\CJG_25_2023_07_01-summary_1.txt -> C:/Users/G/Documents/GitHub/audycje.com.pl/content/audio\\CJG_25_2023_07_01.txt\n",
      "Record already exists: voiceapp\\output\\summaries_folder\\qwen2.5_7b_20241213_204631\\CJG_25_2023_07_01-summary_2.txt -> C:/Users/G/Documents/GitHub/audycje.com.pl/content/audio\\CJG_25_2023_07_01.txt\n",
      "Record already exists: voiceapp\\output\\summaries_folder\\qwen2.5_7b_20241213_204631\\CJG_25_2023_07_01-summary_3.txt -> C:/Users/G/Documents/GitHub/audycje.com.pl/content/audio\\CJG_25_2023_07_01.txt\n",
      "Record already exists: voiceapp\\output\\summaries_folder\\qwen2.5_7b_20241213_204631\\CJG_25_2023_07_01-summary_4.txt -> C:/Users/G/Documents/GitHub/audycje.com.pl/content/audio\\CJG_25_2023_07_01.txt\n",
      "Record already exists: voiceapp\\output\\summaries_folder\\qwen2.5_7b_20241213_204631\\CJG_25_2023_07_01-summary_5.txt -> C:/Users/G/Documents/GitHub/audycje.com.pl/content/audio\\CJG_25_2023_07_01.txt\n",
      "Record already exists: voiceapp\\output\\summaries_folder\\qwen2.5_7b_20241213_204631\\CJG_25_2023_07_01-summary_1.txt -> C:/Users/G/Documents/GitHub/audycje.com.pl/content/audio\\CJG_25_2023_07_01.txt\n",
      "Record already exists: voiceapp\\output\\summaries_folder\\qwen2.5_7b_20241213_204631\\CJG_25_2023_07_01-summary_2.txt -> C:/Users/G/Documents/GitHub/audycje.com.pl/content/audio\\CJG_25_2023_07_01.txt\n",
      "Record already exists: voiceapp\\output\\summaries_folder\\qwen2.5_7b_20241213_204631\\CJG_25_2023_07_01-summary_3.txt -> C:/Users/G/Documents/GitHub/audycje.com.pl/content/audio\\CJG_25_2023_07_01.txt\n",
      "Record already exists: voiceapp\\output\\summaries_folder\\qwen2.5_7b_20241213_204631\\CJG_25_2023_07_01-summary_4.txt -> C:/Users/G/Documents/GitHub/audycje.com.pl/content/audio\\CJG_25_2023_07_01.txt\n",
      "Record already exists: voiceapp\\output\\summaries_folder\\qwen2.5_7b_20241213_204631\\CJG_25_2023_07_01-summary_5.txt -> C:/Users/G/Documents/GitHub/audycje.com.pl/content/audio\\CJG_25_2023_07_01.txt\n",
      "Record already exists: voiceapp\\output\\summaries_folder\\qwen2.5_7b_20241213_204631\\CJG_25_2023_07_01-summary_1.txt -> C:/Users/G/Documents/GitHub/audycje.com.pl/content/audio\\CJG_25_2023_07_01.txt\n",
      "Record already exists: voiceapp\\output\\summaries_folder\\qwen2.5_7b_20241213_204631\\CJG_25_2023_07_01-summary_2.txt -> C:/Users/G/Documents/GitHub/audycje.com.pl/content/audio\\CJG_25_2023_07_01.txt\n",
      "Record already exists: voiceapp\\output\\summaries_folder\\qwen2.5_7b_20241213_204631\\CJG_25_2023_07_01-summary_3.txt -> C:/Users/G/Documents/GitHub/audycje.com.pl/content/audio\\CJG_25_2023_07_01.txt\n",
      "Record already exists: voiceapp\\output\\summaries_folder\\qwen2.5_7b_20241213_204631\\CJG_25_2023_07_01-summary_4.txt -> C:/Users/G/Documents/GitHub/audycje.com.pl/content/audio\\CJG_25_2023_07_01.txt\n"
     ]
    },
    {
     "name": "stderr",
     "output_type": "stream",
     "text": [
      "\n",
      "\n",
      "Summarizing files for qwen2.5:7b:  26%|████████████████████▉                                                            | 25/97 [1:00:35<2:42:17, 135.24s/it, file=CJG_24_2023_06_24.txt, summaries_count=15, time=72.99 seconds]\u001b[A\u001b[A\n",
      "\n",
      "Summarizing files for qwen2.5:7b:  26%|████████████████████▉                                                            | 25/97 [1:00:35<2:42:17, 135.24s/it, file=CJG_25_2023_07_01.txt, summaries_count=20, time=94.96 seconds]\u001b[A\u001b[A"
     ]
    },
    {
     "name": "stdout",
     "output_type": "stream",
     "text": [
      "Record already exists: voiceapp\\output\\summaries_folder\\qwen2.5_7b_20241213_204631\\CJG_25_2023_07_01-summary_5.txt -> C:/Users/G/Documents/GitHub/audycje.com.pl/content/audio\\CJG_25_2023_07_01.txt\n",
      "Record already exists: voiceapp\\output\\summaries_folder\\qwen2.5_7b_20241213_204631\\CJG_26_2023_07_08-summary_1.txt -> C:/Users/G/Documents/GitHub/audycje.com.pl/content/audio\\CJG_26_2023_07_08.txt\n",
      "Record already exists: voiceapp\\output\\summaries_folder\\qwen2.5_7b_20241213_204631\\CJG_26_2023_07_08-summary_2.txt -> C:/Users/G/Documents/GitHub/audycje.com.pl/content/audio\\CJG_26_2023_07_08.txt\n",
      "Record already exists: voiceapp\\output\\summaries_folder\\qwen2.5_7b_20241213_204631\\CJG_26_2023_07_08-summary_3.txt -> C:/Users/G/Documents/GitHub/audycje.com.pl/content/audio\\CJG_26_2023_07_08.txt\n",
      "Record already exists: voiceapp\\output\\summaries_folder\\qwen2.5_7b_20241213_204631\\CJG_26_2023_07_08-summary_4.txt -> C:/Users/G/Documents/GitHub/audycje.com.pl/content/audio\\CJG_26_2023_07_08.txt\n",
      "Record already exists: voiceapp\\output\\summaries_folder\\qwen2.5_7b_20241213_204631\\CJG_26_2023_07_08-summary_5.txt -> C:/Users/G/Documents/GitHub/audycje.com.pl/content/audio\\CJG_26_2023_07_08.txt\n",
      "Record already exists: voiceapp\\output\\summaries_folder\\qwen2.5_7b_20241213_204631\\CJG_26_2023_07_08-summary_1.txt -> C:/Users/G/Documents/GitHub/audycje.com.pl/content/audio\\CJG_26_2023_07_08.txt\n",
      "Record already exists: voiceapp\\output\\summaries_folder\\qwen2.5_7b_20241213_204631\\CJG_26_2023_07_08-summary_2.txt -> C:/Users/G/Documents/GitHub/audycje.com.pl/content/audio\\CJG_26_2023_07_08.txt\n",
      "Record already exists: voiceapp\\output\\summaries_folder\\qwen2.5_7b_20241213_204631\\CJG_26_2023_07_08-summary_3.txt -> C:/Users/G/Documents/GitHub/audycje.com.pl/content/audio\\CJG_26_2023_07_08.txt\n",
      "Record already exists: voiceapp\\output\\summaries_folder\\qwen2.5_7b_20241213_204631\\CJG_26_2023_07_08-summary_4.txt -> C:/Users/G/Documents/GitHub/audycje.com.pl/content/audio\\CJG_26_2023_07_08.txt\n",
      "Record already exists: voiceapp\\output\\summaries_folder\\qwen2.5_7b_20241213_204631\\CJG_26_2023_07_08-summary_5.txt -> C:/Users/G/Documents/GitHub/audycje.com.pl/content/audio\\CJG_26_2023_07_08.txt\n",
      "Record already exists: voiceapp\\output\\summaries_folder\\qwen2.5_7b_20241213_204631\\CJG_26_2023_07_08-summary_1.txt -> C:/Users/G/Documents/GitHub/audycje.com.pl/content/audio\\CJG_26_2023_07_08.txt\n",
      "Record already exists: voiceapp\\output\\summaries_folder\\qwen2.5_7b_20241213_204631\\CJG_26_2023_07_08-summary_2.txt -> C:/Users/G/Documents/GitHub/audycje.com.pl/content/audio\\CJG_26_2023_07_08.txt\n",
      "Record already exists: voiceapp\\output\\summaries_folder\\qwen2.5_7b_20241213_204631\\CJG_26_2023_07_08-summary_3.txt -> C:/Users/G/Documents/GitHub/audycje.com.pl/content/audio\\CJG_26_2023_07_08.txt\n",
      "Record already exists: voiceapp\\output\\summaries_folder\\qwen2.5_7b_20241213_204631\\CJG_26_2023_07_08-summary_4.txt -> C:/Users/G/Documents/GitHub/audycje.com.pl/content/audio\\CJG_26_2023_07_08.txt\n"
     ]
    },
    {
     "name": "stderr",
     "output_type": "stream",
     "text": [
      "\n",
      "\n",
      "Summarizing files for qwen2.5:7b:  27%|█████████████████████▋                                                           | 26/97 [1:02:07<2:24:50, 122.40s/it, file=CJG_25_2023_07_01.txt, summaries_count=20, time=94.96 seconds]\u001b[A\u001b[A\n",
      "\n",
      "Summarizing files for qwen2.5:7b:  27%|█████████████████████▋                                                           | 26/97 [1:02:07<2:24:50, 122.40s/it, file=CJG_26_2023_07_08.txt, summaries_count=20, time=92.45 seconds]\u001b[A\u001b[A"
     ]
    },
    {
     "name": "stdout",
     "output_type": "stream",
     "text": [
      "Record already exists: voiceapp\\output\\summaries_folder\\qwen2.5_7b_20241213_204631\\CJG_26_2023_07_08-summary_5.txt -> C:/Users/G/Documents/GitHub/audycje.com.pl/content/audio\\CJG_26_2023_07_08.txt\n",
      "Record already exists: voiceapp\\output\\summaries_folder\\qwen2.5_7b_20241213_204631\\CJG_27_2023_07_15-summary_1.txt -> C:/Users/G/Documents/GitHub/audycje.com.pl/content/audio\\CJG_27_2023_07_15.txt\n",
      "Record already exists: voiceapp\\output\\summaries_folder\\qwen2.5_7b_20241213_204631\\CJG_27_2023_07_15-summary_2.txt -> C:/Users/G/Documents/GitHub/audycje.com.pl/content/audio\\CJG_27_2023_07_15.txt\n",
      "Record already exists: voiceapp\\output\\summaries_folder\\qwen2.5_7b_20241213_204631\\CJG_27_2023_07_15-summary_3.txt -> C:/Users/G/Documents/GitHub/audycje.com.pl/content/audio\\CJG_27_2023_07_15.txt\n",
      "Record already exists: voiceapp\\output\\summaries_folder\\qwen2.5_7b_20241213_204631\\CJG_27_2023_07_15-summary_4.txt -> C:/Users/G/Documents/GitHub/audycje.com.pl/content/audio\\CJG_27_2023_07_15.txt\n",
      "Record already exists: voiceapp\\output\\summaries_folder\\qwen2.5_7b_20241213_204631\\CJG_27_2023_07_15-summary_5.txt -> C:/Users/G/Documents/GitHub/audycje.com.pl/content/audio\\CJG_27_2023_07_15.txt\n",
      "Record already exists: voiceapp\\output\\summaries_folder\\qwen2.5_7b_20241213_204631\\CJG_27_2023_07_15-summary_1.txt -> C:/Users/G/Documents/GitHub/audycje.com.pl/content/audio\\CJG_27_2023_07_15.txt\n",
      "Record already exists: voiceapp\\output\\summaries_folder\\qwen2.5_7b_20241213_204631\\CJG_27_2023_07_15-summary_2.txt -> C:/Users/G/Documents/GitHub/audycje.com.pl/content/audio\\CJG_27_2023_07_15.txt\n",
      "Record already exists: voiceapp\\output\\summaries_folder\\qwen2.5_7b_20241213_204631\\CJG_27_2023_07_15-summary_3.txt -> C:/Users/G/Documents/GitHub/audycje.com.pl/content/audio\\CJG_27_2023_07_15.txt\n",
      "Record already exists: voiceapp\\output\\summaries_folder\\qwen2.5_7b_20241213_204631\\CJG_27_2023_07_15-summary_4.txt -> C:/Users/G/Documents/GitHub/audycje.com.pl/content/audio\\CJG_27_2023_07_15.txt\n",
      "Record already exists: voiceapp\\output\\summaries_folder\\qwen2.5_7b_20241213_204631\\CJG_27_2023_07_15-summary_5.txt -> C:/Users/G/Documents/GitHub/audycje.com.pl/content/audio\\CJG_27_2023_07_15.txt\n",
      "Record already exists: voiceapp\\output\\summaries_folder\\qwen2.5_7b_20241213_204631\\CJG_27_2023_07_15-summary_1.txt -> C:/Users/G/Documents/GitHub/audycje.com.pl/content/audio\\CJG_27_2023_07_15.txt\n",
      "Record already exists: voiceapp\\output\\summaries_folder\\qwen2.5_7b_20241213_204631\\CJG_27_2023_07_15-summary_2.txt -> C:/Users/G/Documents/GitHub/audycje.com.pl/content/audio\\CJG_27_2023_07_15.txt\n",
      "Record already exists: voiceapp\\output\\summaries_folder\\qwen2.5_7b_20241213_204631\\CJG_27_2023_07_15-summary_3.txt -> C:/Users/G/Documents/GitHub/audycje.com.pl/content/audio\\CJG_27_2023_07_15.txt\n",
      "Record already exists: voiceapp\\output\\summaries_folder\\qwen2.5_7b_20241213_204631\\CJG_27_2023_07_15-summary_4.txt -> C:/Users/G/Documents/GitHub/audycje.com.pl/content/audio\\CJG_27_2023_07_15.txt\n"
     ]
    },
    {
     "name": "stderr",
     "output_type": "stream",
     "text": [
      "\n",
      "\n",
      "Summarizing files for qwen2.5:7b:  28%|██████████████████████▌                                                          | 27/97 [1:03:39<2:12:04, 113.20s/it, file=CJG_26_2023_07_08.txt, summaries_count=20, time=92.45 seconds]\u001b[A\u001b[A\n",
      "\n",
      "Summarizing files for qwen2.5:7b:  28%|██████████████████████▌                                                          | 27/97 [1:03:39<2:12:04, 113.20s/it, file=CJG_27_2023_07_15.txt, summaries_count=20, time=91.75 seconds]\u001b[A\u001b[A"
     ]
    },
    {
     "name": "stdout",
     "output_type": "stream",
     "text": [
      "Record already exists: voiceapp\\output\\summaries_folder\\qwen2.5_7b_20241213_204631\\CJG_27_2023_07_15-summary_5.txt -> C:/Users/G/Documents/GitHub/audycje.com.pl/content/audio\\CJG_27_2023_07_15.txt\n",
      "Record already exists: voiceapp\\output\\summaries_folder\\qwen2.5_7b_20241213_204631\\CJG_28_2023_07_22-summary_1.txt -> C:/Users/G/Documents/GitHub/audycje.com.pl/content/audio\\CJG_28_2023_07_22.txt\n",
      "Record already exists: voiceapp\\output\\summaries_folder\\qwen2.5_7b_20241213_204631\\CJG_28_2023_07_22-summary_2.txt -> C:/Users/G/Documents/GitHub/audycje.com.pl/content/audio\\CJG_28_2023_07_22.txt\n",
      "Record already exists: voiceapp\\output\\summaries_folder\\qwen2.5_7b_20241213_204631\\CJG_28_2023_07_22-summary_3.txt -> C:/Users/G/Documents/GitHub/audycje.com.pl/content/audio\\CJG_28_2023_07_22.txt\n",
      "Record already exists: voiceapp\\output\\summaries_folder\\qwen2.5_7b_20241213_204631\\CJG_28_2023_07_22-summary_4.txt -> C:/Users/G/Documents/GitHub/audycje.com.pl/content/audio\\CJG_28_2023_07_22.txt\n",
      "Record already exists: voiceapp\\output\\summaries_folder\\qwen2.5_7b_20241213_204631\\CJG_28_2023_07_22-summary_5.txt -> C:/Users/G/Documents/GitHub/audycje.com.pl/content/audio\\CJG_28_2023_07_22.txt\n",
      "Record already exists: voiceapp\\output\\summaries_folder\\qwen2.5_7b_20241213_204631\\CJG_28_2023_07_22-summary_1.txt -> C:/Users/G/Documents/GitHub/audycje.com.pl/content/audio\\CJG_28_2023_07_22.txt\n",
      "Record already exists: voiceapp\\output\\summaries_folder\\qwen2.5_7b_20241213_204631\\CJG_28_2023_07_22-summary_2.txt -> C:/Users/G/Documents/GitHub/audycje.com.pl/content/audio\\CJG_28_2023_07_22.txt\n",
      "Record already exists: voiceapp\\output\\summaries_folder\\qwen2.5_7b_20241213_204631\\CJG_28_2023_07_22-summary_3.txt -> C:/Users/G/Documents/GitHub/audycje.com.pl/content/audio\\CJG_28_2023_07_22.txt\n",
      "Record already exists: voiceapp\\output\\summaries_folder\\qwen2.5_7b_20241213_204631\\CJG_28_2023_07_22-summary_4.txt -> C:/Users/G/Documents/GitHub/audycje.com.pl/content/audio\\CJG_28_2023_07_22.txt\n"
     ]
    },
    {
     "name": "stderr",
     "output_type": "stream",
     "text": [
      "\n",
      "\n",
      "Summarizing files for qwen2.5:7b:  29%|███████████████████████▍                                                         | 28/97 [1:04:53<1:56:43, 101.50s/it, file=CJG_27_2023_07_15.txt, summaries_count=20, time=91.75 seconds]\u001b[A\u001b[A\n",
      "\n",
      "Summarizing files for qwen2.5:7b:  29%|███████████████████████▍                                                         | 28/97 [1:04:53<1:56:43, 101.50s/it, file=CJG_28_2023_07_22.txt, summaries_count=15, time=74.20 seconds]\u001b[A\u001b[A"
     ]
    },
    {
     "name": "stdout",
     "output_type": "stream",
     "text": [
      "Record already exists: voiceapp\\output\\summaries_folder\\qwen2.5_7b_20241213_204631\\CJG_28_2023_07_22-summary_5.txt -> C:/Users/G/Documents/GitHub/audycje.com.pl/content/audio\\CJG_28_2023_07_22.txt\n",
      "Record already exists: voiceapp\\output\\summaries_folder\\qwen2.5_7b_20241213_204631\\CJG_29_2023_07_29-summary_1.txt -> C:/Users/G/Documents/GitHub/audycje.com.pl/content/audio\\CJG_29_2023_07_29.txt\n",
      "Record already exists: voiceapp\\output\\summaries_folder\\qwen2.5_7b_20241213_204631\\CJG_29_2023_07_29-summary_2.txt -> C:/Users/G/Documents/GitHub/audycje.com.pl/content/audio\\CJG_29_2023_07_29.txt\n",
      "Record already exists: voiceapp\\output\\summaries_folder\\qwen2.5_7b_20241213_204631\\CJG_29_2023_07_29-summary_3.txt -> C:/Users/G/Documents/GitHub/audycje.com.pl/content/audio\\CJG_29_2023_07_29.txt\n",
      "Record already exists: voiceapp\\output\\summaries_folder\\qwen2.5_7b_20241213_204631\\CJG_29_2023_07_29-summary_4.txt -> C:/Users/G/Documents/GitHub/audycje.com.pl/content/audio\\CJG_29_2023_07_29.txt\n",
      "Record already exists: voiceapp\\output\\summaries_folder\\qwen2.5_7b_20241213_204631\\CJG_29_2023_07_29-summary_5.txt -> C:/Users/G/Documents/GitHub/audycje.com.pl/content/audio\\CJG_29_2023_07_29.txt\n",
      "Record already exists: voiceapp\\output\\summaries_folder\\qwen2.5_7b_20241213_204631\\CJG_29_2023_07_29-summary_1.txt -> C:/Users/G/Documents/GitHub/audycje.com.pl/content/audio\\CJG_29_2023_07_29.txt\n",
      "Record already exists: voiceapp\\output\\summaries_folder\\qwen2.5_7b_20241213_204631\\CJG_29_2023_07_29-summary_2.txt -> C:/Users/G/Documents/GitHub/audycje.com.pl/content/audio\\CJG_29_2023_07_29.txt\n",
      "Record already exists: voiceapp\\output\\summaries_folder\\qwen2.5_7b_20241213_204631\\CJG_29_2023_07_29-summary_3.txt -> C:/Users/G/Documents/GitHub/audycje.com.pl/content/audio\\CJG_29_2023_07_29.txt\n",
      "Record already exists: voiceapp\\output\\summaries_folder\\qwen2.5_7b_20241213_204631\\CJG_29_2023_07_29-summary_4.txt -> C:/Users/G/Documents/GitHub/audycje.com.pl/content/audio\\CJG_29_2023_07_29.txt\n",
      "Record already exists: voiceapp\\output\\summaries_folder\\qwen2.5_7b_20241213_204631\\CJG_29_2023_07_29-summary_5.txt -> C:/Users/G/Documents/GitHub/audycje.com.pl/content/audio\\CJG_29_2023_07_29.txt\n",
      "Record already exists: voiceapp\\output\\summaries_folder\\qwen2.5_7b_20241213_204631\\CJG_29_2023_07_29-summary_1.txt -> C:/Users/G/Documents/GitHub/audycje.com.pl/content/audio\\CJG_29_2023_07_29.txt\n",
      "Record already exists: voiceapp\\output\\summaries_folder\\qwen2.5_7b_20241213_204631\\CJG_29_2023_07_29-summary_2.txt -> C:/Users/G/Documents/GitHub/audycje.com.pl/content/audio\\CJG_29_2023_07_29.txt\n",
      "Record already exists: voiceapp\\output\\summaries_folder\\qwen2.5_7b_20241213_204631\\CJG_29_2023_07_29-summary_3.txt -> C:/Users/G/Documents/GitHub/audycje.com.pl/content/audio\\CJG_29_2023_07_29.txt\n",
      "Record already exists: voiceapp\\output\\summaries_folder\\qwen2.5_7b_20241213_204631\\CJG_29_2023_07_29-summary_4.txt -> C:/Users/G/Documents/GitHub/audycje.com.pl/content/audio\\CJG_29_2023_07_29.txt\n"
     ]
    },
    {
     "name": "stderr",
     "output_type": "stream",
     "text": [
      "\n",
      "\n",
      "Summarizing files for qwen2.5:7b:  30%|████████████████████████▏                                                        | 29/97 [1:09:28<2:53:59, 153.52s/it, file=CJG_28_2023_07_22.txt, summaries_count=15, time=74.20 seconds]\u001b[A\u001b[A\n",
      "\n",
      "Summarizing files for qwen2.5:7b:  30%|███████████████████████▉                                                        | 29/97 [1:09:28<2:53:59, 153.52s/it, file=CJG_29_2023_07_29.txt, summaries_count=20, time=274.87 seconds]\u001b[A\u001b[A"
     ]
    },
    {
     "name": "stdout",
     "output_type": "stream",
     "text": [
      "Record already exists: voiceapp\\output\\summaries_folder\\qwen2.5_7b_20241213_204631\\CJG_29_2023_07_29-summary_5.txt -> C:/Users/G/Documents/GitHub/audycje.com.pl/content/audio\\CJG_29_2023_07_29.txt\n",
      "Record already exists: voiceapp\\output\\summaries_folder\\qwen2.5_7b_20241213_204631\\CJG_30_2023_08_05-summary_1.txt -> C:/Users/G/Documents/GitHub/audycje.com.pl/content/audio\\CJG_30_2023_08_05.txt\n",
      "Record already exists: voiceapp\\output\\summaries_folder\\qwen2.5_7b_20241213_204631\\CJG_30_2023_08_05-summary_2.txt -> C:/Users/G/Documents/GitHub/audycje.com.pl/content/audio\\CJG_30_2023_08_05.txt\n",
      "Record already exists: voiceapp\\output\\summaries_folder\\qwen2.5_7b_20241213_204631\\CJG_30_2023_08_05-summary_3.txt -> C:/Users/G/Documents/GitHub/audycje.com.pl/content/audio\\CJG_30_2023_08_05.txt\n",
      "Record already exists: voiceapp\\output\\summaries_folder\\qwen2.5_7b_20241213_204631\\CJG_30_2023_08_05-summary_4.txt -> C:/Users/G/Documents/GitHub/audycje.com.pl/content/audio\\CJG_30_2023_08_05.txt\n",
      "Record already exists: voiceapp\\output\\summaries_folder\\qwen2.5_7b_20241213_204631\\CJG_30_2023_08_05-summary_5.txt -> C:/Users/G/Documents/GitHub/audycje.com.pl/content/audio\\CJG_30_2023_08_05.txt\n",
      "Record already exists: voiceapp\\output\\summaries_folder\\qwen2.5_7b_20241213_204631\\CJG_30_2023_08_05-summary_1.txt -> C:/Users/G/Documents/GitHub/audycje.com.pl/content/audio\\CJG_30_2023_08_05.txt\n",
      "Record already exists: voiceapp\\output\\summaries_folder\\qwen2.5_7b_20241213_204631\\CJG_30_2023_08_05-summary_2.txt -> C:/Users/G/Documents/GitHub/audycje.com.pl/content/audio\\CJG_30_2023_08_05.txt\n",
      "Record already exists: voiceapp\\output\\summaries_folder\\qwen2.5_7b_20241213_204631\\CJG_30_2023_08_05-summary_3.txt -> C:/Users/G/Documents/GitHub/audycje.com.pl/content/audio\\CJG_30_2023_08_05.txt\n",
      "Record already exists: voiceapp\\output\\summaries_folder\\qwen2.5_7b_20241213_204631\\CJG_30_2023_08_05-summary_4.txt -> C:/Users/G/Documents/GitHub/audycje.com.pl/content/audio\\CJG_30_2023_08_05.txt\n",
      "Record already exists: voiceapp\\output\\summaries_folder\\qwen2.5_7b_20241213_204631\\CJG_30_2023_08_05-summary_5.txt -> C:/Users/G/Documents/GitHub/audycje.com.pl/content/audio\\CJG_30_2023_08_05.txt\n",
      "Record already exists: voiceapp\\output\\summaries_folder\\qwen2.5_7b_20241213_204631\\CJG_30_2023_08_05-summary_1.txt -> C:/Users/G/Documents/GitHub/audycje.com.pl/content/audio\\CJG_30_2023_08_05.txt\n",
      "Record already exists: voiceapp\\output\\summaries_folder\\qwen2.5_7b_20241213_204631\\CJG_30_2023_08_05-summary_2.txt -> C:/Users/G/Documents/GitHub/audycje.com.pl/content/audio\\CJG_30_2023_08_05.txt\n",
      "Record already exists: voiceapp\\output\\summaries_folder\\qwen2.5_7b_20241213_204631\\CJG_30_2023_08_05-summary_3.txt -> C:/Users/G/Documents/GitHub/audycje.com.pl/content/audio\\CJG_30_2023_08_05.txt\n",
      "Record already exists: voiceapp\\output\\summaries_folder\\qwen2.5_7b_20241213_204631\\CJG_30_2023_08_05-summary_4.txt -> C:/Users/G/Documents/GitHub/audycje.com.pl/content/audio\\CJG_30_2023_08_05.txt\n"
     ]
    },
    {
     "name": "stderr",
     "output_type": "stream",
     "text": [
      "\n",
      "\n",
      "Summarizing files for qwen2.5:7b:  31%|████████████████████████▋                                                       | 30/97 [1:11:02<2:31:29, 135.66s/it, file=CJG_29_2023_07_29.txt, summaries_count=20, time=274.87 seconds]\u001b[A\u001b[A\n",
      "\n",
      "Summarizing files for qwen2.5:7b:  31%|█████████████████████████                                                        | 30/97 [1:11:02<2:31:29, 135.66s/it, file=CJG_30_2023_08_05.txt, summaries_count=20, time=94.01 seconds]\u001b[A\u001b[A"
     ]
    },
    {
     "name": "stdout",
     "output_type": "stream",
     "text": [
      "Record already exists: voiceapp\\output\\summaries_folder\\qwen2.5_7b_20241213_204631\\CJG_30_2023_08_05-summary_5.txt -> C:/Users/G/Documents/GitHub/audycje.com.pl/content/audio\\CJG_30_2023_08_05.txt\n",
      "Record already exists: voiceapp\\output\\summaries_folder\\qwen2.5_7b_20241213_204631\\CJG_31_2023_09_09-summary_1.txt -> C:/Users/G/Documents/GitHub/audycje.com.pl/content/audio\\CJG_31_2023_09_09.txt\n",
      "Record already exists: voiceapp\\output\\summaries_folder\\qwen2.5_7b_20241213_204631\\CJG_31_2023_09_09-summary_2.txt -> C:/Users/G/Documents/GitHub/audycje.com.pl/content/audio\\CJG_31_2023_09_09.txt\n",
      "Record already exists: voiceapp\\output\\summaries_folder\\qwen2.5_7b_20241213_204631\\CJG_31_2023_09_09-summary_3.txt -> C:/Users/G/Documents/GitHub/audycje.com.pl/content/audio\\CJG_31_2023_09_09.txt\n",
      "Record already exists: voiceapp\\output\\summaries_folder\\qwen2.5_7b_20241213_204631\\CJG_31_2023_09_09-summary_4.txt -> C:/Users/G/Documents/GitHub/audycje.com.pl/content/audio\\CJG_31_2023_09_09.txt\n",
      "Record already exists: voiceapp\\output\\summaries_folder\\qwen2.5_7b_20241213_204631\\CJG_31_2023_09_09-summary_5.txt -> C:/Users/G/Documents/GitHub/audycje.com.pl/content/audio\\CJG_31_2023_09_09.txt\n",
      "Record already exists: voiceapp\\output\\summaries_folder\\qwen2.5_7b_20241213_204631\\CJG_31_2023_09_09-summary_1.txt -> C:/Users/G/Documents/GitHub/audycje.com.pl/content/audio\\CJG_31_2023_09_09.txt\n",
      "Record already exists: voiceapp\\output\\summaries_folder\\qwen2.5_7b_20241213_204631\\CJG_31_2023_09_09-summary_2.txt -> C:/Users/G/Documents/GitHub/audycje.com.pl/content/audio\\CJG_31_2023_09_09.txt\n",
      "Record already exists: voiceapp\\output\\summaries_folder\\qwen2.5_7b_20241213_204631\\CJG_31_2023_09_09-summary_3.txt -> C:/Users/G/Documents/GitHub/audycje.com.pl/content/audio\\CJG_31_2023_09_09.txt\n",
      "Record already exists: voiceapp\\output\\summaries_folder\\qwen2.5_7b_20241213_204631\\CJG_31_2023_09_09-summary_4.txt -> C:/Users/G/Documents/GitHub/audycje.com.pl/content/audio\\CJG_31_2023_09_09.txt\n",
      "Record already exists: voiceapp\\output\\summaries_folder\\qwen2.5_7b_20241213_204631\\CJG_31_2023_09_09-summary_5.txt -> C:/Users/G/Documents/GitHub/audycje.com.pl/content/audio\\CJG_31_2023_09_09.txt\n",
      "Record already exists: voiceapp\\output\\summaries_folder\\qwen2.5_7b_20241213_204631\\CJG_31_2023_09_09-summary_1.txt -> C:/Users/G/Documents/GitHub/audycje.com.pl/content/audio\\CJG_31_2023_09_09.txt\n",
      "Record already exists: voiceapp\\output\\summaries_folder\\qwen2.5_7b_20241213_204631\\CJG_31_2023_09_09-summary_2.txt -> C:/Users/G/Documents/GitHub/audycje.com.pl/content/audio\\CJG_31_2023_09_09.txt\n",
      "Record already exists: voiceapp\\output\\summaries_folder\\qwen2.5_7b_20241213_204631\\CJG_31_2023_09_09-summary_3.txt -> C:/Users/G/Documents/GitHub/audycje.com.pl/content/audio\\CJG_31_2023_09_09.txt\n",
      "Record already exists: voiceapp\\output\\summaries_folder\\qwen2.5_7b_20241213_204631\\CJG_31_2023_09_09-summary_4.txt -> C:/Users/G/Documents/GitHub/audycje.com.pl/content/audio\\CJG_31_2023_09_09.txt\n"
     ]
    },
    {
     "name": "stderr",
     "output_type": "stream",
     "text": [
      "\n",
      "\n",
      "Summarizing files for qwen2.5:7b:  32%|█████████████████████████▉                                                       | 31/97 [1:12:54<2:21:34, 128.71s/it, file=CJG_30_2023_08_05.txt, summaries_count=20, time=94.01 seconds]\u001b[A\u001b[A\n",
      "\n",
      "Summarizing files for qwen2.5:7b:  32%|█████████████████████████▌                                                      | 31/97 [1:12:54<2:21:34, 128.71s/it, file=CJG_31_2023_09_09.txt, summaries_count=20, time=112.48 seconds]\u001b[A\u001b[A"
     ]
    },
    {
     "name": "stdout",
     "output_type": "stream",
     "text": [
      "Record already exists: voiceapp\\output\\summaries_folder\\qwen2.5_7b_20241213_204631\\CJG_31_2023_09_09-summary_5.txt -> C:/Users/G/Documents/GitHub/audycje.com.pl/content/audio\\CJG_31_2023_09_09.txt\n",
      "Record already exists: voiceapp\\output\\summaries_folder\\qwen2.5_7b_20241213_204631\\CJG_32_2023_09_16-summary_1.txt -> C:/Users/G/Documents/GitHub/audycje.com.pl/content/audio\\CJG_32_2023_09_16.txt\n",
      "Record already exists: voiceapp\\output\\summaries_folder\\qwen2.5_7b_20241213_204631\\CJG_32_2023_09_16-summary_2.txt -> C:/Users/G/Documents/GitHub/audycje.com.pl/content/audio\\CJG_32_2023_09_16.txt\n",
      "Record already exists: voiceapp\\output\\summaries_folder\\qwen2.5_7b_20241213_204631\\CJG_32_2023_09_16-summary_3.txt -> C:/Users/G/Documents/GitHub/audycje.com.pl/content/audio\\CJG_32_2023_09_16.txt\n",
      "Record already exists: voiceapp\\output\\summaries_folder\\qwen2.5_7b_20241213_204631\\CJG_32_2023_09_16-summary_4.txt -> C:/Users/G/Documents/GitHub/audycje.com.pl/content/audio\\CJG_32_2023_09_16.txt\n",
      "Record already exists: voiceapp\\output\\summaries_folder\\qwen2.5_7b_20241213_204631\\CJG_32_2023_09_16-summary_5.txt -> C:/Users/G/Documents/GitHub/audycje.com.pl/content/audio\\CJG_32_2023_09_16.txt\n",
      "Record already exists: voiceapp\\output\\summaries_folder\\qwen2.5_7b_20241213_204631\\CJG_32_2023_09_16-summary_1.txt -> C:/Users/G/Documents/GitHub/audycje.com.pl/content/audio\\CJG_32_2023_09_16.txt\n",
      "Record already exists: voiceapp\\output\\summaries_folder\\qwen2.5_7b_20241213_204631\\CJG_32_2023_09_16-summary_2.txt -> C:/Users/G/Documents/GitHub/audycje.com.pl/content/audio\\CJG_32_2023_09_16.txt\n",
      "Record already exists: voiceapp\\output\\summaries_folder\\qwen2.5_7b_20241213_204631\\CJG_32_2023_09_16-summary_3.txt -> C:/Users/G/Documents/GitHub/audycje.com.pl/content/audio\\CJG_32_2023_09_16.txt\n",
      "Record already exists: voiceapp\\output\\summaries_folder\\qwen2.5_7b_20241213_204631\\CJG_32_2023_09_16-summary_4.txt -> C:/Users/G/Documents/GitHub/audycje.com.pl/content/audio\\CJG_32_2023_09_16.txt\n",
      "Record already exists: voiceapp\\output\\summaries_folder\\qwen2.5_7b_20241213_204631\\CJG_32_2023_09_16-summary_5.txt -> C:/Users/G/Documents/GitHub/audycje.com.pl/content/audio\\CJG_32_2023_09_16.txt\n",
      "Record already exists: voiceapp\\output\\summaries_folder\\qwen2.5_7b_20241213_204631\\CJG_32_2023_09_16-summary_1.txt -> C:/Users/G/Documents/GitHub/audycje.com.pl/content/audio\\CJG_32_2023_09_16.txt\n",
      "Record already exists: voiceapp\\output\\summaries_folder\\qwen2.5_7b_20241213_204631\\CJG_32_2023_09_16-summary_2.txt -> C:/Users/G/Documents/GitHub/audycje.com.pl/content/audio\\CJG_32_2023_09_16.txt\n",
      "Record already exists: voiceapp\\output\\summaries_folder\\qwen2.5_7b_20241213_204631\\CJG_32_2023_09_16-summary_3.txt -> C:/Users/G/Documents/GitHub/audycje.com.pl/content/audio\\CJG_32_2023_09_16.txt\n",
      "Record already exists: voiceapp\\output\\summaries_folder\\qwen2.5_7b_20241213_204631\\CJG_32_2023_09_16-summary_4.txt -> C:/Users/G/Documents/GitHub/audycje.com.pl/content/audio\\CJG_32_2023_09_16.txt\n"
     ]
    },
    {
     "name": "stderr",
     "output_type": "stream",
     "text": [
      "\n",
      "\n",
      "Summarizing files for qwen2.5:7b:  33%|██████████████████████████▍                                                     | 32/97 [1:14:56<2:17:08, 126.59s/it, file=CJG_31_2023_09_09.txt, summaries_count=20, time=112.48 seconds]\u001b[A\u001b[A\n",
      "\n",
      "Summarizing files for qwen2.5:7b:  33%|██████████████████████████▍                                                     | 32/97 [1:14:56<2:17:08, 126.59s/it, file=CJG_32_2023_09_16.txt, summaries_count=20, time=121.64 seconds]\u001b[A\u001b[A"
     ]
    },
    {
     "name": "stdout",
     "output_type": "stream",
     "text": [
      "Record already exists: voiceapp\\output\\summaries_folder\\qwen2.5_7b_20241213_204631\\CJG_32_2023_09_16-summary_5.txt -> C:/Users/G/Documents/GitHub/audycje.com.pl/content/audio\\CJG_32_2023_09_16.txt\n",
      "Record already exists: voiceapp\\output\\summaries_folder\\qwen2.5_7b_20241213_204631\\CJG_33_2023_09_23-summary_1.txt -> C:/Users/G/Documents/GitHub/audycje.com.pl/content/audio\\CJG_33_2023_09_23.txt\n",
      "Record already exists: voiceapp\\output\\summaries_folder\\qwen2.5_7b_20241213_204631\\CJG_33_2023_09_23-summary_2.txt -> C:/Users/G/Documents/GitHub/audycje.com.pl/content/audio\\CJG_33_2023_09_23.txt\n",
      "Record already exists: voiceapp\\output\\summaries_folder\\qwen2.5_7b_20241213_204631\\CJG_33_2023_09_23-summary_3.txt -> C:/Users/G/Documents/GitHub/audycje.com.pl/content/audio\\CJG_33_2023_09_23.txt\n",
      "Record already exists: voiceapp\\output\\summaries_folder\\qwen2.5_7b_20241213_204631\\CJG_33_2023_09_23-summary_4.txt -> C:/Users/G/Documents/GitHub/audycje.com.pl/content/audio\\CJG_33_2023_09_23.txt\n",
      "Record already exists: voiceapp\\output\\summaries_folder\\qwen2.5_7b_20241213_204631\\CJG_33_2023_09_23-summary_5.txt -> C:/Users/G/Documents/GitHub/audycje.com.pl/content/audio\\CJG_33_2023_09_23.txt\n",
      "Record already exists: voiceapp\\output\\summaries_folder\\qwen2.5_7b_20241213_204631\\CJG_33_2023_09_23-summary_1.txt -> C:/Users/G/Documents/GitHub/audycje.com.pl/content/audio\\CJG_33_2023_09_23.txt\n",
      "Record already exists: voiceapp\\output\\summaries_folder\\qwen2.5_7b_20241213_204631\\CJG_33_2023_09_23-summary_2.txt -> C:/Users/G/Documents/GitHub/audycje.com.pl/content/audio\\CJG_33_2023_09_23.txt\n",
      "Record already exists: voiceapp\\output\\summaries_folder\\qwen2.5_7b_20241213_204631\\CJG_33_2023_09_23-summary_3.txt -> C:/Users/G/Documents/GitHub/audycje.com.pl/content/audio\\CJG_33_2023_09_23.txt\n",
      "Record already exists: voiceapp\\output\\summaries_folder\\qwen2.5_7b_20241213_204631\\CJG_33_2023_09_23-summary_4.txt -> C:/Users/G/Documents/GitHub/audycje.com.pl/content/audio\\CJG_33_2023_09_23.txt\n",
      "Record already exists: voiceapp\\output\\summaries_folder\\qwen2.5_7b_20241213_204631\\CJG_33_2023_09_23-summary_5.txt -> C:/Users/G/Documents/GitHub/audycje.com.pl/content/audio\\CJG_33_2023_09_23.txt\n",
      "Record already exists: voiceapp\\output\\summaries_folder\\qwen2.5_7b_20241213_204631\\CJG_33_2023_09_23-summary_1.txt -> C:/Users/G/Documents/GitHub/audycje.com.pl/content/audio\\CJG_33_2023_09_23.txt\n",
      "Record already exists: voiceapp\\output\\summaries_folder\\qwen2.5_7b_20241213_204631\\CJG_33_2023_09_23-summary_2.txt -> C:/Users/G/Documents/GitHub/audycje.com.pl/content/audio\\CJG_33_2023_09_23.txt\n",
      "Record already exists: voiceapp\\output\\summaries_folder\\qwen2.5_7b_20241213_204631\\CJG_33_2023_09_23-summary_3.txt -> C:/Users/G/Documents/GitHub/audycje.com.pl/content/audio\\CJG_33_2023_09_23.txt\n",
      "Record already exists: voiceapp\\output\\summaries_folder\\qwen2.5_7b_20241213_204631\\CJG_33_2023_09_23-summary_4.txt -> C:/Users/G/Documents/GitHub/audycje.com.pl/content/audio\\CJG_33_2023_09_23.txt\n"
     ]
    },
    {
     "name": "stderr",
     "output_type": "stream",
     "text": [
      "\n",
      "\n",
      "Summarizing files for qwen2.5:7b:  34%|███████████████████████████▏                                                    | 33/97 [1:16:39<2:07:30, 119.54s/it, file=CJG_32_2023_09_16.txt, summaries_count=20, time=121.64 seconds]\u001b[A\u001b[A\n",
      "\n",
      "Summarizing files for qwen2.5:7b:  34%|███████████████████████████▏                                                    | 33/97 [1:16:39<2:07:30, 119.54s/it, file=CJG_33_2023_09_23.txt, summaries_count=20, time=103.12 seconds]\u001b[A\u001b[A"
     ]
    },
    {
     "name": "stdout",
     "output_type": "stream",
     "text": [
      "Record already exists: voiceapp\\output\\summaries_folder\\qwen2.5_7b_20241213_204631\\CJG_33_2023_09_23-summary_5.txt -> C:/Users/G/Documents/GitHub/audycje.com.pl/content/audio\\CJG_33_2023_09_23.txt\n",
      "Record already exists: voiceapp\\output\\summaries_folder\\qwen2.5_7b_20241213_204631\\CJG_34_2023_09_30-summary_1.txt -> C:/Users/G/Documents/GitHub/audycje.com.pl/content/audio\\CJG_34_2023_09_30.txt\n",
      "Record already exists: voiceapp\\output\\summaries_folder\\qwen2.5_7b_20241213_204631\\CJG_34_2023_09_30-summary_2.txt -> C:/Users/G/Documents/GitHub/audycje.com.pl/content/audio\\CJG_34_2023_09_30.txt\n",
      "Record already exists: voiceapp\\output\\summaries_folder\\qwen2.5_7b_20241213_204631\\CJG_34_2023_09_30-summary_3.txt -> C:/Users/G/Documents/GitHub/audycje.com.pl/content/audio\\CJG_34_2023_09_30.txt\n",
      "Record already exists: voiceapp\\output\\summaries_folder\\qwen2.5_7b_20241213_204631\\CJG_34_2023_09_30-summary_4.txt -> C:/Users/G/Documents/GitHub/audycje.com.pl/content/audio\\CJG_34_2023_09_30.txt\n",
      "Record already exists: voiceapp\\output\\summaries_folder\\qwen2.5_7b_20241213_204631\\CJG_34_2023_09_30-summary_5.txt -> C:/Users/G/Documents/GitHub/audycje.com.pl/content/audio\\CJG_34_2023_09_30.txt\n",
      "Record already exists: voiceapp\\output\\summaries_folder\\qwen2.5_7b_20241213_204631\\CJG_34_2023_09_30-summary_1.txt -> C:/Users/G/Documents/GitHub/audycje.com.pl/content/audio\\CJG_34_2023_09_30.txt\n",
      "Record already exists: voiceapp\\output\\summaries_folder\\qwen2.5_7b_20241213_204631\\CJG_34_2023_09_30-summary_2.txt -> C:/Users/G/Documents/GitHub/audycje.com.pl/content/audio\\CJG_34_2023_09_30.txt\n",
      "Record already exists: voiceapp\\output\\summaries_folder\\qwen2.5_7b_20241213_204631\\CJG_34_2023_09_30-summary_3.txt -> C:/Users/G/Documents/GitHub/audycje.com.pl/content/audio\\CJG_34_2023_09_30.txt\n",
      "Record already exists: voiceapp\\output\\summaries_folder\\qwen2.5_7b_20241213_204631\\CJG_34_2023_09_30-summary_4.txt -> C:/Users/G/Documents/GitHub/audycje.com.pl/content/audio\\CJG_34_2023_09_30.txt\n",
      "Record already exists: voiceapp\\output\\summaries_folder\\qwen2.5_7b_20241213_204631\\CJG_34_2023_09_30-summary_5.txt -> C:/Users/G/Documents/GitHub/audycje.com.pl/content/audio\\CJG_34_2023_09_30.txt\n",
      "Record already exists: voiceapp\\output\\summaries_folder\\qwen2.5_7b_20241213_204631\\CJG_34_2023_09_30-summary_1.txt -> C:/Users/G/Documents/GitHub/audycje.com.pl/content/audio\\CJG_34_2023_09_30.txt\n",
      "Record already exists: voiceapp\\output\\summaries_folder\\qwen2.5_7b_20241213_204631\\CJG_34_2023_09_30-summary_2.txt -> C:/Users/G/Documents/GitHub/audycje.com.pl/content/audio\\CJG_34_2023_09_30.txt\n",
      "Record already exists: voiceapp\\output\\summaries_folder\\qwen2.5_7b_20241213_204631\\CJG_34_2023_09_30-summary_3.txt -> C:/Users/G/Documents/GitHub/audycje.com.pl/content/audio\\CJG_34_2023_09_30.txt\n",
      "Record already exists: voiceapp\\output\\summaries_folder\\qwen2.5_7b_20241213_204631\\CJG_34_2023_09_30-summary_4.txt -> C:/Users/G/Documents/GitHub/audycje.com.pl/content/audio\\CJG_34_2023_09_30.txt\n"
     ]
    },
    {
     "name": "stderr",
     "output_type": "stream",
     "text": [
      "\n",
      "\n",
      "Summarizing files for qwen2.5:7b:  35%|████████████████████████████                                                    | 34/97 [1:18:22<2:00:23, 114.66s/it, file=CJG_33_2023_09_23.txt, summaries_count=20, time=103.12 seconds]\u001b[A\u001b[A\n",
      "\n",
      "Summarizing files for qwen2.5:7b:  35%|████████████████████████████                                                    | 34/97 [1:18:22<2:00:23, 114.66s/it, file=CJG_34_2023_09_30.txt, summaries_count=20, time=103.27 seconds]\u001b[A\u001b[A"
     ]
    },
    {
     "name": "stdout",
     "output_type": "stream",
     "text": [
      "Record already exists: voiceapp\\output\\summaries_folder\\qwen2.5_7b_20241213_204631\\CJG_34_2023_09_30-summary_5.txt -> C:/Users/G/Documents/GitHub/audycje.com.pl/content/audio\\CJG_34_2023_09_30.txt\n",
      "Record already exists: voiceapp\\output\\summaries_folder\\qwen2.5_7b_20241213_204631\\CJG_35_2023_10_07-summary_1.txt -> C:/Users/G/Documents/GitHub/audycje.com.pl/content/audio\\CJG_35_2023_10_07.txt\n",
      "Record already exists: voiceapp\\output\\summaries_folder\\qwen2.5_7b_20241213_204631\\CJG_35_2023_10_07-summary_2.txt -> C:/Users/G/Documents/GitHub/audycje.com.pl/content/audio\\CJG_35_2023_10_07.txt\n",
      "Record already exists: voiceapp\\output\\summaries_folder\\qwen2.5_7b_20241213_204631\\CJG_35_2023_10_07-summary_3.txt -> C:/Users/G/Documents/GitHub/audycje.com.pl/content/audio\\CJG_35_2023_10_07.txt\n",
      "Record already exists: voiceapp\\output\\summaries_folder\\qwen2.5_7b_20241213_204631\\CJG_35_2023_10_07-summary_4.txt -> C:/Users/G/Documents/GitHub/audycje.com.pl/content/audio\\CJG_35_2023_10_07.txt\n",
      "Record already exists: voiceapp\\output\\summaries_folder\\qwen2.5_7b_20241213_204631\\CJG_35_2023_10_07-summary_5.txt -> C:/Users/G/Documents/GitHub/audycje.com.pl/content/audio\\CJG_35_2023_10_07.txt\n",
      "Record already exists: voiceapp\\output\\summaries_folder\\qwen2.5_7b_20241213_204631\\CJG_35_2023_10_07-summary_1.txt -> C:/Users/G/Documents/GitHub/audycje.com.pl/content/audio\\CJG_35_2023_10_07.txt\n",
      "Record already exists: voiceapp\\output\\summaries_folder\\qwen2.5_7b_20241213_204631\\CJG_35_2023_10_07-summary_2.txt -> C:/Users/G/Documents/GitHub/audycje.com.pl/content/audio\\CJG_35_2023_10_07.txt\n",
      "Record already exists: voiceapp\\output\\summaries_folder\\qwen2.5_7b_20241213_204631\\CJG_35_2023_10_07-summary_3.txt -> C:/Users/G/Documents/GitHub/audycje.com.pl/content/audio\\CJG_35_2023_10_07.txt\n",
      "Record already exists: voiceapp\\output\\summaries_folder\\qwen2.5_7b_20241213_204631\\CJG_35_2023_10_07-summary_4.txt -> C:/Users/G/Documents/GitHub/audycje.com.pl/content/audio\\CJG_35_2023_10_07.txt\n",
      "Record already exists: voiceapp\\output\\summaries_folder\\qwen2.5_7b_20241213_204631\\CJG_35_2023_10_07-summary_5.txt -> C:/Users/G/Documents/GitHub/audycje.com.pl/content/audio\\CJG_35_2023_10_07.txt\n",
      "Record already exists: voiceapp\\output\\summaries_folder\\qwen2.5_7b_20241213_204631\\CJG_35_2023_10_07-summary_1.txt -> C:/Users/G/Documents/GitHub/audycje.com.pl/content/audio\\CJG_35_2023_10_07.txt\n",
      "Record already exists: voiceapp\\output\\summaries_folder\\qwen2.5_7b_20241213_204631\\CJG_35_2023_10_07-summary_2.txt -> C:/Users/G/Documents/GitHub/audycje.com.pl/content/audio\\CJG_35_2023_10_07.txt\n",
      "Record already exists: voiceapp\\output\\summaries_folder\\qwen2.5_7b_20241213_204631\\CJG_35_2023_10_07-summary_3.txt -> C:/Users/G/Documents/GitHub/audycje.com.pl/content/audio\\CJG_35_2023_10_07.txt\n",
      "Record already exists: voiceapp\\output\\summaries_folder\\qwen2.5_7b_20241213_204631\\CJG_35_2023_10_07-summary_4.txt -> C:/Users/G/Documents/GitHub/audycje.com.pl/content/audio\\CJG_35_2023_10_07.txt\n"
     ]
    },
    {
     "name": "stderr",
     "output_type": "stream",
     "text": [
      "\n",
      "\n",
      "Summarizing files for qwen2.5:7b:  36%|████████████████████████████▊                                                   | 35/97 [1:20:08<1:55:38, 111.91s/it, file=CJG_34_2023_09_30.txt, summaries_count=20, time=103.27 seconds]\u001b[A\u001b[A\n",
      "\n",
      "Summarizing files for qwen2.5:7b:  36%|████████████████████████████▊                                                   | 35/97 [1:20:08<1:55:38, 111.91s/it, file=CJG_35_2023_10_07.txt, summaries_count=20, time=105.47 seconds]\u001b[A\u001b[A"
     ]
    },
    {
     "name": "stdout",
     "output_type": "stream",
     "text": [
      "Record already exists: voiceapp\\output\\summaries_folder\\qwen2.5_7b_20241213_204631\\CJG_35_2023_10_07-summary_5.txt -> C:/Users/G/Documents/GitHub/audycje.com.pl/content/audio\\CJG_35_2023_10_07.txt\n",
      "Record already exists: voiceapp\\output\\summaries_folder\\qwen2.5_7b_20241213_204631\\CJG_36_2023_10_14-summary_1.txt -> C:/Users/G/Documents/GitHub/audycje.com.pl/content/audio\\CJG_36_2023_10_14.txt\n",
      "Record already exists: voiceapp\\output\\summaries_folder\\qwen2.5_7b_20241213_204631\\CJG_36_2023_10_14-summary_2.txt -> C:/Users/G/Documents/GitHub/audycje.com.pl/content/audio\\CJG_36_2023_10_14.txt\n",
      "Record already exists: voiceapp\\output\\summaries_folder\\qwen2.5_7b_20241213_204631\\CJG_36_2023_10_14-summary_3.txt -> C:/Users/G/Documents/GitHub/audycje.com.pl/content/audio\\CJG_36_2023_10_14.txt\n",
      "Record already exists: voiceapp\\output\\summaries_folder\\qwen2.5_7b_20241213_204631\\CJG_36_2023_10_14-summary_4.txt -> C:/Users/G/Documents/GitHub/audycje.com.pl/content/audio\\CJG_36_2023_10_14.txt\n",
      "Record already exists: voiceapp\\output\\summaries_folder\\qwen2.5_7b_20241213_204631\\CJG_36_2023_10_14-summary_5.txt -> C:/Users/G/Documents/GitHub/audycje.com.pl/content/audio\\CJG_36_2023_10_14.txt\n",
      "Record already exists: voiceapp\\output\\summaries_folder\\qwen2.5_7b_20241213_204631\\CJG_36_2023_10_14-summary_1.txt -> C:/Users/G/Documents/GitHub/audycje.com.pl/content/audio\\CJG_36_2023_10_14.txt\n",
      "Record already exists: voiceapp\\output\\summaries_folder\\qwen2.5_7b_20241213_204631\\CJG_36_2023_10_14-summary_2.txt -> C:/Users/G/Documents/GitHub/audycje.com.pl/content/audio\\CJG_36_2023_10_14.txt\n",
      "Record already exists: voiceapp\\output\\summaries_folder\\qwen2.5_7b_20241213_204631\\CJG_36_2023_10_14-summary_3.txt -> C:/Users/G/Documents/GitHub/audycje.com.pl/content/audio\\CJG_36_2023_10_14.txt\n",
      "Record already exists: voiceapp\\output\\summaries_folder\\qwen2.5_7b_20241213_204631\\CJG_36_2023_10_14-summary_4.txt -> C:/Users/G/Documents/GitHub/audycje.com.pl/content/audio\\CJG_36_2023_10_14.txt\n",
      "Record already exists: voiceapp\\output\\summaries_folder\\qwen2.5_7b_20241213_204631\\CJG_36_2023_10_14-summary_5.txt -> C:/Users/G/Documents/GitHub/audycje.com.pl/content/audio\\CJG_36_2023_10_14.txt\n",
      "Record already exists: voiceapp\\output\\summaries_folder\\qwen2.5_7b_20241213_204631\\CJG_36_2023_10_14-summary_1.txt -> C:/Users/G/Documents/GitHub/audycje.com.pl/content/audio\\CJG_36_2023_10_14.txt\n",
      "Record already exists: voiceapp\\output\\summaries_folder\\qwen2.5_7b_20241213_204631\\CJG_36_2023_10_14-summary_2.txt -> C:/Users/G/Documents/GitHub/audycje.com.pl/content/audio\\CJG_36_2023_10_14.txt\n",
      "Record already exists: voiceapp\\output\\summaries_folder\\qwen2.5_7b_20241213_204631\\CJG_36_2023_10_14-summary_3.txt -> C:/Users/G/Documents/GitHub/audycje.com.pl/content/audio\\CJG_36_2023_10_14.txt\n",
      "Record already exists: voiceapp\\output\\summaries_folder\\qwen2.5_7b_20241213_204631\\CJG_36_2023_10_14-summary_4.txt -> C:/Users/G/Documents/GitHub/audycje.com.pl/content/audio\\CJG_36_2023_10_14.txt\n"
     ]
    },
    {
     "name": "stderr",
     "output_type": "stream",
     "text": [
      "\n",
      "\n",
      "Summarizing files for qwen2.5:7b:  37%|██████████████████████████████                                                   | 36/97 [1:21:18<1:41:00, 99.35s/it, file=CJG_35_2023_10_07.txt, summaries_count=20, time=105.47 seconds]\u001b[A\u001b[A\n",
      "\n",
      "Summarizing files for qwen2.5:7b:  37%|██████████████████████████████▍                                                   | 36/97 [1:21:18<1:41:00, 99.35s/it, file=CJG_36_2023_10_14.txt, summaries_count=20, time=70.04 seconds]\u001b[A\u001b[A"
     ]
    },
    {
     "name": "stdout",
     "output_type": "stream",
     "text": [
      "Record already exists: voiceapp\\output\\summaries_folder\\qwen2.5_7b_20241213_204631\\CJG_36_2023_10_14-summary_5.txt -> C:/Users/G/Documents/GitHub/audycje.com.pl/content/audio\\CJG_36_2023_10_14.txt\n",
      "Record already exists: voiceapp\\output\\summaries_folder\\qwen2.5_7b_20241213_204631\\CJG_37_2023_10_21-summary_1.txt -> C:/Users/G/Documents/GitHub/audycje.com.pl/content/audio\\CJG_37_2023_10_21.txt\n",
      "Record already exists: voiceapp\\output\\summaries_folder\\qwen2.5_7b_20241213_204631\\CJG_37_2023_10_21-summary_2.txt -> C:/Users/G/Documents/GitHub/audycje.com.pl/content/audio\\CJG_37_2023_10_21.txt\n",
      "Record already exists: voiceapp\\output\\summaries_folder\\qwen2.5_7b_20241213_204631\\CJG_37_2023_10_21-summary_3.txt -> C:/Users/G/Documents/GitHub/audycje.com.pl/content/audio\\CJG_37_2023_10_21.txt\n",
      "Record already exists: voiceapp\\output\\summaries_folder\\qwen2.5_7b_20241213_204631\\CJG_37_2023_10_21-summary_4.txt -> C:/Users/G/Documents/GitHub/audycje.com.pl/content/audio\\CJG_37_2023_10_21.txt\n",
      "Record already exists: voiceapp\\output\\summaries_folder\\qwen2.5_7b_20241213_204631\\CJG_37_2023_10_21-summary_5.txt -> C:/Users/G/Documents/GitHub/audycje.com.pl/content/audio\\CJG_37_2023_10_21.txt\n",
      "Record already exists: voiceapp\\output\\summaries_folder\\qwen2.5_7b_20241213_204631\\CJG_37_2023_10_21-summary_1.txt -> C:/Users/G/Documents/GitHub/audycje.com.pl/content/audio\\CJG_37_2023_10_21.txt\n",
      "Record already exists: voiceapp\\output\\summaries_folder\\qwen2.5_7b_20241213_204631\\CJG_37_2023_10_21-summary_2.txt -> C:/Users/G/Documents/GitHub/audycje.com.pl/content/audio\\CJG_37_2023_10_21.txt\n",
      "Record already exists: voiceapp\\output\\summaries_folder\\qwen2.5_7b_20241213_204631\\CJG_37_2023_10_21-summary_3.txt -> C:/Users/G/Documents/GitHub/audycje.com.pl/content/audio\\CJG_37_2023_10_21.txt\n",
      "Record already exists: voiceapp\\output\\summaries_folder\\qwen2.5_7b_20241213_204631\\CJG_37_2023_10_21-summary_4.txt -> C:/Users/G/Documents/GitHub/audycje.com.pl/content/audio\\CJG_37_2023_10_21.txt\n"
     ]
    },
    {
     "name": "stderr",
     "output_type": "stream",
     "text": [
      "\n",
      "\n",
      "Summarizing files for qwen2.5:7b:  38%|███████████████████████████████▎                                                  | 37/97 [1:22:32<1:31:38, 91.65s/it, file=CJG_36_2023_10_14.txt, summaries_count=20, time=70.04 seconds]\u001b[A\u001b[A\n",
      "\n",
      "Summarizing files for qwen2.5:7b:  38%|███████████████████████████████▎                                                  | 37/97 [1:22:32<1:31:38, 91.65s/it, file=CJG_37_2023_10_21.txt, summaries_count=15, time=73.68 seconds]\u001b[A\u001b[A"
     ]
    },
    {
     "name": "stdout",
     "output_type": "stream",
     "text": [
      "Record already exists: voiceapp\\output\\summaries_folder\\qwen2.5_7b_20241213_204631\\CJG_37_2023_10_21-summary_5.txt -> C:/Users/G/Documents/GitHub/audycje.com.pl/content/audio\\CJG_37_2023_10_21.txt\n",
      "Record already exists: voiceapp\\output\\summaries_folder\\qwen2.5_7b_20241213_204631\\CJG_38_2023_10_28-summary_1.txt -> C:/Users/G/Documents/GitHub/audycje.com.pl/content/audio\\CJG_38_2023_10_28.txt\n",
      "Record already exists: voiceapp\\output\\summaries_folder\\qwen2.5_7b_20241213_204631\\CJG_38_2023_10_28-summary_2.txt -> C:/Users/G/Documents/GitHub/audycje.com.pl/content/audio\\CJG_38_2023_10_28.txt\n",
      "Record already exists: voiceapp\\output\\summaries_folder\\qwen2.5_7b_20241213_204631\\CJG_38_2023_10_28-summary_3.txt -> C:/Users/G/Documents/GitHub/audycje.com.pl/content/audio\\CJG_38_2023_10_28.txt\n",
      "Record already exists: voiceapp\\output\\summaries_folder\\qwen2.5_7b_20241213_204631\\CJG_38_2023_10_28-summary_4.txt -> C:/Users/G/Documents/GitHub/audycje.com.pl/content/audio\\CJG_38_2023_10_28.txt\n",
      "Record already exists: voiceapp\\output\\summaries_folder\\qwen2.5_7b_20241213_204631\\CJG_38_2023_10_28-summary_5.txt -> C:/Users/G/Documents/GitHub/audycje.com.pl/content/audio\\CJG_38_2023_10_28.txt\n",
      "Record already exists: voiceapp\\output\\summaries_folder\\qwen2.5_7b_20241213_204631\\CJG_38_2023_10_28-summary_1.txt -> C:/Users/G/Documents/GitHub/audycje.com.pl/content/audio\\CJG_38_2023_10_28.txt\n",
      "Record already exists: voiceapp\\output\\summaries_folder\\qwen2.5_7b_20241213_204631\\CJG_38_2023_10_28-summary_2.txt -> C:/Users/G/Documents/GitHub/audycje.com.pl/content/audio\\CJG_38_2023_10_28.txt\n",
      "Record already exists: voiceapp\\output\\summaries_folder\\qwen2.5_7b_20241213_204631\\CJG_38_2023_10_28-summary_3.txt -> C:/Users/G/Documents/GitHub/audycje.com.pl/content/audio\\CJG_38_2023_10_28.txt\n",
      "Record already exists: voiceapp\\output\\summaries_folder\\qwen2.5_7b_20241213_204631\\CJG_38_2023_10_28-summary_4.txt -> C:/Users/G/Documents/GitHub/audycje.com.pl/content/audio\\CJG_38_2023_10_28.txt\n"
     ]
    },
    {
     "name": "stderr",
     "output_type": "stream",
     "text": [
      "\n",
      "\n",
      "Summarizing files for qwen2.5:7b:  39%|████████████████████████████████                                                  | 38/97 [1:23:29<1:20:06, 81.46s/it, file=CJG_37_2023_10_21.txt, summaries_count=15, time=73.68 seconds]\u001b[A\u001b[A\n",
      "\n",
      "Summarizing files for qwen2.5:7b:  39%|████████████████████████████████                                                  | 38/97 [1:23:29<1:20:06, 81.46s/it, file=CJG_38_2023_10_28.txt, summaries_count=15, time=57.70 seconds]\u001b[A\u001b[A"
     ]
    },
    {
     "name": "stdout",
     "output_type": "stream",
     "text": [
      "Record already exists: voiceapp\\output\\summaries_folder\\qwen2.5_7b_20241213_204631\\CJG_38_2023_10_28-summary_5.txt -> C:/Users/G/Documents/GitHub/audycje.com.pl/content/audio\\CJG_38_2023_10_28.txt\n",
      "Record already exists: voiceapp\\output\\summaries_folder\\qwen2.5_7b_20241213_204631\\CJG_39_2023_11_04-summary_1.txt -> C:/Users/G/Documents/GitHub/audycje.com.pl/content/audio\\CJG_39_2023_11_04.txt\n",
      "Record already exists: voiceapp\\output\\summaries_folder\\qwen2.5_7b_20241213_204631\\CJG_39_2023_11_04-summary_2.txt -> C:/Users/G/Documents/GitHub/audycje.com.pl/content/audio\\CJG_39_2023_11_04.txt\n",
      "Record already exists: voiceapp\\output\\summaries_folder\\qwen2.5_7b_20241213_204631\\CJG_39_2023_11_04-summary_3.txt -> C:/Users/G/Documents/GitHub/audycje.com.pl/content/audio\\CJG_39_2023_11_04.txt\n",
      "Record already exists: voiceapp\\output\\summaries_folder\\qwen2.5_7b_20241213_204631\\CJG_39_2023_11_04-summary_4.txt -> C:/Users/G/Documents/GitHub/audycje.com.pl/content/audio\\CJG_39_2023_11_04.txt\n",
      "Record already exists: voiceapp\\output\\summaries_folder\\qwen2.5_7b_20241213_204631\\CJG_39_2023_11_04-summary_5.txt -> C:/Users/G/Documents/GitHub/audycje.com.pl/content/audio\\CJG_39_2023_11_04.txt\n",
      "Record already exists: voiceapp\\output\\summaries_folder\\qwen2.5_7b_20241213_204631\\CJG_39_2023_11_04-summary_1.txt -> C:/Users/G/Documents/GitHub/audycje.com.pl/content/audio\\CJG_39_2023_11_04.txt\n",
      "Record already exists: voiceapp\\output\\summaries_folder\\qwen2.5_7b_20241213_204631\\CJG_39_2023_11_04-summary_2.txt -> C:/Users/G/Documents/GitHub/audycje.com.pl/content/audio\\CJG_39_2023_11_04.txt\n",
      "Record already exists: voiceapp\\output\\summaries_folder\\qwen2.5_7b_20241213_204631\\CJG_39_2023_11_04-summary_3.txt -> C:/Users/G/Documents/GitHub/audycje.com.pl/content/audio\\CJG_39_2023_11_04.txt\n",
      "Record already exists: voiceapp\\output\\summaries_folder\\qwen2.5_7b_20241213_204631\\CJG_39_2023_11_04-summary_4.txt -> C:/Users/G/Documents/GitHub/audycje.com.pl/content/audio\\CJG_39_2023_11_04.txt\n",
      "Record already exists: voiceapp\\output\\summaries_folder\\qwen2.5_7b_20241213_204631\\CJG_39_2023_11_04-summary_5.txt -> C:/Users/G/Documents/GitHub/audycje.com.pl/content/audio\\CJG_39_2023_11_04.txt\n",
      "Record already exists: voiceapp\\output\\summaries_folder\\qwen2.5_7b_20241213_204631\\CJG_39_2023_11_04-summary_1.txt -> C:/Users/G/Documents/GitHub/audycje.com.pl/content/audio\\CJG_39_2023_11_04.txt\n",
      "Record already exists: voiceapp\\output\\summaries_folder\\qwen2.5_7b_20241213_204631\\CJG_39_2023_11_04-summary_2.txt -> C:/Users/G/Documents/GitHub/audycje.com.pl/content/audio\\CJG_39_2023_11_04.txt\n",
      "Record already exists: voiceapp\\output\\summaries_folder\\qwen2.5_7b_20241213_204631\\CJG_39_2023_11_04-summary_3.txt -> C:/Users/G/Documents/GitHub/audycje.com.pl/content/audio\\CJG_39_2023_11_04.txt\n",
      "Record already exists: voiceapp\\output\\summaries_folder\\qwen2.5_7b_20241213_204631\\CJG_39_2023_11_04-summary_4.txt -> C:/Users/G/Documents/GitHub/audycje.com.pl/content/audio\\CJG_39_2023_11_04.txt\n"
     ]
    },
    {
     "name": "stderr",
     "output_type": "stream",
     "text": [
      "\n",
      "\n",
      "Summarizing files for qwen2.5:7b:  40%|████████████████████████████████▉                                                 | 39/97 [1:25:07<1:23:21, 86.23s/it, file=CJG_38_2023_10_28.txt, summaries_count=15, time=57.70 seconds]\u001b[A\u001b[A\n",
      "\n",
      "Summarizing files for qwen2.5:7b:  40%|████████████████████████████████▉                                                 | 39/97 [1:25:07<1:23:21, 86.23s/it, file=CJG_39_2023_11_04.txt, summaries_count=20, time=97.36 seconds]\u001b[A\u001b[A"
     ]
    },
    {
     "name": "stdout",
     "output_type": "stream",
     "text": [
      "Record already exists: voiceapp\\output\\summaries_folder\\qwen2.5_7b_20241213_204631\\CJG_39_2023_11_04-summary_5.txt -> C:/Users/G/Documents/GitHub/audycje.com.pl/content/audio\\CJG_39_2023_11_04.txt\n",
      "Record already exists: voiceapp\\output\\summaries_folder\\qwen2.5_7b_20241213_204631\\CJG_40_2023_11_11-summary_1.txt -> C:/Users/G/Documents/GitHub/audycje.com.pl/content/audio\\CJG_40_2023_11_11.txt\n",
      "Record already exists: voiceapp\\output\\summaries_folder\\qwen2.5_7b_20241213_204631\\CJG_40_2023_11_11-summary_2.txt -> C:/Users/G/Documents/GitHub/audycje.com.pl/content/audio\\CJG_40_2023_11_11.txt\n",
      "Record already exists: voiceapp\\output\\summaries_folder\\qwen2.5_7b_20241213_204631\\CJG_40_2023_11_11-summary_3.txt -> C:/Users/G/Documents/GitHub/audycje.com.pl/content/audio\\CJG_40_2023_11_11.txt\n",
      "Record already exists: voiceapp\\output\\summaries_folder\\qwen2.5_7b_20241213_204631\\CJG_40_2023_11_11-summary_4.txt -> C:/Users/G/Documents/GitHub/audycje.com.pl/content/audio\\CJG_40_2023_11_11.txt\n",
      "Record already exists: voiceapp\\output\\summaries_folder\\qwen2.5_7b_20241213_204631\\CJG_40_2023_11_11-summary_5.txt -> C:/Users/G/Documents/GitHub/audycje.com.pl/content/audio\\CJG_40_2023_11_11.txt\n",
      "Record already exists: voiceapp\\output\\summaries_folder\\qwen2.5_7b_20241213_204631\\CJG_40_2023_11_11-summary_1.txt -> C:/Users/G/Documents/GitHub/audycje.com.pl/content/audio\\CJG_40_2023_11_11.txt\n",
      "Record already exists: voiceapp\\output\\summaries_folder\\qwen2.5_7b_20241213_204631\\CJG_40_2023_11_11-summary_2.txt -> C:/Users/G/Documents/GitHub/audycje.com.pl/content/audio\\CJG_40_2023_11_11.txt\n",
      "Record already exists: voiceapp\\output\\summaries_folder\\qwen2.5_7b_20241213_204631\\CJG_40_2023_11_11-summary_3.txt -> C:/Users/G/Documents/GitHub/audycje.com.pl/content/audio\\CJG_40_2023_11_11.txt\n",
      "Record already exists: voiceapp\\output\\summaries_folder\\qwen2.5_7b_20241213_204631\\CJG_40_2023_11_11-summary_4.txt -> C:/Users/G/Documents/GitHub/audycje.com.pl/content/audio\\CJG_40_2023_11_11.txt\n",
      "Record already exists: voiceapp\\output\\summaries_folder\\qwen2.5_7b_20241213_204631\\CJG_40_2023_11_11-summary_5.txt -> C:/Users/G/Documents/GitHub/audycje.com.pl/content/audio\\CJG_40_2023_11_11.txt\n",
      "Record already exists: voiceapp\\output\\summaries_folder\\qwen2.5_7b_20241213_204631\\CJG_40_2023_11_11-summary_1.txt -> C:/Users/G/Documents/GitHub/audycje.com.pl/content/audio\\CJG_40_2023_11_11.txt\n",
      "Record already exists: voiceapp\\output\\summaries_folder\\qwen2.5_7b_20241213_204631\\CJG_40_2023_11_11-summary_2.txt -> C:/Users/G/Documents/GitHub/audycje.com.pl/content/audio\\CJG_40_2023_11_11.txt\n",
      "Record already exists: voiceapp\\output\\summaries_folder\\qwen2.5_7b_20241213_204631\\CJG_40_2023_11_11-summary_3.txt -> C:/Users/G/Documents/GitHub/audycje.com.pl/content/audio\\CJG_40_2023_11_11.txt\n",
      "Record already exists: voiceapp\\output\\summaries_folder\\qwen2.5_7b_20241213_204631\\CJG_40_2023_11_11-summary_4.txt -> C:/Users/G/Documents/GitHub/audycje.com.pl/content/audio\\CJG_40_2023_11_11.txt\n"
     ]
    },
    {
     "name": "stderr",
     "output_type": "stream",
     "text": [
      "\n",
      "\n",
      "Summarizing files for qwen2.5:7b:  41%|█████████████████████████████████▊                                                | 40/97 [1:26:41<1:24:23, 88.83s/it, file=CJG_39_2023_11_04.txt, summaries_count=20, time=97.36 seconds]\u001b[A\u001b[A\n",
      "\n",
      "Summarizing files for qwen2.5:7b:  41%|█████████████████████████████████▊                                                | 40/97 [1:26:41<1:24:23, 88.83s/it, file=CJG_40_2023_11_11.txt, summaries_count=20, time=94.89 seconds]\u001b[A\u001b[A"
     ]
    },
    {
     "name": "stdout",
     "output_type": "stream",
     "text": [
      "Record already exists: voiceapp\\output\\summaries_folder\\qwen2.5_7b_20241213_204631\\CJG_40_2023_11_11-summary_5.txt -> C:/Users/G/Documents/GitHub/audycje.com.pl/content/audio\\CJG_40_2023_11_11.txt\n",
      "Record already exists: voiceapp\\output\\summaries_folder\\qwen2.5_7b_20241213_204631\\CJG_41_2023_11_18-summary_1.txt -> C:/Users/G/Documents/GitHub/audycje.com.pl/content/audio\\CJG_41_2023_11_18.txt\n",
      "Record already exists: voiceapp\\output\\summaries_folder\\qwen2.5_7b_20241213_204631\\CJG_41_2023_11_18-summary_2.txt -> C:/Users/G/Documents/GitHub/audycje.com.pl/content/audio\\CJG_41_2023_11_18.txt\n",
      "Record already exists: voiceapp\\output\\summaries_folder\\qwen2.5_7b_20241213_204631\\CJG_41_2023_11_18-summary_3.txt -> C:/Users/G/Documents/GitHub/audycje.com.pl/content/audio\\CJG_41_2023_11_18.txt\n",
      "Record already exists: voiceapp\\output\\summaries_folder\\qwen2.5_7b_20241213_204631\\CJG_41_2023_11_18-summary_4.txt -> C:/Users/G/Documents/GitHub/audycje.com.pl/content/audio\\CJG_41_2023_11_18.txt\n",
      "Record already exists: voiceapp\\output\\summaries_folder\\qwen2.5_7b_20241213_204631\\CJG_41_2023_11_18-summary_5.txt -> C:/Users/G/Documents/GitHub/audycje.com.pl/content/audio\\CJG_41_2023_11_18.txt\n",
      "Record already exists: voiceapp\\output\\summaries_folder\\qwen2.5_7b_20241213_204631\\CJG_41_2023_11_18-summary_1.txt -> C:/Users/G/Documents/GitHub/audycje.com.pl/content/audio\\CJG_41_2023_11_18.txt\n",
      "Record already exists: voiceapp\\output\\summaries_folder\\qwen2.5_7b_20241213_204631\\CJG_41_2023_11_18-summary_2.txt -> C:/Users/G/Documents/GitHub/audycje.com.pl/content/audio\\CJG_41_2023_11_18.txt\n",
      "Record already exists: voiceapp\\output\\summaries_folder\\qwen2.5_7b_20241213_204631\\CJG_41_2023_11_18-summary_3.txt -> C:/Users/G/Documents/GitHub/audycje.com.pl/content/audio\\CJG_41_2023_11_18.txt\n",
      "Record already exists: voiceapp\\output\\summaries_folder\\qwen2.5_7b_20241213_204631\\CJG_41_2023_11_18-summary_4.txt -> C:/Users/G/Documents/GitHub/audycje.com.pl/content/audio\\CJG_41_2023_11_18.txt\n",
      "Record already exists: voiceapp\\output\\summaries_folder\\qwen2.5_7b_20241213_204631\\CJG_41_2023_11_18-summary_5.txt -> C:/Users/G/Documents/GitHub/audycje.com.pl/content/audio\\CJG_41_2023_11_18.txt\n",
      "Record already exists: voiceapp\\output\\summaries_folder\\qwen2.5_7b_20241213_204631\\CJG_41_2023_11_18-summary_1.txt -> C:/Users/G/Documents/GitHub/audycje.com.pl/content/audio\\CJG_41_2023_11_18.txt\n",
      "Record already exists: voiceapp\\output\\summaries_folder\\qwen2.5_7b_20241213_204631\\CJG_41_2023_11_18-summary_2.txt -> C:/Users/G/Documents/GitHub/audycje.com.pl/content/audio\\CJG_41_2023_11_18.txt\n",
      "Record already exists: voiceapp\\output\\summaries_folder\\qwen2.5_7b_20241213_204631\\CJG_41_2023_11_18-summary_3.txt -> C:/Users/G/Documents/GitHub/audycje.com.pl/content/audio\\CJG_41_2023_11_18.txt\n",
      "Record already exists: voiceapp\\output\\summaries_folder\\qwen2.5_7b_20241213_204631\\CJG_41_2023_11_18-summary_4.txt -> C:/Users/G/Documents/GitHub/audycje.com.pl/content/audio\\CJG_41_2023_11_18.txt\n"
     ]
    },
    {
     "name": "stderr",
     "output_type": "stream",
     "text": [
      "\n",
      "\n",
      "Summarizing files for qwen2.5:7b:  42%|██████████████████████████████████▋                                               | 41/97 [1:28:15<1:24:18, 90.32s/it, file=CJG_40_2023_11_11.txt, summaries_count=20, time=94.89 seconds]\u001b[A\u001b[A\n",
      "\n",
      "Summarizing files for qwen2.5:7b:  42%|██████████████████████████████████▋                                               | 41/97 [1:28:15<1:24:18, 90.32s/it, file=CJG_41_2023_11_18.txt, summaries_count=20, time=93.81 seconds]\u001b[A\u001b[A"
     ]
    },
    {
     "name": "stdout",
     "output_type": "stream",
     "text": [
      "Record already exists: voiceapp\\output\\summaries_folder\\qwen2.5_7b_20241213_204631\\CJG_41_2023_11_18-summary_5.txt -> C:/Users/G/Documents/GitHub/audycje.com.pl/content/audio\\CJG_41_2023_11_18.txt\n",
      "Record already exists: voiceapp\\output\\summaries_folder\\qwen2.5_7b_20241213_204631\\CJG_42_2023_11_25-summary_1.txt -> C:/Users/G/Documents/GitHub/audycje.com.pl/content/audio\\CJG_42_2023_11_25.txt\n",
      "Record already exists: voiceapp\\output\\summaries_folder\\qwen2.5_7b_20241213_204631\\CJG_42_2023_11_25-summary_2.txt -> C:/Users/G/Documents/GitHub/audycje.com.pl/content/audio\\CJG_42_2023_11_25.txt\n",
      "Record already exists: voiceapp\\output\\summaries_folder\\qwen2.5_7b_20241213_204631\\CJG_42_2023_11_25-summary_3.txt -> C:/Users/G/Documents/GitHub/audycje.com.pl/content/audio\\CJG_42_2023_11_25.txt\n",
      "Record already exists: voiceapp\\output\\summaries_folder\\qwen2.5_7b_20241213_204631\\CJG_42_2023_11_25-summary_4.txt -> C:/Users/G/Documents/GitHub/audycje.com.pl/content/audio\\CJG_42_2023_11_25.txt\n",
      "Record already exists: voiceapp\\output\\summaries_folder\\qwen2.5_7b_20241213_204631\\CJG_42_2023_11_25-summary_5.txt -> C:/Users/G/Documents/GitHub/audycje.com.pl/content/audio\\CJG_42_2023_11_25.txt\n",
      "Record already exists: voiceapp\\output\\summaries_folder\\qwen2.5_7b_20241213_204631\\CJG_42_2023_11_25-summary_1.txt -> C:/Users/G/Documents/GitHub/audycje.com.pl/content/audio\\CJG_42_2023_11_25.txt\n",
      "Record already exists: voiceapp\\output\\summaries_folder\\qwen2.5_7b_20241213_204631\\CJG_42_2023_11_25-summary_2.txt -> C:/Users/G/Documents/GitHub/audycje.com.pl/content/audio\\CJG_42_2023_11_25.txt\n",
      "Record already exists: voiceapp\\output\\summaries_folder\\qwen2.5_7b_20241213_204631\\CJG_42_2023_11_25-summary_3.txt -> C:/Users/G/Documents/GitHub/audycje.com.pl/content/audio\\CJG_42_2023_11_25.txt\n",
      "Record already exists: voiceapp\\output\\summaries_folder\\qwen2.5_7b_20241213_204631\\CJG_42_2023_11_25-summary_4.txt -> C:/Users/G/Documents/GitHub/audycje.com.pl/content/audio\\CJG_42_2023_11_25.txt\n",
      "Record already exists: voiceapp\\output\\summaries_folder\\qwen2.5_7b_20241213_204631\\CJG_42_2023_11_25-summary_5.txt -> C:/Users/G/Documents/GitHub/audycje.com.pl/content/audio\\CJG_42_2023_11_25.txt\n",
      "Record already exists: voiceapp\\output\\summaries_folder\\qwen2.5_7b_20241213_204631\\CJG_42_2023_11_25-summary_1.txt -> C:/Users/G/Documents/GitHub/audycje.com.pl/content/audio\\CJG_42_2023_11_25.txt\n",
      "Record already exists: voiceapp\\output\\summaries_folder\\qwen2.5_7b_20241213_204631\\CJG_42_2023_11_25-summary_2.txt -> C:/Users/G/Documents/GitHub/audycje.com.pl/content/audio\\CJG_42_2023_11_25.txt\n",
      "Record already exists: voiceapp\\output\\summaries_folder\\qwen2.5_7b_20241213_204631\\CJG_42_2023_11_25-summary_3.txt -> C:/Users/G/Documents/GitHub/audycje.com.pl/content/audio\\CJG_42_2023_11_25.txt\n",
      "Record already exists: voiceapp\\output\\summaries_folder\\qwen2.5_7b_20241213_204631\\CJG_42_2023_11_25-summary_4.txt -> C:/Users/G/Documents/GitHub/audycje.com.pl/content/audio\\CJG_42_2023_11_25.txt\n"
     ]
    },
    {
     "name": "stderr",
     "output_type": "stream",
     "text": [
      "\n",
      "\n",
      "Summarizing files for qwen2.5:7b:  43%|███████████████████████████████████▌                                              | 42/97 [1:29:58<1:26:12, 94.05s/it, file=CJG_41_2023_11_18.txt, summaries_count=20, time=93.81 seconds]\u001b[A\u001b[A\n",
      "\n",
      "Summarizing files for qwen2.5:7b:  43%|███████████████████████████████████                                              | 42/97 [1:29:58<1:26:12, 94.05s/it, file=CJG_42_2023_11_25.txt, summaries_count=20, time=102.73 seconds]\u001b[A\u001b[A"
     ]
    },
    {
     "name": "stdout",
     "output_type": "stream",
     "text": [
      "Record already exists: voiceapp\\output\\summaries_folder\\qwen2.5_7b_20241213_204631\\CJG_42_2023_11_25-summary_5.txt -> C:/Users/G/Documents/GitHub/audycje.com.pl/content/audio\\CJG_42_2023_11_25.txt\n",
      "Record already exists: voiceapp\\output\\summaries_folder\\qwen2.5_7b_20241213_204631\\CJG_43_2023_12_02-summary_1.txt -> C:/Users/G/Documents/GitHub/audycje.com.pl/content/audio\\CJG_43_2023_12_02.txt\n",
      "Record already exists: voiceapp\\output\\summaries_folder\\qwen2.5_7b_20241213_204631\\CJG_43_2023_12_02-summary_2.txt -> C:/Users/G/Documents/GitHub/audycje.com.pl/content/audio\\CJG_43_2023_12_02.txt\n",
      "Record already exists: voiceapp\\output\\summaries_folder\\qwen2.5_7b_20241213_204631\\CJG_43_2023_12_02-summary_3.txt -> C:/Users/G/Documents/GitHub/audycje.com.pl/content/audio\\CJG_43_2023_12_02.txt\n",
      "Record already exists: voiceapp\\output\\summaries_folder\\qwen2.5_7b_20241213_204631\\CJG_43_2023_12_02-summary_4.txt -> C:/Users/G/Documents/GitHub/audycje.com.pl/content/audio\\CJG_43_2023_12_02.txt\n",
      "Record already exists: voiceapp\\output\\summaries_folder\\qwen2.5_7b_20241213_204631\\CJG_43_2023_12_02-summary_5.txt -> C:/Users/G/Documents/GitHub/audycje.com.pl/content/audio\\CJG_43_2023_12_02.txt\n",
      "Record already exists: voiceapp\\output\\summaries_folder\\qwen2.5_7b_20241213_204631\\CJG_43_2023_12_02-summary_1.txt -> C:/Users/G/Documents/GitHub/audycje.com.pl/content/audio\\CJG_43_2023_12_02.txt\n",
      "Record already exists: voiceapp\\output\\summaries_folder\\qwen2.5_7b_20241213_204631\\CJG_43_2023_12_02-summary_2.txt -> C:/Users/G/Documents/GitHub/audycje.com.pl/content/audio\\CJG_43_2023_12_02.txt\n",
      "Record already exists: voiceapp\\output\\summaries_folder\\qwen2.5_7b_20241213_204631\\CJG_43_2023_12_02-summary_3.txt -> C:/Users/G/Documents/GitHub/audycje.com.pl/content/audio\\CJG_43_2023_12_02.txt\n",
      "Record already exists: voiceapp\\output\\summaries_folder\\qwen2.5_7b_20241213_204631\\CJG_43_2023_12_02-summary_4.txt -> C:/Users/G/Documents/GitHub/audycje.com.pl/content/audio\\CJG_43_2023_12_02.txt\n",
      "Record already exists: voiceapp\\output\\summaries_folder\\qwen2.5_7b_20241213_204631\\CJG_43_2023_12_02-summary_5.txt -> C:/Users/G/Documents/GitHub/audycje.com.pl/content/audio\\CJG_43_2023_12_02.txt\n",
      "Record already exists: voiceapp\\output\\summaries_folder\\qwen2.5_7b_20241213_204631\\CJG_43_2023_12_02-summary_1.txt -> C:/Users/G/Documents/GitHub/audycje.com.pl/content/audio\\CJG_43_2023_12_02.txt\n",
      "Record already exists: voiceapp\\output\\summaries_folder\\qwen2.5_7b_20241213_204631\\CJG_43_2023_12_02-summary_2.txt -> C:/Users/G/Documents/GitHub/audycje.com.pl/content/audio\\CJG_43_2023_12_02.txt\n",
      "Record already exists: voiceapp\\output\\summaries_folder\\qwen2.5_7b_20241213_204631\\CJG_43_2023_12_02-summary_3.txt -> C:/Users/G/Documents/GitHub/audycje.com.pl/content/audio\\CJG_43_2023_12_02.txt\n",
      "Record already exists: voiceapp\\output\\summaries_folder\\qwen2.5_7b_20241213_204631\\CJG_43_2023_12_02-summary_4.txt -> C:/Users/G/Documents/GitHub/audycje.com.pl/content/audio\\CJG_43_2023_12_02.txt\n",
      "Record already exists: voiceapp\\output\\summaries_folder\\qwen2.5_7b_20241213_204631\\CJG_43_2023_12_02-summary_5.txt -> C:/Users/G/Documents/GitHub/audycje.com.pl/content/audio\\CJG_43_2023_12_02.txt\n",
      "Record already exists: voiceapp\\output\\summaries_folder\\qwen2.5_7b_20241213_204631\\CJG_43_2023_12_02-summary_1.txt -> C:/Users/G/Documents/GitHub/audycje.com.pl/content/audio\\CJG_43_2023_12_02.txt\n",
      "Record already exists: voiceapp\\output\\summaries_folder\\qwen2.5_7b_20241213_204631\\CJG_43_2023_12_02-summary_2.txt -> C:/Users/G/Documents/GitHub/audycje.com.pl/content/audio\\CJG_43_2023_12_02.txt\n",
      "Record already exists: voiceapp\\output\\summaries_folder\\qwen2.5_7b_20241213_204631\\CJG_43_2023_12_02-summary_3.txt -> C:/Users/G/Documents/GitHub/audycje.com.pl/content/audio\\CJG_43_2023_12_02.txt\n",
      "Record already exists: voiceapp\\output\\summaries_folder\\qwen2.5_7b_20241213_204631\\CJG_43_2023_12_02-summary_4.txt -> C:/Users/G/Documents/GitHub/audycje.com.pl/content/audio\\CJG_43_2023_12_02.txt\n"
     ]
    },
    {
     "name": "stderr",
     "output_type": "stream",
     "text": [
      "\n",
      "\n",
      "Summarizing files for qwen2.5:7b:  44%|███████████████████████████████████▍                                            | 43/97 [1:35:05<2:22:07, 157.92s/it, file=CJG_42_2023_11_25.txt, summaries_count=20, time=102.73 seconds]\u001b[A\u001b[A\n",
      "\n",
      "Summarizing files for qwen2.5:7b:  44%|███████████████████████████████████▍                                            | 43/97 [1:35:05<2:22:07, 157.92s/it, file=CJG_43_2023_12_02.txt, summaries_count=25, time=306.95 seconds]\u001b[A\u001b[A"
     ]
    },
    {
     "name": "stdout",
     "output_type": "stream",
     "text": [
      "Record already exists: voiceapp\\output\\summaries_folder\\qwen2.5_7b_20241213_204631\\CJG_43_2023_12_02-summary_5.txt -> C:/Users/G/Documents/GitHub/audycje.com.pl/content/audio\\CJG_43_2023_12_02.txt\n",
      "Record already exists: voiceapp\\output\\summaries_folder\\qwen2.5_7b_20241213_204631\\CJG_44_2023_12_09-summary_1.txt -> C:/Users/G/Documents/GitHub/audycje.com.pl/content/audio\\CJG_44_2023_12_09.txt\n",
      "Record already exists: voiceapp\\output\\summaries_folder\\qwen2.5_7b_20241213_204631\\CJG_44_2023_12_09-summary_2.txt -> C:/Users/G/Documents/GitHub/audycje.com.pl/content/audio\\CJG_44_2023_12_09.txt\n",
      "Record already exists: voiceapp\\output\\summaries_folder\\qwen2.5_7b_20241213_204631\\CJG_44_2023_12_09-summary_3.txt -> C:/Users/G/Documents/GitHub/audycje.com.pl/content/audio\\CJG_44_2023_12_09.txt\n",
      "Record already exists: voiceapp\\output\\summaries_folder\\qwen2.5_7b_20241213_204631\\CJG_44_2023_12_09-summary_4.txt -> C:/Users/G/Documents/GitHub/audycje.com.pl/content/audio\\CJG_44_2023_12_09.txt\n",
      "Record already exists: voiceapp\\output\\summaries_folder\\qwen2.5_7b_20241213_204631\\CJG_44_2023_12_09-summary_5.txt -> C:/Users/G/Documents/GitHub/audycje.com.pl/content/audio\\CJG_44_2023_12_09.txt\n",
      "Record already exists: voiceapp\\output\\summaries_folder\\qwen2.5_7b_20241213_204631\\CJG_44_2023_12_09-summary_1.txt -> C:/Users/G/Documents/GitHub/audycje.com.pl/content/audio\\CJG_44_2023_12_09.txt\n",
      "Record already exists: voiceapp\\output\\summaries_folder\\qwen2.5_7b_20241213_204631\\CJG_44_2023_12_09-summary_2.txt -> C:/Users/G/Documents/GitHub/audycje.com.pl/content/audio\\CJG_44_2023_12_09.txt\n",
      "Record already exists: voiceapp\\output\\summaries_folder\\qwen2.5_7b_20241213_204631\\CJG_44_2023_12_09-summary_3.txt -> C:/Users/G/Documents/GitHub/audycje.com.pl/content/audio\\CJG_44_2023_12_09.txt\n",
      "Record already exists: voiceapp\\output\\summaries_folder\\qwen2.5_7b_20241213_204631\\CJG_44_2023_12_09-summary_4.txt -> C:/Users/G/Documents/GitHub/audycje.com.pl/content/audio\\CJG_44_2023_12_09.txt\n",
      "Record already exists: voiceapp\\output\\summaries_folder\\qwen2.5_7b_20241213_204631\\CJG_44_2023_12_09-summary_5.txt -> C:/Users/G/Documents/GitHub/audycje.com.pl/content/audio\\CJG_44_2023_12_09.txt\n",
      "Record already exists: voiceapp\\output\\summaries_folder\\qwen2.5_7b_20241213_204631\\CJG_44_2023_12_09-summary_1.txt -> C:/Users/G/Documents/GitHub/audycje.com.pl/content/audio\\CJG_44_2023_12_09.txt\n",
      "Record already exists: voiceapp\\output\\summaries_folder\\qwen2.5_7b_20241213_204631\\CJG_44_2023_12_09-summary_2.txt -> C:/Users/G/Documents/GitHub/audycje.com.pl/content/audio\\CJG_44_2023_12_09.txt\n",
      "Record already exists: voiceapp\\output\\summaries_folder\\qwen2.5_7b_20241213_204631\\CJG_44_2023_12_09-summary_3.txt -> C:/Users/G/Documents/GitHub/audycje.com.pl/content/audio\\CJG_44_2023_12_09.txt\n",
      "Record already exists: voiceapp\\output\\summaries_folder\\qwen2.5_7b_20241213_204631\\CJG_44_2023_12_09-summary_4.txt -> C:/Users/G/Documents/GitHub/audycje.com.pl/content/audio\\CJG_44_2023_12_09.txt\n"
     ]
    },
    {
     "name": "stderr",
     "output_type": "stream",
     "text": [
      "\n",
      "\n",
      "Summarizing files for qwen2.5:7b:  45%|████████████████████████████████████▎                                           | 44/97 [1:36:42<2:03:23, 139.70s/it, file=CJG_43_2023_12_02.txt, summaries_count=25, time=306.95 seconds]\u001b[A\u001b[A\n",
      "\n",
      "Summarizing files for qwen2.5:7b:  45%|████████████████████████████████████▋                                            | 44/97 [1:36:42<2:03:23, 139.70s/it, file=CJG_44_2023_12_09.txt, summaries_count=20, time=97.18 seconds]\u001b[A\u001b[A"
     ]
    },
    {
     "name": "stdout",
     "output_type": "stream",
     "text": [
      "Record already exists: voiceapp\\output\\summaries_folder\\qwen2.5_7b_20241213_204631\\CJG_44_2023_12_09-summary_5.txt -> C:/Users/G/Documents/GitHub/audycje.com.pl/content/audio\\CJG_44_2023_12_09.txt\n",
      "Record already exists: voiceapp\\output\\summaries_folder\\qwen2.5_7b_20241213_204631\\CJG_45_2023_12_16-summary_1.txt -> C:/Users/G/Documents/GitHub/audycje.com.pl/content/audio\\CJG_45_2023_12_16.txt\n",
      "Record already exists: voiceapp\\output\\summaries_folder\\qwen2.5_7b_20241213_204631\\CJG_45_2023_12_16-summary_2.txt -> C:/Users/G/Documents/GitHub/audycje.com.pl/content/audio\\CJG_45_2023_12_16.txt\n",
      "Record already exists: voiceapp\\output\\summaries_folder\\qwen2.5_7b_20241213_204631\\CJG_45_2023_12_16-summary_3.txt -> C:/Users/G/Documents/GitHub/audycje.com.pl/content/audio\\CJG_45_2023_12_16.txt\n",
      "Record already exists: voiceapp\\output\\summaries_folder\\qwen2.5_7b_20241213_204631\\CJG_45_2023_12_16-summary_4.txt -> C:/Users/G/Documents/GitHub/audycje.com.pl/content/audio\\CJG_45_2023_12_16.txt\n",
      "Record already exists: voiceapp\\output\\summaries_folder\\qwen2.5_7b_20241213_204631\\CJG_45_2023_12_16-summary_5.txt -> C:/Users/G/Documents/GitHub/audycje.com.pl/content/audio\\CJG_45_2023_12_16.txt\n",
      "Record already exists: voiceapp\\output\\summaries_folder\\qwen2.5_7b_20241213_204631\\CJG_45_2023_12_16-summary_1.txt -> C:/Users/G/Documents/GitHub/audycje.com.pl/content/audio\\CJG_45_2023_12_16.txt\n",
      "Record already exists: voiceapp\\output\\summaries_folder\\qwen2.5_7b_20241213_204631\\CJG_45_2023_12_16-summary_2.txt -> C:/Users/G/Documents/GitHub/audycje.com.pl/content/audio\\CJG_45_2023_12_16.txt\n",
      "Record already exists: voiceapp\\output\\summaries_folder\\qwen2.5_7b_20241213_204631\\CJG_45_2023_12_16-summary_3.txt -> C:/Users/G/Documents/GitHub/audycje.com.pl/content/audio\\CJG_45_2023_12_16.txt\n",
      "Record already exists: voiceapp\\output\\summaries_folder\\qwen2.5_7b_20241213_204631\\CJG_45_2023_12_16-summary_4.txt -> C:/Users/G/Documents/GitHub/audycje.com.pl/content/audio\\CJG_45_2023_12_16.txt\n",
      "Record already exists: voiceapp\\output\\summaries_folder\\qwen2.5_7b_20241213_204631\\CJG_45_2023_12_16-summary_5.txt -> C:/Users/G/Documents/GitHub/audycje.com.pl/content/audio\\CJG_45_2023_12_16.txt\n",
      "Record already exists: voiceapp\\output\\summaries_folder\\qwen2.5_7b_20241213_204631\\CJG_45_2023_12_16-summary_1.txt -> C:/Users/G/Documents/GitHub/audycje.com.pl/content/audio\\CJG_45_2023_12_16.txt\n",
      "Record already exists: voiceapp\\output\\summaries_folder\\qwen2.5_7b_20241213_204631\\CJG_45_2023_12_16-summary_2.txt -> C:/Users/G/Documents/GitHub/audycje.com.pl/content/audio\\CJG_45_2023_12_16.txt\n",
      "Record already exists: voiceapp\\output\\summaries_folder\\qwen2.5_7b_20241213_204631\\CJG_45_2023_12_16-summary_3.txt -> C:/Users/G/Documents/GitHub/audycje.com.pl/content/audio\\CJG_45_2023_12_16.txt\n",
      "Record already exists: voiceapp\\output\\summaries_folder\\qwen2.5_7b_20241213_204631\\CJG_45_2023_12_16-summary_4.txt -> C:/Users/G/Documents/GitHub/audycje.com.pl/content/audio\\CJG_45_2023_12_16.txt\n"
     ]
    },
    {
     "name": "stderr",
     "output_type": "stream",
     "text": [
      "\n",
      "\n",
      "Summarizing files for qwen2.5:7b:  46%|█████████████████████████████████████▌                                           | 45/97 [1:50:25<4:58:39, 344.61s/it, file=CJG_44_2023_12_09.txt, summaries_count=20, time=97.18 seconds]\u001b[A\u001b[A\n",
      "\n",
      "Summarizing files for qwen2.5:7b:  46%|█████████████████████████████████████                                           | 45/97 [1:50:25<4:58:39, 344.61s/it, file=CJG_45_2023_12_16.txt, summaries_count=20, time=822.74 seconds]\u001b[A\u001b[A"
     ]
    },
    {
     "name": "stdout",
     "output_type": "stream",
     "text": [
      "Record already exists: voiceapp\\output\\summaries_folder\\qwen2.5_7b_20241213_204631\\CJG_45_2023_12_16-summary_5.txt -> C:/Users/G/Documents/GitHub/audycje.com.pl/content/audio\\CJG_45_2023_12_16.txt\n",
      "Record already exists: voiceapp\\output\\summaries_folder\\qwen2.5_7b_20241213_204631\\CJG_46_2023_12_23-summary_1.txt -> C:/Users/G/Documents/GitHub/audycje.com.pl/content/audio\\CJG_46_2023_12_23.txt\n",
      "Record already exists: voiceapp\\output\\summaries_folder\\qwen2.5_7b_20241213_204631\\CJG_46_2023_12_23-summary_2.txt -> C:/Users/G/Documents/GitHub/audycje.com.pl/content/audio\\CJG_46_2023_12_23.txt\n",
      "Record already exists: voiceapp\\output\\summaries_folder\\qwen2.5_7b_20241213_204631\\CJG_46_2023_12_23-summary_3.txt -> C:/Users/G/Documents/GitHub/audycje.com.pl/content/audio\\CJG_46_2023_12_23.txt\n",
      "Record already exists: voiceapp\\output\\summaries_folder\\qwen2.5_7b_20241213_204631\\CJG_46_2023_12_23-summary_4.txt -> C:/Users/G/Documents/GitHub/audycje.com.pl/content/audio\\CJG_46_2023_12_23.txt\n",
      "Record already exists: voiceapp\\output\\summaries_folder\\qwen2.5_7b_20241213_204631\\CJG_46_2023_12_23-summary_5.txt -> C:/Users/G/Documents/GitHub/audycje.com.pl/content/audio\\CJG_46_2023_12_23.txt\n",
      "Record already exists: voiceapp\\output\\summaries_folder\\qwen2.5_7b_20241213_204631\\CJG_46_2023_12_23-summary_1.txt -> C:/Users/G/Documents/GitHub/audycje.com.pl/content/audio\\CJG_46_2023_12_23.txt\n",
      "Record already exists: voiceapp\\output\\summaries_folder\\qwen2.5_7b_20241213_204631\\CJG_46_2023_12_23-summary_2.txt -> C:/Users/G/Documents/GitHub/audycje.com.pl/content/audio\\CJG_46_2023_12_23.txt\n",
      "Record already exists: voiceapp\\output\\summaries_folder\\qwen2.5_7b_20241213_204631\\CJG_46_2023_12_23-summary_3.txt -> C:/Users/G/Documents/GitHub/audycje.com.pl/content/audio\\CJG_46_2023_12_23.txt\n",
      "Record already exists: voiceapp\\output\\summaries_folder\\qwen2.5_7b_20241213_204631\\CJG_46_2023_12_23-summary_4.txt -> C:/Users/G/Documents/GitHub/audycje.com.pl/content/audio\\CJG_46_2023_12_23.txt\n",
      "Record already exists: voiceapp\\output\\summaries_folder\\qwen2.5_7b_20241213_204631\\CJG_46_2023_12_23-summary_5.txt -> C:/Users/G/Documents/GitHub/audycje.com.pl/content/audio\\CJG_46_2023_12_23.txt\n",
      "Record already exists: voiceapp\\output\\summaries_folder\\qwen2.5_7b_20241213_204631\\CJG_46_2023_12_23-summary_1.txt -> C:/Users/G/Documents/GitHub/audycje.com.pl/content/audio\\CJG_46_2023_12_23.txt\n",
      "Record already exists: voiceapp\\output\\summaries_folder\\qwen2.5_7b_20241213_204631\\CJG_46_2023_12_23-summary_2.txt -> C:/Users/G/Documents/GitHub/audycje.com.pl/content/audio\\CJG_46_2023_12_23.txt\n",
      "Record already exists: voiceapp\\output\\summaries_folder\\qwen2.5_7b_20241213_204631\\CJG_46_2023_12_23-summary_3.txt -> C:/Users/G/Documents/GitHub/audycje.com.pl/content/audio\\CJG_46_2023_12_23.txt\n",
      "Record already exists: voiceapp\\output\\summaries_folder\\qwen2.5_7b_20241213_204631\\CJG_46_2023_12_23-summary_4.txt -> C:/Users/G/Documents/GitHub/audycje.com.pl/content/audio\\CJG_46_2023_12_23.txt\n"
     ]
    },
    {
     "name": "stderr",
     "output_type": "stream",
     "text": [
      "\n",
      "\n",
      "Summarizing files for qwen2.5:7b:  47%|█████████████████████████████████████▉                                          | 46/97 [1:52:03<3:49:55, 270.51s/it, file=CJG_45_2023_12_16.txt, summaries_count=20, time=822.74 seconds]\u001b[A\u001b[A\n",
      "\n",
      "Summarizing files for qwen2.5:7b:  47%|██████████████████████████████████████▍                                          | 46/97 [1:52:03<3:49:55, 270.51s/it, file=CJG_46_2023_12_23.txt, summaries_count=20, time=97.60 seconds]\u001b[A\u001b[A"
     ]
    },
    {
     "name": "stdout",
     "output_type": "stream",
     "text": [
      "Record already exists: voiceapp\\output\\summaries_folder\\qwen2.5_7b_20241213_204631\\CJG_46_2023_12_23-summary_5.txt -> C:/Users/G/Documents/GitHub/audycje.com.pl/content/audio\\CJG_46_2023_12_23.txt\n",
      "Record already exists: voiceapp\\output\\summaries_folder\\qwen2.5_7b_20241213_204631\\CJG_47_2023_12_30-summary_1.txt -> C:/Users/G/Documents/GitHub/audycje.com.pl/content/audio\\CJG_47_2023_12_30.txt\n",
      "Record already exists: voiceapp\\output\\summaries_folder\\qwen2.5_7b_20241213_204631\\CJG_47_2023_12_30-summary_2.txt -> C:/Users/G/Documents/GitHub/audycje.com.pl/content/audio\\CJG_47_2023_12_30.txt\n",
      "Record already exists: voiceapp\\output\\summaries_folder\\qwen2.5_7b_20241213_204631\\CJG_47_2023_12_30-summary_3.txt -> C:/Users/G/Documents/GitHub/audycje.com.pl/content/audio\\CJG_47_2023_12_30.txt\n",
      "Record already exists: voiceapp\\output\\summaries_folder\\qwen2.5_7b_20241213_204631\\CJG_47_2023_12_30-summary_4.txt -> C:/Users/G/Documents/GitHub/audycje.com.pl/content/audio\\CJG_47_2023_12_30.txt\n",
      "Record already exists: voiceapp\\output\\summaries_folder\\qwen2.5_7b_20241213_204631\\CJG_47_2023_12_30-summary_5.txt -> C:/Users/G/Documents/GitHub/audycje.com.pl/content/audio\\CJG_47_2023_12_30.txt\n",
      "Record already exists: voiceapp\\output\\summaries_folder\\qwen2.5_7b_20241213_204631\\CJG_47_2023_12_30-summary_1.txt -> C:/Users/G/Documents/GitHub/audycje.com.pl/content/audio\\CJG_47_2023_12_30.txt\n",
      "Record already exists: voiceapp\\output\\summaries_folder\\qwen2.5_7b_20241213_204631\\CJG_47_2023_12_30-summary_2.txt -> C:/Users/G/Documents/GitHub/audycje.com.pl/content/audio\\CJG_47_2023_12_30.txt\n",
      "Record already exists: voiceapp\\output\\summaries_folder\\qwen2.5_7b_20241213_204631\\CJG_47_2023_12_30-summary_3.txt -> C:/Users/G/Documents/GitHub/audycje.com.pl/content/audio\\CJG_47_2023_12_30.txt\n",
      "Record already exists: voiceapp\\output\\summaries_folder\\qwen2.5_7b_20241213_204631\\CJG_47_2023_12_30-summary_4.txt -> C:/Users/G/Documents/GitHub/audycje.com.pl/content/audio\\CJG_47_2023_12_30.txt\n",
      "Record already exists: voiceapp\\output\\summaries_folder\\qwen2.5_7b_20241213_204631\\CJG_47_2023_12_30-summary_5.txt -> C:/Users/G/Documents/GitHub/audycje.com.pl/content/audio\\CJG_47_2023_12_30.txt\n",
      "Record already exists: voiceapp\\output\\summaries_folder\\qwen2.5_7b_20241213_204631\\CJG_47_2023_12_30-summary_1.txt -> C:/Users/G/Documents/GitHub/audycje.com.pl/content/audio\\CJG_47_2023_12_30.txt\n",
      "Record already exists: voiceapp\\output\\summaries_folder\\qwen2.5_7b_20241213_204631\\CJG_47_2023_12_30-summary_2.txt -> C:/Users/G/Documents/GitHub/audycje.com.pl/content/audio\\CJG_47_2023_12_30.txt\n",
      "Record already exists: voiceapp\\output\\summaries_folder\\qwen2.5_7b_20241213_204631\\CJG_47_2023_12_30-summary_3.txt -> C:/Users/G/Documents/GitHub/audycje.com.pl/content/audio\\CJG_47_2023_12_30.txt\n",
      "Record already exists: voiceapp\\output\\summaries_folder\\qwen2.5_7b_20241213_204631\\CJG_47_2023_12_30-summary_4.txt -> C:/Users/G/Documents/GitHub/audycje.com.pl/content/audio\\CJG_47_2023_12_30.txt\n"
     ]
    },
    {
     "name": "stderr",
     "output_type": "stream",
     "text": [
      "\n",
      "\n",
      "Summarizing files for qwen2.5:7b:  48%|███████████████████████████████████████▏                                         | 47/97 [1:53:44<3:03:04, 219.69s/it, file=CJG_46_2023_12_23.txt, summaries_count=20, time=97.60 seconds]\u001b[A\u001b[A\n",
      "\n",
      "Summarizing files for qwen2.5:7b:  48%|██████████████████████████████████████▊                                         | 47/97 [1:53:44<3:03:04, 219.69s/it, file=CJG_47_2023_12_30.txt, summaries_count=20, time=101.12 seconds]\u001b[A\u001b[A"
     ]
    },
    {
     "name": "stdout",
     "output_type": "stream",
     "text": [
      "Record already exists: voiceapp\\output\\summaries_folder\\qwen2.5_7b_20241213_204631\\CJG_47_2023_12_30-summary_5.txt -> C:/Users/G/Documents/GitHub/audycje.com.pl/content/audio\\CJG_47_2023_12_30.txt\n",
      "Record already exists: voiceapp\\output\\summaries_folder\\qwen2.5_7b_20241213_204631\\CJG_48_2024_01_06-summary_1.txt -> C:/Users/G/Documents/GitHub/audycje.com.pl/content/audio\\CJG_48_2024_01_06.txt\n",
      "Record already exists: voiceapp\\output\\summaries_folder\\qwen2.5_7b_20241213_204631\\CJG_48_2024_01_06-summary_2.txt -> C:/Users/G/Documents/GitHub/audycje.com.pl/content/audio\\CJG_48_2024_01_06.txt\n",
      "Record already exists: voiceapp\\output\\summaries_folder\\qwen2.5_7b_20241213_204631\\CJG_48_2024_01_06-summary_3.txt -> C:/Users/G/Documents/GitHub/audycje.com.pl/content/audio\\CJG_48_2024_01_06.txt\n",
      "Record already exists: voiceapp\\output\\summaries_folder\\qwen2.5_7b_20241213_204631\\CJG_48_2024_01_06-summary_4.txt -> C:/Users/G/Documents/GitHub/audycje.com.pl/content/audio\\CJG_48_2024_01_06.txt\n",
      "Record already exists: voiceapp\\output\\summaries_folder\\qwen2.5_7b_20241213_204631\\CJG_48_2024_01_06-summary_5.txt -> C:/Users/G/Documents/GitHub/audycje.com.pl/content/audio\\CJG_48_2024_01_06.txt\n",
      "Record already exists: voiceapp\\output\\summaries_folder\\qwen2.5_7b_20241213_204631\\CJG_48_2024_01_06-summary_1.txt -> C:/Users/G/Documents/GitHub/audycje.com.pl/content/audio\\CJG_48_2024_01_06.txt\n",
      "Record already exists: voiceapp\\output\\summaries_folder\\qwen2.5_7b_20241213_204631\\CJG_48_2024_01_06-summary_2.txt -> C:/Users/G/Documents/GitHub/audycje.com.pl/content/audio\\CJG_48_2024_01_06.txt\n",
      "Record already exists: voiceapp\\output\\summaries_folder\\qwen2.5_7b_20241213_204631\\CJG_48_2024_01_06-summary_3.txt -> C:/Users/G/Documents/GitHub/audycje.com.pl/content/audio\\CJG_48_2024_01_06.txt\n",
      "Record already exists: voiceapp\\output\\summaries_folder\\qwen2.5_7b_20241213_204631\\CJG_48_2024_01_06-summary_4.txt -> C:/Users/G/Documents/GitHub/audycje.com.pl/content/audio\\CJG_48_2024_01_06.txt\n",
      "Record already exists: voiceapp\\output\\summaries_folder\\qwen2.5_7b_20241213_204631\\CJG_48_2024_01_06-summary_5.txt -> C:/Users/G/Documents/GitHub/audycje.com.pl/content/audio\\CJG_48_2024_01_06.txt\n",
      "Record already exists: voiceapp\\output\\summaries_folder\\qwen2.5_7b_20241213_204631\\CJG_48_2024_01_06-summary_1.txt -> C:/Users/G/Documents/GitHub/audycje.com.pl/content/audio\\CJG_48_2024_01_06.txt\n",
      "Record already exists: voiceapp\\output\\summaries_folder\\qwen2.5_7b_20241213_204631\\CJG_48_2024_01_06-summary_2.txt -> C:/Users/G/Documents/GitHub/audycje.com.pl/content/audio\\CJG_48_2024_01_06.txt\n",
      "Record already exists: voiceapp\\output\\summaries_folder\\qwen2.5_7b_20241213_204631\\CJG_48_2024_01_06-summary_3.txt -> C:/Users/G/Documents/GitHub/audycje.com.pl/content/audio\\CJG_48_2024_01_06.txt\n",
      "Record already exists: voiceapp\\output\\summaries_folder\\qwen2.5_7b_20241213_204631\\CJG_48_2024_01_06-summary_4.txt -> C:/Users/G/Documents/GitHub/audycje.com.pl/content/audio\\CJG_48_2024_01_06.txt\n"
     ]
    },
    {
     "name": "stderr",
     "output_type": "stream",
     "text": [
      "\n",
      "\n",
      "Summarizing files for qwen2.5:7b:  49%|███████████████████████████████████████▌                                        | 48/97 [1:55:17<2:28:33, 181.91s/it, file=CJG_47_2023_12_30.txt, summaries_count=20, time=101.12 seconds]\u001b[A\u001b[A\n",
      "\n",
      "Summarizing files for qwen2.5:7b:  49%|████████████████████████████████████████                                         | 48/97 [1:55:17<2:28:33, 181.91s/it, file=CJG_48_2024_01_06.txt, summaries_count=20, time=93.75 seconds]\u001b[A\u001b[A"
     ]
    },
    {
     "name": "stdout",
     "output_type": "stream",
     "text": [
      "Record already exists: voiceapp\\output\\summaries_folder\\qwen2.5_7b_20241213_204631\\CJG_48_2024_01_06-summary_5.txt -> C:/Users/G/Documents/GitHub/audycje.com.pl/content/audio\\CJG_48_2024_01_06.txt\n",
      "Record already exists: voiceapp\\output\\summaries_folder\\qwen2.5_7b_20241213_204631\\CJG_49_2024_01_13-summary_1.txt -> C:/Users/G/Documents/GitHub/audycje.com.pl/content/audio\\CJG_49_2024_01_13.txt\n",
      "Record already exists: voiceapp\\output\\summaries_folder\\qwen2.5_7b_20241213_204631\\CJG_49_2024_01_13-summary_2.txt -> C:/Users/G/Documents/GitHub/audycje.com.pl/content/audio\\CJG_49_2024_01_13.txt\n",
      "Record already exists: voiceapp\\output\\summaries_folder\\qwen2.5_7b_20241213_204631\\CJG_49_2024_01_13-summary_3.txt -> C:/Users/G/Documents/GitHub/audycje.com.pl/content/audio\\CJG_49_2024_01_13.txt\n",
      "Record already exists: voiceapp\\output\\summaries_folder\\qwen2.5_7b_20241213_204631\\CJG_49_2024_01_13-summary_4.txt -> C:/Users/G/Documents/GitHub/audycje.com.pl/content/audio\\CJG_49_2024_01_13.txt\n",
      "Record already exists: voiceapp\\output\\summaries_folder\\qwen2.5_7b_20241213_204631\\CJG_49_2024_01_13-summary_5.txt -> C:/Users/G/Documents/GitHub/audycje.com.pl/content/audio\\CJG_49_2024_01_13.txt\n",
      "Record already exists: voiceapp\\output\\summaries_folder\\qwen2.5_7b_20241213_204631\\CJG_49_2024_01_13-summary_1.txt -> C:/Users/G/Documents/GitHub/audycje.com.pl/content/audio\\CJG_49_2024_01_13.txt\n",
      "Record already exists: voiceapp\\output\\summaries_folder\\qwen2.5_7b_20241213_204631\\CJG_49_2024_01_13-summary_2.txt -> C:/Users/G/Documents/GitHub/audycje.com.pl/content/audio\\CJG_49_2024_01_13.txt\n",
      "Record already exists: voiceapp\\output\\summaries_folder\\qwen2.5_7b_20241213_204631\\CJG_49_2024_01_13-summary_3.txt -> C:/Users/G/Documents/GitHub/audycje.com.pl/content/audio\\CJG_49_2024_01_13.txt\n",
      "Record already exists: voiceapp\\output\\summaries_folder\\qwen2.5_7b_20241213_204631\\CJG_49_2024_01_13-summary_4.txt -> C:/Users/G/Documents/GitHub/audycje.com.pl/content/audio\\CJG_49_2024_01_13.txt\n"
     ]
    },
    {
     "name": "stderr",
     "output_type": "stream",
     "text": [
      "\n",
      "\n",
      "Summarizing files for qwen2.5:7b:  51%|████████████████████████████████████████▉                                        | 49/97 [1:56:26<1:58:25, 148.04s/it, file=CJG_48_2024_01_06.txt, summaries_count=20, time=93.75 seconds]\u001b[A\u001b[A\n",
      "\n",
      "Summarizing files for qwen2.5:7b:  51%|████████████████████████████████████████▉                                        | 49/97 [1:56:26<1:58:25, 148.04s/it, file=CJG_49_2024_01_13.txt, summaries_count=15, time=69.02 seconds]\u001b[A\u001b[A"
     ]
    },
    {
     "name": "stdout",
     "output_type": "stream",
     "text": [
      "Record already exists: voiceapp\\output\\summaries_folder\\qwen2.5_7b_20241213_204631\\CJG_49_2024_01_13-summary_5.txt -> C:/Users/G/Documents/GitHub/audycje.com.pl/content/audio\\CJG_49_2024_01_13.txt\n",
      "Record already exists: voiceapp\\output\\summaries_folder\\qwen2.5_7b_20241213_204631\\CJG_50_2024_01_20-summary_1.txt -> C:/Users/G/Documents/GitHub/audycje.com.pl/content/audio\\CJG_50_2024_01_20.txt\n",
      "Record already exists: voiceapp\\output\\summaries_folder\\qwen2.5_7b_20241213_204631\\CJG_50_2024_01_20-summary_2.txt -> C:/Users/G/Documents/GitHub/audycje.com.pl/content/audio\\CJG_50_2024_01_20.txt\n",
      "Record already exists: voiceapp\\output\\summaries_folder\\qwen2.5_7b_20241213_204631\\CJG_50_2024_01_20-summary_3.txt -> C:/Users/G/Documents/GitHub/audycje.com.pl/content/audio\\CJG_50_2024_01_20.txt\n",
      "Record already exists: voiceapp\\output\\summaries_folder\\qwen2.5_7b_20241213_204631\\CJG_50_2024_01_20-summary_4.txt -> C:/Users/G/Documents/GitHub/audycje.com.pl/content/audio\\CJG_50_2024_01_20.txt\n",
      "Record already exists: voiceapp\\output\\summaries_folder\\qwen2.5_7b_20241213_204631\\CJG_50_2024_01_20-summary_5.txt -> C:/Users/G/Documents/GitHub/audycje.com.pl/content/audio\\CJG_50_2024_01_20.txt\n",
      "Record already exists: voiceapp\\output\\summaries_folder\\qwen2.5_7b_20241213_204631\\CJG_50_2024_01_20-summary_1.txt -> C:/Users/G/Documents/GitHub/audycje.com.pl/content/audio\\CJG_50_2024_01_20.txt\n",
      "Record already exists: voiceapp\\output\\summaries_folder\\qwen2.5_7b_20241213_204631\\CJG_50_2024_01_20-summary_2.txt -> C:/Users/G/Documents/GitHub/audycje.com.pl/content/audio\\CJG_50_2024_01_20.txt\n",
      "Record already exists: voiceapp\\output\\summaries_folder\\qwen2.5_7b_20241213_204631\\CJG_50_2024_01_20-summary_3.txt -> C:/Users/G/Documents/GitHub/audycje.com.pl/content/audio\\CJG_50_2024_01_20.txt\n",
      "Record already exists: voiceapp\\output\\summaries_folder\\qwen2.5_7b_20241213_204631\\CJG_50_2024_01_20-summary_4.txt -> C:/Users/G/Documents/GitHub/audycje.com.pl/content/audio\\CJG_50_2024_01_20.txt\n",
      "Record already exists: voiceapp\\output\\summaries_folder\\qwen2.5_7b_20241213_204631\\CJG_50_2024_01_20-summary_5.txt -> C:/Users/G/Documents/GitHub/audycje.com.pl/content/audio\\CJG_50_2024_01_20.txt\n",
      "Record already exists: voiceapp\\output\\summaries_folder\\qwen2.5_7b_20241213_204631\\CJG_50_2024_01_20-summary_1.txt -> C:/Users/G/Documents/GitHub/audycje.com.pl/content/audio\\CJG_50_2024_01_20.txt\n",
      "Record already exists: voiceapp\\output\\summaries_folder\\qwen2.5_7b_20241213_204631\\CJG_50_2024_01_20-summary_2.txt -> C:/Users/G/Documents/GitHub/audycje.com.pl/content/audio\\CJG_50_2024_01_20.txt\n",
      "Record already exists: voiceapp\\output\\summaries_folder\\qwen2.5_7b_20241213_204631\\CJG_50_2024_01_20-summary_3.txt -> C:/Users/G/Documents/GitHub/audycje.com.pl/content/audio\\CJG_50_2024_01_20.txt\n",
      "Record already exists: voiceapp\\output\\summaries_folder\\qwen2.5_7b_20241213_204631\\CJG_50_2024_01_20-summary_4.txt -> C:/Users/G/Documents/GitHub/audycje.com.pl/content/audio\\CJG_50_2024_01_20.txt\n"
     ]
    },
    {
     "name": "stderr",
     "output_type": "stream",
     "text": [
      "\n",
      "\n",
      "Summarizing files for qwen2.5:7b:  52%|█████████████████████████████████████████▊                                       | 50/97 [1:58:07<1:44:53, 133.91s/it, file=CJG_49_2024_01_13.txt, summaries_count=15, time=69.02 seconds]\u001b[A\u001b[A\n",
      "\n",
      "Summarizing files for qwen2.5:7b:  52%|█████████████████████████████████████████▏                                      | 50/97 [1:58:07<1:44:53, 133.91s/it, file=CJG_50_2024_01_20.txt, summaries_count=20, time=100.93 seconds]\u001b[A\u001b[A"
     ]
    },
    {
     "name": "stdout",
     "output_type": "stream",
     "text": [
      "Record already exists: voiceapp\\output\\summaries_folder\\qwen2.5_7b_20241213_204631\\CJG_50_2024_01_20-summary_5.txt -> C:/Users/G/Documents/GitHub/audycje.com.pl/content/audio\\CJG_50_2024_01_20.txt\n",
      "Record already exists: voiceapp\\output\\summaries_folder\\qwen2.5_7b_20241213_204631\\CJG_51_2024_01_27-summary_1.txt -> C:/Users/G/Documents/GitHub/audycje.com.pl/content/audio\\CJG_51_2024_01_27.txt\n",
      "Record already exists: voiceapp\\output\\summaries_folder\\qwen2.5_7b_20241213_204631\\CJG_51_2024_01_27-summary_2.txt -> C:/Users/G/Documents/GitHub/audycje.com.pl/content/audio\\CJG_51_2024_01_27.txt\n",
      "Record already exists: voiceapp\\output\\summaries_folder\\qwen2.5_7b_20241213_204631\\CJG_51_2024_01_27-summary_3.txt -> C:/Users/G/Documents/GitHub/audycje.com.pl/content/audio\\CJG_51_2024_01_27.txt\n",
      "Record already exists: voiceapp\\output\\summaries_folder\\qwen2.5_7b_20241213_204631\\CJG_51_2024_01_27-summary_4.txt -> C:/Users/G/Documents/GitHub/audycje.com.pl/content/audio\\CJG_51_2024_01_27.txt\n",
      "Record already exists: voiceapp\\output\\summaries_folder\\qwen2.5_7b_20241213_204631\\CJG_51_2024_01_27-summary_5.txt -> C:/Users/G/Documents/GitHub/audycje.com.pl/content/audio\\CJG_51_2024_01_27.txt\n",
      "Record already exists: voiceapp\\output\\summaries_folder\\qwen2.5_7b_20241213_204631\\CJG_51_2024_01_27-summary_1.txt -> C:/Users/G/Documents/GitHub/audycje.com.pl/content/audio\\CJG_51_2024_01_27.txt\n",
      "Record already exists: voiceapp\\output\\summaries_folder\\qwen2.5_7b_20241213_204631\\CJG_51_2024_01_27-summary_2.txt -> C:/Users/G/Documents/GitHub/audycje.com.pl/content/audio\\CJG_51_2024_01_27.txt\n",
      "Record already exists: voiceapp\\output\\summaries_folder\\qwen2.5_7b_20241213_204631\\CJG_51_2024_01_27-summary_3.txt -> C:/Users/G/Documents/GitHub/audycje.com.pl/content/audio\\CJG_51_2024_01_27.txt\n",
      "Record already exists: voiceapp\\output\\summaries_folder\\qwen2.5_7b_20241213_204631\\CJG_51_2024_01_27-summary_4.txt -> C:/Users/G/Documents/GitHub/audycje.com.pl/content/audio\\CJG_51_2024_01_27.txt\n",
      "Record already exists: voiceapp\\output\\summaries_folder\\qwen2.5_7b_20241213_204631\\CJG_51_2024_01_27-summary_5.txt -> C:/Users/G/Documents/GitHub/audycje.com.pl/content/audio\\CJG_51_2024_01_27.txt\n",
      "Record already exists: voiceapp\\output\\summaries_folder\\qwen2.5_7b_20241213_204631\\CJG_51_2024_01_27-summary_1.txt -> C:/Users/G/Documents/GitHub/audycje.com.pl/content/audio\\CJG_51_2024_01_27.txt\n",
      "Record already exists: voiceapp\\output\\summaries_folder\\qwen2.5_7b_20241213_204631\\CJG_51_2024_01_27-summary_2.txt -> C:/Users/G/Documents/GitHub/audycje.com.pl/content/audio\\CJG_51_2024_01_27.txt\n",
      "Record already exists: voiceapp\\output\\summaries_folder\\qwen2.5_7b_20241213_204631\\CJG_51_2024_01_27-summary_3.txt -> C:/Users/G/Documents/GitHub/audycje.com.pl/content/audio\\CJG_51_2024_01_27.txt\n",
      "Record already exists: voiceapp\\output\\summaries_folder\\qwen2.5_7b_20241213_204631\\CJG_51_2024_01_27-summary_4.txt -> C:/Users/G/Documents/GitHub/audycje.com.pl/content/audio\\CJG_51_2024_01_27.txt\n"
     ]
    },
    {
     "name": "stderr",
     "output_type": "stream",
     "text": [
      "\n",
      "\n",
      "Summarizing files for qwen2.5:7b:  53%|██████████████████████████████████████████                                      | 51/97 [2:11:50<4:21:10, 340.67s/it, file=CJG_50_2024_01_20.txt, summaries_count=20, time=100.93 seconds]\u001b[A\u001b[A\n",
      "\n",
      "Summarizing files for qwen2.5:7b:  53%|██████████████████████████████████████████                                      | 51/97 [2:11:50<4:21:10, 340.67s/it, file=CJG_51_2024_01_27.txt, summaries_count=20, time=823.11 seconds]\u001b[A\u001b[A"
     ]
    },
    {
     "name": "stdout",
     "output_type": "stream",
     "text": [
      "Record already exists: voiceapp\\output\\summaries_folder\\qwen2.5_7b_20241213_204631\\CJG_51_2024_01_27-summary_5.txt -> C:/Users/G/Documents/GitHub/audycje.com.pl/content/audio\\CJG_51_2024_01_27.txt\n"
     ]
    },
    {
     "name": "stderr",
     "output_type": "stream",
     "text": [
      "\n",
      "\n",
      "Summarizing files for qwen2.5:7b:  54%|██████████████████████████████████████████▉                                     | 52/97 [2:12:17<3:04:43, 246.31s/it, file=CJG_51_2024_01_27.txt, summaries_count=20, time=823.11 seconds]\u001b[A\u001b[A\n",
      "\n",
      "Summarizing files for qwen2.5:7b:  54%|███████████████████████████████████████████████▋                                         | 52/97 [2:12:17<3:04:43, 246.31s/it, file=CJG - AI 1.txt, summaries_count=5, time=26.13 seconds]\u001b[A\u001b[A"
     ]
    },
    {
     "name": "stdout",
     "output_type": "stream",
     "text": [
      "Record already exists: voiceapp\\output\\summaries_folder\\qwen2.5_7b_20241213_204631\\CJG - ambergold 1-summary_1.txt -> C:/Users/G/Documents/GitHub/audycje.com.pl/content/audio\\shorts\\CJG - ambergold 1.txt\n",
      "Record already exists: voiceapp\\output\\summaries_folder\\qwen2.5_7b_20241213_204631\\CJG - ambergold 1-summary_2.txt -> C:/Users/G/Documents/GitHub/audycje.com.pl/content/audio\\shorts\\CJG - ambergold 1.txt\n",
      "Record already exists: voiceapp\\output\\summaries_folder\\qwen2.5_7b_20241213_204631\\CJG - ambergold 1-summary_3.txt -> C:/Users/G/Documents/GitHub/audycje.com.pl/content/audio\\shorts\\CJG - ambergold 1.txt\n",
      "Record already exists: voiceapp\\output\\summaries_folder\\qwen2.5_7b_20241213_204631\\CJG - ambergold 1-summary_4.txt -> C:/Users/G/Documents/GitHub/audycje.com.pl/content/audio\\shorts\\CJG - ambergold 1.txt\n"
     ]
    },
    {
     "name": "stderr",
     "output_type": "stream",
     "text": [
      "\n",
      "\n",
      "Summarizing files for qwen2.5:7b:  55%|████████████████████████████████████████████████▋                                        | 53/97 [2:13:06<2:17:17, 187.22s/it, file=CJG - AI 1.txt, summaries_count=5, time=26.13 seconds]\u001b[A\u001b[A\n",
      "\n",
      "Summarizing files for qwen2.5:7b:  55%|████████████████████████████████████████████▎                                    | 53/97 [2:13:06<2:17:17, 187.22s/it, file=CJG - ambergold 1.txt, summaries_count=10, time=49.35 seconds]\u001b[A\u001b[A"
     ]
    },
    {
     "name": "stdout",
     "output_type": "stream",
     "text": [
      "Record already exists: voiceapp\\output\\summaries_folder\\qwen2.5_7b_20241213_204631\\CJG - ambergold 1-summary_5.txt -> C:/Users/G/Documents/GitHub/audycje.com.pl/content/audio\\shorts\\CJG - ambergold 1.txt\n"
     ]
    },
    {
     "name": "stderr",
     "output_type": "stream",
     "text": [
      "\n",
      "\n",
      "Summarizing files for qwen2.5:7b:  56%|█████████████████████████████████████████████                                    | 54/97 [2:13:31<1:39:12, 138.44s/it, file=CJG - ambergold 1.txt, summaries_count=10, time=49.35 seconds]\u001b[A\u001b[A\n",
      "\n",
      "Summarizing files for qwen2.5:7b:  56%|██████████████████████████████████████████▊                                  | 54/97 [2:13:31<1:39:12, 138.44s/it, file=CJG - anheuser-busch 1.txt, summaries_count=5, time=24.61 seconds]\u001b[A\u001b[A"
     ]
    },
    {
     "name": "stdout",
     "output_type": "stream",
     "text": [
      "Record already exists: voiceapp\\output\\summaries_folder\\qwen2.5_7b_20241213_204631\\CJG - C40 1-summary_1.txt -> C:/Users/G/Documents/GitHub/audycje.com.pl/content/audio\\shorts\\CJG - C40 1.txt\n",
      "Record already exists: voiceapp\\output\\summaries_folder\\qwen2.5_7b_20241213_204631\\CJG - C40 1-summary_2.txt -> C:/Users/G/Documents/GitHub/audycje.com.pl/content/audio\\shorts\\CJG - C40 1.txt\n",
      "Record already exists: voiceapp\\output\\summaries_folder\\qwen2.5_7b_20241213_204631\\CJG - C40 1-summary_3.txt -> C:/Users/G/Documents/GitHub/audycje.com.pl/content/audio\\shorts\\CJG - C40 1.txt\n",
      "Record already exists: voiceapp\\output\\summaries_folder\\qwen2.5_7b_20241213_204631\\CJG - C40 1-summary_4.txt -> C:/Users/G/Documents/GitHub/audycje.com.pl/content/audio\\shorts\\CJG - C40 1.txt\n"
     ]
    },
    {
     "name": "stderr",
     "output_type": "stream",
     "text": [
      "\n",
      "\n",
      "Summarizing files for qwen2.5:7b:  57%|███████████████████████████████████████████▋                                 | 55/97 [2:13:54<1:12:49, 104.05s/it, file=CJG - anheuser-busch 1.txt, summaries_count=5, time=24.61 seconds]\u001b[A\u001b[A\n",
      "\n",
      "Summarizing files for qwen2.5:7b:  57%|█████████████████████████████████████████████████▎                                     | 55/97 [2:13:54<1:12:49, 104.05s/it, file=CJG - C40 1.txt, summaries_count=10, time=23.79 seconds]\u001b[A\u001b[A"
     ]
    },
    {
     "name": "stdout",
     "output_type": "stream",
     "text": [
      "Record already exists: voiceapp\\output\\summaries_folder\\qwen2.5_7b_20241213_204631\\CJG - C40 1-summary_5.txt -> C:/Users/G/Documents/GitHub/audycje.com.pl/content/audio\\shorts\\CJG - C40 1.txt\n",
      "Record already exists: voiceapp\\output\\summaries_folder\\qwen2.5_7b_20241213_204631\\CJG - dawne zapowiedzi 1-summary_1.txt -> C:/Users/G/Documents/GitHub/audycje.com.pl/content/audio\\shorts\\CJG - dawne zapowiedzi 1.txt\n",
      "Record already exists: voiceapp\\output\\summaries_folder\\qwen2.5_7b_20241213_204631\\CJG - dawne zapowiedzi 1-summary_2.txt -> C:/Users/G/Documents/GitHub/audycje.com.pl/content/audio\\shorts\\CJG - dawne zapowiedzi 1.txt\n",
      "Record already exists: voiceapp\\output\\summaries_folder\\qwen2.5_7b_20241213_204631\\CJG - dawne zapowiedzi 1-summary_3.txt -> C:/Users/G/Documents/GitHub/audycje.com.pl/content/audio\\shorts\\CJG - dawne zapowiedzi 1.txt\n",
      "Record already exists: voiceapp\\output\\summaries_folder\\qwen2.5_7b_20241213_204631\\CJG - dawne zapowiedzi 1-summary_4.txt -> C:/Users/G/Documents/GitHub/audycje.com.pl/content/audio\\shorts\\CJG - dawne zapowiedzi 1.txt\n"
     ]
    },
    {
     "name": "stderr",
     "output_type": "stream",
     "text": [
      "\n",
      "\n",
      "Summarizing files for qwen2.5:7b:  58%|██████████████████████████████████████████████████▊                                     | 56/97 [2:14:45<1:00:06, 87.96s/it, file=CJG - C40 1.txt, summaries_count=10, time=23.79 seconds]\u001b[A\u001b[A\n",
      "\n",
      "Summarizing files for qwen2.5:7b:  58%|███████████████████████████████████████████▎                               | 56/97 [2:14:45<1:00:06, 87.96s/it, file=CJG - dawne zapowiedzi 1.txt, summaries_count=10, time=50.42 seconds]\u001b[A\u001b[A"
     ]
    },
    {
     "name": "stdout",
     "output_type": "stream",
     "text": [
      "Record already exists: voiceapp\\output\\summaries_folder\\qwen2.5_7b_20241213_204631\\CJG - dawne zapowiedzi 1-summary_5.txt -> C:/Users/G/Documents/GitHub/audycje.com.pl/content/audio\\shorts\\CJG - dawne zapowiedzi 1.txt\n",
      "Record already exists: voiceapp\\output\\summaries_folder\\qwen2.5_7b_20241213_204631\\CJG - emigracja 1-summary_1.txt -> C:/Users/G/Documents/GitHub/audycje.com.pl/content/audio\\shorts\\CJG - emigracja 1.txt\n",
      "Record already exists: voiceapp\\output\\summaries_folder\\qwen2.5_7b_20241213_204631\\CJG - emigracja 1-summary_2.txt -> C:/Users/G/Documents/GitHub/audycje.com.pl/content/audio\\shorts\\CJG - emigracja 1.txt\n",
      "Record already exists: voiceapp\\output\\summaries_folder\\qwen2.5_7b_20241213_204631\\CJG - emigracja 1-summary_3.txt -> C:/Users/G/Documents/GitHub/audycje.com.pl/content/audio\\shorts\\CJG - emigracja 1.txt\n",
      "Record already exists: voiceapp\\output\\summaries_folder\\qwen2.5_7b_20241213_204631\\CJG - emigracja 1-summary_4.txt -> C:/Users/G/Documents/GitHub/audycje.com.pl/content/audio\\shorts\\CJG - emigracja 1.txt\n"
     ]
    },
    {
     "name": "stderr",
     "output_type": "stream",
     "text": [
      "\n",
      "\n",
      "Summarizing files for qwen2.5:7b:  59%|█████████████████████████████████████████████▏                               | 57/97 [2:15:30<50:09, 75.25s/it, file=CJG - dawne zapowiedzi 1.txt, summaries_count=10, time=50.42 seconds]\u001b[A\u001b[A\n",
      "\n",
      "Summarizing files for qwen2.5:7b:  59%|█████████████████████████████████████████████████▎                                  | 57/97 [2:15:30<50:09, 75.25s/it, file=CJG - emigracja 1.txt, summaries_count=10, time=45.59 seconds]\u001b[A\u001b[A"
     ]
    },
    {
     "name": "stdout",
     "output_type": "stream",
     "text": [
      "Record already exists: voiceapp\\output\\summaries_folder\\qwen2.5_7b_20241213_204631\\CJG - emigracja 1-summary_5.txt -> C:/Users/G/Documents/GitHub/audycje.com.pl/content/audio\\shorts\\CJG - emigracja 1.txt\n",
      "Record already exists: voiceapp\\output\\summaries_folder\\qwen2.5_7b_20241213_204631\\CJG - evergrande 1-summary_1.txt -> C:/Users/G/Documents/GitHub/audycje.com.pl/content/audio\\shorts\\CJG - evergrande 1.txt\n",
      "Record already exists: voiceapp\\output\\summaries_folder\\qwen2.5_7b_20241213_204631\\CJG - evergrande 1-summary_2.txt -> C:/Users/G/Documents/GitHub/audycje.com.pl/content/audio\\shorts\\CJG - evergrande 1.txt\n",
      "Record already exists: voiceapp\\output\\summaries_folder\\qwen2.5_7b_20241213_204631\\CJG - evergrande 1-summary_3.txt -> C:/Users/G/Documents/GitHub/audycje.com.pl/content/audio\\shorts\\CJG - evergrande 1.txt\n",
      "Record already exists: voiceapp\\output\\summaries_folder\\qwen2.5_7b_20241213_204631\\CJG - evergrande 1-summary_4.txt -> C:/Users/G/Documents/GitHub/audycje.com.pl/content/audio\\shorts\\CJG - evergrande 1.txt\n"
     ]
    },
    {
     "name": "stderr",
     "output_type": "stream",
     "text": [
      "\n",
      "\n",
      "Summarizing files for qwen2.5:7b:  60%|██████████████████████████████████████████████████▏                                 | 58/97 [2:16:17<43:18, 66.64s/it, file=CJG - emigracja 1.txt, summaries_count=10, time=45.59 seconds]\u001b[A\u001b[A\n",
      "\n",
      "Summarizing files for qwen2.5:7b:  60%|█████████████████████████████████████████████████▋                                 | 58/97 [2:16:17<43:18, 66.64s/it, file=CJG - evergrande 1.txt, summaries_count=10, time=46.55 seconds]\u001b[A\u001b[A"
     ]
    },
    {
     "name": "stdout",
     "output_type": "stream",
     "text": [
      "Record already exists: voiceapp\\output\\summaries_folder\\qwen2.5_7b_20241213_204631\\CJG - evergrande 1-summary_5.txt -> C:/Users/G/Documents/GitHub/audycje.com.pl/content/audio\\shorts\\CJG - evergrande 1.txt\n"
     ]
    },
    {
     "name": "stderr",
     "output_type": "stream",
     "text": [
      "\n",
      "\n",
      "Summarizing files for qwen2.5:7b:  61%|██████████████████████████████████████████████████▍                                | 59/97 [2:16:42<34:23, 54.30s/it, file=CJG - evergrande 1.txt, summaries_count=10, time=46.55 seconds]\u001b[A\u001b[A\n",
      "\n",
      "Summarizing files for qwen2.5:7b:  61%|███████████████████████████████████████████████▍                              | 59/97 [2:16:42<34:23, 54.30s/it, file=CJG - firmy w polsce cz1.txt, summaries_count=5, time=25.50 seconds]\u001b[A\u001b[A\n",
      "\n",
      "Summarizing files for qwen2.5:7b:  62%|████████████████████████████████████████████████▏                             | 60/97 [2:17:05<27:33, 44.68s/it, file=CJG - firmy w polsce cz1.txt, summaries_count=5, time=25.50 seconds]\u001b[A\u001b[A\n",
      "\n",
      "Summarizing files for qwen2.5:7b:  62%|██████████████████████████████████████████████████▋                               | 60/97 [2:17:05<27:33, 44.68s/it, file=CJG - fotowoltaika 1.txt, summaries_count=5, time=22.23 seconds]\u001b[A\u001b[A\n",
      "\n",
      "Summarizing files for qwen2.5:7b:  63%|███████████████████████████████████████████████████▌                              | 61/97 [2:17:29<23:05, 38.49s/it, file=CJG - fotowoltaika 1.txt, summaries_count=5, time=22.23 seconds]\u001b[A\u001b[A\n",
      "\n",
      "Summarizing files for qwen2.5:7b:  63%|███████████████████████████████████████████████████████▉                                 | 61/97 [2:17:29<23:05, 38.49s/it, file=CJG - hamas 1.txt, summaries_count=5, time=24.05 seconds]\u001b[A\u001b[A\n",
      "\n",
      "Summarizing files for qwen2.5:7b:  64%|████████████████████████████████████████████████████████▉                                | 62/97 [2:17:53<19:56, 34.19s/it, file=CJG - hamas 1.txt, summaries_count=5, time=24.05 seconds]\u001b[A\u001b[A\n",
      "\n",
      "Summarizing files for qwen2.5:7b:  64%|███████████████████████████████████████████████████▏                            | 62/97 [2:17:53<19:56, 34.19s/it, file=CJG - inflacja i nbp 1.txt, summaries_count=5, time=24.15 seconds]\u001b[A\u001b[A"
     ]
    },
    {
     "name": "stdout",
     "output_type": "stream",
     "text": [
      "Record already exists: voiceapp\\output\\summaries_folder\\qwen2.5_7b_20241213_204631\\CJG - influencerzy 1-summary_1.txt -> C:/Users/G/Documents/GitHub/audycje.com.pl/content/audio\\shorts\\CJG - influencerzy 1.txt\n",
      "Record already exists: voiceapp\\output\\summaries_folder\\qwen2.5_7b_20241213_204631\\CJG - influencerzy 1-summary_2.txt -> C:/Users/G/Documents/GitHub/audycje.com.pl/content/audio\\shorts\\CJG - influencerzy 1.txt\n",
      "Record already exists: voiceapp\\output\\summaries_folder\\qwen2.5_7b_20241213_204631\\CJG - influencerzy 1-summary_3.txt -> C:/Users/G/Documents/GitHub/audycje.com.pl/content/audio\\shorts\\CJG - influencerzy 1.txt\n",
      "Record already exists: voiceapp\\output\\summaries_folder\\qwen2.5_7b_20241213_204631\\CJG - influencerzy 1-summary_4.txt -> C:/Users/G/Documents/GitHub/audycje.com.pl/content/audio\\shorts\\CJG - influencerzy 1.txt\n"
     ]
    },
    {
     "name": "stderr",
     "output_type": "stream",
     "text": [
      "\n",
      "\n",
      "Summarizing files for qwen2.5:7b:  65%|███████████████████████████████████████████████████▉                            | 63/97 [2:18:43<22:07, 39.04s/it, file=CJG - inflacja i nbp 1.txt, summaries_count=5, time=24.15 seconds]\u001b[A\u001b[A\n",
      "\n",
      "Summarizing files for qwen2.5:7b:  65%|████████████████████████████████████████████████████▌                            | 63/97 [2:18:43<22:07, 39.04s/it, file=CJG - influencerzy 1.txt, summaries_count=10, time=50.37 seconds]\u001b[A\u001b[A"
     ]
    },
    {
     "name": "stdout",
     "output_type": "stream",
     "text": [
      "Record already exists: voiceapp\\output\\summaries_folder\\qwen2.5_7b_20241213_204631\\CJG - influencerzy 1-summary_5.txt -> C:/Users/G/Documents/GitHub/audycje.com.pl/content/audio\\shorts\\CJG - influencerzy 1.txt\n"
     ]
    },
    {
     "name": "stderr",
     "output_type": "stream",
     "text": [
      "\n",
      "\n",
      "Summarizing files for qwen2.5:7b:  66%|█████████████████████████████████████████████████████▍                           | 64/97 [2:19:07<19:02, 34.62s/it, file=CJG - influencerzy 1.txt, summaries_count=10, time=50.37 seconds]\u001b[A\u001b[A\n",
      "\n",
      "Summarizing files for qwen2.5:7b:  66%|█████████████████████████████████████████████████████████▍                             | 64/97 [2:19:07<19:02, 34.62s/it, file=CJG - japonia 1.txt, summaries_count=5, time=24.30 seconds]\u001b[A\u001b[A\n",
      "\n",
      "Summarizing files for qwen2.5:7b:  67%|██████████████████████████████████████████████████████████▎                            | 65/97 [2:19:31<16:43, 31.35s/it, file=CJG - japonia 1.txt, summaries_count=5, time=24.30 seconds]\u001b[A\u001b[A\n",
      "\n",
      "Summarizing files for qwen2.5:7b:  67%|█████████████████████████████████████████████████████████▋                            | 65/97 [2:19:31<16:43, 31.35s/it, file=CJG - jastrzab 1.txt, summaries_count=5, time=23.73 seconds]\u001b[A\u001b[A\n",
      "\n",
      "Summarizing files for qwen2.5:7b:  68%|██████████████████████████████████████████████████████████▌                           | 66/97 [2:19:54<14:51, 28.75s/it, file=CJG - jastrzab 1.txt, summaries_count=5, time=23.73 seconds]\u001b[A\u001b[A\n",
      "\n",
      "Summarizing files for qwen2.5:7b:  68%|█████████████████████████████████████████████████████████▊                           | 66/97 [2:19:54<14:51, 28.75s/it, file=CJG - jubileusz 1.txt, summaries_count=5, time=22.68 seconds]\u001b[A\u001b[A\n",
      "\n",
      "Summarizing files for qwen2.5:7b:  69%|██████████████████████████████████████████████████████████▋                          | 67/97 [2:20:17<13:31, 27.06s/it, file=CJG - jubileusz 1.txt, summaries_count=5, time=22.68 seconds]\u001b[A\u001b[A\n",
      "\n",
      "Summarizing files for qwen2.5:7b:  69%|███████████████████████████████████████████████████████████▍                          | 67/97 [2:20:17<13:31, 27.06s/it, file=CJG - kataster 1.txt, summaries_count=5, time=23.12 seconds]\u001b[A\u001b[A"
     ]
    },
    {
     "name": "stdout",
     "output_type": "stream",
     "text": [
      "Record already exists: voiceapp\\output\\summaries_folder\\qwen2.5_7b_20241213_204631\\CJG - kierowcy 1-summary_1.txt -> C:/Users/G/Documents/GitHub/audycje.com.pl/content/audio\\shorts\\CJG - kierowcy 1.txt\n",
      "Record already exists: voiceapp\\output\\summaries_folder\\qwen2.5_7b_20241213_204631\\CJG - kierowcy 1-summary_2.txt -> C:/Users/G/Documents/GitHub/audycje.com.pl/content/audio\\shorts\\CJG - kierowcy 1.txt\n",
      "Record already exists: voiceapp\\output\\summaries_folder\\qwen2.5_7b_20241213_204631\\CJG - kierowcy 1-summary_3.txt -> C:/Users/G/Documents/GitHub/audycje.com.pl/content/audio\\shorts\\CJG - kierowcy 1.txt\n",
      "Record already exists: voiceapp\\output\\summaries_folder\\qwen2.5_7b_20241213_204631\\CJG - kierowcy 1-summary_4.txt -> C:/Users/G/Documents/GitHub/audycje.com.pl/content/audio\\shorts\\CJG - kierowcy 1.txt\n"
     ]
    },
    {
     "name": "stderr",
     "output_type": "stream",
     "text": [
      "\n",
      "\n",
      "Summarizing files for qwen2.5:7b:  70%|████████████████████████████████████████████████████████████▎                         | 68/97 [2:21:06<16:12, 33.52s/it, file=CJG - kataster 1.txt, summaries_count=5, time=23.12 seconds]\u001b[A\u001b[A\n",
      "\n",
      "Summarizing files for qwen2.5:7b:  70%|███████████████████████████████████████████████████████████▌                         | 68/97 [2:21:06<16:12, 33.52s/it, file=CJG - kierowcy 1.txt, summaries_count=10, time=48.60 seconds]\u001b[A\u001b[A"
     ]
    },
    {
     "name": "stdout",
     "output_type": "stream",
     "text": [
      "Record already exists: voiceapp\\output\\summaries_folder\\qwen2.5_7b_20241213_204631\\CJG - kierowcy 1-summary_5.txt -> C:/Users/G/Documents/GitHub/audycje.com.pl/content/audio\\shorts\\CJG - kierowcy 1.txt\n",
      "Record already exists: voiceapp\\output\\summaries_folder\\qwen2.5_7b_20241213_204631\\CJG - koniec roku 1-summary_1.txt -> C:/Users/G/Documents/GitHub/audycje.com.pl/content/audio\\shorts\\CJG - koniec roku 1.txt\n",
      "Record already exists: voiceapp\\output\\summaries_folder\\qwen2.5_7b_20241213_204631\\CJG - koniec roku 1-summary_2.txt -> C:/Users/G/Documents/GitHub/audycje.com.pl/content/audio\\shorts\\CJG - koniec roku 1.txt\n",
      "Record already exists: voiceapp\\output\\summaries_folder\\qwen2.5_7b_20241213_204631\\CJG - koniec roku 1-summary_3.txt -> C:/Users/G/Documents/GitHub/audycje.com.pl/content/audio\\shorts\\CJG - koniec roku 1.txt\n",
      "Record already exists: voiceapp\\output\\summaries_folder\\qwen2.5_7b_20241213_204631\\CJG - koniec roku 1-summary_4.txt -> C:/Users/G/Documents/GitHub/audycje.com.pl/content/audio\\shorts\\CJG - koniec roku 1.txt\n"
     ]
    },
    {
     "name": "stderr",
     "output_type": "stream",
     "text": [
      "\n",
      "\n",
      "Summarizing files for qwen2.5:7b:  71%|████████████████████████████████████████████████████████████▍                        | 69/97 [2:21:59<18:22, 39.37s/it, file=CJG - kierowcy 1.txt, summaries_count=10, time=48.60 seconds]\u001b[A\u001b[A\n",
      "\n",
      "Summarizing files for qwen2.5:7b:  71%|██████████████████████████████████████████████████████████▎                       | 69/97 [2:21:59<18:22, 39.37s/it, file=CJG - koniec roku 1.txt, summaries_count=10, time=53.03 seconds]\u001b[A\u001b[A"
     ]
    },
    {
     "name": "stdout",
     "output_type": "stream",
     "text": [
      "Record already exists: voiceapp\\output\\summaries_folder\\qwen2.5_7b_20241213_204631\\CJG - koniec roku 1-summary_5.txt -> C:/Users/G/Documents/GitHub/audycje.com.pl/content/audio\\shorts\\CJG - koniec roku 1.txt\n"
     ]
    },
    {
     "name": "stderr",
     "output_type": "stream",
     "text": [
      "\n",
      "\n",
      "Summarizing files for qwen2.5:7b:  72%|███████████████████████████████████████████████████████████▏                      | 70/97 [2:22:25<15:54, 35.34s/it, file=CJG - koniec roku 1.txt, summaries_count=10, time=53.03 seconds]\u001b[A\u001b[A\n",
      "\n",
      "Summarizing files for qwen2.5:7b:  72%|██████████████████████████████████████████████████████████████                        | 70/97 [2:22:25<15:54, 35.34s/it, file=CJG - kurczaki 1.txt, summaries_count=5, time=25.93 seconds]\u001b[A\u001b[A\n",
      "\n",
      "Summarizing files for qwen2.5:7b:  73%|██████████████████████████████████████████████████████████████▉                       | 71/97 [2:22:51<14:08, 32.63s/it, file=CJG - kurczaki 1.txt, summaries_count=5, time=25.93 seconds]\u001b[A\u001b[A\n",
      "\n",
      "Summarizing files for qwen2.5:7b:  73%|████████████████████████████████████████████████████████████                      | 71/97 [2:22:51<14:08, 32.63s/it, file=CJG - mieszkania cz1.txt, summaries_count=5, time=26.32 seconds]\u001b[A\u001b[A"
     ]
    },
    {
     "name": "stdout",
     "output_type": "stream",
     "text": [
      "Record already exists: voiceapp\\output\\summaries_folder\\qwen2.5_7b_20241213_204631\\CJG - miliarderzy 1-summary_1.txt -> C:/Users/G/Documents/GitHub/audycje.com.pl/content/audio\\shorts\\CJG - miliarderzy 1.txt\n",
      "Record already exists: voiceapp\\output\\summaries_folder\\qwen2.5_7b_20241213_204631\\CJG - miliarderzy 1-summary_2.txt -> C:/Users/G/Documents/GitHub/audycje.com.pl/content/audio\\shorts\\CJG - miliarderzy 1.txt\n",
      "Record already exists: voiceapp\\output\\summaries_folder\\qwen2.5_7b_20241213_204631\\CJG - miliarderzy 1-summary_3.txt -> C:/Users/G/Documents/GitHub/audycje.com.pl/content/audio\\shorts\\CJG - miliarderzy 1.txt\n",
      "Record already exists: voiceapp\\output\\summaries_folder\\qwen2.5_7b_20241213_204631\\CJG - miliarderzy 1-summary_4.txt -> C:/Users/G/Documents/GitHub/audycje.com.pl/content/audio\\shorts\\CJG - miliarderzy 1.txt\n"
     ]
    },
    {
     "name": "stderr",
     "output_type": "stream",
     "text": [
      "\n",
      "\n",
      "Summarizing files for qwen2.5:7b:  74%|████████████████████████████████████████████████████████████▊                     | 72/97 [2:23:37<15:15, 36.61s/it, file=CJG - mieszkania cz1.txt, summaries_count=5, time=26.32 seconds]\u001b[A\u001b[A\n",
      "\n",
      "Summarizing files for qwen2.5:7b:  74%|████████████████████████████████████████████████████████████▊                     | 72/97 [2:23:37<15:15, 36.61s/it, file=CJG - miliarderzy 1.txt, summaries_count=10, time=45.87 seconds]\u001b[A\u001b[A"
     ]
    },
    {
     "name": "stdout",
     "output_type": "stream",
     "text": [
      "Record already exists: voiceapp\\output\\summaries_folder\\qwen2.5_7b_20241213_204631\\CJG - miliarderzy 1-summary_5.txt -> C:/Users/G/Documents/GitHub/audycje.com.pl/content/audio\\shorts\\CJG - miliarderzy 1.txt\n"
     ]
    },
    {
     "name": "stderr",
     "output_type": "stream",
     "text": [
      "\n",
      "\n",
      "Summarizing files for qwen2.5:7b:  75%|█████████████████████████████████████████████████████████████▋                    | 73/97 [2:23:59<12:53, 32.24s/it, file=CJG - miliarderzy 1.txt, summaries_count=10, time=45.87 seconds]\u001b[A\u001b[A\n",
      "\n",
      "Summarizing files for qwen2.5:7b:  75%|███████████████████████████████████████████████████████▋                  | 73/97 [2:23:59<12:53, 32.24s/it, file=CJG - monopol energetyczny 1.txt, summaries_count=5, time=22.07 seconds]\u001b[A\u001b[A\n",
      "\n",
      "Summarizing files for qwen2.5:7b:  76%|████████████████████████████████████████████████████████▍                 | 74/97 [2:24:24<11:32, 30.12s/it, file=CJG - monopol energetyczny 1.txt, summaries_count=5, time=22.07 seconds]\u001b[A\u001b[A\n",
      "\n",
      "Summarizing files for qwen2.5:7b:  76%|███████████████████████████████████████████████████████████████████▏                    | 74/97 [2:24:24<11:32, 30.12s/it, file=CJG - niemcy 1.txt, summaries_count=5, time=25.17 seconds]\u001b[A\u001b[A\n",
      "\n",
      "Summarizing files for qwen2.5:7b:  77%|████████████████████████████████████████████████████████████████████                    | 75/97 [2:24:49<10:28, 28.55s/it, file=CJG - niemcy 1.txt, summaries_count=5, time=25.17 seconds]\u001b[A\u001b[A\n",
      "\n",
      "Summarizing files for qwen2.5:7b:  77%|████████████████████████████████████████████████████████████████████▊                    | 75/97 [2:24:49<10:28, 28.55s/it, file=CJG - orlen 1.txt, summaries_count=5, time=24.88 seconds]\u001b[A\u001b[A"
     ]
    },
    {
     "name": "stdout",
     "output_type": "stream",
     "text": [
      "Record already exists: voiceapp\\output\\summaries_folder\\qwen2.5_7b_20241213_204631\\CJG - paliwo wyborcze 1-summary_1.txt -> C:/Users/G/Documents/GitHub/audycje.com.pl/content/audio\\shorts\\CJG - paliwo wyborcze 1.txt\n",
      "Record already exists: voiceapp\\output\\summaries_folder\\qwen2.5_7b_20241213_204631\\CJG - paliwo wyborcze 1-summary_2.txt -> C:/Users/G/Documents/GitHub/audycje.com.pl/content/audio\\shorts\\CJG - paliwo wyborcze 1.txt\n",
      "Record already exists: voiceapp\\output\\summaries_folder\\qwen2.5_7b_20241213_204631\\CJG - paliwo wyborcze 1-summary_3.txt -> C:/Users/G/Documents/GitHub/audycje.com.pl/content/audio\\shorts\\CJG - paliwo wyborcze 1.txt\n",
      "Record already exists: voiceapp\\output\\summaries_folder\\qwen2.5_7b_20241213_204631\\CJG - paliwo wyborcze 1-summary_4.txt -> C:/Users/G/Documents/GitHub/audycje.com.pl/content/audio\\shorts\\CJG - paliwo wyborcze 1.txt\n"
     ]
    },
    {
     "name": "stderr",
     "output_type": "stream",
     "text": [
      "\n",
      "\n",
      "Summarizing files for qwen2.5:7b:  78%|█████████████████████████████████████████████████████████████████████▋                   | 76/97 [2:25:28<11:03, 31.61s/it, file=CJG - orlen 1.txt, summaries_count=5, time=24.88 seconds]\u001b[A\u001b[A\n",
      "\n",
      "Summarizing files for qwen2.5:7b:  78%|█████████████████████████████████████████████████████████████                 | 76/97 [2:25:28<11:03, 31.61s/it, file=CJG - paliwo wyborcze 1.txt, summaries_count=10, time=38.73 seconds]\u001b[A\u001b[A"
     ]
    },
    {
     "name": "stdout",
     "output_type": "stream",
     "text": [
      "Record already exists: voiceapp\\output\\summaries_folder\\qwen2.5_7b_20241213_204631\\CJG - paliwo wyborcze 1-summary_5.txt -> C:/Users/G/Documents/GitHub/audycje.com.pl/content/audio\\shorts\\CJG - paliwo wyborcze 1.txt\n"
     ]
    },
    {
     "name": "stderr",
     "output_type": "stream",
     "text": [
      "\n",
      "\n",
      "Summarizing files for qwen2.5:7b:  79%|█████████████████████████████████████████████████████████████▉                | 77/97 [2:25:52<09:47, 29.36s/it, file=CJG - paliwo wyborcze 1.txt, summaries_count=10, time=38.73 seconds]\u001b[A\u001b[A\n",
      "\n",
      "Summarizing files for qwen2.5:7b:  79%|█████████████████████████████████████████████████████████████████                 | 77/97 [2:25:52<09:47, 29.36s/it, file=CJG - pompy ciepla 1.txt, summaries_count=5, time=24.12 seconds]\u001b[A\u001b[A"
     ]
    },
    {
     "name": "stdout",
     "output_type": "stream",
     "text": [
      "Record already exists: voiceapp\\output\\summaries_folder\\qwen2.5_7b_20241213_204631\\CJG - punkt zwrotny usa 1-summary_1.txt -> C:/Users/G/Documents/GitHub/audycje.com.pl/content/audio\\shorts\\CJG - punkt zwrotny usa 1.txt\n",
      "Record already exists: voiceapp\\output\\summaries_folder\\qwen2.5_7b_20241213_204631\\CJG - punkt zwrotny usa 1-summary_2.txt -> C:/Users/G/Documents/GitHub/audycje.com.pl/content/audio\\shorts\\CJG - punkt zwrotny usa 1.txt\n",
      "Record already exists: voiceapp\\output\\summaries_folder\\qwen2.5_7b_20241213_204631\\CJG - punkt zwrotny usa 1-summary_3.txt -> C:/Users/G/Documents/GitHub/audycje.com.pl/content/audio\\shorts\\CJG - punkt zwrotny usa 1.txt\n",
      "Record already exists: voiceapp\\output\\summaries_folder\\qwen2.5_7b_20241213_204631\\CJG - punkt zwrotny usa 1-summary_4.txt -> C:/Users/G/Documents/GitHub/audycje.com.pl/content/audio\\shorts\\CJG - punkt zwrotny usa 1.txt\n"
     ]
    },
    {
     "name": "stderr",
     "output_type": "stream",
     "text": [
      "\n",
      "\n",
      "Summarizing files for qwen2.5:7b:  80%|█████████████████████████████████████████████████████████████████▉                | 78/97 [2:26:36<10:40, 33.69s/it, file=CJG - pompy ciepla 1.txt, summaries_count=5, time=24.12 seconds]\u001b[A\u001b[A\n",
      "\n",
      "Summarizing files for qwen2.5:7b:  80%|█████████████████████████████████████████████████████████████               | 78/97 [2:26:36<10:40, 33.69s/it, file=CJG - punkt zwrotny usa 1.txt, summaries_count=10, time=43.78 seconds]\u001b[A\u001b[A"
     ]
    },
    {
     "name": "stdout",
     "output_type": "stream",
     "text": [
      "Record already exists: voiceapp\\output\\summaries_folder\\qwen2.5_7b_20241213_204631\\CJG - punkt zwrotny usa 1-summary_5.txt -> C:/Users/G/Documents/GitHub/audycje.com.pl/content/audio\\shorts\\CJG - punkt zwrotny usa 1.txt\n"
     ]
    },
    {
     "name": "stderr",
     "output_type": "stream",
     "text": [
      "\n",
      "\n",
      "Summarizing files for qwen2.5:7b:  81%|█████████████████████████████████████████████████████████████▉              | 79/97 [2:27:00<09:19, 31.07s/it, file=CJG - punkt zwrotny usa 1.txt, summaries_count=10, time=43.78 seconds]\u001b[A\u001b[A\n",
      "\n",
      "Summarizing files for qwen2.5:7b:  81%|███████████████████████████████████████████████████████████████████████▋                | 79/97 [2:27:00<09:19, 31.07s/it, file=CJG - robaki 1.txt, summaries_count=5, time=24.94 seconds]\u001b[A\u001b[A\n",
      "\n",
      "Summarizing files for qwen2.5:7b:  82%|████████████████████████████████████████████████████████████████████████▌               | 80/97 [2:27:24<08:08, 28.71s/it, file=CJG - robaki 1.txt, summaries_count=5, time=24.94 seconds]\u001b[A\u001b[A\n",
      "\n",
      "Summarizing files for qwen2.5:7b:  82%|██████████████████████████████████████████████████████████████████████▉               | 80/97 [2:27:24<08:08, 28.71s/it, file=CJG - rok 2022 1.txt, summaries_count=5, time=23.20 seconds]\u001b[A\u001b[A"
     ]
    },
    {
     "name": "stdout",
     "output_type": "stream",
     "text": [
      "Record already exists: voiceapp\\output\\summaries_folder\\qwen2.5_7b_20241213_204631\\CJG - rosja 1-summary_1.txt -> C:/Users/G/Documents/GitHub/audycje.com.pl/content/audio\\shorts\\CJG - rosja 1.txt\n",
      "Record already exists: voiceapp\\output\\summaries_folder\\qwen2.5_7b_20241213_204631\\CJG - rosja 1-summary_2.txt -> C:/Users/G/Documents/GitHub/audycje.com.pl/content/audio\\shorts\\CJG - rosja 1.txt\n",
      "Record already exists: voiceapp\\output\\summaries_folder\\qwen2.5_7b_20241213_204631\\CJG - rosja 1-summary_3.txt -> C:/Users/G/Documents/GitHub/audycje.com.pl/content/audio\\shorts\\CJG - rosja 1.txt\n",
      "Record already exists: voiceapp\\output\\summaries_folder\\qwen2.5_7b_20241213_204631\\CJG - rosja 1-summary_4.txt -> C:/Users/G/Documents/GitHub/audycje.com.pl/content/audio\\shorts\\CJG - rosja 1.txt\n"
     ]
    },
    {
     "name": "stderr",
     "output_type": "stream",
     "text": [
      "\n",
      "\n",
      "Summarizing files for qwen2.5:7b:  84%|███████████████████████████████████████████████████████████████████████▊              | 81/97 [2:28:12<09:12, 34.53s/it, file=CJG - rok 2022 1.txt, summaries_count=5, time=23.20 seconds]\u001b[A\u001b[A\n",
      "\n",
      "Summarizing files for qwen2.5:7b:  84%|█████████████████████████████████████████████████████████████████████████▍              | 81/97 [2:28:12<09:12, 34.53s/it, file=CJG - rosja 1.txt, summaries_count=10, time=48.12 seconds]\u001b[A\u001b[A"
     ]
    },
    {
     "name": "stdout",
     "output_type": "stream",
     "text": [
      "Record already exists: voiceapp\\output\\summaries_folder\\qwen2.5_7b_20241213_204631\\CJG - rosja 1-summary_5.txt -> C:/Users/G/Documents/GitHub/audycje.com.pl/content/audio\\shorts\\CJG - rosja 1.txt\n"
     ]
    },
    {
     "name": "stderr",
     "output_type": "stream",
     "text": [
      "\n",
      "\n",
      "Summarizing files for qwen2.5:7b:  85%|██████████████████████████████████████████████████████████████████████████▍             | 82/97 [2:28:40<08:10, 32.72s/it, file=CJG - rosja 1.txt, summaries_count=10, time=48.12 seconds]\u001b[A\u001b[A\n",
      "\n",
      "Summarizing files for qwen2.5:7b:  85%|██████████████████████████████████████████████████████████▎          | 82/97 [2:28:40<08:10, 32.72s/it, file=CJG - samochody elektryczne mk2 1.txt, summaries_count=5, time=28.49 seconds]\u001b[A\u001b[A\n",
      "\n",
      "Summarizing files for qwen2.5:7b:  86%|███████████████████████████████████████████████████████████          | 83/97 [2:29:05<07:05, 30.39s/it, file=CJG - samochody elektryczne mk2 1.txt, summaries_count=5, time=28.49 seconds]\u001b[A\u001b[A\n",
      "\n",
      "Summarizing files for qwen2.5:7b:  86%|██████████████████████████████████████████████████████████████████████████████▋             | 83/97 [2:29:05<07:05, 30.39s/it, file=CJG - si 1.txt, summaries_count=5, time=24.94 seconds]\u001b[A\u001b[A\n",
      "\n",
      "Summarizing files for qwen2.5:7b:  87%|███████████████████████████████████████████████████████████████████████████████▋            | 84/97 [2:29:33<06:26, 29.71s/it, file=CJG - si 1.txt, summaries_count=5, time=24.94 seconds]\u001b[A\u001b[A\n",
      "\n",
      "Summarizing files for qwen2.5:7b:  87%|████████████████████████████████████████████████████████████████████████████▏           | 84/97 [2:29:33<06:26, 29.71s/it, file=CJG - wagner 1.txt, summaries_count=5, time=28.13 seconds]\u001b[A\u001b[A\n",
      "\n",
      "Summarizing files for qwen2.5:7b:  88%|█████████████████████████████████████████████████████████████████████████████           | 85/97 [2:29:58<05:38, 28.19s/it, file=CJG - wagner 1.txt, summaries_count=5, time=28.13 seconds]\u001b[A\u001b[A\n",
      "\n",
      "Summarizing files for qwen2.5:7b:  88%|█████████████████████████████████████████████████████████████████████████████▉           | 85/97 [2:29:58<05:38, 28.19s/it, file=CJG - wojna 1.txt, summaries_count=5, time=24.65 seconds]\u001b[A\u001b[A\n",
      "\n",
      "Summarizing files for qwen2.5:7b:  89%|██████████████████████████████████████████████████████████████████████████████▉          | 86/97 [2:30:20<04:48, 26.21s/it, file=CJG - wojna 1.txt, summaries_count=5, time=24.65 seconds]\u001b[A\u001b[A\n",
      "\n",
      "Summarizing files for qwen2.5:7b:  89%|██████████████████████████████████████████████████████████████████████████████          | 86/97 [2:30:20<04:48, 26.21s/it, file=CJG - woke cz1.txt, summaries_count=5, time=21.59 seconds]\u001b[A\u001b[A\n",
      "\n",
      "Summarizing files for qwen2.5:7b:  90%|██████████████████████████████████████████████████████████████████████████████▉         | 87/97 [2:30:42<04:11, 25.15s/it, file=CJG - woke cz1.txt, summaries_count=5, time=21.59 seconds]\u001b[A\u001b[A\n",
      "\n",
      "Summarizing files for qwen2.5:7b:  90%|█████████████████████████████████████████████████████████████████▍       | 87/97 [2:30:42<04:11, 25.15s/it, file=CJG - wyrownana plus wierszyk.txt, summaries_count=5, time=22.68 seconds]\u001b[A\u001b[A"
     ]
    },
    {
     "name": "stdout",
     "output_type": "stream",
     "text": [
      "Record already exists: voiceapp\\output\\summaries_folder\\qwen2.5_7b_20241213_204631\\CJG - zarobki 1-summary_1.txt -> C:/Users/G/Documents/GitHub/audycje.com.pl/content/audio\\shorts\\CJG - zarobki 1.txt\n",
      "Record already exists: voiceapp\\output\\summaries_folder\\qwen2.5_7b_20241213_204631\\CJG - zarobki 1-summary_2.txt -> C:/Users/G/Documents/GitHub/audycje.com.pl/content/audio\\shorts\\CJG - zarobki 1.txt\n",
      "Record already exists: voiceapp\\output\\summaries_folder\\qwen2.5_7b_20241213_204631\\CJG - zarobki 1-summary_3.txt -> C:/Users/G/Documents/GitHub/audycje.com.pl/content/audio\\shorts\\CJG - zarobki 1.txt\n",
      "Record already exists: voiceapp\\output\\summaries_folder\\qwen2.5_7b_20241213_204631\\CJG - zarobki 1-summary_4.txt -> C:/Users/G/Documents/GitHub/audycje.com.pl/content/audio\\shorts\\CJG - zarobki 1.txt\n"
     ]
    },
    {
     "name": "stderr",
     "output_type": "stream",
     "text": [
      "\n",
      "\n",
      "Summarizing files for qwen2.5:7b:  91%|██████████████████████████████████████████████████████████████████▏      | 88/97 [2:31:31<04:49, 32.13s/it, file=CJG - wyrownana plus wierszyk.txt, summaries_count=5, time=22.68 seconds]\u001b[A\u001b[A\n",
      "\n",
      "Summarizing files for qwen2.5:7b:  91%|██████████████████████████████████████████████████████████████████████████████        | 88/97 [2:31:31<04:49, 32.13s/it, file=CJG - zarobki 1.txt, summaries_count=10, time=48.42 seconds]\u001b[A\u001b[A"
     ]
    },
    {
     "name": "stdout",
     "output_type": "stream",
     "text": [
      "Record already exists: voiceapp\\output\\summaries_folder\\qwen2.5_7b_20241213_204631\\CJG - zarobki 1-summary_5.txt -> C:/Users/G/Documents/GitHub/audycje.com.pl/content/audio\\shorts\\CJG - zarobki 1.txt\n"
     ]
    },
    {
     "name": "stderr",
     "output_type": "stream",
     "text": [
      "\n",
      "\n",
      "Summarizing files for qwen2.5:7b:  92%|██████████████████████████████████████████████████████████████████████████████▉       | 89/97 [2:31:55<03:57, 29.64s/it, file=CJG - zarobki 1.txt, summaries_count=10, time=48.42 seconds]\u001b[A\u001b[A\n",
      "\n",
      "Summarizing files for qwen2.5:7b:  92%|████████████████████████████████████████████████████████████████████▊      | 89/97 [2:31:55<03:57, 29.64s/it, file=CJG - zasoby strategiczne 1.txt, summaries_count=5, time=23.83 seconds]\u001b[A\u001b[A"
     ]
    },
    {
     "name": "stdout",
     "output_type": "stream",
     "text": [
      "Record already exists: voiceapp\\output\\summaries_folder\\qwen2.5_7b_20241213_204631\\CJG - zus 1-summary_1.txt -> C:/Users/G/Documents/GitHub/audycje.com.pl/content/audio\\shorts\\CJG - zus 1.txt\n",
      "Record already exists: voiceapp\\output\\summaries_folder\\qwen2.5_7b_20241213_204631\\CJG - zus 1-summary_2.txt -> C:/Users/G/Documents/GitHub/audycje.com.pl/content/audio\\shorts\\CJG - zus 1.txt\n",
      "Record already exists: voiceapp\\output\\summaries_folder\\qwen2.5_7b_20241213_204631\\CJG - zus 1-summary_3.txt -> C:/Users/G/Documents/GitHub/audycje.com.pl/content/audio\\shorts\\CJG - zus 1.txt\n",
      "Record already exists: voiceapp\\output\\summaries_folder\\qwen2.5_7b_20241213_204631\\CJG - zus 1-summary_4.txt -> C:/Users/G/Documents/GitHub/audycje.com.pl/content/audio\\shorts\\CJG - zus 1.txt\n"
     ]
    },
    {
     "name": "stderr",
     "output_type": "stream",
     "text": [
      "\n",
      "\n",
      "Summarizing files for qwen2.5:7b:  93%|█████████████████████████████████████████████████████████████████████▌     | 90/97 [2:32:49<04:20, 37.18s/it, file=CJG - zasoby strategiczne 1.txt, summaries_count=5, time=23.83 seconds]\u001b[A\u001b[A\n",
      "\n",
      "Summarizing files for qwen2.5:7b:  93%|██████████████████████████████████████████████████████████████████████████████████▌      | 90/97 [2:32:49<11:53, 101.89s/it, file=CJG - zus 1.txt, summaries_count=10, time=54.76 seconds]\u001b[A\u001b[A"
     ]
    },
    {
     "name": "stdout",
     "output_type": "stream",
     "text": [
      "Record already exists: voiceapp\\output\\summaries_folder\\qwen2.5_7b_20241213_204631\\CJG - zus 1-summary_5.txt -> C:/Users/G/Documents/GitHub/audycje.com.pl/content/audio\\shorts\\CJG - zus 1.txt\n"
     ]
    },
    {
     "name": "stderr",
     "output_type": "stream",
     "text": [
      "\n"
     ]
    }
   ],
   "source": [
    "\n",
    "def main():\n",
    "    \"\"\"Main function to run the program.\"\"\"\n",
    "    models = [        \n",
    "        # 'mistral:7b',         \n",
    "        #'llama3.2:3b',\n",
    "        #'qwen2:7b',\n",
    "        'mistral-small',\n",
    "        # 'yi:6b',\n",
    "        # 'glm4:9b',\n",
    "        # 'qwen2.5:7b',\n",
    "    ]\n",
    "    tokenizer = AutoTokenizer.from_pretrained(\"sentence-transformers/all-distilroberta-v1\")\n",
    "    embed_model = AutoModel.from_pretrained(\"sentence-transformers/all-distilroberta-v1\")\n",
    "    file_paths = load_file_paths('voiceapp\\\\lista-1.txt')\n",
    "\n",
    "    for model_name in models:\n",
    "        process_files_for_model(model_name, file_paths, tokenizer, embed_model)\n",
    "\n",
    "\n",
    "if __name__ == \"__main__\":\n",
    "    main()"
   ]
  },
  {
   "cell_type": "code",
   "execution_count": null,
   "id": "5a11d33d-bf4e-432d-a5a4-986fc62e3e97",
   "metadata": {},
   "outputs": [],
   "source": [
    "#1 Prompt version\n",
    "def generate_summaries_for_chunk(chunk, model_name, tokenizer, embed_model, output_folder):\n",
    "    \"\"\"Generate summary for a single chunk of text.\"\"\"\n",
    "    response = ollama.chat(\n",
    "        model=model_name,\n",
    "        messages=[{\n",
    "            \"role\": \"assistant\",\n",
    "            \"content\": f\"\"\"\n",
    "                ---\n",
    "                **\"You are a copywriter. Your task is to summarize the provided text according to the following framework:**\n",
    "                1. **Key Themes**: Identify and explain the main themes or topics discussed in the text.\n",
    "                2. **Impacts**: Assess the broader impacts, highlighting economic, technological, political, and social dimensions.\n",
    "                3. **Examples and Evidence**: Draw connections to real-world examples or supporting evidence that underline the key points.\n",
    "                4. **Opportunities and Risks**: Explore potential opportunities and risks suggested by the text.\n",
    "                5. **Conclusion**: Summarize the implications and suggest future considerations or actions that align with the insights presented in the text.\n",
    "                ---\n",
    "            \"\"\",\n",
    "            \"role\": \"user\",\n",
    "            \"content\": chunk,\n",
    "        }]\n",
    "    )\n",
    "    return extract_summary(response)"
   ]
  },
  {
   "cell_type": "code",
   "execution_count": null,
   "id": "0b8de6ae-dec2-4ddb-a9e7-8b8b1090ddc6",
   "metadata": {},
   "outputs": [],
   "source": [
    "def generate_summaries_for_chunk(chunk, model_name, tokenizer, embed_model, output_folder):\n",
    "    \"\"\"Generate summary for a single chunk of text.\"\"\"\n",
    "    response = ollama.chat(\n",
    "        model=model_name,\n",
    "        messages=[{\n",
    "            \"role\": \"user\",\n",
    "            \"content\": f\"\"\"\n",
    "                ---\n",
    "                **\"You are a copywriter. Your task is to summarize the provided text according to the following framework:**\n",
    "                1. **Key Themes**: Identify and explain the main themes or topics discussed in the text.\n",
    "                2. **Impacts**: Assess the broader impacts, highlighting economic, technological, political, and social dimensions.\n",
    "                3. **Examples and Evidence**: Draw connections to real-world examples or supporting evidence that underline the key points.\n",
    "                4. **Opportunities and Risks**: Explore potential opportunities and risks suggested by the text.\n",
    "                5. **Conclusion**: Summarize the implications and suggest future considerations or actions that align with the insights presented in the text.\n",
    "                ---\n",
    "            \"{chunk}\" \"\"\"\n",
    "        }]\n",
    "    )\n",
    "    return extract_summary(response)"
   ]
  },
  {
   "cell_type": "code",
   "execution_count": null,
   "id": "f6e83f01-874f-44c8-a689-c36cc844ad82",
   "metadata": {},
   "outputs": [],
   "source": [
    "def generate_summaries_for_chunk(chunk, model_name, tokenizer, embed_model, output_folder):\n",
    "    \"\"\"Generate summary for a single chunk of text.\"\"\"\n",
    "    response = ollama.chat(\n",
    "        model=model_name,\n",
    "        messages=[{\n",
    "            \"role\": \"user\",\n",
    "            \"content\": f\"\"\"\n",
    "                Imagine you are a university professor specializing in social sciences, particularly in the field of technology and its societal impacts. You are tasked with summarizing an academic article about the influence of emerging technologies, such as artificial intelligence (AI) and automation, on global economies and workforces. The article includes case studies, statistical data, and theoretical frameworks.\n",
    "\n",
    "                Please provide a detailed and well-structured summary of the article, focusing on the following elements:\n",
    "                \n",
    "                1. **Introduction**: Explain the topic of the article, including the emerging technologies being discussed and their broader societal and economic implications. Provide context on why this topic is significant.\n",
    "                2. **Main arguments**: Describe the key discussions or theories presented in the article. Include insights into the challenges and opportunities these technologies create, supported by relevant examples or case studies discussed in the text.\n",
    "                3. **Findings and conclusions**: Outline the main conclusions of the article, including any recommendations, policy suggestions, or future considerations highlighted by the authors.\n",
    "                \n",
    "                Avoid including specific data points, figures, or direct quotes, but ensure that the summary captures the depth and breadth of the article's content. Maintain a formal and academic tone, ensuring the summary is clear, coherent, and suitable for professional use.\n",
    "                \n",
    "                ---\n",
    "                \n",
    "                **Example of the expected summary:**\n",
    "                \n",
    "                1. **Introduction**: This article examines the societal and economic impacts of emerging technologies, particularly artificial intelligence (AI) and automation, focusing on their transformative effects on industries and labor markets worldwide. It highlights the growing significance of these technologies in reshaping global economies and emphasizes the urgency of understanding their implications for workforce adaptation.  \n",
    "                2. **Main arguments**: The article explores how automation and AI have the potential to displace traditional jobs while simultaneously creating new roles in tech-related fields. It provides case studies from countries like the United States, China, and Germany, showcasing varying strategies for adaptation. Challenges such as skill gaps and economic inequality are discussed alongside opportunities for innovation and efficiency.  \n",
    "                3. **Findings and conclusions**: The authors conclude that governments and industries must collaborate to address the challenges posed by technological advancements. Policy recommendations include investing in workforce retraining programs, emphasizing STEM education, and creating safety nets for displaced workers. The article underscores the need for proactive measures to ensure that technological progress leads to inclusive economic growth.  \n",
    "\n",
    "            \"{chunk}\" \"\"\"\n",
    "        }]\n",
    "    )\n",
    "    return extract_summary(response)"
   ]
  }
 ],
 "metadata": {
  "kernelspec": {
   "display_name": "my-conda-env-kernel",
   "language": "python",
   "name": "my-conda-env-kernel"
  },
  "language_info": {
   "codemirror_mode": {
    "name": "ipython",
    "version": 3
   },
   "file_extension": ".py",
   "mimetype": "text/x-python",
   "name": "python",
   "nbconvert_exporter": "python",
   "pygments_lexer": "ipython3",
   "version": "3.12.7"
  }
 },
 "nbformat": 4,
 "nbformat_minor": 5
}
